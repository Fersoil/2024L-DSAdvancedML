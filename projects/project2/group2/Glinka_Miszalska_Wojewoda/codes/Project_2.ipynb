{
 "cells": [
  {
   "cell_type": "markdown",
   "id": "69ba1d794285515e",
   "metadata": {
    "collapsed": false
   },
   "source": [
    "# Advanced Machine Learning\n",
    "## Project 2\n",
    "***Zuzanna Glinka, Nikola Miszalska, Malwina Wojewoda***"
   ]
  },
  {
   "cell_type": "code",
   "execution_count": 1,
   "id": "initial_id",
   "metadata": {
    "collapsed": true,
    "ExecuteTime": {
     "end_time": "2024-06-03T15:47:06.046125Z",
     "start_time": "2024-06-03T15:47:03.383543100Z"
    }
   },
   "outputs": [],
   "source": [
    "import pandas as pd\n",
    "import numpy as np\n",
    "from sklearn.discriminant_analysis import QuadraticDiscriminantAnalysis\n",
    "from sklearn.model_selection import train_test_split, KFold\n",
    "from sklearn.feature_selection import RFECV, RFE\n",
    "from sklearn.linear_model import Ridge, LogisticRegression\n",
    "from sklearn.naive_bayes import GaussianNB\n",
    "from sklearn.neighbors import RadiusNeighborsClassifier\n",
    "from sklearn.neural_network import MLPClassifier\n",
    "from sklearn.preprocessing import StandardScaler, MinMaxScaler\n",
    "from sklearn.ensemble import RandomForestClassifier, AdaBoostClassifier, VotingClassifier\n",
    "from sklearn.inspection import permutation_importance\n",
    "from sklearn.svm import SVC\n",
    "from xgboost import XGBRFClassifier\n",
    "from lightgbm import LGBMClassifier\n",
    "from itertools import compress, combinations\n",
    "import matplotlib.pyplot as plt\n",
    "import plotly.graph_objects as go\n",
    "import seaborn as sns\n",
    "from boruta import BorutaPy\n",
    "import optuna\n",
    "import optuna.visualization as vis\n",
    "import ast\n",
    "import warnings\n",
    "\n",
    "from eda import features_correlations, target_correlations, select_features_with_rfecv\n",
    "from model_selection import explore_models, grid_search_CV, multiple_cv\n",
    "from utils import *\n",
    "np.random.seed(0)\n",
    "warnings.filterwarnings('ignore') "
   ]
  },
  {
   "cell_type": "code",
   "execution_count": 2,
   "id": "1a56add6b3b9aee7",
   "metadata": {
    "collapsed": false,
    "ExecuteTime": {
     "end_time": "2024-06-03T15:47:06.458392900Z",
     "start_time": "2024-06-03T15:47:06.046125Z"
    }
   },
   "outputs": [],
   "source": [
    "X = pd.read_csv('data/x_train.txt', delimiter=' ', header=None)\n",
    "y = pd.read_csv('data/y_train.txt', header=None)"
   ]
  },
  {
   "cell_type": "code",
   "execution_count": null,
   "id": "f8b5ae56",
   "metadata": {
    "ExecuteTime": {
     "end_time": "2024-05-30T08:09:22.242587Z",
     "start_time": "2024-05-30T08:09:22.107742100Z"
    }
   },
   "outputs": [],
   "source": [
    "x_train, x_val, y_train, y_val = train_test_split(X, y, test_size = 0.3)"
   ]
  },
  {
   "cell_type": "code",
   "execution_count": null,
   "id": "e9c7d84e",
   "metadata": {
    "ExecuteTime": {
     "end_time": "2024-05-30T08:09:25.681277100Z",
     "start_time": "2024-05-30T08:09:25.638903Z"
    }
   },
   "outputs": [],
   "source": [
    "y_train =y_train[0].reset_index(drop = True)\n",
    "y_val = y_val[0].reset_index(drop = True)"
   ]
  },
  {
   "cell_type": "code",
   "execution_count": null,
   "id": "4c60a07b",
   "metadata": {
    "ExecuteTime": {
     "end_time": "2024-05-30T08:09:39.709187800Z",
     "start_time": "2024-05-30T08:09:39.562006500Z"
    }
   },
   "outputs": [],
   "source": [
    "scaler = StandardScaler()\n",
    "x_train_standardized = scaler.fit_transform(x_train)\n",
    "x_val_standardized = scaler.transform(x_val)"
   ]
  },
  {
   "cell_type": "markdown",
   "id": "71edcc2dd5c2c010",
   "metadata": {
    "collapsed": false
   },
   "source": [
    "## EDA"
   ]
  },
  {
   "cell_type": "markdown",
   "id": "43e323aa8dce666a",
   "metadata": {
    "collapsed": false
   },
   "source": [
    "#### Correlations between features"
   ]
  },
  {
   "cell_type": "code",
   "execution_count": null,
   "id": "adc15b7113793198",
   "metadata": {
    "ExecuteTime": {
     "end_time": "2024-05-30T08:10:32.920253600Z",
     "start_time": "2024-05-30T08:10:25.787657Z"
    },
    "collapsed": false
   },
   "outputs": [],
   "source": [
    "merged_corr_df, linear_correlations, non_linear_correlations = features_correlations(X)\n",
    "merged_corr_df.head()"
   ]
  },
  {
   "cell_type": "code",
   "execution_count": null,
   "id": "bdc32a76a0793d3a",
   "metadata": {
    "ExecuteTime": {
     "end_time": "2024-05-30T08:10:34.351269Z",
     "start_time": "2024-05-30T08:10:32.916774600Z"
    },
    "collapsed": false
   },
   "outputs": [],
   "source": [
    "fig = go.Figure(data=go.Heatmap(z=non_linear_correlations.values), \n",
    "                layout=go.Layout(width=800, height=800))\n",
    "fig.update_layout(\n",
    "    title=\"Correlation heatmap\",\n",
    "    xaxis=dict(title=\"Feature\"),\n",
    "    yaxis=dict(title=\"Feature\"),\n",
    "    width=500,\n",
    "    height=500\n",
    ")\n",
    "fig.show()"
   ]
  },
  {
   "cell_type": "markdown",
   "id": "2a4026787a165fa3",
   "metadata": {
    "collapsed": false
   },
   "source": [
    "Highly correlated are variables from 0 to 9 between each other.\n",
    "Correlated more than other are variables form 0 to 9 with variables form 100 to 109.\n",
    "Remaining variables are not correlated."
   ]
  },
  {
   "cell_type": "markdown",
   "id": "27971e61abe5670d",
   "metadata": {
    "collapsed": false
   },
   "source": [
    "#### Pair plot for highly correlated variables"
   ]
  },
  {
   "cell_type": "code",
   "execution_count": null,
   "id": "9176f6c41f5a83ce",
   "metadata": {
    "ExecuteTime": {
     "end_time": "2024-05-30T08:12:55.810872100Z",
     "start_time": "2024-05-30T08:12:14.625083Z"
    },
    "collapsed": false
   },
   "outputs": [],
   "source": [
    "pairplot = sns.pairplot(X.iloc[:, 0:15])\n",
    "pairplot.fig.suptitle(\"Pairplot of features 0-14\", fontsize=60, y=1.02)\n",
    "for ax in pairplot.axes.flatten():\n",
    "    ax.set_xlabel(ax.get_xlabel(), fontsize=50)\n",
    "    ax.set_ylabel(ax.get_ylabel(), fontsize=50)\n",
    "plt.show()"
   ]
  },
  {
   "cell_type": "markdown",
   "id": "2806898d9fe8c972",
   "metadata": {
    "collapsed": false
   },
   "source": [
    "#### Mean and variance fo features"
   ]
  },
  {
   "cell_type": "code",
   "execution_count": null,
   "id": "8399d0a0efcafc44",
   "metadata": {
    "ExecuteTime": {
     "end_time": "2024-05-26T23:02:05.893312600Z",
     "start_time": "2024-05-26T23:02:05.891147900Z"
    },
    "collapsed": false
   },
   "outputs": [],
   "source": [
    "df_variance = pd.DataFrame(X.var().round(1), columns=['variance']).reset_index()\n",
    "df_mean = pd.DataFrame(X.mean().round(1), columns=['mean']).reset_index()\n",
    "df_statistics = pd.merge(df_variance, df_mean, on='index').sort_values(by=['mean', 'variance', 'index'])\n",
    "df_statistics"
   ]
  },
  {
   "cell_type": "markdown",
   "id": "2c2b074e01fec289",
   "metadata": {
    "collapsed": false
   },
   "source": [
    "#### Correlations between features and target variable"
   ]
  },
  {
   "cell_type": "code",
   "execution_count": null,
   "id": "656144cd96dfd2f7",
   "metadata": {
    "ExecuteTime": {
     "end_time": "2024-05-26T23:02:07.680697500Z",
     "start_time": "2024-05-26T23:02:05.892151Z"
    },
    "collapsed": false
   },
   "outputs": [],
   "source": [
    "target_correlations(X, y[0])"
   ]
  },
  {
   "cell_type": "markdown",
   "id": "1bdb5c6fc7ba43c4",
   "metadata": {
    "collapsed": false
   },
   "source": [
    "## Feature selection"
   ]
  },
  {
   "cell_type": "code",
   "execution_count": null,
   "id": "58f6db1a6277150a",
   "metadata": {
    "ExecuteTime": {
     "end_time": "2024-05-26T23:03:02.679935200Z",
     "start_time": "2024-05-26T23:03:02.646369100Z"
    },
    "collapsed": false
   },
   "outputs": [],
   "source": [
    "df = pd.DataFrame(columns=['Method', 'Selected features', 'Importances'])\n",
    "df.to_csv('feature_selection.csv', index=False)"
   ]
  },
  {
   "cell_type": "markdown",
   "id": "66cf8290d2e13d00",
   "metadata": {
    "collapsed": false
   },
   "source": [
    "#### RFECV: Recursive Feature Elimination with Cross-Validation\n",
    "##### Random Forest"
   ]
  },
  {
   "cell_type": "code",
   "execution_count": null,
   "id": "d34cf5a3",
   "metadata": {},
   "outputs": [],
   "source": [
    "rf = RandomForestClassifier(n_estimators=100, random_state=17)\n",
    "selected_features, feature_importances = select_features_with_rfecv(X, y, model=rf)"
   ]
  },
  {
   "cell_type": "markdown",
   "id": "d56f404373904a79",
   "metadata": {
    "collapsed": false
   },
   "source": [
    "Selected features (saved just in case because it's time-consuming): [8, 100, 101, 102, 103, 104, 105]"
   ]
  },
  {
   "cell_type": "markdown",
   "id": "28304d9146a8fd10",
   "metadata": {
    "collapsed": false
   },
   "source": [
    "##### LightGBM"
   ]
  },
  {
   "cell_type": "code",
   "execution_count": null,
   "id": "3ca5bfbd18d1327a",
   "metadata": {
    "ExecuteTime": {
     "end_time": "2024-05-27T07:05:35.661758200Z",
     "start_time": "2024-05-27T03:31:39.211367700Z"
    },
    "collapsed": false
   },
   "outputs": [],
   "source": [
    "lgbm = LGBMClassifier(n_estimators=100, random_state=17, verbosity=-1)\n",
    "selected_features, feature_importances = select_features_with_rfecv(X, y, model=lgbm)"
   ]
  },
  {
   "cell_type": "markdown",
   "id": "cd886267fa2b2ea1",
   "metadata": {
    "collapsed": false
   },
   "source": [
    "Selected features: [0, 100, 101, 102, 103, 104, 105, 403]"
   ]
  },
  {
   "cell_type": "markdown",
   "id": "ef9571c7d501ee43",
   "metadata": {
    "collapsed": false
   },
   "source": [
    "##### Logistic Regression"
   ]
  },
  {
   "cell_type": "code",
   "execution_count": null,
   "id": "2fec20044099e8aa",
   "metadata": {
    "ExecuteTime": {
     "end_time": "2024-05-28T18:25:03.455601700Z",
     "start_time": "2024-05-28T18:18:36.587517100Z"
    },
    "collapsed": false
   },
   "outputs": [],
   "source": [
    "lr = LogisticRegression()  \n",
    "selected_features, feature_importances = select_features_with_rfecv(X, y, model=lr)"
   ]
  },
  {
   "cell_type": "markdown",
   "id": "ea8c19bf",
   "metadata": {},
   "source": [
    "### Selection with boruta"
   ]
  },
  {
   "cell_type": "code",
   "execution_count": null,
   "id": "7f902439",
   "metadata": {
    "ExecuteTime": {
     "end_time": "2024-05-30T08:16:06.101188900Z",
     "start_time": "2024-05-30T08:14:42.056174400Z"
    }
   },
   "outputs": [],
   "source": [
    "rf = RandomForestClassifier(n_jobs=-1, class_weight='balanced', max_depth=5)\n",
    "#workaroud for outdated package\n",
    "np.int = np.int32\n",
    "np.float = np.float64\n",
    "np.bool= np.bool_\n",
    "\n",
    "boruta = BorutaPy(estimator=rf, n_estimators='auto', verbose=0, random_state=1)\n",
    "boruta.fit(np.array(X), np.array(y))\n",
    "selected_features = X.columns[boruta.support_].tolist()\n",
    "print('Selected features: ', selected_features)\n",
    "boruta_importance = [1/i for i in boruta.ranking_]"
   ]
  },
  {
   "cell_type": "markdown",
   "id": "6ae37c20",
   "metadata": {},
   "source": [
    "### Feature importance with RF\n",
    "#### Gini"
   ]
  },
  {
   "cell_type": "code",
   "execution_count": null,
   "id": "5de689e7",
   "metadata": {
    "ExecuteTime": {
     "end_time": "2024-05-30T08:16:50.221851200Z",
     "start_time": "2024-05-30T08:16:37.406185800Z"
    }
   },
   "outputs": [],
   "source": [
    "rf_gini = RandomForestClassifier(random_state=17, criterion='gini').fit(X, y)\n",
    "selected_features = X.columns[np.argsort(rf_gini.feature_importances_)[::-1][:10]]\n",
    "print('Selected features: ', selected_features)\n",
    "rf_gini_importance = rf_gini.feature_importances_"
   ]
  },
  {
   "cell_type": "markdown",
   "id": "3a69ee3287d54e00",
   "metadata": {
    "collapsed": false
   },
   "source": [
    "#### Entropy"
   ]
  },
  {
   "cell_type": "code",
   "execution_count": null,
   "id": "de99b509e05cdab8",
   "metadata": {
    "ExecuteTime": {
     "end_time": "2024-05-30T08:17:08.857627200Z",
     "start_time": "2024-05-30T08:16:50.221851200Z"
    },
    "collapsed": false
   },
   "outputs": [],
   "source": [
    "rf_entropy = RandomForestClassifier(random_state=17, criterion='entropy').fit(X, y)\n",
    "selected_features = X.columns[np.argsort(rf_entropy.feature_importances_)[::-1][:10]]\n",
    "print('Selected features: ', selected_features)\n",
    "rf_entropy_importance = rf_entropy.feature_importances_"
   ]
  },
  {
   "cell_type": "markdown",
   "id": "de988369",
   "metadata": {},
   "source": [
    "### Ridge -  permutation importance"
   ]
  },
  {
   "cell_type": "code",
   "execution_count": null,
   "id": "d5836661",
   "metadata": {
    "ExecuteTime": {
     "end_time": "2024-05-30T08:17:42.747896500Z",
     "start_time": "2024-05-30T08:17:08.861837400Z"
    }
   },
   "outputs": [],
   "source": [
    "model = Ridge(alpha=1e-5).fit(x_train_standardized, y_train)\n",
    "model.score(x_val_standardized, y_val)\n",
    "r = permutation_importance(model, x_val_standardized, y_val,\n",
    "                           n_repeats=30,\n",
    "                           random_state=0)\n",
    "r_permutation_importance = r.importances_mean\n",
    "print('Selected features: ', r.importances_mean.argsort()[::-1][:10])"
   ]
  },
  {
   "cell_type": "markdown",
   "id": "de45796c",
   "metadata": {},
   "source": [
    "### XGBoost Random Forest - permutation importance"
   ]
  },
  {
   "cell_type": "code",
   "execution_count": null,
   "id": "46c6a095",
   "metadata": {
    "ExecuteTime": {
     "end_time": "2024-05-30T08:18:41.096579500Z",
     "start_time": "2024-05-30T08:17:42.747896500Z"
    }
   },
   "outputs": [],
   "source": [
    "model = XGBRFClassifier().fit(x_train_standardized, y_train)\n",
    "model.score(x_val_standardized, y_val)\n",
    "xgb = permutation_importance(model, x_val_standardized, y_val,\n",
    "                           n_repeats=30,\n",
    "                           random_state=0)\n",
    "print('Selected features: ',xgb.importances_mean.argsort()[::-1][:10])\n",
    "xgb_permutation_importance = xgb.importances_mean"
   ]
  },
  {
   "cell_type": "markdown",
   "id": "de5c793b",
   "metadata": {},
   "source": [
    "### AdaBoost Random Forest - permutation importance"
   ]
  },
  {
   "cell_type": "code",
   "execution_count": null,
   "id": "c33108e5",
   "metadata": {
    "ExecuteTime": {
     "end_time": "2024-05-30T08:50:47.262827200Z",
     "start_time": "2024-05-30T08:18:41.073781500Z"
    }
   },
   "outputs": [],
   "source": [
    "model = AdaBoostClassifier().fit(x_train_standardized, y_train)\n",
    "model.score(x_val_standardized, y_val)\n",
    "ada = permutation_importance(model, x_val_standardized, y_val,\n",
    "                           n_repeats=30,\n",
    "                           random_state=0)\n",
    "print('Selected features: ',ada.importances_mean.argsort()[::-1][:10])\n",
    "adaboost_permutation_importance = ada.importances_mean"
   ]
  },
  {
   "cell_type": "markdown",
   "id": "c8d2f680",
   "metadata": {},
   "source": [
    "### RFE"
   ]
  },
  {
   "cell_type": "code",
   "execution_count": null,
   "id": "a651b6e4",
   "metadata": {
    "ExecuteTime": {
     "end_time": "2024-05-30T10:03:09.427540400Z",
     "start_time": "2024-05-30T08:50:47.262827200Z"
    }
   },
   "outputs": [],
   "source": [
    "etc = RandomForestClassifier(n_estimators=100, criterion='gini')\n",
    "rfe = RFE(etc)\n",
    "rfe.fit(x_train_standardized, y_train.to_numpy().ravel())\n",
    "\n",
    "x_train_dropped = x_train_standardized[:, rfe.support_]\n",
    "\n",
    "etc = RandomForestClassifier(n_estimators=100, criterion='gini')\n",
    "rfecv = RFECV(etc, cv=3)\n",
    "rfecv.fit(x_train_dropped, y_train.to_numpy().ravel())\n",
    "x_train_final = x_train_dropped[:, rfecv.support_]\n",
    "sel_f = [i for i, e in  enumerate(rfe.support_) if e ]\n",
    "selected_columns_rfe = list(compress(sel_f, rfecv.support_))\n",
    "importance_rfe = [1/len(selected_columns_rfe) if i in selected_columns_rfe else 0 for i in range(500)]\n",
    "print('Selected features: ',selected_columns_rfe)"
   ]
  },
  {
   "cell_type": "markdown",
   "id": "c2879092",
   "metadata": {},
   "source": [
    "### Voting ensemble"
   ]
  },
  {
   "cell_type": "code",
   "execution_count": null,
   "id": "13de2e88",
   "metadata": {
    "ExecuteTime": {
     "end_time": "2024-05-30T10:03:09.544299600Z",
     "start_time": "2024-05-30T10:03:09.394295700Z"
    }
   },
   "outputs": [],
   "source": [
    "weights = np.zeros(500).reshape(-1, 1)\n",
    "for importance in [boruta_importance ,rf_gini_importance, rf_entropy_importance, r_permutation_importance, xgb_permutation_importance, adaboost_permutation_importance, importance_rfe]:\n",
    "    ss = MinMaxScaler()\n",
    "    weights += ss.fit_transform(np.array(importance).reshape(-1, 1))\n",
    "weights = (weights+importance_rfe)/7 \n",
    "important_feature = weights.T[0].argsort()[::-1]\n",
    "weights_sorted = weights[important_feature]"
   ]
  },
  {
   "cell_type": "code",
   "execution_count": null,
   "id": "6cc4674b",
   "metadata": {
    "ExecuteTime": {
     "end_time": "2024-05-30T10:39:53.064842200Z",
     "start_time": "2024-05-30T10:39:51.465567200Z"
    }
   },
   "outputs": [],
   "source": [
    "top_20_features = [str(i+1) for i in important_feature[:20]]\n",
    "top_20_values = weights_sorted.T[0][:20]\n",
    "\n",
    "plt.figure(figsize=(10, 5))\n",
    "plt.bar(top_20_features, top_20_values)\n",
    "plt.xlabel('Feature')\n",
    "plt.ylabel('Mean importance')\n",
    "plt.title('Top 20 most important features')\n",
    "plt.tight_layout()\n",
    "plt.show()"
   ]
  },
  {
   "cell_type": "markdown",
   "source": [
    "## Initial model exploration"
   ],
   "metadata": {
    "collapsed": false
   },
   "id": "2943a478f5a29e98"
  },
  {
   "cell_type": "code",
   "execution_count": null,
   "outputs": [],
   "source": [
    "initial_exploration_results = explore_models(x_train, y_train, x_val, y_val)"
   ],
   "metadata": {
    "collapsed": false
   },
   "id": "827406c76c615e56"
  },
  {
   "cell_type": "code",
   "execution_count": null,
   "outputs": [],
   "source": [
    "df_initial_models = pd.read_csv('results/initial_models_results.csv', header=None)\n",
    "df_initial_models.rename(columns={0: 'Model', 1: 'Features', 2: 'Score train', 3: 'Score valid'}, inplace=True)\n",
    "medians = df_initial_models.groupby(['Model'])['Score valid'].median().sort_values(ascending=False)\n",
    "df_initial_models['Model'] = pd.Categorical(df_initial_models['Model'], categories=medians.index, ordered=True)"
   ],
   "metadata": {
    "collapsed": false,
    "ExecuteTime": {
     "start_time": "2024-05-30T11:55:27.375709100Z"
    }
   },
   "id": "a86c0a986dd9ea38"
  },
  {
   "cell_type": "code",
   "execution_count": null,
   "outputs": [],
   "source": [
    "plt.figure(figsize=(14, 5))\n",
    "sns.boxplot(x='Model', y='Score valid', data=df_initial_models, width=0.5)\n",
    "plt.title('Distribution of custom metric scores across models')\n",
    "plt.xticks(rotation=60)\n",
    "plt.xlabel('Model')\n",
    "plt.ylabel('Custom metric value')\n",
    "plt.show()"
   ],
   "metadata": {
    "collapsed": false,
    "ExecuteTime": {
     "start_time": "2024-05-30T11:53:30.167605400Z"
    }
   },
   "id": "265debd18a51d4d6"
  },
  {
   "cell_type": "markdown",
   "source": [
    "## Testing AutoGluon "
   ],
   "metadata": {
    "collapsed": false
   },
   "id": "a2b036e2"
  },
  {
   "cell_type": "code",
   "execution_count": null,
   "outputs": [],
   "source": [
    "csv_file = 'results_automl.csv'\n",
    "for features in combinations([100, 102, 105, 103, 101, 104], r = 3):\n",
    "    m, path = calculate_metric_automl(features, X, y)\n",
    "    metric = np.mean(m)\n",
    "    row = {\n",
    "                'Features': [features],\n",
    "                'Mean metric': metric,\n",
    "                'paths': path\n",
    "            }\n",
    "    pd.DataFrame(row).to_csv(csv_file, mode='a',header=False, index=False)"
   ],
   "metadata": {
    "collapsed": false
   },
   "id": "58a27c29"
  },
  {
   "cell_type": "markdown",
   "source": [
    "## Tuning hyperperameters"
   ],
   "metadata": {
    "collapsed": false
   },
   "id": "ea2125b1cc125832"
  },
  {
   "cell_type": "code",
   "execution_count": null,
   "outputs": [],
   "source": [
    "X_= X[[100, 101, 102, 103, 104, 105, 8]]"
   ],
   "metadata": {
    "collapsed": false,
    "ExecuteTime": {
     "start_time": "2024-05-30T17:55:41.718232400Z"
    }
   },
   "id": "fddb32a7f2ff9b99"
  },
  {
   "cell_type": "markdown",
   "source": [
    "### Grid search"
   ],
   "metadata": {
    "collapsed": false
   },
   "id": "486b8b0493523c59"
  },
  {
   "cell_type": "markdown",
   "source": [
    "#### QDA"
   ],
   "metadata": {
    "collapsed": false
   },
   "id": "adfb79a9c6ff60bc"
  },
  {
   "cell_type": "code",
   "execution_count": null,
   "outputs": [],
   "source": [
    "qda_param_grid = {'reg_param': [i/10.0 for i in range(10)]} \n",
    "rf_results = grid_search_CV(QuadraticDiscriminantAnalysis, qda_param_grid, X_, y, range(2, 6))"
   ],
   "metadata": {
    "collapsed": false,
    "ExecuteTime": {
     "start_time": "2024-05-30T13:09:38.216390300Z"
    }
   },
   "id": "f953b326213ff076"
  },
  {
   "cell_type": "markdown",
   "source": [
    "#### SVC"
   ],
   "metadata": {
    "collapsed": false
   },
   "id": "6f0a8a614879f05"
  },
  {
   "cell_type": "code",
   "execution_count": null,
   "outputs": [],
   "source": [
    "svc_param_grid = {\n",
    "    'C': [0.001, 0.01, 0.1, 0.5, 1, 10, 20, 50, 100, 150], \n",
    "    'gamma': [1, 0.1, 0.01, 0.001, 'scale', 'auto'], \n",
    "    'kernel': ['linear', 'rbf', 'poly', 'sigmoid'],\n",
    "    'degree': [1, 2, 3, 4, 5],\n",
    "    'coef0': [0, 0.1, 0.5, 1, 2, 5],\n",
    "}\n",
    "\n",
    "svc_results = grid_search_CV(SVC, svc_param_grid, X_, y, range(2, 6))"
   ],
   "metadata": {
    "collapsed": false
   },
   "id": "14c4e2b1a3c58151"
  },
  {
   "cell_type": "markdown",
   "source": [
    "#### Radius Neighbors Classifier"
   ],
   "metadata": {
    "collapsed": false
   },
   "id": "3b8cd65a52c71973"
  },
  {
   "cell_type": "code",
   "execution_count": null,
   "outputs": [],
   "source": [
    "rnc_param_grid = {\n",
    "    'radius': [1.8, 2, 3, 5, 10],\n",
    "    'weights': ['uniform', 'distance'],\n",
    "    'algorithm': ['auto', 'ball_tree', 'kd_tree', 'brute'],\n",
    "    'leaf_size': [10, 20, 30, 40, 50],\n",
    "    'p': [1, 2]\n",
    "}\n",
    "\n",
    "rnc_results = grid_search_CV(RadiusNeighborsClassifier, rnc_param_grid, X_, y, range(2, 6))"
   ],
   "metadata": {
    "collapsed": false
   },
   "id": "12264609eff290ec"
  },
  {
   "cell_type": "markdown",
   "source": [
    "#### Multi-layer Perceptron"
   ],
   "metadata": {
    "collapsed": false
   },
   "id": "116504f736b2d7cc"
  },
  {
   "cell_type": "code",
   "execution_count": null,
   "outputs": [],
   "source": [
    "mlp_param_grid = {\n",
    "    'hidden_layer_sizes': [(20,), (50,), (100,), (200,),  (50, 50), (100, 100), (200, 200), (100, 100, 100), (100, 100, 100, 100)],\n",
    "    'activation': ['identity', 'logistic', 'tanh', 'relu'],\n",
    "    'solver': ['lbfgs', 'sgd', 'adam'],\n",
    "    'alpha': [0.0001, 0.001, 0.01, 0.1],\n",
    "    'learning_rate': ['constant', 'invscaling', 'adaptive'],\n",
    "    'learning_rate_init': [0.001, 0.01, 0.1]\n",
    "}\n",
    "mlp_results = grid_search_CV(MLPClassifier, mlp_param_grid, X_, y, range(2, 6))"
   ],
   "metadata": {
    "collapsed": false
   },
   "id": "f94f2089288f1399"
  },
  {
   "cell_type": "markdown",
   "source": [
    "#### Gausian Naive Bayes"
   ],
   "metadata": {
    "collapsed": false
   },
   "id": "42c3eb9fc144b03d"
  },
  {
   "cell_type": "code",
   "execution_count": null,
   "outputs": [],
   "source": [
    "gnb_param_grid = {}\n",
    "gnb_results = grid_search_CV(GaussianNB, gnb_param_grid, X_, y, range(2, 6))"
   ],
   "metadata": {
    "collapsed": false
   },
   "id": "235be038115706e"
  },
  {
   "cell_type": "markdown",
   "source": [
    "### Optuna\n",
    "#### SVC"
   ],
   "metadata": {
    "collapsed": false
   },
   "id": "80cca737c2b28080"
  },
  {
   "cell_type": "code",
   "execution_count": null,
   "outputs": [],
   "source": [
    "def objective(trial):\n",
    "    C = trial.suggest_loguniform('C', 1e-5, 1e2)\n",
    "    kernel = trial.suggest_categorical('kernel', ['poly', 'rbf'])\n",
    "    gamma = trial.suggest_uniform('gamma', 1e-3, 1e1) \n",
    "    degree = trial.suggest_int('degree', 2, 5) if kernel == 'poly' else 3\n",
    "    coef0 = trial.suggest_uniform('coef0', 0.0, 5.0) if kernel == 'poly' else 0.0\n",
    "\n",
    "    svc = SVC(C=C, kernel=kernel, gamma=gamma, degree=degree, coef0=coef0, probability=True)\n",
    "    cv = KFold(n_splits=5, shuffle=True, random_state=17)\n",
    "    \n",
    "    custom_scores = []\n",
    "    for train_index, test_index in cv.split(X_, y):\n",
    "        X_train, X_test = X_.iloc[train_index], X_.iloc[test_index]\n",
    "        y_train, y_test = y.iloc[train_index], y.iloc[test_index]\n",
    "        \n",
    "        svc.fit(X_train, y_train)\n",
    "        y_pred = svc.predict_proba(X_test)\n",
    "        \n",
    "        score = custom_score(y_test, y_pred[:, 1], len(X_.columns))\n",
    "        custom_scores.append(score)\n",
    "    \n",
    "    mean_score = np.mean(custom_scores)\n",
    "\n",
    "    trial.set_user_attr('parameters', svc.get_params())\n",
    "    trial.set_user_attr('metric', mean_score)\n",
    "    return mean_score\n",
    "\n",
    "study = optuna.create_study(direction='maximize')\n",
    "try_these_parameters_first = [\n",
    "    {'C': 0.1, 'gamma': 0.05, 'kernel': 'poly', 'degree': 2, 'coef0': 1}, \n",
    "    {'C': 0.001, 'gamma': 0.5, 'kernel': 'poly', 'degree': 3, 'coef0': 2},\n",
    "    {'C': 0.01, 'gamma': 0.1, 'kernel': 'poly', 'degree': 3, 'coef0': 2},\n",
    "    {'C': 0.1, 'gamma': 1, 'kernel': 'poly', 'degree': 2, 'coef0': 1},\n",
    "    {'C': 0.01, 'gamma': 1, 'kernel': 'poly', 'degree': 3, 'coef0': 2}\n",
    "]\n",
    "study.enqueue_trial(try_these_parameters_first[0])\n",
    "study.enqueue_trial(try_these_parameters_first[1])\n",
    "study.enqueue_trial(try_these_parameters_first[2])\n",
    "study.enqueue_trial(try_these_parameters_first[3])\n",
    "study.enqueue_trial(try_these_parameters_first[4])\n",
    "study.optimize(objective, n_trials=10)\n",
    "\n",
    "print(f\"Best Score: {study.best_value}\")\n",
    "print(f\"Best Parameters: {study.best_params}\")"
   ],
   "metadata": {
    "collapsed": false,
    "ExecuteTime": {
     "start_time": "2024-05-30T17:57:35.031855900Z"
    }
   },
   "id": "76d6243713c943a0"
  },
  {
   "cell_type": "code",
   "execution_count": null,
   "outputs": [],
   "source": [
    "vis.plot_optimization_history(study)"
   ],
   "metadata": {
    "collapsed": false
   },
   "id": "1ac63fb705c4966d"
  },
  {
   "cell_type": "code",
   "execution_count": null,
   "outputs": [],
   "source": [
    "vis.plot_param_importances(study)"
   ],
   "metadata": {
    "collapsed": false
   },
   "id": "effe32384dd7c330"
  },
  {
   "cell_type": "code",
   "execution_count": null,
   "outputs": [],
   "source": [
    "vis.plot_parallel_coordinate(study)"
   ],
   "metadata": {
    "collapsed": false
   },
   "id": "7ddf5c52cf667840"
  },
  {
   "cell_type": "markdown",
   "id": "2591471c77846a6a",
   "metadata": {
    "collapsed": false
   },
   "source": [
    "## Testing configurations with high score\n",
    "#### SVC"
   ]
  },
  {
   "cell_type": "code",
   "execution_count": null,
   "outputs": [],
   "source": [
    "def parse_column(s):\n",
    "    return ast.literal_eval(s) "
   ],
   "metadata": {
    "collapsed": false
   },
   "id": "7a57d493fcdcd825"
  },
  {
   "cell_type": "code",
   "execution_count": null,
   "id": "ef48127fbcc9b60a",
   "metadata": {
    "ExecuteTime": {
     "end_time": "2024-05-30T18:33:41.614985700Z",
     "start_time": "2024-05-30T18:33:39.929683200Z"
    },
    "collapsed": false
   },
   "outputs": [],
   "source": [
    "df = pd.read_csv('results/mean_results_svc.csv', header=None)\n",
    "df.rename(columns={0: 'Features', 1: 'Hyperparameters', 2:'Score train', 3: 'Score valid'}, inplace=True)\n",
    "df['Hyperparameters'] = df['Hyperparameters'].apply(parse_column)\n",
    "df['Features'] = df['Features'].apply(parse_column)\n",
    "df['Score valid'] = pd.to_numeric(df['Score valid'])\n",
    "df = df[df['Score valid'] >= 6900]\n",
    "config_sets = list(zip(df['Features'], df['Hyperparameters']))"
   ]
  },
  {
   "cell_type": "code",
   "execution_count": null,
   "outputs": [],
   "source": [
    "best_configs_results_svc = multiple_cv(X_, y, config_sets, SVC, probability=True)"
   ],
   "metadata": {
    "collapsed": false,
    "ExecuteTime": {
     "start_time": "2024-05-30T19:19:09.732358500Z"
    }
   },
   "id": "ce5aebeab91a8fdc"
  },
  {
   "cell_type": "markdown",
   "source": [
    "#### QDA"
   ],
   "metadata": {
    "collapsed": false
   },
   "id": "b3b275e77e4535ff"
  },
  {
   "cell_type": "code",
   "execution_count": null,
   "id": "3fe8f10c45b9ca1a",
   "metadata": {
    "collapsed": false
   },
   "outputs": [],
   "source": [
    "df = pd.read_csv('results/mean_results_qda.csv', header=None)\n",
    "df.rename(columns={0: 'Features', 1: 'Hyperparameters', 2:'Score train', 3: 'Score valid'}, inplace=True)\n",
    "df['Hyperparameters'] = df['Hyperparameters'].apply(parse_column)\n",
    "df['Features'] = df['Features'].apply(parse_column)\n",
    "df['Score valid'] = pd.to_numeric(df['Score valid'])\n",
    "df = df[df['Score valid'] >= 6900]\n",
    "config_sets = list(zip(df['Features'], df['Hyperparameters']))"
   ]
  },
  {
   "cell_type": "code",
   "execution_count": null,
   "id": "15681c26a341776e",
   "metadata": {
    "collapsed": false
   },
   "outputs": [],
   "source": [
    "best_configs_results_qda = multiple_cv(X_, y, config_sets, QuadraticDiscriminantAnalysis)"
   ]
  },
  {
   "cell_type": "markdown",
   "source": [
    "## Testing the best configuration for each model\n",
    "For best configs perform 5 times 5-fold cross-validation and take the mean score."
   ],
   "metadata": {
    "collapsed": false
   },
   "id": "af79224d599819"
  },
  {
   "cell_type": "code",
   "execution_count": null,
   "outputs": [],
   "source": [
    "all_results = {}"
   ],
   "metadata": {
    "collapsed": false
   },
   "id": "6e4bac4b"
  },
  {
   "cell_type": "code",
   "execution_count": null,
   "outputs": [],
   "source": [
    "svc = SVC(degree=2, kernel='poly', probability=True, random_state=42)\n",
    "all_results['SVC'] = search(svc, [101,102,105,103], X, y)"
   ],
   "metadata": {
    "collapsed": false
   },
   "id": "dc10bfa2"
  },
  {
   "cell_type": "code",
   "execution_count": null,
   "outputs": [],
   "source": [
    "qda = QuadraticDiscriminantAnalysis(reg_param=0.5)\n",
    "all_results['QDA'] = search(qda, [101,102,105,103], X, y)"
   ],
   "metadata": {
    "collapsed": false
   },
   "id": "4e423baa"
  },
  {
   "cell_type": "code",
   "execution_count": null,
   "outputs": [],
   "source": [
    "mlp = MLPClassifier(hidden_layer_sizes=(50, 50, 50), alpha=1e-05, learning_rate='adaptive', early_stopping=True, random_state=0)\n",
    "all_results['MLP'] = search(mlp, [8, 100, 102], X, y)"
   ],
   "metadata": {
    "collapsed": false
   },
   "id": "40ddb41e"
  },
  {
   "cell_type": "code",
   "execution_count": null,
   "outputs": [],
   "source": [
    "nb = GaussianNB()\n",
    "all_results['NB'] = search(nb, [101,102,103,105], X, y)"
   ],
   "metadata": {
    "collapsed": false
   },
   "id": "c8d922d2"
  },
  {
   "cell_type": "code",
   "execution_count": null,
   "outputs": [],
   "source": [
    "rb = RadiusNeighborsClassifier(radius=1.9, weights='distance', p=1)\n",
    "all_results['RB'] = search(rb, [100,101,102], X, y)"
   ],
   "metadata": {
    "collapsed": false
   },
   "id": "949a3c48"
  },
  {
   "cell_type": "markdown",
   "source": [
    "### Soft voting ensemble"
   ],
   "metadata": {
    "collapsed": false
   },
   "id": "59f593fe"
  },
  {
   "cell_type": "code",
   "execution_count": null,
   "outputs": [],
   "source": [
    "kf = StratifiedKFold(n_splits=5, shuffle=True, random_state=42)\n",
    "ensemble = VotingClassifier(estimators=[\n",
    "    ('svc', svc),\n",
    "    ('gda', qda),\n",
    "    ('nb', nb)\n",
    "], voting='soft')\n",
    "\n",
    "all_results['Voting(SVC, QDA, NB)'] = search(ensemble, [101,102,103,105], X, y)"
   ],
   "metadata": {
    "collapsed": false
   },
   "id": "d8e0ab5e"
  },
  {
   "cell_type": "code",
   "execution_count": null,
   "outputs": [],
   "source": [
    "df = pd.DataFrame(all_results)\n",
    "median = df.median()\n",
    "median.sort_values(ascending=False, inplace=True)\n",
    "df = df[median.index]\n",
    "\n",
    "plt.figure(figsize=(12, 4))\n",
    "sns.boxplot(data=df, width=0.5, color='#4C72B0')\n",
    "plt.xlabel('Models')\n",
    "plt.ylabel('Scores')\n",
    "plt.title('Distribution of custom metric scores across best models for 5 round of 5 fold cross validation')\n",
    "plt.show()"
   ],
   "metadata": {
    "collapsed": false
   },
   "id": "4a18dfa1"
  },
  {
   "cell_type": "markdown",
   "source": [
    "## Altering dataset\n",
    "#### Testing the approach to minimise false positives explained in the article: https://www.kaggle.com/discussions/general/376229"
   ],
   "metadata": {
    "collapsed": false
   },
   "id": "fd7eb081ca8ae79"
  },
  {
   "cell_type": "code",
   "execution_count": null,
   "outputs": [],
   "source": [
    "x_train, x_valid, y_train, y_valid = train_test_split(X[[101,102,103,105]], y, test_size=0.2, random_state=200)\n",
    "\n",
    "for i in [0.0, 0.1, 0.2, 0.3, 0.4, 0.5, 0.8]:\n",
    "    new_model = alter_dataset(x_train, y_train, [101,102,103,105], i)\n",
    "    evaluate(x_train, x_valid, y_train, y_valid, new_model)"
   ],
   "metadata": {
    "collapsed": false
   },
   "id": "9b6fc8eaf82b81d4"
  },
  {
   "cell_type": "markdown",
   "source": [
    "Results are not better with this method."
   ],
   "metadata": {
    "collapsed": false
   },
   "id": "a359b5ae84cbf2a"
  },
  {
   "cell_type": "markdown",
   "id": "6a2fc3d3dd9760b1",
   "metadata": {
    "collapsed": false
   },
   "source": [
    "## Final model evaluation"
   ]
  },
  {
   "cell_type": "code",
   "execution_count": 3,
   "id": "aaaf5cfa13d90712",
   "metadata": {
    "collapsed": false,
    "ExecuteTime": {
     "end_time": "2024-06-03T15:47:34.428663500Z",
     "start_time": "2024-06-03T15:47:33.992066100Z"
    }
   },
   "outputs": [],
   "source": [
    "X_test = pd.read_csv('data/x_test.txt', delimiter=' ', header=None)"
   ]
  },
  {
   "cell_type": "code",
   "execution_count": 7,
   "id": "5ebdcdb9",
   "metadata": {
    "ExecuteTime": {
     "end_time": "2024-06-03T15:48:02.107912800Z",
     "start_time": "2024-06-03T15:47:58.805316500Z"
    }
   },
   "outputs": [
    {
     "data": {
      "text/plain": "SVC(degree=2, kernel='poly', probability=True, random_state=133)",
      "text/html": "<style>#sk-container-id-1 {\n  /* Definition of color scheme common for light and dark mode */\n  --sklearn-color-text: black;\n  --sklearn-color-line: gray;\n  /* Definition of color scheme for unfitted estimators */\n  --sklearn-color-unfitted-level-0: #fff5e6;\n  --sklearn-color-unfitted-level-1: #f6e4d2;\n  --sklearn-color-unfitted-level-2: #ffe0b3;\n  --sklearn-color-unfitted-level-3: chocolate;\n  /* Definition of color scheme for fitted estimators */\n  --sklearn-color-fitted-level-0: #f0f8ff;\n  --sklearn-color-fitted-level-1: #d4ebff;\n  --sklearn-color-fitted-level-2: #b3dbfd;\n  --sklearn-color-fitted-level-3: cornflowerblue;\n\n  /* Specific color for light theme */\n  --sklearn-color-text-on-default-background: var(--sg-text-color, var(--theme-code-foreground, var(--jp-content-font-color1, black)));\n  --sklearn-color-background: var(--sg-background-color, var(--theme-background, var(--jp-layout-color0, white)));\n  --sklearn-color-border-box: var(--sg-text-color, var(--theme-code-foreground, var(--jp-content-font-color1, black)));\n  --sklearn-color-icon: #696969;\n\n  @media (prefers-color-scheme: dark) {\n    /* Redefinition of color scheme for dark theme */\n    --sklearn-color-text-on-default-background: var(--sg-text-color, var(--theme-code-foreground, var(--jp-content-font-color1, white)));\n    --sklearn-color-background: var(--sg-background-color, var(--theme-background, var(--jp-layout-color0, #111)));\n    --sklearn-color-border-box: var(--sg-text-color, var(--theme-code-foreground, var(--jp-content-font-color1, white)));\n    --sklearn-color-icon: #878787;\n  }\n}\n\n#sk-container-id-1 {\n  color: var(--sklearn-color-text);\n}\n\n#sk-container-id-1 pre {\n  padding: 0;\n}\n\n#sk-container-id-1 input.sk-hidden--visually {\n  border: 0;\n  clip: rect(1px 1px 1px 1px);\n  clip: rect(1px, 1px, 1px, 1px);\n  height: 1px;\n  margin: -1px;\n  overflow: hidden;\n  padding: 0;\n  position: absolute;\n  width: 1px;\n}\n\n#sk-container-id-1 div.sk-dashed-wrapped {\n  border: 1px dashed var(--sklearn-color-line);\n  margin: 0 0.4em 0.5em 0.4em;\n  box-sizing: border-box;\n  padding-bottom: 0.4em;\n  background-color: var(--sklearn-color-background);\n}\n\n#sk-container-id-1 div.sk-container {\n  /* jupyter's `normalize.less` sets `[hidden] { display: none; }`\n     but bootstrap.min.css set `[hidden] { display: none !important; }`\n     so we also need the `!important` here to be able to override the\n     default hidden behavior on the sphinx rendered scikit-learn.org.\n     See: https://github.com/scikit-learn/scikit-learn/issues/21755 */\n  display: inline-block !important;\n  position: relative;\n}\n\n#sk-container-id-1 div.sk-text-repr-fallback {\n  display: none;\n}\n\ndiv.sk-parallel-item,\ndiv.sk-serial,\ndiv.sk-item {\n  /* draw centered vertical line to link estimators */\n  background-image: linear-gradient(var(--sklearn-color-text-on-default-background), var(--sklearn-color-text-on-default-background));\n  background-size: 2px 100%;\n  background-repeat: no-repeat;\n  background-position: center center;\n}\n\n/* Parallel-specific style estimator block */\n\n#sk-container-id-1 div.sk-parallel-item::after {\n  content: \"\";\n  width: 100%;\n  border-bottom: 2px solid var(--sklearn-color-text-on-default-background);\n  flex-grow: 1;\n}\n\n#sk-container-id-1 div.sk-parallel {\n  display: flex;\n  align-items: stretch;\n  justify-content: center;\n  background-color: var(--sklearn-color-background);\n  position: relative;\n}\n\n#sk-container-id-1 div.sk-parallel-item {\n  display: flex;\n  flex-direction: column;\n}\n\n#sk-container-id-1 div.sk-parallel-item:first-child::after {\n  align-self: flex-end;\n  width: 50%;\n}\n\n#sk-container-id-1 div.sk-parallel-item:last-child::after {\n  align-self: flex-start;\n  width: 50%;\n}\n\n#sk-container-id-1 div.sk-parallel-item:only-child::after {\n  width: 0;\n}\n\n/* Serial-specific style estimator block */\n\n#sk-container-id-1 div.sk-serial {\n  display: flex;\n  flex-direction: column;\n  align-items: center;\n  background-color: var(--sklearn-color-background);\n  padding-right: 1em;\n  padding-left: 1em;\n}\n\n\n/* Toggleable style: style used for estimator/Pipeline/ColumnTransformer box that is\nclickable and can be expanded/collapsed.\n- Pipeline and ColumnTransformer use this feature and define the default style\n- Estimators will overwrite some part of the style using the `sk-estimator` class\n*/\n\n/* Pipeline and ColumnTransformer style (default) */\n\n#sk-container-id-1 div.sk-toggleable {\n  /* Default theme specific background. It is overwritten whether we have a\n  specific estimator or a Pipeline/ColumnTransformer */\n  background-color: var(--sklearn-color-background);\n}\n\n/* Toggleable label */\n#sk-container-id-1 label.sk-toggleable__label {\n  cursor: pointer;\n  display: block;\n  width: 100%;\n  margin-bottom: 0;\n  padding: 0.5em;\n  box-sizing: border-box;\n  text-align: center;\n}\n\n#sk-container-id-1 label.sk-toggleable__label-arrow:before {\n  /* Arrow on the left of the label */\n  content: \"▸\";\n  float: left;\n  margin-right: 0.25em;\n  color: var(--sklearn-color-icon);\n}\n\n#sk-container-id-1 label.sk-toggleable__label-arrow:hover:before {\n  color: var(--sklearn-color-text);\n}\n\n/* Toggleable content - dropdown */\n\n#sk-container-id-1 div.sk-toggleable__content {\n  max-height: 0;\n  max-width: 0;\n  overflow: hidden;\n  text-align: left;\n  /* unfitted */\n  background-color: var(--sklearn-color-unfitted-level-0);\n}\n\n#sk-container-id-1 div.sk-toggleable__content.fitted {\n  /* fitted */\n  background-color: var(--sklearn-color-fitted-level-0);\n}\n\n#sk-container-id-1 div.sk-toggleable__content pre {\n  margin: 0.2em;\n  border-radius: 0.25em;\n  color: var(--sklearn-color-text);\n  /* unfitted */\n  background-color: var(--sklearn-color-unfitted-level-0);\n}\n\n#sk-container-id-1 div.sk-toggleable__content.fitted pre {\n  /* unfitted */\n  background-color: var(--sklearn-color-fitted-level-0);\n}\n\n#sk-container-id-1 input.sk-toggleable__control:checked~div.sk-toggleable__content {\n  /* Expand drop-down */\n  max-height: 200px;\n  max-width: 100%;\n  overflow: auto;\n}\n\n#sk-container-id-1 input.sk-toggleable__control:checked~label.sk-toggleable__label-arrow:before {\n  content: \"▾\";\n}\n\n/* Pipeline/ColumnTransformer-specific style */\n\n#sk-container-id-1 div.sk-label input.sk-toggleable__control:checked~label.sk-toggleable__label {\n  color: var(--sklearn-color-text);\n  background-color: var(--sklearn-color-unfitted-level-2);\n}\n\n#sk-container-id-1 div.sk-label.fitted input.sk-toggleable__control:checked~label.sk-toggleable__label {\n  background-color: var(--sklearn-color-fitted-level-2);\n}\n\n/* Estimator-specific style */\n\n/* Colorize estimator box */\n#sk-container-id-1 div.sk-estimator input.sk-toggleable__control:checked~label.sk-toggleable__label {\n  /* unfitted */\n  background-color: var(--sklearn-color-unfitted-level-2);\n}\n\n#sk-container-id-1 div.sk-estimator.fitted input.sk-toggleable__control:checked~label.sk-toggleable__label {\n  /* fitted */\n  background-color: var(--sklearn-color-fitted-level-2);\n}\n\n#sk-container-id-1 div.sk-label label.sk-toggleable__label,\n#sk-container-id-1 div.sk-label label {\n  /* The background is the default theme color */\n  color: var(--sklearn-color-text-on-default-background);\n}\n\n/* On hover, darken the color of the background */\n#sk-container-id-1 div.sk-label:hover label.sk-toggleable__label {\n  color: var(--sklearn-color-text);\n  background-color: var(--sklearn-color-unfitted-level-2);\n}\n\n/* Label box, darken color on hover, fitted */\n#sk-container-id-1 div.sk-label.fitted:hover label.sk-toggleable__label.fitted {\n  color: var(--sklearn-color-text);\n  background-color: var(--sklearn-color-fitted-level-2);\n}\n\n/* Estimator label */\n\n#sk-container-id-1 div.sk-label label {\n  font-family: monospace;\n  font-weight: bold;\n  display: inline-block;\n  line-height: 1.2em;\n}\n\n#sk-container-id-1 div.sk-label-container {\n  text-align: center;\n}\n\n/* Estimator-specific */\n#sk-container-id-1 div.sk-estimator {\n  font-family: monospace;\n  border: 1px dotted var(--sklearn-color-border-box);\n  border-radius: 0.25em;\n  box-sizing: border-box;\n  margin-bottom: 0.5em;\n  /* unfitted */\n  background-color: var(--sklearn-color-unfitted-level-0);\n}\n\n#sk-container-id-1 div.sk-estimator.fitted {\n  /* fitted */\n  background-color: var(--sklearn-color-fitted-level-0);\n}\n\n/* on hover */\n#sk-container-id-1 div.sk-estimator:hover {\n  /* unfitted */\n  background-color: var(--sklearn-color-unfitted-level-2);\n}\n\n#sk-container-id-1 div.sk-estimator.fitted:hover {\n  /* fitted */\n  background-color: var(--sklearn-color-fitted-level-2);\n}\n\n/* Specification for estimator info (e.g. \"i\" and \"?\") */\n\n/* Common style for \"i\" and \"?\" */\n\n.sk-estimator-doc-link,\na:link.sk-estimator-doc-link,\na:visited.sk-estimator-doc-link {\n  float: right;\n  font-size: smaller;\n  line-height: 1em;\n  font-family: monospace;\n  background-color: var(--sklearn-color-background);\n  border-radius: 1em;\n  height: 1em;\n  width: 1em;\n  text-decoration: none !important;\n  margin-left: 1ex;\n  /* unfitted */\n  border: var(--sklearn-color-unfitted-level-1) 1pt solid;\n  color: var(--sklearn-color-unfitted-level-1);\n}\n\n.sk-estimator-doc-link.fitted,\na:link.sk-estimator-doc-link.fitted,\na:visited.sk-estimator-doc-link.fitted {\n  /* fitted */\n  border: var(--sklearn-color-fitted-level-1) 1pt solid;\n  color: var(--sklearn-color-fitted-level-1);\n}\n\n/* On hover */\ndiv.sk-estimator:hover .sk-estimator-doc-link:hover,\n.sk-estimator-doc-link:hover,\ndiv.sk-label-container:hover .sk-estimator-doc-link:hover,\n.sk-estimator-doc-link:hover {\n  /* unfitted */\n  background-color: var(--sklearn-color-unfitted-level-3);\n  color: var(--sklearn-color-background);\n  text-decoration: none;\n}\n\ndiv.sk-estimator.fitted:hover .sk-estimator-doc-link.fitted:hover,\n.sk-estimator-doc-link.fitted:hover,\ndiv.sk-label-container:hover .sk-estimator-doc-link.fitted:hover,\n.sk-estimator-doc-link.fitted:hover {\n  /* fitted */\n  background-color: var(--sklearn-color-fitted-level-3);\n  color: var(--sklearn-color-background);\n  text-decoration: none;\n}\n\n/* Span, style for the box shown on hovering the info icon */\n.sk-estimator-doc-link span {\n  display: none;\n  z-index: 9999;\n  position: relative;\n  font-weight: normal;\n  right: .2ex;\n  padding: .5ex;\n  margin: .5ex;\n  width: min-content;\n  min-width: 20ex;\n  max-width: 50ex;\n  color: var(--sklearn-color-text);\n  box-shadow: 2pt 2pt 4pt #999;\n  /* unfitted */\n  background: var(--sklearn-color-unfitted-level-0);\n  border: .5pt solid var(--sklearn-color-unfitted-level-3);\n}\n\n.sk-estimator-doc-link.fitted span {\n  /* fitted */\n  background: var(--sklearn-color-fitted-level-0);\n  border: var(--sklearn-color-fitted-level-3);\n}\n\n.sk-estimator-doc-link:hover span {\n  display: block;\n}\n\n/* \"?\"-specific style due to the `<a>` HTML tag */\n\n#sk-container-id-1 a.estimator_doc_link {\n  float: right;\n  font-size: 1rem;\n  line-height: 1em;\n  font-family: monospace;\n  background-color: var(--sklearn-color-background);\n  border-radius: 1rem;\n  height: 1rem;\n  width: 1rem;\n  text-decoration: none;\n  /* unfitted */\n  color: var(--sklearn-color-unfitted-level-1);\n  border: var(--sklearn-color-unfitted-level-1) 1pt solid;\n}\n\n#sk-container-id-1 a.estimator_doc_link.fitted {\n  /* fitted */\n  border: var(--sklearn-color-fitted-level-1) 1pt solid;\n  color: var(--sklearn-color-fitted-level-1);\n}\n\n/* On hover */\n#sk-container-id-1 a.estimator_doc_link:hover {\n  /* unfitted */\n  background-color: var(--sklearn-color-unfitted-level-3);\n  color: var(--sklearn-color-background);\n  text-decoration: none;\n}\n\n#sk-container-id-1 a.estimator_doc_link.fitted:hover {\n  /* fitted */\n  background-color: var(--sklearn-color-fitted-level-3);\n}\n</style><div id=\"sk-container-id-1\" class=\"sk-top-container\"><div class=\"sk-text-repr-fallback\"><pre>SVC(degree=2, kernel=&#x27;poly&#x27;, probability=True, random_state=133)</pre><b>In a Jupyter environment, please rerun this cell to show the HTML representation or trust the notebook. <br />On GitHub, the HTML representation is unable to render, please try loading this page with nbviewer.org.</b></div><div class=\"sk-container\" hidden><div class=\"sk-item\"><div class=\"sk-estimator fitted sk-toggleable\"><input class=\"sk-toggleable__control sk-hidden--visually\" id=\"sk-estimator-id-1\" type=\"checkbox\" checked><label for=\"sk-estimator-id-1\" class=\"sk-toggleable__label fitted sk-toggleable__label-arrow fitted\">&nbsp;&nbsp;SVC<a class=\"sk-estimator-doc-link fitted\" rel=\"noreferrer\" target=\"_blank\" href=\"https://scikit-learn.org/1.4/modules/generated/sklearn.svm.SVC.html\">?<span>Documentation for SVC</span></a><span class=\"sk-estimator-doc-link fitted\">i<span>Fitted</span></span></label><div class=\"sk-toggleable__content fitted\"><pre>SVC(degree=2, kernel=&#x27;poly&#x27;, probability=True, random_state=133)</pre></div> </div></div></div></div>"
     },
     "execution_count": 7,
     "metadata": {},
     "output_type": "execute_result"
    }
   ],
   "source": [
    "svc = SVC(degree=2, kernel='poly', probability=True, random_state=133)\n",
    "vars = [101, 102, 103, 105]\n",
    "svc.fit(X[vars], y)"
   ]
  },
  {
   "cell_type": "code",
   "execution_count": 8,
   "id": "095d6c31",
   "metadata": {
    "ExecuteTime": {
     "end_time": "2024-06-03T15:50:20.533956900Z",
     "start_time": "2024-06-03T15:50:20.223955500Z"
    }
   },
   "outputs": [
    {
     "name": "stdout",
     "output_type": "stream",
     "text": [
      "X score: 7100.0\n"
     ]
    }
   ],
   "source": [
    "proba_X = svc.predict_proba(X[vars])[:, 1]\n",
    "score_X = custom_score(y, proba_X, len(vars))\n",
    "print(f\"X score: {score_X}\")"
   ]
  },
  {
   "cell_type": "code",
   "execution_count": 9,
   "id": "44df19ea",
   "metadata": {
    "ExecuteTime": {
     "end_time": "2024-06-03T15:53:19.950252Z",
     "start_time": "2024-06-03T15:53:19.673730800Z"
    }
   },
   "outputs": [],
   "source": [
    "predictions = svc.predict_proba(X_test[vars])[:, 1]\n",
    "top_indices = np.argsort(predictions)[-1000:]+1"
   ]
  },
  {
   "cell_type": "code",
   "execution_count": 10,
   "id": "73f89f7f",
   "metadata": {
    "ExecuteTime": {
     "end_time": "2024-06-03T15:53:39.292301400Z",
     "start_time": "2024-06-03T15:53:39.244563200Z"
    }
   },
   "outputs": [],
   "source": [
    "np.savetxt('313546_obs.txt', top_indices, fmt='%d', delimiter='\\n')\n",
    "np.savetxt('313546_vars.txt', np.array(vars) + 1, fmt='%d', delimiter='\\n')"
   ]
  }
 ],
 "metadata": {
  "kernelspec": {
   "display_name": "Python 3",
   "language": "python",
   "name": "python3"
  },
  "language_info": {
   "codemirror_mode": {
    "name": "ipython",
    "version": 3
   },
   "file_extension": ".py",
   "mimetype": "text/x-python",
   "name": "python",
   "nbconvert_exporter": "python",
   "pygments_lexer": "ipython3",
   "version": "3.10.10"
  }
 },
 "nbformat": 4,
 "nbformat_minor": 5
}
