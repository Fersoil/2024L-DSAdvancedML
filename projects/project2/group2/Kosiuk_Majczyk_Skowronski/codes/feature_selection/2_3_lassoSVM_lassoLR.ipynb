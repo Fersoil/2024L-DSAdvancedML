{
 "cells": [
  {
   "cell_type": "code",
   "execution_count": 18,
   "metadata": {},
   "outputs": [],
   "source": [
    "import numpy as np\n",
    "import pandas as pd\n",
    "\n",
    "\n",
    "from sklearn.linear_model import LassoCV, LogisticRegression\n",
    "from sklearn.model_selection import train_test_split\n",
    "from sklearn.preprocessing import StandardScaler\n",
    "from sklearn.svm import SVC\n",
    "\n",
    "import sys, os\n",
    "sys.path.append(os.path.dirname(os.getcwd()))\n",
    "from utils import task_score"
   ]
  },
  {
   "cell_type": "code",
   "execution_count": 7,
   "metadata": {},
   "outputs": [],
   "source": [
    "x_train = pd.read_csv('../../../data/x_train.txt', header=None, sep=' ')\n",
    "y_train = pd.read_csv('../../../data/y_train.txt', header=None, sep=' ')\n",
    "df_train = pd.concat([x_train, y_train], axis=1)\n",
    "df_train.columns = [ 'x'+str(i) for i in range(1, df_train.shape[1]) ] + ['y']    "
   ]
  },
  {
   "cell_type": "code",
   "execution_count": 19,
   "metadata": {},
   "outputs": [],
   "source": [
    "initial_features = [\n",
    "    \"x1\",\n",
    "    \"x10\",\n",
    "    \"x101\",\n",
    "    \"x102\",\n",
    "    \"x103\",\n",
    "    \"x104\",\n",
    "    \"x105\",\n",
    "    \"x106\",\n",
    "    \"x132\",\n",
    "    \"x140\",\n",
    "    \"x149\",\n",
    "    \"x153\",\n",
    "    \"x156\",\n",
    "    \"x176\",\n",
    "    \"x191\",\n",
    "    \"x2\",\n",
    "    \"x22\",\n",
    "    \"x221\",\n",
    "    \"x229\",\n",
    "    \"x253\",\n",
    "    \"x286\",\n",
    "    \"x3\",\n",
    "    \"x304\",\n",
    "    \"x322\",\n",
    "    \"x323\",\n",
    "    \"x324\",\n",
    "    \"x329\",\n",
    "    \"x336\",\n",
    "    \"x35\",\n",
    "    \"x352\",\n",
    "    \"x36\",\n",
    "    \"x4\",\n",
    "    \"x40\",\n",
    "    \"x404\",\n",
    "    \"x413\",\n",
    "    \"x423\",\n",
    "    \"x459\",\n",
    "    \"x463\",\n",
    "    \"x499\",\n",
    "    \"x5\",\n",
    "    \"x58\",\n",
    "    \"x6\",\n",
    "    \"x65\",\n",
    "    \"x7\",\n",
    "    \"x74\",\n",
    "    \"x8\",\n",
    "    \"x81\",\n",
    "    \"x9\",\n",
    "    \"x99\",\n",
    "]\n",
    "\n",
    "df_train = df_train[initial_features + [\"y\"]]\n",
    "X_train, X_test, y_train, y_test = train_test_split(\n",
    "    df_train.drop(columns=\"y\"), df_train[\"y\"], test_size=0.2, stratify=df_train[\"y\"], random_state=42\n",
    ")\n",
    "scaler = StandardScaler()\n",
    "X_train = scaler.fit_transform(X_train)\n",
    "X_test = scaler.transform(X_test)"
   ]
  },
  {
   "cell_type": "code",
   "execution_count": 39,
   "metadata": {},
   "outputs": [
    {
     "name": "stdout",
     "output_type": "stream",
     "text": [
      "42\n",
      "Index(['x1', 'x101', 'x102', 'x103', 'x104', 'x105', 'x106', 'x132', 'x140',\n",
      "       'x149', 'x153', 'x156', 'x176', 'x191', 'x22', 'x221', 'x229', 'x253',\n",
      "       'x286', 'x304', 'x322', 'x323', 'x324', 'x329', 'x336', 'x35', 'x352',\n",
      "       'x36', 'x40', 'x404', 'x413', 'x423', 'x459', 'x463', 'x499', 'x5',\n",
      "       'x58', 'x65', 'x74', 'x8', 'x81', 'x99'],\n",
      "      dtype='object')\n"
     ]
    }
   ],
   "source": [
    "lasso = LassoCV(cv=5, random_state=42 ,n_jobs=-1, n_alphas=100)\n",
    "lasso.fit(X_train, y_train)\n",
    "coef = lasso.coef_\n",
    "print(np.sum(coef!= 0)) # definitely too many features\n",
    "features = df_train.columns[np.where(lasso.coef_ != 0)]\n",
    "print(features)\n"
   ]
  },
  {
   "cell_type": "code",
   "execution_count": 43,
   "metadata": {},
   "outputs": [],
   "source": [
    "X_train_ = X_train[:,coef!= 0]\n",
    "X_test_ = X_test[:,coef!= 0]"
   ]
  },
  {
   "cell_type": "code",
   "execution_count": 51,
   "metadata": {},
   "outputs": [
    {
     "name": "stdout",
     "output_type": "stream",
     "text": [
      "-1350.0\n"
     ]
    }
   ],
   "source": [
    "svc = SVC(kernel='rbf', random_state=42,probability=True)\n",
    "svc.fit(X_train_, y_train)\n",
    "print(task_score(svc,X_test_, y_test))\n",
    "# just bad"
   ]
  },
  {
   "cell_type": "markdown",
   "metadata": {},
   "source": [
    "---\n",
    "SVM L1"
   ]
  },
  {
   "cell_type": "code",
   "execution_count": 61,
   "metadata": {},
   "outputs": [],
   "source": [
    "from sklearn.svm import LinearSVC\n",
    "from sklearn.feature_selection import SelectFromModel"
   ]
  },
  {
   "cell_type": "code",
   "execution_count": 69,
   "metadata": {},
   "outputs": [
    {
     "name": "stdout",
     "output_type": "stream",
     "text": [
      "20\n",
      "Index(['x106', 'x140', 'x153', 'x156', 'x176', 'x22', 'x221', 'x253', 'x324',\n",
      "       'x329', 'x336', 'x352', 'x36', 'x404', 'x413', 'x459', 'x499', 'x58',\n",
      "       'x65', 'x81'],\n",
      "      dtype='object')\n"
     ]
    }
   ],
   "source": [
    "clf = LinearSVC(C=0.005, penalty=\"l1\", dual=False, random_state=42)\n",
    "selection = SelectFromModel(clf).fit(X_train, y_train).get_support()\n",
    "print(np.sum(selection)) # definitely too many features\n",
    "features = df_train.columns[np.where(selection)]\n",
    "print(features)"
   ]
  },
  {
   "cell_type": "code",
   "execution_count": 70,
   "metadata": {},
   "outputs": [],
   "source": [
    "X_train_ = X_train[:,selection]\n",
    "X_test_ = X_test[:,selection]"
   ]
  },
  {
   "cell_type": "code",
   "execution_count": 71,
   "metadata": {},
   "outputs": [
    {
     "name": "stdout",
     "output_type": "stream",
     "text": [
      "2150.0\n"
     ]
    }
   ],
   "source": [
    "svc = SVC(kernel='rbf', random_state=42,probability=True)\n",
    "svc.fit(X_train_, y_train)\n",
    "print(task_score(svc,X_test_, y_test))\n",
    "# also very bad"
   ]
  }
 ],
 "metadata": {
  "kernelspec": {
   "display_name": "base",
   "language": "python",
   "name": "python3"
  },
  "language_info": {
   "codemirror_mode": {
    "name": "ipython",
    "version": 3
   },
   "file_extension": ".py",
   "mimetype": "text/x-python",
   "name": "python",
   "nbconvert_exporter": "python",
   "pygments_lexer": "ipython3",
   "version": "3.12.0"
  }
 },
 "nbformat": 4,
 "nbformat_minor": 2
}
