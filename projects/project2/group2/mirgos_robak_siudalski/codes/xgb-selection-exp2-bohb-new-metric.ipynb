{
 "cells": [
  {
   "cell_type": "code",
   "execution_count": 1,
   "metadata": {},
   "outputs": [
    {
     "name": "stdout",
     "output_type": "stream",
     "text": [
      "x:\n",
      "        0         1         2         3         4         5         6    \\\n",
      "0 -2.619773 -2.619533 -1.199350 -1.083335 -1.000910 -0.366967 -2.164037   \n",
      "1 -1.415579 -1.782544 -2.880270 -1.958863  1.159968  0.273030 -1.628728   \n",
      "2 -2.745092 -1.382945 -1.626015 -1.282560 -0.663146  0.052349 -2.403322   \n",
      "3  0.618998  0.455364 -0.115081  0.649040 -0.862207  2.308504  0.526114   \n",
      "4 -0.070694 -0.550509 -0.565556 -0.693065 -0.573089 -0.395862  0.003170   \n",
      "\n",
      "        7         8         9    ...        490        491        492  \\\n",
      "0 -1.210001 -0.658311 -1.489539  ...  10.849925  10.343346  10.717519   \n",
      "1 -0.175813 -0.916857 -0.570166  ...  11.489417   5.195818   3.494627   \n",
      "2 -0.765073 -0.394354 -0.806624  ...  13.934934   9.267515   4.705604   \n",
      "3 -1.094852  1.088656 -0.481210  ...  12.021328   3.852231  11.059702   \n",
      "4 -0.981609 -0.505775 -0.758430  ...   7.537788  11.229665  11.318915   \n",
      "\n",
      "        493        494        495        496        497        498        499  \n",
      "0  7.709295   5.894554  12.416573   6.765269  16.243907   7.209524   8.082021  \n",
      "1  5.529154  10.517576  15.697333  11.324938  12.187670  12.283861   5.032285  \n",
      "2  6.642557  14.658934   8.130767   7.194487  11.939354  11.653620   5.942778  \n",
      "3  7.527268   7.253120   9.791136   6.089743  10.752796   5.778888  10.366363  \n",
      "4  6.622256  12.557882   5.520360   5.397359  13.152269  10.684779   9.816471  \n",
      "\n",
      "[5 rows x 500 columns]\n",
      "\n",
      "y:\n",
      "   0\n",
      "0  0\n",
      "1  0\n",
      "2  1\n",
      "3  1\n",
      "4  1\n"
     ]
    }
   ],
   "source": [
    "import pandas as pd\n",
    "\n",
    "# Read x_train.txt\n",
    "X = pd.read_csv('../data/x_train.txt', sep=' ', header=None)\n",
    "\n",
    "# Read y_train.txt\n",
    "y = pd.read_csv('../data/y_train.txt', sep=' ', header=None)\n",
    "\n",
    "\n",
    "# Display the data\n",
    "print(\"x:\")\n",
    "print(X.head())\n",
    "\n",
    "print(\"\\ny:\")\n",
    "print(y.head())\n"
   ]
  },
  {
   "cell_type": "code",
   "execution_count": 49,
   "metadata": {},
   "outputs": [],
   "source": [
    "#vars=[100, 101, 102, 103, 104, 105, 6]"
   ]
  },
  {
   "cell_type": "code",
   "execution_count": 50,
   "metadata": {},
   "outputs": [],
   "source": [
    "#X = X[vars]"
   ]
  },
  {
   "cell_type": "code",
   "execution_count": 2,
   "metadata": {},
   "outputs": [
    {
     "name": "stderr",
     "output_type": "stream",
     "text": [
      "2024-05-29 13:06:04,002\tINFO worker.py:1749 -- Started a local Ray instance.\n",
      "2024-05-29 13:06:05,344\tINFO tune.py:253 -- Initializing Ray automatically. For cluster usage or custom Ray initialization, call `ray.init(...)` before `tune.run(...)`.\n",
      "2024-05-29 13:06:05,346\tINFO tune.py:614 -- [output] This uses the legacy output and progress reporter, as Jupyter notebooks are not supported by the new engine, yet. For more information, please see https://github.com/ray-project/ray/issues/36949\n"
     ]
    },
    {
     "data": {
      "text/html": [
       "<div class=\"tuneStatus\">\n",
       "  <div style=\"display: flex;flex-direction: row\">\n",
       "    <div style=\"display: flex;flex-direction: column;\">\n",
       "      <h3>Tune Status</h3>\n",
       "      <table>\n",
       "<tbody>\n",
       "<tr><td>Current time:</td><td>2024-05-29 13:12:21</td></tr>\n",
       "<tr><td>Running for: </td><td>00:06:15.83        </td></tr>\n",
       "<tr><td>Memory:      </td><td>26.5/63.8 GiB      </td></tr>\n",
       "</tbody>\n",
       "</table>\n",
       "    </div>\n",
       "    <div class=\"vDivider\"></div>\n",
       "    <div class=\"systemInfo\">\n",
       "      <h3>System Info</h3>\n",
       "      Using HyperBand: num_stopped=54 total_brackets=2<br>Round #0:<br>  Bracket(Max Size (n)=27, Milestone (r)=3, completed=20.0%): {TERMINATED: 81} <br>  Bracket(Max Size (n)=12, Milestone (r)=9, completed=25.1%): {TERMINATED: 119} <br>Logical resource usage: 1.0/28 CPUs, 0/1 GPUs (0.0/1.0 accelerator_type:G)\n",
       "    </div>\n",
       "    \n",
       "  </div>\n",
       "  <div class=\"hDivider\"></div>\n",
       "  <div class=\"trialStatus\">\n",
       "    <h3>Trial Status</h3>\n",
       "    <table>\n",
       "<thead>\n",
       "<tr><th>Trial name            </th><th>status    </th><th>loc            </th><th style=\"text-align: right;\">     alpha</th><th style=\"text-align: right;\">  colsample_bytree</th><th>colset              </th><th style=\"text-align: right;\">      eta</th><th>eval_metric  </th><th style=\"text-align: right;\">    lambda</th><th style=\"text-align: right;\">  max_depth</th><th style=\"text-align: right;\">  min_child_weight</th><th>objective      </th><th style=\"text-align: right;\">  subsample</th><th style=\"text-align: right;\">  iter</th><th style=\"text-align: right;\">  total time (s)</th><th style=\"text-align: right;\">  custom_score</th><th style=\"text-align: right;\">    correct_class_1_pred\n",
       "ictions</th><th style=\"text-align: right;\">  num_features_used</th></tr>\n",
       "</thead>\n",
       "<tbody>\n",
       "<tr><td>train_xgboost_06334eee</td><td>TERMINATED</td><td>127.0.0.1:60188</td><td style=\"text-align: right;\">0.00333344</td><td style=\"text-align: right;\">          0.596359</td><td>[101, 102, 105]     </td><td style=\"text-align: right;\">0.0191392</td><td>error        </td><td style=\"text-align: right;\">0.0988809 </td><td style=\"text-align: right;\">          7</td><td style=\"text-align: right;\">                 2</td><td>binary:logistic</td><td style=\"text-align: right;\">   0.902236</td><td style=\"text-align: right;\">     1</td><td style=\"text-align: right;\">       0.142146 </td><td style=\"text-align: right;\">          6500</td><td style=\"text-align: right;\">142</td><td style=\"text-align: right;\">                  3</td></tr>\n",
       "<tr><td>train_xgboost_c88c53b4</td><td>TERMINATED</td><td>127.0.0.1:10912</td><td style=\"text-align: right;\">0.341489  </td><td style=\"text-align: right;\">          0.89622 </td><td>[100, 101, 102, 103]</td><td style=\"text-align: right;\">0.0902793</td><td>error        </td><td style=\"text-align: right;\">0.110539  </td><td style=\"text-align: right;\">          7</td><td style=\"text-align: right;\">                 5</td><td>binary:logistic</td><td style=\"text-align: right;\">   0.85042 </td><td style=\"text-align: right;\">     1</td><td style=\"text-align: right;\">       0.132    </td><td style=\"text-align: right;\">          6550</td><td style=\"text-align: right;\">147</td><td style=\"text-align: right;\">                  4</td></tr>\n",
       "<tr><td>train_xgboost_cb35cdd8</td><td>TERMINATED</td><td>127.0.0.1:6804 </td><td style=\"text-align: right;\">0.00256333</td><td style=\"text-align: right;\">          0.721823</td><td>[100, 101, 102,_ff50</td><td style=\"text-align: right;\">0.0134443</td><td>error        </td><td style=\"text-align: right;\">0.0054689 </td><td style=\"text-align: right;\">         10</td><td style=\"text-align: right;\">                 2</td><td>binary:logistic</td><td style=\"text-align: right;\">   0.663759</td><td style=\"text-align: right;\">     1</td><td style=\"text-align: right;\">       0.19     </td><td style=\"text-align: right;\">          6800</td><td style=\"text-align: right;\">156</td><td style=\"text-align: right;\">                  5</td></tr>\n",
       "<tr><td>train_xgboost_0043c127</td><td>TERMINATED</td><td>127.0.0.1:15496</td><td style=\"text-align: right;\">0.0299109 </td><td style=\"text-align: right;\">          0.738962</td><td>[100, 101, 102, 103]</td><td style=\"text-align: right;\">0.0127133</td><td>error        </td><td style=\"text-align: right;\">0.352018  </td><td style=\"text-align: right;\">          5</td><td style=\"text-align: right;\">                 1</td><td>binary:logistic</td><td style=\"text-align: right;\">   0.939125</td><td style=\"text-align: right;\">     1</td><td style=\"text-align: right;\">       0.0739994</td><td style=\"text-align: right;\">          6650</td><td style=\"text-align: right;\">149</td><td style=\"text-align: right;\">                  4</td></tr>\n",
       "<tr><td>train_xgboost_088d1b6a</td><td>TERMINATED</td><td>127.0.0.1:45000</td><td style=\"text-align: right;\">0.032126  </td><td style=\"text-align: right;\">          0.732802</td><td>[101, 102, 103]     </td><td style=\"text-align: right;\">0.0317989</td><td>error        </td><td style=\"text-align: right;\">0.0248156 </td><td style=\"text-align: right;\">          9</td><td style=\"text-align: right;\">                 5</td><td>binary:logistic</td><td style=\"text-align: right;\">   0.511093</td><td style=\"text-align: right;\">     1</td><td style=\"text-align: right;\">       0.102    </td><td style=\"text-align: right;\">          6700</td><td style=\"text-align: right;\">146</td><td style=\"text-align: right;\">                  3</td></tr>\n",
       "<tr><td>train_xgboost_ead43c46</td><td>TERMINATED</td><td>127.0.0.1:28660</td><td style=\"text-align: right;\">1.80662   </td><td style=\"text-align: right;\">          0.748768</td><td>[100, 101, 102, 103]</td><td style=\"text-align: right;\">0.0668575</td><td>error        </td><td style=\"text-align: right;\">0.0114032 </td><td style=\"text-align: right;\">          9</td><td style=\"text-align: right;\">                 4</td><td>binary:logistic</td><td style=\"text-align: right;\">   0.868638</td><td style=\"text-align: right;\">     1</td><td style=\"text-align: right;\">       0.104992 </td><td style=\"text-align: right;\">          6400</td><td style=\"text-align: right;\">144</td><td style=\"text-align: right;\">                  4</td></tr>\n",
       "<tr><td>train_xgboost_b2fa7de9</td><td>TERMINATED</td><td>127.0.0.1:33156</td><td style=\"text-align: right;\">0.00168054</td><td style=\"text-align: right;\">          0.567272</td><td>[101, 102, 103, 105]</td><td style=\"text-align: right;\">0.0523394</td><td>error        </td><td style=\"text-align: right;\">7.381     </td><td style=\"text-align: right;\">          6</td><td style=\"text-align: right;\">                 2</td><td>binary:logistic</td><td style=\"text-align: right;\">   0.93044 </td><td style=\"text-align: right;\">     1</td><td style=\"text-align: right;\">       0.104001 </td><td style=\"text-align: right;\">          7000</td><td style=\"text-align: right;\">156</td><td style=\"text-align: right;\">                  4</td></tr>\n",
       "<tr><td>train_xgboost_acd58799</td><td>TERMINATED</td><td>127.0.0.1:56644</td><td style=\"text-align: right;\">0.016423  </td><td style=\"text-align: right;\">          0.533183</td><td>[102, 103, 105]     </td><td style=\"text-align: right;\">0.0164338</td><td>error        </td><td style=\"text-align: right;\">0.305881  </td><td style=\"text-align: right;\">         10</td><td style=\"text-align: right;\">                 5</td><td>binary:logistic</td><td style=\"text-align: right;\">   0.670072</td><td style=\"text-align: right;\">     1</td><td style=\"text-align: right;\">       0.0949998</td><td style=\"text-align: right;\">          6250</td><td style=\"text-align: right;\">137</td><td style=\"text-align: right;\">                  3</td></tr>\n",
       "<tr><td>train_xgboost_e9b7c619</td><td>TERMINATED</td><td>127.0.0.1:46640</td><td style=\"text-align: right;\">0.0461799 </td><td style=\"text-align: right;\">          0.975399</td><td>[104, 102, 103, 105]</td><td style=\"text-align: right;\">0.0498222</td><td>error        </td><td style=\"text-align: right;\">0.0909972 </td><td style=\"text-align: right;\">          7</td><td style=\"text-align: right;\">                 5</td><td>binary:logistic</td><td style=\"text-align: right;\">   0.882885</td><td style=\"text-align: right;\">     1</td><td style=\"text-align: right;\">       0.100999 </td><td style=\"text-align: right;\">          6600</td><td style=\"text-align: right;\">148</td><td style=\"text-align: right;\">                  4</td></tr>\n",
       "<tr><td>train_xgboost_a0e4bc67</td><td>TERMINATED</td><td>127.0.0.1:53540</td><td style=\"text-align: right;\">0.20863   </td><td style=\"text-align: right;\">          0.611956</td><td>[102, 103, 105]     </td><td style=\"text-align: right;\">0.0448569</td><td>error        </td><td style=\"text-align: right;\">3.50176   </td><td style=\"text-align: right;\">          3</td><td style=\"text-align: right;\">                 1</td><td>binary:logistic</td><td style=\"text-align: right;\">   0.704529</td><td style=\"text-align: right;\">     1</td><td style=\"text-align: right;\">       0.0619993</td><td style=\"text-align: right;\">          6900</td><td style=\"text-align: right;\">150</td><td style=\"text-align: right;\">                  3</td></tr>\n",
       "<tr><td>train_xgboost_a5956e79</td><td>TERMINATED</td><td>127.0.0.1:24556</td><td style=\"text-align: right;\">0.894012  </td><td style=\"text-align: right;\">          0.776941</td><td>[104, 102, 103, 105]</td><td style=\"text-align: right;\">0.0956806</td><td>error        </td><td style=\"text-align: right;\">6.25491   </td><td style=\"text-align: right;\">          4</td><td style=\"text-align: right;\">                 5</td><td>binary:logistic</td><td style=\"text-align: right;\">   0.600909</td><td style=\"text-align: right;\">     1</td><td style=\"text-align: right;\">       0.0750012</td><td style=\"text-align: right;\">          6750</td><td style=\"text-align: right;\">151</td><td style=\"text-align: right;\">                  4</td></tr>\n",
       "<tr><td>train_xgboost_ea2bc557</td><td>TERMINATED</td><td>127.0.0.1:7016 </td><td style=\"text-align: right;\">0.323291  </td><td style=\"text-align: right;\">          0.682588</td><td>[101, 102, 103, 105]</td><td style=\"text-align: right;\">0.0202659</td><td>error        </td><td style=\"text-align: right;\">1.44331   </td><td style=\"text-align: right;\">          6</td><td style=\"text-align: right;\">                 4</td><td>binary:logistic</td><td style=\"text-align: right;\">   0.575582</td><td style=\"text-align: right;\">     1</td><td style=\"text-align: right;\">       0.0800014</td><td style=\"text-align: right;\">          6800</td><td style=\"text-align: right;\">152</td><td style=\"text-align: right;\">                  4</td></tr>\n",
       "<tr><td>train_xgboost_a1e4d8bd</td><td>TERMINATED</td><td>127.0.0.1:44916</td><td style=\"text-align: right;\">0.0247252 </td><td style=\"text-align: right;\">          0.863806</td><td>[101, 102, 105]     </td><td style=\"text-align: right;\">0.0112555</td><td>error        </td><td style=\"text-align: right;\">0.0492088 </td><td style=\"text-align: right;\">          3</td><td style=\"text-align: right;\">                 5</td><td>binary:logistic</td><td style=\"text-align: right;\">   0.968931</td><td style=\"text-align: right;\">     1</td><td style=\"text-align: right;\">       0.0602944</td><td style=\"text-align: right;\">          6650</td><td style=\"text-align: right;\">145</td><td style=\"text-align: right;\">                  3</td></tr>\n",
       "<tr><td>train_xgboost_b2ff80a0</td><td>TERMINATED</td><td>127.0.0.1:63020</td><td style=\"text-align: right;\">0.242212  </td><td style=\"text-align: right;\">          0.934977</td><td>[104, 102, 103, 105]</td><td style=\"text-align: right;\">0.0373405</td><td>error        </td><td style=\"text-align: right;\">4.35327   </td><td style=\"text-align: right;\">          6</td><td style=\"text-align: right;\">                 1</td><td>binary:logistic</td><td style=\"text-align: right;\">   0.569274</td><td style=\"text-align: right;\">     1</td><td style=\"text-align: right;\">       0.0965056</td><td style=\"text-align: right;\">          6550</td><td style=\"text-align: right;\">147</td><td style=\"text-align: right;\">                  4</td></tr>\n",
       "<tr><td>train_xgboost_0e53de7f</td><td>TERMINATED</td><td>127.0.0.1:14800</td><td style=\"text-align: right;\">0.0022554 </td><td style=\"text-align: right;\">          0.910976</td><td>[101, 102, 103, 105]</td><td style=\"text-align: right;\">0.0459617</td><td>error        </td><td style=\"text-align: right;\">0.154267  </td><td style=\"text-align: right;\">          8</td><td style=\"text-align: right;\">                 5</td><td>binary:logistic</td><td style=\"text-align: right;\">   0.895989</td><td style=\"text-align: right;\">     1</td><td style=\"text-align: right;\">       0.106    </td><td style=\"text-align: right;\">          6900</td><td style=\"text-align: right;\">154</td><td style=\"text-align: right;\">                  4</td></tr>\n",
       "<tr><td>train_xgboost_548f4479</td><td>TERMINATED</td><td>127.0.0.1:23608</td><td style=\"text-align: right;\">0.00369912</td><td style=\"text-align: right;\">          0.611838</td><td>[101, 102, 103]     </td><td style=\"text-align: right;\">0.0132709</td><td>error        </td><td style=\"text-align: right;\">1.61767   </td><td style=\"text-align: right;\">          6</td><td style=\"text-align: right;\">                 3</td><td>binary:logistic</td><td style=\"text-align: right;\">   0.534968</td><td style=\"text-align: right;\">     1</td><td style=\"text-align: right;\">       0.0730002</td><td style=\"text-align: right;\">          6650</td><td style=\"text-align: right;\">145</td><td style=\"text-align: right;\">                  3</td></tr>\n",
       "<tr><td>train_xgboost_ee2dd3e4</td><td>TERMINATED</td><td>127.0.0.1:37740</td><td style=\"text-align: right;\">0.0413698 </td><td style=\"text-align: right;\">          0.809174</td><td>[100, 102, 103, 105]</td><td style=\"text-align: right;\">0.0471157</td><td>error        </td><td style=\"text-align: right;\">0.0101936 </td><td style=\"text-align: right;\">          5</td><td style=\"text-align: right;\">                 2</td><td>binary:logistic</td><td style=\"text-align: right;\">   0.614374</td><td style=\"text-align: right;\">     1</td><td style=\"text-align: right;\">       0.0810025</td><td style=\"text-align: right;\">          6850</td><td style=\"text-align: right;\">153</td><td style=\"text-align: right;\">                  4</td></tr>\n",
       "<tr><td>train_xgboost_07408a99</td><td>TERMINATED</td><td>127.0.0.1:47920</td><td style=\"text-align: right;\">9.69017   </td><td style=\"text-align: right;\">          0.571168</td><td>[100, 101, 102, 105]</td><td style=\"text-align: right;\">0.0238445</td><td>error        </td><td style=\"text-align: right;\">0.0220398 </td><td style=\"text-align: right;\">          6</td><td style=\"text-align: right;\">                 4</td><td>binary:logistic</td><td style=\"text-align: right;\">   0.886598</td><td style=\"text-align: right;\">     1</td><td style=\"text-align: right;\">       0.108    </td><td style=\"text-align: right;\">          6650</td><td style=\"text-align: right;\">149</td><td style=\"text-align: right;\">                  4</td></tr>\n",
       "<tr><td>train_xgboost_11c1d934</td><td>TERMINATED</td><td>127.0.0.1:14644</td><td style=\"text-align: right;\">5.6164    </td><td style=\"text-align: right;\">          0.905054</td><td>[100, 101, 102, 103]</td><td style=\"text-align: right;\">0.0884026</td><td>error        </td><td style=\"text-align: right;\">0.0948692 </td><td style=\"text-align: right;\">          4</td><td style=\"text-align: right;\">                 2</td><td>binary:logistic</td><td style=\"text-align: right;\">   0.534125</td><td style=\"text-align: right;\">     1</td><td style=\"text-align: right;\">       0.0809996</td><td style=\"text-align: right;\">          6600</td><td style=\"text-align: right;\">148</td><td style=\"text-align: right;\">                  4</td></tr>\n",
       "<tr><td>train_xgboost_fd5b54ec</td><td>TERMINATED</td><td>127.0.0.1:28488</td><td style=\"text-align: right;\">2.13082   </td><td style=\"text-align: right;\">          0.87617 </td><td>[101, 102, 103, 105]</td><td style=\"text-align: right;\">0.0315152</td><td>error        </td><td style=\"text-align: right;\">0.0279618 </td><td style=\"text-align: right;\">          5</td><td style=\"text-align: right;\">                 3</td><td>binary:logistic</td><td style=\"text-align: right;\">   0.703959</td><td style=\"text-align: right;\">     1</td><td style=\"text-align: right;\">       0.0806193</td><td style=\"text-align: right;\">          7050</td><td style=\"text-align: right;\">157</td><td style=\"text-align: right;\">                  4</td></tr>\n",
       "<tr><td>train_xgboost_20ceaae5</td><td>TERMINATED</td><td>127.0.0.1:30044</td><td style=\"text-align: right;\">2.81471   </td><td style=\"text-align: right;\">          0.94067 </td><td>[102, 103, 105]     </td><td style=\"text-align: right;\">0.0110709</td><td>error        </td><td style=\"text-align: right;\">0.191656  </td><td style=\"text-align: right;\">          5</td><td style=\"text-align: right;\">                 1</td><td>binary:logistic</td><td style=\"text-align: right;\">   0.99879 </td><td style=\"text-align: right;\">     1</td><td style=\"text-align: right;\">       0.0729997</td><td style=\"text-align: right;\">          6650</td><td style=\"text-align: right;\">145</td><td style=\"text-align: right;\">                  3</td></tr>\n",
       "<tr><td>train_xgboost_7d1265aa</td><td>TERMINATED</td><td>127.0.0.1:9672 </td><td style=\"text-align: right;\">1.81517   </td><td style=\"text-align: right;\">          0.748191</td><td>[100, 104, 102,_92f0</td><td style=\"text-align: right;\">0.0321568</td><td>error        </td><td style=\"text-align: right;\">0.00621889</td><td style=\"text-align: right;\">          6</td><td style=\"text-align: right;\">                 2</td><td>binary:logistic</td><td style=\"text-align: right;\">   0.554302</td><td style=\"text-align: right;\">     1</td><td style=\"text-align: right;\">       0.0949988</td><td style=\"text-align: right;\">          6950</td><td style=\"text-align: right;\">159</td><td style=\"text-align: right;\">                  5</td></tr>\n",
       "<tr><td>train_xgboost_77bb4f8e</td><td>TERMINATED</td><td>127.0.0.1:11296</td><td style=\"text-align: right;\">0.993862  </td><td style=\"text-align: right;\">          0.839149</td><td>[101, 102, 103]     </td><td style=\"text-align: right;\">0.0141646</td><td>error        </td><td style=\"text-align: right;\">0.00104296</td><td style=\"text-align: right;\">          4</td><td style=\"text-align: right;\">                 3</td><td>binary:logistic</td><td style=\"text-align: right;\">   0.997343</td><td style=\"text-align: right;\">     1</td><td style=\"text-align: right;\">       0.0659997</td><td style=\"text-align: right;\">          6800</td><td style=\"text-align: right;\">148</td><td style=\"text-align: right;\">                  3</td></tr>\n",
       "<tr><td>train_xgboost_253adaad</td><td>TERMINATED</td><td>127.0.0.1:49212</td><td style=\"text-align: right;\">0.447073  </td><td style=\"text-align: right;\">          0.898126</td><td>[104, 102, 103, 105]</td><td style=\"text-align: right;\">0.0384301</td><td>error        </td><td style=\"text-align: right;\">0.0182694 </td><td style=\"text-align: right;\">          6</td><td style=\"text-align: right;\">                 4</td><td>binary:logistic</td><td style=\"text-align: right;\">   0.576624</td><td style=\"text-align: right;\">     1</td><td style=\"text-align: right;\">       0.0879979</td><td style=\"text-align: right;\">          6700</td><td style=\"text-align: right;\">150</td><td style=\"text-align: right;\">                  4</td></tr>\n",
       "<tr><td>train_xgboost_75b62c3b</td><td>TERMINATED</td><td>127.0.0.1:20852</td><td style=\"text-align: right;\">0.00541929</td><td style=\"text-align: right;\">          0.689362</td><td>[104, 102, 103, 105]</td><td style=\"text-align: right;\">0.0628157</td><td>error        </td><td style=\"text-align: right;\">2.69024   </td><td style=\"text-align: right;\">          3</td><td style=\"text-align: right;\">                 1</td><td>binary:logistic</td><td style=\"text-align: right;\">   0.618418</td><td style=\"text-align: right;\">     1</td><td style=\"text-align: right;\">       0.0650012</td><td style=\"text-align: right;\">          7050</td><td style=\"text-align: right;\">157</td><td style=\"text-align: right;\">                  4</td></tr>\n",
       "<tr><td>train_xgboost_e34ef6cc</td><td>TERMINATED</td><td>127.0.0.1:46296</td><td style=\"text-align: right;\">0.2093    </td><td style=\"text-align: right;\">          0.570937</td><td>[101, 102, 103]     </td><td style=\"text-align: right;\">0.0308477</td><td>error        </td><td style=\"text-align: right;\">2.90077   </td><td style=\"text-align: right;\">          3</td><td style=\"text-align: right;\">                 2</td><td>binary:logistic</td><td style=\"text-align: right;\">   0.620381</td><td style=\"text-align: right;\">     1</td><td style=\"text-align: right;\">       0.0619986</td><td style=\"text-align: right;\">          6750</td><td style=\"text-align: right;\">147</td><td style=\"text-align: right;\">                  3</td></tr>\n",
       "<tr><td>train_xgboost_a24f6aca</td><td>TERMINATED</td><td>127.0.0.1:49000</td><td style=\"text-align: right;\">0.00462041</td><td style=\"text-align: right;\">          0.538011</td><td>[101, 103, 105]     </td><td style=\"text-align: right;\">0.0282992</td><td>error        </td><td style=\"text-align: right;\">0.673094  </td><td style=\"text-align: right;\">          5</td><td style=\"text-align: right;\">                 3</td><td>binary:logistic</td><td style=\"text-align: right;\">   0.691966</td><td style=\"text-align: right;\">     1</td><td style=\"text-align: right;\">       0.0699549</td><td style=\"text-align: right;\">          6500</td><td style=\"text-align: right;\">142</td><td style=\"text-align: right;\">                  3</td></tr>\n",
       "<tr><td>train_xgboost_6b28a990</td><td>TERMINATED</td><td>127.0.0.1:25852</td><td style=\"text-align: right;\">0.00357417</td><td style=\"text-align: right;\">          0.710214</td><td>[100, 101, 102, 103]</td><td style=\"text-align: right;\">0.0418178</td><td>error        </td><td style=\"text-align: right;\">0.104677  </td><td style=\"text-align: right;\">          5</td><td style=\"text-align: right;\">                 1</td><td>binary:logistic</td><td style=\"text-align: right;\">   0.765833</td><td style=\"text-align: right;\">     1</td><td style=\"text-align: right;\">       0.0740032</td><td style=\"text-align: right;\">          6700</td><td style=\"text-align: right;\">150</td><td style=\"text-align: right;\">                  4</td></tr>\n",
       "<tr><td>train_xgboost_b414f94c</td><td>TERMINATED</td><td>127.0.0.1:39756</td><td style=\"text-align: right;\">0.0297214 </td><td style=\"text-align: right;\">          0.653927</td><td>[101, 102, 103]     </td><td style=\"text-align: right;\">0.0226695</td><td>error        </td><td style=\"text-align: right;\">0.452497  </td><td style=\"text-align: right;\">          8</td><td style=\"text-align: right;\">                 5</td><td>binary:logistic</td><td style=\"text-align: right;\">   0.512547</td><td style=\"text-align: right;\">     1</td><td style=\"text-align: right;\">       0.0839989</td><td style=\"text-align: right;\">          6450</td><td style=\"text-align: right;\">141</td><td style=\"text-align: right;\">                  3</td></tr>\n",
       "<tr><td>train_xgboost_d22435a7</td><td>TERMINATED</td><td>127.0.0.1:21008</td><td style=\"text-align: right;\">0.00713254</td><td style=\"text-align: right;\">          0.612365</td><td>[100, 101, 102, 103]</td><td style=\"text-align: right;\">0.0123171</td><td>error        </td><td style=\"text-align: right;\">0.00417899</td><td style=\"text-align: right;\">          3</td><td style=\"text-align: right;\">                 5</td><td>binary:logistic</td><td style=\"text-align: right;\">   0.742574</td><td style=\"text-align: right;\">     1</td><td style=\"text-align: right;\">       0.0630014</td><td style=\"text-align: right;\">          6650</td><td style=\"text-align: right;\">149</td><td style=\"text-align: right;\">                  4</td></tr>\n",
       "<tr><td>train_xgboost_85fb8256</td><td>TERMINATED</td><td>127.0.0.1:45644</td><td style=\"text-align: right;\">5.71155   </td><td style=\"text-align: right;\">          0.67559 </td><td>[100, 101, 102,_ff50</td><td style=\"text-align: right;\">0.0315784</td><td>error        </td><td style=\"text-align: right;\">0.0785801 </td><td style=\"text-align: right;\">         10</td><td style=\"text-align: right;\">                 5</td><td>binary:logistic</td><td style=\"text-align: right;\">   0.610418</td><td style=\"text-align: right;\">     1</td><td style=\"text-align: right;\">       0.103    </td><td style=\"text-align: right;\">          6900</td><td style=\"text-align: right;\">158</td><td style=\"text-align: right;\">                  5</td></tr>\n",
       "<tr><td>train_xgboost_dcec87d0</td><td>TERMINATED</td><td>127.0.0.1:24392</td><td style=\"text-align: right;\">0.0104438 </td><td style=\"text-align: right;\">          0.666805</td><td>[101, 102, 103]     </td><td style=\"text-align: right;\">0.0286885</td><td>error        </td><td style=\"text-align: right;\">0.0257156 </td><td style=\"text-align: right;\">          7</td><td style=\"text-align: right;\">                 2</td><td>binary:logistic</td><td style=\"text-align: right;\">   0.905104</td><td style=\"text-align: right;\">     1</td><td style=\"text-align: right;\">       0.0949998</td><td style=\"text-align: right;\">          6750</td><td style=\"text-align: right;\">147</td><td style=\"text-align: right;\">                  3</td></tr>\n",
       "<tr><td>train_xgboost_9f0d2834</td><td>TERMINATED</td><td>127.0.0.1:8376 </td><td style=\"text-align: right;\">1.23089   </td><td style=\"text-align: right;\">          0.703868</td><td>[104, 102, 103, 105]</td><td style=\"text-align: right;\">0.0205261</td><td>error        </td><td style=\"text-align: right;\">0.00836872</td><td style=\"text-align: right;\">          6</td><td style=\"text-align: right;\">                 2</td><td>binary:logistic</td><td style=\"text-align: right;\">   0.532556</td><td style=\"text-align: right;\">     1</td><td style=\"text-align: right;\">       0.0839987</td><td style=\"text-align: right;\">          6650</td><td style=\"text-align: right;\">149</td><td style=\"text-align: right;\">                  4</td></tr>\n",
       "<tr><td>train_xgboost_4537a365</td><td>TERMINATED</td><td>127.0.0.1:15028</td><td style=\"text-align: right;\">0.0244354 </td><td style=\"text-align: right;\">          0.722308</td><td>[100, 101, 102, 103]</td><td style=\"text-align: right;\">0.0509462</td><td>error        </td><td style=\"text-align: right;\">0.153744  </td><td style=\"text-align: right;\">          4</td><td style=\"text-align: right;\">                 3</td><td>binary:logistic</td><td style=\"text-align: right;\">   0.663503</td><td style=\"text-align: right;\">     1</td><td style=\"text-align: right;\">       0.0689993</td><td style=\"text-align: right;\">          6750</td><td style=\"text-align: right;\">151</td><td style=\"text-align: right;\">                  4</td></tr>\n",
       "<tr><td>train_xgboost_91929e4d</td><td>TERMINATED</td><td>127.0.0.1:57536</td><td style=\"text-align: right;\">0.0791074 </td><td style=\"text-align: right;\">          0.527032</td><td>[101, 102, 105]     </td><td style=\"text-align: right;\">0.0606858</td><td>error        </td><td style=\"text-align: right;\">0.00231948</td><td style=\"text-align: right;\">          7</td><td style=\"text-align: right;\">                 3</td><td>binary:logistic</td><td style=\"text-align: right;\">   0.738018</td><td style=\"text-align: right;\">     1</td><td style=\"text-align: right;\">       0.0839999</td><td style=\"text-align: right;\">          6700</td><td style=\"text-align: right;\">146</td><td style=\"text-align: right;\">                  3</td></tr>\n",
       "<tr><td>train_xgboost_a6276b7f</td><td>TERMINATED</td><td>127.0.0.1:11900</td><td style=\"text-align: right;\">0.351011  </td><td style=\"text-align: right;\">          0.53615 </td><td>[101, 102, 103]     </td><td style=\"text-align: right;\">0.0470732</td><td>error        </td><td style=\"text-align: right;\">2.31905   </td><td style=\"text-align: right;\">          5</td><td style=\"text-align: right;\">                 2</td><td>binary:logistic</td><td style=\"text-align: right;\">   0.898629</td><td style=\"text-align: right;\">     1</td><td style=\"text-align: right;\">       0.0689986</td><td style=\"text-align: right;\">          6800</td><td style=\"text-align: right;\">148</td><td style=\"text-align: right;\">                  3</td></tr>\n",
       "<tr><td>train_xgboost_55051260</td><td>TERMINATED</td><td>127.0.0.1:37796</td><td style=\"text-align: right;\">0.0646804 </td><td style=\"text-align: right;\">          0.668599</td><td>[100, 101, 102, 103]</td><td style=\"text-align: right;\">0.0785938</td><td>error        </td><td style=\"text-align: right;\">1.05149   </td><td style=\"text-align: right;\">          3</td><td style=\"text-align: right;\">                 2</td><td>binary:logistic</td><td style=\"text-align: right;\">   0.775725</td><td style=\"text-align: right;\">     1</td><td style=\"text-align: right;\">       0.0649998</td><td style=\"text-align: right;\">          6750</td><td style=\"text-align: right;\">151</td><td style=\"text-align: right;\">                  4</td></tr>\n",
       "<tr><td>train_xgboost_dca0f65a</td><td>TERMINATED</td><td>127.0.0.1:13808</td><td style=\"text-align: right;\">5.05026   </td><td style=\"text-align: right;\">          0.756953</td><td>[104, 102, 103, 105]</td><td style=\"text-align: right;\">0.0224098</td><td>error        </td><td style=\"text-align: right;\">0.0924296 </td><td style=\"text-align: right;\">          4</td><td style=\"text-align: right;\">                 2</td><td>binary:logistic</td><td style=\"text-align: right;\">   0.727272</td><td style=\"text-align: right;\">     1</td><td style=\"text-align: right;\">       0.0870023</td><td style=\"text-align: right;\">          6550</td><td style=\"text-align: right;\">147</td><td style=\"text-align: right;\">                  4</td></tr>\n",
       "<tr><td>train_xgboost_ae67a903</td><td>TERMINATED</td><td>127.0.0.1:52752</td><td style=\"text-align: right;\">0.258858  </td><td style=\"text-align: right;\">          0.665814</td><td>[104, 102, 103, 105]</td><td style=\"text-align: right;\">0.0211579</td><td>error        </td><td style=\"text-align: right;\">0.00130346</td><td style=\"text-align: right;\">          8</td><td style=\"text-align: right;\">                 1</td><td>binary:logistic</td><td style=\"text-align: right;\">   0.535549</td><td style=\"text-align: right;\">     1</td><td style=\"text-align: right;\">       0.111999 </td><td style=\"text-align: right;\">          6650</td><td style=\"text-align: right;\">149</td><td style=\"text-align: right;\">                  4</td></tr>\n",
       "<tr><td>train_xgboost_802b7f57</td><td>TERMINATED</td><td>127.0.0.1:30900</td><td style=\"text-align: right;\">0.0119948 </td><td style=\"text-align: right;\">          0.834617</td><td>[100, 101, 102, 103]</td><td style=\"text-align: right;\">0.0551516</td><td>error        </td><td style=\"text-align: right;\">0.0565452 </td><td style=\"text-align: right;\">          5</td><td style=\"text-align: right;\">                 2</td><td>binary:logistic</td><td style=\"text-align: right;\">   0.575981</td><td style=\"text-align: right;\">     1</td><td style=\"text-align: right;\">       0.0810034</td><td style=\"text-align: right;\">          6750</td><td style=\"text-align: right;\">151</td><td style=\"text-align: right;\">                  4</td></tr>\n",
       "<tr><td>train_xgboost_0c2fc569</td><td>TERMINATED</td><td>127.0.0.1:48528</td><td style=\"text-align: right;\">0.014706  </td><td style=\"text-align: right;\">          0.620246</td><td>[100, 101, 102, 103]</td><td style=\"text-align: right;\">0.0242783</td><td>error        </td><td style=\"text-align: right;\">0.092076  </td><td style=\"text-align: right;\">          6</td><td style=\"text-align: right;\">                 1</td><td>binary:logistic</td><td style=\"text-align: right;\">   0.636542</td><td style=\"text-align: right;\">     1</td><td style=\"text-align: right;\">       0.0869985</td><td style=\"text-align: right;\">          6900</td><td style=\"text-align: right;\">154</td><td style=\"text-align: right;\">                  4</td></tr>\n",
       "<tr><td>train_xgboost_9a831eae</td><td>TERMINATED</td><td>127.0.0.1:34212</td><td style=\"text-align: right;\">1.02178   </td><td style=\"text-align: right;\">          0.644897</td><td>[104, 102, 103, 105]</td><td style=\"text-align: right;\">0.0113391</td><td>error        </td><td style=\"text-align: right;\">0.0122668 </td><td style=\"text-align: right;\">          5</td><td style=\"text-align: right;\">                 2</td><td>binary:logistic</td><td style=\"text-align: right;\">   0.620149</td><td style=\"text-align: right;\">     1</td><td style=\"text-align: right;\">       0.0819979</td><td style=\"text-align: right;\">          6800</td><td style=\"text-align: right;\">152</td><td style=\"text-align: right;\">                  4</td></tr>\n",
       "<tr><td>train_xgboost_5d21ea4d</td><td>TERMINATED</td><td>127.0.0.1:28804</td><td style=\"text-align: right;\">0.279174  </td><td style=\"text-align: right;\">          0.833835</td><td>[104, 102, 103, 105]</td><td style=\"text-align: right;\">0.0424913</td><td>error        </td><td style=\"text-align: right;\">0.143247  </td><td style=\"text-align: right;\">          6</td><td style=\"text-align: right;\">                 3</td><td>binary:logistic</td><td style=\"text-align: right;\">   0.87405 </td><td style=\"text-align: right;\">     1</td><td style=\"text-align: right;\">       0.0929987</td><td style=\"text-align: right;\">          6900</td><td style=\"text-align: right;\">154</td><td style=\"text-align: right;\">                  4</td></tr>\n",
       "<tr><td>train_xgboost_8cdeba28</td><td>TERMINATED</td><td>127.0.0.1:55584</td><td style=\"text-align: right;\">0.00236733</td><td style=\"text-align: right;\">          0.640773</td><td>[101, 102, 103]     </td><td style=\"text-align: right;\">0.0241969</td><td>error        </td><td style=\"text-align: right;\">1.05042   </td><td style=\"text-align: right;\">          4</td><td style=\"text-align: right;\">                 5</td><td>binary:logistic</td><td style=\"text-align: right;\">   0.563051</td><td style=\"text-align: right;\">     1</td><td style=\"text-align: right;\">       0.0650008</td><td style=\"text-align: right;\">          6750</td><td style=\"text-align: right;\">147</td><td style=\"text-align: right;\">                  3</td></tr>\n",
       "<tr><td>train_xgboost_d6873e17</td><td>TERMINATED</td><td>127.0.0.1:33468</td><td style=\"text-align: right;\">0.915828  </td><td style=\"text-align: right;\">          0.674932</td><td>[100, 101, 102, 103]</td><td style=\"text-align: right;\">0.029707 </td><td>error        </td><td style=\"text-align: right;\">0.0899537 </td><td style=\"text-align: right;\">          4</td><td style=\"text-align: right;\">                 4</td><td>binary:logistic</td><td style=\"text-align: right;\">   0.678302</td><td style=\"text-align: right;\">     1</td><td style=\"text-align: right;\">       0.0709977</td><td style=\"text-align: right;\">          6800</td><td style=\"text-align: right;\">152</td><td style=\"text-align: right;\">                  4</td></tr>\n",
       "<tr><td>train_xgboost_4aa37c23</td><td>TERMINATED</td><td>127.0.0.1:61688</td><td style=\"text-align: right;\">0.110543  </td><td style=\"text-align: right;\">          0.779613</td><td>[100, 101, 102, 103]</td><td style=\"text-align: right;\">0.0473336</td><td>error        </td><td style=\"text-align: right;\">0.0187567 </td><td style=\"text-align: right;\">          5</td><td style=\"text-align: right;\">                 4</td><td>binary:logistic</td><td style=\"text-align: right;\">   0.715657</td><td style=\"text-align: right;\">     1</td><td style=\"text-align: right;\">       0.0789983</td><td style=\"text-align: right;\">          6800</td><td style=\"text-align: right;\">152</td><td style=\"text-align: right;\">                  4</td></tr>\n",
       "<tr><td>train_xgboost_92753f52</td><td>TERMINATED</td><td>127.0.0.1:48356</td><td style=\"text-align: right;\">0.0827808 </td><td style=\"text-align: right;\">          0.593684</td><td>[100, 101, 103, 105]</td><td style=\"text-align: right;\">0.0146672</td><td>error        </td><td style=\"text-align: right;\">0.00209581</td><td style=\"text-align: right;\">          5</td><td style=\"text-align: right;\">                 4</td><td>binary:logistic</td><td style=\"text-align: right;\">   0.845817</td><td style=\"text-align: right;\">     1</td><td style=\"text-align: right;\">       0.0750003</td><td style=\"text-align: right;\">          6800</td><td style=\"text-align: right;\">152</td><td style=\"text-align: right;\">                  4</td></tr>\n",
       "<tr><td>train_xgboost_f150aa16</td><td>TERMINATED</td><td>127.0.0.1:54064</td><td style=\"text-align: right;\">0.0833497 </td><td style=\"text-align: right;\">          0.642807</td><td>[101, 102, 105]     </td><td style=\"text-align: right;\">0.0127375</td><td>error        </td><td style=\"text-align: right;\">0.0199952 </td><td style=\"text-align: right;\">          4</td><td style=\"text-align: right;\">                 3</td><td>binary:logistic</td><td style=\"text-align: right;\">   0.711722</td><td style=\"text-align: right;\">     1</td><td style=\"text-align: right;\">       0.062999 </td><td style=\"text-align: right;\">          6650</td><td style=\"text-align: right;\">145</td><td style=\"text-align: right;\">                  3</td></tr>\n",
       "<tr><td>train_xgboost_9c79d4be</td><td>TERMINATED</td><td>127.0.0.1:1892 </td><td style=\"text-align: right;\">0.00520716</td><td style=\"text-align: right;\">          0.605669</td><td>[100, 101, 102,_ff50</td><td style=\"text-align: right;\">0.0286029</td><td>error        </td><td style=\"text-align: right;\">6.7722    </td><td style=\"text-align: right;\">          3</td><td style=\"text-align: right;\">                 4</td><td>binary:logistic</td><td style=\"text-align: right;\">   0.993292</td><td style=\"text-align: right;\">     1</td><td style=\"text-align: right;\">       0.0689983</td><td style=\"text-align: right;\">          6750</td><td style=\"text-align: right;\">155</td><td style=\"text-align: right;\">                  5</td></tr>\n",
       "<tr><td>train_xgboost_19158d1e</td><td>TERMINATED</td><td>127.0.0.1:46772</td><td style=\"text-align: right;\">2.30125   </td><td style=\"text-align: right;\">          0.737495</td><td>[100, 101, 102, 103]</td><td style=\"text-align: right;\">0.0551971</td><td>error        </td><td style=\"text-align: right;\">0.0296028 </td><td style=\"text-align: right;\">          5</td><td style=\"text-align: right;\">                 3</td><td>binary:logistic</td><td style=\"text-align: right;\">   0.88613 </td><td style=\"text-align: right;\">     1</td><td style=\"text-align: right;\">       0.0739987</td><td style=\"text-align: right;\">          6600</td><td style=\"text-align: right;\">148</td><td style=\"text-align: right;\">                  4</td></tr>\n",
       "<tr><td>train_xgboost_b6a06b5b</td><td>TERMINATED</td><td>127.0.0.1:64304</td><td style=\"text-align: right;\">0.357787  </td><td style=\"text-align: right;\">          0.806798</td><td>[104, 102, 103, 105]</td><td style=\"text-align: right;\">0.0325636</td><td>error        </td><td style=\"text-align: right;\">0.0177406 </td><td style=\"text-align: right;\">          3</td><td style=\"text-align: right;\">                 4</td><td>binary:logistic</td><td style=\"text-align: right;\">   0.552754</td><td style=\"text-align: right;\">     1</td><td style=\"text-align: right;\">       0.0649996</td><td style=\"text-align: right;\">          6750</td><td style=\"text-align: right;\">151</td><td style=\"text-align: right;\">                  4</td></tr>\n",
       "<tr><td>train_xgboost_ad7d29bc</td><td>TERMINATED</td><td>127.0.0.1:43840</td><td style=\"text-align: right;\">0.00930256</td><td style=\"text-align: right;\">          0.792675</td><td>[100, 101, 102,_ff50</td><td style=\"text-align: right;\">0.0378646</td><td>error        </td><td style=\"text-align: right;\">0.00472402</td><td style=\"text-align: right;\">          4</td><td style=\"text-align: right;\">                 5</td><td>binary:logistic</td><td style=\"text-align: right;\">   0.505598</td><td style=\"text-align: right;\">     1</td><td style=\"text-align: right;\">       0.0769992</td><td style=\"text-align: right;\">          6800</td><td style=\"text-align: right;\">156</td><td style=\"text-align: right;\">                  5</td></tr>\n",
       "<tr><td>train_xgboost_e11a10df</td><td>TERMINATED</td><td>127.0.0.1:6388 </td><td style=\"text-align: right;\">0.00246515</td><td style=\"text-align: right;\">          0.505976</td><td>[100, 101, 102,_ff50</td><td style=\"text-align: right;\">0.041324 </td><td>error        </td><td style=\"text-align: right;\">0.856229  </td><td style=\"text-align: right;\">          4</td><td style=\"text-align: right;\">                 3</td><td>binary:logistic</td><td style=\"text-align: right;\">   0.864965</td><td style=\"text-align: right;\">     1</td><td style=\"text-align: right;\">       0.0720048</td><td style=\"text-align: right;\">          6700</td><td style=\"text-align: right;\">154</td><td style=\"text-align: right;\">                  5</td></tr>\n",
       "<tr><td>train_xgboost_5d17010e</td><td>TERMINATED</td><td>127.0.0.1:53052</td><td style=\"text-align: right;\">0.0701204 </td><td style=\"text-align: right;\">          0.648762</td><td>[101, 102, 103]     </td><td style=\"text-align: right;\">0.056001 </td><td>error        </td><td style=\"text-align: right;\">0.801243  </td><td style=\"text-align: right;\">          3</td><td style=\"text-align: right;\">                 1</td><td>binary:logistic</td><td style=\"text-align: right;\">   0.588637</td><td style=\"text-align: right;\">     1</td><td style=\"text-align: right;\">       0.0609992</td><td style=\"text-align: right;\">          6950</td><td style=\"text-align: right;\">151</td><td style=\"text-align: right;\">                  3</td></tr>\n",
       "<tr><td>train_xgboost_a55889aa</td><td>TERMINATED</td><td>127.0.0.1:21480</td><td style=\"text-align: right;\">0.429476  </td><td style=\"text-align: right;\">          0.549339</td><td>[101, 102, 103]     </td><td style=\"text-align: right;\">0.0479661</td><td>error        </td><td style=\"text-align: right;\">0.39415   </td><td style=\"text-align: right;\">          3</td><td style=\"text-align: right;\">                 1</td><td>binary:logistic</td><td style=\"text-align: right;\">   0.765006</td><td style=\"text-align: right;\">     1</td><td style=\"text-align: right;\">       0.0639989</td><td style=\"text-align: right;\">          6850</td><td style=\"text-align: right;\">149</td><td style=\"text-align: right;\">                  3</td></tr>\n",
       "<tr><td>train_xgboost_1ce6d34c</td><td>TERMINATED</td><td>127.0.0.1:33528</td><td style=\"text-align: right;\">0.0258199 </td><td style=\"text-align: right;\">          0.737295</td><td>[100, 101, 102, 103]</td><td style=\"text-align: right;\">0.0463426</td><td>error        </td><td style=\"text-align: right;\">0.0530532 </td><td style=\"text-align: right;\">          5</td><td style=\"text-align: right;\">                 3</td><td>binary:logistic</td><td style=\"text-align: right;\">   0.86823 </td><td style=\"text-align: right;\">     1</td><td style=\"text-align: right;\">       0.0769999</td><td style=\"text-align: right;\">          6500</td><td style=\"text-align: right;\">146</td><td style=\"text-align: right;\">                  4</td></tr>\n",
       "<tr><td>train_xgboost_4087dd4e</td><td>TERMINATED</td><td>127.0.0.1:42884</td><td style=\"text-align: right;\">2.41472   </td><td style=\"text-align: right;\">          0.53645 </td><td>[100, 101, 102,_a470</td><td style=\"text-align: right;\">0.0195436</td><td>error        </td><td style=\"text-align: right;\">1.71603   </td><td style=\"text-align: right;\">          6</td><td style=\"text-align: right;\">                 3</td><td>binary:logistic</td><td style=\"text-align: right;\">   0.604294</td><td style=\"text-align: right;\">     1</td><td style=\"text-align: right;\">       0.0889997</td><td style=\"text-align: right;\">          6550</td><td style=\"text-align: right;\">155</td><td style=\"text-align: right;\">                  6</td></tr>\n",
       "<tr><td>train_xgboost_a64d0644</td><td>TERMINATED</td><td>127.0.0.1:54036</td><td style=\"text-align: right;\">0.00335957</td><td style=\"text-align: right;\">          0.906221</td><td>[101, 102, 105]     </td><td style=\"text-align: right;\">0.0151472</td><td>error        </td><td style=\"text-align: right;\">0.0820961 </td><td style=\"text-align: right;\">          9</td><td style=\"text-align: right;\">                 3</td><td>binary:logistic</td><td style=\"text-align: right;\">   0.695488</td><td style=\"text-align: right;\">     1</td><td style=\"text-align: right;\">       0.106999 </td><td style=\"text-align: right;\">          6650</td><td style=\"text-align: right;\">145</td><td style=\"text-align: right;\">                  3</td></tr>\n",
       "<tr><td>train_xgboost_234f7351</td><td>TERMINATED</td><td>127.0.0.1:21248</td><td style=\"text-align: right;\">0.00337657</td><td style=\"text-align: right;\">          0.660551</td><td>[100, 101, 102,_ff50</td><td style=\"text-align: right;\">0.0612328</td><td>error        </td><td style=\"text-align: right;\">2.23841   </td><td style=\"text-align: right;\">          3</td><td style=\"text-align: right;\">                 3</td><td>binary:logistic</td><td style=\"text-align: right;\">   0.791954</td><td style=\"text-align: right;\">     1</td><td style=\"text-align: right;\">       0.0710001</td><td style=\"text-align: right;\">          6700</td><td style=\"text-align: right;\">154</td><td style=\"text-align: right;\">                  5</td></tr>\n",
       "<tr><td>train_xgboost_4c94394e</td><td>TERMINATED</td><td>127.0.0.1:31476</td><td style=\"text-align: right;\">0.12317   </td><td style=\"text-align: right;\">          0.874358</td><td>[101, 102, 103]     </td><td style=\"text-align: right;\">0.0213817</td><td>error        </td><td style=\"text-align: right;\">0.0134094 </td><td style=\"text-align: right;\">          8</td><td style=\"text-align: right;\">                 4</td><td>binary:logistic</td><td style=\"text-align: right;\">   0.540516</td><td style=\"text-align: right;\">     1</td><td style=\"text-align: right;\">       0.105    </td><td style=\"text-align: right;\">          6750</td><td style=\"text-align: right;\">147</td><td style=\"text-align: right;\">                  3</td></tr>\n",
       "<tr><td>train_xgboost_954f9583</td><td>TERMINATED</td><td>127.0.0.1:35560</td><td style=\"text-align: right;\">1.51194   </td><td style=\"text-align: right;\">          0.875299</td><td>[104, 102, 103, 105]</td><td style=\"text-align: right;\">0.0267904</td><td>error        </td><td style=\"text-align: right;\">0.210096  </td><td style=\"text-align: right;\">          3</td><td style=\"text-align: right;\">                 1</td><td>binary:logistic</td><td style=\"text-align: right;\">   0.757905</td><td style=\"text-align: right;\">     1</td><td style=\"text-align: right;\">       0.0670021</td><td style=\"text-align: right;\">          6800</td><td style=\"text-align: right;\">152</td><td style=\"text-align: right;\">                  4</td></tr>\n",
       "<tr><td>train_xgboost_94c7f5ec</td><td>TERMINATED</td><td>127.0.0.1:15532</td><td style=\"text-align: right;\">0.689345  </td><td style=\"text-align: right;\">          0.651682</td><td>[100, 101, 103, 105]</td><td style=\"text-align: right;\">0.0103414</td><td>error        </td><td style=\"text-align: right;\">1.8149    </td><td style=\"text-align: right;\">          4</td><td style=\"text-align: right;\">                 1</td><td>binary:logistic</td><td style=\"text-align: right;\">   0.86701 </td><td style=\"text-align: right;\">     1</td><td style=\"text-align: right;\">       0.0690038</td><td style=\"text-align: right;\">          6800</td><td style=\"text-align: right;\">152</td><td style=\"text-align: right;\">                  4</td></tr>\n",
       "<tr><td>train_xgboost_e4b69721</td><td>TERMINATED</td><td>127.0.0.1:45336</td><td style=\"text-align: right;\">0.214202  </td><td style=\"text-align: right;\">          0.680934</td><td>[101, 102, 103, 105]</td><td style=\"text-align: right;\">0.0678183</td><td>error        </td><td style=\"text-align: right;\">1.85149   </td><td style=\"text-align: right;\">          4</td><td style=\"text-align: right;\">                 5</td><td>binary:logistic</td><td style=\"text-align: right;\">   0.581582</td><td style=\"text-align: right;\">     1</td><td style=\"text-align: right;\">       0.0909998</td><td style=\"text-align: right;\">          6850</td><td style=\"text-align: right;\">153</td><td style=\"text-align: right;\">                  4</td></tr>\n",
       "<tr><td>train_xgboost_550e55a6</td><td>TERMINATED</td><td>127.0.0.1:59164</td><td style=\"text-align: right;\">0.0535988 </td><td style=\"text-align: right;\">          0.508796</td><td>[101, 103, 105]     </td><td style=\"text-align: right;\">0.0289662</td><td>error        </td><td style=\"text-align: right;\">9.32209   </td><td style=\"text-align: right;\">          8</td><td style=\"text-align: right;\">                 3</td><td>binary:logistic</td><td style=\"text-align: right;\">   0.953469</td><td style=\"text-align: right;\">     1</td><td style=\"text-align: right;\">       0.0860007</td><td style=\"text-align: right;\">          6400</td><td style=\"text-align: right;\">140</td><td style=\"text-align: right;\">                  3</td></tr>\n",
       "<tr><td>train_xgboost_99b176b2</td><td>TERMINATED</td><td>127.0.0.1:58752</td><td style=\"text-align: right;\">0.00112934</td><td style=\"text-align: right;\">          0.677021</td><td>[101, 103, 105]     </td><td style=\"text-align: right;\">0.0437721</td><td>error        </td><td style=\"text-align: right;\">9.73298   </td><td style=\"text-align: right;\">          7</td><td style=\"text-align: right;\">                 2</td><td>binary:logistic</td><td style=\"text-align: right;\">   0.79228 </td><td style=\"text-align: right;\">     1</td><td style=\"text-align: right;\">       0.0939996</td><td style=\"text-align: right;\">          6600</td><td style=\"text-align: right;\">144</td><td style=\"text-align: right;\">                  3</td></tr>\n",
       "<tr><td>train_xgboost_21460417</td><td>TERMINATED</td><td>127.0.0.1:63196</td><td style=\"text-align: right;\">0.046312  </td><td style=\"text-align: right;\">          0.818045</td><td>[100, 101, 102, 103]</td><td style=\"text-align: right;\">0.0460934</td><td>error        </td><td style=\"text-align: right;\">2.56787   </td><td style=\"text-align: right;\">          7</td><td style=\"text-align: right;\">                 3</td><td>binary:logistic</td><td style=\"text-align: right;\">   0.903789</td><td style=\"text-align: right;\">     1</td><td style=\"text-align: right;\">       0.103001 </td><td style=\"text-align: right;\">          6750</td><td style=\"text-align: right;\">151</td><td style=\"text-align: right;\">                  4</td></tr>\n",
       "<tr><td>train_xgboost_fd089538</td><td>TERMINATED</td><td>127.0.0.1:53576</td><td style=\"text-align: right;\">0.00584925</td><td style=\"text-align: right;\">          0.57008 </td><td>[101, 103, 105]     </td><td style=\"text-align: right;\">0.0366401</td><td>error        </td><td style=\"text-align: right;\">0.86646   </td><td style=\"text-align: right;\">          6</td><td style=\"text-align: right;\">                 2</td><td>binary:logistic</td><td style=\"text-align: right;\">   0.684355</td><td style=\"text-align: right;\">     1</td><td style=\"text-align: right;\">       0.0719991</td><td style=\"text-align: right;\">          6550</td><td style=\"text-align: right;\">143</td><td style=\"text-align: right;\">                  3</td></tr>\n",
       "<tr><td>train_xgboost_10e1f7b3</td><td>TERMINATED</td><td>127.0.0.1:50732</td><td style=\"text-align: right;\">6.74786   </td><td style=\"text-align: right;\">          0.698823</td><td>[101, 102, 103, 105]</td><td style=\"text-align: right;\">0.0270567</td><td>error        </td><td style=\"text-align: right;\">2.82503   </td><td style=\"text-align: right;\">          9</td><td style=\"text-align: right;\">                 5</td><td>binary:logistic</td><td style=\"text-align: right;\">   0.659775</td><td style=\"text-align: right;\">     1</td><td style=\"text-align: right;\">       0.079999 </td><td style=\"text-align: right;\">          6800</td><td style=\"text-align: right;\">152</td><td style=\"text-align: right;\">                  4</td></tr>\n",
       "<tr><td>train_xgboost_19a0a064</td><td>TERMINATED</td><td>127.0.0.1:31920</td><td style=\"text-align: right;\">0.00207741</td><td style=\"text-align: right;\">          0.786079</td><td>[100, 101, 102,_a470</td><td style=\"text-align: right;\">0.0324701</td><td>error        </td><td style=\"text-align: right;\">0.988124  </td><td style=\"text-align: right;\">          9</td><td style=\"text-align: right;\">                 2</td><td>binary:logistic</td><td style=\"text-align: right;\">   0.691963</td><td style=\"text-align: right;\">     1</td><td style=\"text-align: right;\">       0.164999 </td><td style=\"text-align: right;\">          6550</td><td style=\"text-align: right;\">155</td><td style=\"text-align: right;\">                  6</td></tr>\n",
       "<tr><td>train_xgboost_9f2a761d</td><td>TERMINATED</td><td>127.0.0.1:10504</td><td style=\"text-align: right;\">2.30702   </td><td style=\"text-align: right;\">          0.993673</td><td>[101, 102, 105]     </td><td style=\"text-align: right;\">0.0137627</td><td>error        </td><td style=\"text-align: right;\">0.0019694 </td><td style=\"text-align: right;\">          7</td><td style=\"text-align: right;\">                 1</td><td>binary:logistic</td><td style=\"text-align: right;\">   0.568064</td><td style=\"text-align: right;\">     1</td><td style=\"text-align: right;\">       0.085    </td><td style=\"text-align: right;\">          6650</td><td style=\"text-align: right;\">145</td><td style=\"text-align: right;\">                  3</td></tr>\n",
       "<tr><td>train_xgboost_4337e3b5</td><td>TERMINATED</td><td>127.0.0.1:32444</td><td style=\"text-align: right;\">0.00271031</td><td style=\"text-align: right;\">          0.712536</td><td>[101, 102, 103, 105]</td><td style=\"text-align: right;\">0.0282414</td><td>error        </td><td style=\"text-align: right;\">4.3724    </td><td style=\"text-align: right;\">          4</td><td style=\"text-align: right;\">                 2</td><td>binary:logistic</td><td style=\"text-align: right;\">   0.700319</td><td style=\"text-align: right;\">     1</td><td style=\"text-align: right;\">       0.0700004</td><td style=\"text-align: right;\">          7050</td><td style=\"text-align: right;\">157</td><td style=\"text-align: right;\">                  4</td></tr>\n",
       "<tr><td>train_xgboost_6b216656</td><td>TERMINATED</td><td>127.0.0.1:60356</td><td style=\"text-align: right;\">0.055604  </td><td style=\"text-align: right;\">          0.931048</td><td>[101, 102, 103]     </td><td style=\"text-align: right;\">0.0384563</td><td>error        </td><td style=\"text-align: right;\">0.0137119 </td><td style=\"text-align: right;\">          6</td><td style=\"text-align: right;\">                 4</td><td>binary:logistic</td><td style=\"text-align: right;\">   0.996508</td><td style=\"text-align: right;\">     1</td><td style=\"text-align: right;\">       0.0782015</td><td style=\"text-align: right;\">          6800</td><td style=\"text-align: right;\">148</td><td style=\"text-align: right;\">                  3</td></tr>\n",
       "<tr><td>train_xgboost_1c69c043</td><td>TERMINATED</td><td>127.0.0.1:33516</td><td style=\"text-align: right;\">1.14827   </td><td style=\"text-align: right;\">          0.839026</td><td>[100, 101, 102, 103]</td><td style=\"text-align: right;\">0.0336202</td><td>error        </td><td style=\"text-align: right;\">0.171674  </td><td style=\"text-align: right;\">          6</td><td style=\"text-align: right;\">                 3</td><td>binary:logistic</td><td style=\"text-align: right;\">   0.926509</td><td style=\"text-align: right;\">     1</td><td style=\"text-align: right;\">       0.0899992</td><td style=\"text-align: right;\">          6850</td><td style=\"text-align: right;\">153</td><td style=\"text-align: right;\">                  4</td></tr>\n",
       "<tr><td>train_xgboost_f4c84ce6</td><td>TERMINATED</td><td>127.0.0.1:11492</td><td style=\"text-align: right;\">0.223096  </td><td style=\"text-align: right;\">          0.665544</td><td>[100, 101, 102, 103]</td><td style=\"text-align: right;\">0.0599869</td><td>error        </td><td style=\"text-align: right;\">0.313834  </td><td style=\"text-align: right;\">          4</td><td style=\"text-align: right;\">                 3</td><td>binary:logistic</td><td style=\"text-align: right;\">   0.524811</td><td style=\"text-align: right;\">     1</td><td style=\"text-align: right;\">       0.0712311</td><td style=\"text-align: right;\">          6800</td><td style=\"text-align: right;\">152</td><td style=\"text-align: right;\">                  4</td></tr>\n",
       "<tr><td>train_xgboost_b3ce8c42</td><td>TERMINATED</td><td>127.0.0.1:40320</td><td style=\"text-align: right;\">9.24315   </td><td style=\"text-align: right;\">          0.848027</td><td>[100, 101, 102, 103]</td><td style=\"text-align: right;\">0.0337969</td><td>error        </td><td style=\"text-align: right;\">0.0113942 </td><td style=\"text-align: right;\">          6</td><td style=\"text-align: right;\">                 5</td><td>binary:logistic</td><td style=\"text-align: right;\">   0.706474</td><td style=\"text-align: right;\">     1</td><td style=\"text-align: right;\">       0.077002 </td><td style=\"text-align: right;\">          6400</td><td style=\"text-align: right;\">144</td><td style=\"text-align: right;\">                  4</td></tr>\n",
       "<tr><td>train_xgboost_0bdc02c7</td><td>TERMINATED</td><td>127.0.0.1:34024</td><td style=\"text-align: right;\">0.0209517 </td><td style=\"text-align: right;\">          0.581668</td><td>[100, 101, 102, 103]</td><td style=\"text-align: right;\">0.0948202</td><td>error        </td><td style=\"text-align: right;\">0.938643  </td><td style=\"text-align: right;\">          4</td><td style=\"text-align: right;\">                 3</td><td>binary:logistic</td><td style=\"text-align: right;\">   0.794823</td><td style=\"text-align: right;\">     1</td><td style=\"text-align: right;\">       0.0700052</td><td style=\"text-align: right;\">          6600</td><td style=\"text-align: right;\">148</td><td style=\"text-align: right;\">                  4</td></tr>\n",
       "<tr><td>train_xgboost_28b641bb</td><td>TERMINATED</td><td>127.0.0.1:2896 </td><td style=\"text-align: right;\">0.180822  </td><td style=\"text-align: right;\">          0.666933</td><td>[104, 102, 103, 105]</td><td style=\"text-align: right;\">0.0456889</td><td>error        </td><td style=\"text-align: right;\">0.0013576 </td><td style=\"text-align: right;\">          7</td><td style=\"text-align: right;\">                 2</td><td>binary:logistic</td><td style=\"text-align: right;\">   0.623387</td><td style=\"text-align: right;\">     1</td><td style=\"text-align: right;\">       0.0980027</td><td style=\"text-align: right;\">          6650</td><td style=\"text-align: right;\">149</td><td style=\"text-align: right;\">                  4</td></tr>\n",
       "<tr><td>train_xgboost_e6e69c2e</td><td>TERMINATED</td><td>127.0.0.1:33276</td><td style=\"text-align: right;\">0.0123649 </td><td style=\"text-align: right;\">          0.551028</td><td>[101, 102, 105]     </td><td style=\"text-align: right;\">0.0309684</td><td>error        </td><td style=\"text-align: right;\">0.340427  </td><td style=\"text-align: right;\">          6</td><td style=\"text-align: right;\">                 2</td><td>binary:logistic</td><td style=\"text-align: right;\">   0.810391</td><td style=\"text-align: right;\">     1</td><td style=\"text-align: right;\">       0.0780017</td><td style=\"text-align: right;\">          6700</td><td style=\"text-align: right;\">146</td><td style=\"text-align: right;\">                  3</td></tr>\n",
       "<tr><td>train_xgboost_1d6d53e3</td><td>TERMINATED</td><td>127.0.0.1:8736 </td><td style=\"text-align: right;\">0.429153  </td><td style=\"text-align: right;\">          0.737194</td><td>[101, 102, 103]     </td><td style=\"text-align: right;\">0.0328007</td><td>error        </td><td style=\"text-align: right;\">0.014927  </td><td style=\"text-align: right;\">          8</td><td style=\"text-align: right;\">                 3</td><td>binary:logistic</td><td style=\"text-align: right;\">   0.512056</td><td style=\"text-align: right;\">     1</td><td style=\"text-align: right;\">       0.0928466</td><td style=\"text-align: right;\">          6700</td><td style=\"text-align: right;\">146</td><td style=\"text-align: right;\">                  3</td></tr>\n",
       "<tr><td>train_xgboost_0f58b5c2</td><td>TERMINATED</td><td>127.0.0.1:55168</td><td style=\"text-align: right;\">0.00165296</td><td style=\"text-align: right;\">          0.610101</td><td>[101, 103, 105]     </td><td style=\"text-align: right;\">0.0390866</td><td>error        </td><td style=\"text-align: right;\">0.792574  </td><td style=\"text-align: right;\">          4</td><td style=\"text-align: right;\">                 2</td><td>binary:logistic</td><td style=\"text-align: right;\">   0.561818</td><td style=\"text-align: right;\">     1</td><td style=\"text-align: right;\">       0.0640001</td><td style=\"text-align: right;\">          6550</td><td style=\"text-align: right;\">143</td><td style=\"text-align: right;\">                  3</td></tr>\n",
       "<tr><td>train_xgboost_91477909</td><td>TERMINATED</td><td>127.0.0.1:47568</td><td style=\"text-align: right;\">0.0353491 </td><td style=\"text-align: right;\">          0.638045</td><td>[101, 102, 105]     </td><td style=\"text-align: right;\">0.0262914</td><td>error        </td><td style=\"text-align: right;\">0.311502  </td><td style=\"text-align: right;\">          5</td><td style=\"text-align: right;\">                 2</td><td>binary:logistic</td><td style=\"text-align: right;\">   0.710613</td><td style=\"text-align: right;\">     1</td><td style=\"text-align: right;\">       0.0719995</td><td style=\"text-align: right;\">          6750</td><td style=\"text-align: right;\">147</td><td style=\"text-align: right;\">                  3</td></tr>\n",
       "<tr><td>train_xgboost_97d7dcf7</td><td>TERMINATED</td><td>127.0.0.1:43044</td><td style=\"text-align: right;\">0.0195201 </td><td style=\"text-align: right;\">          0.641013</td><td>[100, 101, 103, 105]</td><td style=\"text-align: right;\">0.0335955</td><td>error        </td><td style=\"text-align: right;\">0.00554783</td><td style=\"text-align: right;\">         10</td><td style=\"text-align: right;\">                 4</td><td>binary:logistic</td><td style=\"text-align: right;\">   0.506096</td><td style=\"text-align: right;\">     1</td><td style=\"text-align: right;\">       0.134001 </td><td style=\"text-align: right;\">          6750</td><td style=\"text-align: right;\">151</td><td style=\"text-align: right;\">                  4</td></tr>\n",
       "<tr><td>train_xgboost_ee1604bc</td><td>TERMINATED</td><td>127.0.0.1:7480 </td><td style=\"text-align: right;\">5.69924   </td><td style=\"text-align: right;\">          0.897378</td><td>[102, 103, 105]     </td><td style=\"text-align: right;\">0.0344147</td><td>error        </td><td style=\"text-align: right;\">0.0153689 </td><td style=\"text-align: right;\">          4</td><td style=\"text-align: right;\">                 1</td><td>binary:logistic</td><td style=\"text-align: right;\">   0.721032</td><td style=\"text-align: right;\">     1</td><td style=\"text-align: right;\">       0.0640006</td><td style=\"text-align: right;\">          6700</td><td style=\"text-align: right;\">146</td><td style=\"text-align: right;\">                  3</td></tr>\n",
       "<tr><td>train_xgboost_f35d5717</td><td>TERMINATED</td><td>127.0.0.1:7500 </td><td style=\"text-align: right;\">0.00291049</td><td style=\"text-align: right;\">          0.916949</td><td>[104, 102, 103, 105]</td><td style=\"text-align: right;\">0.0278859</td><td>error        </td><td style=\"text-align: right;\">0.739669  </td><td style=\"text-align: right;\">          7</td><td style=\"text-align: right;\">                 5</td><td>binary:logistic</td><td style=\"text-align: right;\">   0.944489</td><td style=\"text-align: right;\">     1</td><td style=\"text-align: right;\">       0.103001 </td><td style=\"text-align: right;\">          6700</td><td style=\"text-align: right;\">150</td><td style=\"text-align: right;\">                  4</td></tr>\n",
       "<tr><td>train_xgboost_fedc10d9</td><td>TERMINATED</td><td>127.0.0.1:12976</td><td style=\"text-align: right;\">0.0968018 </td><td style=\"text-align: right;\">          0.806387</td><td>[100, 101, 102, 103]</td><td style=\"text-align: right;\">0.0419692</td><td>error        </td><td style=\"text-align: right;\">0.0875992 </td><td style=\"text-align: right;\">          9</td><td style=\"text-align: right;\">                 2</td><td>binary:logistic</td><td style=\"text-align: right;\">   0.989777</td><td style=\"text-align: right;\">     1</td><td style=\"text-align: right;\">       0.138001 </td><td style=\"text-align: right;\">          6350</td><td style=\"text-align: right;\">143</td><td style=\"text-align: right;\">                  4</td></tr>\n",
       "<tr><td>train_xgboost_c1baf8a4</td><td>TERMINATED</td><td>127.0.0.1:43208</td><td style=\"text-align: right;\">3.71539   </td><td style=\"text-align: right;\">          0.742552</td><td>[100, 101, 102, 103]</td><td style=\"text-align: right;\">0.0253514</td><td>error        </td><td style=\"text-align: right;\">0.387459  </td><td style=\"text-align: right;\">          5</td><td style=\"text-align: right;\">                 4</td><td>binary:logistic</td><td style=\"text-align: right;\">   0.838067</td><td style=\"text-align: right;\">     1</td><td style=\"text-align: right;\">       0.0710001</td><td style=\"text-align: right;\">          6650</td><td style=\"text-align: right;\">149</td><td style=\"text-align: right;\">                  4</td></tr>\n",
       "<tr><td>train_xgboost_dd8cb210</td><td>TERMINATED</td><td>127.0.0.1:20080</td><td style=\"text-align: right;\">0.837378  </td><td style=\"text-align: right;\">          0.886889</td><td>[100, 101, 102, 103]</td><td style=\"text-align: right;\">0.0433159</td><td>error        </td><td style=\"text-align: right;\">0.382761  </td><td style=\"text-align: right;\">          3</td><td style=\"text-align: right;\">                 4</td><td>binary:logistic</td><td style=\"text-align: right;\">   0.77337 </td><td style=\"text-align: right;\">     1</td><td style=\"text-align: right;\">       0.0660028</td><td style=\"text-align: right;\">          6850</td><td style=\"text-align: right;\">153</td><td style=\"text-align: right;\">                  4</td></tr>\n",
       "<tr><td>train_xgboost_09b8cbc5</td><td>TERMINATED</td><td>127.0.0.1:47588</td><td style=\"text-align: right;\">0.0226302 </td><td style=\"text-align: right;\">          0.768406</td><td>[100, 101, 102,_ff50</td><td style=\"text-align: right;\">0.0338527</td><td>error        </td><td style=\"text-align: right;\">2.18751   </td><td style=\"text-align: right;\">          3</td><td style=\"text-align: right;\">                 3</td><td>binary:logistic</td><td style=\"text-align: right;\">   0.710778</td><td style=\"text-align: right;\">     1</td><td style=\"text-align: right;\">       0.0665092</td><td style=\"text-align: right;\">          6700</td><td style=\"text-align: right;\">154</td><td style=\"text-align: right;\">                  5</td></tr>\n",
       "<tr><td>train_xgboost_8d138c8c</td><td>TERMINATED</td><td>127.0.0.1:56340</td><td style=\"text-align: right;\">0.0167928 </td><td style=\"text-align: right;\">          0.967709</td><td>[100, 101, 102, 103]</td><td style=\"text-align: right;\">0.0498155</td><td>error        </td><td style=\"text-align: right;\">0.0624974 </td><td style=\"text-align: right;\">          9</td><td style=\"text-align: right;\">                 3</td><td>binary:logistic</td><td style=\"text-align: right;\">   0.71104 </td><td style=\"text-align: right;\">     1</td><td style=\"text-align: right;\">       0.123    </td><td style=\"text-align: right;\">          6550</td><td style=\"text-align: right;\">147</td><td style=\"text-align: right;\">                  4</td></tr>\n",
       "<tr><td>train_xgboost_e322f8cb</td><td>TERMINATED</td><td>127.0.0.1:56148</td><td style=\"text-align: right;\">0.972826  </td><td style=\"text-align: right;\">          0.727318</td><td>[104, 102, 103, 105]</td><td style=\"text-align: right;\">0.0405805</td><td>error        </td><td style=\"text-align: right;\">0.00487833</td><td style=\"text-align: right;\">          7</td><td style=\"text-align: right;\">                 1</td><td>binary:logistic</td><td style=\"text-align: right;\">   0.564468</td><td style=\"text-align: right;\">     1</td><td style=\"text-align: right;\">       0.0969996</td><td style=\"text-align: right;\">          6550</td><td style=\"text-align: right;\">147</td><td style=\"text-align: right;\">                  4</td></tr>\n",
       "<tr><td>train_xgboost_aa47b97c</td><td>TERMINATED</td><td>127.0.0.1:26572</td><td style=\"text-align: right;\">2.72862   </td><td style=\"text-align: right;\">          0.587209</td><td>[100, 101, 102, 105]</td><td style=\"text-align: right;\">0.0316156</td><td>error        </td><td style=\"text-align: right;\">0.0209978 </td><td style=\"text-align: right;\">          9</td><td style=\"text-align: right;\">                 4</td><td>binary:logistic</td><td style=\"text-align: right;\">   0.669767</td><td style=\"text-align: right;\">     1</td><td style=\"text-align: right;\">       0.104999 </td><td style=\"text-align: right;\">          6900</td><td style=\"text-align: right;\">154</td><td style=\"text-align: right;\">                  4</td></tr>\n",
       "<tr><td>train_xgboost_e5136e24</td><td>TERMINATED</td><td>127.0.0.1:2012 </td><td style=\"text-align: right;\">0.01276   </td><td style=\"text-align: right;\">          0.861399</td><td>[101, 102, 105]     </td><td style=\"text-align: right;\">0.0137311</td><td>error        </td><td style=\"text-align: right;\">3.44903   </td><td style=\"text-align: right;\">          9</td><td style=\"text-align: right;\">                 4</td><td>binary:logistic</td><td style=\"text-align: right;\">   0.536125</td><td style=\"text-align: right;\">     1</td><td style=\"text-align: right;\">       0.0959985</td><td style=\"text-align: right;\">          6750</td><td style=\"text-align: right;\">147</td><td style=\"text-align: right;\">                  3</td></tr>\n",
       "<tr><td>train_xgboost_819e48c8</td><td>TERMINATED</td><td>127.0.0.1:20288</td><td style=\"text-align: right;\">0.0865887 </td><td style=\"text-align: right;\">          0.668354</td><td>[100, 101, 102, 103]</td><td style=\"text-align: right;\">0.0760451</td><td>error        </td><td style=\"text-align: right;\">0.208826  </td><td style=\"text-align: right;\">          5</td><td style=\"text-align: right;\">                 4</td><td>binary:logistic</td><td style=\"text-align: right;\">   0.5101  </td><td style=\"text-align: right;\">     1</td><td style=\"text-align: right;\">       0.075    </td><td style=\"text-align: right;\">          6700</td><td style=\"text-align: right;\">150</td><td style=\"text-align: right;\">                  4</td></tr>\n",
       "<tr><td>train_xgboost_d42b0bca</td><td>TERMINATED</td><td>127.0.0.1:37112</td><td style=\"text-align: right;\">0.0113772 </td><td style=\"text-align: right;\">          0.661299</td><td>[100, 101, 102, 103]</td><td style=\"text-align: right;\">0.0373463</td><td>error        </td><td style=\"text-align: right;\">2.58455   </td><td style=\"text-align: right;\">          4</td><td style=\"text-align: right;\">                 1</td><td>binary:logistic</td><td style=\"text-align: right;\">   0.675447</td><td style=\"text-align: right;\">     1</td><td style=\"text-align: right;\">       0.0679996</td><td style=\"text-align: right;\">          6750</td><td style=\"text-align: right;\">151</td><td style=\"text-align: right;\">                  4</td></tr>\n",
       "<tr><td>train_xgboost_ee4f3a05</td><td>TERMINATED</td><td>127.0.0.1:61604</td><td style=\"text-align: right;\">0.0470902 </td><td style=\"text-align: right;\">          0.563025</td><td>[101, 103, 105]     </td><td style=\"text-align: right;\">0.0633134</td><td>error        </td><td style=\"text-align: right;\">5.92539   </td><td style=\"text-align: right;\">          3</td><td style=\"text-align: right;\">                 2</td><td>binary:logistic</td><td style=\"text-align: right;\">   0.513259</td><td style=\"text-align: right;\">     1</td><td style=\"text-align: right;\">       0.0639997</td><td style=\"text-align: right;\">          6550</td><td style=\"text-align: right;\">143</td><td style=\"text-align: right;\">                  3</td></tr>\n",
       "<tr><td>train_xgboost_d437e851</td><td>TERMINATED</td><td>127.0.0.1:56368</td><td style=\"text-align: right;\">1.06938   </td><td style=\"text-align: right;\">          0.971873</td><td>[101, 103, 105]     </td><td style=\"text-align: right;\">0.0466466</td><td>error        </td><td style=\"text-align: right;\">0.00217943</td><td style=\"text-align: right;\">          7</td><td style=\"text-align: right;\">                 5</td><td>binary:logistic</td><td style=\"text-align: right;\">   0.555308</td><td style=\"text-align: right;\">     1</td><td style=\"text-align: right;\">       0.0829999</td><td style=\"text-align: right;\">          6700</td><td style=\"text-align: right;\">146</td><td style=\"text-align: right;\">                  3</td></tr>\n",
       "<tr><td>train_xgboost_a0efd7b6</td><td>TERMINATED</td><td>127.0.0.1:47700</td><td style=\"text-align: right;\">0.00297821</td><td style=\"text-align: right;\">          0.828788</td><td>[100, 101, 102, 103]</td><td style=\"text-align: right;\">0.0453432</td><td>error        </td><td style=\"text-align: right;\">0.00784106</td><td style=\"text-align: right;\">         10</td><td style=\"text-align: right;\">                 5</td><td>binary:logistic</td><td style=\"text-align: right;\">   0.968481</td><td style=\"text-align: right;\">     1</td><td style=\"text-align: right;\">       0.124999 </td><td style=\"text-align: right;\">          6450</td><td style=\"text-align: right;\">145</td><td style=\"text-align: right;\">                  4</td></tr>\n",
       "<tr><td>train_xgboost_4e3d21ea</td><td>TERMINATED</td><td>127.0.0.1:4996 </td><td style=\"text-align: right;\">5.39065   </td><td style=\"text-align: right;\">          0.944116</td><td>[100, 101, 102,_a470</td><td style=\"text-align: right;\">0.0543383</td><td>error        </td><td style=\"text-align: right;\">0.166749  </td><td style=\"text-align: right;\">          5</td><td style=\"text-align: right;\">                 1</td><td>binary:logistic</td><td style=\"text-align: right;\">   0.752439</td><td style=\"text-align: right;\">     1</td><td style=\"text-align: right;\">       0.0940001</td><td style=\"text-align: right;\">          6150</td><td style=\"text-align: right;\">147</td><td style=\"text-align: right;\">                  6</td></tr>\n",
       "<tr><td>train_xgboost_ddc1d90d</td><td>TERMINATED</td><td>127.0.0.1:33400</td><td style=\"text-align: right;\">0.781454  </td><td style=\"text-align: right;\">          0.770338</td><td>[100, 101, 102,_ff50</td><td style=\"text-align: right;\">0.0293281</td><td>error        </td><td style=\"text-align: right;\">0.00429744</td><td style=\"text-align: right;\">         10</td><td style=\"text-align: right;\">                 5</td><td>binary:logistic</td><td style=\"text-align: right;\">   0.789203</td><td style=\"text-align: right;\">     1</td><td style=\"text-align: right;\">       0.130002 </td><td style=\"text-align: right;\">          6650</td><td style=\"text-align: right;\">153</td><td style=\"text-align: right;\">                  5</td></tr>\n",
       "<tr><td>train_xgboost_d256ef39</td><td>TERMINATED</td><td>127.0.0.1:56540</td><td style=\"text-align: right;\">0.00160748</td><td style=\"text-align: right;\">          0.672329</td><td>[100, 101, 102,_ff50</td><td style=\"text-align: right;\">0.0685222</td><td>error        </td><td style=\"text-align: right;\">7.29487   </td><td style=\"text-align: right;\">          3</td><td style=\"text-align: right;\">                 1</td><td>binary:logistic</td><td style=\"text-align: right;\">   0.862347</td><td style=\"text-align: right;\">     1</td><td style=\"text-align: right;\">       0.064003 </td><td style=\"text-align: right;\">          6700</td><td style=\"text-align: right;\">154</td><td style=\"text-align: right;\">                  5</td></tr>\n",
       "<tr><td>train_xgboost_915468df</td><td>TERMINATED</td><td>127.0.0.1:5608 </td><td style=\"text-align: right;\">0.0413069 </td><td style=\"text-align: right;\">          0.65205 </td><td>[101, 102, 105]     </td><td style=\"text-align: right;\">0.0402616</td><td>error        </td><td style=\"text-align: right;\">1.96274   </td><td style=\"text-align: right;\">          7</td><td style=\"text-align: right;\">                 2</td><td>binary:logistic</td><td style=\"text-align: right;\">   0.755162</td><td style=\"text-align: right;\">     1</td><td style=\"text-align: right;\">       0.0789988</td><td style=\"text-align: right;\">          6500</td><td style=\"text-align: right;\">142</td><td style=\"text-align: right;\">                  3</td></tr>\n",
       "<tr><td>train_xgboost_bdff3797</td><td>TERMINATED</td><td>127.0.0.1:57644</td><td style=\"text-align: right;\">0.0823577 </td><td style=\"text-align: right;\">          0.819707</td><td>[104, 102, 103, 105]</td><td style=\"text-align: right;\">0.0795038</td><td>error        </td><td style=\"text-align: right;\">2.04368   </td><td style=\"text-align: right;\">          5</td><td style=\"text-align: right;\">                 5</td><td>binary:logistic</td><td style=\"text-align: right;\">   0.690801</td><td style=\"text-align: right;\">     1</td><td style=\"text-align: right;\">       0.0809996</td><td style=\"text-align: right;\">          6650</td><td style=\"text-align: right;\">149</td><td style=\"text-align: right;\">                  4</td></tr>\n",
       "<tr><td>train_xgboost_ea035d24</td><td>TERMINATED</td><td>127.0.0.1:51536</td><td style=\"text-align: right;\">5.20887   </td><td style=\"text-align: right;\">          0.537357</td><td>[101, 102, 105]     </td><td style=\"text-align: right;\">0.0263904</td><td>error        </td><td style=\"text-align: right;\">0.230217  </td><td style=\"text-align: right;\">          4</td><td style=\"text-align: right;\">                 5</td><td>binary:logistic</td><td style=\"text-align: right;\">   0.868783</td><td style=\"text-align: right;\">     1</td><td style=\"text-align: right;\">       0.0599995</td><td style=\"text-align: right;\">          6600</td><td style=\"text-align: right;\">144</td><td style=\"text-align: right;\">                  3</td></tr>\n",
       "<tr><td>train_xgboost_61e249b6</td><td>TERMINATED</td><td>127.0.0.1:35040</td><td style=\"text-align: right;\">0.0583094 </td><td style=\"text-align: right;\">          0.720592</td><td>[101, 102, 103]     </td><td style=\"text-align: right;\">0.0353861</td><td>error        </td><td style=\"text-align: right;\">0.0801457 </td><td style=\"text-align: right;\">          7</td><td style=\"text-align: right;\">                 2</td><td>binary:logistic</td><td style=\"text-align: right;\">   0.61742 </td><td style=\"text-align: right;\">     1</td><td style=\"text-align: right;\">       0.0919995</td><td style=\"text-align: right;\">          6700</td><td style=\"text-align: right;\">146</td><td style=\"text-align: right;\">                  3</td></tr>\n",
       "<tr><td>train_xgboost_367543c2</td><td>TERMINATED</td><td>127.0.0.1:60284</td><td style=\"text-align: right;\">1.19132   </td><td style=\"text-align: right;\">          0.727175</td><td>[100, 101, 102, 103]</td><td style=\"text-align: right;\">0.0382784</td><td>error        </td><td style=\"text-align: right;\">2.22599   </td><td style=\"text-align: right;\">          6</td><td style=\"text-align: right;\">                 5</td><td>binary:logistic</td><td style=\"text-align: right;\">   0.57874 </td><td style=\"text-align: right;\">     1</td><td style=\"text-align: right;\">       0.0779996</td><td style=\"text-align: right;\">          6700</td><td style=\"text-align: right;\">150</td><td style=\"text-align: right;\">                  4</td></tr>\n",
       "<tr><td>train_xgboost_3c0d3a9c</td><td>TERMINATED</td><td>127.0.0.1:20456</td><td style=\"text-align: right;\">0.634734  </td><td style=\"text-align: right;\">          0.819173</td><td>[100, 101, 102, 105]</td><td style=\"text-align: right;\">0.0714433</td><td>error        </td><td style=\"text-align: right;\">0.00299994</td><td style=\"text-align: right;\">          4</td><td style=\"text-align: right;\">                 2</td><td>binary:logistic</td><td style=\"text-align: right;\">   0.996666</td><td style=\"text-align: right;\">     1</td><td style=\"text-align: right;\">       0.0739987</td><td style=\"text-align: right;\">          6800</td><td style=\"text-align: right;\">152</td><td style=\"text-align: right;\">                  4</td></tr>\n",
       "<tr><td>train_xgboost_3bebb2e7</td><td>TERMINATED</td><td>127.0.0.1:35660</td><td style=\"text-align: right;\">0.00331063</td><td style=\"text-align: right;\">          0.645497</td><td>[101, 103, 105]     </td><td style=\"text-align: right;\">0.0294917</td><td>error        </td><td style=\"text-align: right;\">0.0236122 </td><td style=\"text-align: right;\">          6</td><td style=\"text-align: right;\">                 5</td><td>binary:logistic</td><td style=\"text-align: right;\">   0.574054</td><td style=\"text-align: right;\">     1</td><td style=\"text-align: right;\">       0.073204 </td><td style=\"text-align: right;\">          6750</td><td style=\"text-align: right;\">147</td><td style=\"text-align: right;\">                  3</td></tr>\n",
       "<tr><td>train_xgboost_f3a6dd65</td><td>TERMINATED</td><td>127.0.0.1:31436</td><td style=\"text-align: right;\">0.00330283</td><td style=\"text-align: right;\">          0.820994</td><td>[100, 101, 102,_a470</td><td style=\"text-align: right;\">0.0139425</td><td>error        </td><td style=\"text-align: right;\">0.232808  </td><td style=\"text-align: right;\">         10</td><td style=\"text-align: right;\">                 4</td><td>binary:logistic</td><td style=\"text-align: right;\">   0.845062</td><td style=\"text-align: right;\">     1</td><td style=\"text-align: right;\">       0.165    </td><td style=\"text-align: right;\">          6600</td><td style=\"text-align: right;\">156</td><td style=\"text-align: right;\">                  6</td></tr>\n",
       "<tr><td>train_xgboost_50ab5951</td><td>TERMINATED</td><td>127.0.0.1:62440</td><td style=\"text-align: right;\">0.0297186 </td><td style=\"text-align: right;\">          0.643334</td><td>[104, 102, 103, 105]</td><td style=\"text-align: right;\">0.0379851</td><td>error        </td><td style=\"text-align: right;\">0.0205978 </td><td style=\"text-align: right;\">          7</td><td style=\"text-align: right;\">                 2</td><td>binary:logistic</td><td style=\"text-align: right;\">   0.517243</td><td style=\"text-align: right;\">     1</td><td style=\"text-align: right;\">       0.0949998</td><td style=\"text-align: right;\">          6700</td><td style=\"text-align: right;\">150</td><td style=\"text-align: right;\">                  4</td></tr>\n",
       "<tr><td>train_xgboost_769c97a3</td><td>TERMINATED</td><td>127.0.0.1:51336</td><td style=\"text-align: right;\">0.00205419</td><td style=\"text-align: right;\">          0.506157</td><td>[101, 102, 105]     </td><td style=\"text-align: right;\">0.0179741</td><td>error        </td><td style=\"text-align: right;\">0.356618  </td><td style=\"text-align: right;\">          6</td><td style=\"text-align: right;\">                 4</td><td>binary:logistic</td><td style=\"text-align: right;\">   0.821567</td><td style=\"text-align: right;\">     1</td><td style=\"text-align: right;\">       0.070998 </td><td style=\"text-align: right;\">          6900</td><td style=\"text-align: right;\">150</td><td style=\"text-align: right;\">                  3</td></tr>\n",
       "<tr><td>train_xgboost_2bc23871</td><td>TERMINATED</td><td>127.0.0.1:6628 </td><td style=\"text-align: right;\">0.174782  </td><td style=\"text-align: right;\">          0.709032</td><td>[100, 101, 102, 103]</td><td style=\"text-align: right;\">0.042182 </td><td>error        </td><td style=\"text-align: right;\">0.122443  </td><td style=\"text-align: right;\">          4</td><td style=\"text-align: right;\">                 3</td><td>binary:logistic</td><td style=\"text-align: right;\">   0.599055</td><td style=\"text-align: right;\">     1</td><td style=\"text-align: right;\">       0.0709994</td><td style=\"text-align: right;\">          6900</td><td style=\"text-align: right;\">154</td><td style=\"text-align: right;\">                  4</td></tr>\n",
       "<tr><td>train_xgboost_64e2d86a</td><td>TERMINATED</td><td>127.0.0.1:35844</td><td style=\"text-align: right;\">0.0188704 </td><td style=\"text-align: right;\">          0.598494</td><td>[101, 103, 105]     </td><td style=\"text-align: right;\">0.0293928</td><td>error        </td><td style=\"text-align: right;\">4.64832   </td><td style=\"text-align: right;\">          4</td><td style=\"text-align: right;\">                 3</td><td>binary:logistic</td><td style=\"text-align: right;\">   0.785243</td><td style=\"text-align: right;\">     1</td><td style=\"text-align: right;\">       0.0639999</td><td style=\"text-align: right;\">          6450</td><td style=\"text-align: right;\">141</td><td style=\"text-align: right;\">                  3</td></tr>\n",
       "<tr><td>train_xgboost_3c442863</td><td>TERMINATED</td><td>127.0.0.1:35984</td><td style=\"text-align: right;\">0.306357  </td><td style=\"text-align: right;\">          0.774092</td><td>[100, 102, 103, 105]</td><td style=\"text-align: right;\">0.0809352</td><td>error        </td><td style=\"text-align: right;\">0.044413  </td><td style=\"text-align: right;\">          9</td><td style=\"text-align: right;\">                 3</td><td>binary:logistic</td><td style=\"text-align: right;\">   0.873824</td><td style=\"text-align: right;\">     1</td><td style=\"text-align: right;\">       0.118956 </td><td style=\"text-align: right;\">          6550</td><td style=\"text-align: right;\">147</td><td style=\"text-align: right;\">                  4</td></tr>\n",
       "<tr><td>train_xgboost_8878bc6d</td><td>TERMINATED</td><td>127.0.0.1:41568</td><td style=\"text-align: right;\">0.0224582 </td><td style=\"text-align: right;\">          0.775045</td><td>[100, 102, 103, 105]</td><td style=\"text-align: right;\">0.0545228</td><td>error        </td><td style=\"text-align: right;\">0.379331  </td><td style=\"text-align: right;\">          9</td><td style=\"text-align: right;\">                 5</td><td>binary:logistic</td><td style=\"text-align: right;\">   0.908542</td><td style=\"text-align: right;\">     1</td><td style=\"text-align: right;\">       0.114002 </td><td style=\"text-align: right;\">          7100</td><td style=\"text-align: right;\">158</td><td style=\"text-align: right;\">                  4</td></tr>\n",
       "<tr><td>train_xgboost_b7bc9e38</td><td>TERMINATED</td><td>127.0.0.1:13280</td><td style=\"text-align: right;\">0.905928  </td><td style=\"text-align: right;\">          0.67879 </td><td>[100, 101, 102, 103]</td><td style=\"text-align: right;\">0.0403172</td><td>error        </td><td style=\"text-align: right;\">0.0560977 </td><td style=\"text-align: right;\">          6</td><td style=\"text-align: right;\">                 4</td><td>binary:logistic</td><td style=\"text-align: right;\">   0.86686 </td><td style=\"text-align: right;\">     1</td><td style=\"text-align: right;\">       0.0839992</td><td style=\"text-align: right;\">          6500</td><td style=\"text-align: right;\">146</td><td style=\"text-align: right;\">                  4</td></tr>\n",
       "<tr><td>train_xgboost_97fe6ded</td><td>TERMINATED</td><td>127.0.0.1:17784</td><td style=\"text-align: right;\">0.0195395 </td><td style=\"text-align: right;\">          0.774895</td><td>[101, 103, 105]     </td><td style=\"text-align: right;\">0.0138351</td><td>error        </td><td style=\"text-align: right;\">7.02551   </td><td style=\"text-align: right;\">          8</td><td style=\"text-align: right;\">                 1</td><td>binary:logistic</td><td style=\"text-align: right;\">   0.79238 </td><td style=\"text-align: right;\">     1</td><td style=\"text-align: right;\">       0.101    </td><td style=\"text-align: right;\">          6400</td><td style=\"text-align: right;\">140</td><td style=\"text-align: right;\">                  3</td></tr>\n",
       "<tr><td>train_xgboost_692fef9f</td><td>TERMINATED</td><td>127.0.0.1:3704 </td><td style=\"text-align: right;\">0.00178319</td><td style=\"text-align: right;\">          0.659254</td><td>[100, 101, 102, 103]</td><td style=\"text-align: right;\">0.0313039</td><td>error        </td><td style=\"text-align: right;\">1.06346   </td><td style=\"text-align: right;\">          3</td><td style=\"text-align: right;\">                 3</td><td>binary:logistic</td><td style=\"text-align: right;\">   0.745335</td><td style=\"text-align: right;\">     1</td><td style=\"text-align: right;\">       0.0640035</td><td style=\"text-align: right;\">          6750</td><td style=\"text-align: right;\">151</td><td style=\"text-align: right;\">                  4</td></tr>\n",
       "<tr><td>train_xgboost_e1a9b57b</td><td>TERMINATED</td><td>127.0.0.1:20272</td><td style=\"text-align: right;\">0.425996  </td><td style=\"text-align: right;\">          0.730156</td><td>[100, 101, 103, 105]</td><td style=\"text-align: right;\">0.0683504</td><td>error        </td><td style=\"text-align: right;\">2.60381   </td><td style=\"text-align: right;\">          7</td><td style=\"text-align: right;\">                 4</td><td>binary:logistic</td><td style=\"text-align: right;\">   0.72828 </td><td style=\"text-align: right;\">     1</td><td style=\"text-align: right;\">       0.0900047</td><td style=\"text-align: right;\">          6750</td><td style=\"text-align: right;\">151</td><td style=\"text-align: right;\">                  4</td></tr>\n",
       "<tr><td>train_xgboost_95f4809b</td><td>TERMINATED</td><td>127.0.0.1:15916</td><td style=\"text-align: right;\">0.0760249 </td><td style=\"text-align: right;\">          0.812148</td><td>[100, 101, 102, 103]</td><td style=\"text-align: right;\">0.0419673</td><td>error        </td><td style=\"text-align: right;\">0.00406518</td><td style=\"text-align: right;\">          6</td><td style=\"text-align: right;\">                 2</td><td>binary:logistic</td><td style=\"text-align: right;\">   0.687635</td><td style=\"text-align: right;\">     1</td><td style=\"text-align: right;\">       0.0949996</td><td style=\"text-align: right;\">          6700</td><td style=\"text-align: right;\">150</td><td style=\"text-align: right;\">                  4</td></tr>\n",
       "<tr><td>train_xgboost_f1f0dc1a</td><td>TERMINATED</td><td>127.0.0.1:59672</td><td style=\"text-align: right;\">0.00284993</td><td style=\"text-align: right;\">          0.722291</td><td>[100, 101, 102, 103]</td><td style=\"text-align: right;\">0.0377973</td><td>error        </td><td style=\"text-align: right;\">0.555051  </td><td style=\"text-align: right;\">          3</td><td style=\"text-align: right;\">                 3</td><td>binary:logistic</td><td style=\"text-align: right;\">   0.658699</td><td style=\"text-align: right;\">     1</td><td style=\"text-align: right;\">       0.0649354</td><td style=\"text-align: right;\">          6900</td><td style=\"text-align: right;\">154</td><td style=\"text-align: right;\">                  4</td></tr>\n",
       "<tr><td>train_xgboost_ef711bc0</td><td>TERMINATED</td><td>127.0.0.1:12308</td><td style=\"text-align: right;\">3.52855   </td><td style=\"text-align: right;\">          0.866918</td><td>[100, 101, 102, 103]</td><td style=\"text-align: right;\">0.0470246</td><td>error        </td><td style=\"text-align: right;\">0.0272875 </td><td style=\"text-align: right;\">          4</td><td style=\"text-align: right;\">                 3</td><td>binary:logistic</td><td style=\"text-align: right;\">   0.800084</td><td style=\"text-align: right;\">     1</td><td style=\"text-align: right;\">       0.073005 </td><td style=\"text-align: right;\">          6600</td><td style=\"text-align: right;\">148</td><td style=\"text-align: right;\">                  4</td></tr>\n",
       "<tr><td>train_xgboost_263f4f38</td><td>TERMINATED</td><td>127.0.0.1:8532 </td><td style=\"text-align: right;\">0.0275597 </td><td style=\"text-align: right;\">          0.771237</td><td>[100, 101, 102, 103]</td><td style=\"text-align: right;\">0.0357322</td><td>error        </td><td style=\"text-align: right;\">7.40414   </td><td style=\"text-align: right;\">          5</td><td style=\"text-align: right;\">                 3</td><td>binary:logistic</td><td style=\"text-align: right;\">   0.71514 </td><td style=\"text-align: right;\">     1</td><td style=\"text-align: right;\">       0.0780034</td><td style=\"text-align: right;\">          6600</td><td style=\"text-align: right;\">148</td><td style=\"text-align: right;\">                  4</td></tr>\n",
       "<tr><td>train_xgboost_f4aa2b30</td><td>TERMINATED</td><td>127.0.0.1:59444</td><td style=\"text-align: right;\">0.0168188 </td><td style=\"text-align: right;\">          0.642636</td><td>[101, 103, 105]     </td><td style=\"text-align: right;\">0.0158102</td><td>error        </td><td style=\"text-align: right;\">0.0742521 </td><td style=\"text-align: right;\">          4</td><td style=\"text-align: right;\">                 2</td><td>binary:logistic</td><td style=\"text-align: right;\">   0.562316</td><td style=\"text-align: right;\">     1</td><td style=\"text-align: right;\">       0.0670002</td><td style=\"text-align: right;\">          6550</td><td style=\"text-align: right;\">143</td><td style=\"text-align: right;\">                  3</td></tr>\n",
       "<tr><td>train_xgboost_2b2bab95</td><td>TERMINATED</td><td>127.0.0.1:50856</td><td style=\"text-align: right;\">0.0329182 </td><td style=\"text-align: right;\">          0.750674</td><td>[100, 101, 102, 103]</td><td style=\"text-align: right;\">0.056343 </td><td>error        </td><td style=\"text-align: right;\">0.969832  </td><td style=\"text-align: right;\">          3</td><td style=\"text-align: right;\">                 4</td><td>binary:logistic</td><td style=\"text-align: right;\">   0.608932</td><td style=\"text-align: right;\">     1</td><td style=\"text-align: right;\">       0.0689998</td><td style=\"text-align: right;\">          6950</td><td style=\"text-align: right;\">155</td><td style=\"text-align: right;\">                  4</td></tr>\n",
       "<tr><td>train_xgboost_5271a4f0</td><td>TERMINATED</td><td>127.0.0.1:29832</td><td style=\"text-align: right;\">0.187419  </td><td style=\"text-align: right;\">          0.811745</td><td>[100, 101, 102, 103]</td><td style=\"text-align: right;\">0.0513634</td><td>error        </td><td style=\"text-align: right;\">0.0310703 </td><td style=\"text-align: right;\">          4</td><td style=\"text-align: right;\">                 1</td><td>binary:logistic</td><td style=\"text-align: right;\">   0.648464</td><td style=\"text-align: right;\">     1</td><td style=\"text-align: right;\">       0.0879998</td><td style=\"text-align: right;\">          6900</td><td style=\"text-align: right;\">154</td><td style=\"text-align: right;\">                  4</td></tr>\n",
       "<tr><td>train_xgboost_17f7973d</td><td>TERMINATED</td><td>127.0.0.1:48660</td><td style=\"text-align: right;\">3.41303   </td><td style=\"text-align: right;\">          0.847793</td><td>[104, 102, 103, 105]</td><td style=\"text-align: right;\">0.0349141</td><td>error        </td><td style=\"text-align: right;\">0.0135237 </td><td style=\"text-align: right;\">          7</td><td style=\"text-align: right;\">                 1</td><td>binary:logistic</td><td style=\"text-align: right;\">   0.514858</td><td style=\"text-align: right;\">     1</td><td style=\"text-align: right;\">       0.103999 </td><td style=\"text-align: right;\">          6500</td><td style=\"text-align: right;\">146</td><td style=\"text-align: right;\">                  4</td></tr>\n",
       "<tr><td>train_xgboost_311543ec</td><td>TERMINATED</td><td>127.0.0.1:18232</td><td style=\"text-align: right;\">0.437944  </td><td style=\"text-align: right;\">          0.644007</td><td>[104, 102, 103, 105]</td><td style=\"text-align: right;\">0.0239819</td><td>error        </td><td style=\"text-align: right;\">0.00825905</td><td style=\"text-align: right;\">          6</td><td style=\"text-align: right;\">                 1</td><td>binary:logistic</td><td style=\"text-align: right;\">   0.61562 </td><td style=\"text-align: right;\">     1</td><td style=\"text-align: right;\">       0.0859997</td><td style=\"text-align: right;\">          6700</td><td style=\"text-align: right;\">150</td><td style=\"text-align: right;\">                  4</td></tr>\n",
       "<tr><td>train_xgboost_43f76453</td><td>TERMINATED</td><td>127.0.0.1:46792</td><td style=\"text-align: right;\">0.0142681 </td><td style=\"text-align: right;\">          0.638595</td><td>[101, 102, 105]     </td><td style=\"text-align: right;\">0.0393956</td><td>error        </td><td style=\"text-align: right;\">2.38529   </td><td style=\"text-align: right;\">          7</td><td style=\"text-align: right;\">                 3</td><td>binary:logistic</td><td style=\"text-align: right;\">   0.962287</td><td style=\"text-align: right;\">     1</td><td style=\"text-align: right;\">       0.0759983</td><td style=\"text-align: right;\">          6800</td><td style=\"text-align: right;\">148</td><td style=\"text-align: right;\">                  3</td></tr>\n",
       "<tr><td>train_xgboost_b051c059</td><td>TERMINATED</td><td>127.0.0.1:41900</td><td style=\"text-align: right;\">0.0244669 </td><td style=\"text-align: right;\">          0.57265 </td><td>[101, 102, 103]     </td><td style=\"text-align: right;\">0.0497393</td><td>error        </td><td style=\"text-align: right;\">0.771445  </td><td style=\"text-align: right;\">          5</td><td style=\"text-align: right;\">                 3</td><td>binary:logistic</td><td style=\"text-align: right;\">   0.908773</td><td style=\"text-align: right;\">     1</td><td style=\"text-align: right;\">       0.0680037</td><td style=\"text-align: right;\">          6650</td><td style=\"text-align: right;\">145</td><td style=\"text-align: right;\">                  3</td></tr>\n",
       "<tr><td>train_xgboost_81336dc9</td><td>TERMINATED</td><td>127.0.0.1:7200 </td><td style=\"text-align: right;\">0.791771  </td><td style=\"text-align: right;\">          0.51098 </td><td>[101, 102, 103]     </td><td style=\"text-align: right;\">0.0357162</td><td>error        </td><td style=\"text-align: right;\">3.68039   </td><td style=\"text-align: right;\">          4</td><td style=\"text-align: right;\">                 2</td><td>binary:logistic</td><td style=\"text-align: right;\">   0.682709</td><td style=\"text-align: right;\">     1</td><td style=\"text-align: right;\">       0.0649998</td><td style=\"text-align: right;\">          6800</td><td style=\"text-align: right;\">148</td><td style=\"text-align: right;\">                  3</td></tr>\n",
       "<tr><td>train_xgboost_1a74f2b6</td><td>TERMINATED</td><td>127.0.0.1:7900 </td><td style=\"text-align: right;\">0.00963492</td><td style=\"text-align: right;\">          0.840196</td><td>[100, 101, 102, 103]</td><td style=\"text-align: right;\">0.016231 </td><td>error        </td><td style=\"text-align: right;\">7.96594   </td><td style=\"text-align: right;\">          4</td><td style=\"text-align: right;\">                 2</td><td>binary:logistic</td><td style=\"text-align: right;\">   0.561171</td><td style=\"text-align: right;\">     1</td><td style=\"text-align: right;\">       0.0765073</td><td style=\"text-align: right;\">          6600</td><td style=\"text-align: right;\">148</td><td style=\"text-align: right;\">                  4</td></tr>\n",
       "<tr><td>train_xgboost_55028a81</td><td>TERMINATED</td><td>127.0.0.1:53768</td><td style=\"text-align: right;\">0.0363661 </td><td style=\"text-align: right;\">          0.656718</td><td>[101, 103, 105]     </td><td style=\"text-align: right;\">0.0260642</td><td>error        </td><td style=\"text-align: right;\">0.0686844 </td><td style=\"text-align: right;\">          7</td><td style=\"text-align: right;\">                 2</td><td>binary:logistic</td><td style=\"text-align: right;\">   0.69852 </td><td style=\"text-align: right;\">     1</td><td style=\"text-align: right;\">       0.0860023</td><td style=\"text-align: right;\">          6400</td><td style=\"text-align: right;\">140</td><td style=\"text-align: right;\">                  3</td></tr>\n",
       "<tr><td>train_xgboost_2091bc3a</td><td>TERMINATED</td><td>127.0.0.1:33676</td><td style=\"text-align: right;\">0.0421438 </td><td style=\"text-align: right;\">          0.58853 </td><td>[100, 101, 102, 105]</td><td style=\"text-align: right;\">0.0357822</td><td>error        </td><td style=\"text-align: right;\">0.00745596</td><td style=\"text-align: right;\">          6</td><td style=\"text-align: right;\">                 4</td><td>binary:logistic</td><td style=\"text-align: right;\">   0.845019</td><td style=\"text-align: right;\">     1</td><td style=\"text-align: right;\">       0.082953 </td><td style=\"text-align: right;\">          6800</td><td style=\"text-align: right;\">152</td><td style=\"text-align: right;\">                  4</td></tr>\n",
       "<tr><td>train_xgboost_7cc462d0</td><td>TERMINATED</td><td>127.0.0.1:3272 </td><td style=\"text-align: right;\">1.4661    </td><td style=\"text-align: right;\">          0.734154</td><td>[100, 104, 102,_92f0</td><td style=\"text-align: right;\">0.0194347</td><td>error        </td><td style=\"text-align: right;\">0.0976555 </td><td style=\"text-align: right;\">          6</td><td style=\"text-align: right;\">                 3</td><td>binary:logistic</td><td style=\"text-align: right;\">   0.791847</td><td style=\"text-align: right;\">     1</td><td style=\"text-align: right;\">       0.0910006</td><td style=\"text-align: right;\">          6850</td><td style=\"text-align: right;\">157</td><td style=\"text-align: right;\">                  5</td></tr>\n",
       "<tr><td>train_xgboost_e89f21ca</td><td>TERMINATED</td><td>127.0.0.1:54596</td><td style=\"text-align: right;\">0.95644   </td><td style=\"text-align: right;\">          0.775472</td><td>[101, 102, 103]     </td><td style=\"text-align: right;\">0.0311334</td><td>error        </td><td style=\"text-align: right;\">0.0712257 </td><td style=\"text-align: right;\">          8</td><td style=\"text-align: right;\">                 3</td><td>binary:logistic</td><td style=\"text-align: right;\">   0.661061</td><td style=\"text-align: right;\">     1</td><td style=\"text-align: right;\">       0.100003 </td><td style=\"text-align: right;\">          6600</td><td style=\"text-align: right;\">144</td><td style=\"text-align: right;\">                  3</td></tr>\n",
       "<tr><td>train_xgboost_c97e55ab</td><td>TERMINATED</td><td>127.0.0.1:54644</td><td style=\"text-align: right;\">2.63453   </td><td style=\"text-align: right;\">          0.618272</td><td>[104, 102, 103, 105]</td><td style=\"text-align: right;\">0.0275599</td><td>error        </td><td style=\"text-align: right;\">0.151008  </td><td style=\"text-align: right;\">          7</td><td style=\"text-align: right;\">                 1</td><td>binary:logistic</td><td style=\"text-align: right;\">   0.548228</td><td style=\"text-align: right;\">     1</td><td style=\"text-align: right;\">       0.0939996</td><td style=\"text-align: right;\">          6700</td><td style=\"text-align: right;\">150</td><td style=\"text-align: right;\">                  4</td></tr>\n",
       "<tr><td>train_xgboost_f044d378</td><td>TERMINATED</td><td>127.0.0.1:39972</td><td style=\"text-align: right;\">5.1089    </td><td style=\"text-align: right;\">          0.644138</td><td>[104, 102, 103, 105]</td><td style=\"text-align: right;\">0.0282296</td><td>error        </td><td style=\"text-align: right;\">0.00132064</td><td style=\"text-align: right;\">          6</td><td style=\"text-align: right;\">                 2</td><td>binary:logistic</td><td style=\"text-align: right;\">   0.533686</td><td style=\"text-align: right;\">     1</td><td style=\"text-align: right;\">       0.0809999</td><td style=\"text-align: right;\">          6550</td><td style=\"text-align: right;\">147</td><td style=\"text-align: right;\">                  4</td></tr>\n",
       "<tr><td>train_xgboost_c22cda46</td><td>TERMINATED</td><td>127.0.0.1:61524</td><td style=\"text-align: right;\">0.0375238 </td><td style=\"text-align: right;\">          0.768921</td><td>[100, 101, 102,_ff50</td><td style=\"text-align: right;\">0.0534802</td><td>error        </td><td style=\"text-align: right;\">1.90119   </td><td style=\"text-align: right;\">          4</td><td style=\"text-align: right;\">                 4</td><td>binary:logistic</td><td style=\"text-align: right;\">   0.953263</td><td style=\"text-align: right;\">     1</td><td style=\"text-align: right;\">       0.0763237</td><td style=\"text-align: right;\">          6850</td><td style=\"text-align: right;\">157</td><td style=\"text-align: right;\">                  5</td></tr>\n",
       "<tr><td>train_xgboost_a0a115c2</td><td>TERMINATED</td><td>127.0.0.1:46396</td><td style=\"text-align: right;\">0.17778   </td><td style=\"text-align: right;\">          0.725659</td><td>[104, 102, 103, 105]</td><td style=\"text-align: right;\">0.0228144</td><td>error        </td><td style=\"text-align: right;\">0.0342521 </td><td style=\"text-align: right;\">          9</td><td style=\"text-align: right;\">                 1</td><td>binary:logistic</td><td style=\"text-align: right;\">   0.621557</td><td style=\"text-align: right;\">     1</td><td style=\"text-align: right;\">       0.134006 </td><td style=\"text-align: right;\">          6550</td><td style=\"text-align: right;\">147</td><td style=\"text-align: right;\">                  4</td></tr>\n",
       "<tr><td>train_xgboost_0fa1e9c0</td><td>TERMINATED</td><td>127.0.0.1:52636</td><td style=\"text-align: right;\">0.0164211 </td><td style=\"text-align: right;\">          0.765485</td><td>[100, 101, 102, 103]</td><td style=\"text-align: right;\">0.0669265</td><td>error        </td><td style=\"text-align: right;\">0.134421  </td><td style=\"text-align: right;\">          4</td><td style=\"text-align: right;\">                 5</td><td>binary:logistic</td><td style=\"text-align: right;\">   0.633609</td><td style=\"text-align: right;\">     1</td><td style=\"text-align: right;\">       0.0719998</td><td style=\"text-align: right;\">          6800</td><td style=\"text-align: right;\">152</td><td style=\"text-align: right;\">                  4</td></tr>\n",
       "<tr><td>train_xgboost_84e06271</td><td>TERMINATED</td><td>127.0.0.1:48228</td><td style=\"text-align: right;\">0.759097  </td><td style=\"text-align: right;\">          0.51377 </td><td>[100, 101, 102,_ff50</td><td style=\"text-align: right;\">0.0146052</td><td>error        </td><td style=\"text-align: right;\">1.00475   </td><td style=\"text-align: right;\">         10</td><td style=\"text-align: right;\">                 1</td><td>binary:logistic</td><td style=\"text-align: right;\">   0.545473</td><td style=\"text-align: right;\">     1</td><td style=\"text-align: right;\">       0.140004 </td><td style=\"text-align: right;\">          6850</td><td style=\"text-align: right;\">157</td><td style=\"text-align: right;\">                  5</td></tr>\n",
       "<tr><td>train_xgboost_5c66285e</td><td>TERMINATED</td><td>127.0.0.1:35284</td><td style=\"text-align: right;\">0.00102121</td><td style=\"text-align: right;\">          0.910364</td><td>[104, 102, 103, 105]</td><td style=\"text-align: right;\">0.0480184</td><td>error        </td><td style=\"text-align: right;\">0.863673  </td><td style=\"text-align: right;\">         10</td><td style=\"text-align: right;\">                 4</td><td>binary:logistic</td><td style=\"text-align: right;\">   0.926756</td><td style=\"text-align: right;\">     1</td><td style=\"text-align: right;\">       0.131    </td><td style=\"text-align: right;\">          6550</td><td style=\"text-align: right;\">147</td><td style=\"text-align: right;\">                  4</td></tr>\n",
       "<tr><td>train_xgboost_29a3004c</td><td>TERMINATED</td><td>127.0.0.1:29512</td><td style=\"text-align: right;\">0.0204385 </td><td style=\"text-align: right;\">          0.638204</td><td>[101, 102, 103]     </td><td style=\"text-align: right;\">0.0221954</td><td>error        </td><td style=\"text-align: right;\">0.0779344 </td><td style=\"text-align: right;\">          6</td><td style=\"text-align: right;\">                 2</td><td>binary:logistic</td><td style=\"text-align: right;\">   0.554455</td><td style=\"text-align: right;\">     1</td><td style=\"text-align: right;\">       0.0800011</td><td style=\"text-align: right;\">          6600</td><td style=\"text-align: right;\">144</td><td style=\"text-align: right;\">                  3</td></tr>\n",
       "<tr><td>train_xgboost_e1bbad6b</td><td>TERMINATED</td><td>127.0.0.1:32052</td><td style=\"text-align: right;\">0.00858936</td><td style=\"text-align: right;\">          0.915096</td><td>[100, 101, 102, 103]</td><td style=\"text-align: right;\">0.040247 </td><td>error        </td><td style=\"text-align: right;\">0.0817347 </td><td style=\"text-align: right;\">          5</td><td style=\"text-align: right;\">                 4</td><td>binary:logistic</td><td style=\"text-align: right;\">   0.510817</td><td style=\"text-align: right;\">     1</td><td style=\"text-align: right;\">       0.0810001</td><td style=\"text-align: right;\">          6850</td><td style=\"text-align: right;\">153</td><td style=\"text-align: right;\">                  4</td></tr>\n",
       "<tr><td>train_xgboost_30994418</td><td>TERMINATED</td><td>127.0.0.1:26544</td><td style=\"text-align: right;\">0.030807  </td><td style=\"text-align: right;\">          0.740715</td><td>[100, 102, 103, 105]</td><td style=\"text-align: right;\">0.0324593</td><td>error        </td><td style=\"text-align: right;\">0.0789026 </td><td style=\"text-align: right;\">          5</td><td style=\"text-align: right;\">                 1</td><td>binary:logistic</td><td style=\"text-align: right;\">   0.643542</td><td style=\"text-align: right;\">     1</td><td style=\"text-align: right;\">       0.0739989</td><td style=\"text-align: right;\">          7150</td><td style=\"text-align: right;\">159</td><td style=\"text-align: right;\">                  4</td></tr>\n",
       "<tr><td>train_xgboost_0d2596d2</td><td>TERMINATED</td><td>127.0.0.1:28040</td><td style=\"text-align: right;\">0.0164482 </td><td style=\"text-align: right;\">          0.671453</td><td>[101, 103, 105]     </td><td style=\"text-align: right;\">0.0179925</td><td>error        </td><td style=\"text-align: right;\">0.161054  </td><td style=\"text-align: right;\">          7</td><td style=\"text-align: right;\">                 1</td><td>binary:logistic</td><td style=\"text-align: right;\">   0.621392</td><td style=\"text-align: right;\">     1</td><td style=\"text-align: right;\">       0.0999999</td><td style=\"text-align: right;\">          6600</td><td style=\"text-align: right;\">144</td><td style=\"text-align: right;\">                  3</td></tr>\n",
       "<tr><td>train_xgboost_71922140</td><td>TERMINATED</td><td>127.0.0.1:21376</td><td style=\"text-align: right;\">0.00341124</td><td style=\"text-align: right;\">          0.599118</td><td>[101, 102, 105]     </td><td style=\"text-align: right;\">0.0436317</td><td>error        </td><td style=\"text-align: right;\">1.50482   </td><td style=\"text-align: right;\">          6</td><td style=\"text-align: right;\">                 3</td><td>binary:logistic</td><td style=\"text-align: right;\">   0.8483  </td><td style=\"text-align: right;\">     1</td><td style=\"text-align: right;\">       0.0770035</td><td style=\"text-align: right;\">          6800</td><td style=\"text-align: right;\">148</td><td style=\"text-align: right;\">                  3</td></tr>\n",
       "<tr><td>train_xgboost_4a7759bf</td><td>TERMINATED</td><td>127.0.0.1:20432</td><td style=\"text-align: right;\">0.0962777 </td><td style=\"text-align: right;\">          0.667973</td><td>[101, 102, 103, 105]</td><td style=\"text-align: right;\">0.0148656</td><td>error        </td><td style=\"text-align: right;\">0.00273004</td><td style=\"text-align: right;\">         10</td><td style=\"text-align: right;\">                 2</td><td>binary:logistic</td><td style=\"text-align: right;\">   0.931082</td><td style=\"text-align: right;\">     1</td><td style=\"text-align: right;\">       0.157001 </td><td style=\"text-align: right;\">          6600</td><td style=\"text-align: right;\">148</td><td style=\"text-align: right;\">                  4</td></tr>\n",
       "<tr><td>train_xgboost_1be53a86</td><td>TERMINATED</td><td>127.0.0.1:47568</td><td style=\"text-align: right;\">2.76982   </td><td style=\"text-align: right;\">          0.974312</td><td>[101, 102, 103, 105]</td><td style=\"text-align: right;\">0.0817907</td><td>error        </td><td style=\"text-align: right;\">0.107333  </td><td style=\"text-align: right;\">          5</td><td style=\"text-align: right;\">                 1</td><td>binary:logistic</td><td style=\"text-align: right;\">   0.508839</td><td style=\"text-align: right;\">     1</td><td style=\"text-align: right;\">       0.0809996</td><td style=\"text-align: right;\">          6950</td><td style=\"text-align: right;\">155</td><td style=\"text-align: right;\">                  4</td></tr>\n",
       "<tr><td>train_xgboost_c0028669</td><td>TERMINATED</td><td>127.0.0.1:28876</td><td style=\"text-align: right;\">0.00861088</td><td style=\"text-align: right;\">          0.678505</td><td>[100, 101, 102, 103]</td><td style=\"text-align: right;\">0.0598161</td><td>error        </td><td style=\"text-align: right;\">3.32028   </td><td style=\"text-align: right;\">          4</td><td style=\"text-align: right;\">                 2</td><td>binary:logistic</td><td style=\"text-align: right;\">   0.802206</td><td style=\"text-align: right;\">     1</td><td style=\"text-align: right;\">       0.0690036</td><td style=\"text-align: right;\">          6650</td><td style=\"text-align: right;\">149</td><td style=\"text-align: right;\">                  4</td></tr>\n",
       "<tr><td>train_xgboost_2d06f199</td><td>TERMINATED</td><td>127.0.0.1:62656</td><td style=\"text-align: right;\">0.248938  </td><td style=\"text-align: right;\">          0.844309</td><td>[104, 102, 103, 105]</td><td style=\"text-align: right;\">0.0267258</td><td>error        </td><td style=\"text-align: right;\">0.00129745</td><td style=\"text-align: right;\">          5</td><td style=\"text-align: right;\">                 2</td><td>binary:logistic</td><td style=\"text-align: right;\">   0.679222</td><td style=\"text-align: right;\">     1</td><td style=\"text-align: right;\">       0.0789979</td><td style=\"text-align: right;\">          6750</td><td style=\"text-align: right;\">151</td><td style=\"text-align: right;\">                  4</td></tr>\n",
       "<tr><td>train_xgboost_9a1e0732</td><td>TERMINATED</td><td>127.0.0.1:51604</td><td style=\"text-align: right;\">0.278743  </td><td style=\"text-align: right;\">          0.89974 </td><td>[104, 102, 103, 105]</td><td style=\"text-align: right;\">0.0814492</td><td>error        </td><td style=\"text-align: right;\">4.23021   </td><td style=\"text-align: right;\">          9</td><td style=\"text-align: right;\">                 2</td><td>binary:logistic</td><td style=\"text-align: right;\">   0.885732</td><td style=\"text-align: right;\">     1</td><td style=\"text-align: right;\">       0.130999 </td><td style=\"text-align: right;\">          6450</td><td style=\"text-align: right;\">145</td><td style=\"text-align: right;\">                  4</td></tr>\n",
       "<tr><td>train_xgboost_891a0ffc</td><td>TERMINATED</td><td>127.0.0.1:19448</td><td style=\"text-align: right;\">0.0293541 </td><td style=\"text-align: right;\">          0.669168</td><td>[101, 103, 105]     </td><td style=\"text-align: right;\">0.030988 </td><td>error        </td><td style=\"text-align: right;\">0.327728  </td><td style=\"text-align: right;\">          4</td><td style=\"text-align: right;\">                 2</td><td>binary:logistic</td><td style=\"text-align: right;\">   0.713566</td><td style=\"text-align: right;\">     1</td><td style=\"text-align: right;\">       0.0670009</td><td style=\"text-align: right;\">          6700</td><td style=\"text-align: right;\">146</td><td style=\"text-align: right;\">                  3</td></tr>\n",
       "<tr><td>train_xgboost_2995a069</td><td>TERMINATED</td><td>127.0.0.1:63464</td><td style=\"text-align: right;\">0.0870513 </td><td style=\"text-align: right;\">          0.658065</td><td>[101, 102, 103]     </td><td style=\"text-align: right;\">0.0298994</td><td>error        </td><td style=\"text-align: right;\">1.6071    </td><td style=\"text-align: right;\">          5</td><td style=\"text-align: right;\">                 2</td><td>binary:logistic</td><td style=\"text-align: right;\">   0.798447</td><td style=\"text-align: right;\">     1</td><td style=\"text-align: right;\">       0.066998 </td><td style=\"text-align: right;\">          6500</td><td style=\"text-align: right;\">142</td><td style=\"text-align: right;\">                  3</td></tr>\n",
       "<tr><td>train_xgboost_eb45f49b</td><td>TERMINATED</td><td>127.0.0.1:18504</td><td style=\"text-align: right;\">0.00193596</td><td style=\"text-align: right;\">          0.957826</td><td>[101, 102, 105]     </td><td style=\"text-align: right;\">0.0311646</td><td>error        </td><td style=\"text-align: right;\">0.00626892</td><td style=\"text-align: right;\">          4</td><td style=\"text-align: right;\">                 3</td><td>binary:logistic</td><td style=\"text-align: right;\">   0.517397</td><td style=\"text-align: right;\">     1</td><td style=\"text-align: right;\">       0.0680051</td><td style=\"text-align: right;\">          7100</td><td style=\"text-align: right;\">154</td><td style=\"text-align: right;\">                  3</td></tr>\n",
       "<tr><td>train_xgboost_6411b4ca</td><td>TERMINATED</td><td>127.0.0.1:3148 </td><td style=\"text-align: right;\">2.13647   </td><td style=\"text-align: right;\">          0.969142</td><td>[102, 103, 105]     </td><td style=\"text-align: right;\">0.0206557</td><td>error        </td><td style=\"text-align: right;\">0.00552214</td><td style=\"text-align: right;\">          6</td><td style=\"text-align: right;\">                 4</td><td>binary:logistic</td><td style=\"text-align: right;\">   0.986826</td><td style=\"text-align: right;\">     1</td><td style=\"text-align: right;\">       0.077002 </td><td style=\"text-align: right;\">          6700</td><td style=\"text-align: right;\">146</td><td style=\"text-align: right;\">                  3</td></tr>\n",
       "<tr><td>train_xgboost_02dc74a4</td><td>TERMINATED</td><td>127.0.0.1:16972</td><td style=\"text-align: right;\">0.20576   </td><td style=\"text-align: right;\">          0.804796</td><td>[101, 102, 103, 105]</td><td style=\"text-align: right;\">0.0914316</td><td>error        </td><td style=\"text-align: right;\">1.13297   </td><td style=\"text-align: right;\">          7</td><td style=\"text-align: right;\">                 3</td><td>binary:logistic</td><td style=\"text-align: right;\">   0.624142</td><td style=\"text-align: right;\">     1</td><td style=\"text-align: right;\">       0.0979989</td><td style=\"text-align: right;\">          6700</td><td style=\"text-align: right;\">150</td><td style=\"text-align: right;\">                  4</td></tr>\n",
       "<tr><td>train_xgboost_d6067a72</td><td>TERMINATED</td><td>127.0.0.1:48676</td><td style=\"text-align: right;\">0.0345459 </td><td style=\"text-align: right;\">          0.874572</td><td>[100, 101, 102, 103]</td><td style=\"text-align: right;\">0.0584521</td><td>error        </td><td style=\"text-align: right;\">0.048157  </td><td style=\"text-align: right;\">          3</td><td style=\"text-align: right;\">                 1</td><td>binary:logistic</td><td style=\"text-align: right;\">   0.83516 </td><td style=\"text-align: right;\">     1</td><td style=\"text-align: right;\">       0.0630009</td><td style=\"text-align: right;\">          6850</td><td style=\"text-align: right;\">153</td><td style=\"text-align: right;\">                  4</td></tr>\n",
       "<tr><td>train_xgboost_9bf23093</td><td>TERMINATED</td><td>127.0.0.1:42056</td><td style=\"text-align: right;\">0.494946  </td><td style=\"text-align: right;\">          0.740288</td><td>[100, 101, 103, 105]</td><td style=\"text-align: right;\">0.0227861</td><td>error        </td><td style=\"text-align: right;\">0.613816  </td><td style=\"text-align: right;\">          4</td><td style=\"text-align: right;\">                 1</td><td>binary:logistic</td><td style=\"text-align: right;\">   0.853146</td><td style=\"text-align: right;\">     1</td><td style=\"text-align: right;\">       0.066998 </td><td style=\"text-align: right;\">          6900</td><td style=\"text-align: right;\">154</td><td style=\"text-align: right;\">                  4</td></tr>\n",
       "<tr><td>train_xgboost_9db2dc0e</td><td>TERMINATED</td><td>127.0.0.1:39312</td><td style=\"text-align: right;\">0.253159  </td><td style=\"text-align: right;\">          0.84447 </td><td>[100, 101, 102, 103]</td><td style=\"text-align: right;\">0.0293767</td><td>error        </td><td style=\"text-align: right;\">0.00201169</td><td style=\"text-align: right;\">          3</td><td style=\"text-align: right;\">                 4</td><td>binary:logistic</td><td style=\"text-align: right;\">   0.803306</td><td style=\"text-align: right;\">     1</td><td style=\"text-align: right;\">       0.0669999</td><td style=\"text-align: right;\">          6750</td><td style=\"text-align: right;\">151</td><td style=\"text-align: right;\">                  4</td></tr>\n",
       "<tr><td>train_xgboost_f1776d3d</td><td>TERMINATED</td><td>127.0.0.1:35240</td><td style=\"text-align: right;\">0.419567  </td><td style=\"text-align: right;\">          0.842411</td><td>[100, 101, 102, 103]</td><td style=\"text-align: right;\">0.0211201</td><td>error        </td><td style=\"text-align: right;\">0.066908  </td><td style=\"text-align: right;\">          4</td><td style=\"text-align: right;\">                 4</td><td>binary:logistic</td><td style=\"text-align: right;\">   0.590614</td><td style=\"text-align: right;\">     1</td><td style=\"text-align: right;\">       0.0730042</td><td style=\"text-align: right;\">          7050</td><td style=\"text-align: right;\">157</td><td style=\"text-align: right;\">                  4</td></tr>\n",
       "<tr><td>train_xgboost_8229f12f</td><td>TERMINATED</td><td>127.0.0.1:60092</td><td style=\"text-align: right;\">1.1453    </td><td style=\"text-align: right;\">          0.737976</td><td>[100, 101, 102, 103]</td><td style=\"text-align: right;\">0.0497472</td><td>error        </td><td style=\"text-align: right;\">0.0843992 </td><td style=\"text-align: right;\">          7</td><td style=\"text-align: right;\">                 5</td><td>binary:logistic</td><td style=\"text-align: right;\">   0.783366</td><td style=\"text-align: right;\">     1</td><td style=\"text-align: right;\">       0.0870018</td><td style=\"text-align: right;\">          6500</td><td style=\"text-align: right;\">146</td><td style=\"text-align: right;\">                  4</td></tr>\n",
       "<tr><td>train_xgboost_3446b1ad</td><td>TERMINATED</td><td>127.0.0.1:11224</td><td style=\"text-align: right;\">0.0164688 </td><td style=\"text-align: right;\">          0.632725</td><td>[101, 102, 103]     </td><td style=\"text-align: right;\">0.0330956</td><td>error        </td><td style=\"text-align: right;\">0.815505  </td><td style=\"text-align: right;\">          9</td><td style=\"text-align: right;\">                 3</td><td>binary:logistic</td><td style=\"text-align: right;\">   0.713141</td><td style=\"text-align: right;\">     1</td><td style=\"text-align: right;\">       0.0900016</td><td style=\"text-align: right;\">          6550</td><td style=\"text-align: right;\">143</td><td style=\"text-align: right;\">                  3</td></tr>\n",
       "<tr><td>train_xgboost_ebbd9722</td><td>TERMINATED</td><td>127.0.0.1:32004</td><td style=\"text-align: right;\">0.130986  </td><td style=\"text-align: right;\">          0.57839 </td><td>[100, 101, 102, 103]</td><td style=\"text-align: right;\">0.0437941</td><td>error        </td><td style=\"text-align: right;\">8.46603   </td><td style=\"text-align: right;\">          5</td><td style=\"text-align: right;\">                 2</td><td>binary:logistic</td><td style=\"text-align: right;\">   0.562497</td><td style=\"text-align: right;\">     1</td><td style=\"text-align: right;\">       0.0760043</td><td style=\"text-align: right;\">          6650</td><td style=\"text-align: right;\">149</td><td style=\"text-align: right;\">                  4</td></tr>\n",
       "<tr><td>train_xgboost_98446720</td><td>TERMINATED</td><td>127.0.0.1:40804</td><td style=\"text-align: right;\">1.19729   </td><td style=\"text-align: right;\">          0.687374</td><td>[100, 101, 102, 103]</td><td style=\"text-align: right;\">0.0491212</td><td>error        </td><td style=\"text-align: right;\">1.18314   </td><td style=\"text-align: right;\">          4</td><td style=\"text-align: right;\">                 1</td><td>binary:logistic</td><td style=\"text-align: right;\">   0.566277</td><td style=\"text-align: right;\">     1</td><td style=\"text-align: right;\">       0.0700002</td><td style=\"text-align: right;\">          6850</td><td style=\"text-align: right;\">153</td><td style=\"text-align: right;\">                  4</td></tr>\n",
       "<tr><td>train_xgboost_a2ae991d</td><td>TERMINATED</td><td>127.0.0.1:52160</td><td style=\"text-align: right;\">0.0398576 </td><td style=\"text-align: right;\">          0.83551 </td><td>[100, 101, 102, 103]</td><td style=\"text-align: right;\">0.0444753</td><td>error        </td><td style=\"text-align: right;\">0.547345  </td><td style=\"text-align: right;\">          4</td><td style=\"text-align: right;\">                 4</td><td>binary:logistic</td><td style=\"text-align: right;\">   0.772971</td><td style=\"text-align: right;\">     1</td><td style=\"text-align: right;\">       0.072    </td><td style=\"text-align: right;\">          6600</td><td style=\"text-align: right;\">148</td><td style=\"text-align: right;\">                  4</td></tr>\n",
       "<tr><td>train_xgboost_a7713b60</td><td>TERMINATED</td><td>127.0.0.1:59360</td><td style=\"text-align: right;\">0.00547374</td><td style=\"text-align: right;\">          0.614637</td><td>[100, 101, 102,_ff50</td><td style=\"text-align: right;\">0.0382372</td><td>error        </td><td style=\"text-align: right;\">7.91826   </td><td style=\"text-align: right;\">          3</td><td style=\"text-align: right;\">                 2</td><td>binary:logistic</td><td style=\"text-align: right;\">   0.746538</td><td style=\"text-align: right;\">     1</td><td style=\"text-align: right;\">       0.0659997</td><td style=\"text-align: right;\">          6700</td><td style=\"text-align: right;\">154</td><td style=\"text-align: right;\">                  5</td></tr>\n",
       "<tr><td>train_xgboost_a99e8a8f</td><td>TERMINATED</td><td>127.0.0.1:11472</td><td style=\"text-align: right;\">0.00628678</td><td style=\"text-align: right;\">          0.652013</td><td>[101, 103, 105]     </td><td style=\"text-align: right;\">0.0442433</td><td>error        </td><td style=\"text-align: right;\">0.126712  </td><td style=\"text-align: right;\">          6</td><td style=\"text-align: right;\">                 4</td><td>binary:logistic</td><td style=\"text-align: right;\">   0.556984</td><td style=\"text-align: right;\">     1</td><td style=\"text-align: right;\">       0.0819979</td><td style=\"text-align: right;\">          6750</td><td style=\"text-align: right;\">147</td><td style=\"text-align: right;\">                  3</td></tr>\n",
       "<tr><td>train_xgboost_36eed01c</td><td>TERMINATED</td><td>127.0.0.1:38372</td><td style=\"text-align: right;\">0.0043121 </td><td style=\"text-align: right;\">          0.572343</td><td>[101, 103, 105]     </td><td style=\"text-align: right;\">0.0371473</td><td>error        </td><td style=\"text-align: right;\">0.049919  </td><td style=\"text-align: right;\">          4</td><td style=\"text-align: right;\">                 2</td><td>binary:logistic</td><td style=\"text-align: right;\">   0.541043</td><td style=\"text-align: right;\">     1</td><td style=\"text-align: right;\">       0.0710034</td><td style=\"text-align: right;\">          6450</td><td style=\"text-align: right;\">141</td><td style=\"text-align: right;\">                  3</td></tr>\n",
       "<tr><td>train_xgboost_57f3fd0d</td><td>TERMINATED</td><td>127.0.0.1:44504</td><td style=\"text-align: right;\">2.30564   </td><td style=\"text-align: right;\">          0.82297 </td><td>[104, 102, 103, 105]</td><td style=\"text-align: right;\">0.0221583</td><td>error        </td><td style=\"text-align: right;\">0.345807  </td><td style=\"text-align: right;\">          3</td><td style=\"text-align: right;\">                 4</td><td>binary:logistic</td><td style=\"text-align: right;\">   0.655257</td><td style=\"text-align: right;\">     1</td><td style=\"text-align: right;\">       0.0680015</td><td style=\"text-align: right;\">          6750</td><td style=\"text-align: right;\">151</td><td style=\"text-align: right;\">                  4</td></tr>\n",
       "<tr><td>train_xgboost_17d54bc4</td><td>TERMINATED</td><td>127.0.0.1:43504</td><td style=\"text-align: right;\">0.0104752 </td><td style=\"text-align: right;\">          0.929834</td><td>[101, 102, 103]     </td><td style=\"text-align: right;\">0.0314911</td><td>error        </td><td style=\"text-align: right;\">0.023256  </td><td style=\"text-align: right;\">          6</td><td style=\"text-align: right;\">                 4</td><td>binary:logistic</td><td style=\"text-align: right;\">   0.921906</td><td style=\"text-align: right;\">     1</td><td style=\"text-align: right;\">       0.0759995</td><td style=\"text-align: right;\">          6500</td><td style=\"text-align: right;\">142</td><td style=\"text-align: right;\">                  3</td></tr>\n",
       "<tr><td>train_xgboost_8c6ba6eb</td><td>TERMINATED</td><td>127.0.0.1:2108 </td><td style=\"text-align: right;\">0.00406151</td><td style=\"text-align: right;\">          0.586679</td><td>[101, 103, 105]     </td><td style=\"text-align: right;\">0.0253457</td><td>error        </td><td style=\"text-align: right;\">7.14335   </td><td style=\"text-align: right;\">          6</td><td style=\"text-align: right;\">                 3</td><td>binary:logistic</td><td style=\"text-align: right;\">   0.717724</td><td style=\"text-align: right;\">     1</td><td style=\"text-align: right;\">       0.0859983</td><td style=\"text-align: right;\">          6550</td><td style=\"text-align: right;\">143</td><td style=\"text-align: right;\">                  3</td></tr>\n",
       "<tr><td>train_xgboost_d11158bb</td><td>TERMINATED</td><td>127.0.0.1:24092</td><td style=\"text-align: right;\">0.00105337</td><td style=\"text-align: right;\">          0.75331 </td><td>[100, 101, 102,_ff50</td><td style=\"text-align: right;\">0.0266357</td><td>error        </td><td style=\"text-align: right;\">3.29544   </td><td style=\"text-align: right;\">          4</td><td style=\"text-align: right;\">                 3</td><td>binary:logistic</td><td style=\"text-align: right;\">   0.835014</td><td style=\"text-align: right;\">     1</td><td style=\"text-align: right;\">       0.0749991</td><td style=\"text-align: right;\">          6600</td><td style=\"text-align: right;\">152</td><td style=\"text-align: right;\">                  5</td></tr>\n",
       "<tr><td>train_xgboost_8e9b5708</td><td>TERMINATED</td><td>127.0.0.1:63236</td><td style=\"text-align: right;\">0.0683637 </td><td style=\"text-align: right;\">          0.816723</td><td>[100, 101, 102, 103]</td><td style=\"text-align: right;\">0.0368916</td><td>error        </td><td style=\"text-align: right;\">0.0903065 </td><td style=\"text-align: right;\">          4</td><td style=\"text-align: right;\">                 3</td><td>binary:logistic</td><td style=\"text-align: right;\">   0.842225</td><td style=\"text-align: right;\">     1</td><td style=\"text-align: right;\">       0.0719988</td><td style=\"text-align: right;\">          6700</td><td style=\"text-align: right;\">150</td><td style=\"text-align: right;\">                  4</td></tr>\n",
       "<tr><td>train_xgboost_5284de4d</td><td>TERMINATED</td><td>127.0.0.1:10920</td><td style=\"text-align: right;\">0.00327869</td><td style=\"text-align: right;\">          0.634704</td><td>[101, 103, 105]     </td><td style=\"text-align: right;\">0.0194644</td><td>error        </td><td style=\"text-align: right;\">1.09953   </td><td style=\"text-align: right;\">          7</td><td style=\"text-align: right;\">                 4</td><td>binary:logistic</td><td style=\"text-align: right;\">   0.549266</td><td style=\"text-align: right;\">     1</td><td style=\"text-align: right;\">       0.0834997</td><td style=\"text-align: right;\">          6700</td><td style=\"text-align: right;\">146</td><td style=\"text-align: right;\">                  3</td></tr>\n",
       "<tr><td>train_xgboost_55b0eac4</td><td>TERMINATED</td><td>127.0.0.1:56244</td><td style=\"text-align: right;\">9.51442   </td><td style=\"text-align: right;\">          0.809595</td><td>[101, 102, 103, 105]</td><td style=\"text-align: right;\">0.0814298</td><td>error        </td><td style=\"text-align: right;\">0.0152542 </td><td style=\"text-align: right;\">          8</td><td style=\"text-align: right;\">                 2</td><td>binary:logistic</td><td style=\"text-align: right;\">   0.646437</td><td style=\"text-align: right;\">     1</td><td style=\"text-align: right;\">       0.0960004</td><td style=\"text-align: right;\">          6800</td><td style=\"text-align: right;\">152</td><td style=\"text-align: right;\">                  4</td></tr>\n",
       "<tr><td>train_xgboost_c6721a4d</td><td>TERMINATED</td><td>127.0.0.1:27136</td><td style=\"text-align: right;\">0.319001  </td><td style=\"text-align: right;\">          0.692697</td><td>[104, 102, 103, 105]</td><td style=\"text-align: right;\">0.054249 </td><td>error        </td><td style=\"text-align: right;\">2.77132   </td><td style=\"text-align: right;\">          5</td><td style=\"text-align: right;\">                 4</td><td>binary:logistic</td><td style=\"text-align: right;\">   0.561245</td><td style=\"text-align: right;\">     1</td><td style=\"text-align: right;\">       0.0740044</td><td style=\"text-align: right;\">          6750</td><td style=\"text-align: right;\">151</td><td style=\"text-align: right;\">                  4</td></tr>\n",
       "<tr><td>train_xgboost_d3ff7c51</td><td>TERMINATED</td><td>127.0.0.1:51808</td><td style=\"text-align: right;\">0.361737  </td><td style=\"text-align: right;\">          0.890179</td><td>[100, 101, 102, 103]</td><td style=\"text-align: right;\">0.0479143</td><td>error        </td><td style=\"text-align: right;\">0.00491407</td><td style=\"text-align: right;\">          8</td><td style=\"text-align: right;\">                 2</td><td>binary:logistic</td><td style=\"text-align: right;\">   0.88531 </td><td style=\"text-align: right;\">     1</td><td style=\"text-align: right;\">       0.116999 </td><td style=\"text-align: right;\">          6500</td><td style=\"text-align: right;\">146</td><td style=\"text-align: right;\">                  4</td></tr>\n",
       "<tr><td>train_xgboost_c389ff01</td><td>TERMINATED</td><td>127.0.0.1:58824</td><td style=\"text-align: right;\">0.836819  </td><td style=\"text-align: right;\">          0.85367 </td><td>[100, 101, 102, 103]</td><td style=\"text-align: right;\">0.0704722</td><td>error        </td><td style=\"text-align: right;\">0.15631   </td><td style=\"text-align: right;\">          9</td><td style=\"text-align: right;\">                 4</td><td>binary:logistic</td><td style=\"text-align: right;\">   0.82305 </td><td style=\"text-align: right;\">     1</td><td style=\"text-align: right;\">       0.120999 </td><td style=\"text-align: right;\">          6400</td><td style=\"text-align: right;\">144</td><td style=\"text-align: right;\">                  4</td></tr>\n",
       "<tr><td>train_xgboost_e09dd574</td><td>TERMINATED</td><td>127.0.0.1:40556</td><td style=\"text-align: right;\">0.00964644</td><td style=\"text-align: right;\">          0.745286</td><td>[100, 101, 103, 105]</td><td style=\"text-align: right;\">0.0558756</td><td>error        </td><td style=\"text-align: right;\">0.00413927</td><td style=\"text-align: right;\">          9</td><td style=\"text-align: right;\">                 3</td><td>binary:logistic</td><td style=\"text-align: right;\">   0.70752 </td><td style=\"text-align: right;\">     1</td><td style=\"text-align: right;\">       0.108987 </td><td style=\"text-align: right;\">          6650</td><td style=\"text-align: right;\">149</td><td style=\"text-align: right;\">                  4</td></tr>\n",
       "<tr><td>train_xgboost_4098a97f</td><td>TERMINATED</td><td>127.0.0.1:2808 </td><td style=\"text-align: right;\">0.00165597</td><td style=\"text-align: right;\">          0.676367</td><td>[101, 103, 105]     </td><td style=\"text-align: right;\">0.0703678</td><td>error        </td><td style=\"text-align: right;\">1.99792   </td><td style=\"text-align: right;\">          7</td><td style=\"text-align: right;\">                 1</td><td>binary:logistic</td><td style=\"text-align: right;\">   0.584609</td><td style=\"text-align: right;\">     1</td><td style=\"text-align: right;\">       0.0939996</td><td style=\"text-align: right;\">          6550</td><td style=\"text-align: right;\">143</td><td style=\"text-align: right;\">                  3</td></tr>\n",
       "<tr><td>train_xgboost_9e0d807d</td><td>TERMINATED</td><td>127.0.0.1:5144 </td><td style=\"text-align: right;\">0.0302946 </td><td style=\"text-align: right;\">          0.904114</td><td>[100, 101, 102, 103]</td><td style=\"text-align: right;\">0.0342481</td><td>error        </td><td style=\"text-align: right;\">0.00347017</td><td style=\"text-align: right;\">          5</td><td style=\"text-align: right;\">                 3</td><td>binary:logistic</td><td style=\"text-align: right;\">   0.67871 </td><td style=\"text-align: right;\">     1</td><td style=\"text-align: right;\">       0.0780001</td><td style=\"text-align: right;\">          6850</td><td style=\"text-align: right;\">153</td><td style=\"text-align: right;\">                  4</td></tr>\n",
       "<tr><td>train_xgboost_ba3c69ed</td><td>TERMINATED</td><td>127.0.0.1:44460</td><td style=\"text-align: right;\">4.29192   </td><td style=\"text-align: right;\">          0.680739</td><td>[101, 102, 103, 105]</td><td style=\"text-align: right;\">0.0175   </td><td>error        </td><td style=\"text-align: right;\">0.0471373 </td><td style=\"text-align: right;\">         10</td><td style=\"text-align: right;\">                 4</td><td>binary:logistic</td><td style=\"text-align: right;\">   0.558068</td><td style=\"text-align: right;\">     1</td><td style=\"text-align: right;\">       0.0920007</td><td style=\"text-align: right;\">          6800</td><td style=\"text-align: right;\">152</td><td style=\"text-align: right;\">                  4</td></tr>\n",
       "<tr><td>train_xgboost_be44966b</td><td>TERMINATED</td><td>127.0.0.1:57952</td><td style=\"text-align: right;\">0.0271921 </td><td style=\"text-align: right;\">          0.801078</td><td>[100, 102, 103, 105]</td><td style=\"text-align: right;\">0.0370325</td><td>error        </td><td style=\"text-align: right;\">0.0504132 </td><td style=\"text-align: right;\">          5</td><td style=\"text-align: right;\">                 2</td><td>binary:logistic</td><td style=\"text-align: right;\">   0.749982</td><td style=\"text-align: right;\">     1</td><td style=\"text-align: right;\">       0.0799994</td><td style=\"text-align: right;\">          6900</td><td style=\"text-align: right;\">154</td><td style=\"text-align: right;\">                  4</td></tr>\n",
       "<tr><td>train_xgboost_0e0fb98a</td><td>TERMINATED</td><td>127.0.0.1:2832 </td><td style=\"text-align: right;\">0.884516  </td><td style=\"text-align: right;\">          0.624252</td><td>[100, 101, 103, 105]</td><td style=\"text-align: right;\">0.0954413</td><td>error        </td><td style=\"text-align: right;\">0.117257  </td><td style=\"text-align: right;\">          5</td><td style=\"text-align: right;\">                 2</td><td>binary:logistic</td><td style=\"text-align: right;\">   0.705551</td><td style=\"text-align: right;\">     1</td><td style=\"text-align: right;\">       0.0765059</td><td style=\"text-align: right;\">          6550</td><td style=\"text-align: right;\">147</td><td style=\"text-align: right;\">                  4</td></tr>\n",
       "<tr><td>train_xgboost_805b468a</td><td>TERMINATED</td><td>127.0.0.1:15136</td><td style=\"text-align: right;\">0.0143788 </td><td style=\"text-align: right;\">          0.670893</td><td>[100, 101, 102,_a470</td><td style=\"text-align: right;\">0.0169844</td><td>error        </td><td style=\"text-align: right;\">0.356411  </td><td style=\"text-align: right;\">          3</td><td style=\"text-align: right;\">                 5</td><td>binary:logistic</td><td style=\"text-align: right;\">   0.94126 </td><td style=\"text-align: right;\">     1</td><td style=\"text-align: right;\">       0.0749981</td><td style=\"text-align: right;\">          6350</td><td style=\"text-align: right;\">151</td><td style=\"text-align: right;\">                  6</td></tr>\n",
       "<tr><td>train_xgboost_b2baf1dd</td><td>TERMINATED</td><td>127.0.0.1:7812 </td><td style=\"text-align: right;\">0.012229  </td><td style=\"text-align: right;\">          0.771838</td><td>[100, 101, 102, 103]</td><td style=\"text-align: right;\">0.0309477</td><td>error        </td><td style=\"text-align: right;\">2.15793   </td><td style=\"text-align: right;\">          3</td><td style=\"text-align: right;\">                 2</td><td>binary:logistic</td><td style=\"text-align: right;\">   0.738666</td><td style=\"text-align: right;\">     1</td><td style=\"text-align: right;\">       0.0679982</td><td style=\"text-align: right;\">          6750</td><td style=\"text-align: right;\">151</td><td style=\"text-align: right;\">                  4</td></tr>\n",
       "<tr><td>train_xgboost_bd1b8f9c</td><td>TERMINATED</td><td>127.0.0.1:60112</td><td style=\"text-align: right;\">0.0935963 </td><td style=\"text-align: right;\">          0.831867</td><td>[100, 101, 102, 103]</td><td style=\"text-align: right;\">0.0318653</td><td>error        </td><td style=\"text-align: right;\">0.41372   </td><td style=\"text-align: right;\">          5</td><td style=\"text-align: right;\">                 4</td><td>binary:logistic</td><td style=\"text-align: right;\">   0.939351</td><td style=\"text-align: right;\">     1</td><td style=\"text-align: right;\">       0.0770001</td><td style=\"text-align: right;\">          6750</td><td style=\"text-align: right;\">151</td><td style=\"text-align: right;\">                  4</td></tr>\n",
       "<tr><td>train_xgboost_a0e2af1c</td><td>TERMINATED</td><td>127.0.0.1:9444 </td><td style=\"text-align: right;\">0.00280557</td><td style=\"text-align: right;\">          0.696582</td><td>[100, 101, 102, 103]</td><td style=\"text-align: right;\">0.0871711</td><td>error        </td><td style=\"text-align: right;\">0.571327  </td><td style=\"text-align: right;\">          4</td><td style=\"text-align: right;\">                 1</td><td>binary:logistic</td><td style=\"text-align: right;\">   0.700068</td><td style=\"text-align: right;\">     1</td><td style=\"text-align: right;\">       0.0720024</td><td style=\"text-align: right;\">          6900</td><td style=\"text-align: right;\">154</td><td style=\"text-align: right;\">                  4</td></tr>\n",
       "<tr><td>train_xgboost_701ff322</td><td>TERMINATED</td><td>127.0.0.1:62836</td><td style=\"text-align: right;\">0.0518469 </td><td style=\"text-align: right;\">          0.905483</td><td>[100, 101, 102, 103]</td><td style=\"text-align: right;\">0.0443352</td><td>error        </td><td style=\"text-align: right;\">0.646629  </td><td style=\"text-align: right;\">          7</td><td style=\"text-align: right;\">                 3</td><td>binary:logistic</td><td style=\"text-align: right;\">   0.806842</td><td style=\"text-align: right;\">     1</td><td style=\"text-align: right;\">       0.103002 </td><td style=\"text-align: right;\">          6600</td><td style=\"text-align: right;\">148</td><td style=\"text-align: right;\">                  4</td></tr>\n",
       "<tr><td>train_xgboost_c96a5aae</td><td>TERMINATED</td><td>127.0.0.1:42332</td><td style=\"text-align: right;\">0.973838  </td><td style=\"text-align: right;\">          0.517703</td><td>[104, 102, 103, 105]</td><td style=\"text-align: right;\">0.0620339</td><td>error        </td><td style=\"text-align: right;\">0.0111432 </td><td style=\"text-align: right;\">         10</td><td style=\"text-align: right;\">                 5</td><td>binary:logistic</td><td style=\"text-align: right;\">   0.823987</td><td style=\"text-align: right;\">     1</td><td style=\"text-align: right;\">       0.113514 </td><td style=\"text-align: right;\">          6550</td><td style=\"text-align: right;\">147</td><td style=\"text-align: right;\">                  4</td></tr>\n",
       "<tr><td>train_xgboost_0ed354e9</td><td>TERMINATED</td><td>127.0.0.1:63312</td><td style=\"text-align: right;\">3.22719   </td><td style=\"text-align: right;\">          0.810674</td><td>[104, 102, 103, 105]</td><td style=\"text-align: right;\">0.0283889</td><td>error        </td><td style=\"text-align: right;\">0.104756  </td><td style=\"text-align: right;\">          5</td><td style=\"text-align: right;\">                 1</td><td>binary:logistic</td><td style=\"text-align: right;\">   0.541943</td><td style=\"text-align: right;\">     1</td><td style=\"text-align: right;\">       0.0819995</td><td style=\"text-align: right;\">          6800</td><td style=\"text-align: right;\">152</td><td style=\"text-align: right;\">                  4</td></tr>\n",
       "<tr><td>train_xgboost_1f6038cf</td><td>TERMINATED</td><td>127.0.0.1:57876</td><td style=\"text-align: right;\">2.61842   </td><td style=\"text-align: right;\">          0.634524</td><td>[100, 101, 102, 103]</td><td style=\"text-align: right;\">0.0382502</td><td>error        </td><td style=\"text-align: right;\">0.11122   </td><td style=\"text-align: right;\">          3</td><td style=\"text-align: right;\">                 2</td><td>binary:logistic</td><td style=\"text-align: right;\">   0.743632</td><td style=\"text-align: right;\">     1</td><td style=\"text-align: right;\">       0.0699561</td><td style=\"text-align: right;\">          6750</td><td style=\"text-align: right;\">151</td><td style=\"text-align: right;\">                  4</td></tr>\n",
       "<tr><td>train_xgboost_0fd10700</td><td>TERMINATED</td><td>127.0.0.1:48452</td><td style=\"text-align: right;\">2.09169   </td><td style=\"text-align: right;\">          0.555981</td><td>[101, 102, 103]     </td><td style=\"text-align: right;\">0.0419941</td><td>error        </td><td style=\"text-align: right;\">8.51381   </td><td style=\"text-align: right;\">          3</td><td style=\"text-align: right;\">                 2</td><td>binary:logistic</td><td style=\"text-align: right;\">   0.752084</td><td style=\"text-align: right;\">     1</td><td style=\"text-align: right;\">       0.0659997</td><td style=\"text-align: right;\">          6700</td><td style=\"text-align: right;\">146</td><td style=\"text-align: right;\">                  3</td></tr>\n",
       "<tr><td>train_xgboost_0589c01b</td><td>TERMINATED</td><td>127.0.0.1:24456</td><td style=\"text-align: right;\">0.324652  </td><td style=\"text-align: right;\">          0.879003</td><td>[104, 102, 103, 105]</td><td style=\"text-align: right;\">0.0777428</td><td>error        </td><td style=\"text-align: right;\">0.0206346 </td><td style=\"text-align: right;\">          4</td><td style=\"text-align: right;\">                 1</td><td>binary:logistic</td><td style=\"text-align: right;\">   0.721176</td><td style=\"text-align: right;\">     1</td><td style=\"text-align: right;\">       0.0719995</td><td style=\"text-align: right;\">          6800</td><td style=\"text-align: right;\">152</td><td style=\"text-align: right;\">                  4</td></tr>\n",
       "<tr><td>train_xgboost_f4167cbe</td><td>TERMINATED</td><td>127.0.0.1:34000</td><td style=\"text-align: right;\">0.00546977</td><td style=\"text-align: right;\">          0.643137</td><td>[101, 103, 105]     </td><td style=\"text-align: right;\">0.0944687</td><td>error        </td><td style=\"text-align: right;\">1.8176    </td><td style=\"text-align: right;\">          5</td><td style=\"text-align: right;\">                 1</td><td>binary:logistic</td><td style=\"text-align: right;\">   0.689082</td><td style=\"text-align: right;\">     1</td><td style=\"text-align: right;\">       0.0669994</td><td style=\"text-align: right;\">          6500</td><td style=\"text-align: right;\">142</td><td style=\"text-align: right;\">                  3</td></tr>\n",
       "<tr><td>train_xgboost_e3f8c209</td><td>TERMINATED</td><td>127.0.0.1:14932</td><td style=\"text-align: right;\">0.102013  </td><td style=\"text-align: right;\">          0.805719</td><td>[100, 101, 102, 103]</td><td style=\"text-align: right;\">0.0547943</td><td>error        </td><td style=\"text-align: right;\">0.49655   </td><td style=\"text-align: right;\">          4</td><td style=\"text-align: right;\">                 1</td><td>binary:logistic</td><td style=\"text-align: right;\">   0.745463</td><td style=\"text-align: right;\">     1</td><td style=\"text-align: right;\">       0.0709999</td><td style=\"text-align: right;\">          6750</td><td style=\"text-align: right;\">151</td><td style=\"text-align: right;\">                  4</td></tr>\n",
       "<tr><td>train_xgboost_b870f10f</td><td>TERMINATED</td><td>127.0.0.1:13660</td><td style=\"text-align: right;\">3.92015   </td><td style=\"text-align: right;\">          0.806726</td><td>[104, 102, 103, 105]</td><td style=\"text-align: right;\">0.0421548</td><td>error        </td><td style=\"text-align: right;\">0.00348681</td><td style=\"text-align: right;\">          8</td><td style=\"text-align: right;\">                 4</td><td>binary:logistic</td><td style=\"text-align: right;\">   0.652016</td><td style=\"text-align: right;\">     1</td><td style=\"text-align: right;\">       0.108    </td><td style=\"text-align: right;\">          6350</td><td style=\"text-align: right;\">143</td><td style=\"text-align: right;\">                  4</td></tr>\n",
       "<tr><td>train_xgboost_c2cc9c1e</td><td>TERMINATED</td><td>127.0.0.1:12076</td><td style=\"text-align: right;\">0.0631338 </td><td style=\"text-align: right;\">          0.509246</td><td>[104, 102, 103, 105]</td><td style=\"text-align: right;\">0.0265608</td><td>error        </td><td style=\"text-align: right;\">0.0630796 </td><td style=\"text-align: right;\">          7</td><td style=\"text-align: right;\">                 3</td><td>binary:logistic</td><td style=\"text-align: right;\">   0.542392</td><td style=\"text-align: right;\">     1</td><td style=\"text-align: right;\">       0.0969992</td><td style=\"text-align: right;\">          6500</td><td style=\"text-align: right;\">146</td><td style=\"text-align: right;\">                  4</td></tr>\n",
       "<tr><td>train_xgboost_f64205f0</td><td>TERMINATED</td><td>127.0.0.1:60348</td><td style=\"text-align: right;\">0.0554041 </td><td style=\"text-align: right;\">          0.993039</td><td>[101, 102, 103, 105]</td><td style=\"text-align: right;\">0.0121623</td><td>error        </td><td style=\"text-align: right;\">0.0152809 </td><td style=\"text-align: right;\">          9</td><td style=\"text-align: right;\">                 2</td><td>binary:logistic</td><td style=\"text-align: right;\">   0.961909</td><td style=\"text-align: right;\">     1</td><td style=\"text-align: right;\">       0.149418 </td><td style=\"text-align: right;\">          6500</td><td style=\"text-align: right;\">146</td><td style=\"text-align: right;\">                  4</td></tr>\n",
       "</tbody>\n",
       "</table>\n",
       "  </div>\n",
       "</div>\n",
       "<style>\n",
       ".tuneStatus {\n",
       "  color: var(--jp-ui-font-color1);\n",
       "}\n",
       ".tuneStatus .systemInfo {\n",
       "  display: flex;\n",
       "  flex-direction: column;\n",
       "}\n",
       ".tuneStatus td {\n",
       "  white-space: nowrap;\n",
       "}\n",
       ".tuneStatus .trialStatus {\n",
       "  display: flex;\n",
       "  flex-direction: column;\n",
       "}\n",
       ".tuneStatus h3 {\n",
       "  font-weight: bold;\n",
       "}\n",
       ".tuneStatus .hDivider {\n",
       "  border-bottom-width: var(--jp-border-width);\n",
       "  border-bottom-color: var(--jp-border-color0);\n",
       "  border-bottom-style: solid;\n",
       "}\n",
       ".tuneStatus .vDivider {\n",
       "  border-left-width: var(--jp-border-width);\n",
       "  border-left-color: var(--jp-border-color0);\n",
       "  border-left-style: solid;\n",
       "  margin: 0.5em 1em 0.5em 1em;\n",
       "}\n",
       "</style>\n"
      ],
      "text/plain": [
       "<IPython.core.display.HTML object>"
      ]
     },
     "metadata": {},
     "output_type": "display_data"
    },
    {
     "name": "stdout",
     "output_type": "stream",
     "text": [
      "\u001b[33m(raylet)\u001b[0m Warning: The actor ImplicitFunc is very large (19 MiB). Check that its definition is not implicitly capturing a large array or other object in scope. Tip: use ray.put() to put large objects in the Ray object store.\n",
      "\u001b[36m(train_xgboost pid=60188)\u001b[0m 142 1000\n"
     ]
    },
    {
     "data": {
      "text/html": [
       "<div class=\"trialProgress\">\n",
       "  <h3>Trial Progress</h3>\n",
       "  <table>\n",
       "<thead>\n",
       "<tr><th>Trial name            </th><th style=\"text-align: right;\">  correct_class_1_predictions</th><th style=\"text-align: right;\">  custom_score</th><th style=\"text-align: right;\">  num_features_used</th></tr>\n",
       "</thead>\n",
       "<tbody>\n",
       "<tr><td>train_xgboost_0043c127</td><td style=\"text-align: right;\">                          149</td><td style=\"text-align: right;\">          6650</td><td style=\"text-align: right;\">                  4</td></tr>\n",
       "<tr><td>train_xgboost_02dc74a4</td><td style=\"text-align: right;\">                          150</td><td style=\"text-align: right;\">          6700</td><td style=\"text-align: right;\">                  4</td></tr>\n",
       "<tr><td>train_xgboost_0589c01b</td><td style=\"text-align: right;\">                          152</td><td style=\"text-align: right;\">          6800</td><td style=\"text-align: right;\">                  4</td></tr>\n",
       "<tr><td>train_xgboost_06334eee</td><td style=\"text-align: right;\">                          142</td><td style=\"text-align: right;\">          6500</td><td style=\"text-align: right;\">                  3</td></tr>\n",
       "<tr><td>train_xgboost_07408a99</td><td style=\"text-align: right;\">                          149</td><td style=\"text-align: right;\">          6650</td><td style=\"text-align: right;\">                  4</td></tr>\n",
       "<tr><td>train_xgboost_088d1b6a</td><td style=\"text-align: right;\">                          146</td><td style=\"text-align: right;\">          6700</td><td style=\"text-align: right;\">                  3</td></tr>\n",
       "<tr><td>train_xgboost_09b8cbc5</td><td style=\"text-align: right;\">                          154</td><td style=\"text-align: right;\">          6700</td><td style=\"text-align: right;\">                  5</td></tr>\n",
       "<tr><td>train_xgboost_0bdc02c7</td><td style=\"text-align: right;\">                          148</td><td style=\"text-align: right;\">          6600</td><td style=\"text-align: right;\">                  4</td></tr>\n",
       "<tr><td>train_xgboost_0c2fc569</td><td style=\"text-align: right;\">                          154</td><td style=\"text-align: right;\">          6900</td><td style=\"text-align: right;\">                  4</td></tr>\n",
       "<tr><td>train_xgboost_0d2596d2</td><td style=\"text-align: right;\">                          144</td><td style=\"text-align: right;\">          6600</td><td style=\"text-align: right;\">                  3</td></tr>\n",
       "<tr><td>train_xgboost_0e0fb98a</td><td style=\"text-align: right;\">                          147</td><td style=\"text-align: right;\">          6550</td><td style=\"text-align: right;\">                  4</td></tr>\n",
       "<tr><td>train_xgboost_0e53de7f</td><td style=\"text-align: right;\">                          154</td><td style=\"text-align: right;\">          6900</td><td style=\"text-align: right;\">                  4</td></tr>\n",
       "<tr><td>train_xgboost_0ed354e9</td><td style=\"text-align: right;\">                          152</td><td style=\"text-align: right;\">          6800</td><td style=\"text-align: right;\">                  4</td></tr>\n",
       "<tr><td>train_xgboost_0f58b5c2</td><td style=\"text-align: right;\">                          143</td><td style=\"text-align: right;\">          6550</td><td style=\"text-align: right;\">                  3</td></tr>\n",
       "<tr><td>train_xgboost_0fa1e9c0</td><td style=\"text-align: right;\">                          152</td><td style=\"text-align: right;\">          6800</td><td style=\"text-align: right;\">                  4</td></tr>\n",
       "<tr><td>train_xgboost_0fd10700</td><td style=\"text-align: right;\">                          146</td><td style=\"text-align: right;\">          6700</td><td style=\"text-align: right;\">                  3</td></tr>\n",
       "<tr><td>train_xgboost_10e1f7b3</td><td style=\"text-align: right;\">                          152</td><td style=\"text-align: right;\">          6800</td><td style=\"text-align: right;\">                  4</td></tr>\n",
       "<tr><td>train_xgboost_11c1d934</td><td style=\"text-align: right;\">                          148</td><td style=\"text-align: right;\">          6600</td><td style=\"text-align: right;\">                  4</td></tr>\n",
       "<tr><td>train_xgboost_17d54bc4</td><td style=\"text-align: right;\">                          142</td><td style=\"text-align: right;\">          6500</td><td style=\"text-align: right;\">                  3</td></tr>\n",
       "<tr><td>train_xgboost_17f7973d</td><td style=\"text-align: right;\">                          146</td><td style=\"text-align: right;\">          6500</td><td style=\"text-align: right;\">                  4</td></tr>\n",
       "<tr><td>train_xgboost_19158d1e</td><td style=\"text-align: right;\">                          148</td><td style=\"text-align: right;\">          6600</td><td style=\"text-align: right;\">                  4</td></tr>\n",
       "<tr><td>train_xgboost_19a0a064</td><td style=\"text-align: right;\">                          155</td><td style=\"text-align: right;\">          6550</td><td style=\"text-align: right;\">                  6</td></tr>\n",
       "<tr><td>train_xgboost_1a74f2b6</td><td style=\"text-align: right;\">                          148</td><td style=\"text-align: right;\">          6600</td><td style=\"text-align: right;\">                  4</td></tr>\n",
       "<tr><td>train_xgboost_1be53a86</td><td style=\"text-align: right;\">                          155</td><td style=\"text-align: right;\">          6950</td><td style=\"text-align: right;\">                  4</td></tr>\n",
       "<tr><td>train_xgboost_1c69c043</td><td style=\"text-align: right;\">                          153</td><td style=\"text-align: right;\">          6850</td><td style=\"text-align: right;\">                  4</td></tr>\n",
       "<tr><td>train_xgboost_1ce6d34c</td><td style=\"text-align: right;\">                          146</td><td style=\"text-align: right;\">          6500</td><td style=\"text-align: right;\">                  4</td></tr>\n",
       "<tr><td>train_xgboost_1d6d53e3</td><td style=\"text-align: right;\">                          146</td><td style=\"text-align: right;\">          6700</td><td style=\"text-align: right;\">                  3</td></tr>\n",
       "<tr><td>train_xgboost_1f6038cf</td><td style=\"text-align: right;\">                          151</td><td style=\"text-align: right;\">          6750</td><td style=\"text-align: right;\">                  4</td></tr>\n",
       "<tr><td>train_xgboost_2091bc3a</td><td style=\"text-align: right;\">                          152</td><td style=\"text-align: right;\">          6800</td><td style=\"text-align: right;\">                  4</td></tr>\n",
       "<tr><td>train_xgboost_20ceaae5</td><td style=\"text-align: right;\">                          145</td><td style=\"text-align: right;\">          6650</td><td style=\"text-align: right;\">                  3</td></tr>\n",
       "<tr><td>train_xgboost_21460417</td><td style=\"text-align: right;\">                          151</td><td style=\"text-align: right;\">          6750</td><td style=\"text-align: right;\">                  4</td></tr>\n",
       "<tr><td>train_xgboost_234f7351</td><td style=\"text-align: right;\">                          154</td><td style=\"text-align: right;\">          6700</td><td style=\"text-align: right;\">                  5</td></tr>\n",
       "<tr><td>train_xgboost_253adaad</td><td style=\"text-align: right;\">                          150</td><td style=\"text-align: right;\">          6700</td><td style=\"text-align: right;\">                  4</td></tr>\n",
       "<tr><td>train_xgboost_263f4f38</td><td style=\"text-align: right;\">                          148</td><td style=\"text-align: right;\">          6600</td><td style=\"text-align: right;\">                  4</td></tr>\n",
       "<tr><td>train_xgboost_28b641bb</td><td style=\"text-align: right;\">                          149</td><td style=\"text-align: right;\">          6650</td><td style=\"text-align: right;\">                  4</td></tr>\n",
       "<tr><td>train_xgboost_2995a069</td><td style=\"text-align: right;\">                          142</td><td style=\"text-align: right;\">          6500</td><td style=\"text-align: right;\">                  3</td></tr>\n",
       "<tr><td>train_xgboost_29a3004c</td><td style=\"text-align: right;\">                          144</td><td style=\"text-align: right;\">          6600</td><td style=\"text-align: right;\">                  3</td></tr>\n",
       "<tr><td>train_xgboost_2b2bab95</td><td style=\"text-align: right;\">                          155</td><td style=\"text-align: right;\">          6950</td><td style=\"text-align: right;\">                  4</td></tr>\n",
       "<tr><td>train_xgboost_2bc23871</td><td style=\"text-align: right;\">                          154</td><td style=\"text-align: right;\">          6900</td><td style=\"text-align: right;\">                  4</td></tr>\n",
       "<tr><td>train_xgboost_2d06f199</td><td style=\"text-align: right;\">                          151</td><td style=\"text-align: right;\">          6750</td><td style=\"text-align: right;\">                  4</td></tr>\n",
       "<tr><td>train_xgboost_30994418</td><td style=\"text-align: right;\">                          159</td><td style=\"text-align: right;\">          7150</td><td style=\"text-align: right;\">                  4</td></tr>\n",
       "<tr><td>train_xgboost_311543ec</td><td style=\"text-align: right;\">                          150</td><td style=\"text-align: right;\">          6700</td><td style=\"text-align: right;\">                  4</td></tr>\n",
       "<tr><td>train_xgboost_3446b1ad</td><td style=\"text-align: right;\">                          143</td><td style=\"text-align: right;\">          6550</td><td style=\"text-align: right;\">                  3</td></tr>\n",
       "<tr><td>train_xgboost_367543c2</td><td style=\"text-align: right;\">                          150</td><td style=\"text-align: right;\">          6700</td><td style=\"text-align: right;\">                  4</td></tr>\n",
       "<tr><td>train_xgboost_36eed01c</td><td style=\"text-align: right;\">                          141</td><td style=\"text-align: right;\">          6450</td><td style=\"text-align: right;\">                  3</td></tr>\n",
       "<tr><td>train_xgboost_3bebb2e7</td><td style=\"text-align: right;\">                          147</td><td style=\"text-align: right;\">          6750</td><td style=\"text-align: right;\">                  3</td></tr>\n",
       "<tr><td>train_xgboost_3c0d3a9c</td><td style=\"text-align: right;\">                          152</td><td style=\"text-align: right;\">          6800</td><td style=\"text-align: right;\">                  4</td></tr>\n",
       "<tr><td>train_xgboost_3c442863</td><td style=\"text-align: right;\">                          147</td><td style=\"text-align: right;\">          6550</td><td style=\"text-align: right;\">                  4</td></tr>\n",
       "<tr><td>train_xgboost_4087dd4e</td><td style=\"text-align: right;\">                          155</td><td style=\"text-align: right;\">          6550</td><td style=\"text-align: right;\">                  6</td></tr>\n",
       "<tr><td>train_xgboost_4098a97f</td><td style=\"text-align: right;\">                          143</td><td style=\"text-align: right;\">          6550</td><td style=\"text-align: right;\">                  3</td></tr>\n",
       "<tr><td>train_xgboost_4337e3b5</td><td style=\"text-align: right;\">                          157</td><td style=\"text-align: right;\">          7050</td><td style=\"text-align: right;\">                  4</td></tr>\n",
       "<tr><td>train_xgboost_43f76453</td><td style=\"text-align: right;\">                          148</td><td style=\"text-align: right;\">          6800</td><td style=\"text-align: right;\">                  3</td></tr>\n",
       "<tr><td>train_xgboost_4537a365</td><td style=\"text-align: right;\">                          151</td><td style=\"text-align: right;\">          6750</td><td style=\"text-align: right;\">                  4</td></tr>\n",
       "<tr><td>train_xgboost_4a7759bf</td><td style=\"text-align: right;\">                          148</td><td style=\"text-align: right;\">          6600</td><td style=\"text-align: right;\">                  4</td></tr>\n",
       "<tr><td>train_xgboost_4aa37c23</td><td style=\"text-align: right;\">                          152</td><td style=\"text-align: right;\">          6800</td><td style=\"text-align: right;\">                  4</td></tr>\n",
       "<tr><td>train_xgboost_4c94394e</td><td style=\"text-align: right;\">                          147</td><td style=\"text-align: right;\">          6750</td><td style=\"text-align: right;\">                  3</td></tr>\n",
       "<tr><td>train_xgboost_4e3d21ea</td><td style=\"text-align: right;\">                          147</td><td style=\"text-align: right;\">          6150</td><td style=\"text-align: right;\">                  6</td></tr>\n",
       "<tr><td>train_xgboost_50ab5951</td><td style=\"text-align: right;\">                          150</td><td style=\"text-align: right;\">          6700</td><td style=\"text-align: right;\">                  4</td></tr>\n",
       "<tr><td>train_xgboost_5271a4f0</td><td style=\"text-align: right;\">                          154</td><td style=\"text-align: right;\">          6900</td><td style=\"text-align: right;\">                  4</td></tr>\n",
       "<tr><td>train_xgboost_5284de4d</td><td style=\"text-align: right;\">                          146</td><td style=\"text-align: right;\">          6700</td><td style=\"text-align: right;\">                  3</td></tr>\n",
       "<tr><td>train_xgboost_548f4479</td><td style=\"text-align: right;\">                          145</td><td style=\"text-align: right;\">          6650</td><td style=\"text-align: right;\">                  3</td></tr>\n",
       "<tr><td>train_xgboost_55028a81</td><td style=\"text-align: right;\">                          140</td><td style=\"text-align: right;\">          6400</td><td style=\"text-align: right;\">                  3</td></tr>\n",
       "<tr><td>train_xgboost_55051260</td><td style=\"text-align: right;\">                          151</td><td style=\"text-align: right;\">          6750</td><td style=\"text-align: right;\">                  4</td></tr>\n",
       "<tr><td>train_xgboost_550e55a6</td><td style=\"text-align: right;\">                          140</td><td style=\"text-align: right;\">          6400</td><td style=\"text-align: right;\">                  3</td></tr>\n",
       "<tr><td>train_xgboost_55b0eac4</td><td style=\"text-align: right;\">                          152</td><td style=\"text-align: right;\">          6800</td><td style=\"text-align: right;\">                  4</td></tr>\n",
       "<tr><td>train_xgboost_57f3fd0d</td><td style=\"text-align: right;\">                          151</td><td style=\"text-align: right;\">          6750</td><td style=\"text-align: right;\">                  4</td></tr>\n",
       "<tr><td>train_xgboost_5c66285e</td><td style=\"text-align: right;\">                          147</td><td style=\"text-align: right;\">          6550</td><td style=\"text-align: right;\">                  4</td></tr>\n",
       "<tr><td>train_xgboost_5d17010e</td><td style=\"text-align: right;\">                          151</td><td style=\"text-align: right;\">          6950</td><td style=\"text-align: right;\">                  3</td></tr>\n",
       "<tr><td>train_xgboost_5d21ea4d</td><td style=\"text-align: right;\">                          154</td><td style=\"text-align: right;\">          6900</td><td style=\"text-align: right;\">                  4</td></tr>\n",
       "<tr><td>train_xgboost_61e249b6</td><td style=\"text-align: right;\">                          146</td><td style=\"text-align: right;\">          6700</td><td style=\"text-align: right;\">                  3</td></tr>\n",
       "<tr><td>train_xgboost_6411b4ca</td><td style=\"text-align: right;\">                          146</td><td style=\"text-align: right;\">          6700</td><td style=\"text-align: right;\">                  3</td></tr>\n",
       "<tr><td>train_xgboost_64e2d86a</td><td style=\"text-align: right;\">                          141</td><td style=\"text-align: right;\">          6450</td><td style=\"text-align: right;\">                  3</td></tr>\n",
       "<tr><td>train_xgboost_692fef9f</td><td style=\"text-align: right;\">                          151</td><td style=\"text-align: right;\">          6750</td><td style=\"text-align: right;\">                  4</td></tr>\n",
       "<tr><td>train_xgboost_6b216656</td><td style=\"text-align: right;\">                          148</td><td style=\"text-align: right;\">          6800</td><td style=\"text-align: right;\">                  3</td></tr>\n",
       "<tr><td>train_xgboost_6b28a990</td><td style=\"text-align: right;\">                          150</td><td style=\"text-align: right;\">          6700</td><td style=\"text-align: right;\">                  4</td></tr>\n",
       "<tr><td>train_xgboost_701ff322</td><td style=\"text-align: right;\">                          148</td><td style=\"text-align: right;\">          6600</td><td style=\"text-align: right;\">                  4</td></tr>\n",
       "<tr><td>train_xgboost_71922140</td><td style=\"text-align: right;\">                          148</td><td style=\"text-align: right;\">          6800</td><td style=\"text-align: right;\">                  3</td></tr>\n",
       "<tr><td>train_xgboost_75b62c3b</td><td style=\"text-align: right;\">                          157</td><td style=\"text-align: right;\">          7050</td><td style=\"text-align: right;\">                  4</td></tr>\n",
       "<tr><td>train_xgboost_769c97a3</td><td style=\"text-align: right;\">                          150</td><td style=\"text-align: right;\">          6900</td><td style=\"text-align: right;\">                  3</td></tr>\n",
       "<tr><td>train_xgboost_77bb4f8e</td><td style=\"text-align: right;\">                          148</td><td style=\"text-align: right;\">          6800</td><td style=\"text-align: right;\">                  3</td></tr>\n",
       "<tr><td>train_xgboost_7cc462d0</td><td style=\"text-align: right;\">                          157</td><td style=\"text-align: right;\">          6850</td><td style=\"text-align: right;\">                  5</td></tr>\n",
       "<tr><td>train_xgboost_7d1265aa</td><td style=\"text-align: right;\">                          159</td><td style=\"text-align: right;\">          6950</td><td style=\"text-align: right;\">                  5</td></tr>\n",
       "<tr><td>train_xgboost_802b7f57</td><td style=\"text-align: right;\">                          151</td><td style=\"text-align: right;\">          6750</td><td style=\"text-align: right;\">                  4</td></tr>\n",
       "<tr><td>train_xgboost_805b468a</td><td style=\"text-align: right;\">                          151</td><td style=\"text-align: right;\">          6350</td><td style=\"text-align: right;\">                  6</td></tr>\n",
       "<tr><td>train_xgboost_81336dc9</td><td style=\"text-align: right;\">                          148</td><td style=\"text-align: right;\">          6800</td><td style=\"text-align: right;\">                  3</td></tr>\n",
       "<tr><td>train_xgboost_819e48c8</td><td style=\"text-align: right;\">                          150</td><td style=\"text-align: right;\">          6700</td><td style=\"text-align: right;\">                  4</td></tr>\n",
       "<tr><td>train_xgboost_8229f12f</td><td style=\"text-align: right;\">                          146</td><td style=\"text-align: right;\">          6500</td><td style=\"text-align: right;\">                  4</td></tr>\n",
       "<tr><td>train_xgboost_84e06271</td><td style=\"text-align: right;\">                          157</td><td style=\"text-align: right;\">          6850</td><td style=\"text-align: right;\">                  5</td></tr>\n",
       "<tr><td>train_xgboost_85fb8256</td><td style=\"text-align: right;\">                          158</td><td style=\"text-align: right;\">          6900</td><td style=\"text-align: right;\">                  5</td></tr>\n",
       "<tr><td>train_xgboost_8878bc6d</td><td style=\"text-align: right;\">                          158</td><td style=\"text-align: right;\">          7100</td><td style=\"text-align: right;\">                  4</td></tr>\n",
       "<tr><td>train_xgboost_891a0ffc</td><td style=\"text-align: right;\">                          146</td><td style=\"text-align: right;\">          6700</td><td style=\"text-align: right;\">                  3</td></tr>\n",
       "<tr><td>train_xgboost_8c6ba6eb</td><td style=\"text-align: right;\">                          143</td><td style=\"text-align: right;\">          6550</td><td style=\"text-align: right;\">                  3</td></tr>\n",
       "<tr><td>train_xgboost_8cdeba28</td><td style=\"text-align: right;\">                          147</td><td style=\"text-align: right;\">          6750</td><td style=\"text-align: right;\">                  3</td></tr>\n",
       "<tr><td>train_xgboost_8d138c8c</td><td style=\"text-align: right;\">                          147</td><td style=\"text-align: right;\">          6550</td><td style=\"text-align: right;\">                  4</td></tr>\n",
       "<tr><td>train_xgboost_8e9b5708</td><td style=\"text-align: right;\">                          150</td><td style=\"text-align: right;\">          6700</td><td style=\"text-align: right;\">                  4</td></tr>\n",
       "<tr><td>train_xgboost_91477909</td><td style=\"text-align: right;\">                          147</td><td style=\"text-align: right;\">          6750</td><td style=\"text-align: right;\">                  3</td></tr>\n",
       "<tr><td>train_xgboost_915468df</td><td style=\"text-align: right;\">                          142</td><td style=\"text-align: right;\">          6500</td><td style=\"text-align: right;\">                  3</td></tr>\n",
       "<tr><td>train_xgboost_91929e4d</td><td style=\"text-align: right;\">                          146</td><td style=\"text-align: right;\">          6700</td><td style=\"text-align: right;\">                  3</td></tr>\n",
       "<tr><td>train_xgboost_92753f52</td><td style=\"text-align: right;\">                          152</td><td style=\"text-align: right;\">          6800</td><td style=\"text-align: right;\">                  4</td></tr>\n",
       "<tr><td>train_xgboost_94c7f5ec</td><td style=\"text-align: right;\">                          152</td><td style=\"text-align: right;\">          6800</td><td style=\"text-align: right;\">                  4</td></tr>\n",
       "<tr><td>train_xgboost_954f9583</td><td style=\"text-align: right;\">                          152</td><td style=\"text-align: right;\">          6800</td><td style=\"text-align: right;\">                  4</td></tr>\n",
       "<tr><td>train_xgboost_95f4809b</td><td style=\"text-align: right;\">                          150</td><td style=\"text-align: right;\">          6700</td><td style=\"text-align: right;\">                  4</td></tr>\n",
       "<tr><td>train_xgboost_97d7dcf7</td><td style=\"text-align: right;\">                          151</td><td style=\"text-align: right;\">          6750</td><td style=\"text-align: right;\">                  4</td></tr>\n",
       "<tr><td>train_xgboost_97fe6ded</td><td style=\"text-align: right;\">                          140</td><td style=\"text-align: right;\">          6400</td><td style=\"text-align: right;\">                  3</td></tr>\n",
       "<tr><td>train_xgboost_98446720</td><td style=\"text-align: right;\">                          153</td><td style=\"text-align: right;\">          6850</td><td style=\"text-align: right;\">                  4</td></tr>\n",
       "<tr><td>train_xgboost_99b176b2</td><td style=\"text-align: right;\">                          144</td><td style=\"text-align: right;\">          6600</td><td style=\"text-align: right;\">                  3</td></tr>\n",
       "<tr><td>train_xgboost_9a1e0732</td><td style=\"text-align: right;\">                          145</td><td style=\"text-align: right;\">          6450</td><td style=\"text-align: right;\">                  4</td></tr>\n",
       "<tr><td>train_xgboost_9a831eae</td><td style=\"text-align: right;\">                          152</td><td style=\"text-align: right;\">          6800</td><td style=\"text-align: right;\">                  4</td></tr>\n",
       "<tr><td>train_xgboost_9bf23093</td><td style=\"text-align: right;\">                          154</td><td style=\"text-align: right;\">          6900</td><td style=\"text-align: right;\">                  4</td></tr>\n",
       "<tr><td>train_xgboost_9c79d4be</td><td style=\"text-align: right;\">                          155</td><td style=\"text-align: right;\">          6750</td><td style=\"text-align: right;\">                  5</td></tr>\n",
       "<tr><td>train_xgboost_9db2dc0e</td><td style=\"text-align: right;\">                          151</td><td style=\"text-align: right;\">          6750</td><td style=\"text-align: right;\">                  4</td></tr>\n",
       "<tr><td>train_xgboost_9e0d807d</td><td style=\"text-align: right;\">                          153</td><td style=\"text-align: right;\">          6850</td><td style=\"text-align: right;\">                  4</td></tr>\n",
       "<tr><td>train_xgboost_9f0d2834</td><td style=\"text-align: right;\">                          149</td><td style=\"text-align: right;\">          6650</td><td style=\"text-align: right;\">                  4</td></tr>\n",
       "<tr><td>train_xgboost_9f2a761d</td><td style=\"text-align: right;\">                          145</td><td style=\"text-align: right;\">          6650</td><td style=\"text-align: right;\">                  3</td></tr>\n",
       "<tr><td>train_xgboost_a0a115c2</td><td style=\"text-align: right;\">                          147</td><td style=\"text-align: right;\">          6550</td><td style=\"text-align: right;\">                  4</td></tr>\n",
       "<tr><td>train_xgboost_a0e2af1c</td><td style=\"text-align: right;\">                          154</td><td style=\"text-align: right;\">          6900</td><td style=\"text-align: right;\">                  4</td></tr>\n",
       "<tr><td>train_xgboost_a0e4bc67</td><td style=\"text-align: right;\">                          150</td><td style=\"text-align: right;\">          6900</td><td style=\"text-align: right;\">                  3</td></tr>\n",
       "<tr><td>train_xgboost_a0efd7b6</td><td style=\"text-align: right;\">                          145</td><td style=\"text-align: right;\">          6450</td><td style=\"text-align: right;\">                  4</td></tr>\n",
       "<tr><td>train_xgboost_a1e4d8bd</td><td style=\"text-align: right;\">                          145</td><td style=\"text-align: right;\">          6650</td><td style=\"text-align: right;\">                  3</td></tr>\n",
       "<tr><td>train_xgboost_a24f6aca</td><td style=\"text-align: right;\">                          142</td><td style=\"text-align: right;\">          6500</td><td style=\"text-align: right;\">                  3</td></tr>\n",
       "<tr><td>train_xgboost_a2ae991d</td><td style=\"text-align: right;\">                          148</td><td style=\"text-align: right;\">          6600</td><td style=\"text-align: right;\">                  4</td></tr>\n",
       "<tr><td>train_xgboost_a55889aa</td><td style=\"text-align: right;\">                          149</td><td style=\"text-align: right;\">          6850</td><td style=\"text-align: right;\">                  3</td></tr>\n",
       "<tr><td>train_xgboost_a5956e79</td><td style=\"text-align: right;\">                          151</td><td style=\"text-align: right;\">          6750</td><td style=\"text-align: right;\">                  4</td></tr>\n",
       "<tr><td>train_xgboost_a6276b7f</td><td style=\"text-align: right;\">                          148</td><td style=\"text-align: right;\">          6800</td><td style=\"text-align: right;\">                  3</td></tr>\n",
       "<tr><td>train_xgboost_a64d0644</td><td style=\"text-align: right;\">                          145</td><td style=\"text-align: right;\">          6650</td><td style=\"text-align: right;\">                  3</td></tr>\n",
       "<tr><td>train_xgboost_a7713b60</td><td style=\"text-align: right;\">                          154</td><td style=\"text-align: right;\">          6700</td><td style=\"text-align: right;\">                  5</td></tr>\n",
       "<tr><td>train_xgboost_a99e8a8f</td><td style=\"text-align: right;\">                          147</td><td style=\"text-align: right;\">          6750</td><td style=\"text-align: right;\">                  3</td></tr>\n",
       "<tr><td>train_xgboost_aa47b97c</td><td style=\"text-align: right;\">                          154</td><td style=\"text-align: right;\">          6900</td><td style=\"text-align: right;\">                  4</td></tr>\n",
       "<tr><td>train_xgboost_acd58799</td><td style=\"text-align: right;\">                          137</td><td style=\"text-align: right;\">          6250</td><td style=\"text-align: right;\">                  3</td></tr>\n",
       "<tr><td>train_xgboost_ad7d29bc</td><td style=\"text-align: right;\">                          156</td><td style=\"text-align: right;\">          6800</td><td style=\"text-align: right;\">                  5</td></tr>\n",
       "<tr><td>train_xgboost_ae67a903</td><td style=\"text-align: right;\">                          149</td><td style=\"text-align: right;\">          6650</td><td style=\"text-align: right;\">                  4</td></tr>\n",
       "<tr><td>train_xgboost_b051c059</td><td style=\"text-align: right;\">                          145</td><td style=\"text-align: right;\">          6650</td><td style=\"text-align: right;\">                  3</td></tr>\n",
       "<tr><td>train_xgboost_b2baf1dd</td><td style=\"text-align: right;\">                          151</td><td style=\"text-align: right;\">          6750</td><td style=\"text-align: right;\">                  4</td></tr>\n",
       "<tr><td>train_xgboost_b2fa7de9</td><td style=\"text-align: right;\">                          156</td><td style=\"text-align: right;\">          7000</td><td style=\"text-align: right;\">                  4</td></tr>\n",
       "<tr><td>train_xgboost_b2ff80a0</td><td style=\"text-align: right;\">                          147</td><td style=\"text-align: right;\">          6550</td><td style=\"text-align: right;\">                  4</td></tr>\n",
       "<tr><td>train_xgboost_b3ce8c42</td><td style=\"text-align: right;\">                          144</td><td style=\"text-align: right;\">          6400</td><td style=\"text-align: right;\">                  4</td></tr>\n",
       "<tr><td>train_xgboost_b414f94c</td><td style=\"text-align: right;\">                          141</td><td style=\"text-align: right;\">          6450</td><td style=\"text-align: right;\">                  3</td></tr>\n",
       "<tr><td>train_xgboost_b6a06b5b</td><td style=\"text-align: right;\">                          151</td><td style=\"text-align: right;\">          6750</td><td style=\"text-align: right;\">                  4</td></tr>\n",
       "<tr><td>train_xgboost_b7bc9e38</td><td style=\"text-align: right;\">                          146</td><td style=\"text-align: right;\">          6500</td><td style=\"text-align: right;\">                  4</td></tr>\n",
       "<tr><td>train_xgboost_b870f10f</td><td style=\"text-align: right;\">                          143</td><td style=\"text-align: right;\">          6350</td><td style=\"text-align: right;\">                  4</td></tr>\n",
       "<tr><td>train_xgboost_ba3c69ed</td><td style=\"text-align: right;\">                          152</td><td style=\"text-align: right;\">          6800</td><td style=\"text-align: right;\">                  4</td></tr>\n",
       "<tr><td>train_xgboost_bd1b8f9c</td><td style=\"text-align: right;\">                          151</td><td style=\"text-align: right;\">          6750</td><td style=\"text-align: right;\">                  4</td></tr>\n",
       "<tr><td>train_xgboost_bdff3797</td><td style=\"text-align: right;\">                          149</td><td style=\"text-align: right;\">          6650</td><td style=\"text-align: right;\">                  4</td></tr>\n",
       "<tr><td>train_xgboost_be44966b</td><td style=\"text-align: right;\">                          154</td><td style=\"text-align: right;\">          6900</td><td style=\"text-align: right;\">                  4</td></tr>\n",
       "<tr><td>train_xgboost_c0028669</td><td style=\"text-align: right;\">                          149</td><td style=\"text-align: right;\">          6650</td><td style=\"text-align: right;\">                  4</td></tr>\n",
       "<tr><td>train_xgboost_c1baf8a4</td><td style=\"text-align: right;\">                          149</td><td style=\"text-align: right;\">          6650</td><td style=\"text-align: right;\">                  4</td></tr>\n",
       "<tr><td>train_xgboost_c22cda46</td><td style=\"text-align: right;\">                          157</td><td style=\"text-align: right;\">          6850</td><td style=\"text-align: right;\">                  5</td></tr>\n",
       "<tr><td>train_xgboost_c2cc9c1e</td><td style=\"text-align: right;\">                          146</td><td style=\"text-align: right;\">          6500</td><td style=\"text-align: right;\">                  4</td></tr>\n",
       "<tr><td>train_xgboost_c389ff01</td><td style=\"text-align: right;\">                          144</td><td style=\"text-align: right;\">          6400</td><td style=\"text-align: right;\">                  4</td></tr>\n",
       "<tr><td>train_xgboost_c6721a4d</td><td style=\"text-align: right;\">                          151</td><td style=\"text-align: right;\">          6750</td><td style=\"text-align: right;\">                  4</td></tr>\n",
       "<tr><td>train_xgboost_c88c53b4</td><td style=\"text-align: right;\">                          147</td><td style=\"text-align: right;\">          6550</td><td style=\"text-align: right;\">                  4</td></tr>\n",
       "<tr><td>train_xgboost_c96a5aae</td><td style=\"text-align: right;\">                          147</td><td style=\"text-align: right;\">          6550</td><td style=\"text-align: right;\">                  4</td></tr>\n",
       "<tr><td>train_xgboost_c97e55ab</td><td style=\"text-align: right;\">                          150</td><td style=\"text-align: right;\">          6700</td><td style=\"text-align: right;\">                  4</td></tr>\n",
       "<tr><td>train_xgboost_cb35cdd8</td><td style=\"text-align: right;\">                          156</td><td style=\"text-align: right;\">          6800</td><td style=\"text-align: right;\">                  5</td></tr>\n",
       "<tr><td>train_xgboost_d11158bb</td><td style=\"text-align: right;\">                          152</td><td style=\"text-align: right;\">          6600</td><td style=\"text-align: right;\">                  5</td></tr>\n",
       "<tr><td>train_xgboost_d22435a7</td><td style=\"text-align: right;\">                          149</td><td style=\"text-align: right;\">          6650</td><td style=\"text-align: right;\">                  4</td></tr>\n",
       "<tr><td>train_xgboost_d256ef39</td><td style=\"text-align: right;\">                          154</td><td style=\"text-align: right;\">          6700</td><td style=\"text-align: right;\">                  5</td></tr>\n",
       "<tr><td>train_xgboost_d3ff7c51</td><td style=\"text-align: right;\">                          146</td><td style=\"text-align: right;\">          6500</td><td style=\"text-align: right;\">                  4</td></tr>\n",
       "<tr><td>train_xgboost_d42b0bca</td><td style=\"text-align: right;\">                          151</td><td style=\"text-align: right;\">          6750</td><td style=\"text-align: right;\">                  4</td></tr>\n",
       "<tr><td>train_xgboost_d437e851</td><td style=\"text-align: right;\">                          146</td><td style=\"text-align: right;\">          6700</td><td style=\"text-align: right;\">                  3</td></tr>\n",
       "<tr><td>train_xgboost_d6067a72</td><td style=\"text-align: right;\">                          153</td><td style=\"text-align: right;\">          6850</td><td style=\"text-align: right;\">                  4</td></tr>\n",
       "<tr><td>train_xgboost_d6873e17</td><td style=\"text-align: right;\">                          152</td><td style=\"text-align: right;\">          6800</td><td style=\"text-align: right;\">                  4</td></tr>\n",
       "<tr><td>train_xgboost_dca0f65a</td><td style=\"text-align: right;\">                          147</td><td style=\"text-align: right;\">          6550</td><td style=\"text-align: right;\">                  4</td></tr>\n",
       "<tr><td>train_xgboost_dcec87d0</td><td style=\"text-align: right;\">                          147</td><td style=\"text-align: right;\">          6750</td><td style=\"text-align: right;\">                  3</td></tr>\n",
       "<tr><td>train_xgboost_dd8cb210</td><td style=\"text-align: right;\">                          153</td><td style=\"text-align: right;\">          6850</td><td style=\"text-align: right;\">                  4</td></tr>\n",
       "<tr><td>train_xgboost_ddc1d90d</td><td style=\"text-align: right;\">                          153</td><td style=\"text-align: right;\">          6650</td><td style=\"text-align: right;\">                  5</td></tr>\n",
       "<tr><td>train_xgboost_e09dd574</td><td style=\"text-align: right;\">                          149</td><td style=\"text-align: right;\">          6650</td><td style=\"text-align: right;\">                  4</td></tr>\n",
       "<tr><td>train_xgboost_e11a10df</td><td style=\"text-align: right;\">                          154</td><td style=\"text-align: right;\">          6700</td><td style=\"text-align: right;\">                  5</td></tr>\n",
       "<tr><td>train_xgboost_e1a9b57b</td><td style=\"text-align: right;\">                          151</td><td style=\"text-align: right;\">          6750</td><td style=\"text-align: right;\">                  4</td></tr>\n",
       "<tr><td>train_xgboost_e1bbad6b</td><td style=\"text-align: right;\">                          153</td><td style=\"text-align: right;\">          6850</td><td style=\"text-align: right;\">                  4</td></tr>\n",
       "<tr><td>train_xgboost_e322f8cb</td><td style=\"text-align: right;\">                          147</td><td style=\"text-align: right;\">          6550</td><td style=\"text-align: right;\">                  4</td></tr>\n",
       "<tr><td>train_xgboost_e34ef6cc</td><td style=\"text-align: right;\">                          147</td><td style=\"text-align: right;\">          6750</td><td style=\"text-align: right;\">                  3</td></tr>\n",
       "<tr><td>train_xgboost_e3f8c209</td><td style=\"text-align: right;\">                          151</td><td style=\"text-align: right;\">          6750</td><td style=\"text-align: right;\">                  4</td></tr>\n",
       "<tr><td>train_xgboost_e4b69721</td><td style=\"text-align: right;\">                          153</td><td style=\"text-align: right;\">          6850</td><td style=\"text-align: right;\">                  4</td></tr>\n",
       "<tr><td>train_xgboost_e5136e24</td><td style=\"text-align: right;\">                          147</td><td style=\"text-align: right;\">          6750</td><td style=\"text-align: right;\">                  3</td></tr>\n",
       "<tr><td>train_xgboost_e6e69c2e</td><td style=\"text-align: right;\">                          146</td><td style=\"text-align: right;\">          6700</td><td style=\"text-align: right;\">                  3</td></tr>\n",
       "<tr><td>train_xgboost_e89f21ca</td><td style=\"text-align: right;\">                          144</td><td style=\"text-align: right;\">          6600</td><td style=\"text-align: right;\">                  3</td></tr>\n",
       "<tr><td>train_xgboost_e9b7c619</td><td style=\"text-align: right;\">                          148</td><td style=\"text-align: right;\">          6600</td><td style=\"text-align: right;\">                  4</td></tr>\n",
       "<tr><td>train_xgboost_ea035d24</td><td style=\"text-align: right;\">                          144</td><td style=\"text-align: right;\">          6600</td><td style=\"text-align: right;\">                  3</td></tr>\n",
       "<tr><td>train_xgboost_ea2bc557</td><td style=\"text-align: right;\">                          152</td><td style=\"text-align: right;\">          6800</td><td style=\"text-align: right;\">                  4</td></tr>\n",
       "<tr><td>train_xgboost_ead43c46</td><td style=\"text-align: right;\">                          144</td><td style=\"text-align: right;\">          6400</td><td style=\"text-align: right;\">                  4</td></tr>\n",
       "<tr><td>train_xgboost_eb45f49b</td><td style=\"text-align: right;\">                          154</td><td style=\"text-align: right;\">          7100</td><td style=\"text-align: right;\">                  3</td></tr>\n",
       "<tr><td>train_xgboost_ebbd9722</td><td style=\"text-align: right;\">                          149</td><td style=\"text-align: right;\">          6650</td><td style=\"text-align: right;\">                  4</td></tr>\n",
       "<tr><td>train_xgboost_ee1604bc</td><td style=\"text-align: right;\">                          146</td><td style=\"text-align: right;\">          6700</td><td style=\"text-align: right;\">                  3</td></tr>\n",
       "<tr><td>train_xgboost_ee2dd3e4</td><td style=\"text-align: right;\">                          153</td><td style=\"text-align: right;\">          6850</td><td style=\"text-align: right;\">                  4</td></tr>\n",
       "<tr><td>train_xgboost_ee4f3a05</td><td style=\"text-align: right;\">                          143</td><td style=\"text-align: right;\">          6550</td><td style=\"text-align: right;\">                  3</td></tr>\n",
       "<tr><td>train_xgboost_ef711bc0</td><td style=\"text-align: right;\">                          148</td><td style=\"text-align: right;\">          6600</td><td style=\"text-align: right;\">                  4</td></tr>\n",
       "<tr><td>train_xgboost_f044d378</td><td style=\"text-align: right;\">                          147</td><td style=\"text-align: right;\">          6550</td><td style=\"text-align: right;\">                  4</td></tr>\n",
       "<tr><td>train_xgboost_f150aa16</td><td style=\"text-align: right;\">                          145</td><td style=\"text-align: right;\">          6650</td><td style=\"text-align: right;\">                  3</td></tr>\n",
       "<tr><td>train_xgboost_f1776d3d</td><td style=\"text-align: right;\">                          157</td><td style=\"text-align: right;\">          7050</td><td style=\"text-align: right;\">                  4</td></tr>\n",
       "<tr><td>train_xgboost_f1f0dc1a</td><td style=\"text-align: right;\">                          154</td><td style=\"text-align: right;\">          6900</td><td style=\"text-align: right;\">                  4</td></tr>\n",
       "<tr><td>train_xgboost_f35d5717</td><td style=\"text-align: right;\">                          150</td><td style=\"text-align: right;\">          6700</td><td style=\"text-align: right;\">                  4</td></tr>\n",
       "<tr><td>train_xgboost_f3a6dd65</td><td style=\"text-align: right;\">                          156</td><td style=\"text-align: right;\">          6600</td><td style=\"text-align: right;\">                  6</td></tr>\n",
       "<tr><td>train_xgboost_f4167cbe</td><td style=\"text-align: right;\">                          142</td><td style=\"text-align: right;\">          6500</td><td style=\"text-align: right;\">                  3</td></tr>\n",
       "<tr><td>train_xgboost_f4aa2b30</td><td style=\"text-align: right;\">                          143</td><td style=\"text-align: right;\">          6550</td><td style=\"text-align: right;\">                  3</td></tr>\n",
       "<tr><td>train_xgboost_f4c84ce6</td><td style=\"text-align: right;\">                          152</td><td style=\"text-align: right;\">          6800</td><td style=\"text-align: right;\">                  4</td></tr>\n",
       "<tr><td>train_xgboost_f64205f0</td><td style=\"text-align: right;\">                          146</td><td style=\"text-align: right;\">          6500</td><td style=\"text-align: right;\">                  4</td></tr>\n",
       "<tr><td>train_xgboost_fd089538</td><td style=\"text-align: right;\">                          143</td><td style=\"text-align: right;\">          6550</td><td style=\"text-align: right;\">                  3</td></tr>\n",
       "<tr><td>train_xgboost_fd5b54ec</td><td style=\"text-align: right;\">                          157</td><td style=\"text-align: right;\">          7050</td><td style=\"text-align: right;\">                  4</td></tr>\n",
       "<tr><td>train_xgboost_fedc10d9</td><td style=\"text-align: right;\">                          143</td><td style=\"text-align: right;\">          6350</td><td style=\"text-align: right;\">                  4</td></tr>\n",
       "</tbody>\n",
       "</table>\n",
       "</div>\n",
       "<style>\n",
       ".trialProgress {\n",
       "  display: flex;\n",
       "  flex-direction: column;\n",
       "  color: var(--jp-ui-font-color1);\n",
       "}\n",
       ".trialProgress h3 {\n",
       "  font-weight: bold;\n",
       "}\n",
       ".trialProgress td {\n",
       "  white-space: nowrap;\n",
       "}\n",
       "</style>\n"
      ],
      "text/plain": [
       "<IPython.core.display.HTML object>"
      ]
     },
     "metadata": {},
     "output_type": "display_data"
    },
    {
     "name": "stdout",
     "output_type": "stream",
     "text": [
      "\u001b[36m(train_xgboost pid=15496)\u001b[0m 149 1000\u001b[32m [repeated 3x across cluster] (Ray deduplicates logs by default. Set RAY_DEDUP_LOGS=0 to disable log deduplication, or see https://docs.ray.io/en/master/ray-observability/user-guides/configure-logging.html#log-deduplication for more options.)\u001b[0m\n",
      "\u001b[36m(train_xgboost pid=14884)\u001b[0m 156 1000\u001b[32m [repeated 3x across cluster]\u001b[0m\n",
      "\u001b[36m(train_xgboost pid=11500)\u001b[0m 150 1000\u001b[32m [repeated 3x across cluster]\u001b[0m\n",
      "\u001b[36m(train_xgboost pid=44916)\u001b[0m 145 1000\u001b[32m [repeated 3x across cluster]\u001b[0m\n",
      "\u001b[36m(train_xgboost pid=23608)\u001b[0m 145 1000\u001b[32m [repeated 3x across cluster]\u001b[0m\n",
      "\u001b[36m(train_xgboost pid=14644)\u001b[0m 148 1000\u001b[32m [repeated 3x across cluster]\u001b[0m\n",
      "\u001b[36m(train_xgboost pid=56548)\u001b[0m 159 1000\u001b[32m [repeated 3x across cluster]\u001b[0m\n"
     ]
    },
    {
     "name": "stderr",
     "output_type": "stream",
     "text": [
      "d:\\mgr\\aml\\pr2\\venv\\lib\\site-packages\\statsmodels\\nonparametric\\kernels.py:62: RuntimeWarning: divide by zero encountered in divide\n",
      "  kernel_value = np.ones(Xi.size) * h / (num_levels - 1)\n",
      "d:\\mgr\\aml\\pr2\\venv\\lib\\site-packages\\statsmodels\\nonparametric\\kernels.py:62: RuntimeWarning: divide by zero encountered in divide\n",
      "  kernel_value = np.ones(Xi.size) * h / (num_levels - 1)\n",
      "d:\\mgr\\aml\\pr2\\venv\\lib\\site-packages\\statsmodels\\nonparametric\\kernels.py:62: RuntimeWarning: divide by zero encountered in divide\n",
      "  kernel_value = np.ones(Xi.size) * h / (num_levels - 1)\n"
     ]
    },
    {
     "name": "stdout",
     "output_type": "stream",
     "text": [
      "\u001b[36m(train_xgboost pid=33164)\u001b[0m 157 1000\u001b[32m [repeated 3x across cluster]\u001b[0m\n"
     ]
    },
    {
     "name": "stderr",
     "output_type": "stream",
     "text": [
      "d:\\mgr\\aml\\pr2\\venv\\lib\\site-packages\\statsmodels\\nonparametric\\kernels.py:62: RuntimeWarning: divide by zero encountered in divide\n",
      "  kernel_value = np.ones(Xi.size) * h / (num_levels - 1)\n",
      "d:\\mgr\\aml\\pr2\\venv\\lib\\site-packages\\statsmodels\\nonparametric\\kernels.py:62: RuntimeWarning: divide by zero encountered in divide\n",
      "  kernel_value = np.ones(Xi.size) * h / (num_levels - 1)\n"
     ]
    },
    {
     "name": "stdout",
     "output_type": "stream",
     "text": [
      "\u001b[36m(train_xgboost pid=25852)\u001b[0m 150 1000\u001b[32m [repeated 3x across cluster]\u001b[0m\n",
      "\u001b[36m(train_xgboost pid=3448)\u001b[0m 158 1000\u001b[32m [repeated 3x across cluster]\u001b[0m\n"
     ]
    },
    {
     "name": "stderr",
     "output_type": "stream",
     "text": [
      "d:\\mgr\\aml\\pr2\\venv\\lib\\site-packages\\statsmodels\\nonparametric\\kernels.py:62: RuntimeWarning: divide by zero encountered in divide\n",
      "  kernel_value = np.ones(Xi.size) * h / (num_levels - 1)\n",
      "d:\\mgr\\aml\\pr2\\venv\\lib\\site-packages\\statsmodels\\nonparametric\\kernels.py:62: RuntimeWarning: divide by zero encountered in divide\n",
      "  kernel_value = np.ones(Xi.size) * h / (num_levels - 1)\n"
     ]
    },
    {
     "name": "stdout",
     "output_type": "stream",
     "text": [
      "\u001b[36m(train_xgboost pid=15028)\u001b[0m 151 1000\u001b[32m [repeated 3x across cluster]\u001b[0m\n"
     ]
    },
    {
     "name": "stderr",
     "output_type": "stream",
     "text": [
      "d:\\mgr\\aml\\pr2\\venv\\lib\\site-packages\\statsmodels\\nonparametric\\kernels.py:62: RuntimeWarning: divide by zero encountered in divide\n",
      "  kernel_value = np.ones(Xi.size) * h / (num_levels - 1)\n",
      "d:\\mgr\\aml\\pr2\\venv\\lib\\site-packages\\statsmodels\\nonparametric\\kernels.py:62: RuntimeWarning: divide by zero encountered in divide\n",
      "  kernel_value = np.ones(Xi.size) * h / (num_levels - 1)\n",
      "d:\\mgr\\aml\\pr2\\venv\\lib\\site-packages\\statsmodels\\nonparametric\\kernels.py:62: RuntimeWarning: divide by zero encountered in divide\n",
      "  kernel_value = np.ones(Xi.size) * h / (num_levels - 1)\n"
     ]
    },
    {
     "name": "stdout",
     "output_type": "stream",
     "text": [
      "\u001b[36m(train_xgboost pid=37796)\u001b[0m 151 1000\u001b[32m [repeated 3x across cluster]\u001b[0m\n"
     ]
    },
    {
     "name": "stderr",
     "output_type": "stream",
     "text": [
      "d:\\mgr\\aml\\pr2\\venv\\lib\\site-packages\\statsmodels\\nonparametric\\kernels.py:62: RuntimeWarning: divide by zero encountered in divide\n",
      "  kernel_value = np.ones(Xi.size) * h / (num_levels - 1)\n",
      "d:\\mgr\\aml\\pr2\\venv\\lib\\site-packages\\statsmodels\\nonparametric\\kernels.py:62: RuntimeWarning: divide by zero encountered in divide\n",
      "  kernel_value = np.ones(Xi.size) * h / (num_levels - 1)\n",
      "d:\\mgr\\aml\\pr2\\venv\\lib\\site-packages\\statsmodels\\nonparametric\\kernels.py:62: RuntimeWarning: divide by zero encountered in divide\n",
      "  kernel_value = np.ones(Xi.size) * h / (num_levels - 1)\n"
     ]
    },
    {
     "name": "stdout",
     "output_type": "stream",
     "text": [
      "\u001b[36m(train_xgboost pid=30900)\u001b[0m 151 1000\u001b[32m [repeated 3x across cluster]\u001b[0m\n"
     ]
    },
    {
     "name": "stderr",
     "output_type": "stream",
     "text": [
      "d:\\mgr\\aml\\pr2\\venv\\lib\\site-packages\\statsmodels\\nonparametric\\kernels.py:62: RuntimeWarning: divide by zero encountered in divide\n",
      "  kernel_value = np.ones(Xi.size) * h / (num_levels - 1)\n",
      "d:\\mgr\\aml\\pr2\\venv\\lib\\site-packages\\statsmodels\\nonparametric\\kernels.py:62: RuntimeWarning: divide by zero encountered in divide\n",
      "  kernel_value = np.ones(Xi.size) * h / (num_levels - 1)\n"
     ]
    },
    {
     "name": "stdout",
     "output_type": "stream",
     "text": [
      "\u001b[36m(train_xgboost pid=31884)\u001b[0m 154 1000\u001b[32m [repeated 3x across cluster]\u001b[0m\n"
     ]
    },
    {
     "name": "stderr",
     "output_type": "stream",
     "text": [
      "d:\\mgr\\aml\\pr2\\venv\\lib\\site-packages\\statsmodels\\nonparametric\\kernels.py:62: RuntimeWarning: divide by zero encountered in divide\n",
      "  kernel_value = np.ones(Xi.size) * h / (num_levels - 1)\n",
      "d:\\mgr\\aml\\pr2\\venv\\lib\\site-packages\\statsmodels\\nonparametric\\kernels.py:62: RuntimeWarning: divide by zero encountered in divide\n",
      "  kernel_value = np.ones(Xi.size) * h / (num_levels - 1)\n"
     ]
    },
    {
     "name": "stdout",
     "output_type": "stream",
     "text": [
      "\u001b[36m(train_xgboost pid=16884)\u001b[0m 152 1000\u001b[32m [repeated 3x across cluster]\u001b[0m\n"
     ]
    },
    {
     "name": "stderr",
     "output_type": "stream",
     "text": [
      "d:\\mgr\\aml\\pr2\\venv\\lib\\site-packages\\statsmodels\\nonparametric\\kernels.py:62: RuntimeWarning: divide by zero encountered in divide\n",
      "  kernel_value = np.ones(Xi.size) * h / (num_levels - 1)\n"
     ]
    },
    {
     "name": "stdout",
     "output_type": "stream",
     "text": [
      "\u001b[36m(train_xgboost pid=1892)\u001b[0m 155 1000\u001b[32m [repeated 3x across cluster]\u001b[0m\n"
     ]
    },
    {
     "name": "stderr",
     "output_type": "stream",
     "text": [
      "d:\\mgr\\aml\\pr2\\venv\\lib\\site-packages\\statsmodels\\nonparametric\\kernels.py:62: RuntimeWarning: divide by zero encountered in divide\n",
      "  kernel_value = np.ones(Xi.size) * h / (num_levels - 1)\n",
      "d:\\mgr\\aml\\pr2\\venv\\lib\\site-packages\\statsmodels\\nonparametric\\kernels.py:62: RuntimeWarning: divide by zero encountered in divide\n",
      "  kernel_value = np.ones(Xi.size) * h / (num_levels - 1)\n"
     ]
    },
    {
     "name": "stdout",
     "output_type": "stream",
     "text": [
      "\u001b[36m(train_xgboost pid=25888)\u001b[0m 156 1000\u001b[32m [repeated 3x across cluster]\u001b[0m\n"
     ]
    },
    {
     "name": "stderr",
     "output_type": "stream",
     "text": [
      "d:\\mgr\\aml\\pr2\\venv\\lib\\site-packages\\statsmodels\\nonparametric\\kernels.py:62: RuntimeWarning: divide by zero encountered in divide\n",
      "  kernel_value = np.ones(Xi.size) * h / (num_levels - 1)\n",
      "d:\\mgr\\aml\\pr2\\venv\\lib\\site-packages\\statsmodels\\nonparametric\\kernels.py:62: RuntimeWarning: divide by zero encountered in divide\n",
      "  kernel_value = np.ones(Xi.size) * h / (num_levels - 1)\n",
      "d:\\mgr\\aml\\pr2\\venv\\lib\\site-packages\\statsmodels\\nonparametric\\kernels.py:62: RuntimeWarning: divide by zero encountered in divide\n",
      "  kernel_value = np.ones(Xi.size) * h / (num_levels - 1)\n"
     ]
    },
    {
     "name": "stdout",
     "output_type": "stream",
     "text": [
      "\u001b[36m(train_xgboost pid=15400)\u001b[0m 149 1000\u001b[32m [repeated 3x across cluster]\u001b[0m\n"
     ]
    },
    {
     "name": "stderr",
     "output_type": "stream",
     "text": [
      "d:\\mgr\\aml\\pr2\\venv\\lib\\site-packages\\statsmodels\\nonparametric\\kernels.py:62: RuntimeWarning: divide by zero encountered in divide\n",
      "  kernel_value = np.ones(Xi.size) * h / (num_levels - 1)\n"
     ]
    },
    {
     "name": "stdout",
     "output_type": "stream",
     "text": [
      "\u001b[36m(train_xgboost pid=54036)\u001b[0m 145 1000\u001b[32m [repeated 3x across cluster]\u001b[0m\n"
     ]
    },
    {
     "name": "stderr",
     "output_type": "stream",
     "text": [
      "d:\\mgr\\aml\\pr2\\venv\\lib\\site-packages\\statsmodels\\nonparametric\\kernels.py:62: RuntimeWarning: divide by zero encountered in divide\n",
      "  kernel_value = np.ones(Xi.size) * h / (num_levels - 1)\n",
      "d:\\mgr\\aml\\pr2\\venv\\lib\\site-packages\\statsmodels\\nonparametric\\kernels.py:62: RuntimeWarning: divide by zero encountered in divide\n",
      "  kernel_value = np.ones(Xi.size) * h / (num_levels - 1)\n"
     ]
    },
    {
     "name": "stdout",
     "output_type": "stream",
     "text": [
      "\u001b[36m(train_xgboost pid=36112)\u001b[0m 152 1000\u001b[32m [repeated 3x across cluster]\u001b[0m\n"
     ]
    },
    {
     "name": "stderr",
     "output_type": "stream",
     "text": [
      "d:\\mgr\\aml\\pr2\\venv\\lib\\site-packages\\statsmodels\\nonparametric\\kernels.py:62: RuntimeWarning: divide by zero encountered in divide\n",
      "  kernel_value = np.ones(Xi.size) * h / (num_levels - 1)\n"
     ]
    },
    {
     "name": "stdout",
     "output_type": "stream",
     "text": [
      "\u001b[36m(train_xgboost pid=59164)\u001b[0m 140 1000\u001b[32m [repeated 3x across cluster]\u001b[0m\n"
     ]
    },
    {
     "name": "stderr",
     "output_type": "stream",
     "text": [
      "d:\\mgr\\aml\\pr2\\venv\\lib\\site-packages\\statsmodels\\nonparametric\\kernels.py:62: RuntimeWarning: divide by zero encountered in divide\n",
      "  kernel_value = np.ones(Xi.size) * h / (num_levels - 1)\n",
      "d:\\mgr\\aml\\pr2\\venv\\lib\\site-packages\\statsmodels\\nonparametric\\kernels.py:62: RuntimeWarning: divide by zero encountered in divide\n",
      "  kernel_value = np.ones(Xi.size) * h / (num_levels - 1)\n",
      "d:\\mgr\\aml\\pr2\\venv\\lib\\site-packages\\statsmodels\\nonparametric\\kernels.py:62: RuntimeWarning: divide by zero encountered in divide\n",
      "  kernel_value = np.ones(Xi.size) * h / (num_levels - 1)\n"
     ]
    },
    {
     "name": "stdout",
     "output_type": "stream",
     "text": [
      "\u001b[36m(train_xgboost pid=53576)\u001b[0m 143 1000\u001b[32m [repeated 3x across cluster]\u001b[0m\n",
      "\u001b[36m(train_xgboost pid=10504)\u001b[0m 145 1000\u001b[32m [repeated 3x across cluster]\u001b[0m\n"
     ]
    },
    {
     "name": "stderr",
     "output_type": "stream",
     "text": [
      "d:\\mgr\\aml\\pr2\\venv\\lib\\site-packages\\statsmodels\\nonparametric\\kernels.py:62: RuntimeWarning: divide by zero encountered in divide\n",
      "  kernel_value = np.ones(Xi.size) * h / (num_levels - 1)\n",
      "d:\\mgr\\aml\\pr2\\venv\\lib\\site-packages\\statsmodels\\nonparametric\\kernels.py:62: RuntimeWarning: divide by zero encountered in divide\n",
      "  kernel_value = np.ones(Xi.size) * h / (num_levels - 1)\n"
     ]
    },
    {
     "name": "stdout",
     "output_type": "stream",
     "text": [
      "\u001b[36m(train_xgboost pid=60132)\u001b[0m 153 1000\u001b[32m [repeated 3x across cluster]\u001b[0m\n"
     ]
    },
    {
     "name": "stderr",
     "output_type": "stream",
     "text": [
      "d:\\mgr\\aml\\pr2\\venv\\lib\\site-packages\\statsmodels\\nonparametric\\kernels.py:62: RuntimeWarning: divide by zero encountered in divide\n",
      "  kernel_value = np.ones(Xi.size) * h / (num_levels - 1)\n",
      "d:\\mgr\\aml\\pr2\\venv\\lib\\site-packages\\statsmodels\\nonparametric\\kernels.py:62: RuntimeWarning: divide by zero encountered in divide\n",
      "  kernel_value = np.ones(Xi.size) * h / (num_levels - 1)\n"
     ]
    },
    {
     "name": "stdout",
     "output_type": "stream",
     "text": [
      "\u001b[36m(train_xgboost pid=34024)\u001b[0m 148 1000\u001b[32m [repeated 3x across cluster]\u001b[0m\n"
     ]
    },
    {
     "name": "stderr",
     "output_type": "stream",
     "text": [
      "d:\\mgr\\aml\\pr2\\venv\\lib\\site-packages\\statsmodels\\nonparametric\\kernels.py:62: RuntimeWarning: divide by zero encountered in divide\n",
      "  kernel_value = np.ones(Xi.size) * h / (num_levels - 1)\n",
      "d:\\mgr\\aml\\pr2\\venv\\lib\\site-packages\\statsmodels\\nonparametric\\kernels.py:62: RuntimeWarning: divide by zero encountered in divide\n",
      "  kernel_value = np.ones(Xi.size) * h / (num_levels - 1)\n",
      "d:\\mgr\\aml\\pr2\\venv\\lib\\site-packages\\statsmodels\\nonparametric\\kernels.py:62: RuntimeWarning: divide by zero encountered in divide\n",
      "  kernel_value = np.ones(Xi.size) * h / (num_levels - 1)\n"
     ]
    },
    {
     "name": "stdout",
     "output_type": "stream",
     "text": [
      "\u001b[36m(train_xgboost pid=8736)\u001b[0m 146 1000\u001b[32m [repeated 3x across cluster]\u001b[0m\n"
     ]
    },
    {
     "name": "stderr",
     "output_type": "stream",
     "text": [
      "d:\\mgr\\aml\\pr2\\venv\\lib\\site-packages\\statsmodels\\nonparametric\\kernels.py:62: RuntimeWarning: divide by zero encountered in divide\n",
      "  kernel_value = np.ones(Xi.size) * h / (num_levels - 1)\n"
     ]
    },
    {
     "name": "stdout",
     "output_type": "stream",
     "text": [
      "\u001b[36m(train_xgboost pid=43044)\u001b[0m 151 1000\u001b[32m [repeated 3x across cluster]\u001b[0m\n"
     ]
    },
    {
     "name": "stderr",
     "output_type": "stream",
     "text": [
      "2024-05-29 13:08:32,858\tINFO hyperband.py:543 -- Restoring from a previous point in time. Previous=1; Now=1\n",
      "2024-05-29 13:08:34,372\tINFO hyperband.py:543 -- Restoring from a previous point in time. Previous=1; Now=1\n",
      "d:\\mgr\\aml\\pr2\\venv\\lib\\site-packages\\statsmodels\\nonparametric\\kernels.py:62: RuntimeWarning: divide by zero encountered in divide\n",
      "  kernel_value = np.ones(Xi.size) * h / (num_levels - 1)\n",
      "2024-05-29 13:08:36,097\tINFO hyperband.py:543 -- Restoring from a previous point in time. Previous=1; Now=1\n",
      "2024-05-29 13:08:37,677\tINFO hyperband.py:543 -- Restoring from a previous point in time. Previous=1; Now=1\n"
     ]
    },
    {
     "name": "stdout",
     "output_type": "stream",
     "text": [
      "\u001b[36m(train_xgboost pid=37740)\u001b[0m 153 1000\u001b[32m [repeated 5x across cluster]\u001b[0m\n"
     ]
    },
    {
     "name": "stderr",
     "output_type": "stream",
     "text": [
      "d:\\mgr\\aml\\pr2\\venv\\lib\\site-packages\\statsmodels\\nonparametric\\kernels.py:62: RuntimeWarning: divide by zero encountered in divide\n",
      "  kernel_value = np.ones(Xi.size) * h / (num_levels - 1)\n",
      "2024-05-29 13:08:39,512\tINFO hyperband.py:543 -- Restoring from a previous point in time. Previous=1; Now=1\n",
      "2024-05-29 13:08:41,112\tINFO hyperband.py:543 -- Restoring from a previous point in time. Previous=1; Now=1\n",
      "d:\\mgr\\aml\\pr2\\venv\\lib\\site-packages\\statsmodels\\nonparametric\\kernels.py:62: RuntimeWarning: divide by zero encountered in divide\n",
      "  kernel_value = np.ones(Xi.size) * h / (num_levels - 1)\n",
      "2024-05-29 13:08:42,833\tINFO hyperband.py:543 -- Restoring from a previous point in time. Previous=1; Now=1\n"
     ]
    },
    {
     "name": "stdout",
     "output_type": "stream",
     "text": [
      "\u001b[36m(train_xgboost pid=11296)\u001b[0m 148 1000\u001b[32m [repeated 5x across cluster]\u001b[0m\n"
     ]
    },
    {
     "name": "stderr",
     "output_type": "stream",
     "text": [
      "2024-05-29 13:08:44,415\tINFO hyperband.py:543 -- Restoring from a previous point in time. Previous=1; Now=1\n",
      "d:\\mgr\\aml\\pr2\\venv\\lib\\site-packages\\statsmodels\\nonparametric\\kernels.py:62: RuntimeWarning: divide by zero encountered in divide\n",
      "  kernel_value = np.ones(Xi.size) * h / (num_levels - 1)\n",
      "2024-05-29 13:08:46,195\tINFO hyperband.py:543 -- Restoring from a previous point in time. Previous=1; Now=1\n",
      "2024-05-29 13:08:47,809\tINFO hyperband.py:543 -- Restoring from a previous point in time. Previous=1; Now=1\n"
     ]
    },
    {
     "name": "stdout",
     "output_type": "stream",
     "text": [
      "\u001b[36m(train_xgboost pid=11900)\u001b[0m 148 1000\u001b[32m [repeated 4x across cluster]\u001b[0m\n"
     ]
    },
    {
     "name": "stderr",
     "output_type": "stream",
     "text": [
      "d:\\mgr\\aml\\pr2\\venv\\lib\\site-packages\\statsmodels\\nonparametric\\kernels.py:62: RuntimeWarning: divide by zero encountered in divide\n",
      "  kernel_value = np.ones(Xi.size) * h / (num_levels - 1)\n",
      "2024-05-29 13:08:49,556\tINFO hyperband.py:543 -- Restoring from a previous point in time. Previous=1; Now=1\n",
      "2024-05-29 13:08:51,155\tINFO hyperband.py:543 -- Restoring from a previous point in time. Previous=1; Now=1\n",
      "d:\\mgr\\aml\\pr2\\venv\\lib\\site-packages\\statsmodels\\nonparametric\\kernels.py:62: RuntimeWarning: divide by zero encountered in divide\n",
      "  kernel_value = np.ones(Xi.size) * h / (num_levels - 1)\n",
      "2024-05-29 13:08:52,884\tINFO hyperband.py:543 -- Restoring from a previous point in time. Previous=1; Now=1\n",
      "2024-05-29 13:08:54,454\tINFO hyperband.py:543 -- Restoring from a previous point in time. Previous=1; Now=1\n"
     ]
    },
    {
     "name": "stdout",
     "output_type": "stream",
     "text": [
      "\u001b[36m(train_xgboost pid=33468)\u001b[0m 152 1000\u001b[32m [repeated 6x across cluster]\u001b[0m\n"
     ]
    },
    {
     "name": "stderr",
     "output_type": "stream",
     "text": [
      "d:\\mgr\\aml\\pr2\\venv\\lib\\site-packages\\statsmodels\\nonparametric\\kernels.py:62: RuntimeWarning: divide by zero encountered in divide\n",
      "  kernel_value = np.ones(Xi.size) * h / (num_levels - 1)\n",
      "2024-05-29 13:08:56,206\tINFO hyperband.py:543 -- Restoring from a previous point in time. Previous=1; Now=1\n",
      "2024-05-29 13:08:57,777\tINFO hyperband.py:543 -- Restoring from a previous point in time. Previous=1; Now=1\n",
      "d:\\mgr\\aml\\pr2\\venv\\lib\\site-packages\\statsmodels\\nonparametric\\kernels.py:62: RuntimeWarning: divide by zero encountered in divide\n",
      "  kernel_value = np.ones(Xi.size) * h / (num_levels - 1)\n",
      "2024-05-29 13:08:59,508\tINFO hyperband.py:543 -- Restoring from a previous point in time. Previous=1; Now=1\n",
      "2024-05-29 13:09:01,099\tINFO hyperband.py:543 -- Restoring from a previous point in time. Previous=1; Now=1\n"
     ]
    },
    {
     "name": "stdout",
     "output_type": "stream",
     "text": [
      "\u001b[36m(train_xgboost pid=53052)\u001b[0m 151 1000\u001b[32m [repeated 6x across cluster]\u001b[0m\n"
     ]
    },
    {
     "name": "stderr",
     "output_type": "stream",
     "text": [
      "2024-05-29 13:09:02,858\tINFO hyperband.py:543 -- Restoring from a previous point in time. Previous=1; Now=1\n",
      "2024-05-29 13:09:04,491\tINFO hyperband.py:543 -- Restoring from a previous point in time. Previous=1; Now=1\n",
      "d:\\mgr\\aml\\pr2\\venv\\lib\\site-packages\\statsmodels\\nonparametric\\kernels.py:62: RuntimeWarning: divide by zero encountered in divide\n",
      "  kernel_value = np.ones(Xi.size) * h / (num_levels - 1)\n",
      "2024-05-29 13:09:06,408\tINFO hyperband.py:543 -- Restoring from a previous point in time. Previous=1; Now=1\n",
      "2024-05-29 13:09:08,133\tINFO hyperband.py:543 -- Restoring from a previous point in time. Previous=1; Now=1\n"
     ]
    },
    {
     "name": "stdout",
     "output_type": "stream",
     "text": [
      "\u001b[36m(train_xgboost pid=45336)\u001b[0m 153 1000\u001b[32m [repeated 6x across cluster]\u001b[0m\n"
     ]
    },
    {
     "name": "stderr",
     "output_type": "stream",
     "text": [
      "d:\\mgr\\aml\\pr2\\venv\\lib\\site-packages\\statsmodels\\nonparametric\\kernels.py:62: RuntimeWarning: divide by zero encountered in divide\n",
      "  kernel_value = np.ones(Xi.size) * h / (num_levels - 1)\n",
      "2024-05-29 13:09:09,864\tINFO hyperband.py:543 -- Restoring from a previous point in time. Previous=1; Now=1\n",
      "2024-05-29 13:09:11,432\tINFO hyperband.py:543 -- Restoring from a previous point in time. Previous=1; Now=1\n",
      "d:\\mgr\\aml\\pr2\\venv\\lib\\site-packages\\statsmodels\\nonparametric\\kernels.py:62: RuntimeWarning: divide by zero encountered in divide\n",
      "  kernel_value = np.ones(Xi.size) * h / (num_levels - 1)\n",
      "2024-05-29 13:09:13,198\tINFO hyperband.py:543 -- Restoring from a previous point in time. Previous=1; Now=1\n",
      "2024-05-29 13:09:14,756\tINFO hyperband.py:543 -- Restoring from a previous point in time. Previous=1; Now=1\n"
     ]
    },
    {
     "name": "stdout",
     "output_type": "stream",
     "text": [
      "\u001b[36m(train_xgboost pid=33516)\u001b[0m 153 1000\u001b[32m [repeated 6x across cluster]\u001b[0m\n"
     ]
    },
    {
     "name": "stderr",
     "output_type": "stream",
     "text": [
      "2024-05-29 13:09:16,452\tINFO hyperband.py:543 -- Restoring from a previous point in time. Previous=1; Now=1\n",
      "d:\\mgr\\aml\\pr2\\venv\\lib\\site-packages\\statsmodels\\nonparametric\\kernels.py:62: RuntimeWarning: divide by zero encountered in divide\n",
      "  kernel_value = np.ones(Xi.size) * h / (num_levels - 1)\n"
     ]
    },
    {
     "name": "stdout",
     "output_type": "stream",
     "text": [
      "\u001b[36m(train_xgboost pid=47700)\u001b[0m 145 1000\u001b[32m [repeated 4x across cluster]\u001b[0m\n"
     ]
    },
    {
     "name": "stderr",
     "output_type": "stream",
     "text": [
      "d:\\mgr\\aml\\pr2\\venv\\lib\\site-packages\\statsmodels\\nonparametric\\kernels.py:62: RuntimeWarning: divide by zero encountered in divide\n",
      "  kernel_value = np.ones(Xi.size) * h / (num_levels - 1)\n",
      "d:\\mgr\\aml\\pr2\\venv\\lib\\site-packages\\statsmodels\\nonparametric\\kernels.py:62: RuntimeWarning: divide by zero encountered in divide\n",
      "  kernel_value = np.ones(Xi.size) * h / (num_levels - 1)\n"
     ]
    },
    {
     "name": "stdout",
     "output_type": "stream",
     "text": [
      "\u001b[36m(train_xgboost pid=56540)\u001b[0m 154 1000\u001b[32m [repeated 3x across cluster]\u001b[0m\n"
     ]
    },
    {
     "name": "stderr",
     "output_type": "stream",
     "text": [
      "d:\\mgr\\aml\\pr2\\venv\\lib\\site-packages\\statsmodels\\nonparametric\\kernels.py:62: RuntimeWarning: divide by zero encountered in divide\n",
      "  kernel_value = np.ones(Xi.size) * h / (num_levels - 1)\n",
      "d:\\mgr\\aml\\pr2\\venv\\lib\\site-packages\\statsmodels\\nonparametric\\kernels.py:62: RuntimeWarning: divide by zero encountered in divide\n",
      "  kernel_value = np.ones(Xi.size) * h / (num_levels - 1)\n"
     ]
    },
    {
     "name": "stdout",
     "output_type": "stream",
     "text": [
      "\u001b[36m(train_xgboost pid=51536)\u001b[0m 144 1000\u001b[32m [repeated 3x across cluster]\u001b[0m\n"
     ]
    },
    {
     "name": "stderr",
     "output_type": "stream",
     "text": [
      "d:\\mgr\\aml\\pr2\\venv\\lib\\site-packages\\statsmodels\\nonparametric\\kernels.py:62: RuntimeWarning: divide by zero encountered in divide\n",
      "  kernel_value = np.ones(Xi.size) * h / (num_levels - 1)\n"
     ]
    },
    {
     "name": "stdout",
     "output_type": "stream",
     "text": [
      "\u001b[36m(train_xgboost pid=20456)\u001b[0m 152 1000\u001b[32m [repeated 3x across cluster]\u001b[0m\n"
     ]
    },
    {
     "name": "stderr",
     "output_type": "stream",
     "text": [
      "d:\\mgr\\aml\\pr2\\venv\\lib\\site-packages\\statsmodels\\nonparametric\\kernels.py:62: RuntimeWarning: divide by zero encountered in divide\n",
      "  kernel_value = np.ones(Xi.size) * h / (num_levels - 1)\n"
     ]
    },
    {
     "name": "stdout",
     "output_type": "stream",
     "text": [
      "\u001b[36m(train_xgboost pid=62440)\u001b[0m 150 1000\u001b[32m [repeated 3x across cluster]\u001b[0m\n"
     ]
    },
    {
     "name": "stderr",
     "output_type": "stream",
     "text": [
      "d:\\mgr\\aml\\pr2\\venv\\lib\\site-packages\\statsmodels\\nonparametric\\kernels.py:62: RuntimeWarning: divide by zero encountered in divide\n",
      "  kernel_value = np.ones(Xi.size) * h / (num_levels - 1)\n",
      "d:\\mgr\\aml\\pr2\\venv\\lib\\site-packages\\statsmodels\\nonparametric\\kernels.py:62: RuntimeWarning: divide by zero encountered in divide\n",
      "  kernel_value = np.ones(Xi.size) * h / (num_levels - 1)\n"
     ]
    },
    {
     "name": "stdout",
     "output_type": "stream",
     "text": [
      "\u001b[36m(train_xgboost pid=35844)\u001b[0m 141 1000\u001b[32m [repeated 3x across cluster]\u001b[0m\n"
     ]
    },
    {
     "name": "stderr",
     "output_type": "stream",
     "text": [
      "d:\\mgr\\aml\\pr2\\venv\\lib\\site-packages\\statsmodels\\nonparametric\\kernels.py:62: RuntimeWarning: divide by zero encountered in divide\n",
      "  kernel_value = np.ones(Xi.size) * h / (num_levels - 1)\n"
     ]
    },
    {
     "name": "stdout",
     "output_type": "stream",
     "text": [
      "\u001b[36m(train_xgboost pid=13280)\u001b[0m 146 1000\u001b[32m [repeated 3x across cluster]\u001b[0m\n"
     ]
    },
    {
     "name": "stderr",
     "output_type": "stream",
     "text": [
      "d:\\mgr\\aml\\pr2\\venv\\lib\\site-packages\\statsmodels\\nonparametric\\kernels.py:62: RuntimeWarning: divide by zero encountered in divide\n",
      "  kernel_value = np.ones(Xi.size) * h / (num_levels - 1)\n",
      "d:\\mgr\\aml\\pr2\\venv\\lib\\site-packages\\statsmodels\\nonparametric\\kernels.py:62: RuntimeWarning: divide by zero encountered in divide\n",
      "  kernel_value = np.ones(Xi.size) * h / (num_levels - 1)\n"
     ]
    },
    {
     "name": "stdout",
     "output_type": "stream",
     "text": [
      "\u001b[36m(train_xgboost pid=20272)\u001b[0m 151 1000\u001b[32m [repeated 3x across cluster]\u001b[0m\n"
     ]
    },
    {
     "name": "stderr",
     "output_type": "stream",
     "text": [
      "d:\\mgr\\aml\\pr2\\venv\\lib\\site-packages\\statsmodels\\nonparametric\\kernels.py:62: RuntimeWarning: divide by zero encountered in divide\n",
      "  kernel_value = np.ones(Xi.size) * h / (num_levels - 1)\n",
      "d:\\mgr\\aml\\pr2\\venv\\lib\\site-packages\\statsmodels\\nonparametric\\kernels.py:62: RuntimeWarning: divide by zero encountered in divide\n",
      "  kernel_value = np.ones(Xi.size) * h / (num_levels - 1)\n",
      "d:\\mgr\\aml\\pr2\\venv\\lib\\site-packages\\statsmodels\\nonparametric\\kernels.py:62: RuntimeWarning: divide by zero encountered in divide\n",
      "  kernel_value = np.ones(Xi.size) * h / (num_levels - 1)\n"
     ]
    },
    {
     "name": "stdout",
     "output_type": "stream",
     "text": [
      "\u001b[36m(train_xgboost pid=12308)\u001b[0m 148 1000\u001b[32m [repeated 3x across cluster]\u001b[0m\n"
     ]
    },
    {
     "name": "stderr",
     "output_type": "stream",
     "text": [
      "d:\\mgr\\aml\\pr2\\venv\\lib\\site-packages\\statsmodels\\nonparametric\\kernels.py:62: RuntimeWarning: divide by zero encountered in divide\n",
      "  kernel_value = np.ones(Xi.size) * h / (num_levels - 1)\n",
      "d:\\mgr\\aml\\pr2\\venv\\lib\\site-packages\\statsmodels\\nonparametric\\kernels.py:62: RuntimeWarning: divide by zero encountered in divide\n",
      "  kernel_value = np.ones(Xi.size) * h / (num_levels - 1)\n",
      "d:\\mgr\\aml\\pr2\\venv\\lib\\site-packages\\statsmodels\\nonparametric\\kernels.py:62: RuntimeWarning: divide by zero encountered in divide\n",
      "  kernel_value = np.ones(Xi.size) * h / (num_levels - 1)\n"
     ]
    },
    {
     "name": "stdout",
     "output_type": "stream",
     "text": [
      "\u001b[36m(train_xgboost pid=50856)\u001b[0m 155 1000\u001b[32m [repeated 3x across cluster]\u001b[0m\n"
     ]
    },
    {
     "name": "stderr",
     "output_type": "stream",
     "text": [
      "d:\\mgr\\aml\\pr2\\venv\\lib\\site-packages\\statsmodels\\nonparametric\\kernels.py:62: RuntimeWarning: divide by zero encountered in divide\n",
      "  kernel_value = np.ones(Xi.size) * h / (num_levels - 1)\n",
      "d:\\mgr\\aml\\pr2\\venv\\lib\\site-packages\\statsmodels\\nonparametric\\kernels.py:62: RuntimeWarning: divide by zero encountered in divide\n",
      "  kernel_value = np.ones(Xi.size) * h / (num_levels - 1)\n",
      "d:\\mgr\\aml\\pr2\\venv\\lib\\site-packages\\statsmodels\\nonparametric\\kernels.py:62: RuntimeWarning: divide by zero encountered in divide\n",
      "  kernel_value = np.ones(Xi.size) * h / (num_levels - 1)\n"
     ]
    },
    {
     "name": "stdout",
     "output_type": "stream",
     "text": [
      "\u001b[36m(train_xgboost pid=18232)\u001b[0m 150 1000\u001b[32m [repeated 3x across cluster]\u001b[0m\n"
     ]
    },
    {
     "name": "stderr",
     "output_type": "stream",
     "text": [
      "d:\\mgr\\aml\\pr2\\venv\\lib\\site-packages\\statsmodels\\nonparametric\\kernels.py:62: RuntimeWarning: divide by zero encountered in divide\n",
      "  kernel_value = np.ones(Xi.size) * h / (num_levels - 1)\n",
      "d:\\mgr\\aml\\pr2\\venv\\lib\\site-packages\\statsmodels\\nonparametric\\kernels.py:62: RuntimeWarning: divide by zero encountered in divide\n",
      "  kernel_value = np.ones(Xi.size) * h / (num_levels - 1)\n"
     ]
    },
    {
     "name": "stdout",
     "output_type": "stream",
     "text": [
      "\u001b[36m(train_xgboost pid=7200)\u001b[0m 148 1000\u001b[32m [repeated 3x across cluster]\u001b[0m\n"
     ]
    },
    {
     "name": "stderr",
     "output_type": "stream",
     "text": [
      "d:\\mgr\\aml\\pr2\\venv\\lib\\site-packages\\statsmodels\\nonparametric\\kernels.py:62: RuntimeWarning: divide by zero encountered in divide\n",
      "  kernel_value = np.ones(Xi.size) * h / (num_levels - 1)\n"
     ]
    },
    {
     "name": "stdout",
     "output_type": "stream",
     "text": [
      "\u001b[36m(train_xgboost pid=33676)\u001b[0m 152 1000\u001b[32m [repeated 3x across cluster]\u001b[0m\n"
     ]
    },
    {
     "name": "stderr",
     "output_type": "stream",
     "text": [
      "d:\\mgr\\aml\\pr2\\venv\\lib\\site-packages\\statsmodels\\nonparametric\\kernels.py:62: RuntimeWarning: divide by zero encountered in divide\n",
      "  kernel_value = np.ones(Xi.size) * h / (num_levels - 1)\n",
      "d:\\mgr\\aml\\pr2\\venv\\lib\\site-packages\\statsmodels\\nonparametric\\kernels.py:62: RuntimeWarning: divide by zero encountered in divide\n",
      "  kernel_value = np.ones(Xi.size) * h / (num_levels - 1)\n",
      "d:\\mgr\\aml\\pr2\\venv\\lib\\site-packages\\statsmodels\\nonparametric\\kernels.py:62: RuntimeWarning: divide by zero encountered in divide\n",
      "  kernel_value = np.ones(Xi.size) * h / (num_levels - 1)\n"
     ]
    },
    {
     "name": "stdout",
     "output_type": "stream",
     "text": [
      "\u001b[36m(train_xgboost pid=54644)\u001b[0m 150 1000\u001b[32m [repeated 3x across cluster]\u001b[0m\n"
     ]
    },
    {
     "name": "stderr",
     "output_type": "stream",
     "text": [
      "d:\\mgr\\aml\\pr2\\venv\\lib\\site-packages\\statsmodels\\nonparametric\\kernels.py:62: RuntimeWarning: divide by zero encountered in divide\n",
      "  kernel_value = np.ones(Xi.size) * h / (num_levels - 1)\n",
      "d:\\mgr\\aml\\pr2\\venv\\lib\\site-packages\\statsmodels\\nonparametric\\kernels.py:62: RuntimeWarning: divide by zero encountered in divide\n",
      "  kernel_value = np.ones(Xi.size) * h / (num_levels - 1)\n",
      "d:\\mgr\\aml\\pr2\\venv\\lib\\site-packages\\statsmodels\\nonparametric\\kernels.py:62: RuntimeWarning: divide by zero encountered in divide\n",
      "  kernel_value = np.ones(Xi.size) * h / (num_levels - 1)\n"
     ]
    },
    {
     "name": "stdout",
     "output_type": "stream",
     "text": [
      "\u001b[36m(train_xgboost pid=46396)\u001b[0m 147 1000\u001b[32m [repeated 3x across cluster]\u001b[0m\n"
     ]
    },
    {
     "name": "stderr",
     "output_type": "stream",
     "text": [
      "d:\\mgr\\aml\\pr2\\venv\\lib\\site-packages\\statsmodels\\nonparametric\\kernels.py:62: RuntimeWarning: divide by zero encountered in divide\n",
      "  kernel_value = np.ones(Xi.size) * h / (num_levels - 1)\n",
      "d:\\mgr\\aml\\pr2\\venv\\lib\\site-packages\\statsmodels\\nonparametric\\kernels.py:62: RuntimeWarning: divide by zero encountered in divide\n",
      "  kernel_value = np.ones(Xi.size) * h / (num_levels - 1)\n"
     ]
    },
    {
     "name": "stdout",
     "output_type": "stream",
     "text": [
      "\u001b[36m(train_xgboost pid=35284)\u001b[0m 147 1000\u001b[32m [repeated 3x across cluster]\u001b[0m\n"
     ]
    },
    {
     "name": "stderr",
     "output_type": "stream",
     "text": [
      "d:\\mgr\\aml\\pr2\\venv\\lib\\site-packages\\statsmodels\\nonparametric\\kernels.py:62: RuntimeWarning: divide by zero encountered in divide\n",
      "  kernel_value = np.ones(Xi.size) * h / (num_levels - 1)\n",
      "d:\\mgr\\aml\\pr2\\venv\\lib\\site-packages\\statsmodels\\nonparametric\\kernels.py:62: RuntimeWarning: divide by zero encountered in divide\n",
      "  kernel_value = np.ones(Xi.size) * h / (num_levels - 1)\n",
      "d:\\mgr\\aml\\pr2\\venv\\lib\\site-packages\\statsmodels\\nonparametric\\kernels.py:62: RuntimeWarning: divide by zero encountered in divide\n",
      "  kernel_value = np.ones(Xi.size) * h / (num_levels - 1)\n"
     ]
    },
    {
     "name": "stdout",
     "output_type": "stream",
     "text": [
      "\u001b[36m(train_xgboost pid=26544)\u001b[0m 159 1000\u001b[32m [repeated 3x across cluster]\u001b[0m\n"
     ]
    },
    {
     "name": "stderr",
     "output_type": "stream",
     "text": [
      "d:\\mgr\\aml\\pr2\\venv\\lib\\site-packages\\statsmodels\\nonparametric\\kernels.py:62: RuntimeWarning: divide by zero encountered in divide\n",
      "  kernel_value = np.ones(Xi.size) * h / (num_levels - 1)\n"
     ]
    },
    {
     "name": "stdout",
     "output_type": "stream",
     "text": [
      "\u001b[36m(train_xgboost pid=20432)\u001b[0m 148 1000\u001b[32m [repeated 3x across cluster]\u001b[0m\n"
     ]
    },
    {
     "name": "stderr",
     "output_type": "stream",
     "text": [
      "d:\\mgr\\aml\\pr2\\venv\\lib\\site-packages\\statsmodels\\nonparametric\\kernels.py:62: RuntimeWarning: divide by zero encountered in divide\n",
      "  kernel_value = np.ones(Xi.size) * h / (num_levels - 1)\n",
      "d:\\mgr\\aml\\pr2\\venv\\lib\\site-packages\\statsmodels\\nonparametric\\kernels.py:62: RuntimeWarning: divide by zero encountered in divide\n",
      "  kernel_value = np.ones(Xi.size) * h / (num_levels - 1)\n"
     ]
    },
    {
     "name": "stdout",
     "output_type": "stream",
     "text": [
      "\u001b[36m(train_xgboost pid=62656)\u001b[0m 151 1000\u001b[32m [repeated 3x across cluster]\u001b[0m\n"
     ]
    },
    {
     "name": "stderr",
     "output_type": "stream",
     "text": [
      "d:\\mgr\\aml\\pr2\\venv\\lib\\site-packages\\statsmodels\\nonparametric\\kernels.py:62: RuntimeWarning: divide by zero encountered in divide\n",
      "  kernel_value = np.ones(Xi.size) * h / (num_levels - 1)\n",
      "d:\\mgr\\aml\\pr2\\venv\\lib\\site-packages\\statsmodels\\nonparametric\\kernels.py:62: RuntimeWarning: divide by zero encountered in divide\n",
      "  kernel_value = np.ones(Xi.size) * h / (num_levels - 1)\n"
     ]
    },
    {
     "name": "stdout",
     "output_type": "stream",
     "text": [
      "\u001b[36m(train_xgboost pid=63464)\u001b[0m 142 1000\u001b[32m [repeated 3x across cluster]\u001b[0m\n"
     ]
    },
    {
     "name": "stderr",
     "output_type": "stream",
     "text": [
      "d:\\mgr\\aml\\pr2\\venv\\lib\\site-packages\\statsmodels\\nonparametric\\kernels.py:62: RuntimeWarning: divide by zero encountered in divide\n",
      "  kernel_value = np.ones(Xi.size) * h / (num_levels - 1)\n"
     ]
    },
    {
     "name": "stdout",
     "output_type": "stream",
     "text": [
      "\u001b[36m(train_xgboost pid=16972)\u001b[0m 150 1000\u001b[32m [repeated 3x across cluster]\u001b[0m\n"
     ]
    },
    {
     "name": "stderr",
     "output_type": "stream",
     "text": [
      "d:\\mgr\\aml\\pr2\\venv\\lib\\site-packages\\statsmodels\\nonparametric\\kernels.py:62: RuntimeWarning: divide by zero encountered in divide\n",
      "  kernel_value = np.ones(Xi.size) * h / (num_levels - 1)\n",
      "d:\\mgr\\aml\\pr2\\venv\\lib\\site-packages\\statsmodels\\nonparametric\\kernels.py:62: RuntimeWarning: divide by zero encountered in divide\n",
      "  kernel_value = np.ones(Xi.size) * h / (num_levels - 1)\n",
      "d:\\mgr\\aml\\pr2\\venv\\lib\\site-packages\\statsmodels\\nonparametric\\kernels.py:62: RuntimeWarning: divide by zero encountered in divide\n",
      "  kernel_value = np.ones(Xi.size) * h / (num_levels - 1)\n"
     ]
    },
    {
     "name": "stdout",
     "output_type": "stream",
     "text": [
      "\u001b[36m(train_xgboost pid=39312)\u001b[0m 151 1000\u001b[32m [repeated 3x across cluster]\u001b[0m\n"
     ]
    },
    {
     "name": "stderr",
     "output_type": "stream",
     "text": [
      "d:\\mgr\\aml\\pr2\\venv\\lib\\site-packages\\statsmodels\\nonparametric\\kernels.py:62: RuntimeWarning: divide by zero encountered in divide\n",
      "  kernel_value = np.ones(Xi.size) * h / (num_levels - 1)\n",
      "d:\\mgr\\aml\\pr2\\venv\\lib\\site-packages\\statsmodels\\nonparametric\\kernels.py:62: RuntimeWarning: divide by zero encountered in divide\n",
      "  kernel_value = np.ones(Xi.size) * h / (num_levels - 1)\n",
      "d:\\mgr\\aml\\pr2\\venv\\lib\\site-packages\\statsmodels\\nonparametric\\kernels.py:62: RuntimeWarning: divide by zero encountered in divide\n",
      "  kernel_value = np.ones(Xi.size) * h / (num_levels - 1)\n"
     ]
    },
    {
     "name": "stdout",
     "output_type": "stream",
     "text": [
      "\u001b[36m(train_xgboost pid=11224)\u001b[0m 143 1000\u001b[32m [repeated 3x across cluster]\u001b[0m\n"
     ]
    },
    {
     "name": "stderr",
     "output_type": "stream",
     "text": [
      "d:\\mgr\\aml\\pr2\\venv\\lib\\site-packages\\statsmodels\\nonparametric\\kernels.py:62: RuntimeWarning: divide by zero encountered in divide\n",
      "  kernel_value = np.ones(Xi.size) * h / (num_levels - 1)\n",
      "d:\\mgr\\aml\\pr2\\venv\\lib\\site-packages\\statsmodels\\nonparametric\\kernels.py:62: RuntimeWarning: divide by zero encountered in divide\n",
      "  kernel_value = np.ones(Xi.size) * h / (num_levels - 1)\n",
      "d:\\mgr\\aml\\pr2\\venv\\lib\\site-packages\\statsmodels\\nonparametric\\kernels.py:62: RuntimeWarning: divide by zero encountered in divide\n",
      "  kernel_value = np.ones(Xi.size) * h / (num_levels - 1)\n"
     ]
    },
    {
     "name": "stdout",
     "output_type": "stream",
     "text": [
      "\u001b[36m(train_xgboost pid=52160)\u001b[0m 148 1000\u001b[32m [repeated 3x across cluster]\u001b[0m\n"
     ]
    },
    {
     "name": "stderr",
     "output_type": "stream",
     "text": [
      "d:\\mgr\\aml\\pr2\\venv\\lib\\site-packages\\statsmodels\\nonparametric\\kernels.py:62: RuntimeWarning: divide by zero encountered in divide\n",
      "  kernel_value = np.ones(Xi.size) * h / (num_levels - 1)\n",
      "d:\\mgr\\aml\\pr2\\venv\\lib\\site-packages\\statsmodels\\nonparametric\\kernels.py:62: RuntimeWarning: divide by zero encountered in divide\n",
      "  kernel_value = np.ones(Xi.size) * h / (num_levels - 1)\n",
      "d:\\mgr\\aml\\pr2\\venv\\lib\\site-packages\\statsmodels\\nonparametric\\kernels.py:62: RuntimeWarning: divide by zero encountered in divide\n",
      "  kernel_value = np.ones(Xi.size) * h / (num_levels - 1)\n"
     ]
    },
    {
     "name": "stdout",
     "output_type": "stream",
     "text": [
      "\u001b[36m(train_xgboost pid=38372)\u001b[0m 141 1000\u001b[32m [repeated 3x across cluster]\u001b[0m\n"
     ]
    },
    {
     "name": "stderr",
     "output_type": "stream",
     "text": [
      "d:\\mgr\\aml\\pr2\\venv\\lib\\site-packages\\statsmodels\\nonparametric\\kernels.py:62: RuntimeWarning: divide by zero encountered in divide\n",
      "  kernel_value = np.ones(Xi.size) * h / (num_levels - 1)\n",
      "d:\\mgr\\aml\\pr2\\venv\\lib\\site-packages\\statsmodels\\nonparametric\\kernels.py:62: RuntimeWarning: divide by zero encountered in divide\n",
      "  kernel_value = np.ones(Xi.size) * h / (num_levels - 1)\n",
      "d:\\mgr\\aml\\pr2\\venv\\lib\\site-packages\\statsmodels\\nonparametric\\kernels.py:62: RuntimeWarning: divide by zero encountered in divide\n",
      "  kernel_value = np.ones(Xi.size) * h / (num_levels - 1)\n"
     ]
    },
    {
     "name": "stdout",
     "output_type": "stream",
     "text": [
      "\u001b[36m(train_xgboost pid=2108)\u001b[0m 143 1000\u001b[32m [repeated 3x across cluster]\u001b[0m\n"
     ]
    },
    {
     "name": "stderr",
     "output_type": "stream",
     "text": [
      "d:\\mgr\\aml\\pr2\\venv\\lib\\site-packages\\statsmodels\\nonparametric\\kernels.py:62: RuntimeWarning: divide by zero encountered in divide\n",
      "  kernel_value = np.ones(Xi.size) * h / (num_levels - 1)\n"
     ]
    },
    {
     "name": "stdout",
     "output_type": "stream",
     "text": [
      "\u001b[36m(train_xgboost pid=10920)\u001b[0m 146 1000\u001b[32m [repeated 3x across cluster]\u001b[0m\n"
     ]
    },
    {
     "name": "stderr",
     "output_type": "stream",
     "text": [
      "d:\\mgr\\aml\\pr2\\venv\\lib\\site-packages\\statsmodels\\nonparametric\\kernels.py:62: RuntimeWarning: divide by zero encountered in divide\n",
      "  kernel_value = np.ones(Xi.size) * h / (num_levels - 1)\n",
      "d:\\mgr\\aml\\pr2\\venv\\lib\\site-packages\\statsmodels\\nonparametric\\kernels.py:62: RuntimeWarning: divide by zero encountered in divide\n",
      "  kernel_value = np.ones(Xi.size) * h / (num_levels - 1)\n",
      "d:\\mgr\\aml\\pr2\\venv\\lib\\site-packages\\statsmodels\\nonparametric\\kernels.py:62: RuntimeWarning: divide by zero encountered in divide\n",
      "  kernel_value = np.ones(Xi.size) * h / (num_levels - 1)\n"
     ]
    },
    {
     "name": "stdout",
     "output_type": "stream",
     "text": [
      "\u001b[36m(train_xgboost pid=51808)\u001b[0m 146 1000\u001b[32m [repeated 3x across cluster]\u001b[0m\n"
     ]
    },
    {
     "name": "stderr",
     "output_type": "stream",
     "text": [
      "d:\\mgr\\aml\\pr2\\venv\\lib\\site-packages\\statsmodels\\nonparametric\\kernels.py:62: RuntimeWarning: divide by zero encountered in divide\n",
      "  kernel_value = np.ones(Xi.size) * h / (num_levels - 1)\n",
      "d:\\mgr\\aml\\pr2\\venv\\lib\\site-packages\\statsmodels\\nonparametric\\kernels.py:62: RuntimeWarning: divide by zero encountered in divide\n",
      "  kernel_value = np.ones(Xi.size) * h / (num_levels - 1)\n"
     ]
    },
    {
     "name": "stdout",
     "output_type": "stream",
     "text": [
      "\u001b[36m(train_xgboost pid=2808)\u001b[0m 143 1000\u001b[32m [repeated 3x across cluster]\u001b[0m\n"
     ]
    },
    {
     "name": "stderr",
     "output_type": "stream",
     "text": [
      "d:\\mgr\\aml\\pr2\\venv\\lib\\site-packages\\statsmodels\\nonparametric\\kernels.py:62: RuntimeWarning: divide by zero encountered in divide\n",
      "  kernel_value = np.ones(Xi.size) * h / (num_levels - 1)\n",
      "d:\\mgr\\aml\\pr2\\venv\\lib\\site-packages\\statsmodels\\nonparametric\\kernels.py:62: RuntimeWarning: divide by zero encountered in divide\n",
      "  kernel_value = np.ones(Xi.size) * h / (num_levels - 1)\n"
     ]
    },
    {
     "name": "stdout",
     "output_type": "stream",
     "text": [
      "\u001b[36m(train_xgboost pid=57952)\u001b[0m 154 1000\u001b[32m [repeated 3x across cluster]\u001b[0m\n"
     ]
    },
    {
     "name": "stderr",
     "output_type": "stream",
     "text": [
      "d:\\mgr\\aml\\pr2\\venv\\lib\\site-packages\\statsmodels\\nonparametric\\kernels.py:62: RuntimeWarning: divide by zero encountered in divide\n",
      "  kernel_value = np.ones(Xi.size) * h / (num_levels - 1)\n",
      "d:\\mgr\\aml\\pr2\\venv\\lib\\site-packages\\statsmodels\\nonparametric\\kernels.py:62: RuntimeWarning: divide by zero encountered in divide\n",
      "  kernel_value = np.ones(Xi.size) * h / (num_levels - 1)\n"
     ]
    },
    {
     "name": "stdout",
     "output_type": "stream",
     "text": [
      "\u001b[36m(train_xgboost pid=7812)\u001b[0m 151 1000\u001b[32m [repeated 3x across cluster]\u001b[0m\n"
     ]
    },
    {
     "name": "stderr",
     "output_type": "stream",
     "text": [
      "d:\\mgr\\aml\\pr2\\venv\\lib\\site-packages\\statsmodels\\nonparametric\\kernels.py:62: RuntimeWarning: divide by zero encountered in divide\n",
      "  kernel_value = np.ones(Xi.size) * h / (num_levels - 1)\n",
      "d:\\mgr\\aml\\pr2\\venv\\lib\\site-packages\\statsmodels\\nonparametric\\kernels.py:62: RuntimeWarning: divide by zero encountered in divide\n",
      "  kernel_value = np.ones(Xi.size) * h / (num_levels - 1)\n"
     ]
    },
    {
     "name": "stdout",
     "output_type": "stream",
     "text": [
      "\u001b[36m(train_xgboost pid=62836)\u001b[0m 148 1000\u001b[32m [repeated 3x across cluster]\u001b[0m\n"
     ]
    },
    {
     "name": "stderr",
     "output_type": "stream",
     "text": [
      "d:\\mgr\\aml\\pr2\\venv\\lib\\site-packages\\statsmodels\\nonparametric\\kernels.py:62: RuntimeWarning: divide by zero encountered in divide\n",
      "  kernel_value = np.ones(Xi.size) * h / (num_levels - 1)\n",
      "d:\\mgr\\aml\\pr2\\venv\\lib\\site-packages\\statsmodels\\nonparametric\\kernels.py:62: RuntimeWarning: divide by zero encountered in divide\n",
      "  kernel_value = np.ones(Xi.size) * h / (num_levels - 1)\n",
      "d:\\mgr\\aml\\pr2\\venv\\lib\\site-packages\\statsmodels\\nonparametric\\kernels.py:62: RuntimeWarning: divide by zero encountered in divide\n",
      "  kernel_value = np.ones(Xi.size) * h / (num_levels - 1)\n"
     ]
    },
    {
     "name": "stdout",
     "output_type": "stream",
     "text": [
      "\u001b[36m(train_xgboost pid=57876)\u001b[0m 151 1000\u001b[32m [repeated 3x across cluster]\u001b[0m\n"
     ]
    },
    {
     "name": "stderr",
     "output_type": "stream",
     "text": [
      "d:\\mgr\\aml\\pr2\\venv\\lib\\site-packages\\statsmodels\\nonparametric\\kernels.py:62: RuntimeWarning: divide by zero encountered in divide\n",
      "  kernel_value = np.ones(Xi.size) * h / (num_levels - 1)\n",
      "d:\\mgr\\aml\\pr2\\venv\\lib\\site-packages\\statsmodels\\nonparametric\\kernels.py:62: RuntimeWarning: divide by zero encountered in divide\n",
      "  kernel_value = np.ones(Xi.size) * h / (num_levels - 1)\n"
     ]
    },
    {
     "name": "stdout",
     "output_type": "stream",
     "text": [
      "\u001b[36m(train_xgboost pid=34000)\u001b[0m 142 1000\u001b[32m [repeated 3x across cluster]\u001b[0m\n"
     ]
    },
    {
     "name": "stderr",
     "output_type": "stream",
     "text": [
      "d:\\mgr\\aml\\pr2\\venv\\lib\\site-packages\\statsmodels\\nonparametric\\kernels.py:62: RuntimeWarning: divide by zero encountered in divide\n",
      "  kernel_value = np.ones(Xi.size) * h / (num_levels - 1)\n",
      "d:\\mgr\\aml\\pr2\\venv\\lib\\site-packages\\statsmodels\\nonparametric\\kernels.py:62: RuntimeWarning: divide by zero encountered in divide\n",
      "  kernel_value = np.ones(Xi.size) * h / (num_levels - 1)\n"
     ]
    },
    {
     "name": "stdout",
     "output_type": "stream",
     "text": [
      "\u001b[36m(train_xgboost pid=12076)\u001b[0m 146 1000\u001b[32m [repeated 3x across cluster]\u001b[0m\n"
     ]
    },
    {
     "name": "stderr",
     "output_type": "stream",
     "text": [
      "2024-05-29 13:12:21,288\tWARNING experiment_state.py:205 -- Experiment state snapshotting has been triggered multiple times in the last 5.0 seconds. A snapshot is forced if `CheckpointConfig(num_to_keep)` is set, and a trial has checkpointed >= `num_to_keep` times since the last snapshot.\n",
      "You may want to consider increasing the `CheckpointConfig(num_to_keep)` or decreasing the frequency of saving checkpoints.\n",
      "You can suppress this error by setting the environment variable TUNE_WARN_EXCESSIVE_EXPERIMENT_CHECKPOINT_SYNC_THRESHOLD_S to a smaller value than the current threshold (5.0).\n",
      "2024-05-29 13:12:21,410\tINFO tune.py:1007 -- Wrote the latest version of all result files and experiment state to 'C:/Users/Mieszko/ray_results/train_xgboost_2024-05-29_13-06-05' in 0.1450s.\n",
      "2024-05-29 13:12:21,453\tINFO tune.py:1039 -- Total run time: 376.11 seconds (375.68 seconds for the tuning loop).\n"
     ]
    },
    {
     "name": "stdout",
     "output_type": "stream",
     "text": [
      "Best config:  {'alpha': 0.03080700401819511, 'colsample_bytree': 0.7407150540666845, 'colset': '[100, 102, 103, 105]', 'eta': 0.03245934647791296, 'eval_metric': 'error', 'lambda': 0.07890255049708894, 'max_depth': 5, 'min_child_weight': 1, 'objective': 'binary:logistic', 'subsample': 0.6435415172876953}\n"
     ]
    }
   ],
   "source": [
    "import ray\n",
    "from ray import tune\n",
    "\n",
    "from ray.tune.schedulers.hb_bohb import HyperBandForBOHB\n",
    "from ray.tune.search.bohb import TuneBOHB\n",
    "from ray.train import report\n",
    "from sklearn.model_selection import train_test_split\n",
    "from xgboost import XGBClassifier\n",
    "from sklearn.metrics import accuracy_score\n",
    "import xgboost as xgb\n",
    "import pandas as pd\n",
    "import numpy as np\n",
    "import ConfigSpace as CS\n",
    "import ConfigSpace.hyperparameters as CSH\n",
    "import ast\n",
    "\n",
    "# Assuming your data is in X and y dataframes\n",
    "#X_train, X_val, y_train, y_val = train_test_split(X, y, test_size=0.2, random_state=42)\n",
    "def train_xgboost(config):\n",
    "    # Split data into training and validation sets\n",
    "    vars = ast.literal_eval(config['colset'])\n",
    "    Xloc = X[vars]\n",
    "\n",
    "    X_train, X_val, y_train, y_val = train_test_split(Xloc, y, test_size=0.2, random_state=42)\n",
    "\n",
    "    # Define the model with the given configuration\n",
    "    model = XGBClassifier(\n",
    "        eta=config['eta'],\n",
    "        max_depth=config['max_depth'],\n",
    "        min_child_weight=config['min_child_weight'],\n",
    "        subsample=config['subsample'],\n",
    "        colsample_bytree=config['colsample_bytree'],\n",
    "        reg_lambda=config['lambda'],\n",
    "        reg_alpha=config['alpha'],\n",
    "        objective=config['objective'],\n",
    "        eval_metric=config['eval_metric'],\n",
    "        use_label_encoder=False,\n",
    "        verbosity=0\n",
    "    )\n",
    "    \n",
    "    # Train the model\n",
    "    model.fit(X_train, y_train, eval_set=[(X_val, y_val)], verbose=False)\n",
    "\n",
    "    # Predict on the validation set\n",
    "    preds_proba = model.predict_proba(X_val)[:, 1]\n",
    "    \n",
    "    # Get the indices of the top 20% predictions\n",
    "    top_20_percent_indices = np.argsort(preds_proba)[-int(0.2 * len(preds_proba)):]\n",
    "\n",
    "    # Select the corresponding true labels and predicted labels for top 20%\n",
    "    top_20_true = y_val.iloc[top_20_percent_indices].values\n",
    "    top_20_preds = (preds_proba[top_20_percent_indices] >= 0.5).astype(int)\n",
    "    \n",
    "    # Calculate the number of correct class 1 predictions\n",
    "    #correct_class_1_predictions = np.sum((top_20_true == 1) & (top_20_preds == 1))\n",
    "    #correct_class_1_predictions = np.sum(np.logical_and(top_20_true == 1, top_20_preds == 1))\n",
    "    correct_class_1_predictions = sum(1 for true, pred in zip(top_20_true, top_20_preds) if true == 1 and pred == 1)\n",
    "\n",
    "    print(correct_class_1_predictions, len(X_val))\n",
    "    \n",
    "    # Calculate the number of features used\n",
    "    num_features_used = Xloc.shape[1]\n",
    "\n",
    "    #scaled score calculation\n",
    "    customer_scaled = (correct_class_1_predictions / len(top_20_preds)) * 1000\n",
    "    customer_gain = 10 * customer_scaled\n",
    "    variable_cost = 200 * num_features_used\n",
    "    custom_score = customer_gain - variable_cost\n",
    "    \n",
    "    # Compute the custom score\n",
    "    #custom_score = 10 * correct_class_1_predictions - 200 * num_features_used\n",
    "    report({\n",
    "        \"custom_score\": custom_score, \n",
    "        \"correct_class_1_predictions\": correct_class_1_predictions, \n",
    "        #\"len(X_val)\": len(X_val), \n",
    "        # \"sum top_20_true\": np.sum(top_20_true),\n",
    "        # \"sum top_20_preds\": np.sum(top_20_preds),\n",
    "        # \"sum top_20_true == 1\": np.sum(top_20_true == 1),\n",
    "        # \"sum top_20_preds == 1\": np.sum(top_20_preds == 1),\n",
    "        # \"sum aggregated\": np.sum((top_20_true == 1) & (top_20_preds == 1)),\n",
    "        # \"logical\":  np.sum(np.logical_and(top_20_true == 1, top_20_preds == 1)),\n",
    "        #\"preds_proba\": preds_proba, \n",
    "        #\"top_20_percent_indices\": top_20_percent_indices, \n",
    "        # \"top_20_true\": top_20_true, \n",
    "        # \"top_20_preds\": top_20_preds, \n",
    "        # \"a & b\" : str(tt),\n",
    "        \"num_features_used\": num_features_used\n",
    "    })\n",
    "\n",
    "# Define the search space using ConfigSpace\n",
    "config_space = CS.ConfigurationSpace()\n",
    "\n",
    "config_space.add_hyperparameter(CSH.UniformFloatHyperparameter('eta', lower=0.01, upper=0.1, log=True))\n",
    "config_space.add_hyperparameter(CSH.UniformIntegerHyperparameter('max_depth', lower=3, upper=10))\n",
    "config_space.add_hyperparameter(CSH.UniformIntegerHyperparameter('min_child_weight', lower=1, upper=5))\n",
    "config_space.add_hyperparameter(CSH.UniformFloatHyperparameter('subsample', lower=0.5, upper=1.0))\n",
    "config_space.add_hyperparameter(CSH.UniformFloatHyperparameter('colsample_bytree', lower=0.5, upper=1.0))\n",
    "config_space.add_hyperparameter(CSH.UniformFloatHyperparameter('lambda', lower=1e-3, upper=10.0, log=True))\n",
    "config_space.add_hyperparameter(CSH.UniformFloatHyperparameter('alpha', lower=1e-3, upper=10.0, log=True))\n",
    "config_space.add_hyperparameter(CSH.CategoricalHyperparameter('colset', ['[101, 102, 103, 105]', '[101, 102, 103]', '[101, 102, 105]', '[101, 103, 105]', '[102, 103, 105]', '[104, 102, 103, 105]', '[100, 101, 102, 103, 105]', '[100, 101, 102, 103]', '[100, 101, 102, 105]', '[100, 101, 103, 105]', '[100, 102, 103, 105]', '[100, 104, 102, 103, 105]', '[100, 101, 102, 103, 104, 105]']))\n",
    "config_space.add_hyperparameter(CSH.CategoricalHyperparameter('objective', ['binary:logistic']))\n",
    "config_space.add_hyperparameter(CSH.CategoricalHyperparameter('eval_metric', ['error']))\n",
    "\n",
    "# Set up the BOHB search algorithm\n",
    "bohb_search = TuneBOHB(config_space, metric=\"custom_score\", mode=\"max\")\n",
    "\n",
    "# Set up the HyperBandForBOHB scheduler\n",
    "bohb_scheduler = HyperBandForBOHB(\n",
    "    time_attr=\"training_iteration\",\n",
    "    metric=\"custom_score\",\n",
    "    mode=\"max\"\n",
    ")\n",
    "\n",
    "# Function to create shorter directory names\n",
    "def trial_dirname_creator(trial):\n",
    "    return f\"trial_{trial.trial_id}\"\n",
    "\n",
    "# Run the hyperparameter search\n",
    "analysis = tune.run(\n",
    "    train_xgboost,\n",
    "    resources_per_trial={\"cpu\": 1, \"gpu\": 0},\n",
    "    search_alg=bohb_search,\n",
    "    scheduler=bohb_scheduler,\n",
    "    num_samples=200,\n",
    "    trial_dirname_creator=trial_dirname_creator\n",
    ")\n",
    "\n",
    "# Get the best result\n",
    "best_config = analysis.get_best_config(metric=\"custom_score\", mode=\"max\")\n",
    "print(\"Best config: \", best_config)\n"
   ]
  },
  {
   "cell_type": "code",
   "execution_count": 3,
   "metadata": {},
   "outputs": [],
   "source": [
    "df=analysis.dataframe()"
   ]
  },
  {
   "cell_type": "code",
   "execution_count": 4,
   "metadata": {},
   "outputs": [],
   "source": [
    "df.to_csv('xgb-raytune-bohb.csv')"
   ]
  },
  {
   "cell_type": "code",
   "execution_count": 5,
   "metadata": {},
   "outputs": [
    {
     "data": {
      "text/html": [
       "<div>\n",
       "<style scoped>\n",
       "    .dataframe tbody tr th:only-of-type {\n",
       "        vertical-align: middle;\n",
       "    }\n",
       "\n",
       "    .dataframe tbody tr th {\n",
       "        vertical-align: top;\n",
       "    }\n",
       "\n",
       "    .dataframe thead th {\n",
       "        text-align: right;\n",
       "    }\n",
       "</style>\n",
       "<table border=\"1\" class=\"dataframe\">\n",
       "  <thead>\n",
       "    <tr style=\"text-align: right;\">\n",
       "      <th></th>\n",
       "      <th>custom_score</th>\n",
       "      <th>correct_class_1_predictions</th>\n",
       "      <th>num_features_used</th>\n",
       "      <th>timestamp</th>\n",
       "      <th>checkpoint_dir_name</th>\n",
       "      <th>done</th>\n",
       "      <th>training_iteration</th>\n",
       "      <th>trial_id</th>\n",
       "      <th>date</th>\n",
       "      <th>time_this_iter_s</th>\n",
       "      <th>...</th>\n",
       "      <th>config/colsample_bytree</th>\n",
       "      <th>config/colset</th>\n",
       "      <th>config/eta</th>\n",
       "      <th>config/eval_metric</th>\n",
       "      <th>config/lambda</th>\n",
       "      <th>config/max_depth</th>\n",
       "      <th>config/min_child_weight</th>\n",
       "      <th>config/objective</th>\n",
       "      <th>config/subsample</th>\n",
       "      <th>logdir</th>\n",
       "    </tr>\n",
       "  </thead>\n",
       "  <tbody>\n",
       "    <tr>\n",
       "      <th>0</th>\n",
       "      <td>6500.0</td>\n",
       "      <td>142</td>\n",
       "      <td>3</td>\n",
       "      <td>1716980767</td>\n",
       "      <td>None</td>\n",
       "      <td>False</td>\n",
       "      <td>1</td>\n",
       "      <td>06334eee</td>\n",
       "      <td>2024-05-29_13-06-07</td>\n",
       "      <td>0.142146</td>\n",
       "      <td>...</td>\n",
       "      <td>0.596359</td>\n",
       "      <td>[101, 102, 105]</td>\n",
       "      <td>0.019139</td>\n",
       "      <td>error</td>\n",
       "      <td>0.098881</td>\n",
       "      <td>7</td>\n",
       "      <td>2</td>\n",
       "      <td>binary:logistic</td>\n",
       "      <td>0.902236</td>\n",
       "      <td>06334eee</td>\n",
       "    </tr>\n",
       "    <tr>\n",
       "      <th>1</th>\n",
       "      <td>6550.0</td>\n",
       "      <td>147</td>\n",
       "      <td>4</td>\n",
       "      <td>1716980769</td>\n",
       "      <td>None</td>\n",
       "      <td>False</td>\n",
       "      <td>1</td>\n",
       "      <td>c88c53b4</td>\n",
       "      <td>2024-05-29_13-06-09</td>\n",
       "      <td>0.132000</td>\n",
       "      <td>...</td>\n",
       "      <td>0.896220</td>\n",
       "      <td>[100, 101, 102, 103]</td>\n",
       "      <td>0.090279</td>\n",
       "      <td>error</td>\n",
       "      <td>0.110539</td>\n",
       "      <td>7</td>\n",
       "      <td>5</td>\n",
       "      <td>binary:logistic</td>\n",
       "      <td>0.850420</td>\n",
       "      <td>c88c53b4</td>\n",
       "    </tr>\n",
       "    <tr>\n",
       "      <th>2</th>\n",
       "      <td>6800.0</td>\n",
       "      <td>156</td>\n",
       "      <td>5</td>\n",
       "      <td>1716980771</td>\n",
       "      <td>None</td>\n",
       "      <td>False</td>\n",
       "      <td>1</td>\n",
       "      <td>cb35cdd8</td>\n",
       "      <td>2024-05-29_13-06-11</td>\n",
       "      <td>0.190000</td>\n",
       "      <td>...</td>\n",
       "      <td>0.721823</td>\n",
       "      <td>[100, 101, 102, 103, 105]</td>\n",
       "      <td>0.013444</td>\n",
       "      <td>error</td>\n",
       "      <td>0.005469</td>\n",
       "      <td>10</td>\n",
       "      <td>2</td>\n",
       "      <td>binary:logistic</td>\n",
       "      <td>0.663759</td>\n",
       "      <td>cb35cdd8</td>\n",
       "    </tr>\n",
       "    <tr>\n",
       "      <th>3</th>\n",
       "      <td>6650.0</td>\n",
       "      <td>149</td>\n",
       "      <td>4</td>\n",
       "      <td>1716980773</td>\n",
       "      <td>None</td>\n",
       "      <td>False</td>\n",
       "      <td>1</td>\n",
       "      <td>0043c127</td>\n",
       "      <td>2024-05-29_13-06-13</td>\n",
       "      <td>0.073999</td>\n",
       "      <td>...</td>\n",
       "      <td>0.738962</td>\n",
       "      <td>[100, 101, 102, 103]</td>\n",
       "      <td>0.012713</td>\n",
       "      <td>error</td>\n",
       "      <td>0.352018</td>\n",
       "      <td>5</td>\n",
       "      <td>1</td>\n",
       "      <td>binary:logistic</td>\n",
       "      <td>0.939125</td>\n",
       "      <td>0043c127</td>\n",
       "    </tr>\n",
       "    <tr>\n",
       "      <th>4</th>\n",
       "      <td>6700.0</td>\n",
       "      <td>146</td>\n",
       "      <td>3</td>\n",
       "      <td>1716980775</td>\n",
       "      <td>None</td>\n",
       "      <td>False</td>\n",
       "      <td>1</td>\n",
       "      <td>088d1b6a</td>\n",
       "      <td>2024-05-29_13-06-15</td>\n",
       "      <td>0.102000</td>\n",
       "      <td>...</td>\n",
       "      <td>0.732802</td>\n",
       "      <td>[101, 102, 103]</td>\n",
       "      <td>0.031799</td>\n",
       "      <td>error</td>\n",
       "      <td>0.024816</td>\n",
       "      <td>9</td>\n",
       "      <td>5</td>\n",
       "      <td>binary:logistic</td>\n",
       "      <td>0.511093</td>\n",
       "      <td>088d1b6a</td>\n",
       "    </tr>\n",
       "  </tbody>\n",
       "</table>\n",
       "<p>5 rows × 27 columns</p>\n",
       "</div>"
      ],
      "text/plain": [
       "   custom_score  correct_class_1_predictions  num_features_used   timestamp  \\\n",
       "0        6500.0                          142                  3  1716980767   \n",
       "1        6550.0                          147                  4  1716980769   \n",
       "2        6800.0                          156                  5  1716980771   \n",
       "3        6650.0                          149                  4  1716980773   \n",
       "4        6700.0                          146                  3  1716980775   \n",
       "\n",
       "  checkpoint_dir_name   done  training_iteration  trial_id  \\\n",
       "0                None  False                   1  06334eee   \n",
       "1                None  False                   1  c88c53b4   \n",
       "2                None  False                   1  cb35cdd8   \n",
       "3                None  False                   1  0043c127   \n",
       "4                None  False                   1  088d1b6a   \n",
       "\n",
       "                  date  time_this_iter_s  ...  config/colsample_bytree  \\\n",
       "0  2024-05-29_13-06-07          0.142146  ...                 0.596359   \n",
       "1  2024-05-29_13-06-09          0.132000  ...                 0.896220   \n",
       "2  2024-05-29_13-06-11          0.190000  ...                 0.721823   \n",
       "3  2024-05-29_13-06-13          0.073999  ...                 0.738962   \n",
       "4  2024-05-29_13-06-15          0.102000  ...                 0.732802   \n",
       "\n",
       "               config/colset config/eta config/eval_metric  config/lambda  \\\n",
       "0            [101, 102, 105]   0.019139              error       0.098881   \n",
       "1       [100, 101, 102, 103]   0.090279              error       0.110539   \n",
       "2  [100, 101, 102, 103, 105]   0.013444              error       0.005469   \n",
       "3       [100, 101, 102, 103]   0.012713              error       0.352018   \n",
       "4            [101, 102, 103]   0.031799              error       0.024816   \n",
       "\n",
       "   config/max_depth  config/min_child_weight  config/objective  \\\n",
       "0                 7                        2   binary:logistic   \n",
       "1                 7                        5   binary:logistic   \n",
       "2                10                        2   binary:logistic   \n",
       "3                 5                        1   binary:logistic   \n",
       "4                 9                        5   binary:logistic   \n",
       "\n",
       "  config/subsample    logdir  \n",
       "0         0.902236  06334eee  \n",
       "1         0.850420  c88c53b4  \n",
       "2         0.663759  cb35cdd8  \n",
       "3         0.939125  0043c127  \n",
       "4         0.511093  088d1b6a  \n",
       "\n",
       "[5 rows x 27 columns]"
      ]
     },
     "execution_count": 5,
     "metadata": {},
     "output_type": "execute_result"
    }
   ],
   "source": [
    "df.head()"
   ]
  },
  {
   "cell_type": "code",
   "execution_count": 6,
   "metadata": {},
   "outputs": [
    {
     "data": {
      "text/html": [
       "<div>\n",
       "<style scoped>\n",
       "    .dataframe tbody tr th:only-of-type {\n",
       "        vertical-align: middle;\n",
       "    }\n",
       "\n",
       "    .dataframe tbody tr th {\n",
       "        vertical-align: top;\n",
       "    }\n",
       "\n",
       "    .dataframe thead th {\n",
       "        text-align: right;\n",
       "    }\n",
       "</style>\n",
       "<table border=\"1\" class=\"dataframe\">\n",
       "  <thead>\n",
       "    <tr style=\"text-align: right;\">\n",
       "      <th></th>\n",
       "      <th>custom_score</th>\n",
       "      <th>correct_class_1_predictions</th>\n",
       "      <th>num_features_used</th>\n",
       "      <th>timestamp</th>\n",
       "      <th>checkpoint_dir_name</th>\n",
       "      <th>done</th>\n",
       "      <th>training_iteration</th>\n",
       "      <th>trial_id</th>\n",
       "      <th>date</th>\n",
       "      <th>time_this_iter_s</th>\n",
       "      <th>...</th>\n",
       "      <th>config/colsample_bytree</th>\n",
       "      <th>config/colset</th>\n",
       "      <th>config/eta</th>\n",
       "      <th>config/eval_metric</th>\n",
       "      <th>config/lambda</th>\n",
       "      <th>config/max_depth</th>\n",
       "      <th>config/min_child_weight</th>\n",
       "      <th>config/objective</th>\n",
       "      <th>config/subsample</th>\n",
       "      <th>logdir</th>\n",
       "    </tr>\n",
       "  </thead>\n",
       "  <tbody>\n",
       "    <tr>\n",
       "      <th>144</th>\n",
       "      <td>7150.0</td>\n",
       "      <td>159</td>\n",
       "      <td>4</td>\n",
       "      <td>1716981043</td>\n",
       "      <td>None</td>\n",
       "      <td>False</td>\n",
       "      <td>1</td>\n",
       "      <td>30994418</td>\n",
       "      <td>2024-05-29_13-10-43</td>\n",
       "      <td>0.073999</td>\n",
       "      <td>...</td>\n",
       "      <td>0.740715</td>\n",
       "      <td>[100, 102, 103, 105]</td>\n",
       "      <td>0.032459</td>\n",
       "      <td>error</td>\n",
       "      <td>0.078903</td>\n",
       "      <td>5</td>\n",
       "      <td>1</td>\n",
       "      <td>binary:logistic</td>\n",
       "      <td>0.643542</td>\n",
       "      <td>30994418</td>\n",
       "    </tr>\n",
       "    <tr>\n",
       "      <th>113</th>\n",
       "      <td>7100.0</td>\n",
       "      <td>158</td>\n",
       "      <td>4</td>\n",
       "      <td>1716980989</td>\n",
       "      <td>None</td>\n",
       "      <td>False</td>\n",
       "      <td>1</td>\n",
       "      <td>8878bc6d</td>\n",
       "      <td>2024-05-29_13-09-49</td>\n",
       "      <td>0.114002</td>\n",
       "      <td>...</td>\n",
       "      <td>0.775045</td>\n",
       "      <td>[100, 102, 103, 105]</td>\n",
       "      <td>0.054523</td>\n",
       "      <td>error</td>\n",
       "      <td>0.379331</td>\n",
       "      <td>9</td>\n",
       "      <td>5</td>\n",
       "      <td>binary:logistic</td>\n",
       "      <td>0.908542</td>\n",
       "      <td>8878bc6d</td>\n",
       "    </tr>\n",
       "    <tr>\n",
       "      <th>154</th>\n",
       "      <td>7100.0</td>\n",
       "      <td>154</td>\n",
       "      <td>3</td>\n",
       "      <td>1716981061</td>\n",
       "      <td>None</td>\n",
       "      <td>False</td>\n",
       "      <td>1</td>\n",
       "      <td>eb45f49b</td>\n",
       "      <td>2024-05-29_13-11-01</td>\n",
       "      <td>0.068005</td>\n",
       "      <td>...</td>\n",
       "      <td>0.957826</td>\n",
       "      <td>[101, 102, 105]</td>\n",
       "      <td>0.031165</td>\n",
       "      <td>error</td>\n",
       "      <td>0.006269</td>\n",
       "      <td>4</td>\n",
       "      <td>3</td>\n",
       "      <td>binary:logistic</td>\n",
       "      <td>0.517397</td>\n",
       "      <td>eb45f49b</td>\n",
       "    </tr>\n",
       "    <tr>\n",
       "      <th>160</th>\n",
       "      <td>7050.0</td>\n",
       "      <td>157</td>\n",
       "      <td>4</td>\n",
       "      <td>1716981071</td>\n",
       "      <td>None</td>\n",
       "      <td>False</td>\n",
       "      <td>1</td>\n",
       "      <td>f1776d3d</td>\n",
       "      <td>2024-05-29_13-11-11</td>\n",
       "      <td>0.073004</td>\n",
       "      <td>...</td>\n",
       "      <td>0.842411</td>\n",
       "      <td>[100, 101, 102, 103]</td>\n",
       "      <td>0.021120</td>\n",
       "      <td>error</td>\n",
       "      <td>0.066908</td>\n",
       "      <td>4</td>\n",
       "      <td>4</td>\n",
       "      <td>binary:logistic</td>\n",
       "      <td>0.590614</td>\n",
       "      <td>f1776d3d</td>\n",
       "    </tr>\n",
       "    <tr>\n",
       "      <th>24</th>\n",
       "      <td>7050.0</td>\n",
       "      <td>157</td>\n",
       "      <td>4</td>\n",
       "      <td>1716980924</td>\n",
       "      <td>None</td>\n",
       "      <td>False</td>\n",
       "      <td>1</td>\n",
       "      <td>75b62c3b</td>\n",
       "      <td>2024-05-29_13-08-44</td>\n",
       "      <td>0.065001</td>\n",
       "      <td>...</td>\n",
       "      <td>0.689362</td>\n",
       "      <td>[104, 102, 103, 105]</td>\n",
       "      <td>0.062816</td>\n",
       "      <td>error</td>\n",
       "      <td>2.690235</td>\n",
       "      <td>3</td>\n",
       "      <td>1</td>\n",
       "      <td>binary:logistic</td>\n",
       "      <td>0.618418</td>\n",
       "      <td>75b62c3b</td>\n",
       "    </tr>\n",
       "  </tbody>\n",
       "</table>\n",
       "<p>5 rows × 27 columns</p>\n",
       "</div>"
      ],
      "text/plain": [
       "     custom_score  correct_class_1_predictions  num_features_used   timestamp  \\\n",
       "144        7150.0                          159                  4  1716981043   \n",
       "113        7100.0                          158                  4  1716980989   \n",
       "154        7100.0                          154                  3  1716981061   \n",
       "160        7050.0                          157                  4  1716981071   \n",
       "24         7050.0                          157                  4  1716980924   \n",
       "\n",
       "    checkpoint_dir_name   done  training_iteration  trial_id  \\\n",
       "144                None  False                   1  30994418   \n",
       "113                None  False                   1  8878bc6d   \n",
       "154                None  False                   1  eb45f49b   \n",
       "160                None  False                   1  f1776d3d   \n",
       "24                 None  False                   1  75b62c3b   \n",
       "\n",
       "                    date  time_this_iter_s  ...  config/colsample_bytree  \\\n",
       "144  2024-05-29_13-10-43          0.073999  ...                 0.740715   \n",
       "113  2024-05-29_13-09-49          0.114002  ...                 0.775045   \n",
       "154  2024-05-29_13-11-01          0.068005  ...                 0.957826   \n",
       "160  2024-05-29_13-11-11          0.073004  ...                 0.842411   \n",
       "24   2024-05-29_13-08-44          0.065001  ...                 0.689362   \n",
       "\n",
       "            config/colset config/eta config/eval_metric  config/lambda  \\\n",
       "144  [100, 102, 103, 105]   0.032459              error       0.078903   \n",
       "113  [100, 102, 103, 105]   0.054523              error       0.379331   \n",
       "154       [101, 102, 105]   0.031165              error       0.006269   \n",
       "160  [100, 101, 102, 103]   0.021120              error       0.066908   \n",
       "24   [104, 102, 103, 105]   0.062816              error       2.690235   \n",
       "\n",
       "     config/max_depth  config/min_child_weight  config/objective  \\\n",
       "144                 5                        1   binary:logistic   \n",
       "113                 9                        5   binary:logistic   \n",
       "154                 4                        3   binary:logistic   \n",
       "160                 4                        4   binary:logistic   \n",
       "24                  3                        1   binary:logistic   \n",
       "\n",
       "    config/subsample    logdir  \n",
       "144         0.643542  30994418  \n",
       "113         0.908542  8878bc6d  \n",
       "154         0.517397  eb45f49b  \n",
       "160         0.590614  f1776d3d  \n",
       "24          0.618418  75b62c3b  \n",
       "\n",
       "[5 rows x 27 columns]"
      ]
     },
     "execution_count": 6,
     "metadata": {},
     "output_type": "execute_result"
    }
   ],
   "source": [
    "df.sort_values('custom_score', ascending=False).head()"
   ]
  }
 ],
 "metadata": {
  "kernelspec": {
   "display_name": "venv",
   "language": "python",
   "name": "python3"
  },
  "language_info": {
   "codemirror_mode": {
    "name": "ipython",
    "version": 3
   },
   "file_extension": ".py",
   "mimetype": "text/x-python",
   "name": "python",
   "nbconvert_exporter": "python",
   "pygments_lexer": "ipython3",
   "version": "3.10.11"
  }
 },
 "nbformat": 4,
 "nbformat_minor": 2
}
