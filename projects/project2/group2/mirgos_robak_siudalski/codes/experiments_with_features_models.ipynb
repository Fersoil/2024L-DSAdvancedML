{
 "cells": [
  {
   "cell_type": "code",
   "execution_count": 1,
   "metadata": {},
   "outputs": [],
   "source": [
    "import pandas as pd\n",
    "from itertools import chain, combinations\n",
    "from sklearn.model_selection import StratifiedKFold\n",
    "import numpy as np\n",
    "from scoring import scoring_function\n",
    "from tqdm.auto import tqdm\n",
    "from sklearn.ensemble import AdaBoostClassifier\n",
    "from sklearn.gaussian_process import GaussianProcessClassifier\n",
    "from sklearn.discriminant_analysis import QuadraticDiscriminantAnalysis\n",
    "from sklearn.naive_bayes import GaussianNB\n",
    "from xgboost import XGBClassifier\n",
    "from sklearn.metrics import balanced_accuracy_score\n",
    "from sklearn.preprocessing import StandardScaler\n",
    "from sklearn.svm import SVC"
   ]
  },
  {
   "cell_type": "code",
   "execution_count": 2,
   "metadata": {},
   "outputs": [
    {
     "name": "stdout",
     "output_type": "stream",
     "text": [
      "x:\n",
      "        0         1         2         3         4         5         6    \\\n",
      "0 -2.619773 -2.619533 -1.199350 -1.083335 -1.000910 -0.366967 -2.164037   \n",
      "1 -1.415579 -1.782544 -2.880270 -1.958863  1.159968  0.273030 -1.628728   \n",
      "2 -2.745092 -1.382945 -1.626015 -1.282560 -0.663146  0.052349 -2.403322   \n",
      "3  0.618998  0.455364 -0.115081  0.649040 -0.862207  2.308504  0.526114   \n",
      "4 -0.070694 -0.550509 -0.565556 -0.693065 -0.573089 -0.395862  0.003170   \n",
      "\n",
      "        7         8         9    ...        490        491        492  \\\n",
      "0 -1.210001 -0.658311 -1.489539  ...  10.849925  10.343346  10.717519   \n",
      "1 -0.175813 -0.916857 -0.570166  ...  11.489417   5.195818   3.494627   \n",
      "2 -0.765073 -0.394354 -0.806624  ...  13.934934   9.267515   4.705604   \n",
      "3 -1.094852  1.088656 -0.481210  ...  12.021328   3.852231  11.059702   \n",
      "4 -0.981609 -0.505775 -0.758430  ...   7.537788  11.229665  11.318915   \n",
      "\n",
      "        493        494        495        496        497        498        499  \n",
      "0  7.709295   5.894554  12.416573   6.765269  16.243907   7.209524   8.082021  \n",
      "1  5.529154  10.517576  15.697333  11.324938  12.187670  12.283861   5.032285  \n",
      "2  6.642557  14.658934   8.130767   7.194487  11.939354  11.653620   5.942778  \n",
      "3  7.527268   7.253120   9.791136   6.089743  10.752796   5.778888  10.366363  \n",
      "4  6.622256  12.557882   5.520360   5.397359  13.152269  10.684779   9.816471  \n",
      "\n",
      "[5 rows x 500 columns]\n",
      "\n",
      "y:\n",
      "   0\n",
      "0  0\n",
      "1  0\n",
      "2  1\n",
      "3  1\n",
      "4  1\n"
     ]
    }
   ],
   "source": [
    "# Read x_train.txt\n",
    "X = pd.read_csv('../data/x_train.txt', sep=' ', header=None)\n",
    "\n",
    "# Read y_train.txt\n",
    "y = pd.read_csv('../data/y_train.txt', sep=' ', header=None)\n",
    "\n",
    "\n",
    "# Display the data\n",
    "print(\"x:\")\n",
    "print(X.head())\n",
    "\n",
    "print(\"\\ny:\")\n",
    "print(y.head())"
   ]
  },
  {
   "cell_type": "markdown",
   "metadata": {},
   "source": [
    "## Boruta"
   ]
  },
  {
   "cell_type": "code",
   "execution_count": 7,
   "metadata": {},
   "outputs": [],
   "source": [
    "idc2 = [0,   1,   2,   3,   4,   5,   6,   7,   8,   9, 100, 101, 102,\n",
    "       103, 104, 105]"
   ]
  },
  {
   "cell_type": "code",
   "execution_count": 12,
   "metadata": {},
   "outputs": [
    {
     "name": "stdout",
     "output_type": "stream",
     "text": [
      "6884\n"
     ]
    }
   ],
   "source": [
    "combs = chain(*map(lambda x: combinations(idc2, x), range(1, 6)))\n",
    "print(len(list(combs)))"
   ]
  },
  {
   "cell_type": "code",
   "execution_count": 13,
   "metadata": {},
   "outputs": [
    {
     "data": {
      "application/vnd.jupyter.widget-view+json": {
       "model_id": "6f1aab24bdff4fb0b7985139f01a1742",
       "version_major": 2,
       "version_minor": 0
      },
      "text/plain": [
       "  0%|          | 0/6884 [00:00<?, ?it/s]"
      ]
     },
     "metadata": {},
     "output_type": "display_data"
    }
   ],
   "source": [
    "rarr=[]\n",
    "\n",
    "combs = chain(*map(lambda x: combinations(idc2, x), range(1, 6)))\n",
    "\n",
    "for i, c in tqdm(enumerate(combs), total=6884):\n",
    "    selected_features = list(c)\n",
    "    X_selected = X.iloc[:, selected_features]\n",
    "\n",
    "    # Stratified KFold\n",
    "    skf = StratifiedKFold(n_splits=5, shuffle=True)\n",
    "    accuracies = []\n",
    "    scores = []\n",
    "\n",
    "    for train_index, test_index in skf.split(X_selected, y):\n",
    "        X_train, X_test = X_selected.iloc[train_index], X_selected.iloc[test_index]\n",
    "        y_train, y_test = y.iloc[train_index], y.iloc[test_index]\n",
    "\n",
    "        y_train = y_train.to_numpy().flatten()\n",
    "        y_test = y_test.to_numpy().flatten()\n",
    "\n",
    "        X_train = X_train.to_numpy()\n",
    "        X_test = X_test.to_numpy()\n",
    "\n",
    "        # Standardize the data\n",
    "        scaler = StandardScaler()\n",
    "        X_train = scaler.fit_transform(X_train)\n",
    "        X_test = scaler.transform(X_test)\n",
    "\n",
    "        for model in [GaussianNB()]:\n",
    "\n",
    "            model.fit(X_train, y_train)\n",
    "\n",
    "            y_pred = model.predict(X_test)\n",
    "            accuracy = balanced_accuracy_score(y_test, y_pred)\n",
    "            score = scoring_function(model, X_test, y_test)\n",
    "\n",
    "            rarr.append({'i': i, 'accuracy': accuracy, 'score': score,\n",
    "                         'extra': str(selected_features), 'model':model.__class__.__name__})"
   ]
  },
  {
   "cell_type": "code",
   "execution_count": 14,
   "metadata": {},
   "outputs": [
    {
     "data": {
      "text/plain": [
       "extra\n",
       "[101, 102, 103, 105]    6990.0\n",
       "[101, 102, 103]         6950.0\n",
       "[102, 103, 105]         6940.0\n",
       "[100, 102, 103]         6930.0\n",
       "[102, 103, 104, 105]    6930.0\n",
       "[101, 102, 105]         6930.0\n",
       "[100, 101, 102, 103]    6890.0\n",
       "[100, 102, 105]         6880.0\n",
       "[100, 101, 102, 105]    6870.0\n",
       "[100, 101, 103, 104]    6870.0\n",
       "Name: score, dtype: float64"
      ]
     },
     "execution_count": 14,
     "metadata": {},
     "output_type": "execute_result"
    }
   ],
   "source": [
    "resdf = pd.DataFrame(rarr, columns=['i', 'extra', 'accuracy', 'score'])\n",
    "resdf.groupby('extra').mean()['score'].sort_values(ascending=False)[:10]"
   ]
  },
  {
   "cell_type": "markdown",
   "metadata": {},
   "source": [
    "## XGBClassifier feature importance"
   ]
  },
  {
   "cell_type": "code",
   "execution_count": 15,
   "metadata": {},
   "outputs": [],
   "source": [
    "idc2 = [100, 101, 102, 103, 104, 105, 0, 285, 391, 182]"
   ]
  },
  {
   "cell_type": "code",
   "execution_count": 17,
   "metadata": {},
   "outputs": [
    {
     "name": "stdout",
     "output_type": "stream",
     "text": [
      "637\n"
     ]
    }
   ],
   "source": [
    "combs = chain(*map(lambda x: combinations(idc2, x), range(1, 6)))\n",
    "print(len(list(combs)))"
   ]
  },
  {
   "cell_type": "code",
   "execution_count": 18,
   "metadata": {},
   "outputs": [
    {
     "data": {
      "application/vnd.jupyter.widget-view+json": {
       "model_id": "f349e28195584ad38aea6e1882caccb7",
       "version_major": 2,
       "version_minor": 0
      },
      "text/plain": [
       "  0%|          | 0/637 [00:00<?, ?it/s]"
      ]
     },
     "metadata": {},
     "output_type": "display_data"
    }
   ],
   "source": [
    "rarr=[]\n",
    "\n",
    "combs = chain(*map(lambda x: combinations(idc2, x), range(1, 6)))\n",
    "\n",
    "for i, c in tqdm(enumerate(combs), total=637):\n",
    "    selected_features = list(c)\n",
    "    X_selected = X.iloc[:, selected_features]\n",
    "\n",
    "    # Stratified KFold\n",
    "    skf = StratifiedKFold(n_splits=5, shuffle=True)\n",
    "    accuracies = []\n",
    "    scores = []\n",
    "\n",
    "    for train_index, test_index in skf.split(X_selected, y):\n",
    "        X_train, X_test = X_selected.iloc[train_index], X_selected.iloc[test_index]\n",
    "        y_train, y_test = y.iloc[train_index], y.iloc[test_index]\n",
    "\n",
    "        y_train = y_train.to_numpy().flatten()\n",
    "        y_test = y_test.to_numpy().flatten()\n",
    "\n",
    "        X_train = X_train.to_numpy()\n",
    "        X_test = X_test.to_numpy()\n",
    "\n",
    "        # Standardize the data\n",
    "        scaler = StandardScaler()\n",
    "        X_train = scaler.fit_transform(X_train)\n",
    "        X_test = scaler.transform(X_test)\n",
    "\n",
    "        for model in [GaussianNB()]:\n",
    "\n",
    "            model.fit(X_train, y_train)\n",
    "\n",
    "            y_pred = model.predict(X_test)\n",
    "            accuracy = balanced_accuracy_score(y_test, y_pred)\n",
    "            score = scoring_function(model, X_test, y_test)\n",
    "\n",
    "            rarr.append({'i': i, 'accuracy': accuracy, 'score': score,\n",
    "                         'extra': str(selected_features), 'model':model.__class__.__name__})"
   ]
  },
  {
   "cell_type": "code",
   "execution_count": 19,
   "metadata": {},
   "outputs": [
    {
     "data": {
      "text/plain": [
       "extra\n",
       "[101, 102, 103, 105]    7090.0\n",
       "[102, 103, 105]         7000.0\n",
       "[101, 102, 105]         6970.0\n",
       "[101, 102, 103]         6950.0\n",
       "[100, 102, 103, 105]    6930.0\n",
       "[100, 102, 103]         6920.0\n",
       "[100, 102, 105]         6910.0\n",
       "[100, 101, 102, 103]    6890.0\n",
       "[102, 103, 104, 105]    6880.0\n",
       "[102, 104, 105]         6870.0\n",
       "Name: score, dtype: float64"
      ]
     },
     "execution_count": 19,
     "metadata": {},
     "output_type": "execute_result"
    }
   ],
   "source": [
    "resdf = pd.DataFrame(rarr, columns=['i', 'extra', 'accuracy', 'score'])\n",
    "resdf.groupby('extra').mean()['score'].sort_values(ascending=False)[:10]"
   ]
  },
  {
   "cell_type": "markdown",
   "metadata": {},
   "source": [
    "## Boruta + SequenceFeatureSelector"
   ]
  },
  {
   "cell_type": "code",
   "execution_count": 20,
   "metadata": {},
   "outputs": [],
   "source": [
    "idc2 = [101, 403, 285, 155, 337, 471, 412, 131, 241, 335]"
   ]
  },
  {
   "cell_type": "code",
   "execution_count": 21,
   "metadata": {},
   "outputs": [
    {
     "name": "stdout",
     "output_type": "stream",
     "text": [
      "637\n"
     ]
    }
   ],
   "source": [
    "combs = chain(*map(lambda x: combinations(idc2, x), range(1, 6)))\n",
    "print(len(list(combs)))"
   ]
  },
  {
   "cell_type": "code",
   "execution_count": 22,
   "metadata": {},
   "outputs": [
    {
     "data": {
      "application/vnd.jupyter.widget-view+json": {
       "model_id": "6b745e2bb0d54cf185bccb170a9ee78c",
       "version_major": 2,
       "version_minor": 0
      },
      "text/plain": [
       "  0%|          | 0/637 [00:00<?, ?it/s]"
      ]
     },
     "metadata": {},
     "output_type": "display_data"
    }
   ],
   "source": [
    "rarr=[]\n",
    "\n",
    "combs = chain(*map(lambda x: combinations(idc2, x), range(1, 6)))\n",
    "\n",
    "for i, c in tqdm(enumerate(combs), total=637):\n",
    "    selected_features = list(c)\n",
    "    X_selected = X.iloc[:, selected_features]\n",
    "\n",
    "    # Stratified KFold\n",
    "    skf = StratifiedKFold(n_splits=5, shuffle=True)\n",
    "    accuracies = []\n",
    "    scores = []\n",
    "\n",
    "    for train_index, test_index in skf.split(X_selected, y):\n",
    "        X_train, X_test = X_selected.iloc[train_index], X_selected.iloc[test_index]\n",
    "        y_train, y_test = y.iloc[train_index], y.iloc[test_index]\n",
    "\n",
    "        y_train = y_train.to_numpy().flatten()\n",
    "        y_test = y_test.to_numpy().flatten()\n",
    "\n",
    "        X_train = X_train.to_numpy()\n",
    "        X_test = X_test.to_numpy()\n",
    "\n",
    "        # Standardize the data\n",
    "        scaler = StandardScaler()\n",
    "        X_train = scaler.fit_transform(X_train)\n",
    "        X_test = scaler.transform(X_test)\n",
    "\n",
    "        for model in [GaussianNB()]:\n",
    "\n",
    "            model.fit(X_train, y_train)\n",
    "\n",
    "            y_pred = model.predict(X_test)\n",
    "            accuracy = balanced_accuracy_score(y_test, y_pred)\n",
    "            score = scoring_function(model, X_test, y_test)\n",
    "\n",
    "            rarr.append({'i': i, 'accuracy': accuracy, 'score': score,\n",
    "                         'extra': str(selected_features), 'model':model.__class__.__name__})"
   ]
  },
  {
   "cell_type": "code",
   "execution_count": 23,
   "metadata": {},
   "outputs": [
    {
     "data": {
      "text/plain": [
       "extra\n",
       "[101]              6220.0\n",
       "[101, 155]         6130.0\n",
       "[101, 335]         6080.0\n",
       "[101, 471]         6070.0\n",
       "[101, 285]         6040.0\n",
       "[101, 241]         6020.0\n",
       "[101, 131]         6010.0\n",
       "[101, 337]         6000.0\n",
       "[101, 285, 337]    5990.0\n",
       "[101, 155, 337]    5970.0\n",
       "Name: score, dtype: float64"
      ]
     },
     "execution_count": 23,
     "metadata": {},
     "output_type": "execute_result"
    }
   ],
   "source": [
    "resdf = pd.DataFrame(rarr, columns=['i', 'extra', 'accuracy', 'score'])\n",
    "resdf.groupby('extra').mean()['score'].sort_values(ascending=False)[:10]"
   ]
  },
  {
   "cell_type": "markdown",
   "metadata": {},
   "source": [
    "## Boruta + RecursiveFeatureElimination"
   ]
  },
  {
   "cell_type": "code",
   "execution_count": 25,
   "metadata": {},
   "outputs": [],
   "source": [
    "idc2 = [458, 131, 215, 316, 63, 360, 328, 133, 75, 412]"
   ]
  },
  {
   "cell_type": "code",
   "execution_count": 26,
   "metadata": {},
   "outputs": [
    {
     "name": "stdout",
     "output_type": "stream",
     "text": [
      "637\n"
     ]
    }
   ],
   "source": [
    "combs = chain(*map(lambda x: combinations(idc2, x), range(1, 6)))\n",
    "print(len(list(combs)))"
   ]
  },
  {
   "cell_type": "code",
   "execution_count": 27,
   "metadata": {},
   "outputs": [
    {
     "data": {
      "application/vnd.jupyter.widget-view+json": {
       "model_id": "3ed251c739cd4fe882c29dd67f26c958",
       "version_major": 2,
       "version_minor": 0
      },
      "text/plain": [
       "  0%|          | 0/637 [00:00<?, ?it/s]"
      ]
     },
     "metadata": {},
     "output_type": "display_data"
    }
   ],
   "source": [
    "rarr=[]\n",
    "\n",
    "combs = chain(*map(lambda x: combinations(idc2, x), range(1, 6)))\n",
    "\n",
    "for i, c in tqdm(enumerate(combs), total=637):\n",
    "    selected_features = list(c)\n",
    "    X_selected = X.iloc[:, selected_features]\n",
    "\n",
    "    # Stratified KFold\n",
    "    skf = StratifiedKFold(n_splits=5, shuffle=True)\n",
    "    accuracies = []\n",
    "    scores = []\n",
    "\n",
    "    for train_index, test_index in skf.split(X_selected, y):\n",
    "        X_train, X_test = X_selected.iloc[train_index], X_selected.iloc[test_index]\n",
    "        y_train, y_test = y.iloc[train_index], y.iloc[test_index]\n",
    "\n",
    "        y_train = y_train.to_numpy().flatten()\n",
    "        y_test = y_test.to_numpy().flatten()\n",
    "\n",
    "        X_train = X_train.to_numpy()\n",
    "        X_test = X_test.to_numpy()\n",
    "\n",
    "        # Standardize the data\n",
    "        scaler = StandardScaler()\n",
    "        X_train = scaler.fit_transform(X_train)\n",
    "        X_test = scaler.transform(X_test)\n",
    "\n",
    "        for model in [GaussianNB()]:\n",
    "\n",
    "            model.fit(X_train, y_train)\n",
    "\n",
    "            y_pred = model.predict(X_test)\n",
    "            accuracy = balanced_accuracy_score(y_test, y_pred)\n",
    "            score = scoring_function(model, X_test, y_test)\n",
    "\n",
    "            rarr.append({'i': i, 'accuracy': accuracy, 'score': score,\n",
    "                         'extra': str(selected_features), 'model':model.__class__.__name__})"
   ]
  },
  {
   "cell_type": "code",
   "execution_count": 28,
   "metadata": {},
   "outputs": [
    {
     "data": {
      "text/plain": [
       "extra\n",
       "[412]         5090.0\n",
       "[360]         5070.0\n",
       "[215]         5070.0\n",
       "[328]         5030.0\n",
       "[316, 328]    5030.0\n",
       "[458, 412]    5010.0\n",
       "[75]          5000.0\n",
       "[458, 360]    4970.0\n",
       "[75, 412]     4960.0\n",
       "[316, 412]    4950.0\n",
       "Name: score, dtype: float64"
      ]
     },
     "execution_count": 28,
     "metadata": {},
     "output_type": "execute_result"
    }
   ],
   "source": [
    "resdf = pd.DataFrame(rarr, columns=['i', 'extra', 'accuracy', 'score'])\n",
    "resdf.groupby('extra').mean()['score'].sort_values(ascending=False)[:10]"
   ]
  },
  {
   "cell_type": "markdown",
   "metadata": {},
   "source": [
    "## Boruta + Mutual Info score"
   ]
  },
  {
   "cell_type": "code",
   "execution_count": 29,
   "metadata": {},
   "outputs": [],
   "source": [
    "idc2 = [101, 296, 328, 103, 412, 105,   0, 131, 351, 323]"
   ]
  },
  {
   "cell_type": "code",
   "execution_count": 30,
   "metadata": {},
   "outputs": [
    {
     "name": "stdout",
     "output_type": "stream",
     "text": [
      "637\n"
     ]
    }
   ],
   "source": [
    "combs = chain(*map(lambda x: combinations(idc2, x), range(1, 6)))\n",
    "print(len(list(combs)))"
   ]
  },
  {
   "cell_type": "code",
   "execution_count": 31,
   "metadata": {},
   "outputs": [
    {
     "data": {
      "application/vnd.jupyter.widget-view+json": {
       "model_id": "4a6ce7ea48f647cbbecb977ae2db5971",
       "version_major": 2,
       "version_minor": 0
      },
      "text/plain": [
       "  0%|          | 0/637 [00:00<?, ?it/s]"
      ]
     },
     "metadata": {},
     "output_type": "display_data"
    }
   ],
   "source": [
    "rarr=[]\n",
    "\n",
    "combs = chain(*map(lambda x: combinations(idc2, x), range(1, 6)))\n",
    "\n",
    "for i, c in tqdm(enumerate(combs), total=637):\n",
    "    selected_features = list(c)\n",
    "    X_selected = X.iloc[:, selected_features]\n",
    "\n",
    "    # Stratified KFold\n",
    "    skf = StratifiedKFold(n_splits=5, shuffle=True)\n",
    "    accuracies = []\n",
    "    scores = []\n",
    "\n",
    "    for train_index, test_index in skf.split(X_selected, y):\n",
    "        X_train, X_test = X_selected.iloc[train_index], X_selected.iloc[test_index]\n",
    "        y_train, y_test = y.iloc[train_index], y.iloc[test_index]\n",
    "\n",
    "        y_train = y_train.to_numpy().flatten()\n",
    "        y_test = y_test.to_numpy().flatten()\n",
    "\n",
    "        X_train = X_train.to_numpy()\n",
    "        X_test = X_test.to_numpy()\n",
    "\n",
    "        # Standardize the data\n",
    "        scaler = StandardScaler()\n",
    "        X_train = scaler.fit_transform(X_train)\n",
    "        X_test = scaler.transform(X_test)\n",
    "\n",
    "        for model in [GaussianNB()]:\n",
    "\n",
    "            model.fit(X_train, y_train)\n",
    "\n",
    "            y_pred = model.predict(X_test)\n",
    "            accuracy = balanced_accuracy_score(y_test, y_pred)\n",
    "            score = scoring_function(model, X_test, y_test)\n",
    "\n",
    "            rarr.append({'i': i, 'accuracy': accuracy, 'score': score,\n",
    "                         'extra': str(selected_features), 'model':model.__class__.__name__})"
   ]
  },
  {
   "cell_type": "code",
   "execution_count": 32,
   "metadata": {},
   "outputs": [
    {
     "data": {
      "text/plain": [
       "extra\n",
       "[101, 103, 105]         6740.0\n",
       "[101, 105]              6670.0\n",
       "[101, 296, 103, 105]    6620.0\n",
       "[101, 103, 105, 351]    6610.0\n",
       "[101, 103, 105, 323]    6600.0\n",
       "[103, 105]              6600.0\n",
       "[101, 103, 105, 0]      6600.0\n",
       "[101, 103]              6600.0\n",
       "[101, 328, 103, 105]    6590.0\n",
       "[101, 103, 412, 105]    6530.0\n",
       "Name: score, dtype: float64"
      ]
     },
     "execution_count": 32,
     "metadata": {},
     "output_type": "execute_result"
    }
   ],
   "source": [
    "resdf = pd.DataFrame(rarr, columns=['i', 'extra', 'accuracy', 'score'])\n",
    "resdf.groupby('extra').mean()['score'].sort_values(ascending=False)[:10]"
   ]
  },
  {
   "cell_type": "code",
   "execution_count": null,
   "metadata": {},
   "outputs": [],
   "source": []
  }
 ],
 "metadata": {
  "kernelspec": {
   "display_name": "venv",
   "language": "python",
   "name": "python3"
  },
  "language_info": {
   "codemirror_mode": {
    "name": "ipython",
    "version": 3
   },
   "file_extension": ".py",
   "mimetype": "text/x-python",
   "name": "python",
   "nbconvert_exporter": "python",
   "pygments_lexer": "ipython3",
   "version": "3.11.6"
  }
 },
 "nbformat": 4,
 "nbformat_minor": 2
}
