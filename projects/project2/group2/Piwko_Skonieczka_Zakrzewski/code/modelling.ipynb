{
 "cells": [
  {
   "cell_type": "code",
   "execution_count": 10,
   "metadata": {},
   "outputs": [],
   "source": [
    "import matplotlib.pyplot as plt\n",
    "import numpy as np\n",
    "import pandas as pd\n",
    "import seaborn as sns\n",
    "from sklearn.ensemble import RandomForestClassifier, AdaBoostClassifier\n",
    "from sklearn.metrics import mutual_info_score\n",
    "from sklearn.model_selection import GridSearchCV, StratifiedKFold\n",
    "from sklearn.pipeline import Pipeline\n",
    "from sklearn.preprocessing import StandardScaler\n",
    "from sklearn.metrics import accuracy_score, recall_score, precision_score\n",
    "from sklearn.model_selection import train_test_split\n",
    "from sklearn.neural_network import MLPClassifier\n",
    "from sklearn.svm import SVC\n",
    "from sklearn.gaussian_process import GaussianProcessClassifier\n",
    "from sklearn.gaussian_process.kernels import RBF\n",
    "from sklearn.discriminant_analysis import QuadraticDiscriminantAnalysis\n",
    "from xgboost import XGBClassifier\n",
    "from sklearn.naive_bayes import GaussianNB\n",
    "from sklearn.neighbors import KNeighborsClassifier\n",
    "from sklearn.linear_model import LogisticRegression\n",
    "from sklearn.ensemble import ExtraTreesClassifier\n",
    "\n",
    "\n",
    "import random\n",
    "random.seed(42)\n",
    "np.random.seed(42)"
   ]
  },
  {
   "cell_type": "code",
   "execution_count": 2,
   "metadata": {},
   "outputs": [],
   "source": [
    "X = pd.read_csv(\"data/x_train.txt\", header=None, sep=\" \")\n",
    "y = pd.read_csv(\"data/y_train.txt\", header=None)[0]"
   ]
  },
  {
   "cell_type": "code",
   "execution_count": 3,
   "metadata": {},
   "outputs": [],
   "source": [
    "best_features = [105, 101, 100, 102, 8, 104, 103, 5, 3, 4, 2, 6]"
   ]
  },
  {
   "cell_type": "code",
   "execution_count": 4,
   "metadata": {},
   "outputs": [],
   "source": [
    "X_train, X_test, y_train, y_test = train_test_split(X, y, test_size=0.2, random_state=42)"
   ]
  },
  {
   "cell_type": "code",
   "execution_count": 5,
   "metadata": {},
   "outputs": [],
   "source": [
    "def custom_cost_function(features, y_test, y_pred):\n",
    "    posit_count_true = np.sum(y==1)\n",
    "    precision = precision_score(y_test, y_pred)\n",
    "    numb_of_features = len(features)\n",
    "    return 10*posit_count_true*precision - 200*numb_of_features"
   ]
  },
  {
   "cell_type": "code",
   "execution_count": 11,
   "metadata": {},
   "outputs": [],
   "source": [
    "def get_classfier_param_grid(code, best_params={}):\n",
    "    if code == 'rf':\n",
    "        return Pipeline(\n",
    "            [\n",
    "                (\"scaler\", StandardScaler()),\n",
    "                (\"rf\", RandomForestClassifier(n_estimators=50, random_state=0, **best_params)),\n",
    "            ]), {\n",
    "            \"rf__max_depth\": [2, 4, 6],\n",
    "            \"rf__min_samples_split\": [2, 4, 6],\n",
    "            \"rf__min_samples_leaf\": [2, 5, 10,],\n",
    "            \"rf__max_features\": [\"sqrt\", \"log2\"],\n",
    "            },\n",
    "\n",
    "    elif code == 'mlp':\n",
    "        return Pipeline(\n",
    "            [\n",
    "                (\"scaler\", StandardScaler()),\n",
    "                (\"mlp\", MLPClassifier(early_stopping=True, tol=0.005, n_iter_no_change=8, **best_params)),\n",
    "            ]), {\n",
    "        'mlp__hidden_layer_sizes': [(50,50,50), (50,100,50), (100,)],\n",
    "        'mlp__activation': ['tanh', 'relu'],\n",
    "        'mlp__solver': ['sgd', 'adam'],\n",
    "        'mlp__alpha': [0.0001, 0.05],\n",
    "        'mlp__learning_rate': ['constant','adaptive']}\n",
    "    \n",
    "    \n",
    "    elif code == 'svm':\n",
    "        return Pipeline(\n",
    "            [\n",
    "                (\"scaler\", StandardScaler()),\n",
    "                (\"svm\", SVC(random_state=0, **best_params)),\n",
    "            ]),{\n",
    "            \"svm__C\": [0.1, 1, 10],\n",
    "            \"svm__kernel\": [\"linear\", \"poly\", \"rbf\", \"sigmoid\"],\n",
    "            \"svm__gamma\": [\"scale\", \"auto\"],\n",
    "        },\n",
    "\n",
    "\n",
    "    elif code == 'gp':\n",
    "        return Pipeline(\n",
    "            [\n",
    "                (\"scaler\", StandardScaler()),\n",
    "                (\"gpc\", GaussianProcessClassifier(kernel=RBF(1.0))),\n",
    "            ]\n",
    "        ), {}\n",
    "    \n",
    "\n",
    "    elif code == 'qda':\n",
    "        return Pipeline(\n",
    "            [\n",
    "                (\"scaler\", StandardScaler()),\n",
    "                (\"qda\", QuadraticDiscriminantAnalysis()),\n",
    "            ]\n",
    "        ), {}\n",
    "    \n",
    "\n",
    "    elif code == 'xgb':\n",
    "        return Pipeline(\n",
    "            [\n",
    "                (\"scaler\", StandardScaler()),\n",
    "                (\"xgb\", XGBClassifier(random_state=0, use_label_encoder=False, **best_params)),\n",
    "            ]),{\n",
    "            \"xgb__n_estimators\": [100, 200, 300],\n",
    "            \"xgb__max_depth\": [3, 4, 5],\n",
    "            \"xgb__learning_rate\": [0.01, 0.1, 0.3],\n",
    "            \"xgb__subsample\": [0.8, 1.0],\n",
    "        }\n",
    "    \n",
    "    \n",
    "    elif code == 'nb':\n",
    "        return Pipeline(\n",
    "            [\n",
    "                (\"scaler\", StandardScaler()),\n",
    "                (\"nb\", GaussianNB())\n",
    "            ]), {\n",
    "            \"nb__var_smoothing\": [1e-9, 1e-8, 1e-7]\n",
    "        }\n",
    "    \n",
    "    elif code == 'knn':\n",
    "        return Pipeline(\n",
    "            [\n",
    "                (\"scaler\", StandardScaler()),\n",
    "                (\"knn\", KNeighborsClassifier())\n",
    "            ]), {\n",
    "            \"knn__n_neighbors\": [3, 5, 7, 9],\n",
    "            \"knn__weights\": [\"uniform\", \"distance\"],\n",
    "            \"knn__p\": [1, 2]\n",
    "        }\n",
    "    \n",
    "    elif code == 'ada':\n",
    "        return Pipeline([\n",
    "                (\"scaler\", StandardScaler()),\n",
    "                (\"ada\", AdaBoostClassifier())\n",
    "            ]), {\n",
    "            \"ada__n_estimators\": [50, 100, 200],\n",
    "            \"ada__learning_rate\": [0.1, 0.5, 1.0],\n",
    "            \"ada__algorithm\": [\"SAMME\", \"SAMME.R\"]\n",
    "        }\n",
    "    elif code == 'lr':\n",
    "        return Pipeline([\n",
    "                (\"scaler\", StandardScaler()),\n",
    "                (\"lr\", LogisticRegression())\n",
    "            ]), {\n",
    "            \"lr__C\": [0.001, 0.01, 0.1, 1.0],\n",
    "            \"lr__penalty\": [\"l1\", \"l2\"],\n",
    "            \"lr__solver\": [\"liblinear\", \"saga\"]\n",
    "        }\n",
    "\n",
    "    elif code == 'ert':\n",
    "        return Pipeline([\n",
    "                (\"scaler\", StandardScaler()),\n",
    "                (\"ert\", ExtraTreesClassifier(n_estimators=50))\n",
    "            ]), {\n",
    "            \"ert__max_depth\": [None, 10, 20],\n",
    "            \"ert__min_samples_split\": [2, 5, 10],\n",
    "            \"ert__min_samples_leaf\": [1, 2, 4],\n",
    "            \"ert__max_features\": [\"sqrt\", \"log2\"]\n",
    "        }\n",
    "    else:\n",
    "        raise Exception('Code not recognizible')\n",
    "    \n"
   ]
  },
  {
   "cell_type": "code",
   "execution_count": 35,
   "metadata": {},
   "outputs": [],
   "source": [
    "def fit_grid_search(X, y, clf_code):\n",
    "    clf, param_grid = get_classfier_param_grid(clf_code)\n",
    "    return GridSearchCV(\n",
    "        estimator=clf,\n",
    "        param_grid=param_grid,\n",
    "        scoring=\"accuracy\",\n",
    "        cv=StratifiedKFold(n_splits=4, shuffle=True, random_state=0),\n",
    "        n_jobs=-1,\n",
    "    ).fit(X=X, y=y)"
   ]
  },
  {
   "cell_type": "code",
   "execution_count": 36,
   "metadata": {},
   "outputs": [],
   "source": [
    "model_codes = ['rf', 'mlp', 'svm', 'gp', 'qda', 'xgb', 'nb', 'knn', 'ada', 'lr', 'ert']"
   ]
  },
  {
   "cell_type": "code",
   "execution_count": 37,
   "metadata": {},
   "outputs": [],
   "source": [
    "column_names = ['Model', 'hyperparameters', 'Features', 'Accuracy', 'Precision', 'Recall', 'Profit']\n",
    "model_library = pd.DataFrame(columns=column_names)"
   ]
  },
  {
   "cell_type": "code",
   "execution_count": 21,
   "metadata": {},
   "outputs": [],
   "source": [
    "def rename_hyperparameters(params, code):\n",
    "    new_params = {}\n",
    "    for key, val in params.items():\n",
    "        new_key = key.replace(f'{code}__', '') \n",
    "        new_params[new_key] = val\n",
    "    return new_params"
   ]
  },
  {
   "cell_type": "code",
   "execution_count": 20,
   "metadata": {},
   "outputs": [
    {
     "ename": "NameError",
     "evalue": "name 'rename_hyperparameters' is not defined",
     "output_type": "error",
     "traceback": [
      "\u001b[1;31m---------------------------------------------------------------------------\u001b[0m",
      "\u001b[1;31mNameError\u001b[0m                                 Traceback (most recent call last)",
      "\u001b[1;32m<ipython-input-20-fe3ff8eff8ad>\u001b[0m in \u001b[0;36m<module>\u001b[1;34m\u001b[0m\n\u001b[1;32m----> 1\u001b[1;33m \u001b[0mrename_hyperparameters\u001b[0m\u001b[1;33m(\u001b[0m\u001b[0mmodel_library\u001b[0m\u001b[1;33m.\u001b[0m\u001b[0mloc\u001b[0m\u001b[1;33m[\u001b[0m\u001b[1;36m0\u001b[0m\u001b[1;33m]\u001b[0m\u001b[1;33m.\u001b[0m\u001b[0mModel\u001b[0m\u001b[1;33m,\u001b[0m \u001b[0mmodel_library\u001b[0m\u001b[1;33m.\u001b[0m\u001b[0mloc\u001b[0m\u001b[1;33m[\u001b[0m\u001b[1;36m0\u001b[0m\u001b[1;33m]\u001b[0m\u001b[1;33m.\u001b[0m\u001b[0mhyperparameters\u001b[0m\u001b[1;33m)\u001b[0m\u001b[1;33m\u001b[0m\u001b[1;33m\u001b[0m\u001b[0m\n\u001b[0m",
      "\u001b[1;31mNameError\u001b[0m: name 'rename_hyperparameters' is not defined"
     ]
    }
   ],
   "source": [
    "rename_hyperparameters(model_library.loc[0].Model, model_library.loc[0].hyperparameters)"
   ]
  },
  {
   "cell_type": "code",
   "execution_count": 18,
   "metadata": {},
   "outputs": [
    {
     "data": {
      "text/plain": [
       "[1, 5, 4, 8]"
      ]
     },
     "execution_count": 18,
     "metadata": {},
     "output_type": "execute_result"
    }
   ],
   "source": [
    "list(np.random.choice(len(model_codes), 4, replace=False))"
   ]
  },
  {
   "cell_type": "code",
   "execution_count": 38,
   "metadata": {},
   "outputs": [],
   "source": [
    "umb_of_feat = np.random.randint(2, 8)\n",
    "features_inds = np.random.choice(len(best_features), numb_of_feat, replace=False)\n",
    "features = [best_features[i] for i in features_inds]"
   ]
  },
  {
   "cell_type": "code",
   "execution_count": null,
   "metadata": {},
   "outputs": [],
   "source": [
    "# for i in range(100):\n",
    "#     print(i)\n",
    "#     numb_of_feat = np.random.randint(2, 8)\n",
    "#     features_inds = np.random.choice(len(best_features), numb_of_feat, replace=False)\n",
    "#     features = [best_features[i] for i in features_inds]   \n",
    "\n",
    "#     model_indeces = list(np.random.choice(len(model_codes), 4, replace=False))\n",
    "#     for ind in model_indeces:\n",
    "#        code = model_codes[ind]\n",
    "#        print(f\"Features: {features}, Model: {code}\")\n",
    "#        clf = fit_grid_search(X_train[features], y_train, code)\n",
    "#        y_pred = clf.predict(X_test[features])\n",
    "#        row = [code, rename_hyperparameters(clf.best_params_, code), features,\n",
    "#               accuracy_score(y_test, y_pred),\n",
    "#               precision_score(y_test, y_pred),\n",
    "#               recall_score(y_test, y_pred),\n",
    "#               custom_cost_function(features, y_test, y_pred)]\n",
    "#        model_library.loc[len(model_library)] = row\n"
   ]
  },
  {
   "cell_type": "code",
   "execution_count": 103,
   "metadata": {},
   "outputs": [],
   "source": [
    "model_library.to_csv('model_library.csv', index=False)"
   ]
  },
  {
   "cell_type": "code",
   "execution_count": 105,
   "metadata": {},
   "outputs": [
    {
     "data": {
      "text/html": [
       "<div>\n",
       "<style scoped>\n",
       "    .dataframe tbody tr th:only-of-type {\n",
       "        vertical-align: middle;\n",
       "    }\n",
       "\n",
       "    .dataframe tbody tr th {\n",
       "        vertical-align: top;\n",
       "    }\n",
       "\n",
       "    .dataframe thead th {\n",
       "        text-align: right;\n",
       "    }\n",
       "</style>\n",
       "<table border=\"1\" class=\"dataframe\">\n",
       "  <thead>\n",
       "    <tr style=\"text-align: right;\">\n",
       "      <th></th>\n",
       "      <th>Model</th>\n",
       "      <th>hyperparameters</th>\n",
       "      <th>Features</th>\n",
       "      <th>Accuracy</th>\n",
       "      <th>Precision</th>\n",
       "      <th>Recall</th>\n",
       "      <th>Profit</th>\n",
       "    </tr>\n",
       "  </thead>\n",
       "  <tbody>\n",
       "    <tr>\n",
       "      <th>0</th>\n",
       "      <td>qda</td>\n",
       "      <td>{}</td>\n",
       "      <td>[102, 4, 3, 101]</td>\n",
       "      <td>0.607</td>\n",
       "      <td>0.633411</td>\n",
       "      <td>0.537402</td>\n",
       "      <td>15009.930394</td>\n",
       "    </tr>\n",
       "    <tr>\n",
       "      <th>1</th>\n",
       "      <td>mlp</td>\n",
       "      <td>{'activation': 'relu', 'alpha': 0.05, 'hidden_...</td>\n",
       "      <td>[102, 4, 3, 101]</td>\n",
       "      <td>0.612</td>\n",
       "      <td>0.627119</td>\n",
       "      <td>0.582677</td>\n",
       "      <td>14852.881356</td>\n",
       "    </tr>\n",
       "    <tr>\n",
       "      <th>2</th>\n",
       "      <td>svm</td>\n",
       "      <td>{'C': 1, 'gamma': 'scale', 'kernel': 'rbf'}</td>\n",
       "      <td>[102, 4, 3, 101]</td>\n",
       "      <td>0.617</td>\n",
       "      <td>0.645012</td>\n",
       "      <td>0.547244</td>\n",
       "      <td>15299.489559</td>\n",
       "    </tr>\n",
       "    <tr>\n",
       "      <th>3</th>\n",
       "      <td>nb</td>\n",
       "      <td>{'var_smoothing': 1e-09}</td>\n",
       "      <td>[102, 4, 3, 101]</td>\n",
       "      <td>0.607</td>\n",
       "      <td>0.644836</td>\n",
       "      <td>0.503937</td>\n",
       "      <td>15295.113350</td>\n",
       "    </tr>\n",
       "    <tr>\n",
       "      <th>4</th>\n",
       "      <td>svm</td>\n",
       "      <td>{'C': 1, 'gamma': 'scale', 'kernel': 'rbf'}</td>\n",
       "      <td>[5, 4, 3]</td>\n",
       "      <td>0.588</td>\n",
       "      <td>0.607143</td>\n",
       "      <td>0.535433</td>\n",
       "      <td>14554.285714</td>\n",
       "    </tr>\n",
       "    <tr>\n",
       "      <th>...</th>\n",
       "      <td>...</td>\n",
       "      <td>...</td>\n",
       "      <td>...</td>\n",
       "      <td>...</td>\n",
       "      <td>...</td>\n",
       "      <td>...</td>\n",
       "      <td>...</td>\n",
       "    </tr>\n",
       "    <tr>\n",
       "      <th>395</th>\n",
       "      <td>lr</td>\n",
       "      <td>{'C': 0.1, 'penalty': 'l1', 'solver': 'saga'}</td>\n",
       "      <td>[2, 8, 3, 100, 105, 5, 101]</td>\n",
       "      <td>0.516</td>\n",
       "      <td>0.531414</td>\n",
       "      <td>0.399606</td>\n",
       "      <td>11864.083770</td>\n",
       "    </tr>\n",
       "    <tr>\n",
       "      <th>396</th>\n",
       "      <td>svm</td>\n",
       "      <td>{'C': 0.1, 'gamma': 'scale', 'kernel': 'rbf'}</td>\n",
       "      <td>[4, 103, 2, 104, 100]</td>\n",
       "      <td>0.650</td>\n",
       "      <td>0.659919</td>\n",
       "      <td>0.641732</td>\n",
       "      <td>15471.578947</td>\n",
       "    </tr>\n",
       "    <tr>\n",
       "      <th>397</th>\n",
       "      <td>gp</td>\n",
       "      <td>{}</td>\n",
       "      <td>[4, 103, 2, 104, 100]</td>\n",
       "      <td>0.665</td>\n",
       "      <td>0.679089</td>\n",
       "      <td>0.645669</td>\n",
       "      <td>15950.062112</td>\n",
       "    </tr>\n",
       "    <tr>\n",
       "      <th>398</th>\n",
       "      <td>knn</td>\n",
       "      <td>{'n_neighbors': 9, 'p': 1, 'weights': 'distance'}</td>\n",
       "      <td>[4, 103, 2, 104, 100]</td>\n",
       "      <td>0.599</td>\n",
       "      <td>0.614561</td>\n",
       "      <td>0.564961</td>\n",
       "      <td>14339.443255</td>\n",
       "    </tr>\n",
       "    <tr>\n",
       "      <th>399</th>\n",
       "      <td>nb</td>\n",
       "      <td>{'var_smoothing': 1e-09}</td>\n",
       "      <td>[4, 103, 2, 104, 100]</td>\n",
       "      <td>0.640</td>\n",
       "      <td>0.677885</td>\n",
       "      <td>0.555118</td>\n",
       "      <td>15920.000000</td>\n",
       "    </tr>\n",
       "  </tbody>\n",
       "</table>\n",
       "<p>400 rows × 7 columns</p>\n",
       "</div>"
      ],
      "text/plain": [
       "    Model                                    hyperparameters  \\\n",
       "0     qda                                                 {}   \n",
       "1     mlp  {'activation': 'relu', 'alpha': 0.05, 'hidden_...   \n",
       "2     svm        {'C': 1, 'gamma': 'scale', 'kernel': 'rbf'}   \n",
       "3      nb                           {'var_smoothing': 1e-09}   \n",
       "4     svm        {'C': 1, 'gamma': 'scale', 'kernel': 'rbf'}   \n",
       "..    ...                                                ...   \n",
       "395    lr      {'C': 0.1, 'penalty': 'l1', 'solver': 'saga'}   \n",
       "396   svm      {'C': 0.1, 'gamma': 'scale', 'kernel': 'rbf'}   \n",
       "397    gp                                                 {}   \n",
       "398   knn  {'n_neighbors': 9, 'p': 1, 'weights': 'distance'}   \n",
       "399    nb                           {'var_smoothing': 1e-09}   \n",
       "\n",
       "                        Features  Accuracy  Precision    Recall        Profit  \n",
       "0               [102, 4, 3, 101]     0.607   0.633411  0.537402  15009.930394  \n",
       "1               [102, 4, 3, 101]     0.612   0.627119  0.582677  14852.881356  \n",
       "2               [102, 4, 3, 101]     0.617   0.645012  0.547244  15299.489559  \n",
       "3               [102, 4, 3, 101]     0.607   0.644836  0.503937  15295.113350  \n",
       "4                      [5, 4, 3]     0.588   0.607143  0.535433  14554.285714  \n",
       "..                           ...       ...        ...       ...           ...  \n",
       "395  [2, 8, 3, 100, 105, 5, 101]     0.516   0.531414  0.399606  11864.083770  \n",
       "396        [4, 103, 2, 104, 100]     0.650   0.659919  0.641732  15471.578947  \n",
       "397        [4, 103, 2, 104, 100]     0.665   0.679089  0.645669  15950.062112  \n",
       "398        [4, 103, 2, 104, 100]     0.599   0.614561  0.564961  14339.443255  \n",
       "399        [4, 103, 2, 104, 100]     0.640   0.677885  0.555118  15920.000000  \n",
       "\n",
       "[400 rows x 7 columns]"
      ]
     },
     "execution_count": 105,
     "metadata": {},
     "output_type": "execute_result"
    }
   ],
   "source": [
    "cos"
   ]
  },
  {
   "cell_type": "code",
   "execution_count": 95,
   "metadata": {},
   "outputs": [
    {
     "data": {
      "text/html": [
       "<div>\n",
       "<style scoped>\n",
       "    .dataframe tbody tr th:only-of-type {\n",
       "        vertical-align: middle;\n",
       "    }\n",
       "\n",
       "    .dataframe tbody tr th {\n",
       "        vertical-align: top;\n",
       "    }\n",
       "\n",
       "    .dataframe thead th {\n",
       "        text-align: right;\n",
       "    }\n",
       "</style>\n",
       "<table border=\"1\" class=\"dataframe\">\n",
       "  <thead>\n",
       "    <tr style=\"text-align: right;\">\n",
       "      <th></th>\n",
       "      <th>Model</th>\n",
       "      <th>hyperparameters</th>\n",
       "      <th>Features</th>\n",
       "      <th>Accuracy</th>\n",
       "      <th>Precision</th>\n",
       "      <th>Recall</th>\n",
       "      <th>Profit</th>\n",
       "    </tr>\n",
       "  </thead>\n",
       "  <tbody>\n",
       "    <tr>\n",
       "      <th>102</th>\n",
       "      <td>qda</td>\n",
       "      <td>{}</td>\n",
       "      <td>[104, 4, 102, 2, 100, 103, 101]</td>\n",
       "      <td>0.722</td>\n",
       "      <td>0.745726</td>\n",
       "      <td>0.687008</td>\n",
       "      <td>17213.333333</td>\n",
       "    </tr>\n",
       "    <tr>\n",
       "      <th>51</th>\n",
       "      <td>nb</td>\n",
       "      <td>{'var_smoothing': 1e-09}</td>\n",
       "      <td>[8, 101, 100, 105]</td>\n",
       "      <td>0.658</td>\n",
       "      <td>0.706468</td>\n",
       "      <td>0.559055</td>\n",
       "      <td>16833.432836</td>\n",
       "    </tr>\n",
       "    <tr>\n",
       "      <th>114</th>\n",
       "      <td>qda</td>\n",
       "      <td>{}</td>\n",
       "      <td>[4, 2, 6, 102, 101, 5, 100]</td>\n",
       "      <td>0.697</td>\n",
       "      <td>0.729306</td>\n",
       "      <td>0.641732</td>\n",
       "      <td>16803.489933</td>\n",
       "    </tr>\n",
       "    <tr>\n",
       "      <th>214</th>\n",
       "      <td>qda</td>\n",
       "      <td>{}</td>\n",
       "      <td>[105, 2, 100, 6, 8, 3, 104]</td>\n",
       "      <td>0.686</td>\n",
       "      <td>0.728774</td>\n",
       "      <td>0.608268</td>\n",
       "      <td>16790.188679</td>\n",
       "    </tr>\n",
       "    <tr>\n",
       "      <th>50</th>\n",
       "      <td>mlp</td>\n",
       "      <td>{'activation': 'relu', 'alpha': 0.0001, 'hidde...</td>\n",
       "      <td>[8, 101, 100, 105]</td>\n",
       "      <td>0.673</td>\n",
       "      <td>0.702461</td>\n",
       "      <td>0.618110</td>\n",
       "      <td>16733.422819</td>\n",
       "    </tr>\n",
       "    <tr>\n",
       "      <th>389</th>\n",
       "      <td>qda</td>\n",
       "      <td>{}</td>\n",
       "      <td>[2, 100, 105, 8, 5, 103, 3]</td>\n",
       "      <td>0.690</td>\n",
       "      <td>0.725000</td>\n",
       "      <td>0.627953</td>\n",
       "      <td>16696.000000</td>\n",
       "    </tr>\n",
       "    <tr>\n",
       "      <th>149</th>\n",
       "      <td>gp</td>\n",
       "      <td>{}</td>\n",
       "      <td>[103, 100, 101, 2, 105]</td>\n",
       "      <td>0.692</td>\n",
       "      <td>0.707469</td>\n",
       "      <td>0.671260</td>\n",
       "      <td>16658.423237</td>\n",
       "    </tr>\n",
       "    <tr>\n",
       "      <th>373</th>\n",
       "      <td>rf</td>\n",
       "      <td>{'max_depth': 4, 'max_features': 'sqrt', 'min_...</td>\n",
       "      <td>[105, 104]</td>\n",
       "      <td>0.618</td>\n",
       "      <td>0.682081</td>\n",
       "      <td>0.464567</td>\n",
       "      <td>16624.739884</td>\n",
       "    </tr>\n",
       "    <tr>\n",
       "      <th>88</th>\n",
       "      <td>nb</td>\n",
       "      <td>{'var_smoothing': 1e-09}</td>\n",
       "      <td>[105, 102, 100]</td>\n",
       "      <td>0.650</td>\n",
       "      <td>0.688995</td>\n",
       "      <td>0.566929</td>\n",
       "      <td>16597.320574</td>\n",
       "    </tr>\n",
       "    <tr>\n",
       "      <th>307</th>\n",
       "      <td>qda</td>\n",
       "      <td>{}</td>\n",
       "      <td>[8, 101, 100, 102, 4, 6]</td>\n",
       "      <td>0.677</td>\n",
       "      <td>0.711670</td>\n",
       "      <td>0.612205</td>\n",
       "      <td>16563.295195</td>\n",
       "    </tr>\n",
       "    <tr>\n",
       "      <th>272</th>\n",
       "      <td>qda</td>\n",
       "      <td>{}</td>\n",
       "      <td>[8, 100, 6, 101, 5, 102]</td>\n",
       "      <td>0.677</td>\n",
       "      <td>0.710706</td>\n",
       "      <td>0.614173</td>\n",
       "      <td>16539.225513</td>\n",
       "    </tr>\n",
       "    <tr>\n",
       "      <th>206</th>\n",
       "      <td>ert</td>\n",
       "      <td>{'max_depth': 10, 'max_features': 'sqrt', 'min...</td>\n",
       "      <td>[100, 5, 105, 2, 8]</td>\n",
       "      <td>0.651</td>\n",
       "      <td>0.702290</td>\n",
       "      <td>0.543307</td>\n",
       "      <td>16529.160305</td>\n",
       "    </tr>\n",
       "    <tr>\n",
       "      <th>243</th>\n",
       "      <td>mlp</td>\n",
       "      <td>{'activation': 'relu', 'alpha': 0.0001, 'hidde...</td>\n",
       "      <td>[5, 4, 103, 8, 100, 102, 6]</td>\n",
       "      <td>0.664</td>\n",
       "      <td>0.718274</td>\n",
       "      <td>0.557087</td>\n",
       "      <td>16528.121827</td>\n",
       "    </tr>\n",
       "    <tr>\n",
       "      <th>13</th>\n",
       "      <td>qda</td>\n",
       "      <td>{}</td>\n",
       "      <td>[8, 102, 105, 2]</td>\n",
       "      <td>0.646</td>\n",
       "      <td>0.693467</td>\n",
       "      <td>0.543307</td>\n",
       "      <td>16508.944724</td>\n",
       "    </tr>\n",
       "    <tr>\n",
       "      <th>299</th>\n",
       "      <td>qda</td>\n",
       "      <td>{}</td>\n",
       "      <td>[5, 103, 104, 100, 6, 102, 4]</td>\n",
       "      <td>0.684</td>\n",
       "      <td>0.717195</td>\n",
       "      <td>0.624016</td>\n",
       "      <td>16501.176471</td>\n",
       "    </tr>\n",
       "    <tr>\n",
       "      <th>145</th>\n",
       "      <td>qda</td>\n",
       "      <td>{}</td>\n",
       "      <td>[102, 6, 100]</td>\n",
       "      <td>0.638</td>\n",
       "      <td>0.684343</td>\n",
       "      <td>0.533465</td>\n",
       "      <td>16481.212121</td>\n",
       "    </tr>\n",
       "    <tr>\n",
       "      <th>377</th>\n",
       "      <td>svm</td>\n",
       "      <td>{'C': 1, 'gamma': 'scale', 'kernel': 'rbf'}</td>\n",
       "      <td>[100, 2]</td>\n",
       "      <td>0.603</td>\n",
       "      <td>0.676190</td>\n",
       "      <td>0.419291</td>\n",
       "      <td>16477.714286</td>\n",
       "    </tr>\n",
       "    <tr>\n",
       "      <th>242</th>\n",
       "      <td>qda</td>\n",
       "      <td>{}</td>\n",
       "      <td>[5, 4, 103, 8, 100, 102, 6]</td>\n",
       "      <td>0.685</td>\n",
       "      <td>0.715884</td>\n",
       "      <td>0.629921</td>\n",
       "      <td>16468.456376</td>\n",
       "    </tr>\n",
       "    <tr>\n",
       "      <th>172</th>\n",
       "      <td>ert</td>\n",
       "      <td>{'max_depth': 10, 'max_features': 'sqrt', 'min...</td>\n",
       "      <td>[104, 105, 102, 2, 103]</td>\n",
       "      <td>0.665</td>\n",
       "      <td>0.699769</td>\n",
       "      <td>0.596457</td>\n",
       "      <td>16466.235566</td>\n",
       "    </tr>\n",
       "    <tr>\n",
       "      <th>215</th>\n",
       "      <td>mlp</td>\n",
       "      <td>{'activation': 'relu', 'alpha': 0.0001, 'hidde...</td>\n",
       "      <td>[105, 2, 100, 6, 8, 3, 104]</td>\n",
       "      <td>0.680</td>\n",
       "      <td>0.714612</td>\n",
       "      <td>0.616142</td>\n",
       "      <td>16436.712329</td>\n",
       "    </tr>\n",
       "  </tbody>\n",
       "</table>\n",
       "</div>"
      ],
      "text/plain": [
       "    Model                                    hyperparameters  \\\n",
       "102   qda                                                 {}   \n",
       "51     nb                           {'var_smoothing': 1e-09}   \n",
       "114   qda                                                 {}   \n",
       "214   qda                                                 {}   \n",
       "50    mlp  {'activation': 'relu', 'alpha': 0.0001, 'hidde...   \n",
       "389   qda                                                 {}   \n",
       "149    gp                                                 {}   \n",
       "373    rf  {'max_depth': 4, 'max_features': 'sqrt', 'min_...   \n",
       "88     nb                           {'var_smoothing': 1e-09}   \n",
       "307   qda                                                 {}   \n",
       "272   qda                                                 {}   \n",
       "206   ert  {'max_depth': 10, 'max_features': 'sqrt', 'min...   \n",
       "243   mlp  {'activation': 'relu', 'alpha': 0.0001, 'hidde...   \n",
       "13    qda                                                 {}   \n",
       "299   qda                                                 {}   \n",
       "145   qda                                                 {}   \n",
       "377   svm        {'C': 1, 'gamma': 'scale', 'kernel': 'rbf'}   \n",
       "242   qda                                                 {}   \n",
       "172   ert  {'max_depth': 10, 'max_features': 'sqrt', 'min...   \n",
       "215   mlp  {'activation': 'relu', 'alpha': 0.0001, 'hidde...   \n",
       "\n",
       "                            Features  Accuracy  Precision    Recall  \\\n",
       "102  [104, 4, 102, 2, 100, 103, 101]     0.722   0.745726  0.687008   \n",
       "51                [8, 101, 100, 105]     0.658   0.706468  0.559055   \n",
       "114      [4, 2, 6, 102, 101, 5, 100]     0.697   0.729306  0.641732   \n",
       "214      [105, 2, 100, 6, 8, 3, 104]     0.686   0.728774  0.608268   \n",
       "50                [8, 101, 100, 105]     0.673   0.702461  0.618110   \n",
       "389      [2, 100, 105, 8, 5, 103, 3]     0.690   0.725000  0.627953   \n",
       "149          [103, 100, 101, 2, 105]     0.692   0.707469  0.671260   \n",
       "373                       [105, 104]     0.618   0.682081  0.464567   \n",
       "88                   [105, 102, 100]     0.650   0.688995  0.566929   \n",
       "307         [8, 101, 100, 102, 4, 6]     0.677   0.711670  0.612205   \n",
       "272         [8, 100, 6, 101, 5, 102]     0.677   0.710706  0.614173   \n",
       "206              [100, 5, 105, 2, 8]     0.651   0.702290  0.543307   \n",
       "243      [5, 4, 103, 8, 100, 102, 6]     0.664   0.718274  0.557087   \n",
       "13                  [8, 102, 105, 2]     0.646   0.693467  0.543307   \n",
       "299    [5, 103, 104, 100, 6, 102, 4]     0.684   0.717195  0.624016   \n",
       "145                    [102, 6, 100]     0.638   0.684343  0.533465   \n",
       "377                         [100, 2]     0.603   0.676190  0.419291   \n",
       "242      [5, 4, 103, 8, 100, 102, 6]     0.685   0.715884  0.629921   \n",
       "172          [104, 105, 102, 2, 103]     0.665   0.699769  0.596457   \n",
       "215      [105, 2, 100, 6, 8, 3, 104]     0.680   0.714612  0.616142   \n",
       "\n",
       "           Profit  \n",
       "102  17213.333333  \n",
       "51   16833.432836  \n",
       "114  16803.489933  \n",
       "214  16790.188679  \n",
       "50   16733.422819  \n",
       "389  16696.000000  \n",
       "149  16658.423237  \n",
       "373  16624.739884  \n",
       "88   16597.320574  \n",
       "307  16563.295195  \n",
       "272  16539.225513  \n",
       "206  16529.160305  \n",
       "243  16528.121827  \n",
       "13   16508.944724  \n",
       "299  16501.176471  \n",
       "145  16481.212121  \n",
       "377  16477.714286  \n",
       "242  16468.456376  \n",
       "172  16466.235566  \n",
       "215  16436.712329  "
      ]
     },
     "execution_count": 95,
     "metadata": {},
     "output_type": "execute_result"
    }
   ],
   "source": [
    "model_library.sort_values('Profit', ascending=False).head(20)"
   ]
  },
  {
   "cell_type": "code",
   "execution_count": 96,
   "metadata": {},
   "outputs": [
    {
     "data": {
      "text/plain": [
       "Text(0.5, 1.0, 'Number of model occurances among top 100 classifiers by Profit')"
      ]
     },
     "execution_count": 96,
     "metadata": {},
     "output_type": "execute_result"
    },
    {
     "data": {
      "image/png": "[encoded data removed]",
      "text/plain": [
       "<Figure size 1008x288 with 1 Axes>"
      ]
     },
     "metadata": {
      "needs_background": "light"
     },
     "output_type": "display_data"
    }
   ],
   "source": [
    "model, counts = np.unique(model_library.sort_values('Profit', ascending=False).head(100).Model, return_counts=True)\n",
    "plt.figure(figsize=(14, 4))\n",
    "plt.bar(model, counts)\n",
    "plt.xlabel(\"Classifier\")\n",
    "plt.ylabel(\"Number of occurance \")\n",
    "plt.title(\"Number of model occurances among top 100 classifiers by Profit\")"
   ]
  },
  {
   "cell_type": "code",
   "execution_count": 97,
   "metadata": {},
   "outputs": [
    {
     "data": {
      "text/plain": [
       "Text(0.5, 1.0, 'Number of model occurances among top 100 classifiers by Profit')"
      ]
     },
     "execution_count": 97,
     "metadata": {},
     "output_type": "execute_result"
    },
    {
     "data": {
      "image/png": "[encoded data removed]",
      "text/plain": [
       "<Figure size 1008x288 with 1 Axes>"
      ]
     },
     "metadata": {
      "needs_background": "light"
     },
     "output_type": "display_data"
    }
   ],
   "source": [
    "model, counts = np.unique(model_library.sort_values('Accuracy', ascending=False).head(100).Model, return_counts=True)\n",
    "plt.figure(figsize=(14, 4))\n",
    "plt.bar(model, counts)\n",
    "plt.xlabel(\"Classifier\")\n",
    "plt.ylabel(\"Number of occurance \")\n",
    "plt.title(\"Number of model occurances among top 100 classifiers by Profit\")"
   ]
  },
  {
   "cell_type": "code",
   "execution_count": 98,
   "metadata": {},
   "outputs": [
    {
     "data": {
      "text/plain": [
       "Text(0.5, 1.0, 'Number of model occurances among top 100 classifiers by Profit')"
      ]
     },
     "execution_count": 98,
     "metadata": {},
     "output_type": "execute_result"
    },
    {
     "data": {
      "image/png": "[encoded data removed]",
      "text/plain": [
       "<Figure size 1008x288 with 1 Axes>"
      ]
     },
     "metadata": {
      "needs_background": "light"
     },
     "output_type": "display_data"
    }
   ],
   "source": [
    "model, counts = np.unique(model_library.sort_values('Precision', ascending=False).head(100).Model, return_counts=True)\n",
    "plt.figure(figsize=(14, 4))\n",
    "plt.bar(model, counts)\n",
    "plt.xlabel(\"Classifier\")\n",
    "plt.ylabel(\"Number of occurance \")\n",
    "plt.title(\"Number of model occurances among top 100 classifiers by Profit\")"
   ]
  },
  {
   "cell_type": "code",
   "execution_count": 99,
   "metadata": {},
   "outputs": [
    {
     "data": {
      "text/plain": [
       "Text(0.5, 1.0, 'Number of feature occurances among top 100 classifiers by Profit')"
      ]
     },
     "execution_count": 99,
     "metadata": {},
     "output_type": "execute_result"
    },
    {
     "data": {
      "image/png": "[encoded data removed]",
      "text/plain": [
       "<Figure size 1008x288 with 1 Axes>"
      ]
     },
     "metadata": {
      "needs_background": "light"
     },
     "output_type": "display_data"
    }
   ],
   "source": [
    "occurances = []\n",
    "for feat_list in model_library.sort_values('Profit', ascending=False).head(100).Features:\n",
    "    for feat in feat_list:\n",
    "        occurances.append(feat)\n",
    "feature, counts = np.unique([str(x) for x in occurances], return_counts=True)\n",
    "plt.figure(figsize=(14, 4))\n",
    "plt.bar(feature, counts)\n",
    "plt.xlabel(\"Fature\")\n",
    "plt.ylabel(\"Number of occurances\")\n",
    "plt.title(\"Number of feature occurances among top 100 classifiers by Profit\")"
   ]
  },
  {
   "cell_type": "code",
   "execution_count": 100,
   "metadata": {},
   "outputs": [
    {
     "data": {
      "text/plain": [
       "Text(0.5, 1.0, 'Number of features in models distribution among top 100 classifiers by Profit')"
      ]
     },
     "execution_count": 100,
     "metadata": {},
     "output_type": "execute_result"
    },
    {
     "data": {
      "image/png": "[encoded data removed]",
      "text/plain": [
       "<Figure size 1008x288 with 1 Axes>"
      ]
     },
     "metadata": {
      "needs_background": "light"
     },
     "output_type": "display_data"
    }
   ],
   "source": [
    "features_number = []\n",
    "for feat_list in model_library.sort_values('Profit', ascending=False).head(100).Features:\n",
    "    features_number.append(len(feat_list))\n",
    "feature_num, counts = np.unique(features_number, return_counts=True)\n",
    "plt.figure(figsize=(14, 4))\n",
    "plt.bar(feature_num, counts)\n",
    "plt.xlabel(\"Number of features in model\")\n",
    "plt.ylabel(\"Number of occurances\")\n",
    "plt.title(\"Number of features in models distribution among top 100 classifiers by Profit\")"
   ]
  },
  {
   "cell_type": "code",
   "execution_count": 101,
   "metadata": {},
   "outputs": [
    {
     "data": {
      "text/plain": [
       "Text(0.5, 1.0, 'Number of features in models distribution among top 50 classifiers by Profit')"
      ]
     },
     "execution_count": 101,
     "metadata": {},
     "output_type": "execute_result"
    },
    {
     "data": {
      "image/png": "[encoded data removed]",
      "text/plain": [
       "<Figure size 1008x288 with 1 Axes>"
      ]
     },
     "metadata": {
      "needs_background": "light"
     },
     "output_type": "display_data"
    }
   ],
   "source": [
    "features_number = []\n",
    "for feat_list in model_library.sort_values('Profit', ascending=False).head(20).Features:\n",
    "    features_number.append(len(feat_list))\n",
    "feature_num, counts = np.unique(features_number, return_counts=True)\n",
    "plt.figure(figsize=(14, 4))\n",
    "plt.bar(feature_num, counts)\n",
    "plt.xlabel(\"Number of features in model\")\n",
    "plt.ylabel(\"Number of occurances\")\n",
    "plt.title(\"Number of features in models distribution among top 50 classifiers by Profit\")"
   ]
  },
  {
   "cell_type": "code",
   "execution_count": 73,
   "metadata": {},
   "outputs": [],
   "source": [
    "def recreate_clf(X, y, model_library, index):\n",
    "    code, params, features = model_library.loc[index][['Model', 'hyperparameters', 'Features']]\n",
    "    model, _ = get_classfier_param_grid(code, params)\n",
    "    return model.fit(X[features], y)"
   ]
  },
  {
   "cell_type": "code",
   "execution_count": null,
   "metadata": {},
   "outputs": [],
   "source": []
  },
  {
   "cell_type": "code",
   "execution_count": 74,
   "metadata": {},
   "outputs": [
    {
     "name": "stderr",
     "output_type": "stream",
     "text": [
      "c:\\Users\\Ja\\anaconda3\\lib\\site-packages\\xgboost\\sklearn.py:1395: UserWarning: `use_label_encoder` is deprecated in 1.7.0.\n",
      "  warnings.warn(\"`use_label_encoder` is deprecated in 1.7.0.\")\n"
     ]
    },
    {
     "data": {
      "text/html": [
       "<style>#sk-container-id-3 {color: black;}#sk-container-id-3 pre{padding: 0;}#sk-container-id-3 div.sk-toggleable {background-color: white;}#sk-container-id-3 label.sk-toggleable__label {cursor: pointer;display: block;width: 100%;margin-bottom: 0;padding: 0.3em;box-sizing: border-box;text-align: center;}#sk-container-id-3 label.sk-toggleable__label-arrow:before {content: \"▸\";float: left;margin-right: 0.25em;color: #696969;}#sk-container-id-3 label.sk-toggleable__label-arrow:hover:before {color: black;}#sk-container-id-3 div.sk-estimator:hover label.sk-toggleable__label-arrow:before {color: black;}#sk-container-id-3 div.sk-toggleable__content {max-height: 0;max-width: 0;overflow: hidden;text-align: left;background-color: #f0f8ff;}#sk-container-id-3 div.sk-toggleable__content pre {margin: 0.2em;color: black;border-radius: 0.25em;background-color: #f0f8ff;}#sk-container-id-3 input.sk-toggleable__control:checked~div.sk-toggleable__content {max-height: 200px;max-width: 100%;overflow: auto;}#sk-container-id-3 input.sk-toggleable__control:checked~label.sk-toggleable__label-arrow:before {content: \"▾\";}#sk-container-id-3 div.sk-estimator input.sk-toggleable__control:checked~label.sk-toggleable__label {background-color: #d4ebff;}#sk-container-id-3 div.sk-label input.sk-toggleable__control:checked~label.sk-toggleable__label {background-color: #d4ebff;}#sk-container-id-3 input.sk-hidden--visually {border: 0;clip: rect(1px 1px 1px 1px);clip: rect(1px, 1px, 1px, 1px);height: 1px;margin: -1px;overflow: hidden;padding: 0;position: absolute;width: 1px;}#sk-container-id-3 div.sk-estimator {font-family: monospace;background-color: #f0f8ff;border: 1px dotted black;border-radius: 0.25em;box-sizing: border-box;margin-bottom: 0.5em;}#sk-container-id-3 div.sk-estimator:hover {background-color: #d4ebff;}#sk-container-id-3 div.sk-parallel-item::after {content: \"\";width: 100%;border-bottom: 1px solid gray;flex-grow: 1;}#sk-container-id-3 div.sk-label:hover label.sk-toggleable__label {background-color: #d4ebff;}#sk-container-id-3 div.sk-serial::before {content: \"\";position: absolute;border-left: 1px solid gray;box-sizing: border-box;top: 0;bottom: 0;left: 50%;z-index: 0;}#sk-container-id-3 div.sk-serial {display: flex;flex-direction: column;align-items: center;background-color: white;padding-right: 0.2em;padding-left: 0.2em;position: relative;}#sk-container-id-3 div.sk-item {position: relative;z-index: 1;}#sk-container-id-3 div.sk-parallel {display: flex;align-items: stretch;justify-content: center;background-color: white;position: relative;}#sk-container-id-3 div.sk-item::before, #sk-container-id-3 div.sk-parallel-item::before {content: \"\";position: absolute;border-left: 1px solid gray;box-sizing: border-box;top: 0;bottom: 0;left: 50%;z-index: -1;}#sk-container-id-3 div.sk-parallel-item {display: flex;flex-direction: column;z-index: 1;position: relative;background-color: white;}#sk-container-id-3 div.sk-parallel-item:first-child::after {align-self: flex-end;width: 50%;}#sk-container-id-3 div.sk-parallel-item:last-child::after {align-self: flex-start;width: 50%;}#sk-container-id-3 div.sk-parallel-item:only-child::after {width: 0;}#sk-container-id-3 div.sk-dashed-wrapped {border: 1px dashed gray;margin: 0 0.4em 0.5em 0.4em;box-sizing: border-box;padding-bottom: 0.4em;background-color: white;}#sk-container-id-3 div.sk-label label {font-family: monospace;font-weight: bold;display: inline-block;line-height: 1.2em;}#sk-container-id-3 div.sk-label-container {text-align: center;}#sk-container-id-3 div.sk-container {/* jupyter's `normalize.less` sets `[hidden] { display: none; }` but bootstrap.min.css set `[hidden] { display: none !important; }` so we also need the `!important` here to be able to override the default hidden behavior on the sphinx rendered scikit-learn.org. See: https://github.com/scikit-learn/scikit-learn/issues/21755 */display: inline-block !important;position: relative;}#sk-container-id-3 div.sk-text-repr-fallback {display: none;}</style><div id=\"sk-container-id-3\" class=\"sk-top-container\"><div class=\"sk-text-repr-fallback\"><pre>Pipeline(steps=[(&#x27;scaler&#x27;, StandardScaler()),\n",
       "                (&#x27;xgb&#x27;,\n",
       "                 XGBClassifier(base_score=None, booster=None, callbacks=None,\n",
       "                               colsample_bylevel=None, colsample_bynode=None,\n",
       "                               colsample_bytree=None,\n",
       "                               early_stopping_rounds=None,\n",
       "                               enable_categorical=False, eval_metric=None,\n",
       "                               feature_types=None, gamma=None, gpu_id=None,\n",
       "                               grow_policy=None, importance_type=None,\n",
       "                               interaction_constraints=None, learning_rate=0.3,\n",
       "                               max_bin=None, max_cat_threshold=None,\n",
       "                               max_cat_to_onehot=None, max_delta_step=None,\n",
       "                               max_depth=5, max_leaves=None,\n",
       "                               min_child_weight=None, missing=nan,\n",
       "                               monotone_constraints=None, n_estimators=300,\n",
       "                               n_jobs=None, num_parallel_tree=None,\n",
       "                               predictor=None, random_state=0, ...))])</pre><b>In a Jupyter environment, please rerun this cell to show the HTML representation or trust the notebook. <br />On GitHub, the HTML representation is unable to render, please try loading this page with nbviewer.org.</b></div><div class=\"sk-container\" hidden><div class=\"sk-item sk-dashed-wrapped\"><div class=\"sk-label-container\"><div class=\"sk-label sk-toggleable\"><input class=\"sk-toggleable__control sk-hidden--visually\" id=\"sk-estimator-id-8\" type=\"checkbox\" ><label for=\"sk-estimator-id-8\" class=\"sk-toggleable__label sk-toggleable__label-arrow\">Pipeline</label><div class=\"sk-toggleable__content\"><pre>Pipeline(steps=[(&#x27;scaler&#x27;, StandardScaler()),\n",
       "                (&#x27;xgb&#x27;,\n",
       "                 XGBClassifier(base_score=None, booster=None, callbacks=None,\n",
       "                               colsample_bylevel=None, colsample_bynode=None,\n",
       "                               colsample_bytree=None,\n",
       "                               early_stopping_rounds=None,\n",
       "                               enable_categorical=False, eval_metric=None,\n",
       "                               feature_types=None, gamma=None, gpu_id=None,\n",
       "                               grow_policy=None, importance_type=None,\n",
       "                               interaction_constraints=None, learning_rate=0.3,\n",
       "                               max_bin=None, max_cat_threshold=None,\n",
       "                               max_cat_to_onehot=None, max_delta_step=None,\n",
       "                               max_depth=5, max_leaves=None,\n",
       "                               min_child_weight=None, missing=nan,\n",
       "                               monotone_constraints=None, n_estimators=300,\n",
       "                               n_jobs=None, num_parallel_tree=None,\n",
       "                               predictor=None, random_state=0, ...))])</pre></div></div></div><div class=\"sk-serial\"><div class=\"sk-item\"><div class=\"sk-estimator sk-toggleable\"><input class=\"sk-toggleable__control sk-hidden--visually\" id=\"sk-estimator-id-9\" type=\"checkbox\" ><label for=\"sk-estimator-id-9\" class=\"sk-toggleable__label sk-toggleable__label-arrow\">StandardScaler</label><div class=\"sk-toggleable__content\"><pre>StandardScaler()</pre></div></div></div><div class=\"sk-item\"><div class=\"sk-estimator sk-toggleable\"><input class=\"sk-toggleable__control sk-hidden--visually\" id=\"sk-estimator-id-10\" type=\"checkbox\" ><label for=\"sk-estimator-id-10\" class=\"sk-toggleable__label sk-toggleable__label-arrow\">XGBClassifier</label><div class=\"sk-toggleable__content\"><pre>XGBClassifier(base_score=None, booster=None, callbacks=None,\n",
       "              colsample_bylevel=None, colsample_bynode=None,\n",
       "              colsample_bytree=None, early_stopping_rounds=None,\n",
       "              enable_categorical=False, eval_metric=None, feature_types=None,\n",
       "              gamma=None, gpu_id=None, grow_policy=None, importance_type=None,\n",
       "              interaction_constraints=None, learning_rate=0.3, max_bin=None,\n",
       "              max_cat_threshold=None, max_cat_to_onehot=None,\n",
       "              max_delta_step=None, max_depth=5, max_leaves=None,\n",
       "              min_child_weight=None, missing=nan, monotone_constraints=None,\n",
       "              n_estimators=300, n_jobs=None, num_parallel_tree=None,\n",
       "              predictor=None, random_state=0, ...)</pre></div></div></div></div></div></div></div>"
      ],
      "text/plain": [
       "Pipeline(steps=[('scaler', StandardScaler()),\n",
       "                ('xgb',\n",
       "                 XGBClassifier(base_score=None, booster=None, callbacks=None,\n",
       "                               colsample_bylevel=None, colsample_bynode=None,\n",
       "                               colsample_bytree=None,\n",
       "                               early_stopping_rounds=None,\n",
       "                               enable_categorical=False, eval_metric=None,\n",
       "                               feature_types=None, gamma=None, gpu_id=None,\n",
       "                               grow_policy=None, importance_type=None,\n",
       "                               interaction_constraints=None, learning_rate=0.3,\n",
       "                               max_bin=None, max_cat_threshold=None,\n",
       "                               max_cat_to_onehot=None, max_delta_step=None,\n",
       "                               max_depth=5, max_leaves=None,\n",
       "                               min_child_weight=None, missing=nan,\n",
       "                               monotone_constraints=None, n_estimators=300,\n",
       "                               n_jobs=None, num_parallel_tree=None,\n",
       "                               predictor=None, random_state=0, ...))])"
      ]
     },
     "execution_count": 74,
     "metadata": {},
     "output_type": "execute_result"
    }
   ],
   "source": [
    "recreate_clf(X_train, y_train, model_library, 23)"
   ]
  },
  {
   "cell_type": "code",
   "execution_count": 70,
   "metadata": {},
   "outputs": [],
   "source": [
    "a, b = model_library.loc[0][['Features', 'Accuracy']]"
   ]
  },
  {
   "cell_type": "code",
   "execution_count": 72,
   "metadata": {},
   "outputs": [
    {
     "data": {
      "text/plain": [
       "0.572"
      ]
     },
     "execution_count": 72,
     "metadata": {},
     "output_type": "execute_result"
    }
   ],
   "source": [
    "b"
   ]
  },
  {
   "cell_type": "code",
   "execution_count": 64,
   "metadata": {},
   "outputs": [
    {
     "name": "stderr",
     "output_type": "stream",
     "text": [
      "c:\\Users\\Ja\\anaconda3\\lib\\site-packages\\xgboost\\sklearn.py:1395: UserWarning: `use_label_encoder` is deprecated in 1.7.0.\n",
      "  warnings.warn(\"`use_label_encoder` is deprecated in 1.7.0.\")\n"
     ]
    }
   ],
   "source": [
    "model, _ = get_classfier_param_grid(model_library.loc[23].Model, model_library.loc[23].hyperparameters)"
   ]
  },
  {
   "cell_type": "code",
   "execution_count": 65,
   "metadata": {},
   "outputs": [
    {
     "data": {
      "text/html": [
       "<style>#sk-container-id-2 {color: black;}#sk-container-id-2 pre{padding: 0;}#sk-container-id-2 div.sk-toggleable {background-color: white;}#sk-container-id-2 label.sk-toggleable__label {cursor: pointer;display: block;width: 100%;margin-bottom: 0;padding: 0.3em;box-sizing: border-box;text-align: center;}#sk-container-id-2 label.sk-toggleable__label-arrow:before {content: \"▸\";float: left;margin-right: 0.25em;color: #696969;}#sk-container-id-2 label.sk-toggleable__label-arrow:hover:before {color: black;}#sk-container-id-2 div.sk-estimator:hover label.sk-toggleable__label-arrow:before {color: black;}#sk-container-id-2 div.sk-toggleable__content {max-height: 0;max-width: 0;overflow: hidden;text-align: left;background-color: #f0f8ff;}#sk-container-id-2 div.sk-toggleable__content pre {margin: 0.2em;color: black;border-radius: 0.25em;background-color: #f0f8ff;}#sk-container-id-2 input.sk-toggleable__control:checked~div.sk-toggleable__content {max-height: 200px;max-width: 100%;overflow: auto;}#sk-container-id-2 input.sk-toggleable__control:checked~label.sk-toggleable__label-arrow:before {content: \"▾\";}#sk-container-id-2 div.sk-estimator input.sk-toggleable__control:checked~label.sk-toggleable__label {background-color: #d4ebff;}#sk-container-id-2 div.sk-label input.sk-toggleable__control:checked~label.sk-toggleable__label {background-color: #d4ebff;}#sk-container-id-2 input.sk-hidden--visually {border: 0;clip: rect(1px 1px 1px 1px);clip: rect(1px, 1px, 1px, 1px);height: 1px;margin: -1px;overflow: hidden;padding: 0;position: absolute;width: 1px;}#sk-container-id-2 div.sk-estimator {font-family: monospace;background-color: #f0f8ff;border: 1px dotted black;border-radius: 0.25em;box-sizing: border-box;margin-bottom: 0.5em;}#sk-container-id-2 div.sk-estimator:hover {background-color: #d4ebff;}#sk-container-id-2 div.sk-parallel-item::after {content: \"\";width: 100%;border-bottom: 1px solid gray;flex-grow: 1;}#sk-container-id-2 div.sk-label:hover label.sk-toggleable__label {background-color: #d4ebff;}#sk-container-id-2 div.sk-serial::before {content: \"\";position: absolute;border-left: 1px solid gray;box-sizing: border-box;top: 0;bottom: 0;left: 50%;z-index: 0;}#sk-container-id-2 div.sk-serial {display: flex;flex-direction: column;align-items: center;background-color: white;padding-right: 0.2em;padding-left: 0.2em;position: relative;}#sk-container-id-2 div.sk-item {position: relative;z-index: 1;}#sk-container-id-2 div.sk-parallel {display: flex;align-items: stretch;justify-content: center;background-color: white;position: relative;}#sk-container-id-2 div.sk-item::before, #sk-container-id-2 div.sk-parallel-item::before {content: \"\";position: absolute;border-left: 1px solid gray;box-sizing: border-box;top: 0;bottom: 0;left: 50%;z-index: -1;}#sk-container-id-2 div.sk-parallel-item {display: flex;flex-direction: column;z-index: 1;position: relative;background-color: white;}#sk-container-id-2 div.sk-parallel-item:first-child::after {align-self: flex-end;width: 50%;}#sk-container-id-2 div.sk-parallel-item:last-child::after {align-self: flex-start;width: 50%;}#sk-container-id-2 div.sk-parallel-item:only-child::after {width: 0;}#sk-container-id-2 div.sk-dashed-wrapped {border: 1px dashed gray;margin: 0 0.4em 0.5em 0.4em;box-sizing: border-box;padding-bottom: 0.4em;background-color: white;}#sk-container-id-2 div.sk-label label {font-family: monospace;font-weight: bold;display: inline-block;line-height: 1.2em;}#sk-container-id-2 div.sk-label-container {text-align: center;}#sk-container-id-2 div.sk-container {/* jupyter's `normalize.less` sets `[hidden] { display: none; }` but bootstrap.min.css set `[hidden] { display: none !important; }` so we also need the `!important` here to be able to override the default hidden behavior on the sphinx rendered scikit-learn.org. See: https://github.com/scikit-learn/scikit-learn/issues/21755 */display: inline-block !important;position: relative;}#sk-container-id-2 div.sk-text-repr-fallback {display: none;}</style><div id=\"sk-container-id-2\" class=\"sk-top-container\"><div class=\"sk-text-repr-fallback\"><pre>Pipeline(steps=[(&#x27;scaler&#x27;, StandardScaler()),\n",
       "                (&#x27;xgb&#x27;,\n",
       "                 XGBClassifier(base_score=None, booster=None, callbacks=None,\n",
       "                               colsample_bylevel=None, colsample_bynode=None,\n",
       "                               colsample_bytree=None,\n",
       "                               early_stopping_rounds=None,\n",
       "                               enable_categorical=False, eval_metric=None,\n",
       "                               feature_types=None, gamma=None, gpu_id=None,\n",
       "                               grow_policy=None, importance_type=None,\n",
       "                               interaction_constraints=None, learning_rate=0.3,\n",
       "                               max_bin=None, max_cat_threshold=None,\n",
       "                               max_cat_to_onehot=None, max_delta_step=None,\n",
       "                               max_depth=5, max_leaves=None,\n",
       "                               min_child_weight=None, missing=nan,\n",
       "                               monotone_constraints=None, n_estimators=300,\n",
       "                               n_jobs=None, num_parallel_tree=None,\n",
       "                               predictor=None, random_state=0, ...))])</pre><b>In a Jupyter environment, please rerun this cell to show the HTML representation or trust the notebook. <br />On GitHub, the HTML representation is unable to render, please try loading this page with nbviewer.org.</b></div><div class=\"sk-container\" hidden><div class=\"sk-item sk-dashed-wrapped\"><div class=\"sk-label-container\"><div class=\"sk-label sk-toggleable\"><input class=\"sk-toggleable__control sk-hidden--visually\" id=\"sk-estimator-id-5\" type=\"checkbox\" ><label for=\"sk-estimator-id-5\" class=\"sk-toggleable__label sk-toggleable__label-arrow\">Pipeline</label><div class=\"sk-toggleable__content\"><pre>Pipeline(steps=[(&#x27;scaler&#x27;, StandardScaler()),\n",
       "                (&#x27;xgb&#x27;,\n",
       "                 XGBClassifier(base_score=None, booster=None, callbacks=None,\n",
       "                               colsample_bylevel=None, colsample_bynode=None,\n",
       "                               colsample_bytree=None,\n",
       "                               early_stopping_rounds=None,\n",
       "                               enable_categorical=False, eval_metric=None,\n",
       "                               feature_types=None, gamma=None, gpu_id=None,\n",
       "                               grow_policy=None, importance_type=None,\n",
       "                               interaction_constraints=None, learning_rate=0.3,\n",
       "                               max_bin=None, max_cat_threshold=None,\n",
       "                               max_cat_to_onehot=None, max_delta_step=None,\n",
       "                               max_depth=5, max_leaves=None,\n",
       "                               min_child_weight=None, missing=nan,\n",
       "                               monotone_constraints=None, n_estimators=300,\n",
       "                               n_jobs=None, num_parallel_tree=None,\n",
       "                               predictor=None, random_state=0, ...))])</pre></div></div></div><div class=\"sk-serial\"><div class=\"sk-item\"><div class=\"sk-estimator sk-toggleable\"><input class=\"sk-toggleable__control sk-hidden--visually\" id=\"sk-estimator-id-6\" type=\"checkbox\" ><label for=\"sk-estimator-id-6\" class=\"sk-toggleable__label sk-toggleable__label-arrow\">StandardScaler</label><div class=\"sk-toggleable__content\"><pre>StandardScaler()</pre></div></div></div><div class=\"sk-item\"><div class=\"sk-estimator sk-toggleable\"><input class=\"sk-toggleable__control sk-hidden--visually\" id=\"sk-estimator-id-7\" type=\"checkbox\" ><label for=\"sk-estimator-id-7\" class=\"sk-toggleable__label sk-toggleable__label-arrow\">XGBClassifier</label><div class=\"sk-toggleable__content\"><pre>XGBClassifier(base_score=None, booster=None, callbacks=None,\n",
       "              colsample_bylevel=None, colsample_bynode=None,\n",
       "              colsample_bytree=None, early_stopping_rounds=None,\n",
       "              enable_categorical=False, eval_metric=None, feature_types=None,\n",
       "              gamma=None, gpu_id=None, grow_policy=None, importance_type=None,\n",
       "              interaction_constraints=None, learning_rate=0.3, max_bin=None,\n",
       "              max_cat_threshold=None, max_cat_to_onehot=None,\n",
       "              max_delta_step=None, max_depth=5, max_leaves=None,\n",
       "              min_child_weight=None, missing=nan, monotone_constraints=None,\n",
       "              n_estimators=300, n_jobs=None, num_parallel_tree=None,\n",
       "              predictor=None, random_state=0, ...)</pre></div></div></div></div></div></div></div>"
      ],
      "text/plain": [
       "Pipeline(steps=[('scaler', StandardScaler()),\n",
       "                ('xgb',\n",
       "                 XGBClassifier(base_score=None, booster=None, callbacks=None,\n",
       "                               colsample_bylevel=None, colsample_bynode=None,\n",
       "                               colsample_bytree=None,\n",
       "                               early_stopping_rounds=None,\n",
       "                               enable_categorical=False, eval_metric=None,\n",
       "                               feature_types=None, gamma=None, gpu_id=None,\n",
       "                               grow_policy=None, importance_type=None,\n",
       "                               interaction_constraints=None, learning_rate=0.3,\n",
       "                               max_bin=None, max_cat_threshold=None,\n",
       "                               max_cat_to_onehot=None, max_delta_step=None,\n",
       "                               max_depth=5, max_leaves=None,\n",
       "                               min_child_weight=None, missing=nan,\n",
       "                               monotone_constraints=None, n_estimators=300,\n",
       "                               n_jobs=None, num_parallel_tree=None,\n",
       "                               predictor=None, random_state=0, ...))])"
      ]
     },
     "execution_count": 65,
     "metadata": {},
     "output_type": "execute_result"
    }
   ],
   "source": [
    "model.fit(X_train[model_library.loc[23].Features], y_train)"
   ]
  },
  {
   "cell_type": "code",
   "execution_count": 66,
   "metadata": {},
   "outputs": [
    {
     "data": {
      "text/plain": [
       "0.563"
      ]
     },
     "execution_count": 66,
     "metadata": {},
     "output_type": "execute_result"
    }
   ],
   "source": [
    "accuracy_score(model.predict(X_test[model_library.loc[23].Features]), y_test)"
   ]
  },
  {
   "cell_type": "code",
   "execution_count": 52,
   "metadata": {},
   "outputs": [],
   "source": [
    "from sklearn.ensemble import RandomForestClassifier\n",
    "\n",
    "# Utwórz instancję estymatora RandomForestClassifier\n",
    "estymator = RandomForestClassifier()\n",
    "\n",
    "# Sprawdź dostępne parametry estymatora\n",
    "dostepne_parametry = estymator.get_params().keys()"
   ]
  },
  {
   "cell_type": "code",
   "execution_count": 53,
   "metadata": {},
   "outputs": [
    {
     "data": {
      "text/plain": [
       "dict_keys(['bootstrap', 'ccp_alpha', 'class_weight', 'criterion', 'max_depth', 'max_features', 'max_leaf_nodes', 'max_samples', 'min_impurity_decrease', 'min_samples_leaf', 'min_samples_split', 'min_weight_fraction_leaf', 'n_estimators', 'n_jobs', 'oob_score', 'random_state', 'verbose', 'warm_start'])"
      ]
     },
     "execution_count": 53,
     "metadata": {},
     "output_type": "execute_result"
    }
   ],
   "source": [
    "dostepne_parametry"
   ]
  }
 ],
 "metadata": {
  "kernelspec": {
   "display_name": "base",
   "language": "python",
   "name": "python3"
  },
  "language_info": {
   "codemirror_mode": {
    "name": "ipython",
    "version": 3
   },
   "file_extension": ".py",
   "mimetype": "text/x-python",
   "name": "python",
   "nbconvert_exporter": "python",
   "pygments_lexer": "ipython3",
   "version": "3.8.3"
  }
 },
 "nbformat": 4,
 "nbformat_minor": 2
}
