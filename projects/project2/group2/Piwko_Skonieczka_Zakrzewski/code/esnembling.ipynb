{
 "cells": [
  {
   "cell_type": "code",
   "execution_count": 1,
   "metadata": {},
   "outputs": [],
   "source": [
    "import matplotlib.pyplot as plt\n",
    "import numpy as np\n",
    "import pandas as pd\n",
    "import seaborn as sns\n",
    "from sklearn.ensemble import RandomForestClassifier, AdaBoostClassifier\n",
    "from sklearn.metrics import mutual_info_score\n",
    "from sklearn.model_selection import GridSearchCV, StratifiedKFold\n",
    "from sklearn.pipeline import Pipeline\n",
    "from sklearn.preprocessing import StandardScaler\n",
    "from sklearn.metrics import accuracy_score, recall_score, precision_score\n",
    "from sklearn.model_selection import train_test_split\n",
    "from sklearn.neural_network import MLPClassifier\n",
    "from sklearn.svm import SVC\n",
    "from sklearn.gaussian_process import GaussianProcessClassifier\n",
    "from sklearn.gaussian_process.kernels import RBF\n",
    "from sklearn.discriminant_analysis import QuadraticDiscriminantAnalysis\n",
    "from xgboost import XGBClassifier\n",
    "from sklearn.naive_bayes import GaussianNB\n",
    "from sklearn.neighbors import KNeighborsClassifier\n",
    "from sklearn.linear_model import LogisticRegression\n",
    "from sklearn.ensemble import ExtraTreesClassifier\n",
    "\n",
    "from code.model_managing import get_classfier_param_grid\n",
    "\n",
    "import random\n",
    "random.seed(42)\n",
    "np.random.seed(42)"
   ]
  },
  {
   "cell_type": "code",
   "execution_count": 11,
   "metadata": {},
   "outputs": [],
   "source": [
    "model_library = pd.read_csv('model_library.csv')"
   ]
  },
  {
   "cell_type": "code",
   "execution_count": 3,
   "metadata": {},
   "outputs": [],
   "source": [
    "X = pd.read_csv(\"data/x_train.txt\", header=None, sep=\" \")\n",
    "y = pd.read_csv(\"data/y_train.txt\", header=None)[0]"
   ]
  },
  {
   "cell_type": "code",
   "execution_count": 4,
   "metadata": {},
   "outputs": [],
   "source": [
    "X_train, X_test, y_train, y_test = train_test_split(X, y, test_size=0.2, random_state=42)"
   ]
  },
  {
   "cell_type": "code",
   "execution_count": 43,
   "metadata": {},
   "outputs": [],
   "source": [
    "def recreate_clf(X, y, model_library, index):\n",
    "    code, params, features = model_library.loc[index][['Model', 'hyperparameters', 'Features']]\n",
    "    model, _ = get_classfier_param_grid(code, eval(params))\n",
    "    return model.fit(X[eval(features)], y), eval(features)"
   ]
  },
  {
   "cell_type": "code",
   "execution_count": 40,
   "metadata": {},
   "outputs": [
    {
     "ename": "TypeError",
     "evalue": "recreate_clf() missing 3 required positional arguments: 'y', 'model_library', and 'index'",
     "output_type": "error",
     "traceback": [
      "\u001b[1;31m---------------------------------------------------------------------------\u001b[0m",
      "\u001b[1;31mTypeError\u001b[0m                                 Traceback (most recent call last)",
      "\u001b[1;32m<ipython-input-40-5c5b62c25437>\u001b[0m in \u001b[0;36m<module>\u001b[1;34m\u001b[0m\n\u001b[1;32m----> 1\u001b[1;33m \u001b[0mclf\u001b[0m \u001b[1;33m=\u001b[0m \u001b[0mrecreate_clf\u001b[0m\u001b[1;33m(\u001b[0m\u001b[0mX_train\u001b[0m\u001b[1;33m)\u001b[0m\u001b[1;33m\u001b[0m\u001b[1;33m\u001b[0m\u001b[0m\n\u001b[0m",
      "\u001b[1;31mTypeError\u001b[0m: recreate_clf() missing 3 required positional arguments: 'y', 'model_library', and 'index'"
     ]
    }
   ],
   "source": [
    "clf = recreate_clf(X_train)"
   ]
  },
  {
   "cell_type": "code",
   "execution_count": 70,
   "metadata": {},
   "outputs": [],
   "source": [
    "def create_meta_sets(X_train, y_train, X_test, model_library, model_indeces):\n",
    "    df_train, df_test = pd.DataFrame(), pd.DataFrame()\n",
    "    for i in range(len(model_indeces)):\n",
    "        clf, features = recreate_clf(X_train, y_train, model_library, model_indeces[i])\n",
    "        df_train[f'pred_{i}'] = clf.predict(X_train[features])\n",
    "        df_test[f'pred_{i}'] = clf.predict(X_test[features])\n",
    "        try: \n",
    "            df_train[f'proba_{i}'] = clf.predict_proba(X_train[features])[:,0]\n",
    "            df_test[f'proba_{i}'] = clf.predict_proba(X_test[features])[:,0]\n",
    "        except Exception:\n",
    "            continue       \n",
    "    return df_train, df_test"
   ]
  },
  {
   "cell_type": "code",
   "execution_count": 78,
   "metadata": {},
   "outputs": [],
   "source": [
    "def stacking(X_train, y_train, X_test, y_test, model_library, model_indeces):\n",
    "    df_train, df_test = create_meta_sets(X_train, y_train, X_test, model_library, model_indeces)\n",
    "    meta_learner = XGBClassifier()\n",
    "    meta_learner.fit(df_train, y_train)\n",
    "    return meta_learner.predict(df_test)"
   ]
  },
  {
   "cell_type": "code",
   "execution_count": null,
   "metadata": {},
   "outputs": [],
   "source": [
    "def custom_cost_function(features, y_test, y_pred):\n",
    "    posit_count_true = np.sum(y==1)\n",
    "    precision = precision_score(y_test, y_pred)\n",
    "    numb_of_features = len(features)\n",
    "    return 10*posit_count_true*precision - 200*numb_of_features"
   ]
  },
  {
   "cell_type": "code",
   "execution_count": 82,
   "metadata": {},
   "outputs": [],
   "source": [
    "model_indeces = [102, 51, 114, 214, 50, 389]"
   ]
  },
  {
   "cell_type": "code",
   "execution_count": 83,
   "metadata": {},
   "outputs": [
    {
     "name": "stdout",
     "output_type": "stream",
     "text": [
      "102\n",
      "51\n",
      "114\n",
      "214\n",
      "50\n",
      "389\n"
     ]
    }
   ],
   "source": [
    "y_pred = stacking(X_train, y_train, X_test, y_test, model_library, model_indeces)"
   ]
  },
  {
   "cell_type": "code",
   "execution_count": 85,
   "metadata": {},
   "outputs": [
    {
     "data": {
      "text/plain": [
       "0.7011494252873564"
      ]
     },
     "execution_count": 85,
     "metadata": {},
     "output_type": "execute_result"
    }
   ],
   "source": [
    "precision_score(y_test, y_pred)"
   ]
  },
  {
   "cell_type": "code",
   "execution_count": 84,
   "metadata": {},
   "outputs": [
    {
     "data": {
      "text/plain": [
       "0.702"
      ]
     },
     "execution_count": 84,
     "metadata": {},
     "output_type": "execute_result"
    }
   ],
   "source": [
    "accuracy_score(y_test, y_pred)"
   ]
  }
 ],
 "metadata": {
  "kernelspec": {
   "display_name": "base",
   "language": "python",
   "name": "python3"
  },
  "language_info": {
   "codemirror_mode": {
    "name": "ipython",
    "version": 3
   },
   "file_extension": ".py",
   "mimetype": "text/x-python",
   "name": "python",
   "nbconvert_exporter": "python",
   "pygments_lexer": "ipython3",
   "version": "3.8.3"
  }
 },
 "nbformat": 4,
 "nbformat_minor": 2
}
