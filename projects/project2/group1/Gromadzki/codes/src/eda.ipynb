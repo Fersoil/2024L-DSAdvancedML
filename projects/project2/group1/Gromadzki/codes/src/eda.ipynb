{
 "cells": [
  {
   "cell_type": "code",
   "execution_count": 5,
   "metadata": {},
   "outputs": [],
   "source": [
    "import pandas as pd\n",
    "import numpy as np\n",
    "import matplotlib.pyplot as plt\n",
    "\n",
    "from utils import *"
   ]
  },
  {
   "cell_type": "code",
   "execution_count": 54,
   "metadata": {},
   "outputs": [
    {
     "data": {
      "text/html": [
       "<div>\n",
       "<style scoped>\n",
       "    .dataframe tbody tr th:only-of-type {\n",
       "        vertical-align: middle;\n",
       "    }\n",
       "\n",
       "    .dataframe tbody tr th {\n",
       "        vertical-align: top;\n",
       "    }\n",
       "\n",
       "    .dataframe thead th {\n",
       "        text-align: right;\n",
       "    }\n",
       "</style>\n",
       "<table border=\"1\" class=\"dataframe\">\n",
       "  <thead>\n",
       "    <tr style=\"text-align: right;\">\n",
       "      <th></th>\n",
       "      <th>0</th>\n",
       "      <th>1</th>\n",
       "      <th>2</th>\n",
       "      <th>3</th>\n",
       "      <th>4</th>\n",
       "      <th>5</th>\n",
       "      <th>6</th>\n",
       "      <th>7</th>\n",
       "      <th>8</th>\n",
       "      <th>9</th>\n",
       "      <th>...</th>\n",
       "      <th>490</th>\n",
       "      <th>491</th>\n",
       "      <th>492</th>\n",
       "      <th>493</th>\n",
       "      <th>494</th>\n",
       "      <th>495</th>\n",
       "      <th>496</th>\n",
       "      <th>497</th>\n",
       "      <th>498</th>\n",
       "      <th>499</th>\n",
       "    </tr>\n",
       "  </thead>\n",
       "  <tbody>\n",
       "    <tr>\n",
       "      <th>0</th>\n",
       "      <td>-2.619773</td>\n",
       "      <td>-2.619533</td>\n",
       "      <td>-1.199350</td>\n",
       "      <td>-1.083335</td>\n",
       "      <td>-1.000910</td>\n",
       "      <td>-0.366967</td>\n",
       "      <td>-2.164037</td>\n",
       "      <td>-1.210001</td>\n",
       "      <td>-0.658311</td>\n",
       "      <td>-1.489539</td>\n",
       "      <td>...</td>\n",
       "      <td>10.849925</td>\n",
       "      <td>10.343346</td>\n",
       "      <td>10.717519</td>\n",
       "      <td>7.709295</td>\n",
       "      <td>5.894554</td>\n",
       "      <td>12.416573</td>\n",
       "      <td>6.765269</td>\n",
       "      <td>16.243907</td>\n",
       "      <td>7.209524</td>\n",
       "      <td>8.082021</td>\n",
       "    </tr>\n",
       "    <tr>\n",
       "      <th>1</th>\n",
       "      <td>-1.415579</td>\n",
       "      <td>-1.782544</td>\n",
       "      <td>-2.880270</td>\n",
       "      <td>-1.958863</td>\n",
       "      <td>1.159968</td>\n",
       "      <td>0.273030</td>\n",
       "      <td>-1.628728</td>\n",
       "      <td>-0.175813</td>\n",
       "      <td>-0.916857</td>\n",
       "      <td>-0.570166</td>\n",
       "      <td>...</td>\n",
       "      <td>11.489417</td>\n",
       "      <td>5.195818</td>\n",
       "      <td>3.494627</td>\n",
       "      <td>5.529154</td>\n",
       "      <td>10.517576</td>\n",
       "      <td>15.697333</td>\n",
       "      <td>11.324938</td>\n",
       "      <td>12.187670</td>\n",
       "      <td>12.283861</td>\n",
       "      <td>5.032285</td>\n",
       "    </tr>\n",
       "    <tr>\n",
       "      <th>2</th>\n",
       "      <td>-2.745092</td>\n",
       "      <td>-1.382945</td>\n",
       "      <td>-1.626015</td>\n",
       "      <td>-1.282560</td>\n",
       "      <td>-0.663146</td>\n",
       "      <td>0.052349</td>\n",
       "      <td>-2.403322</td>\n",
       "      <td>-0.765073</td>\n",
       "      <td>-0.394354</td>\n",
       "      <td>-0.806624</td>\n",
       "      <td>...</td>\n",
       "      <td>13.934934</td>\n",
       "      <td>9.267515</td>\n",
       "      <td>4.705604</td>\n",
       "      <td>6.642557</td>\n",
       "      <td>14.658934</td>\n",
       "      <td>8.130767</td>\n",
       "      <td>7.194487</td>\n",
       "      <td>11.939354</td>\n",
       "      <td>11.653620</td>\n",
       "      <td>5.942778</td>\n",
       "    </tr>\n",
       "    <tr>\n",
       "      <th>3</th>\n",
       "      <td>0.618998</td>\n",
       "      <td>0.455364</td>\n",
       "      <td>-0.115081</td>\n",
       "      <td>0.649040</td>\n",
       "      <td>-0.862207</td>\n",
       "      <td>2.308504</td>\n",
       "      <td>0.526114</td>\n",
       "      <td>-1.094852</td>\n",
       "      <td>1.088656</td>\n",
       "      <td>-0.481210</td>\n",
       "      <td>...</td>\n",
       "      <td>12.021328</td>\n",
       "      <td>3.852231</td>\n",
       "      <td>11.059702</td>\n",
       "      <td>7.527268</td>\n",
       "      <td>7.253120</td>\n",
       "      <td>9.791136</td>\n",
       "      <td>6.089743</td>\n",
       "      <td>10.752796</td>\n",
       "      <td>5.778888</td>\n",
       "      <td>10.366363</td>\n",
       "    </tr>\n",
       "    <tr>\n",
       "      <th>4</th>\n",
       "      <td>-0.070694</td>\n",
       "      <td>-0.550509</td>\n",
       "      <td>-0.565556</td>\n",
       "      <td>-0.693065</td>\n",
       "      <td>-0.573089</td>\n",
       "      <td>-0.395862</td>\n",
       "      <td>0.003170</td>\n",
       "      <td>-0.981609</td>\n",
       "      <td>-0.505775</td>\n",
       "      <td>-0.758430</td>\n",
       "      <td>...</td>\n",
       "      <td>7.537788</td>\n",
       "      <td>11.229665</td>\n",
       "      <td>11.318915</td>\n",
       "      <td>6.622256</td>\n",
       "      <td>12.557882</td>\n",
       "      <td>5.520360</td>\n",
       "      <td>5.397359</td>\n",
       "      <td>13.152269</td>\n",
       "      <td>10.684779</td>\n",
       "      <td>9.816471</td>\n",
       "    </tr>\n",
       "  </tbody>\n",
       "</table>\n",
       "<p>5 rows × 500 columns</p>\n",
       "</div>"
      ],
      "text/plain": [
       "        0         1         2         3         4         5         6    \\\n",
       "0 -2.619773 -2.619533 -1.199350 -1.083335 -1.000910 -0.366967 -2.164037   \n",
       "1 -1.415579 -1.782544 -2.880270 -1.958863  1.159968  0.273030 -1.628728   \n",
       "2 -2.745092 -1.382945 -1.626015 -1.282560 -0.663146  0.052349 -2.403322   \n",
       "3  0.618998  0.455364 -0.115081  0.649040 -0.862207  2.308504  0.526114   \n",
       "4 -0.070694 -0.550509 -0.565556 -0.693065 -0.573089 -0.395862  0.003170   \n",
       "\n",
       "        7         8         9    ...        490        491        492  \\\n",
       "0 -1.210001 -0.658311 -1.489539  ...  10.849925  10.343346  10.717519   \n",
       "1 -0.175813 -0.916857 -0.570166  ...  11.489417   5.195818   3.494627   \n",
       "2 -0.765073 -0.394354 -0.806624  ...  13.934934   9.267515   4.705604   \n",
       "3 -1.094852  1.088656 -0.481210  ...  12.021328   3.852231  11.059702   \n",
       "4 -0.981609 -0.505775 -0.758430  ...   7.537788  11.229665  11.318915   \n",
       "\n",
       "        493        494        495        496        497        498        499  \n",
       "0  7.709295   5.894554  12.416573   6.765269  16.243907   7.209524   8.082021  \n",
       "1  5.529154  10.517576  15.697333  11.324938  12.187670  12.283861   5.032285  \n",
       "2  6.642557  14.658934   8.130767   7.194487  11.939354  11.653620   5.942778  \n",
       "3  7.527268   7.253120   9.791136   6.089743  10.752796   5.778888  10.366363  \n",
       "4  6.622256  12.557882   5.520360   5.397359  13.152269  10.684779   9.816471  \n",
       "\n",
       "[5 rows x 500 columns]"
      ]
     },
     "execution_count": 54,
     "metadata": {},
     "output_type": "execute_result"
    }
   ],
   "source": [
    "df, y = get_data()\n",
    "df.head()"
   ]
  },
  {
   "cell_type": "code",
   "execution_count": 55,
   "metadata": {},
   "outputs": [
    {
     "data": {
      "text/plain": [
       "0"
      ]
     },
     "execution_count": 55,
     "metadata": {},
     "output_type": "execute_result"
    }
   ],
   "source": [
    "df[\"y\"] = y\n",
    "df.isna().sum().sum()"
   ]
  },
  {
   "cell_type": "code",
   "execution_count": 56,
   "metadata": {},
   "outputs": [
    {
     "data": {
      "text/plain": [
       "403    0.045464\n",
       "323    0.040858\n",
       "285    0.040197\n",
       "220    0.039703\n",
       "155    0.039277\n",
       "         ...   \n",
       "93     0.000092\n",
       "493    0.000078\n",
       "134    0.000051\n",
       "389    0.000045\n",
       "483    0.000012\n",
       "Name: y, Length: 500, dtype: float64"
      ]
     },
     "execution_count": 56,
     "metadata": {},
     "output_type": "execute_result"
    }
   ],
   "source": [
    "# get features with max correlation\n",
    "corr = df.corr(method=\"pearson\")\n",
    "corr_y = abs(corr[\"y\"])\n",
    "corr_y = corr_y.sort_values(ascending=False)\n",
    "corr_y = corr_y.drop(\"y\")\n",
    "corr_y"
   ]
  },
  {
   "cell_type": "code",
   "execution_count": 57,
   "metadata": {},
   "outputs": [
    {
     "data": {
      "text/plain": [
       "403    0.046274\n",
       "323    0.040575\n",
       "285    0.040249\n",
       "220    0.039550\n",
       "412    0.038095\n",
       "         ...   \n",
       "121    0.000147\n",
       "389    0.000115\n",
       "472    0.000068\n",
       "293    0.000033\n",
       "54     0.000003\n",
       "Name: y, Length: 500, dtype: float64"
      ]
     },
     "execution_count": 57,
     "metadata": {},
     "output_type": "execute_result"
    }
   ],
   "source": [
    "corr = df.corr(method=\"spearman\")\n",
    "corr_y = abs(corr[\"y\"])\n",
    "corr_y = corr_y.sort_values(ascending=False)\n",
    "corr_y = corr_y.drop(\"y\")\n",
    "corr_y"
   ]
  },
  {
   "cell_type": "code",
   "execution_count": 58,
   "metadata": {},
   "outputs": [
    {
     "data": {
      "text/plain": [
       "0  6    0.957379\n",
       "6  0    0.957379\n",
       "4  7    0.938196\n",
       "7  4    0.938196\n",
       "1  9    0.924838\n",
       "9  1    0.924838\n",
       "8  3    0.892919\n",
       "3  8    0.892919\n",
       "8  5    0.887551\n",
       "5  8    0.887551\n",
       "1  6    0.885639\n",
       "6  1    0.885639\n",
       "1  8    0.862680\n",
       "8  1    0.862680\n",
       "0  1    0.846072\n",
       "1  0    0.846072\n",
       "5  7    0.845982\n",
       "7  5    0.845982\n",
       "   8    0.841867\n",
       "8  7    0.841867\n",
       "dtype: float64"
      ]
     },
     "execution_count": 58,
     "metadata": {},
     "output_type": "execute_result"
    }
   ],
   "source": [
    "corr.unstack().abs().sort_values(ascending=False)[501:501+20]"
   ]
  },
  {
   "cell_type": "code",
   "execution_count": null,
   "metadata": {},
   "outputs": [],
   "source": []
  },
  {
   "cell_type": "code",
   "execution_count": 8,
   "metadata": {},
   "outputs": [],
   "source": [
    "df0 = df[df[\"y\"] == 0]\n",
    "df1 = df[df[\"y\"] == 1]"
   ]
  },
  {
   "cell_type": "code",
   "execution_count": 15,
   "metadata": {},
   "outputs": [
    {
     "data": {
      "text/plain": [
       "137    120.485798\n",
       "80      82.164542\n",
       "160     42.437647\n",
       "128     38.711488\n",
       "35      24.300916\n",
       "          ...    \n",
       "127      0.109587\n",
       "143      0.108653\n",
       "10       0.087015\n",
       "47       0.070720\n",
       "15       0.038895\n",
       "Length: 501, dtype: float64"
      ]
     },
     "execution_count": 15,
     "metadata": {},
     "output_type": "execute_result"
    }
   ],
   "source": [
    "# chech difference in mean and var for both dfs\n",
    "diff = (df0.mean() - df1.mean() / df.mean()).abs()\n",
    "diff = diff.sort_values(ascending=False)\n",
    "diff"
   ]
  },
  {
   "cell_type": "code",
   "execution_count": null,
   "metadata": {},
   "outputs": [],
   "source": []
  },
  {
   "cell_type": "code",
   "execution_count": null,
   "metadata": {},
   "outputs": [],
   "source": []
  },
  {
   "cell_type": "code",
   "execution_count": null,
   "metadata": {},
   "outputs": [],
   "source": []
  },
  {
   "cell_type": "code",
   "execution_count": null,
   "metadata": {},
   "outputs": [],
   "source": []
  },
  {
   "cell_type": "code",
   "execution_count": null,
   "metadata": {},
   "outputs": [],
   "source": []
  }
 ],
 "metadata": {
  "kernelspec": {
   "display_name": "base",
   "language": "python",
   "name": "python3"
  },
  "language_info": {
   "codemirror_mode": {
    "name": "ipython",
    "version": 3
   },
   "file_extension": ".py",
   "mimetype": "text/x-python",
   "name": "python",
   "nbconvert_exporter": "python",
   "pygments_lexer": "ipython3",
   "version": "3.10.12"
  }
 },
 "nbformat": 4,
 "nbformat_minor": 2
}
