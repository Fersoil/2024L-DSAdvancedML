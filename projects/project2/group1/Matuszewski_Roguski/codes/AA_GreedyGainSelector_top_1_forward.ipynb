{
 "cells": [
  {
   "cell_type": "code",
   "execution_count": 1,
   "metadata": {},
   "outputs": [],
   "source": [
    "import pandas as pd\n",
    "import numpy as np\n",
    "from sklearn.model_selection import train_test_split\n",
    "from sklearn.preprocessing import StandardScaler\n",
    "from xgboost import XGBClassifier\n",
    "from catboost import CatBoostClassifier\n",
    "from sklearn.ensemble import RandomForestClassifier\n",
    "from sklearn.ensemble import VotingClassifier\n",
    "from src.feature_selectors import GreedyGainSelector, remove_correlated_features\n",
    "import pickle\n",
    "import warnings\n",
    "warnings.filterwarnings(\"ignore\")"
   ]
  },
  {
   "cell_type": "code",
   "execution_count": 2,
   "metadata": {},
   "outputs": [
    {
     "name": "stdout",
     "output_type": "stream",
     "text": [
      "Continue from iteration 0\n",
      "--------------------\n",
      "Current best score: -inf\n",
      "Current selected features: []\n",
      "Head of scores dataframe:\n",
      "    column   score\n",
      "92   x101  1220.0\n",
      "91   x100  1178.0\n",
      "93   x102  1176.0\n",
      "96   x105  1172.0\n",
      "94   x103  1116.0\n",
      "Selected column: x101\n",
      "Selected column score: 1220.0\n",
      "--------------------\n",
      "Current best score: 1220.0\n",
      "Current selected features: ['x101']\n",
      "Head of scores dataframe:\n",
      "     column   score\n",
      "91    x100  1296.0\n",
      "95    x105  1288.0\n",
      "92    x102  1266.0\n",
      "234   x244  1242.0\n",
      "187   x197  1236.0\n",
      "Selected column: x100\n",
      "Selected column score: 1296.0\n",
      "--------------------\n",
      "Current best score: 1296.0\n",
      "Current selected features: ['x101', 'x100']\n",
      "Head of scores dataframe:\n",
      "     column   score\n",
      "94    x105  1356.0\n",
      "91    x102  1338.0\n",
      "259   x270  1316.0\n",
      "0       x9  1306.0\n",
      "371   x382  1298.0\n",
      "Selected column: x105\n",
      "Selected column score: 1356.0\n",
      "--------------------\n",
      "Current best score: 1356.0\n",
      "Current selected features: ['x101', 'x100', 'x105']\n",
      "Head of scores dataframe:\n",
      "     column   score\n",
      "91    x102  1354.0\n",
      "258   x270  1344.0\n",
      "86     x95  1342.0\n",
      "241   x253  1340.0\n",
      "482   x494  1340.0\n",
      "Number of features: 3\n",
      "Features: ['x101', 'x100', 'x105']\n"
     ]
    }
   ],
   "source": [
    "X = pd.read_csv('data/x_train.txt', sep=' ', header=None)\n",
    "X.columns = ['x' + str(i) for i in range(500)]\n",
    "y = pd.read_csv('data/y_train.txt', header=None)\n",
    "\n",
    "X_train, X_test, y_train, y_test = train_test_split(X, y, test_size=0.2, random_state=42, stratify=y)\n",
    "scaler = StandardScaler()\n",
    "X_train = scaler.fit_transform(X_train)\n",
    "X_test = scaler.transform(X_test)\n",
    "X_train = pd.DataFrame(X_train, columns=X.columns)\n",
    "X_test = pd.DataFrame(X_test, columns=X.columns)\n",
    "X_train = remove_correlated_features(X_train, threshold=0.75)\n",
    "\n",
    "xgb = XGBClassifier(n_estimators=1000, max_depth=5, n_jobs=-1, random_state=42)\n",
    "cat = CatBoostClassifier(verbose=0, random_state=42)\n",
    "rf = RandomForestClassifier(n_estimators=1000, max_depth=5, n_jobs=-1, random_state=42)\n",
    "\n",
    "voting = VotingClassifier(estimators=[('xgb', xgb), ('cat', cat), ('rf', rf)], voting='soft')\n",
    "\n",
    "ggs = GreedyGainSelector(estimator=voting, method='top_1', verbose=1, forward=True, logs=True, prefix=\"GreedyGainSelector\")\n",
    "ggs.fit(X_train, y_train)\n",
    "ggs.print_support()"
   ]
  },
  {
   "cell_type": "code",
   "execution_count": 3,
   "metadata": {},
   "outputs": [],
   "source": [
    "features = ggs.get_support()\n",
    "with open(f'features/GreedyGainSelector_{voting.__class__.__name__}_{\"top_1\"}_{0.25}_{0.2}_{5}_{True}.pkl', 'wb') as f:\n",
    "    pickle.dump(features, f)"
   ]
  }
 ],
 "metadata": {
  "kernelspec": {
   "display_name": "Python 3",
   "language": "python",
   "name": "python3"
  },
  "language_info": {
   "codemirror_mode": {
    "name": "ipython",
    "version": 3
   },
   "file_extension": ".py",
   "mimetype": "text/x-python",
   "name": "python",
   "nbconvert_exporter": "python",
   "pygments_lexer": "ipython3",
   "version": "3.10.6"
  }
 },
 "nbformat": 4,
 "nbformat_minor": 2
}
