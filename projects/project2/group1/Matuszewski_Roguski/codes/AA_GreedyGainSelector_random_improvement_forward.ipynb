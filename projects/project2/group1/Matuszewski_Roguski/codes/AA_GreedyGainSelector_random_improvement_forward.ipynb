{
 "cells": [
  {
   "cell_type": "code",
   "execution_count": 1,
   "metadata": {},
   "outputs": [],
   "source": [
    "import pandas as pd\n",
    "import numpy as np\n",
    "from sklearn.model_selection import train_test_split\n",
    "from sklearn.preprocessing import StandardScaler\n",
    "from xgboost import XGBClassifier\n",
    "from catboost import CatBoostClassifier\n",
    "from sklearn.ensemble import RandomForestClassifier\n",
    "from sklearn.ensemble import VotingClassifier\n",
    "from src.feature_selectors import GreedyGainSelector, remove_correlated_features\n",
    "import pickle\n",
    "import warnings\n",
    "warnings.filterwarnings(\"ignore\")"
   ]
  },
  {
   "cell_type": "code",
   "execution_count": 2,
   "metadata": {},
   "outputs": [
    {
     "name": "stdout",
     "output_type": "stream",
     "text": [
      "Continue from iteration 2\n",
      "--------------------\n",
      "Current best score: 1296.0\n",
      "Current selected features: ['x101', 'x102']\n",
      "Head of scores dataframe:\n",
      "     column   score\n",
      "91    x100  1340.0\n",
      "94    x105  1330.0\n",
      "195   x206  1298.0\n",
      "160   x171  1296.0\n",
      "92    x103  1296.0\n",
      "Selected column: x100\n",
      "Selected column score: 1340.0\n",
      "--------------------\n",
      "Current best score: 1340.0\n",
      "Current selected features: ['x101', 'x102', 'x100']\n",
      "Head of scores dataframe:\n",
      "     column   score\n",
      "93    x105  1362.0\n",
      "281   x293  1350.0\n",
      "8      x17  1342.0\n",
      "106   x118  1340.0\n",
      "482   x494  1340.0\n",
      "Selected column: x105\n",
      "Selected column score: 1362.0\n",
      "--------------------\n",
      "Current best score: 1362.0\n",
      "Current selected features: ['x101', 'x102', 'x100', 'x105']\n",
      "Head of scores dataframe:\n",
      "     column   score\n",
      "86     x95  1364.0\n",
      "361   x374  1364.0\n",
      "257   x270  1364.0\n",
      "405   x418  1362.0\n",
      "433   x446  1362.0\n",
      "Selected column: x270\n",
      "Selected column score: 1364.0\n",
      "--------------------\n",
      "Current best score: 1364.0\n",
      "Current selected features: ['x101', 'x102', 'x100', 'x105', 'x270']\n",
      "Head of scores dataframe:\n",
      "     column   score\n",
      "360   x374  1352.0\n",
      "421   x435  1332.0\n",
      "86     x95  1332.0\n",
      "116   x129  1330.0\n",
      "484   x498  1328.0\n",
      "Number of features: 5\n",
      "Features: ['x101', 'x102', 'x100', 'x105', 'x270']\n"
     ]
    }
   ],
   "source": [
    "X = pd.read_csv('data/x_train.txt', sep=' ', header=None)\n",
    "X.columns = ['x' + str(i) for i in range(500)]\n",
    "y = pd.read_csv('data/y_train.txt', header=None)\n",
    "\n",
    "X_train, X_test, y_train, y_test = train_test_split(X, y, test_size=0.2, random_state=42, stratify=y)\n",
    "scaler = StandardScaler()\n",
    "X_train = scaler.fit_transform(X_train)\n",
    "X_test = scaler.transform(X_test)\n",
    "X_train = pd.DataFrame(X_train, columns=X.columns)\n",
    "X_test = pd.DataFrame(X_test, columns=X.columns)\n",
    "X_train = remove_correlated_features(X_train, threshold=0.75)\n",
    "\n",
    "xgb = XGBClassifier(n_estimators=1000, max_depth=5, n_jobs=-1, random_state=42)\n",
    "cat = CatBoostClassifier(verbose=0, random_state=42)\n",
    "rf = RandomForestClassifier(n_estimators=1000, max_depth=5, n_jobs=-1, random_state=42)\n",
    "\n",
    "voting = VotingClassifier(estimators=[('xgb', xgb), ('cat', cat), ('rf', rf)], voting='soft')\n",
    "\n",
    "ggs = GreedyGainSelector(estimator=voting, method='random_improvement', verbose=1, forward=True, logs=True, prefix=\"GreedyGainSelector\")\n",
    "ggs.fit(X_train, y_train)\n",
    "ggs.print_support()"
   ]
  },
  {
   "cell_type": "code",
   "execution_count": 3,
   "metadata": {},
   "outputs": [],
   "source": [
    "features = ggs.get_support()\n",
    "with open(f'features/GreedyGainSelector_{voting.__class__.__name__}_{\"random_improvement\"}_{0.25}_{0.2}_{5}_{True}.pkl', 'wb') as f:\n",
    "    pickle.dump(features, f)"
   ]
  }
 ],
 "metadata": {
  "kernelspec": {
   "display_name": "Python 3",
   "language": "python",
   "name": "python3"
  },
  "language_info": {
   "codemirror_mode": {
    "name": "ipython",
    "version": 3
   },
   "file_extension": ".py",
   "mimetype": "text/x-python",
   "name": "python",
   "nbconvert_exporter": "python",
   "pygments_lexer": "ipython3",
   "version": "3.10.6"
  }
 },
 "nbformat": 4,
 "nbformat_minor": 2
}
