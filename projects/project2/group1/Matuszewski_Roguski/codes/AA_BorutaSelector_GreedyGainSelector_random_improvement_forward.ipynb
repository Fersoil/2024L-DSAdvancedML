{
 "cells": [
  {
   "cell_type": "code",
   "execution_count": 1,
   "metadata": {},
   "outputs": [],
   "source": [
    "import pandas as pd\n",
    "import numpy as np\n",
    "from sklearn.model_selection import train_test_split\n",
    "from sklearn.preprocessing import StandardScaler\n",
    "from xgboost import XGBClassifier\n",
    "from catboost import CatBoostClassifier\n",
    "from sklearn.ensemble import RandomForestClassifier\n",
    "from sklearn.ensemble import VotingClassifier\n",
    "from src.feature_selectors import GreedyGainSelector, BorutaSelector, remove_correlated_features\n",
    "import pickle\n",
    "import warnings\n",
    "warnings.filterwarnings(\"ignore\")"
   ]
  },
  {
   "cell_type": "code",
   "execution_count": 2,
   "metadata": {},
   "outputs": [
    {
     "name": "stdout",
     "output_type": "stream",
     "text": [
      "Number of features: 7\n",
      "Features: ['x9', 'x100', 'x101', 'x102', 'x103', 'x104', 'x105']\n",
      "--------------------\n",
      "Current best score: -inf\n",
      "Current selected features: []\n",
      "Head of scores dataframe:\n",
      "   column   score\n",
      "2   x101  1214.0\n",
      "1   x100  1174.0\n",
      "3   x102  1170.0\n",
      "6   x105  1168.0\n",
      "0     x9  1112.0\n",
      "Selected column: x101\n",
      "Selected column score: 1214.0\n",
      "--------------------\n",
      "Current best score: 1214.0\n",
      "Current selected features: ['x101']\n",
      "Head of scores dataframe:\n",
      "   column   score\n",
      "1   x100  1294.0\n",
      "5   x105  1288.0\n",
      "2   x102  1270.0\n",
      "4   x104  1228.0\n",
      "0     x9  1226.0\n",
      "Selected column: x100\n",
      "Selected column score: 1294.0\n",
      "--------------------\n",
      "Current best score: 1294.0\n",
      "Current selected features: ['x101', 'x100']\n",
      "Head of scores dataframe:\n",
      "   column   score\n",
      "4   x105  1350.0\n",
      "1   x102  1330.0\n",
      "0     x9  1306.0\n",
      "2   x103  1294.0\n",
      "3   x104  1292.0\n",
      "Selected column: x102\n",
      "Selected column score: 1330.0\n",
      "--------------------\n",
      "Current best score: 1330.0\n",
      "Current selected features: ['x101', 'x100', 'x102']\n",
      "Head of scores dataframe:\n",
      "   column   score\n",
      "3   x105  1348.0\n",
      "0     x9  1322.0\n",
      "1   x103  1320.0\n",
      "2   x104  1292.0\n",
      "Selected column: x105\n",
      "Selected column score: 1348.0\n",
      "--------------------\n",
      "Current best score: 1348.0\n",
      "Current selected features: ['x101', 'x100', 'x102', 'x105']\n",
      "Head of scores dataframe:\n",
      "   column   score\n",
      "1   x103  1340.0\n",
      "2   x104  1336.0\n",
      "0     x9  1318.0\n",
      "Number of features: 4\n",
      "Features: ['x101', 'x100', 'x102', 'x105']\n"
     ]
    }
   ],
   "source": [
    "X = pd.read_csv('data/x_train.txt', sep=' ', header=None)\n",
    "X.columns = ['x' + str(i) for i in range(500)]\n",
    "y = pd.read_csv('data/y_train.txt', header=None)\n",
    "\n",
    "X_train, X_test, y_train, y_test = train_test_split(X, y, test_size=0.2, random_state=42, stratify=y)\n",
    "scaler = StandardScaler()\n",
    "X_train = scaler.fit_transform(X_train)\n",
    "X_test = scaler.transform(X_test)\n",
    "X_train = pd.DataFrame(X_train, columns=X.columns)\n",
    "X_test = pd.DataFrame(X_test, columns=X.columns)\n",
    "X_train = remove_correlated_features(X_train, threshold=0.75)\n",
    "\n",
    "xgb = XGBClassifier(n_estimators=1000, max_depth=5, n_jobs=-1, random_state=42)\n",
    "cat = CatBoostClassifier(verbose=0, random_state=42)\n",
    "rf = RandomForestClassifier(n_estimators=1000, max_depth=5, n_jobs=-1, random_state=42)\n",
    "\n",
    "voting = VotingClassifier(estimators=[('xgb', xgb), ('cat', cat), ('rf', rf)], voting='soft')\n",
    "bs = BorutaSelector(estimator=rf, random_state=42)\n",
    "X_train = bs.fit_transform(X_train, y_train)\n",
    "bs.print_support()\n",
    "ggs = GreedyGainSelector(estimator=voting, method='random_improvement', verbose=1, forward=True, logs=True, prefix=\"BorutaSelector_GreedyGainSelector\")\n",
    "ggs.fit(X_train, y_train)\n",
    "ggs.print_support()"
   ]
  },
  {
   "cell_type": "code",
   "execution_count": 3,
   "metadata": {},
   "outputs": [],
   "source": [
    "features = ggs.get_support()\n",
    "with open(f'features/BorutaSelector_GreedyGainSelector_{voting.__class__.__name__}_{\"random_improvement\"}_{0.25}_{0.2}_{5}_{True}.pkl', 'wb') as f:\n",
    "    pickle.dump(features, f)"
   ]
  }
 ],
 "metadata": {
  "kernelspec": {
   "display_name": "Python 3",
   "language": "python",
   "name": "python3"
  },
  "language_info": {
   "codemirror_mode": {
    "name": "ipython",
    "version": 3
   },
   "file_extension": ".py",
   "mimetype": "text/x-python",
   "name": "python",
   "nbconvert_exporter": "python",
   "pygments_lexer": "ipython3",
   "version": "3.10.6"
  }
 },
 "nbformat": 4,
 "nbformat_minor": 2
}
