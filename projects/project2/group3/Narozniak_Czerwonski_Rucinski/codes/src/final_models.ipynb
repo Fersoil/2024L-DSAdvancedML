{
 "cells": [
  {
   "cell_type": "code",
   "execution_count": 1,
   "metadata": {},
   "outputs": [],
   "source": [
    "import pandas as pd\n",
    "# import lightgbm as lgb\n",
    "# import xgboost as xgb\n",
    "# from catboost import CatBoostClassifier, Pool\n",
    "from metrics import  accuracy\n",
    "import numpy as np\n",
    "import matplotlib.cm\n",
    "from sklearn.pipeline import Pipeline\n",
    "from sklearn.metrics import balanced_accuracy_score\n",
    "from sklearn.feature_selection import SelectKBest, f_classif, mutual_info_classif, SelectFromModel, RFE, VarianceThreshold, chi2\n",
    "from sklearn.linear_model import LogisticRegression\n",
    "from sklearn.ensemble import RandomForestClassifier, ExtraTreesClassifier\n",
    "from sklearn.tree import DecisionTreeClassifier\n",
    "from sklearn.discriminant_analysis import LinearDiscriminantAnalysis, QuadraticDiscriminantAnalysis\n",
    "from sklearn.model_selection import GridSearchCV\n",
    "from sklearn.model_selection import StratifiedKFold\n",
    "from sklearn.svm import SVC\n",
    "from sklearn.dummy import DummyClassifier\n",
    "from xgboost import XGBClassifier\n",
    "import pickle\n",
    "from sklearn.feature_extraction.text import CountVectorizer\n",
    "from final_model_training import *\n",
    "import lightgbm as lgbm\n",
    "from lightgbm import LGBMClassifier\n",
    "from sklearn.naive_bayes import GaussianNB\n",
    "\n",
    "# from catboost import CatBoostClassifier, Pool\n",
    "import matplotlib.pyplot as plt\n",
    "\n",
    "from warnings import simplefilter\n",
    "from sklearn.exceptions import ConvergenceWarning\n",
    "\n",
    "simplefilter(\"ignore\", category=ConvergenceWarning)\n",
    "simplefilter(\"ignore\", category=RuntimeWarning) \n",
    "simplefilter(\"ignore\", category=UserWarning)"
   ]
  },
  {
   "cell_type": "code",
   "execution_count": 2,
   "metadata": {},
   "outputs": [
    {
     "name": "stderr",
     "output_type": "stream",
     "text": [
      "/tmp/ipykernel_15416/1583141569.py:9: FutureWarning: The 'delim_whitespace' keyword in pd.read_csv is deprecated and will be removed in a future version. Use ``sep='\\s+'`` instead\n",
      "  X = pd.read_csv(x_train_path, delim_whitespace=True, header=None)\n",
      "/tmp/ipykernel_15416/1583141569.py:10: FutureWarning: The 'delim_whitespace' keyword in pd.read_csv is deprecated and will be removed in a future version. Use ``sep='\\s+'`` instead\n",
      "  y = pd.read_csv(y_train_path, delim_whitespace=True, header=None)\n",
      "/tmp/ipykernel_15416/1583141569.py:11: FutureWarning: The 'delim_whitespace' keyword in pd.read_csv is deprecated and will be removed in a future version. Use ``sep='\\s+'`` instead\n",
      "  X_real_test = pd.read_csv(x_test_path, delim_whitespace=True, header=None)\n"
     ]
    }
   ],
   "source": [
    "RANDOM_STATE = 42\n",
    "\n",
    "x_train_path = \"./../../data/x_train.txt\"\n",
    "y_train_path = \"./../../data/y_train.txt\"\n",
    "\n",
    "x_test_path = \"./../../data/x_test.txt\"\n",
    "\n",
    "\n",
    "X = pd.read_csv(x_train_path, delim_whitespace=True, header=None)\n",
    "y = pd.read_csv(y_train_path, delim_whitespace=True, header=None)\n",
    "X_real_test = pd.read_csv(x_test_path, delim_whitespace=True, header=None)\n"
   ]
  },
  {
   "cell_type": "markdown",
   "metadata": {},
   "source": [
    "# Ensembling #"
   ]
  },
  {
   "cell_type": "code",
   "execution_count": 3,
   "metadata": {},
   "outputs": [],
   "source": [
    "\n",
    "xgb_params = {'colsample_bytree': 0.5307786809163018,\n",
    "  'eta': 0.013200015577644199,\n",
    "  'gamma': 3.3403122511768517,\n",
    "  'max_depth': 9,\n",
    "  'min_child_weight': 2,\n",
    "  'n_estimators': 105,\n",
    "  'reg_lambda': 0.2343443736214615,\n",
    "  'seed': 123}"
   ]
  },
  {
   "cell_type": "code",
   "execution_count": 4,
   "metadata": {},
   "outputs": [],
   "source": [
    "lgbm_params = {'colsample_bytree': 0.6489567476794972,\n",
    "  'learning_rate': 0.25379898942316537,\n",
    "  'min_child_weight': 10,\n",
    "  'n_estimators': 145,\n",
    "  'num_leaves': 2,\n",
    "  'reg_lambda': 0.09233298220540166}"
   ]
  },
  {
   "cell_type": "code",
   "execution_count": 5,
   "metadata": {},
   "outputs": [],
   "source": [
    "X_final = X[[100,102,105]]"
   ]
  },
  {
   "cell_type": "code",
   "execution_count": 6,
   "metadata": {},
   "outputs": [],
   "source": [
    "cv = 5\n",
    "reg_param = 0.4\n",
    "model_grid_params = {\n",
    "      \"set1\":[\n",
    "            QuadraticDiscriminantAnalysis(reg_param=reg_param),\n",
    "            XGBClassifier(**xgb_params),\n",
    "            LGBMClassifier(**lgbm_params),\n",
    "            GaussianNB(),\n",
    "            SVC(kernel='linear', probability=True),\n",
    "      ],\n",
    "      \"set2\":[\n",
    "            XGBClassifier(**xgb_params),\n",
    "            LGBMClassifier(**lgbm_params),\n",
    "      ],\n",
    "      \"set3\":[\n",
    "            QuadraticDiscriminantAnalysis(reg_param=reg_param),\n",
    "            SVC(kernel='linear', probability=True),\n",
    "            GaussianNB(),\n",
    "      ],\n",
    "      \"set4\":[\n",
    "            QuadraticDiscriminantAnalysis(reg_param=reg_param),\n",
    "      ]\n",
    "}\n"
   ]
  },
  {
   "cell_type": "code",
   "execution_count": 7,
   "metadata": {},
   "outputs": [
    {
     "name": "stdout",
     "output_type": "stream",
     "text": [
      "set1\n",
      "Running on: set1\n",
      "[LightGBM] [Info] Number of positive: 1997, number of negative: 2003\n",
      "[LightGBM] [Info] Auto-choosing col-wise multi-threading, the overhead of testing was 0.000410 seconds.\n",
      "You can set `force_col_wise=true` to remove the overhead.\n",
      "[LightGBM] [Info] Total Bins 765\n",
      "[LightGBM] [Info] Number of data points in the train set: 4000, number of used features: 3\n",
      "[LightGBM] [Info] [binary:BoostFromScore]: pavg=0.499250 -> initscore=-0.003000\n",
      "[LightGBM] [Info] Start training from score -0.003000\n",
      "[LightGBM] [Info] Number of positive: 1997, number of negative: 2003\n",
      "[LightGBM] [Info] Auto-choosing col-wise multi-threading, the overhead of testing was 0.000075 seconds.\n",
      "You can set `force_col_wise=true` to remove the overhead.\n",
      "[LightGBM] [Info] Total Bins 765\n",
      "[LightGBM] [Info] Number of data points in the train set: 4000, number of used features: 3\n",
      "[LightGBM] [Info] [binary:BoostFromScore]: pavg=0.499250 -> initscore=-0.003000\n",
      "[LightGBM] [Info] Start training from score -0.003000\n",
      "[LightGBM] [Info] Number of positive: 1997, number of negative: 2003\n",
      "[LightGBM] [Info] Auto-choosing col-wise multi-threading, the overhead of testing was 0.000081 seconds.\n",
      "You can set `force_col_wise=true` to remove the overhead.\n",
      "[LightGBM] [Info] Total Bins 765\n",
      "[LightGBM] [Info] Number of data points in the train set: 4000, number of used features: 3\n",
      "[LightGBM] [Info] [binary:BoostFromScore]: pavg=0.499250 -> initscore=-0.003000\n",
      "[LightGBM] [Info] Start training from score -0.003000\n",
      "[LightGBM] [Info] Number of positive: 1997, number of negative: 2003\n",
      "[LightGBM] [Info] Auto-choosing col-wise multi-threading, the overhead of testing was 0.000085 seconds.\n",
      "You can set `force_col_wise=true` to remove the overhead.\n",
      "[LightGBM] [Info] Total Bins 765\n",
      "[LightGBM] [Info] Number of data points in the train set: 4000, number of used features: 3\n",
      "[LightGBM] [Info] [binary:BoostFromScore]: pavg=0.499250 -> initscore=-0.003000\n",
      "[LightGBM] [Info] Start training from score -0.003000\n",
      "[LightGBM] [Info] Number of positive: 1996, number of negative: 2004\n",
      "[LightGBM] [Info] Auto-choosing col-wise multi-threading, the overhead of testing was 0.000073 seconds.\n",
      "You can set `force_col_wise=true` to remove the overhead.\n",
      "[LightGBM] [Info] Total Bins 765\n",
      "[LightGBM] [Info] Number of data points in the train set: 4000, number of used features: 3\n",
      "[LightGBM] [Info] [binary:BoostFromScore]: pavg=0.499000 -> initscore=-0.004000\n",
      "[LightGBM] [Info] Start training from score -0.004000\n",
      "set2\n",
      "Running on: set2\n",
      "[LightGBM] [Info] Number of positive: 1997, number of negative: 2003\n",
      "[LightGBM] [Info] Auto-choosing col-wise multi-threading, the overhead of testing was 0.000068 seconds.\n",
      "You can set `force_col_wise=true` to remove the overhead.\n",
      "[LightGBM] [Info] Total Bins 765\n",
      "[LightGBM] [Info] Number of data points in the train set: 4000, number of used features: 3\n",
      "[LightGBM] [Info] [binary:BoostFromScore]: pavg=0.499250 -> initscore=-0.003000\n",
      "[LightGBM] [Info] Start training from score -0.003000\n",
      "[LightGBM] [Info] Number of positive: 1997, number of negative: 2003\n",
      "[LightGBM] [Info] Auto-choosing col-wise multi-threading, the overhead of testing was 0.000602 seconds.\n",
      "You can set `force_col_wise=true` to remove the overhead.\n",
      "[LightGBM] [Info] Total Bins 765\n",
      "[LightGBM] [Info] Number of data points in the train set: 4000, number of used features: 3\n",
      "[LightGBM] [Info] [binary:BoostFromScore]: pavg=0.499250 -> initscore=-0.003000\n",
      "[LightGBM] [Info] Start training from score -0.003000\n",
      "[LightGBM] [Info] Number of positive: 1997, number of negative: 2003\n",
      "[LightGBM] [Info] Auto-choosing col-wise multi-threading, the overhead of testing was 0.000133 seconds.\n",
      "You can set `force_col_wise=true` to remove the overhead.\n",
      "[LightGBM] [Info] Total Bins 765\n",
      "[LightGBM] [Info] Number of data points in the train set: 4000, number of used features: 3\n",
      "[LightGBM] [Info] [binary:BoostFromScore]: pavg=0.499250 -> initscore=-0.003000\n",
      "[LightGBM] [Info] Start training from score -0.003000\n",
      "[LightGBM] [Info] Number of positive: 1997, number of negative: 2003\n",
      "[LightGBM] [Info] Auto-choosing col-wise multi-threading, the overhead of testing was 0.000071 seconds.\n",
      "You can set `force_col_wise=true` to remove the overhead.\n",
      "[LightGBM] [Info] Total Bins 765\n",
      "[LightGBM] [Info] Number of data points in the train set: 4000, number of used features: 3\n",
      "[LightGBM] [Info] [binary:BoostFromScore]: pavg=0.499250 -> initscore=-0.003000\n",
      "[LightGBM] [Info] Start training from score -0.003000\n",
      "[LightGBM] [Info] Number of positive: 1996, number of negative: 2004\n",
      "[LightGBM] [Info] Auto-choosing col-wise multi-threading, the overhead of testing was 0.000186 seconds.\n",
      "You can set `force_col_wise=true` to remove the overhead.\n",
      "[LightGBM] [Info] Total Bins 765\n",
      "[LightGBM] [Info] Number of data points in the train set: 4000, number of used features: 3\n",
      "[LightGBM] [Info] [binary:BoostFromScore]: pavg=0.499000 -> initscore=-0.004000\n",
      "[LightGBM] [Info] Start training from score -0.004000\n",
      "set3\n",
      "Running on: set3\n",
      "set4\n",
      "Running on: set4\n"
     ]
    }
   ],
   "source": [
    "results_dict = run_grid_search_cv(model_grid_params, X_final, y, profit_scoring, 5)"
   ]
  },
  {
   "cell_type": "code",
   "execution_count": 11,
   "metadata": {},
   "outputs": [
    {
     "data": {
      "text/plain": [
       "{'set1': 53.14132102234569,\n",
       " 'set2': 47.49736834815167,\n",
       " 'set3': 66.75327707311455,\n",
       " 'set4': 64.18722614352485}"
      ]
     },
     "execution_count": 11,
     "metadata": {},
     "output_type": "execute_result"
    }
   ],
   "source": [
    "results_dict_mean = apply_transform_to_res(results_dict, np.std)\n",
    "results_dict_mean"
   ]
  },
  {
   "cell_type": "markdown",
   "metadata": {},
   "source": [
    "# Final #"
   ]
  },
  {
   "cell_type": "code",
   "execution_count": 10,
   "metadata": {},
   "outputs": [
    {
     "data": {
      "text/html": [
       "<div>\n",
       "<style scoped>\n",
       "    .dataframe tbody tr th:only-of-type {\n",
       "        vertical-align: middle;\n",
       "    }\n",
       "\n",
       "    .dataframe tbody tr th {\n",
       "        vertical-align: top;\n",
       "    }\n",
       "\n",
       "    .dataframe thead th {\n",
       "        text-align: right;\n",
       "    }\n",
       "</style>\n",
       "<table border=\"1\" class=\"dataframe\">\n",
       "  <thead>\n",
       "    <tr style=\"text-align: right;\">\n",
       "      <th></th>\n",
       "      <th>preds</th>\n",
       "      <th>id</th>\n",
       "    </tr>\n",
       "  </thead>\n",
       "  <tbody>\n",
       "    <tr>\n",
       "      <th>4001</th>\n",
       "      <td>0.964595</td>\n",
       "      <td>4001</td>\n",
       "    </tr>\n",
       "    <tr>\n",
       "      <th>1109</th>\n",
       "      <td>0.891931</td>\n",
       "      <td>1109</td>\n",
       "    </tr>\n",
       "    <tr>\n",
       "      <th>2319</th>\n",
       "      <td>0.890909</td>\n",
       "      <td>2319</td>\n",
       "    </tr>\n",
       "    <tr>\n",
       "      <th>4997</th>\n",
       "      <td>0.888599</td>\n",
       "      <td>4997</td>\n",
       "    </tr>\n",
       "    <tr>\n",
       "      <th>3249</th>\n",
       "      <td>0.886925</td>\n",
       "      <td>3249</td>\n",
       "    </tr>\n",
       "    <tr>\n",
       "      <th>...</th>\n",
       "      <td>...</td>\n",
       "      <td>...</td>\n",
       "    </tr>\n",
       "    <tr>\n",
       "      <th>2838</th>\n",
       "      <td>0.561537</td>\n",
       "      <td>2838</td>\n",
       "    </tr>\n",
       "    <tr>\n",
       "      <th>3837</th>\n",
       "      <td>0.561523</td>\n",
       "      <td>3837</td>\n",
       "    </tr>\n",
       "    <tr>\n",
       "      <th>3784</th>\n",
       "      <td>0.561498</td>\n",
       "      <td>3784</td>\n",
       "    </tr>\n",
       "    <tr>\n",
       "      <th>2971</th>\n",
       "      <td>0.561470</td>\n",
       "      <td>2971</td>\n",
       "    </tr>\n",
       "    <tr>\n",
       "      <th>4276</th>\n",
       "      <td>0.561407</td>\n",
       "      <td>4276</td>\n",
       "    </tr>\n",
       "  </tbody>\n",
       "</table>\n",
       "<p>1000 rows × 2 columns</p>\n",
       "</div>"
      ],
      "text/plain": [
       "         preds    id\n",
       "4001  0.964595  4001\n",
       "1109  0.891931  1109\n",
       "2319  0.890909  2319\n",
       "4997  0.888599  4997\n",
       "3249  0.886925  3249\n",
       "...        ...   ...\n",
       "2838  0.561537  2838\n",
       "3837  0.561523  3837\n",
       "3784  0.561498  3784\n",
       "2971  0.561470  2971\n",
       "4276  0.561407  4276\n",
       "\n",
       "[1000 rows x 2 columns]"
      ]
     },
     "execution_count": 10,
     "metadata": {},
     "output_type": "execute_result"
    }
   ],
   "source": [
    "X_final = X[[100,102,105]]\n",
    "X_real_test_final = X_real_test[[100,102,105]]\n",
    "\n",
    "model_set = [\n",
    "        QuadraticDiscriminantAnalysis(reg_param=0.4),\n",
    "        # XGBClassifier(**xgb_params),\n",
    "        # LGBMClassifier(**lgbm_params),\n",
    "        # GaussianNB(),\n",
    "        # SVC(kernel='linear', probability=True),\n",
    "]\n",
    "\n",
    "train_and_predict_final_model(model_set, X_final, y, X_real_test_final)"
   ]
  }
 ],
 "metadata": {
  "kernelspec": {
   "display_name": "Python 3",
   "language": "python",
   "name": "python3"
  },
  "language_info": {
   "codemirror_mode": {
    "name": "ipython",
    "version": 3
   },
   "file_extension": ".py",
   "mimetype": "text/x-python",
   "name": "python",
   "nbconvert_exporter": "python",
   "pygments_lexer": "ipython3",
   "version": "3.10.12"
  }
 },
 "nbformat": 4,
 "nbformat_minor": 2
}
