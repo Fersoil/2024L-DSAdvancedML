{
  "nbformat": 4,
  "nbformat_minor": 0,
  "metadata": {
    "colab": {
      "provenance": [],
      "collapsed_sections": [
        "1Hqa5t6q5YVD",
        "0-ZHzYl87YWq",
        "pTTxzC7mPMYd"
      ]
    },
    "kernelspec": {
      "name": "python3",
      "display_name": "Python 3"
    },
    "language_info": {
      "name": "python"
    }
  },
  "cells": [
    {
      "cell_type": "markdown",
      "source": [
        "# Dependecies"
      ],
      "metadata": {
        "id": "MqrWRO9YNv3g"
      }
    },
    {
      "cell_type": "code",
      "execution_count": null,
      "metadata": {
        "colab": {
          "base_uri": "https://localhost:8080/"
        },
        "id": "B4XM1ZLFlcfj",
        "outputId": "6df9d6e2-f747-4b5b-cfcd-e329b5a5c61a"
      },
      "outputs": [
        {
          "output_type": "stream",
          "name": "stdout",
          "text": [
            "Collecting Boruta\n",
            "  Downloading Boruta-0.3-py3-none-any.whl (56 kB)\n",
            "\u001b[2K     \u001b[90m━━━━━━━━━━━━━━━━━━━━━━━━━━━━━━━━━━━━━━━━\u001b[0m \u001b[32m56.6/56.6 kB\u001b[0m \u001b[31m1.1 MB/s\u001b[0m eta \u001b[36m0:00:00\u001b[0m\n",
            "\u001b[?25hRequirement already satisfied: numpy>=1.10.4 in /usr/local/lib/python3.10/dist-packages (from Boruta) (1.25.2)\n",
            "Requirement already satisfied: scikit-learn>=0.17.1 in /usr/local/lib/python3.10/dist-packages (from Boruta) (1.2.2)\n",
            "Requirement already satisfied: scipy>=0.17.0 in /usr/local/lib/python3.10/dist-packages (from Boruta) (1.11.4)\n",
            "Requirement already satisfied: joblib>=1.1.1 in /usr/local/lib/python3.10/dist-packages (from scikit-learn>=0.17.1->Boruta) (1.4.2)\n",
            "Requirement already satisfied: threadpoolctl>=2.0.0 in /usr/local/lib/python3.10/dist-packages (from scikit-learn>=0.17.1->Boruta) (3.5.0)\n",
            "Installing collected packages: Boruta\n",
            "Successfully installed Boruta-0.3\n",
            "Mounted at /content/drive\n"
          ]
        }
      ],
      "source": [
        "!pip install Boruta\n",
        "from google.colab import files, drive\n",
        "drive.mount('/content/drive')\n",
        "!cp /content/drive/MyDrive/Studia/DS/Sem2/AML/Project2/boruta_py.py /usr/local/lib/python3.10/dist-packages/boruta/boruta_py.py"
      ]
    },
    {
      "cell_type": "code",
      "source": [
        "import numpy as np\n",
        "from sklearn.model_selection import StratifiedKFold\n",
        "from sklearn.preprocessing import StandardScaler\n",
        "from sklearn.model_selection import train_test_split, cross_val_score\n",
        "from sklearn.ensemble import RandomForestClassifier\n",
        "from sklearn.linear_model import LogisticRegression\n",
        "from sklearn.neighbors import KNeighborsClassifier\n",
        "from sklearn.naive_bayes import GaussianNB\n",
        "from boruta import BorutaPy\n",
        "import xgboost as xgb\n",
        "from sklearn.feature_selection import SequentialFeatureSelector\n",
        "from sklearn.pipeline import Pipeline\n",
        "from sklearn.feature_selection import SelectFromModel\n",
        "from sklearn.discriminant_analysis import QuadraticDiscriminantAnalysis as QDA\n",
        "from sklearn.metrics import make_scorer\n",
        "from hyperopt import STATUS_OK, Trials, fmin, hp, tpe\n",
        "from sklearn.metrics import accuracy_score\n",
        "import time\n",
        "import pandas as pd\n",
        "import lightgbm as lgbm"
      ],
      "metadata": {
        "id": "ZKou1d5XmCvW"
      },
      "execution_count": null,
      "outputs": []
    },
    {
      "cell_type": "markdown",
      "source": [
        "# Data"
      ],
      "metadata": {
        "id": "i6Ddr9gDN08f"
      }
    },
    {
      "cell_type": "code",
      "source": [
        "data_path = '/content/drive/MyDrive/Studia/DS/Sem2/AML/Project2/Data'"
      ],
      "metadata": {
        "id": "ylNNjlsPmFSJ"
      },
      "execution_count": null,
      "outputs": []
    },
    {
      "cell_type": "code",
      "source": [
        "X = np.loadtxt(data_path+'/x_train.txt')\n",
        "y = np.loadtxt(data_path+'/y_train.txt')\n",
        "test = np.loadtxt(data_path+'/x_test.txt')"
      ],
      "metadata": {
        "id": "7ZMXR-2wmHcp"
      },
      "execution_count": null,
      "outputs": []
    },
    {
      "cell_type": "markdown",
      "source": [
        "# Choosing only a subset of features with boruta algorithm."
      ],
      "metadata": {
        "id": "1Hqa5t6q5YVD"
      }
    },
    {
      "cell_type": "code",
      "source": [
        "rf = RandomForestClassifier(n_jobs=-1, class_weight=None, max_depth=7, random_state=0)\n",
        "boruta = BorutaPy(rf, n_estimators='auto', verbose=2, random_state=0)"
      ],
      "metadata": {
        "id": "RWrAhvEGmPLl"
      },
      "execution_count": null,
      "outputs": []
    },
    {
      "cell_type": "code",
      "source": [
        "boruta.fit(X, y)"
      ],
      "metadata": {
        "colab": {
          "base_uri": "https://localhost:8080/",
          "height": 1000
        },
        "id": "huCu9rUTy7S8",
        "outputId": "2d5a0f99-8929-4b53-e288-f064921383d1",
        "collapsed": true
      },
      "execution_count": null,
      "outputs": [
        {
          "output_type": "stream",
          "name": "stdout",
          "text": [
            "Iteration: \t1 / 100\n",
            "Confirmed: \t0\n",
            "Tentative: \t500\n",
            "Rejected: \t0\n",
            "Iteration: \t2 / 100\n",
            "Confirmed: \t0\n",
            "Tentative: \t500\n",
            "Rejected: \t0\n",
            "Iteration: \t3 / 100\n",
            "Confirmed: \t0\n",
            "Tentative: \t500\n",
            "Rejected: \t0\n",
            "Iteration: \t4 / 100\n",
            "Confirmed: \t0\n",
            "Tentative: \t500\n",
            "Rejected: \t0\n",
            "Iteration: \t5 / 100\n",
            "Confirmed: \t0\n",
            "Tentative: \t500\n",
            "Rejected: \t0\n",
            "Iteration: \t6 / 100\n",
            "Confirmed: \t0\n",
            "Tentative: \t500\n",
            "Rejected: \t0\n",
            "Iteration: \t7 / 100\n",
            "Confirmed: \t0\n",
            "Tentative: \t500\n",
            "Rejected: \t0\n",
            "Iteration: \t8 / 100\n",
            "Confirmed: \t0\n",
            "Tentative: \t23\n",
            "Rejected: \t477\n",
            "Iteration: \t9 / 100\n",
            "Confirmed: \t16\n",
            "Tentative: \t7\n",
            "Rejected: \t477\n",
            "Iteration: \t10 / 100\n",
            "Confirmed: \t16\n",
            "Tentative: \t7\n",
            "Rejected: \t477\n",
            "Iteration: \t11 / 100\n",
            "Confirmed: \t16\n",
            "Tentative: \t7\n",
            "Rejected: \t477\n",
            "Iteration: \t12 / 100\n",
            "Confirmed: \t16\n",
            "Tentative: \t4\n",
            "Rejected: \t480\n",
            "Iteration: \t13 / 100\n",
            "Confirmed: \t16\n",
            "Tentative: \t4\n",
            "Rejected: \t480\n",
            "Iteration: \t14 / 100\n",
            "Confirmed: \t16\n",
            "Tentative: \t4\n",
            "Rejected: \t480\n",
            "Iteration: \t15 / 100\n",
            "Confirmed: \t16\n",
            "Tentative: \t4\n",
            "Rejected: \t480\n",
            "Iteration: \t16 / 100\n",
            "Confirmed: \t16\n",
            "Tentative: \t3\n",
            "Rejected: \t481\n",
            "Iteration: \t17 / 100\n",
            "Confirmed: \t16\n",
            "Tentative: \t3\n",
            "Rejected: \t481\n",
            "Iteration: \t18 / 100\n",
            "Confirmed: \t16\n",
            "Tentative: \t3\n",
            "Rejected: \t481\n",
            "Iteration: \t19 / 100\n",
            "Confirmed: \t16\n",
            "Tentative: \t2\n",
            "Rejected: \t482\n",
            "Iteration: \t20 / 100\n",
            "Confirmed: \t16\n",
            "Tentative: \t2\n",
            "Rejected: \t482\n",
            "Iteration: \t21 / 100\n",
            "Confirmed: \t16\n",
            "Tentative: \t2\n",
            "Rejected: \t482\n",
            "Iteration: \t22 / 100\n",
            "Confirmed: \t16\n",
            "Tentative: \t2\n",
            "Rejected: \t482\n",
            "Iteration: \t23 / 100\n",
            "Confirmed: \t16\n",
            "Tentative: \t2\n",
            "Rejected: \t482\n",
            "Iteration: \t24 / 100\n",
            "Confirmed: \t16\n",
            "Tentative: \t2\n",
            "Rejected: \t482\n",
            "Iteration: \t25 / 100\n",
            "Confirmed: \t16\n",
            "Tentative: \t2\n",
            "Rejected: \t482\n",
            "Iteration: \t26 / 100\n",
            "Confirmed: \t16\n",
            "Tentative: \t2\n",
            "Rejected: \t482\n",
            "Iteration: \t27 / 100\n",
            "Confirmed: \t16\n",
            "Tentative: \t2\n",
            "Rejected: \t482\n",
            "Iteration: \t28 / 100\n",
            "Confirmed: \t16\n",
            "Tentative: \t2\n",
            "Rejected: \t482\n",
            "Iteration: \t29 / 100\n",
            "Confirmed: \t16\n",
            "Tentative: \t2\n",
            "Rejected: \t482\n",
            "Iteration: \t30 / 100\n",
            "Confirmed: \t16\n",
            "Tentative: \t2\n",
            "Rejected: \t482\n",
            "Iteration: \t31 / 100\n",
            "Confirmed: \t16\n",
            "Tentative: \t2\n",
            "Rejected: \t482\n",
            "Iteration: \t32 / 100\n",
            "Confirmed: \t16\n",
            "Tentative: \t2\n",
            "Rejected: \t482\n",
            "Iteration: \t33 / 100\n",
            "Confirmed: \t16\n",
            "Tentative: \t2\n",
            "Rejected: \t482\n",
            "Iteration: \t34 / 100\n",
            "Confirmed: \t16\n",
            "Tentative: \t2\n",
            "Rejected: \t482\n",
            "Iteration: \t35 / 100\n",
            "Confirmed: \t16\n",
            "Tentative: \t2\n",
            "Rejected: \t482\n",
            "Iteration: \t36 / 100\n",
            "Confirmed: \t16\n",
            "Tentative: \t2\n",
            "Rejected: \t482\n",
            "Iteration: \t37 / 100\n",
            "Confirmed: \t16\n",
            "Tentative: \t2\n",
            "Rejected: \t482\n",
            "Iteration: \t38 / 100\n",
            "Confirmed: \t16\n",
            "Tentative: \t2\n",
            "Rejected: \t482\n",
            "Iteration: \t39 / 100\n",
            "Confirmed: \t16\n",
            "Tentative: \t2\n",
            "Rejected: \t482\n",
            "Iteration: \t40 / 100\n",
            "Confirmed: \t16\n",
            "Tentative: \t2\n",
            "Rejected: \t482\n",
            "Iteration: \t41 / 100\n",
            "Confirmed: \t16\n",
            "Tentative: \t2\n",
            "Rejected: \t482\n",
            "Iteration: \t42 / 100\n",
            "Confirmed: \t16\n",
            "Tentative: \t2\n",
            "Rejected: \t482\n",
            "Iteration: \t43 / 100\n",
            "Confirmed: \t16\n",
            "Tentative: \t2\n",
            "Rejected: \t482\n",
            "Iteration: \t44 / 100\n",
            "Confirmed: \t16\n",
            "Tentative: \t2\n",
            "Rejected: \t482\n",
            "Iteration: \t45 / 100\n",
            "Confirmed: \t16\n",
            "Tentative: \t2\n",
            "Rejected: \t482\n",
            "Iteration: \t46 / 100\n",
            "Confirmed: \t16\n",
            "Tentative: \t2\n",
            "Rejected: \t482\n",
            "Iteration: \t47 / 100\n",
            "Confirmed: \t16\n",
            "Tentative: \t2\n",
            "Rejected: \t482\n",
            "Iteration: \t48 / 100\n",
            "Confirmed: \t16\n",
            "Tentative: \t2\n",
            "Rejected: \t482\n",
            "Iteration: \t49 / 100\n",
            "Confirmed: \t16\n",
            "Tentative: \t2\n",
            "Rejected: \t482\n",
            "Iteration: \t50 / 100\n",
            "Confirmed: \t16\n",
            "Tentative: \t2\n",
            "Rejected: \t482\n",
            "Iteration: \t51 / 100\n",
            "Confirmed: \t16\n",
            "Tentative: \t2\n",
            "Rejected: \t482\n",
            "Iteration: \t52 / 100\n",
            "Confirmed: \t16\n",
            "Tentative: \t2\n",
            "Rejected: \t482\n",
            "Iteration: \t53 / 100\n",
            "Confirmed: \t16\n",
            "Tentative: \t2\n",
            "Rejected: \t482\n",
            "Iteration: \t54 / 100\n",
            "Confirmed: \t16\n",
            "Tentative: \t2\n",
            "Rejected: \t482\n",
            "Iteration: \t55 / 100\n",
            "Confirmed: \t16\n",
            "Tentative: \t2\n",
            "Rejected: \t482\n",
            "Iteration: \t56 / 100\n",
            "Confirmed: \t16\n",
            "Tentative: \t2\n",
            "Rejected: \t482\n",
            "Iteration: \t57 / 100\n",
            "Confirmed: \t16\n",
            "Tentative: \t2\n",
            "Rejected: \t482\n",
            "Iteration: \t58 / 100\n",
            "Confirmed: \t16\n",
            "Tentative: \t2\n",
            "Rejected: \t482\n",
            "Iteration: \t59 / 100\n",
            "Confirmed: \t16\n",
            "Tentative: \t2\n",
            "Rejected: \t482\n",
            "Iteration: \t60 / 100\n",
            "Confirmed: \t16\n",
            "Tentative: \t2\n",
            "Rejected: \t482\n",
            "Iteration: \t61 / 100\n",
            "Confirmed: \t16\n",
            "Tentative: \t2\n",
            "Rejected: \t482\n",
            "Iteration: \t62 / 100\n",
            "Confirmed: \t16\n",
            "Tentative: \t2\n",
            "Rejected: \t482\n",
            "Iteration: \t63 / 100\n",
            "Confirmed: \t16\n",
            "Tentative: \t2\n",
            "Rejected: \t482\n",
            "Iteration: \t64 / 100\n",
            "Confirmed: \t16\n",
            "Tentative: \t2\n",
            "Rejected: \t482\n",
            "Iteration: \t65 / 100\n",
            "Confirmed: \t16\n",
            "Tentative: \t2\n",
            "Rejected: \t482\n",
            "Iteration: \t66 / 100\n",
            "Confirmed: \t16\n",
            "Tentative: \t2\n",
            "Rejected: \t482\n",
            "Iteration: \t67 / 100\n",
            "Confirmed: \t16\n",
            "Tentative: \t2\n",
            "Rejected: \t482\n",
            "Iteration: \t68 / 100\n",
            "Confirmed: \t16\n",
            "Tentative: \t2\n",
            "Rejected: \t482\n",
            "Iteration: \t69 / 100\n",
            "Confirmed: \t16\n",
            "Tentative: \t2\n",
            "Rejected: \t482\n",
            "Iteration: \t70 / 100\n",
            "Confirmed: \t16\n",
            "Tentative: \t2\n",
            "Rejected: \t482\n",
            "Iteration: \t71 / 100\n",
            "Confirmed: \t16\n",
            "Tentative: \t2\n",
            "Rejected: \t482\n",
            "Iteration: \t72 / 100\n",
            "Confirmed: \t16\n",
            "Tentative: \t2\n",
            "Rejected: \t482\n",
            "Iteration: \t73 / 100\n",
            "Confirmed: \t16\n",
            "Tentative: \t2\n",
            "Rejected: \t482\n",
            "Iteration: \t74 / 100\n",
            "Confirmed: \t16\n",
            "Tentative: \t2\n",
            "Rejected: \t482\n",
            "Iteration: \t75 / 100\n",
            "Confirmed: \t16\n",
            "Tentative: \t2\n",
            "Rejected: \t482\n",
            "Iteration: \t76 / 100\n",
            "Confirmed: \t16\n",
            "Tentative: \t2\n",
            "Rejected: \t482\n",
            "Iteration: \t77 / 100\n",
            "Confirmed: \t16\n",
            "Tentative: \t2\n",
            "Rejected: \t482\n",
            "Iteration: \t78 / 100\n",
            "Confirmed: \t16\n",
            "Tentative: \t2\n",
            "Rejected: \t482\n",
            "Iteration: \t79 / 100\n",
            "Confirmed: \t16\n",
            "Tentative: \t2\n",
            "Rejected: \t482\n",
            "Iteration: \t80 / 100\n",
            "Confirmed: \t16\n",
            "Tentative: \t2\n",
            "Rejected: \t482\n",
            "Iteration: \t81 / 100\n",
            "Confirmed: \t16\n",
            "Tentative: \t2\n",
            "Rejected: \t482\n",
            "Iteration: \t82 / 100\n",
            "Confirmed: \t16\n",
            "Tentative: \t2\n",
            "Rejected: \t482\n",
            "Iteration: \t83 / 100\n",
            "Confirmed: \t16\n",
            "Tentative: \t2\n",
            "Rejected: \t482\n",
            "Iteration: \t84 / 100\n",
            "Confirmed: \t16\n",
            "Tentative: \t2\n",
            "Rejected: \t482\n",
            "Iteration: \t85 / 100\n",
            "Confirmed: \t16\n",
            "Tentative: \t2\n",
            "Rejected: \t482\n",
            "Iteration: \t86 / 100\n",
            "Confirmed: \t16\n",
            "Tentative: \t2\n",
            "Rejected: \t482\n",
            "Iteration: \t87 / 100\n",
            "Confirmed: \t16\n",
            "Tentative: \t2\n",
            "Rejected: \t482\n",
            "Iteration: \t88 / 100\n",
            "Confirmed: \t16\n",
            "Tentative: \t2\n",
            "Rejected: \t482\n",
            "Iteration: \t89 / 100\n",
            "Confirmed: \t16\n",
            "Tentative: \t2\n",
            "Rejected: \t482\n",
            "Iteration: \t90 / 100\n",
            "Confirmed: \t16\n",
            "Tentative: \t2\n",
            "Rejected: \t482\n",
            "Iteration: \t91 / 100\n",
            "Confirmed: \t16\n",
            "Tentative: \t2\n",
            "Rejected: \t482\n",
            "Iteration: \t92 / 100\n",
            "Confirmed: \t16\n",
            "Tentative: \t2\n",
            "Rejected: \t482\n",
            "Iteration: \t93 / 100\n",
            "Confirmed: \t16\n",
            "Tentative: \t2\n",
            "Rejected: \t482\n",
            "Iteration: \t94 / 100\n",
            "Confirmed: \t16\n",
            "Tentative: \t2\n",
            "Rejected: \t482\n",
            "Iteration: \t95 / 100\n",
            "Confirmed: \t16\n",
            "Tentative: \t2\n",
            "Rejected: \t482\n",
            "Iteration: \t96 / 100\n",
            "Confirmed: \t16\n",
            "Tentative: \t2\n",
            "Rejected: \t482\n",
            "Iteration: \t97 / 100\n",
            "Confirmed: \t16\n",
            "Tentative: \t2\n",
            "Rejected: \t482\n",
            "Iteration: \t98 / 100\n",
            "Confirmed: \t16\n",
            "Tentative: \t2\n",
            "Rejected: \t482\n",
            "Iteration: \t99 / 100\n",
            "Confirmed: \t16\n",
            "Tentative: \t2\n",
            "Rejected: \t482\n",
            "\n",
            "\n",
            "BorutaPy finished running.\n",
            "\n",
            "Iteration: \t100 / 100\n",
            "Confirmed: \t16\n",
            "Tentative: \t2\n",
            "Rejected: \t482\n"
          ]
        },
        {
          "output_type": "execute_result",
          "data": {
            "text/plain": [
              "BorutaPy(estimator=RandomForestClassifier(max_depth=7, n_estimators=85,\n",
              "                                          n_jobs=-1,\n",
              "                                          random_state=RandomState(MT19937) at 0x791E48509840),\n",
              "         n_estimators='auto',\n",
              "         random_state=RandomState(MT19937) at 0x791E48509840, verbose=2)"
            ],
            "text/html": [
              "<style>#sk-container-id-1 {color: black;background-color: white;}#sk-container-id-1 pre{padding: 0;}#sk-container-id-1 div.sk-toggleable {background-color: white;}#sk-container-id-1 label.sk-toggleable__label {cursor: pointer;display: block;width: 100%;margin-bottom: 0;padding: 0.3em;box-sizing: border-box;text-align: center;}#sk-container-id-1 label.sk-toggleable__label-arrow:before {content: \"▸\";float: left;margin-right: 0.25em;color: #696969;}#sk-container-id-1 label.sk-toggleable__label-arrow:hover:before {color: black;}#sk-container-id-1 div.sk-estimator:hover label.sk-toggleable__label-arrow:before {color: black;}#sk-container-id-1 div.sk-toggleable__content {max-height: 0;max-width: 0;overflow: hidden;text-align: left;background-color: #f0f8ff;}#sk-container-id-1 div.sk-toggleable__content pre {margin: 0.2em;color: black;border-radius: 0.25em;background-color: #f0f8ff;}#sk-container-id-1 input.sk-toggleable__control:checked~div.sk-toggleable__content {max-height: 200px;max-width: 100%;overflow: auto;}#sk-container-id-1 input.sk-toggleable__control:checked~label.sk-toggleable__label-arrow:before {content: \"▾\";}#sk-container-id-1 div.sk-estimator input.sk-toggleable__control:checked~label.sk-toggleable__label {background-color: #d4ebff;}#sk-container-id-1 div.sk-label input.sk-toggleable__control:checked~label.sk-toggleable__label {background-color: #d4ebff;}#sk-container-id-1 input.sk-hidden--visually {border: 0;clip: rect(1px 1px 1px 1px);clip: rect(1px, 1px, 1px, 1px);height: 1px;margin: -1px;overflow: hidden;padding: 0;position: absolute;width: 1px;}#sk-container-id-1 div.sk-estimator {font-family: monospace;background-color: #f0f8ff;border: 1px dotted black;border-radius: 0.25em;box-sizing: border-box;margin-bottom: 0.5em;}#sk-container-id-1 div.sk-estimator:hover {background-color: #d4ebff;}#sk-container-id-1 div.sk-parallel-item::after {content: \"\";width: 100%;border-bottom: 1px solid gray;flex-grow: 1;}#sk-container-id-1 div.sk-label:hover label.sk-toggleable__label {background-color: #d4ebff;}#sk-container-id-1 div.sk-serial::before {content: \"\";position: absolute;border-left: 1px solid gray;box-sizing: border-box;top: 0;bottom: 0;left: 50%;z-index: 0;}#sk-container-id-1 div.sk-serial {display: flex;flex-direction: column;align-items: center;background-color: white;padding-right: 0.2em;padding-left: 0.2em;position: relative;}#sk-container-id-1 div.sk-item {position: relative;z-index: 1;}#sk-container-id-1 div.sk-parallel {display: flex;align-items: stretch;justify-content: center;background-color: white;position: relative;}#sk-container-id-1 div.sk-item::before, #sk-container-id-1 div.sk-parallel-item::before {content: \"\";position: absolute;border-left: 1px solid gray;box-sizing: border-box;top: 0;bottom: 0;left: 50%;z-index: -1;}#sk-container-id-1 div.sk-parallel-item {display: flex;flex-direction: column;z-index: 1;position: relative;background-color: white;}#sk-container-id-1 div.sk-parallel-item:first-child::after {align-self: flex-end;width: 50%;}#sk-container-id-1 div.sk-parallel-item:last-child::after {align-self: flex-start;width: 50%;}#sk-container-id-1 div.sk-parallel-item:only-child::after {width: 0;}#sk-container-id-1 div.sk-dashed-wrapped {border: 1px dashed gray;margin: 0 0.4em 0.5em 0.4em;box-sizing: border-box;padding-bottom: 0.4em;background-color: white;}#sk-container-id-1 div.sk-label label {font-family: monospace;font-weight: bold;display: inline-block;line-height: 1.2em;}#sk-container-id-1 div.sk-label-container {text-align: center;}#sk-container-id-1 div.sk-container {/* jupyter's `normalize.less` sets `[hidden] { display: none; }` but bootstrap.min.css set `[hidden] { display: none !important; }` so we also need the `!important` here to be able to override the default hidden behavior on the sphinx rendered scikit-learn.org. See: https://github.com/scikit-learn/scikit-learn/issues/21755 */display: inline-block !important;position: relative;}#sk-container-id-1 div.sk-text-repr-fallback {display: none;}</style><div id=\"sk-container-id-1\" class=\"sk-top-container\"><div class=\"sk-text-repr-fallback\"><pre>BorutaPy(estimator=RandomForestClassifier(max_depth=7, n_estimators=85,\n",
              "                                          n_jobs=-1,\n",
              "                                          random_state=RandomState(MT19937) at 0x791E48509840),\n",
              "         n_estimators=&#x27;auto&#x27;,\n",
              "         random_state=RandomState(MT19937) at 0x791E48509840, verbose=2)</pre><b>In a Jupyter environment, please rerun this cell to show the HTML representation or trust the notebook. <br />On GitHub, the HTML representation is unable to render, please try loading this page with nbviewer.org.</b></div><div class=\"sk-container\" hidden><div class=\"sk-item sk-dashed-wrapped\"><div class=\"sk-label-container\"><div class=\"sk-label sk-toggleable\"><input class=\"sk-toggleable__control sk-hidden--visually\" id=\"sk-estimator-id-1\" type=\"checkbox\" ><label for=\"sk-estimator-id-1\" class=\"sk-toggleable__label sk-toggleable__label-arrow\">BorutaPy</label><div class=\"sk-toggleable__content\"><pre>BorutaPy(estimator=RandomForestClassifier(max_depth=7, n_estimators=85,\n",
              "                                          n_jobs=-1,\n",
              "                                          random_state=RandomState(MT19937) at 0x791E48509840),\n",
              "         n_estimators=&#x27;auto&#x27;,\n",
              "         random_state=RandomState(MT19937) at 0x791E48509840, verbose=2)</pre></div></div></div><div class=\"sk-parallel\"><div class=\"sk-parallel-item\"><div class=\"sk-item\"><div class=\"sk-label-container\"><div class=\"sk-label sk-toggleable\"><input class=\"sk-toggleable__control sk-hidden--visually\" id=\"sk-estimator-id-2\" type=\"checkbox\" ><label for=\"sk-estimator-id-2\" class=\"sk-toggleable__label sk-toggleable__label-arrow\">estimator: RandomForestClassifier</label><div class=\"sk-toggleable__content\"><pre>RandomForestClassifier(max_depth=7, n_estimators=85, n_jobs=-1,\n",
              "                       random_state=RandomState(MT19937) at 0x791E48509840)</pre></div></div></div><div class=\"sk-serial\"><div class=\"sk-item\"><div class=\"sk-estimator sk-toggleable\"><input class=\"sk-toggleable__control sk-hidden--visually\" id=\"sk-estimator-id-3\" type=\"checkbox\" ><label for=\"sk-estimator-id-3\" class=\"sk-toggleable__label sk-toggleable__label-arrow\">RandomForestClassifier</label><div class=\"sk-toggleable__content\"><pre>RandomForestClassifier(max_depth=7, n_estimators=85, n_jobs=-1,\n",
              "                       random_state=RandomState(MT19937) at 0x791E48509840)</pre></div></div></div></div></div></div></div></div></div></div>"
            ]
          },
          "metadata": {},
          "execution_count": 7
        }
      ]
    },
    {
      "cell_type": "code",
      "source": [
        "np.arange(X.shape[1])[boruta.ranking_ <= 25]"
      ],
      "metadata": {
        "colab": {
          "base_uri": "https://localhost:8080/"
        },
        "id": "D7OM1dA9nbeS",
        "outputId": "7d725d73-10e2-450f-d54f-7f974ef50d99"
      },
      "execution_count": null,
      "outputs": [
        {
          "output_type": "execute_result",
          "data": {
            "text/plain": [
              "41"
            ]
          },
          "metadata": {},
          "execution_count": 15
        }
      ]
    },
    {
      "cell_type": "code",
      "source": [
        "np.save('/content/drive/MyDrive/Studia/DS/Sem2/AML/Project2/Boruta/support.npy', boruta.support_)\n",
        "np.save('/content/drive/MyDrive/Studia/DS/Sem2/AML/Project2/Boruta/weak_support.npy', boruta.support_weak_)\n",
        "np.save('/content/drive/MyDrive/Studia/DS/Sem2/AML/Project2/Boruta/ranking.npy', boruta.ranking_)"
      ],
      "metadata": {
        "id": "y7HxFHkYpdlJ",
        "colab": {
          "base_uri": "https://localhost:8080/",
          "height": 176
        },
        "outputId": "83cc3ffa-f5d4-48d0-d6b8-fab231caec7f"
      },
      "execution_count": null,
      "outputs": [
        {
          "output_type": "error",
          "ename": "NameError",
          "evalue": "name 'boruta' is not defined",
          "traceback": [
            "\u001b[0;31m---------------------------------------------------------------------------\u001b[0m",
            "\u001b[0;31mNameError\u001b[0m                                 Traceback (most recent call last)",
            "\u001b[0;32m<ipython-input-6-dd9e3bfb7cbf>\u001b[0m in \u001b[0;36m<cell line: 1>\u001b[0;34m()\u001b[0m\n\u001b[0;32m----> 1\u001b[0;31m \u001b[0mnp\u001b[0m\u001b[0;34m.\u001b[0m\u001b[0msave\u001b[0m\u001b[0;34m(\u001b[0m\u001b[0;34m'/content/drive/MyDrive/Studia/DS/Sem2/AML/Project2/Boruta/support.npy'\u001b[0m\u001b[0;34m,\u001b[0m \u001b[0mboruta\u001b[0m\u001b[0;34m.\u001b[0m\u001b[0msupport_\u001b[0m\u001b[0;34m)\u001b[0m\u001b[0;34m\u001b[0m\u001b[0;34m\u001b[0m\u001b[0m\n\u001b[0m\u001b[1;32m      2\u001b[0m \u001b[0mnp\u001b[0m\u001b[0;34m.\u001b[0m\u001b[0msave\u001b[0m\u001b[0;34m(\u001b[0m\u001b[0;34m'/content/drive/MyDrive/Studia/DS/Sem2/AML/Project2/Boruta/weak_support.npy'\u001b[0m\u001b[0;34m,\u001b[0m \u001b[0mboruta\u001b[0m\u001b[0;34m.\u001b[0m\u001b[0msupport_weak_\u001b[0m\u001b[0;34m)\u001b[0m\u001b[0;34m\u001b[0m\u001b[0;34m\u001b[0m\u001b[0m\n\u001b[1;32m      3\u001b[0m \u001b[0mnp\u001b[0m\u001b[0;34m.\u001b[0m\u001b[0msave\u001b[0m\u001b[0;34m(\u001b[0m\u001b[0;34m'/content/drive/MyDrive/Studia/DS/Sem2/AML/Project2/Boruta/ranking.npy'\u001b[0m\u001b[0;34m,\u001b[0m \u001b[0mboruta\u001b[0m\u001b[0;34m.\u001b[0m\u001b[0mranking_\u001b[0m\u001b[0;34m)\u001b[0m\u001b[0;34m\u001b[0m\u001b[0;34m\u001b[0m\u001b[0m\n",
            "\u001b[0;31mNameError\u001b[0m: name 'boruta' is not defined"
          ]
        }
      ]
    },
    {
      "cell_type": "code",
      "source": [
        "boruta_support = np.load('/content/drive/MyDrive/Studia/DS/Sem2/AML/Project2/Boruta/support.npy')\n",
        "boruta_support_weak = np.load('/content/drive/MyDrive/Studia/DS/Sem2/AML/Project2/Boruta/weak_support.npy')\n",
        "boruta_support = boruta_support | boruta_support_weak\n",
        "\n",
        "X_boruta = X[:, boruta_support]"
      ],
      "metadata": {
        "id": "dqCYOD0c5g4Q"
      },
      "execution_count": null,
      "outputs": []
    },
    {
      "cell_type": "markdown",
      "source": [
        "# Money metric\n"
      ],
      "metadata": {
        "id": "0-ZHzYl87YWq"
      }
    },
    {
      "cell_type": "code",
      "source": [
        "def profit_scoring(y_probs, y_true, n_features):\n",
        "\n",
        "    y_true = y_true.ravel()\n",
        "    y_probs = y_probs.ravel()\n",
        "    y_pred = (y_probs > 0.5).astype(int)\n",
        "\n",
        "    df = pd.DataFrame({'true': y_true, 'pred': y_pred, 'prob': y_probs})\n",
        "\n",
        "    df = df.sort_values('prob', ascending=False)\n",
        "\n",
        "    top_20_percent = df.head(int(len(df) * 0.2))\n",
        "\n",
        "    correct_predictions = ((top_20_percent['pred'] == 1) & (top_20_percent['true'] == 1)).sum()\n",
        "    profit = correct_predictions * 10 - n_features * 200 * (top_20_percent.shape[0]/1000)\n",
        "\n",
        "    return profit"
      ],
      "metadata": {
        "id": "6OiC_ZMw7cLm"
      },
      "execution_count": null,
      "outputs": []
    },
    {
      "cell_type": "markdown",
      "source": [
        "# XGB\n",
        "Tunning hyperparameters with hyperopt"
      ],
      "metadata": {
        "id": "oOmFLokVtc6C"
      }
    },
    {
      "cell_type": "code",
      "source": [
        "def xgb_cv_profit_early_stop(estimator, X, y, n_folds=5):\n",
        "  skf = StratifiedKFold(n_folds)\n",
        "  profit = 0\n",
        "  for cv_idx, (train_index, test_index) in enumerate(skf.split(X, y)):\n",
        "    Xtrain, Xval, ytrain, yval = train_test_split(X[train_index, :], y[train_index], test_size=0.2, stratify=y[train_index])\n",
        "    evaluation = [(Xval, yval)]\n",
        "    estimator.fit(Xtrain, ytrain, eval_set=evaluation, verbose=False)\n",
        "    probs = estimator.predict_proba(X[test_index, :])[:,1]\n",
        "    profit += profit_scoring(probs, y[test_index], X.shape[1])\n",
        "  profit /= n_folds\n",
        "  return profit"
      ],
      "metadata": {
        "id": "6lSTP3Nl0o1W"
      },
      "execution_count": null,
      "outputs": []
    },
    {
      "cell_type": "code",
      "source": [
        "def xgb_cv_profit(estimator, X, y, n_folds=5):\n",
        "  skf = StratifiedKFold(n_folds)\n",
        "  profit = 0\n",
        "  for cv_idx, (train_index, test_index) in enumerate(skf.split(X, y)):\n",
        "    #evaluation = [(X[train_index, :], y[train_index]), (X[test_index, :], y[test_index])]\n",
        "    estimator.fit(X[train_index, :], y[train_index], verbose=False)#, eval_set=evaluation, verbose=False, eval_metric='auc')\n",
        "    probs = estimator.predict_proba(X[test_index, :])[:,1]\n",
        "    profit += profit_scoring(probs, y[test_index], X.shape[1])\n",
        "  profit /= n_folds\n",
        "  return profit"
      ],
      "metadata": {
        "id": "Q0SiBUh2_OFc"
      },
      "execution_count": null,
      "outputs": []
    },
    {
      "cell_type": "code",
      "source": [
        "xgb_space_early_stop={\n",
        "        'max_depth': hp.quniform(\"max_depth\", 1, 11, 1),\n",
        "        'gamma': hp.uniform ('gamma', 1,9),\n",
        "        'reg_lambda' : hp.uniform('reg_lambda', 0,1),\n",
        "        'colsample_bytree' : hp.uniform('colsample_bytree', 0.5,1),\n",
        "        'min_child_weight' : hp.quniform('min_child_weight', 0, 10, 1),\n",
        "        'eta': hp.uniform('eta', 0.01, 0.3),\n",
        "        'n_estimators': 500,\n",
        "        'eval_metric': hp.choice('eval_metric', ['auc', 'error'])\n",
        "    }"
      ],
      "metadata": {
        "id": "hWZB_6o6seG_"
      },
      "execution_count": null,
      "outputs": []
    },
    {
      "cell_type": "code",
      "source": [
        "xgb_space={\n",
        "        'max_depth': hp.quniform(\"max_depth\", 1, 11, 1),\n",
        "        'gamma': hp.uniform ('gamma', 1,9),\n",
        "        'reg_lambda' : hp.uniform('reg_lambda', 0,1),\n",
        "        'colsample_bytree' : hp.uniform('colsample_bytree', 0.5,1),\n",
        "        'min_child_weight' : hp.quniform('min_child_weight', 0, 10, 1),\n",
        "        'eta': hp.uniform('eta', 0.01, 0.3),\n",
        "        'n_estimators': hp.quniform(\"n_estimators\", 10, 300, 5)\n",
        "    }\n"
      ],
      "metadata": {
        "id": "Zcx4swaL_shv"
      },
      "execution_count": null,
      "outputs": []
    },
    {
      "cell_type": "code",
      "source": [
        "def xgb_objective_early_stop(space):\n",
        "\n",
        "    ### feature selection\n",
        "\n",
        "\n",
        "    clf=xgb.XGBClassifier(\n",
        "                    n_estimators=space['n_estimators'], max_depth = int(space['max_depth']), gamma = space['gamma'],\n",
        "                    reg_lambda = space['reg_lambda'],min_child_weight=int(space['min_child_weight']),\n",
        "                    colsample_bytree=space['colsample_bytree'], early_stopping_rounds=15, eta=space['eta'], eval_metric=space['eval_metric'], seed=123)\n",
        "\n",
        "    #evaluation = [( Xtrain, ytrain), ( Xtest, ytest)]\n",
        "\n",
        "    #clf.fit(X_boruta_forest, y, verbose=False)\n",
        "\n",
        "\n",
        "    # pred = clf.predict(Xtest)\n",
        "    # probs = clf.predict_proba(Xtest)[:,1]\n",
        "    # accuracy = accuracy_score(ytest, pred)\n",
        "    # p = Xtrain.shape[1]\n",
        "    # money = profit_scoring(probs, ytest,p) #space[\"max_features\"])\n",
        "    money = xgb_cv_profit_early_stop(clf, X_boruta_forest, y)\n",
        "    # print(\"Accuracy:\", accuracy)\n",
        "    # print(\"N features:\",p) #space[\"max_features\"])\n",
        "    #print(\"Money:\", money)\n",
        "    return {'loss': -money, 'status': STATUS_OK }"
      ],
      "metadata": {
        "id": "CmlBGWUqsfBA"
      },
      "execution_count": null,
      "outputs": []
    },
    {
      "cell_type": "code",
      "source": [
        "def xgb_objective(space):\n",
        "\n",
        "    ### feature selection\n",
        "\n",
        "\n",
        "    clf=xgb.XGBClassifier(\n",
        "                    n_estimators=int(space['n_estimators']), max_depth = int(space['max_depth']), gamma = space['gamma'],\n",
        "                    reg_lambda = space['reg_lambda'], min_child_weight=int(space['min_child_weight']),\n",
        "                    colsample_bytree=space['colsample_bytree'], eta=space['eta'], seed=123)\n",
        "\n",
        "    #evaluation = [( Xtrain, ytrain), ( Xtest, ytest)]\n",
        "\n",
        "    #clf.fit(X_boruta_forest, y, verbose=False)\n",
        "\n",
        "\n",
        "    # pred = clf.predict(Xtest)\n",
        "    # probs = clf.predict_proba(Xtest)[:,1]\n",
        "    # accuracy = accuracy_score(ytest, pred)\n",
        "    # p = Xtrain.shape[1]\n",
        "    # money = profit_scoring(probs, ytest,p) #space[\"max_features\"])\n",
        "    money = xgb_cv_profit(clf, X_boruta_forest, y)\n",
        "    # print(\"Accuracy:\", accuracy)\n",
        "    # print(\"N features:\",p) #space[\"max_features\"])\n",
        "    #print(\"Money:\", money)\n",
        "    return {'loss': -money, 'status': STATUS_OK }"
      ],
      "metadata": {
        "id": "DfukmsL__yKA"
      },
      "execution_count": null,
      "outputs": []
    },
    {
      "cell_type": "markdown",
      "source": [
        "## early stop"
      ],
      "metadata": {
        "id": "IpixjD3PYjMy"
      }
    },
    {
      "cell_type": "code",
      "source": [
        "# forest_selector = SelectFromModel(RandomForestClassifier(max_depth=7, random_state=123), threshold=-np.inf)\n",
        "# forest_selector.fit(X_boruta, y)\n",
        "A = [100, 102, 105]\n",
        "B = [100, 102, 103, 105]\n",
        "best_hypers_early_stop = []\n",
        "trials_list_early_stop = []\n",
        "\n",
        "for features in [A, B]:\n",
        "#for i in range(3, 5):\n",
        "  #forest_selector.set_params(max_features=i)\n",
        "  #print(forest_selector.get_support(indices=True))\n",
        "  X_boruta_forest = X[:, features]\n",
        "  #X_boruta_forest = forest_selector.transform(X_boruta)\n",
        "  #Xtrain, Xtest, ytrain, ytest = train_test_split(X_boruta_forest, y, test_size=0.2)\n",
        "  trials = Trials()\n",
        "\n",
        "  best_hyperparams = fmin(fn = xgb_objective_early_stop,\n",
        "                        space = xgb_space_early_stop,\n",
        "                        algo = tpe.suggest,\n",
        "                        max_evals = 1000,\n",
        "                        trials = trials)\n",
        "  trials_list_early_stop.append(trials)\n",
        "  best_hypers_early_stop.append(best_hyperparams)\n"
      ],
      "metadata": {
        "colab": {
          "base_uri": "https://localhost:8080/"
        },
        "id": "eMzXPo9NG2A_",
        "outputId": "e0cb69c3-2cfc-4206-95b9-48bf84c78649"
      },
      "execution_count": null,
      "outputs": [
        {
          "output_type": "stream",
          "name": "stdout",
          "text": [
            "100%|██████████| 1000/1000 [06:15<00:00,  2.66trial/s, best loss: -1372.0]\n",
            "100%|██████████| 1000/1000 [07:55<00:00,  2.10trial/s, best loss: -1360.0]\n"
          ]
        }
      ]
    },
    {
      "cell_type": "markdown",
      "source": [
        "## no early stop"
      ],
      "metadata": {
        "id": "JxV7mS_YYlhS"
      }
    },
    {
      "cell_type": "code",
      "source": [
        "# forest_selector = SelectFromModel(RandomForestClassifier(max_depth=7, random_state=123), threshold=-np.inf)\n",
        "# forest_selector.fit(X_boruta, y)\n",
        "\n",
        "A = [100, 102, 105]\n",
        "B = [100, 102, 103, 105]\n",
        "\n",
        "best_hypers = []\n",
        "trials_list = []\n",
        "\n",
        "for features in [A, B]:\n",
        "#for i in range(3, 5):\n",
        "  #forest_selector.set_params(max_features=i)\n",
        "  #print(forest_selector.get_support(indices=True))\n",
        "  #X_boruta_forest = forest_selector.transform(X_boruta)\n",
        "  X_boruta_forest = X[:, features]\n",
        "  #Xtrain, Xtest, ytrain, ytest = train_test_split(X_boruta_forest, y, test_size=0.2)\n",
        "  trials = Trials()\n",
        "  best_hyperparams = fmin(fn = xgb_objective,\n",
        "                        space = xgb_space,\n",
        "                        algo = tpe.suggest,\n",
        "                        max_evals = 1000,\n",
        "                        trials = trials)\n",
        "\n",
        "  best_hypers.append(best_hyperparams)\n",
        "  trials_list.append(trials)"
      ],
      "metadata": {
        "colab": {
          "base_uri": "https://localhost:8080/"
        },
        "id": "1_ZJ5zBGzkdh",
        "outputId": "20df3588-4b51-43d2-c838-351015cd03d6",
        "collapsed": true
      },
      "execution_count": null,
      "outputs": [
        {
          "output_type": "stream",
          "name": "stdout",
          "text": [
            "100%|██████████| 1000/1000 [09:58<00:00,  1.67trial/s, best loss: -1352.0]\n",
            "100%|██████████| 1000/1000 [10:03<00:00,  1.66trial/s, best loss: -1370.0]\n"
          ]
        }
      ]
    },
    {
      "cell_type": "code",
      "source": [
        "import pickle\n",
        "\n",
        "with open('trials_list_early_stop.pkl', 'wb') as f:\n",
        "    pickle.dump(trials_list_early_stop, f)\n",
        "\n",
        "with open('best_hypers_early_stop.pkl', 'wb') as f:\n",
        "    pickle.dump(best_hypers_early_stop, f)\n",
        "\n",
        "!cp trials_list_early_stop.pkl /content/drive/MyDrive/Studia/DS/Sem2/AML/Project2/Boosting/xgb_trials_early_stop.pkl\n",
        "!cp best_hypers_early_stop.pkl /content/drive/MyDrive/Studia/DS/Sem2/AML/Project2/Boosting/xgb_best_hypers_early_stop.pkl\n",
        "\n",
        "with open('trials_list.pkl', 'wb') as f:\n",
        "    pickle.dump(trials_list, f)\n",
        "\n",
        "with open('best_hypers.pkl', 'wb') as f:\n",
        "    pickle.dump(best_hypers, f)\n",
        "\n",
        "!cp trials_list.pkl /content/drive/MyDrive/Studia/DS/Sem2/AML/Project2/Boosting/xgb_trials.pkl\n",
        "!cp best_hypers.pkl /content/drive/MyDrive/Studia/DS/Sem2/AML/Project2/Boosting/xgb_best_hypers.pkl"
      ],
      "metadata": {
        "id": "pf3RJUVwq6Po"
      },
      "execution_count": null,
      "outputs": []
    },
    {
      "cell_type": "markdown",
      "source": [
        "# LightGBM\n",
        "Tunning hyperparameters with hyperopt"
      ],
      "metadata": {
        "id": "rBAEh5_S3pUN"
      }
    },
    {
      "cell_type": "markdown",
      "source": [
        "## early stopping"
      ],
      "metadata": {
        "id": "pTTxzC7mPMYd"
      }
    },
    {
      "cell_type": "code",
      "source": [
        "def lgbm_cv_profit_early_stop(estimator, X, y, n_folds=5):\n",
        "  skf = StratifiedKFold(n_folds)\n",
        "  profit = 0\n",
        "  for cv_idx, (train_index, test_index) in enumerate(skf.split(X, y)):\n",
        "    Xtrain, Xval, ytrain, yval = train_test_split(X[train_index, :], y[train_index], test_size=0.2, stratify=y[train_index])\n",
        "    evaluation = [(Xval, yval)]\n",
        "    estimator.fit(X[train_index, :], y[train_index], eval_set=evaluation)#, verbose=False)\n",
        "    print(\"Number of iterations:\", estimator.best_iteration_)\n",
        "    probs = estimator.predict_proba(X[test_index, :])[:,1]\n",
        "    profit += profit_scoring(probs, y[test_index], X.shape[1])\n",
        "  profit /= n_folds\n",
        "  return profit"
      ],
      "metadata": {
        "id": "K_4eRw5F_SNQ"
      },
      "execution_count": null,
      "outputs": []
    },
    {
      "cell_type": "code",
      "source": [
        "lgbm_space_early_stop={\n",
        "        'num_leaves': hp.quniform('num_leaves', 2, 128, 2),\n",
        "        'lambda_l2' : hp.uniform('reg_lambda', 0,1),\n",
        "        'colsample_bytree' : hp.uniform('colsample_bytree', 0.5,1),\n",
        "        'min_child_weight' : hp.quniform('min_child_weight', 0, 10, 1),\n",
        "        'learning_rate': hp.uniform('learning_rate', 0.01, 0.3),\n",
        "        'n_estimators': 500,\n",
        "        'eval_metric': hp.choice('eval_metric', ['auc', 'error'])\n",
        "    }"
      ],
      "metadata": {
        "id": "hA7Ux-RVhuMC"
      },
      "execution_count": null,
      "outputs": []
    },
    {
      "cell_type": "code",
      "source": [
        "def lgbm_objective_early_stop(space):\n",
        "\n",
        "    ### feature selection\n",
        "\n",
        "\n",
        "    clf=lgbm.LGBMClassifier(\n",
        "                    n_estimators=space['n_estimators'], num_leaves = int(space['num_leaves']),\n",
        "                    lambda_l2 = space['lambda_l2'],min_child_weight=int(space['min_child_weight']),\n",
        "                    colsample_bytree=space['colsample_bytree'], early_stopping_rounds=15, learning_rate=space['learning_rate'], eval_metric=space['eval_metric'], seed=123, verbosity=-1)\n",
        "\n",
        "    #evaluation = [( Xtrain, ytrain), ( Xtest, ytest)]\n",
        "\n",
        "    #clf.fit(X_boruta_forest, y, verbose=False)\n",
        "\n",
        "\n",
        "    # pred = clf.predict(Xtest)\n",
        "    # probs = clf.predict_proba(Xtest)[:,1]\n",
        "    # accuracy = accuracy_score(ytest, pred)\n",
        "    # p = Xtrain.shape[1]\n",
        "    # money = profit_scoring(probs, ytest,p) #space[\"max_features\"])\n",
        "    money = lgbm_cv_profit_early_stop(clf, X_boruta_forest, y)\n",
        "    # print(\"Accuracy:\", accuracy)\n",
        "    # print(\"N features:\",p) #space[\"max_features\"])\n",
        "    #print(\"Money:\", money)\n",
        "    return {'loss': -money, 'status': STATUS_OK }"
      ],
      "metadata": {
        "id": "AhT8KUAY894O"
      },
      "execution_count": null,
      "outputs": []
    },
    {
      "cell_type": "code",
      "source": [
        "# forest_selector = SelectFromModel(RandomForestClassifier(max_depth=7), threshold=-np.inf)\n",
        "# forest_selector.fit(X_boruta, y)\n",
        "A = [100, 102, 105]\n",
        "B = [100, 102, 103, 105]\n",
        "lgbm_best_hypers_early_stop = []\n",
        "lgbm_trials_early_stop = []\n",
        "\n",
        "for features in [A,B]:\n",
        "#for i in range(1, 8):\n",
        "  #forest_selector.set_params(max_features=i)\n",
        "  #X_boruta_forest = forest_selector.transform(X_boruta)\n",
        "  X_boruta_forest = X[:, features]\n",
        "  #Xtrain, Xtest, ytrain, ytest = train_test_split(X_boruta_forest, y, test_size=0.2)\n",
        "  trials = Trials()\n",
        "  best_hyperparams = fmin(fn = lgbm_objective_early_stop,\n",
        "                        space = lgbm_space_early_stop,\n",
        "                        algo = tpe.suggest,\n",
        "                        max_evals = 5,\n",
        "                        trials = trials)\n",
        "\n",
        "  lgbm_best_hypers_early_stop.append(best_hyperparams)\n",
        "  lgbm_trials_early_stop.append(trials)"
      ],
      "metadata": {
        "id": "_Jrcc3QdppRq"
      },
      "execution_count": null,
      "outputs": []
    },
    {
      "cell_type": "markdown",
      "source": [
        "## no early stopping"
      ],
      "metadata": {
        "id": "MtCB9TWcdzcG"
      }
    },
    {
      "cell_type": "code",
      "source": [
        "def lgbm_cv_profit(estimator, X, y, n_folds=5):\n",
        "  skf = StratifiedKFold(n_folds)\n",
        "  profit = 0\n",
        "  for cv_idx, (train_index, test_index) in enumerate(skf.split(X, y)):\n",
        "    estimator.fit(X[train_index, :], y[train_index])#, verbose=False)\n",
        "    probs = estimator.predict_proba(X[test_index, :])[:,1]\n",
        "    profit += profit_scoring(probs, y[test_index], X.shape[1])\n",
        "  profit /= n_folds\n",
        "  return profit"
      ],
      "metadata": {
        "id": "amfSsRrvu4Br"
      },
      "execution_count": null,
      "outputs": []
    },
    {
      "cell_type": "code",
      "source": [
        "lgbm_space={\n",
        "        'num_leaves': hp.quniform('num_leaves', 2, 128, 2),\n",
        "        'lambda_l2' : hp.uniform('reg_lambda', 0,1),\n",
        "        'colsample_bytree' : hp.uniform('colsample_bytree', 0.5,1),\n",
        "        'min_child_weight' : hp.quniform('min_child_weight', 0, 10, 1),\n",
        "        'learning_rate': hp.uniform('learning_rate', 0.01, 0.3),\n",
        "        'n_estimators': hp.quniform(\"n_estimators\", 10, 300, 5)\n",
        "    }"
      ],
      "metadata": {
        "id": "fQ485IjyvHMt"
      },
      "execution_count": null,
      "outputs": []
    },
    {
      "cell_type": "code",
      "source": [
        "def lgbm_objective(space):\n",
        "\n",
        "    ### feature selection\n",
        "\n",
        "\n",
        "    clf=lgbm.LGBMClassifier(\n",
        "                    n_estimators=int(space['n_estimators']), num_leaves = int(space['num_leaves']),\n",
        "                    lambda_l2 = space['lambda_l2'],min_child_weight=int(space['min_child_weight']),\n",
        "                    colsample_bytree=space['colsample_bytree'], learning_rate=space['learning_rate'], seed=123, verbosity=-1)\n",
        "\n",
        "    #evaluation = [( Xtrain, ytrain), ( Xtest, ytest)]\n",
        "\n",
        "    #clf.fit(X_boruta_forest, y, verbose=False)\n",
        "\n",
        "\n",
        "    # pred = clf.predict(Xtest)\n",
        "    # probs = clf.predict_proba(Xtest)[:,1]\n",
        "    # accuracy = accuracy_score(ytest, pred)\n",
        "    # p = Xtrain.shape[1]\n",
        "    # money = profit_scoring(probs, ytest,p) #space[\"max_features\"])\n",
        "    money = lgbm_cv_profit(clf, X_boruta_forest, y)\n",
        "    # print(\"Accuracy:\", accuracy)\n",
        "    # print(\"N features:\",p) #space[\"max_features\"])\n",
        "    #print(\"Money:\", money)\n",
        "    return {'loss': -money, 'status': STATUS_OK }"
      ],
      "metadata": {
        "id": "85J6zugGvU3B"
      },
      "execution_count": null,
      "outputs": []
    },
    {
      "cell_type": "code",
      "source": [
        "A = [100, 102, 105]\n",
        "B = [100, 102, 103, 105]\n",
        "lgbm_best_hypers = []\n",
        "lgbm_trials = []\n",
        "\n",
        "for features in [A,B]:\n",
        "#for i in range(1, 8):\n",
        "  #forest_selector.set_params(max_features=i)\n",
        "  #X_boruta_forest = forest_selector.transform(X_boruta)\n",
        "  X_boruta_forest = X[:, features]\n",
        "  #Xtrain, Xtest, ytrain, ytest = train_test_split(X_boruta_forest, y, test_size=0.2)\n",
        "  trials = Trials()\n",
        "  best_hyperparams = fmin(fn = lgbm_objective,\n",
        "                        space = lgbm_space,\n",
        "                        algo = tpe.suggest,\n",
        "                        max_evals = 1000,\n",
        "                        trials = trials)\n",
        "\n",
        "  lgbm_best_hypers.append(best_hyperparams)\n",
        "  lgbm_trials.append(trials)\n",
        "\n",
        "\n",
        "\n",
        "\n",
        "\n",
        "\n",
        "with open('lgbm_trials.pkl', 'wb') as f:\n",
        "    pickle.dump(lgbm_trials, f)\n",
        "\n",
        "with open('lgbm_best_hypers.pkl', 'wb') as f:\n",
        "    pickle.dump(lgbm_best_hypers, f)\n",
        "\n",
        "!cp lgbm_trials.pkl /content/drive/MyDrive/Studia/DS/Sem2/AML/Project2/Boosting/lgbm_trials.pkl\n",
        "!cp lgbm_best_hypers.pkl /content/drive/MyDrive/Studia/DS/Sem2/AML/Project2/Boosting/lgbm_best_hypers.pkl"
      ],
      "metadata": {
        "colab": {
          "base_uri": "https://localhost:8080/"
        },
        "id": "NgvAOZ5yu8Xf",
        "outputId": "30644b70-e673-4e4d-b46b-332470ea9262"
      },
      "execution_count": null,
      "outputs": [
        {
          "output_type": "stream",
          "name": "stdout",
          "text": [
            "100%|██████████| 1000/1000 [10:37<00:00,  1.57trial/s, best loss: -1366.0]\n",
            "100%|██████████| 1000/1000 [17:20<00:00,  1.04s/trial, best loss: -1376.0]\n"
          ]
        }
      ]
    }
  ]
}