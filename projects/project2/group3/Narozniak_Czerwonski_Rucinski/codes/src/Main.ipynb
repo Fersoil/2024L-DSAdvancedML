{
 "cells": [
  {
   "cell_type": "code",
   "execution_count": 2,
   "metadata": {
    "pycharm": {
     "is_executing": true
    },
    "ExecuteTime": {
     "end_time": "2024-05-11T16:53:44.490724Z",
     "start_time": "2024-05-11T16:53:44.472725Z"
    }
   },
   "outputs": [],
   "source": [
    "%load_ext autoreload\n",
    "%autoreload 2"
   ]
  },
  {
   "cell_type": "code",
   "execution_count": 25,
   "metadata": {
    "ExecuteTime": {
     "end_time": "2024-05-11T17:08:37.583978Z",
     "start_time": "2024-05-11T17:08:37.564885Z"
    }
   },
   "outputs": [],
   "source": [
    "import pandas as pd\n",
    "# import lightgbm as lgb\n",
    "# import xgboost as xgb\n",
    "# from catboost import CatBoostClassifier, Pool\n",
    "from metrics import  accuracy\n",
    "import numpy as np\n",
    "\n",
    "from sklearn.pipeline import Pipeline\n",
    "from sklearn.metrics import balanced_accuracy_score\n",
    "from sklearn.feature_selection import SelectKBest, f_classif, mutual_info_classif, SelectFromModel, RFE, VarianceThreshold, chi2\n",
    "from sklearn.linear_model import LogisticRegression\n",
    "from sklearn.ensemble import RandomForestClassifier\n",
    "from sklearn.tree import DecisionTreeClassifier\n",
    "from sklearn.discriminant_analysis import LinearDiscriminantAnalysis, QuadraticDiscriminantAnalysis\n",
    "from sklearn.model_selection import GridSearchCV\n",
    "from sklearn.model_selection import StratifiedKFold\n",
    "from sklearn.svm import SVC\n",
    "from sklearn.dummy import DummyClassifier\n",
    "\n",
    "from sklearn.feature_extraction.text import CountVectorizer\n",
    "from experiments import run_grid_search_cv, apply_transform_to_res\n",
    "\n",
    "# from catboost import CatBoostClassifier, Pool\n",
    "import matplotlib.pyplot as plt\n",
    "\n",
    "from warnings import simplefilter\n",
    "from sklearn.exceptions import ConvergenceWarning\n",
    "\n",
    "simplefilter(\"ignore\", category=ConvergenceWarning)\n",
    "simplefilter(\"ignore\", category=RuntimeWarning) \n",
    "simplefilter(\"ignore\", category=UserWarning)"
   ]
  },
  {
   "cell_type": "markdown",
   "metadata": {},
   "source": [
    "# Custom Grid Search\n",
    "\n",
    "It is needed due to the custom scorer."
   ]
  },
  {
   "cell_type": "code",
   "execution_count": 44,
   "metadata": {
    "ExecuteTime": {
     "end_time": "2024-05-11T17:27:26.529888Z",
     "start_time": "2024-05-11T17:27:26.511744Z"
    }
   },
   "outputs": [],
   "source": [
    "cv = 5\n",
    "\n",
    "model_grid_params = [\n",
    "    {\"model\": RandomForestClassifier,\n",
    "     \"params\": [{}]},\n",
    "    {\"model\": DecisionTreeClassifier,\n",
    "    \"params\": [{}]},\n",
    "    {\"model\": LogisticRegression,\n",
    "    \"params\": [{}]},\n",
    "    {\"model\": LinearDiscriminantAnalysis,\n",
    "    \"params\": [{}]},\n",
    "    {\"model\": QuadraticDiscriminantAnalysis,\n",
    "    \"params\": [{}]},\n",
    "    {\"model\": SVC,\n",
    "    \"params\": [{\"kernel\": \"rbf\"}]}#{\"kernel\": \"linear\", \"C\": 0.025}, \n",
    "    \n",
    "]\n",
    "feature_selector_grid_params = [\n",
    "    {\"selector\": SelectKBest,\n",
    "    \"params\": [{\"k\": i, \"score_func\": score_fnc} for i in [3, 5, 10, 20, 30] for score_fnc in [f_classif, mutual_info_classif]],\n",
    "    },\n",
    "    {\"selector\": SelectFromModel,\n",
    "    \"params\": [{\"estimator\": i, \"max_features\": max_features} for i in [LogisticRegression(), RandomForestClassifier()] for max_features in [None, 3, 5, 10, 20, 30]],#LogisticRegression(penalty=\"l1\", solver=\"saga\"),\n",
    "    },\n",
    "    \n",
    "\n",
    "# Ineffective methods \n",
    "#     {\"selector\": VarianceThreshold,\n",
    "#     \"params\": [{\"threshold\": th} for th in [0.0, 0.001, 0.003, 0.01, 0.03, 0.1, 0.3, 1]]}\n",
    "    \n",
    "# Too computationally complex\n",
    "#     {\"selector\": RFE,\n",
    "#     \"params\": [{\"estimator\": i, \"n_features_to_select\": max_features} for i in [LogisticRegression(), RandomForestClassifier()] for max_features in [None, 3, 5]],\n",
    "#     }\n",
    "\n",
    "]\n"
   ]
  },
  {
   "cell_type": "markdown",
   "metadata": {},
   "source": [
    "# Load Data"
   ]
  },
  {
   "cell_type": "code",
   "execution_count": 45,
   "metadata": {
    "ExecuteTime": {
     "end_time": "2024-05-11T17:27:28.046091Z",
     "start_time": "2024-05-11T17:27:27.356641Z"
    }
   },
   "outputs": [],
   "source": [
    "RANDOM_STATE = 42\n",
    "\n",
    "x_train_path = \"./../../data/x_train.txt\"\n",
    "y_train_path = \"./../../data/y_train.txt\"\n",
    "\n",
    "x_test_path = \"./../../data/x_test.txt\"\n",
    "\n",
    "\n",
    "X_train = pd.read_csv(x_train_path, delim_whitespace=True, header=None)\n",
    "y_train = pd.read_csv(y_train_path, delim_whitespace=True, header=None)\n",
    "X_test = pd.read_csv(x_test_path, delim_whitespace=True, header=None)"
   ]
  },
  {
   "cell_type": "code",
   "outputs": [
    {
     "data": {
      "text/plain": "        0         1         2         3         4         5         6    \\\n0 -2.619773 -2.619533 -1.199350 -1.083335 -1.000910 -0.366967 -2.164037   \n1 -1.415579 -1.782544 -2.880270 -1.958863  1.159968  0.273030 -1.628728   \n2 -2.745092 -1.382945 -1.626015 -1.282560 -0.663146  0.052349 -2.403322   \n3  0.618998  0.455364 -0.115081  0.649040 -0.862207  2.308504  0.526114   \n4 -0.070694 -0.550509 -0.565556 -0.693065 -0.573089 -0.395862  0.003170   \n\n        7         8         9    ...        490        491        492  \\\n0 -1.210001 -0.658311 -1.489539  ...  10.849925  10.343346  10.717519   \n1 -0.175813 -0.916857 -0.570166  ...  11.489417   5.195818   3.494627   \n2 -0.765073 -0.394354 -0.806624  ...  13.934934   9.267515   4.705604   \n3 -1.094852  1.088656 -0.481210  ...  12.021328   3.852231  11.059702   \n4 -0.981609 -0.505775 -0.758430  ...   7.537788  11.229665  11.318915   \n\n        493        494        495        496        497        498        499  \n0  7.709295   5.894554  12.416573   6.765269  16.243907   7.209524   8.082021  \n1  5.529154  10.517576  15.697333  11.324938  12.187670  12.283861   5.032285  \n2  6.642557  14.658934   8.130767   7.194487  11.939354  11.653620   5.942778  \n3  7.527268   7.253120   9.791136   6.089743  10.752796   5.778888  10.366363  \n4  6.622256  12.557882   5.520360   5.397359  13.152269  10.684779   9.816471  \n\n[5 rows x 500 columns]",
      "text/html": "<div>\n<style scoped>\n    .dataframe tbody tr th:only-of-type {\n        vertical-align: middle;\n    }\n\n    .dataframe tbody tr th {\n        vertical-align: top;\n    }\n\n    .dataframe thead th {\n        text-align: right;\n    }\n</style>\n<table border=\"1\" class=\"dataframe\">\n  <thead>\n    <tr style=\"text-align: right;\">\n      <th></th>\n      <th>0</th>\n      <th>1</th>\n      <th>2</th>\n      <th>3</th>\n      <th>4</th>\n      <th>5</th>\n      <th>6</th>\n      <th>7</th>\n      <th>8</th>\n      <th>9</th>\n      <th>...</th>\n      <th>490</th>\n      <th>491</th>\n      <th>492</th>\n      <th>493</th>\n      <th>494</th>\n      <th>495</th>\n      <th>496</th>\n      <th>497</th>\n      <th>498</th>\n      <th>499</th>\n    </tr>\n  </thead>\n  <tbody>\n    <tr>\n      <th>0</th>\n      <td>-2.619773</td>\n      <td>-2.619533</td>\n      <td>-1.199350</td>\n      <td>-1.083335</td>\n      <td>-1.000910</td>\n      <td>-0.366967</td>\n      <td>-2.164037</td>\n      <td>-1.210001</td>\n      <td>-0.658311</td>\n      <td>-1.489539</td>\n      <td>...</td>\n      <td>10.849925</td>\n      <td>10.343346</td>\n      <td>10.717519</td>\n      <td>7.709295</td>\n      <td>5.894554</td>\n      <td>12.416573</td>\n      <td>6.765269</td>\n      <td>16.243907</td>\n      <td>7.209524</td>\n      <td>8.082021</td>\n    </tr>\n    <tr>\n      <th>1</th>\n      <td>-1.415579</td>\n      <td>-1.782544</td>\n      <td>-2.880270</td>\n      <td>-1.958863</td>\n      <td>1.159968</td>\n      <td>0.273030</td>\n      <td>-1.628728</td>\n      <td>-0.175813</td>\n      <td>-0.916857</td>\n      <td>-0.570166</td>\n      <td>...</td>\n      <td>11.489417</td>\n      <td>5.195818</td>\n      <td>3.494627</td>\n      <td>5.529154</td>\n      <td>10.517576</td>\n      <td>15.697333</td>\n      <td>11.324938</td>\n      <td>12.187670</td>\n      <td>12.283861</td>\n      <td>5.032285</td>\n    </tr>\n    <tr>\n      <th>2</th>\n      <td>-2.745092</td>\n      <td>-1.382945</td>\n      <td>-1.626015</td>\n      <td>-1.282560</td>\n      <td>-0.663146</td>\n      <td>0.052349</td>\n      <td>-2.403322</td>\n      <td>-0.765073</td>\n      <td>-0.394354</td>\n      <td>-0.806624</td>\n      <td>...</td>\n      <td>13.934934</td>\n      <td>9.267515</td>\n      <td>4.705604</td>\n      <td>6.642557</td>\n      <td>14.658934</td>\n      <td>8.130767</td>\n      <td>7.194487</td>\n      <td>11.939354</td>\n      <td>11.653620</td>\n      <td>5.942778</td>\n    </tr>\n    <tr>\n      <th>3</th>\n      <td>0.618998</td>\n      <td>0.455364</td>\n      <td>-0.115081</td>\n      <td>0.649040</td>\n      <td>-0.862207</td>\n      <td>2.308504</td>\n      <td>0.526114</td>\n      <td>-1.094852</td>\n      <td>1.088656</td>\n      <td>-0.481210</td>\n      <td>...</td>\n      <td>12.021328</td>\n      <td>3.852231</td>\n      <td>11.059702</td>\n      <td>7.527268</td>\n      <td>7.253120</td>\n      <td>9.791136</td>\n      <td>6.089743</td>\n      <td>10.752796</td>\n      <td>5.778888</td>\n      <td>10.366363</td>\n    </tr>\n    <tr>\n      <th>4</th>\n      <td>-0.070694</td>\n      <td>-0.550509</td>\n      <td>-0.565556</td>\n      <td>-0.693065</td>\n      <td>-0.573089</td>\n      <td>-0.395862</td>\n      <td>0.003170</td>\n      <td>-0.981609</td>\n      <td>-0.505775</td>\n      <td>-0.758430</td>\n      <td>...</td>\n      <td>7.537788</td>\n      <td>11.229665</td>\n      <td>11.318915</td>\n      <td>6.622256</td>\n      <td>12.557882</td>\n      <td>5.520360</td>\n      <td>5.397359</td>\n      <td>13.152269</td>\n      <td>10.684779</td>\n      <td>9.816471</td>\n    </tr>\n  </tbody>\n</table>\n<p>5 rows × 500 columns</p>\n</div>"
     },
     "execution_count": 46,
     "metadata": {},
     "output_type": "execute_result"
    }
   ],
   "source": [
    "X_train.head()"
   ],
   "metadata": {
    "collapsed": false,
    "ExecuteTime": {
     "end_time": "2024-05-11T17:27:28.069520Z",
     "start_time": "2024-05-11T17:27:28.047349Z"
    }
   },
   "execution_count": 46
  },
  {
   "cell_type": "code",
   "outputs": [
    {
     "data": {
      "text/plain": "   0\n0  0\n1  0\n2  1\n3  1\n4  1",
      "text/html": "<div>\n<style scoped>\n    .dataframe tbody tr th:only-of-type {\n        vertical-align: middle;\n    }\n\n    .dataframe tbody tr th {\n        vertical-align: top;\n    }\n\n    .dataframe thead th {\n        text-align: right;\n    }\n</style>\n<table border=\"1\" class=\"dataframe\">\n  <thead>\n    <tr style=\"text-align: right;\">\n      <th></th>\n      <th>0</th>\n    </tr>\n  </thead>\n  <tbody>\n    <tr>\n      <th>0</th>\n      <td>0</td>\n    </tr>\n    <tr>\n      <th>1</th>\n      <td>0</td>\n    </tr>\n    <tr>\n      <th>2</th>\n      <td>1</td>\n    </tr>\n    <tr>\n      <th>3</th>\n      <td>1</td>\n    </tr>\n    <tr>\n      <th>4</th>\n      <td>1</td>\n    </tr>\n  </tbody>\n</table>\n</div>"
     },
     "execution_count": 47,
     "metadata": {},
     "output_type": "execute_result"
    }
   ],
   "source": [
    "y_train.head()"
   ],
   "metadata": {
    "collapsed": false,
    "ExecuteTime": {
     "end_time": "2024-05-11T17:27:28.087639Z",
     "start_time": "2024-05-11T17:27:28.070316Z"
    }
   },
   "execution_count": 47
  },
  {
   "cell_type": "code",
   "outputs": [
    {
     "data": {
      "text/plain": "(5000, 1)"
     },
     "execution_count": 48,
     "metadata": {},
     "output_type": "execute_result"
    }
   ],
   "source": [
    "y_train.shape"
   ],
   "metadata": {
    "collapsed": false,
    "ExecuteTime": {
     "end_time": "2024-05-11T17:27:28.300285Z",
     "start_time": "2024-05-11T17:27:28.283057Z"
    }
   },
   "execution_count": 48
  },
  {
   "cell_type": "code",
   "outputs": [
    {
     "data": {
      "text/plain": "0    2496\ndtype: int64"
     },
     "execution_count": 49,
     "metadata": {},
     "output_type": "execute_result"
    }
   ],
   "source": [
    "(y_train == 1).sum()"
   ],
   "metadata": {
    "collapsed": false,
    "ExecuteTime": {
     "end_time": "2024-05-11T17:27:28.474619Z",
     "start_time": "2024-05-11T17:27:28.457236Z"
    }
   },
   "execution_count": 49
  },
  {
   "cell_type": "code",
   "outputs": [
    {
     "data": {
      "text/plain": "(5000, 500)"
     },
     "execution_count": 50,
     "metadata": {},
     "output_type": "execute_result"
    }
   ],
   "source": [
    "X_test.shape"
   ],
   "metadata": {
    "collapsed": false,
    "ExecuteTime": {
     "end_time": "2024-05-11T17:27:29.042042Z",
     "start_time": "2024-05-11T17:27:29.024920Z"
    }
   },
   "execution_count": 50
  },
  {
   "cell_type": "code",
   "outputs": [],
   "source": [
    "X_train = X_train.values\n",
    "y_train = y_train.values\n",
    "X_test = X_test.values"
   ],
   "metadata": {
    "collapsed": false,
    "ExecuteTime": {
     "end_time": "2024-05-11T17:27:29.205624Z",
     "start_time": "2024-05-11T17:27:29.189021Z"
    }
   },
   "execution_count": 51
  },
  {
   "cell_type": "markdown",
   "metadata": {},
   "source": [
    "## Baseline"
   ]
  },
  {
   "cell_type": "code",
   "execution_count": 52,
   "metadata": {
    "ExecuteTime": {
     "end_time": "2024-05-11T17:28:12.457712Z",
     "start_time": "2024-05-11T17:27:29.801149Z"
    }
   },
   "outputs": [
    {
     "name": "stdout",
     "output_type": "stream",
     "text": [
      "Running on: DummyClassifier() and SelectKBest(k='all')\n",
      "Running on: RandomForestClassifier() and SelectKBest(k='all')\n",
      "Running on: DummyClassifier() and SelectKBest()\n",
      "Running on: RandomForestClassifier() and SelectKBest()\n"
     ]
    },
    {
     "data": {
      "text/plain": "<pandas.io.formats.style.Styler at 0x157f969a0>",
      "text/html": "<style type=\"text/css\">\n#T_e588e_row0_col0, #T_e588e_row1_col0 {\n  background-color: #f7fcf5;\n  color: #000000;\n}\n#T_e588e_row0_col1 {\n  background-color: #73c476;\n  color: #000000;\n}\n#T_e588e_row1_col1 {\n  background-color: #edf8ea;\n  color: #000000;\n}\n</style>\n<table id=\"T_e588e\">\n  <thead>\n    <tr>\n      <th class=\"blank level0\" >&nbsp;</th>\n      <th id=\"T_e588e_level0_col0\" class=\"col_heading level0 col0\" >DummyClassifier()</th>\n      <th id=\"T_e588e_level0_col1\" class=\"col_heading level0 col1\" >RandomForestClassifier()</th>\n    </tr>\n  </thead>\n  <tbody>\n    <tr>\n      <th id=\"T_e588e_level0_row0\" class=\"row_heading level0 row0\" >SelectKBest(k='all')</th>\n      <td id=\"T_e588e_row0_col0\" class=\"data row0 col0\" >0.500800</td>\n      <td id=\"T_e588e_row0_col1\" class=\"data row0 col1\" >0.608000</td>\n    </tr>\n    <tr>\n      <th id=\"T_e588e_level0_row1\" class=\"row_heading level0 row1\" >SelectKBest()</th>\n      <td id=\"T_e588e_row1_col0\" class=\"data row1 col0\" >0.500800</td>\n      <td id=\"T_e588e_row1_col1\" class=\"data row1 col1\" >0.515800</td>\n    </tr>\n  </tbody>\n</table>\n"
     },
     "execution_count": 52,
     "metadata": {},
     "output_type": "execute_result"
    }
   ],
   "source": [
    "baseline_selector_grid_search = [\n",
    "    {\"selector\": SelectKBest,\n",
    "    \"params\": [{\"k\": \"all\"}, {\"k\": 10}],\n",
    "    },\n",
    "]\n",
    "baseline_models_grid_search = [\n",
    "     {\"model\": DummyClassifier,\n",
    "     \"params\": [{}]},\n",
    "     {\"model\": RandomForestClassifier,\n",
    "     \"params\": [{}]},\n",
    "]\n",
    "baseline_results_dict = run_grid_search_cv(\n",
    "    baseline_selector_grid_search, \n",
    "    baseline_models_grid_search, \n",
    "    X_train, \n",
    "    y_train, \n",
    "    accuracy\n",
    ")\n",
    "baseline_results = apply_transform_to_res(baseline_results_dict, np.mean)\n",
    "baseline_results_df = pd.DataFrame(baseline_results).T\n",
    "baseline_results_df.style.background_gradient(cmap=\"Greens\", low=0.0, high=1.0, axis=None)"
   ]
  },
  {
   "cell_type": "markdown",
   "metadata": {},
   "source": [
    "Baselines are critical part of every project. Due to the non-typical scoring metric a few baseline version got prepared that involve/or not feature selection part. \n",
    "\n",
    "We see that DummyClassifier does not perform well in case of keeping all the features nor reducing them to 10.\n",
    "\n",
    "On the other hand the RandomForest reach 60% acc when using all features and went down to ~51 % when using just 10.\n",
    "\n",
    "Scoring metric needs to be adjusted to incorporate monetary conterpart."
   ]
  },
  {
   "cell_type": "markdown",
   "metadata": {},
   "source": [
    "## Experiments"
   ]
  },
  {
   "cell_type": "code",
   "execution_count": 53,
   "metadata": {
    "scrolled": true,
    "ExecuteTime": {
     "end_time": "2024-05-11T18:07:09.058952Z",
     "start_time": "2024-05-11T17:28:12.458854Z"
    }
   },
   "outputs": [
    {
     "name": "stdout",
     "output_type": "stream",
     "text": [
      "Running on: RandomForestClassifier() and SelectKBest(k=3)\n",
      "Running on: DecisionTreeClassifier() and SelectKBest(k=3)\n",
      "Running on: LogisticRegression() and SelectKBest(k=3)\n",
      "Running on: LinearDiscriminantAnalysis() and SelectKBest(k=3)\n",
      "Running on: QuadraticDiscriminantAnalysis() and SelectKBest(k=3)\n",
      "Running on: SVC() and SelectKBest(k=3)\n",
      "Running on: RandomForestClassifier() and SelectKBest(k=3, score_func=<function mutual_info_classif at 0x1464c04c0>)\n",
      "Running on: DecisionTreeClassifier() and SelectKBest(k=3, score_func=<function mutual_info_classif at 0x1464c04c0>)\n",
      "Running on: LogisticRegression() and SelectKBest(k=3, score_func=<function mutual_info_classif at 0x1464c04c0>)\n",
      "Running on: LinearDiscriminantAnalysis() and SelectKBest(k=3, score_func=<function mutual_info_classif at 0x1464c04c0>)\n",
      "Running on: QuadraticDiscriminantAnalysis() and SelectKBest(k=3, score_func=<function mutual_info_classif at 0x1464c04c0>)\n",
      "Running on: SVC() and SelectKBest(k=3, score_func=<function mutual_info_classif at 0x1464c04c0>)\n",
      "Running on: RandomForestClassifier() and SelectKBest(k=5)\n",
      "Running on: DecisionTreeClassifier() and SelectKBest(k=5)\n",
      "Running on: LogisticRegression() and SelectKBest(k=5)\n",
      "Running on: LinearDiscriminantAnalysis() and SelectKBest(k=5)\n",
      "Running on: QuadraticDiscriminantAnalysis() and SelectKBest(k=5)\n",
      "Running on: SVC() and SelectKBest(k=5)\n",
      "Running on: RandomForestClassifier() and SelectKBest(k=5, score_func=<function mutual_info_classif at 0x1464c04c0>)\n",
      "Running on: DecisionTreeClassifier() and SelectKBest(k=5, score_func=<function mutual_info_classif at 0x1464c04c0>)\n",
      "Running on: LogisticRegression() and SelectKBest(k=5, score_func=<function mutual_info_classif at 0x1464c04c0>)\n",
      "Running on: LinearDiscriminantAnalysis() and SelectKBest(k=5, score_func=<function mutual_info_classif at 0x1464c04c0>)\n",
      "Running on: QuadraticDiscriminantAnalysis() and SelectKBest(k=5, score_func=<function mutual_info_classif at 0x1464c04c0>)\n",
      "Running on: SVC() and SelectKBest(k=5, score_func=<function mutual_info_classif at 0x1464c04c0>)\n",
      "Running on: RandomForestClassifier() and SelectKBest()\n",
      "Running on: DecisionTreeClassifier() and SelectKBest()\n",
      "Running on: LogisticRegression() and SelectKBest()\n",
      "Running on: LinearDiscriminantAnalysis() and SelectKBest()\n",
      "Running on: QuadraticDiscriminantAnalysis() and SelectKBest()\n",
      "Running on: SVC() and SelectKBest()\n",
      "Running on: RandomForestClassifier() and SelectKBest(score_func=<function mutual_info_classif at 0x1464c04c0>)\n",
      "Running on: DecisionTreeClassifier() and SelectKBest(score_func=<function mutual_info_classif at 0x1464c04c0>)\n",
      "Running on: LogisticRegression() and SelectKBest(score_func=<function mutual_info_classif at 0x1464c04c0>)\n",
      "Running on: LinearDiscriminantAnalysis() and SelectKBest(score_func=<function mutual_info_classif at 0x1464c04c0>)\n",
      "Running on: QuadraticDiscriminantAnalysis() and SelectKBest(score_func=<function mutual_info_classif at 0x1464c04c0>)\n",
      "Running on: SVC() and SelectKBest(score_func=<function mutual_info_classif at 0x1464c04c0>)\n",
      "Running on: RandomForestClassifier() and SelectKBest(k=20)\n",
      "Running on: DecisionTreeClassifier() and SelectKBest(k=20)\n",
      "Running on: LogisticRegression() and SelectKBest(k=20)\n",
      "Running on: LinearDiscriminantAnalysis() and SelectKBest(k=20)\n",
      "Running on: QuadraticDiscriminantAnalysis() and SelectKBest(k=20)\n",
      "Running on: SVC() and SelectKBest(k=20)\n",
      "Running on: RandomForestClassifier() and SelectKBest(k=20, score_func=<function mutual_info_classif at 0x1464c04c0>)\n",
      "Running on: DecisionTreeClassifier() and SelectKBest(k=20, score_func=<function mutual_info_classif at 0x1464c04c0>)\n",
      "Running on: LogisticRegression() and SelectKBest(k=20, score_func=<function mutual_info_classif at 0x1464c04c0>)\n",
      "Running on: LinearDiscriminantAnalysis() and SelectKBest(k=20, score_func=<function mutual_info_classif at 0x1464c04c0>)\n",
      "Running on: QuadraticDiscriminantAnalysis() and SelectKBest(k=20, score_func=<function mutual_info_classif at 0x1464c04c0>)\n",
      "Running on: SVC() and SelectKBest(k=20, score_func=<function mutual_info_classif at 0x1464c04c0>)\n",
      "Running on: RandomForestClassifier() and SelectKBest(k=30)\n",
      "Running on: DecisionTreeClassifier() and SelectKBest(k=30)\n",
      "Running on: LogisticRegression() and SelectKBest(k=30)\n",
      "Running on: LinearDiscriminantAnalysis() and SelectKBest(k=30)\n",
      "Running on: QuadraticDiscriminantAnalysis() and SelectKBest(k=30)\n",
      "Running on: SVC() and SelectKBest(k=30)\n",
      "Running on: RandomForestClassifier() and SelectKBest(k=30, score_func=<function mutual_info_classif at 0x1464c04c0>)\n",
      "Running on: DecisionTreeClassifier() and SelectKBest(k=30, score_func=<function mutual_info_classif at 0x1464c04c0>)\n",
      "Running on: LogisticRegression() and SelectKBest(k=30, score_func=<function mutual_info_classif at 0x1464c04c0>)\n",
      "Running on: LinearDiscriminantAnalysis() and SelectKBest(k=30, score_func=<function mutual_info_classif at 0x1464c04c0>)\n",
      "Running on: QuadraticDiscriminantAnalysis() and SelectKBest(k=30, score_func=<function mutual_info_classif at 0x1464c04c0>)\n",
      "Running on: SVC() and SelectKBest(k=30, score_func=<function mutual_info_classif at 0x1464c04c0>)\n",
      "Running on: RandomForestClassifier() and SelectFromModel(estimator=LogisticRegression())\n",
      "Running on: DecisionTreeClassifier() and SelectFromModel(estimator=LogisticRegression())\n",
      "Running on: LogisticRegression() and SelectFromModel(estimator=LogisticRegression())\n",
      "Running on: LinearDiscriminantAnalysis() and SelectFromModel(estimator=LogisticRegression())\n",
      "Running on: QuadraticDiscriminantAnalysis() and SelectFromModel(estimator=LogisticRegression())\n",
      "Running on: SVC() and SelectFromModel(estimator=LogisticRegression())\n",
      "Running on: RandomForestClassifier() and SelectFromModel(estimator=LogisticRegression(), max_features=3)\n",
      "Running on: DecisionTreeClassifier() and SelectFromModel(estimator=LogisticRegression(), max_features=3)\n",
      "Running on: LogisticRegression() and SelectFromModel(estimator=LogisticRegression(), max_features=3)\n",
      "Running on: LinearDiscriminantAnalysis() and SelectFromModel(estimator=LogisticRegression(), max_features=3)\n",
      "Running on: QuadraticDiscriminantAnalysis() and SelectFromModel(estimator=LogisticRegression(), max_features=3)\n",
      "Running on: SVC() and SelectFromModel(estimator=LogisticRegression(), max_features=3)\n",
      "Running on: RandomForestClassifier() and SelectFromModel(estimator=LogisticRegression(), max_features=5)\n",
      "Running on: DecisionTreeClassifier() and SelectFromModel(estimator=LogisticRegression(), max_features=5)\n",
      "Running on: LogisticRegression() and SelectFromModel(estimator=LogisticRegression(), max_features=5)\n",
      "Running on: LinearDiscriminantAnalysis() and SelectFromModel(estimator=LogisticRegression(), max_features=5)\n",
      "Running on: QuadraticDiscriminantAnalysis() and SelectFromModel(estimator=LogisticRegression(), max_features=5)\n",
      "Running on: SVC() and SelectFromModel(estimator=LogisticRegression(), max_features=5)\n",
      "Running on: RandomForestClassifier() and SelectFromModel(estimator=LogisticRegression(), max_features=10)\n",
      "Running on: DecisionTreeClassifier() and SelectFromModel(estimator=LogisticRegression(), max_features=10)\n",
      "Running on: LogisticRegression() and SelectFromModel(estimator=LogisticRegression(), max_features=10)\n",
      "Running on: LinearDiscriminantAnalysis() and SelectFromModel(estimator=LogisticRegression(), max_features=10)\n",
      "Running on: QuadraticDiscriminantAnalysis() and SelectFromModel(estimator=LogisticRegression(), max_features=10)\n",
      "Running on: SVC() and SelectFromModel(estimator=LogisticRegression(), max_features=10)\n",
      "Running on: RandomForestClassifier() and SelectFromModel(estimator=LogisticRegression(), max_features=20)\n",
      "Running on: DecisionTreeClassifier() and SelectFromModel(estimator=LogisticRegression(), max_features=20)\n",
      "Running on: LogisticRegression() and SelectFromModel(estimator=LogisticRegression(), max_features=20)\n",
      "Running on: LinearDiscriminantAnalysis() and SelectFromModel(estimator=LogisticRegression(), max_features=20)\n",
      "Running on: QuadraticDiscriminantAnalysis() and SelectFromModel(estimator=LogisticRegression(), max_features=20)\n",
      "Running on: SVC() and SelectFromModel(estimator=LogisticRegression(), max_features=20)\n",
      "Running on: RandomForestClassifier() and SelectFromModel(estimator=LogisticRegression(), max_features=30)\n",
      "Running on: DecisionTreeClassifier() and SelectFromModel(estimator=LogisticRegression(), max_features=30)\n",
      "Running on: LogisticRegression() and SelectFromModel(estimator=LogisticRegression(), max_features=30)\n",
      "Running on: LinearDiscriminantAnalysis() and SelectFromModel(estimator=LogisticRegression(), max_features=30)\n",
      "Running on: QuadraticDiscriminantAnalysis() and SelectFromModel(estimator=LogisticRegression(), max_features=30)\n",
      "Running on: SVC() and SelectFromModel(estimator=LogisticRegression(), max_features=30)\n",
      "Running on: RandomForestClassifier() and SelectFromModel(estimator=RandomForestClassifier())\n",
      "Running on: DecisionTreeClassifier() and SelectFromModel(estimator=RandomForestClassifier())\n",
      "Running on: LogisticRegression() and SelectFromModel(estimator=RandomForestClassifier())\n",
      "Running on: LinearDiscriminantAnalysis() and SelectFromModel(estimator=RandomForestClassifier())\n",
      "Running on: QuadraticDiscriminantAnalysis() and SelectFromModel(estimator=RandomForestClassifier())\n",
      "Running on: SVC() and SelectFromModel(estimator=RandomForestClassifier())\n",
      "Running on: RandomForestClassifier() and SelectFromModel(estimator=RandomForestClassifier(), max_features=3)\n",
      "Running on: DecisionTreeClassifier() and SelectFromModel(estimator=RandomForestClassifier(), max_features=3)\n",
      "Running on: LogisticRegression() and SelectFromModel(estimator=RandomForestClassifier(), max_features=3)\n",
      "Running on: LinearDiscriminantAnalysis() and SelectFromModel(estimator=RandomForestClassifier(), max_features=3)\n",
      "Running on: QuadraticDiscriminantAnalysis() and SelectFromModel(estimator=RandomForestClassifier(), max_features=3)\n",
      "Running on: SVC() and SelectFromModel(estimator=RandomForestClassifier(), max_features=3)\n",
      "Running on: RandomForestClassifier() and SelectFromModel(estimator=RandomForestClassifier(), max_features=5)\n",
      "Running on: DecisionTreeClassifier() and SelectFromModel(estimator=RandomForestClassifier(), max_features=5)\n",
      "Running on: LogisticRegression() and SelectFromModel(estimator=RandomForestClassifier(), max_features=5)\n",
      "Running on: LinearDiscriminantAnalysis() and SelectFromModel(estimator=RandomForestClassifier(), max_features=5)\n",
      "Running on: QuadraticDiscriminantAnalysis() and SelectFromModel(estimator=RandomForestClassifier(), max_features=5)\n",
      "Running on: SVC() and SelectFromModel(estimator=RandomForestClassifier(), max_features=5)\n",
      "Running on: RandomForestClassifier() and SelectFromModel(estimator=RandomForestClassifier(), max_features=10)\n",
      "Running on: DecisionTreeClassifier() and SelectFromModel(estimator=RandomForestClassifier(), max_features=10)\n",
      "Running on: LogisticRegression() and SelectFromModel(estimator=RandomForestClassifier(), max_features=10)\n",
      "Running on: LinearDiscriminantAnalysis() and SelectFromModel(estimator=RandomForestClassifier(), max_features=10)\n",
      "Running on: QuadraticDiscriminantAnalysis() and SelectFromModel(estimator=RandomForestClassifier(), max_features=10)\n",
      "Running on: SVC() and SelectFromModel(estimator=RandomForestClassifier(), max_features=10)\n",
      "Running on: RandomForestClassifier() and SelectFromModel(estimator=RandomForestClassifier(), max_features=20)\n",
      "Running on: DecisionTreeClassifier() and SelectFromModel(estimator=RandomForestClassifier(), max_features=20)\n",
      "Running on: LogisticRegression() and SelectFromModel(estimator=RandomForestClassifier(), max_features=20)\n",
      "Running on: LinearDiscriminantAnalysis() and SelectFromModel(estimator=RandomForestClassifier(), max_features=20)\n",
      "Running on: QuadraticDiscriminantAnalysis() and SelectFromModel(estimator=RandomForestClassifier(), max_features=20)\n",
      "Running on: SVC() and SelectFromModel(estimator=RandomForestClassifier(), max_features=20)\n",
      "Running on: RandomForestClassifier() and SelectFromModel(estimator=RandomForestClassifier(), max_features=30)\n",
      "Running on: DecisionTreeClassifier() and SelectFromModel(estimator=RandomForestClassifier(), max_features=30)\n",
      "Running on: LogisticRegression() and SelectFromModel(estimator=RandomForestClassifier(), max_features=30)\n",
      "Running on: LinearDiscriminantAnalysis() and SelectFromModel(estimator=RandomForestClassifier(), max_features=30)\n",
      "Running on: QuadraticDiscriminantAnalysis() and SelectFromModel(estimator=RandomForestClassifier(), max_features=30)\n",
      "Running on: SVC() and SelectFromModel(estimator=RandomForestClassifier(), max_features=30)\n",
      "Running on: RandomForestClassifier() and PCA(n_components=3)\n",
      "Running on: DecisionTreeClassifier() and PCA(n_components=3)\n",
      "Running on: LogisticRegression() and PCA(n_components=3)\n",
      "Running on: LinearDiscriminantAnalysis() and PCA(n_components=3)\n",
      "Running on: QuadraticDiscriminantAnalysis() and PCA(n_components=3)\n",
      "Running on: SVC() and PCA(n_components=3)\n",
      "Running on: RandomForestClassifier() and PCA(n_components=5)\n",
      "Running on: DecisionTreeClassifier() and PCA(n_components=5)\n",
      "Running on: LogisticRegression() and PCA(n_components=5)\n",
      "Running on: LinearDiscriminantAnalysis() and PCA(n_components=5)\n",
      "Running on: QuadraticDiscriminantAnalysis() and PCA(n_components=5)\n",
      "Running on: SVC() and PCA(n_components=5)\n",
      "Running on: RandomForestClassifier() and PCA(n_components=10)\n",
      "Running on: DecisionTreeClassifier() and PCA(n_components=10)\n",
      "Running on: LogisticRegression() and PCA(n_components=10)\n",
      "Running on: LinearDiscriminantAnalysis() and PCA(n_components=10)\n",
      "Running on: QuadraticDiscriminantAnalysis() and PCA(n_components=10)\n",
      "Running on: SVC() and PCA(n_components=10)\n",
      "Running on: RandomForestClassifier() and PCA(n_components=20)\n",
      "Running on: DecisionTreeClassifier() and PCA(n_components=20)\n",
      "Running on: LogisticRegression() and PCA(n_components=20)\n",
      "Running on: LinearDiscriminantAnalysis() and PCA(n_components=20)\n",
      "Running on: QuadraticDiscriminantAnalysis() and PCA(n_components=20)\n",
      "Running on: SVC() and PCA(n_components=20)\n",
      "Running on: RandomForestClassifier() and PCA(n_components=30)\n",
      "Running on: DecisionTreeClassifier() and PCA(n_components=30)\n",
      "Running on: LogisticRegression() and PCA(n_components=30)\n",
      "Running on: LinearDiscriminantAnalysis() and PCA(n_components=30)\n",
      "Running on: QuadraticDiscriminantAnalysis() and PCA(n_components=30)\n",
      "Running on: SVC() and PCA(n_components=30)\n",
      "Running on: RandomForestClassifier() and PCA(n_components=100)\n",
      "Running on: DecisionTreeClassifier() and PCA(n_components=100)\n",
      "Running on: LogisticRegression() and PCA(n_components=100)\n",
      "Running on: LinearDiscriminantAnalysis() and PCA(n_components=100)\n",
      "Running on: QuadraticDiscriminantAnalysis() and PCA(n_components=100)\n",
      "Running on: SVC() and PCA(n_components=100)\n"
     ]
    }
   ],
   "source": [
    "results_dict = run_grid_search_cv(feature_selector_grid_params, model_grid_params, X_train, y_train, accuracy)"
   ]
  },
  {
   "cell_type": "code",
   "execution_count": 68,
   "metadata": {
    "scrolled": false,
    "ExecuteTime": {
     "end_time": "2024-05-11T18:12:47.836780Z",
     "start_time": "2024-05-11T18:12:47.785324Z"
    }
   },
   "outputs": [
    {
     "data": {
      "text/plain": "<pandas.io.formats.style.Styler at 0x321f8cdc0>",
      "text/html": "<style type=\"text/css\">\n#T_a4845_row0_col0, #T_a4845_row20_col2 {\n  background-color: #f5fbf3;\n  color: #000000;\n}\n#T_a4845_row0_col1, #T_a4845_row5_col2, #T_a4845_row5_col3, #T_a4845_row8_col1, #T_a4845_row8_col4, #T_a4845_row12_col4, #T_a4845_row13_col1, #T_a4845_row13_col4, #T_a4845_row14_col0, #T_a4845_row15_col2, #T_a4845_row15_col3, #T_a4845_row15_col5, #T_a4845_row16_col3, #T_a4845_row18_col2 {\n  background-color: #f4fbf1;\n  color: #000000;\n}\n#T_a4845_row0_col2, #T_a4845_row0_col3, #T_a4845_row0_col4, #T_a4845_row4_col1, #T_a4845_row9_col3, #T_a4845_row13_col2, #T_a4845_row13_col3, #T_a4845_row15_col0, #T_a4845_row15_col4, #T_a4845_row19_col3 {\n  background-color: #f3faf0;\n  color: #000000;\n}\n#T_a4845_row0_col5, #T_a4845_row1_col0, #T_a4845_row3_col1, #T_a4845_row4_col0, #T_a4845_row4_col2, #T_a4845_row4_col3, #T_a4845_row6_col2, #T_a4845_row6_col3, #T_a4845_row6_col4, #T_a4845_row8_col5, #T_a4845_row12_col2, #T_a4845_row12_col3, #T_a4845_row14_col1, #T_a4845_row16_col5 {\n  background-color: #f1faee;\n  color: #000000;\n}\n#T_a4845_row1_col1, #T_a4845_row4_col5, #T_a4845_row6_col5, #T_a4845_row10_col0 {\n  background-color: #f0f9ed;\n  color: #000000;\n}\n#T_a4845_row1_col2, #T_a4845_row1_col3, #T_a4845_row3_col2, #T_a4845_row3_col3, #T_a4845_row11_col2, #T_a4845_row11_col3, #T_a4845_row14_col2, #T_a4845_row14_col3, #T_a4845_row15_col1 {\n  background-color: #f4fbf2;\n  color: #000000;\n}\n#T_a4845_row1_col4 {\n  background-color: #e9f7e5;\n  color: #000000;\n}\n#T_a4845_row1_col5, #T_a4845_row9_col1, #T_a4845_row9_col5 {\n  background-color: #ebf7e7;\n  color: #000000;\n}\n#T_a4845_row2_col0, #T_a4845_row7_col2, #T_a4845_row7_col3, #T_a4845_row11_col0, #T_a4845_row11_col4, #T_a4845_row12_col1, #T_a4845_row12_col5, #T_a4845_row13_col0 {\n  background-color: #f6fcf4;\n  color: #000000;\n}\n#T_a4845_row2_col1, #T_a4845_row10_col4, #T_a4845_row11_col1, #T_a4845_row11_col5, #T_a4845_row13_col5 {\n  background-color: #f5fbf2;\n  color: #000000;\n}\n#T_a4845_row2_col2, #T_a4845_row2_col3, #T_a4845_row6_col0, #T_a4845_row9_col2, #T_a4845_row14_col4, #T_a4845_row14_col5, #T_a4845_row16_col2, #T_a4845_row19_col2, #T_a4845_row20_col3 {\n  background-color: #f2faf0;\n  color: #000000;\n}\n#T_a4845_row2_col4, #T_a4845_row10_col1, #T_a4845_row10_col2, #T_a4845_row10_col3, #T_a4845_row10_col5, #T_a4845_row17_col2, #T_a4845_row17_col3, #T_a4845_row18_col3, #T_a4845_row21_col2, #T_a4845_row21_col3 {\n  background-color: #f2faef;\n  color: #000000;\n}\n#T_a4845_row2_col5 {\n  background-color: #edf8ea;\n  color: #000000;\n}\n#T_a4845_row3_col0, #T_a4845_row5_col1, #T_a4845_row7_col1 {\n  background-color: #ecf8e8;\n  color: #000000;\n}\n#T_a4845_row3_col4 {\n  background-color: #e6f5e1;\n  color: #000000;\n}\n#T_a4845_row3_col5 {\n  background-color: #e8f6e4;\n  color: #000000;\n}\n#T_a4845_row4_col4 {\n  background-color: #f0f9ec;\n  color: #000000;\n}\n#T_a4845_row5_col0 {\n  background-color: #dff3da;\n  color: #000000;\n}\n#T_a4845_row5_col4 {\n  background-color: #d4eece;\n  color: #000000;\n}\n#T_a4845_row5_col5 {\n  background-color: #e7f6e3;\n  color: #000000;\n}\n#T_a4845_row6_col1, #T_a4845_row12_col0 {\n  background-color: #f7fcf5;\n  color: #000000;\n}\n#T_a4845_row7_col0, #T_a4845_row17_col0, #T_a4845_row19_col1, #T_a4845_row21_col4 {\n  background-color: #d2edcc;\n  color: #000000;\n}\n#T_a4845_row7_col4 {\n  background-color: #d1edcb;\n  color: #000000;\n}\n#T_a4845_row7_col5 {\n  background-color: #eaf7e6;\n  color: #000000;\n}\n#T_a4845_row8_col0, #T_a4845_row8_col2, #T_a4845_row8_col3 {\n  background-color: #eff9ec;\n  color: #000000;\n}\n#T_a4845_row9_col0, #T_a4845_row18_col1 {\n  background-color: #d7efd1;\n  color: #000000;\n}\n#T_a4845_row9_col4, #T_a4845_row20_col1, #T_a4845_row21_col5 {\n  background-color: #d6efd0;\n  color: #000000;\n}\n#T_a4845_row16_col0, #T_a4845_row17_col4, #T_a4845_row17_col5 {\n  background-color: #bde5b6;\n  color: #000000;\n}\n#T_a4845_row16_col1 {\n  background-color: #d9f0d3;\n  color: #000000;\n}\n#T_a4845_row16_col4 {\n  background-color: #edf8e9;\n  color: #000000;\n}\n#T_a4845_row17_col1 {\n  background-color: #e4f5df;\n  color: #000000;\n}\n#T_a4845_row18_col0 {\n  background-color: #a9dca3;\n  color: #000000;\n}\n#T_a4845_row18_col4, #T_a4845_row20_col5 {\n  background-color: #a0d99b;\n  color: #000000;\n}\n#T_a4845_row18_col5 {\n  background-color: #a4da9e;\n  color: #000000;\n}\n#T_a4845_row19_col0 {\n  background-color: #99d595;\n  color: #000000;\n}\n#T_a4845_row19_col4 {\n  background-color: #75c477;\n  color: #000000;\n}\n#T_a4845_row19_col5 {\n  background-color: #86cc85;\n  color: #000000;\n}\n#T_a4845_row20_col0 {\n  background-color: #9ed798;\n  color: #000000;\n}\n#T_a4845_row20_col4 {\n  background-color: #ceecc8;\n  color: #000000;\n}\n#T_a4845_row21_col0 {\n  background-color: #a3da9d;\n  color: #000000;\n}\n#T_a4845_row21_col1 {\n  background-color: #dbf1d5;\n  color: #000000;\n}\n</style>\n<table id=\"T_a4845\">\n  <thead>\n    <tr>\n      <th class=\"blank level0\" >&nbsp;</th>\n      <th id=\"T_a4845_level0_col0\" class=\"col_heading level0 col0\" >RF</th>\n      <th id=\"T_a4845_level0_col1\" class=\"col_heading level0 col1\" >DT</th>\n      <th id=\"T_a4845_level0_col2\" class=\"col_heading level0 col2\" >LogReg</th>\n      <th id=\"T_a4845_level0_col3\" class=\"col_heading level0 col3\" >LDA</th>\n      <th id=\"T_a4845_level0_col4\" class=\"col_heading level0 col4\" >QDA</th>\n      <th id=\"T_a4845_level0_col5\" class=\"col_heading level0 col5\" >SVC-rbf</th>\n    </tr>\n  </thead>\n  <tbody>\n    <tr>\n      <th id=\"T_a4845_level0_row0\" class=\"row_heading level0 row0\" >SelectKBest(k=3)</th>\n      <td id=\"T_a4845_row0_col0\" class=\"data row0 col0\" >0.498600</td>\n      <td id=\"T_a4845_row0_col1\" class=\"data row0 col1\" >0.504800</td>\n      <td id=\"T_a4845_row0_col2\" class=\"data row0 col2\" >0.506400</td>\n      <td id=\"T_a4845_row0_col3\" class=\"data row0 col3\" >0.505800</td>\n      <td id=\"T_a4845_row0_col4\" class=\"data row0 col4\" >0.505000</td>\n      <td id=\"T_a4845_row0_col5\" class=\"data row0 col5\" >0.510800</td>\n    </tr>\n    <tr>\n      <th id=\"T_a4845_level0_row1\" class=\"row_heading level0 row1\" >SelectKBest(k=3, score_func=<function mutual_info_classif at 0x1464c04c0>)</th>\n      <td id=\"T_a4845_row1_col0\" class=\"data row1 col0\" >0.514400</td>\n      <td id=\"T_a4845_row1_col1\" class=\"data row1 col1\" >0.515800</td>\n      <td id=\"T_a4845_row1_col2\" class=\"data row1 col2\" >0.502000</td>\n      <td id=\"T_a4845_row1_col3\" class=\"data row1 col3\" >0.502200</td>\n      <td id=\"T_a4845_row1_col4\" class=\"data row1 col4\" >0.541800</td>\n      <td id=\"T_a4845_row1_col5\" class=\"data row1 col5\" >0.534200</td>\n    </tr>\n    <tr>\n      <th id=\"T_a4845_level0_row2\" class=\"row_heading level0 row2\" >SelectKBest(k=5)</th>\n      <td id=\"T_a4845_row2_col0\" class=\"data row2 col0\" >0.496400</td>\n      <td id=\"T_a4845_row2_col1\" class=\"data row2 col1\" >0.500400</td>\n      <td id=\"T_a4845_row2_col2\" class=\"data row2 col2\" >0.507400</td>\n      <td id=\"T_a4845_row2_col3\" class=\"data row2 col3\" >0.508400</td>\n      <td id=\"T_a4845_row2_col4\" class=\"data row2 col4\" >0.510000</td>\n      <td id=\"T_a4845_row2_col5\" class=\"data row2 col5\" >0.524600</td>\n    </tr>\n    <tr>\n      <th id=\"T_a4845_level0_row3\" class=\"row_heading level0 row3\" >SelectKBest(k=5, score_func=<function mutual_info_classif at 0x1464c04c0>)</th>\n      <td id=\"T_a4845_row3_col0\" class=\"data row3 col0\" >0.531200</td>\n      <td id=\"T_a4845_row3_col1\" class=\"data row3 col1\" >0.513000</td>\n      <td id=\"T_a4845_row3_col2\" class=\"data row3 col2\" >0.501400</td>\n      <td id=\"T_a4845_row3_col3\" class=\"data row3 col3\" >0.501400</td>\n      <td id=\"T_a4845_row3_col4\" class=\"data row3 col4\" >0.551200</td>\n      <td id=\"T_a4845_row3_col5\" class=\"data row3 col5\" >0.542000</td>\n    </tr>\n    <tr>\n      <th id=\"T_a4845_level0_row4\" class=\"row_heading level0 row4\" >SelectKBest()</th>\n      <td id=\"T_a4845_row4_col0\" class=\"data row4 col0\" >0.511800</td>\n      <td id=\"T_a4845_row4_col1\" class=\"data row4 col1\" >0.505200</td>\n      <td id=\"T_a4845_row4_col2\" class=\"data row4 col2\" >0.512600</td>\n      <td id=\"T_a4845_row4_col3\" class=\"data row4 col3\" >0.511600</td>\n      <td id=\"T_a4845_row4_col4\" class=\"data row4 col4\" >0.517000</td>\n      <td id=\"T_a4845_row4_col5\" class=\"data row4 col5\" >0.516400</td>\n    </tr>\n    <tr>\n      <th id=\"T_a4845_level0_row5\" class=\"row_heading level0 row5\" >SelectKBest(score_func=<function mutual_info_classif at 0x1464c04c0>)</th>\n      <td id=\"T_a4845_row5_col0\" class=\"data row5 col0\" >0.565600</td>\n      <td id=\"T_a4845_row5_col1\" class=\"data row5 col1\" >0.531000</td>\n      <td id=\"T_a4845_row5_col2\" class=\"data row5 col2\" >0.504000</td>\n      <td id=\"T_a4845_row5_col3\" class=\"data row5 col3\" >0.503800</td>\n      <td id=\"T_a4845_row5_col4\" class=\"data row5 col4\" >0.588800</td>\n      <td id=\"T_a4845_row5_col5\" class=\"data row5 col5\" >0.546000</td>\n    </tr>\n    <tr>\n      <th id=\"T_a4845_level0_row6\" class=\"row_heading level0 row6\" >SelectKBest(k=20)</th>\n      <td id=\"T_a4845_row6_col0\" class=\"data row6 col0\" >0.508000</td>\n      <td id=\"T_a4845_row6_col1\" class=\"data row6 col1\" >0.491200</td>\n      <td id=\"T_a4845_row6_col2\" class=\"data row6 col2\" >0.514000</td>\n      <td id=\"T_a4845_row6_col3\" class=\"data row6 col3\" >0.513400</td>\n      <td id=\"T_a4845_row6_col4\" class=\"data row6 col4\" >0.511000</td>\n      <td id=\"T_a4845_row6_col5\" class=\"data row6 col5\" >0.516400</td>\n    </tr>\n    <tr>\n      <th id=\"T_a4845_level0_row7\" class=\"row_heading level0 row7\" >SelectKBest(k=20, score_func=<function mutual_info_classif at 0x1464c04c0>)</th>\n      <td id=\"T_a4845_row7_col0\" class=\"data row7 col0\" >0.593000</td>\n      <td id=\"T_a4845_row7_col1\" class=\"data row7 col1\" >0.531400</td>\n      <td id=\"T_a4845_row7_col2\" class=\"data row7 col2\" >0.494000</td>\n      <td id=\"T_a4845_row7_col3\" class=\"data row7 col3\" >0.494800</td>\n      <td id=\"T_a4845_row7_col4\" class=\"data row7 col4\" >0.594800</td>\n      <td id=\"T_a4845_row7_col5\" class=\"data row7 col5\" >0.536800</td>\n    </tr>\n    <tr>\n      <th id=\"T_a4845_level0_row8\" class=\"row_heading level0 row8\" >SelectKBest(k=30)</th>\n      <td id=\"T_a4845_row8_col0\" class=\"data row8 col0\" >0.519200</td>\n      <td id=\"T_a4845_row8_col1\" class=\"data row8 col1\" >0.504600</td>\n      <td id=\"T_a4845_row8_col2\" class=\"data row8 col2\" >0.519600</td>\n      <td id=\"T_a4845_row8_col3\" class=\"data row8 col3\" >0.518600</td>\n      <td id=\"T_a4845_row8_col4\" class=\"data row8 col4\" >0.503600</td>\n      <td id=\"T_a4845_row8_col5\" class=\"data row8 col5\" >0.512800</td>\n    </tr>\n    <tr>\n      <th id=\"T_a4845_level0_row9\" class=\"row_heading level0 row9\" >SelectKBest(k=30, score_func=<function mutual_info_classif at 0x1464c04c0>)</th>\n      <td id=\"T_a4845_row9_col0\" class=\"data row9 col0\" >0.583800</td>\n      <td id=\"T_a4845_row9_col1\" class=\"data row9 col1\" >0.534800</td>\n      <td id=\"T_a4845_row9_col2\" class=\"data row9 col2\" >0.507400</td>\n      <td id=\"T_a4845_row9_col3\" class=\"data row9 col3\" >0.506400</td>\n      <td id=\"T_a4845_row9_col4\" class=\"data row9 col4\" >0.586000</td>\n      <td id=\"T_a4845_row9_col5\" class=\"data row9 col5\" >0.532800</td>\n    </tr>\n    <tr>\n      <th id=\"T_a4845_level0_row10\" class=\"row_heading level0 row10\" >SelectFromModel(estimator=LogisticRegression())</th>\n      <td id=\"T_a4845_row10_col0\" class=\"data row10 col0\" >0.515400</td>\n      <td id=\"T_a4845_row10_col1\" class=\"data row10 col1\" >0.508800</td>\n      <td id=\"T_a4845_row10_col2\" class=\"data row10 col2\" >0.509600</td>\n      <td id=\"T_a4845_row10_col3\" class=\"data row10 col3\" >0.510200</td>\n      <td id=\"T_a4845_row10_col4\" class=\"data row10 col4\" >0.499400</td>\n      <td id=\"T_a4845_row10_col5\" class=\"data row10 col5\" >0.509600</td>\n    </tr>\n    <tr>\n      <th id=\"T_a4845_level0_row11\" class=\"row_heading level0 row11\" >SelectFromModel(estimator=LogisticRegression(), max_features=3)</th>\n      <td id=\"T_a4845_row11_col0\" class=\"data row11 col0\" >0.496000</td>\n      <td id=\"T_a4845_row11_col1\" class=\"data row11 col1\" >0.500600</td>\n      <td id=\"T_a4845_row11_col2\" class=\"data row11 col2\" >0.502800</td>\n      <td id=\"T_a4845_row11_col3\" class=\"data row11 col3\" >0.502800</td>\n      <td id=\"T_a4845_row11_col4\" class=\"data row11 col4\" >0.496800</td>\n      <td id=\"T_a4845_row11_col5\" class=\"data row11 col5\" >0.499600</td>\n    </tr>\n    <tr>\n      <th id=\"T_a4845_level0_row12\" class=\"row_heading level0 row12\" >SelectFromModel(estimator=LogisticRegression(), max_features=5)</th>\n      <td id=\"T_a4845_row12_col0\" class=\"data row12 col0\" >0.492200</td>\n      <td id=\"T_a4845_row12_col1\" class=\"data row12 col1\" >0.494400</td>\n      <td id=\"T_a4845_row12_col2\" class=\"data row12 col2\" >0.511800</td>\n      <td id=\"T_a4845_row12_col3\" class=\"data row12 col3\" >0.511800</td>\n      <td id=\"T_a4845_row12_col4\" class=\"data row12 col4\" >0.503800</td>\n      <td id=\"T_a4845_row12_col5\" class=\"data row12 col5\" >0.495800</td>\n    </tr>\n    <tr>\n      <th id=\"T_a4845_level0_row13\" class=\"row_heading level0 row13\" >SelectFromModel(estimator=LogisticRegression(), max_features=10)</th>\n      <td id=\"T_a4845_row13_col0\" class=\"data row13 col0\" >0.497000</td>\n      <td id=\"T_a4845_row13_col1\" class=\"data row13 col1\" >0.504200</td>\n      <td id=\"T_a4845_row13_col2\" class=\"data row13 col2\" >0.506200</td>\n      <td id=\"T_a4845_row13_col3\" class=\"data row13 col3\" >0.506400</td>\n      <td id=\"T_a4845_row13_col4\" class=\"data row13 col4\" >0.504200</td>\n      <td id=\"T_a4845_row13_col5\" class=\"data row13 col5\" >0.500000</td>\n    </tr>\n    <tr>\n      <th id=\"T_a4845_level0_row14\" class=\"row_heading level0 row14\" >SelectFromModel(estimator=LogisticRegression(), max_features=20)</th>\n      <td id=\"T_a4845_row14_col0\" class=\"data row14 col0\" >0.504400</td>\n      <td id=\"T_a4845_row14_col1\" class=\"data row14 col1\" >0.511200</td>\n      <td id=\"T_a4845_row14_col2\" class=\"data row14 col2\" >0.501600</td>\n      <td id=\"T_a4845_row14_col3\" class=\"data row14 col3\" >0.501600</td>\n      <td id=\"T_a4845_row14_col4\" class=\"data row14 col4\" >0.507600</td>\n      <td id=\"T_a4845_row14_col5\" class=\"data row14 col5\" >0.507200</td>\n    </tr>\n    <tr>\n      <th id=\"T_a4845_level0_row15\" class=\"row_heading level0 row15\" >SelectFromModel(estimator=LogisticRegression(), max_features=30)</th>\n      <td id=\"T_a4845_row15_col0\" class=\"data row15 col0\" >0.505600</td>\n      <td id=\"T_a4845_row15_col1\" class=\"data row15 col1\" >0.501200</td>\n      <td id=\"T_a4845_row15_col2\" class=\"data row15 col2\" >0.504000</td>\n      <td id=\"T_a4845_row15_col3\" class=\"data row15 col3\" >0.504000</td>\n      <td id=\"T_a4845_row15_col4\" class=\"data row15 col4\" >0.506000</td>\n      <td id=\"T_a4845_row15_col5\" class=\"data row15 col5\" >0.504400</td>\n    </tr>\n    <tr>\n      <th id=\"T_a4845_level0_row16\" class=\"row_heading level0 row16\" >SelectFromModel(estimator=RandomForestClassifier())</th>\n      <td id=\"T_a4845_row16_col0\" class=\"data row16 col0\" >0.632200</td>\n      <td id=\"T_a4845_row16_col1\" class=\"data row16 col1\" >0.579000</td>\n      <td id=\"T_a4845_row16_col2\" class=\"data row16 col2\" >0.507200</td>\n      <td id=\"T_a4845_row16_col3\" class=\"data row16 col3\" >0.503200</td>\n      <td id=\"T_a4845_row16_col4\" class=\"data row16 col4\" >0.527400</td>\n      <td id=\"T_a4845_row16_col5\" class=\"data row16 col5\" >0.511200</td>\n    </tr>\n    <tr>\n      <th id=\"T_a4845_level0_row17\" class=\"row_heading level0 row17\" >SelectFromModel(estimator=RandomForestClassifier(), max_features=3)</th>\n      <td id=\"T_a4845_row17_col0\" class=\"data row17 col0\" >0.593400</td>\n      <td id=\"T_a4845_row17_col1\" class=\"data row17 col1\" >0.556400</td>\n      <td id=\"T_a4845_row17_col2\" class=\"data row17 col2\" >0.510000</td>\n      <td id=\"T_a4845_row17_col3\" class=\"data row17 col3\" >0.509000</td>\n      <td id=\"T_a4845_row17_col4\" class=\"data row17 col4\" >0.631800</td>\n      <td id=\"T_a4845_row17_col5\" class=\"data row17 col5\" >0.632000</td>\n    </tr>\n    <tr>\n      <th id=\"T_a4845_level0_row18\" class=\"row_heading level0 row18\" >SelectFromModel(estimator=RandomForestClassifier(), max_features=5)</th>\n      <td id=\"T_a4845_row18_col0\" class=\"data row18 col0\" >0.666000</td>\n      <td id=\"T_a4845_row18_col1\" class=\"data row18 col1\" >0.584400</td>\n      <td id=\"T_a4845_row18_col2\" class=\"data row18 col2\" >0.504800</td>\n      <td id=\"T_a4845_row18_col3\" class=\"data row18 col3\" >0.509000</td>\n      <td id=\"T_a4845_row18_col4\" class=\"data row18 col4\" >0.678400</td>\n      <td id=\"T_a4845_row18_col5\" class=\"data row18 col5\" >0.673200</td>\n    </tr>\n    <tr>\n      <th id=\"T_a4845_level0_row19\" class=\"row_heading level0 row19\" >SelectFromModel(estimator=RandomForestClassifier(), max_features=10)</th>\n      <td id=\"T_a4845_row19_col0\" class=\"data row19 col0\" >0.688400</td>\n      <td id=\"T_a4845_row19_col1\" class=\"data row19 col1\" >0.593200</td>\n      <td id=\"T_a4845_row19_col2\" class=\"data row19 col2\" >0.508000</td>\n      <td id=\"T_a4845_row19_col3\" class=\"data row19 col3\" >0.505400</td>\n      <td id=\"T_a4845_row19_col4\" class=\"data row19 col4\" >0.740400</td>\n      <td id=\"T_a4845_row19_col5\" class=\"data row19 col5\" >0.717000</td>\n    </tr>\n    <tr>\n      <th id=\"T_a4845_level0_row20\" class=\"row_heading level0 row20\" >SelectFromModel(estimator=RandomForestClassifier(), max_features=20)</th>\n      <td id=\"T_a4845_row20_col0\" class=\"data row20 col0\" >0.682200</td>\n      <td id=\"T_a4845_row20_col1\" class=\"data row20 col1\" >0.586000</td>\n      <td id=\"T_a4845_row20_col2\" class=\"data row20 col2\" >0.498000</td>\n      <td id=\"T_a4845_row20_col3\" class=\"data row20 col3\" >0.507400</td>\n      <td id=\"T_a4845_row20_col4\" class=\"data row20 col4\" >0.601600</td>\n      <td id=\"T_a4845_row20_col5\" class=\"data row20 col5\" >0.679800</td>\n    </tr>\n    <tr>\n      <th id=\"T_a4845_level0_row21\" class=\"row_heading level0 row21\" >SelectFromModel(estimator=RandomForestClassifier(), max_features=30)</th>\n      <td id=\"T_a4845_row21_col0\" class=\"data row21 col0\" >0.675600</td>\n      <td id=\"T_a4845_row21_col1\" class=\"data row21 col1\" >0.575000</td>\n      <td id=\"T_a4845_row21_col2\" class=\"data row21 col2\" >0.509200</td>\n      <td id=\"T_a4845_row21_col3\" class=\"data row21 col3\" >0.510600</td>\n      <td id=\"T_a4845_row21_col4\" class=\"data row21 col4\" >0.592600</td>\n      <td id=\"T_a4845_row21_col5\" class=\"data row21 col5\" >0.585200</td>\n    </tr>\n  </tbody>\n</table>\n"
     },
     "execution_count": 68,
     "metadata": {},
     "output_type": "execute_result"
    }
   ],
   "source": [
    "avg_results_dict = apply_transform_to_res(results_dict, np.mean)\n",
    "avg_df = pd.DataFrame(avg_results_dict).T\n",
    "avg_df.columns = [\"RF\", \"DT\", \"LogReg\", \"LDA\", \"QDA\", \"SVC-rbf\"]\n",
    "avg_df.style.background_gradient(cmap=\"Greens\", low=0.0, high=1.0, axis=None)"
   ]
  },
  {
   "cell_type": "code",
   "execution_count": 71,
   "metadata": {
    "ExecuteTime": {
     "end_time": "2024-05-11T18:13:50.905668Z",
     "start_time": "2024-05-11T18:13:50.879719Z"
    }
   },
   "outputs": [
    {
     "data": {
      "text/plain": "<pandas.io.formats.style.Styler at 0x3224479d0>",
      "text/html": "<style type=\"text/css\">\n#T_0c620_row0_col0 {\n  background-color: #fed8c7;\n  color: #000000;\n}\n#T_0c620_row0_col1, #T_0c620_row14_col1 {\n  background-color: #ffece4;\n  color: #000000;\n}\n#T_0c620_row0_col2 {\n  background-color: #fcae92;\n  color: #000000;\n}\n#T_0c620_row0_col3, #T_0c620_row6_col2, #T_0c620_row20_col0 {\n  background-color: #fcaf93;\n  color: #000000;\n}\n#T_0c620_row0_col4, #T_0c620_row15_col2, #T_0c620_row18_col2 {\n  background-color: #fdd7c6;\n  color: #000000;\n}\n#T_0c620_row0_col5, #T_0c620_row7_col2, #T_0c620_row19_col0 {\n  background-color: #fdcebb;\n  color: #000000;\n}\n#T_0c620_row1_col0 {\n  background-color: #f96044;\n  color: #f1f1f1;\n}\n#T_0c620_row1_col1, #T_0c620_row4_col3 {\n  background-color: #fedecf;\n  color: #000000;\n}\n#T_0c620_row1_col2 {\n  background-color: #fee3d7;\n  color: #000000;\n}\n#T_0c620_row1_col3, #T_0c620_row12_col1, #T_0c620_row18_col5 {\n  background-color: #fee3d6;\n  color: #000000;\n}\n#T_0c620_row1_col4 {\n  background-color: #b61319;\n  color: #f1f1f1;\n}\n#T_0c620_row1_col5 {\n  background-color: #b11218;\n  color: #f1f1f1;\n}\n#T_0c620_row2_col0, #T_0c620_row18_col0 {\n  background-color: #fed9c9;\n  color: #000000;\n}\n#T_0c620_row2_col1 {\n  background-color: #fedccd;\n  color: #000000;\n}\n#T_0c620_row2_col2, #T_0c620_row3_col3 {\n  background-color: #fdc6b0;\n  color: #000000;\n}\n#T_0c620_row2_col3, #T_0c620_row4_col1, #T_0c620_row14_col5, #T_0c620_row19_col3 {\n  background-color: #fdc9b3;\n  color: #000000;\n}\n#T_0c620_row2_col4 {\n  background-color: #fee1d4;\n  color: #000000;\n}\n#T_0c620_row2_col5, #T_0c620_row12_col5 {\n  background-color: #fee7db;\n  color: #000000;\n}\n#T_0c620_row3_col0 {\n  background-color: #fc9e80;\n  color: #000000;\n}\n#T_0c620_row3_col1, #T_0c620_row15_col1, #T_0c620_row17_col4 {\n  background-color: #fee0d2;\n  color: #000000;\n}\n#T_0c620_row3_col2 {\n  background-color: #fdcbb6;\n  color: #000000;\n}\n#T_0c620_row3_col4 {\n  background-color: #fb7555;\n  color: #f1f1f1;\n}\n#T_0c620_row3_col5 {\n  background-color: #e22e27;\n  color: #f1f1f1;\n}\n#T_0c620_row4_col0, #T_0c620_row19_col2, #T_0c620_row20_col4 {\n  background-color: #fcc2aa;\n  color: #000000;\n}\n#T_0c620_row4_col2, #T_0c620_row12_col0 {\n  background-color: #fedaca;\n  color: #000000;\n}\n#T_0c620_row4_col4 {\n  background-color: #fca486;\n  color: #000000;\n}\n#T_0c620_row4_col5 {\n  background-color: #fdc5ae;\n  color: #000000;\n}\n#T_0c620_row5_col0 {\n  background-color: #fb7656;\n  color: #f1f1f1;\n}\n#T_0c620_row5_col1 {\n  background-color: #f34a36;\n  color: #f1f1f1;\n}\n#T_0c620_row5_col2, #T_0c620_row17_col1, #T_0c620_row21_col4 {\n  background-color: #fcb095;\n  color: #000000;\n}\n#T_0c620_row5_col3 {\n  background-color: #fcab8f;\n  color: #000000;\n}\n#T_0c620_row5_col4 {\n  background-color: #f24633;\n  color: #f1f1f1;\n}\n#T_0c620_row5_col5 {\n  background-color: #e93529;\n  color: #f1f1f1;\n}\n#T_0c620_row6_col0 {\n  background-color: #fb6d4d;\n  color: #f1f1f1;\n}\n#T_0c620_row6_col1 {\n  background-color: #fcb99f;\n  color: #000000;\n}\n#T_0c620_row6_col3 {\n  background-color: #fcaa8d;\n  color: #000000;\n}\n#T_0c620_row6_col4, #T_0c620_row7_col4 {\n  background-color: #fb7353;\n  color: #f1f1f1;\n}\n#T_0c620_row6_col5 {\n  background-color: #fc7f5f;\n  color: #f1f1f1;\n}\n#T_0c620_row7_col0 {\n  background-color: #fc9272;\n  color: #000000;\n}\n#T_0c620_row7_col1 {\n  background-color: #fcc4ad;\n  color: #000000;\n}\n#T_0c620_row7_col3, #T_0c620_row11_col0 {\n  background-color: #fdd3c1;\n  color: #000000;\n}\n#T_0c620_row7_col5, #T_0c620_row8_col4, #T_0c620_row8_col5, #T_0c620_row18_col3 {\n  background-color: #fca689;\n  color: #000000;\n}\n#T_0c620_row8_col0 {\n  background-color: #f75b40;\n  color: #f1f1f1;\n}\n#T_0c620_row8_col1, #T_0c620_row19_col4 {\n  background-color: #fcc1a8;\n  color: #000000;\n}\n#T_0c620_row8_col2 {\n  background-color: #fcb79c;\n  color: #000000;\n}\n#T_0c620_row8_col3 {\n  background-color: #fcb89e;\n  color: #000000;\n}\n#T_0c620_row9_col0, #T_0c620_row9_col2, #T_0c620_row11_col2, #T_0c620_row11_col3 {\n  background-color: #fcb398;\n  color: #000000;\n}\n#T_0c620_row9_col1, #T_0c620_row17_col3 {\n  background-color: #fdcdb9;\n  color: #000000;\n}\n#T_0c620_row9_col3, #T_0c620_row16_col4 {\n  background-color: #fcb499;\n  color: #000000;\n}\n#T_0c620_row9_col4 {\n  background-color: #fb7858;\n  color: #f1f1f1;\n}\n#T_0c620_row9_col5 {\n  background-color: #fcad90;\n  color: #000000;\n}\n#T_0c620_row10_col0 {\n  background-color: #fc8464;\n  color: #f1f1f1;\n}\n#T_0c620_row10_col1, #T_0c620_row14_col0 {\n  background-color: #fcbda4;\n  color: #000000;\n}\n#T_0c620_row10_col2 {\n  background-color: #fee5d8;\n  color: #000000;\n}\n#T_0c620_row10_col3, #T_0c620_row11_col5 {\n  background-color: #fee1d3;\n  color: #000000;\n}\n#T_0c620_row10_col4, #T_0c620_row19_col5 {\n  background-color: #fff3ed;\n  color: #000000;\n}\n#T_0c620_row10_col5 {\n  background-color: #fca78b;\n  color: #000000;\n}\n#T_0c620_row11_col1, #T_0c620_row12_col3, #T_0c620_row14_col4 {\n  background-color: #fee8dd;\n  color: #000000;\n}\n#T_0c620_row11_col4 {\n  background-color: #fcc3ab;\n  color: #000000;\n}\n#T_0c620_row12_col2 {\n  background-color: #fee7dc;\n  color: #000000;\n}\n#T_0c620_row12_col4, #T_0c620_row16_col5 {\n  background-color: #fcbca2;\n  color: #000000;\n}\n#T_0c620_row13_col0 {\n  background-color: #fc8161;\n  color: #f1f1f1;\n}\n#T_0c620_row13_col1, #T_0c620_row15_col0 {\n  background-color: #fee2d5;\n  color: #000000;\n}\n#T_0c620_row13_col2, #T_0c620_row13_col3, #T_0c620_row16_col2, #T_0c620_row21_col1 {\n  background-color: #fff0e9;\n  color: #000000;\n}\n#T_0c620_row13_col4, #T_0c620_row21_col3 {\n  background-color: #fdd5c4;\n  color: #000000;\n}\n#T_0c620_row13_col5 {\n  background-color: #fca285;\n  color: #000000;\n}\n#T_0c620_row14_col2 {\n  background-color: #fee9df;\n  color: #000000;\n}\n#T_0c620_row14_col3 {\n  background-color: #feeae0;\n  color: #000000;\n}\n#T_0c620_row15_col3 {\n  background-color: #fdd4c2;\n  color: #000000;\n}\n#T_0c620_row15_col4 {\n  background-color: #fff4ee;\n  color: #000000;\n}\n#T_0c620_row15_col5, #T_0c620_row16_col0 {\n  background-color: #fdd2bf;\n  color: #000000;\n}\n#T_0c620_row16_col1 {\n  background-color: #fdc7b2;\n  color: #000000;\n}\n#T_0c620_row16_col3 {\n  background-color: #fc9d7f;\n  color: #000000;\n}\n#T_0c620_row17_col0 {\n  background-color: #fdd0bc;\n  color: #000000;\n}\n#T_0c620_row17_col2 {\n  background-color: #ffefe8;\n  color: #000000;\n}\n#T_0c620_row17_col5 {\n  background-color: #fdcab5;\n  color: #000000;\n}\n#T_0c620_row18_col1 {\n  background-color: #fc9576;\n  color: #000000;\n}\n#T_0c620_row18_col4, #T_0c620_row21_col2 {\n  background-color: #fee5d9;\n  color: #000000;\n}\n#T_0c620_row19_col1 {\n  background-color: #fdccb8;\n  color: #000000;\n}\n#T_0c620_row20_col1 {\n  background-color: #fdd1be;\n  color: #000000;\n}\n#T_0c620_row20_col2 {\n  background-color: #fff5f0;\n  color: #000000;\n}\n#T_0c620_row20_col3 {\n  background-color: #fc8e6e;\n  color: #000000;\n}\n#T_0c620_row20_col5 {\n  background-color: #af1117;\n  color: #f1f1f1;\n}\n#T_0c620_row21_col0 {\n  background-color: #fcb296;\n  color: #000000;\n}\n#T_0c620_row21_col5 {\n  background-color: #67000d;\n  color: #f1f1f1;\n}\n</style>\n<table id=\"T_0c620\">\n  <thead>\n    <tr>\n      <th class=\"blank level0\" >&nbsp;</th>\n      <th id=\"T_0c620_level0_col0\" class=\"col_heading level0 col0\" >RF</th>\n      <th id=\"T_0c620_level0_col1\" class=\"col_heading level0 col1\" >DT</th>\n      <th id=\"T_0c620_level0_col2\" class=\"col_heading level0 col2\" >LogReg</th>\n      <th id=\"T_0c620_level0_col3\" class=\"col_heading level0 col3\" >LDA</th>\n      <th id=\"T_0c620_level0_col4\" class=\"col_heading level0 col4\" >QDA</th>\n      <th id=\"T_0c620_level0_col5\" class=\"col_heading level0 col5\" >SVC-rbf</th>\n    </tr>\n  </thead>\n  <tbody>\n    <tr>\n      <th id=\"T_0c620_level0_row0\" class=\"row_heading level0 row0\" >SelectKBest(k=3)</th>\n      <td id=\"T_0c620_row0_col0\" class=\"data row0 col0\" >0.010744</td>\n      <td id=\"T_0c620_row0_col1\" class=\"data row0 col1\" >0.006210</td>\n      <td id=\"T_0c620_row0_col2\" class=\"data row0 col2\" >0.016812</td>\n      <td id=\"T_0c620_row0_col3\" class=\"data row0 col3\" >0.016606</td>\n      <td id=\"T_0c620_row0_col4\" class=\"data row0 col4\" >0.011009</td>\n      <td id=\"T_0c620_row0_col5\" class=\"data row0 col5\" >0.012123</td>\n    </tr>\n    <tr>\n      <th id=\"T_0c620_level0_row1\" class=\"row_heading level0 row1\" >SelectKBest(k=3, score_func=<function mutual_info_classif at 0x1464c04c0>)</th>\n      <td id=\"T_0c620_row1_col0\" class=\"data row1 col0\" >0.027310</td>\n      <td id=\"T_0c620_row1_col1\" class=\"data row1 col1\" >0.009948</td>\n      <td id=\"T_0c620_row1_col2\" class=\"data row1 col2\" >0.008672</td>\n      <td id=\"T_0c620_row1_col3\" class=\"data row1 col3\" >0.008773</td>\n      <td id=\"T_0c620_row1_col4\" class=\"data row1 col4\" >0.040266</td>\n      <td id=\"T_0c620_row1_col5\" class=\"data row1 col5\" >0.041131</td>\n    </tr>\n    <tr>\n      <th id=\"T_0c620_level0_row2\" class=\"row_heading level0 row2\" >SelectKBest(k=5)</th>\n      <td id=\"T_0c620_row2_col0\" class=\"data row2 col0\" >0.010632</td>\n      <td id=\"T_0c620_row2_col1\" class=\"data row2 col1\" >0.010072</td>\n      <td id=\"T_0c620_row2_col2\" class=\"data row2 col2\" >0.013425</td>\n      <td id=\"T_0c620_row2_col3\" class=\"data row2 col3\" >0.013063</td>\n      <td id=\"T_0c620_row2_col4\" class=\"data row2 col4\" >0.009209</td>\n      <td id=\"T_0c620_row2_col5\" class=\"data row2 col5\" >0.007864</td>\n    </tr>\n    <tr>\n      <th id=\"T_0c620_level0_row3\" class=\"row_heading level0 row3\" >SelectKBest(k=5, score_func=<function mutual_info_classif at 0x1464c04c0>)</th>\n      <td id=\"T_0c620_row3_col0\" class=\"data row3 col0\" >0.018936</td>\n      <td id=\"T_0c620_row3_col1\" class=\"data row3 col1\" >0.009529</td>\n      <td id=\"T_0c620_row3_col2\" class=\"data row3 col2\" >0.012722</td>\n      <td id=\"T_0c620_row3_col3\" class=\"data row3 col3\" >0.013306</td>\n      <td id=\"T_0c620_row3_col4\" class=\"data row3 col4\" >0.024750</td>\n      <td id=\"T_0c620_row3_col5\" class=\"data row3 col5\" >0.033805</td>\n    </tr>\n    <tr>\n      <th id=\"T_0c620_level0_row4\" class=\"row_heading level0 row4\" >SelectKBest()</th>\n      <td id=\"T_0c620_row4_col0\" class=\"data row4 col0\" >0.014006</td>\n      <td id=\"T_0c620_row4_col1\" class=\"data row4 col1\" >0.012998</td>\n      <td id=\"T_0c620_row4_col2\" class=\"data row4 col2\" >0.010385</td>\n      <td id=\"T_0c620_row4_col3\" class=\"data row4 col3\" >0.009932</td>\n      <td id=\"T_0c620_row4_col4\" class=\"data row4 col4\" >0.018243</td>\n      <td id=\"T_0c620_row4_col5\" class=\"data row4 col5\" >0.013603</td>\n    </tr>\n    <tr>\n      <th id=\"T_0c620_level0_row5\" class=\"row_heading level0 row5\" >SelectKBest(score_func=<function mutual_info_classif at 0x1464c04c0>)</th>\n      <td id=\"T_0c620_row5_col0\" class=\"data row5 col0\" >0.024500</td>\n      <td id=\"T_0c620_row5_col1\" class=\"data row5 col1\" >0.029900</td>\n      <td id=\"T_0c620_row5_col2\" class=\"data row5 col2\" >0.016432</td>\n      <td id=\"T_0c620_row5_col3\" class=\"data row5 col3\" >0.017221</td>\n      <td id=\"T_0c620_row5_col4\" class=\"data row5 col4\" >0.030400</td>\n      <td id=\"T_0c620_row5_col5\" class=\"data row5 col5\" >0.032656</td>\n    </tr>\n    <tr>\n      <th id=\"T_0c620_level0_row6\" class=\"row_heading level0 row6\" >SelectKBest(k=20)</th>\n      <td id=\"T_0c620_row6_col0\" class=\"data row6 col0\" >0.025683</td>\n      <td id=\"T_0c620_row6_col1\" class=\"data row6 col1\" >0.015381</td>\n      <td id=\"T_0c620_row6_col2\" class=\"data row6 col2\" >0.016745</td>\n      <td id=\"T_0c620_row6_col3\" class=\"data row6 col3\" >0.017351</td>\n      <td id=\"T_0c620_row6_col4\" class=\"data row6 col4\" >0.024916</td>\n      <td id=\"T_0c620_row6_col5\" class=\"data row6 col5\" >0.023380</td>\n    </tr>\n    <tr>\n      <th id=\"T_0c620_level0_row7\" class=\"row_heading level0 row7\" >SelectKBest(k=20, score_func=<function mutual_info_classif at 0x1464c04c0>)</th>\n      <td id=\"T_0c620_row7_col0\" class=\"data row7 col0\" >0.020775</td>\n      <td id=\"T_0c620_row7_col1\" class=\"data row7 col1\" >0.013778</td>\n      <td id=\"T_0c620_row7_col2\" class=\"data row7 col2\" >0.012083</td>\n      <td id=\"T_0c620_row7_col3\" class=\"data row7 col3\" >0.011461</td>\n      <td id=\"T_0c620_row7_col4\" class=\"data row7 col4\" >0.024815</td>\n      <td id=\"T_0c620_row7_col5\" class=\"data row7 col5\" >0.017915</td>\n    </tr>\n    <tr>\n      <th id=\"T_0c620_level0_row8\" class=\"row_heading level0 row8\" >SelectKBest(k=30)</th>\n      <td id=\"T_0c620_row8_col0\" class=\"data row8 col0\" >0.028039</td>\n      <td id=\"T_0c620_row8_col1\" class=\"data row8 col1\" >0.014263</td>\n      <td id=\"T_0c620_row8_col2\" class=\"data row8 col2\" >0.015654</td>\n      <td id=\"T_0c620_row8_col3\" class=\"data row8 col3\" >0.015474</td>\n      <td id=\"T_0c620_row8_col4\" class=\"data row8 col4\" >0.017918</td>\n      <td id=\"T_0c620_row8_col5\" class=\"data row8 col5\" >0.017893</td>\n    </tr>\n    <tr>\n      <th id=\"T_0c620_level0_row9\" class=\"row_heading level0 row9\" >SelectKBest(k=30, score_func=<function mutual_info_classif at 0x1464c04c0>)</th>\n      <td id=\"T_0c620_row9_col0\" class=\"data row9 col0\" >0.016167</td>\n      <td id=\"T_0c620_row9_col1\" class=\"data row9 col1\" >0.012287</td>\n      <td id=\"T_0c620_row9_col2\" class=\"data row9 col2\" >0.016095</td>\n      <td id=\"T_0c620_row9_col3\" class=\"data row9 col3\" >0.015995</td>\n      <td id=\"T_0c620_row9_col4\" class=\"data row9 col4\" >0.024108</td>\n      <td id=\"T_0c620_row9_col5\" class=\"data row9 col5\" >0.017011</td>\n    </tr>\n    <tr>\n      <th id=\"T_0c620_level0_row10\" class=\"row_heading level0 row10\" >SelectFromModel(estimator=LogisticRegression())</th>\n      <td id=\"T_0c620_row10_col0\" class=\"data row10 col0\" >0.022624</td>\n      <td id=\"T_0c620_row10_col1\" class=\"data row10 col1\" >0.014730</td>\n      <td id=\"T_0c620_row10_col2\" class=\"data row10 col2\" >0.008357</td>\n      <td id=\"T_0c620_row10_col3\" class=\"data row10 col3\" >0.009411</td>\n      <td id=\"T_0c620_row10_col4\" class=\"data row10 col4\" >0.004499</td>\n      <td id=\"T_0c620_row10_col5\" class=\"data row10 col5\" >0.017761</td>\n    </tr>\n    <tr>\n      <th id=\"T_0c620_level0_row11\" class=\"row_heading level0 row11\" >SelectFromModel(estimator=LogisticRegression(), max_features=3)</th>\n      <td id=\"T_0c620_row11_col0\" class=\"data row11 col0\" >0.011541</td>\n      <td id=\"T_0c620_row11_col1\" class=\"data row11 col1\" >0.007552</td>\n      <td id=\"T_0c620_row11_col2\" class=\"data row11 col2\" >0.016191</td>\n      <td id=\"T_0c620_row11_col3\" class=\"data row11 col3\" >0.016191</td>\n      <td id=\"T_0c620_row11_col4\" class=\"data row11 col4\" >0.013905</td>\n      <td id=\"T_0c620_row11_col5\" class=\"data row11 col5\" >0.009394</td>\n    </tr>\n    <tr>\n      <th id=\"T_0c620_level0_row12\" class=\"row_heading level0 row12\" >SelectFromModel(estimator=LogisticRegression(), max_features=5)</th>\n      <td id=\"T_0c620_row12_col0\" class=\"data row12 col0\" >0.010361</td>\n      <td id=\"T_0c620_row12_col1\" class=\"data row12 col1\" >0.008868</td>\n      <td id=\"T_0c620_row12_col2\" class=\"data row12 col2\" >0.007679</td>\n      <td id=\"T_0c620_row12_col3\" class=\"data row12 col3\" >0.007521</td>\n      <td id=\"T_0c620_row12_col4\" class=\"data row12 col4\" >0.014878</td>\n      <td id=\"T_0c620_row12_col5\" class=\"data row12 col5\" >0.007833</td>\n    </tr>\n    <tr>\n      <th id=\"T_0c620_level0_row13\" class=\"row_heading level0 row13\" >SelectFromModel(estimator=LogisticRegression(), max_features=10)</th>\n      <td id=\"T_0c620_row13_col0\" class=\"data row13 col0\" >0.022909</td>\n      <td id=\"T_0c620_row13_col1\" class=\"data row13 col1\" >0.008998</td>\n      <td id=\"T_0c620_row13_col2\" class=\"data row13 col2\" >0.005231</td>\n      <td id=\"T_0c620_row13_col3\" class=\"data row13 col3\" >0.005276</td>\n      <td id=\"T_0c620_row13_col4\" class=\"data row13 col4\" >0.011196</td>\n      <td id=\"T_0c620_row13_col5\" class=\"data row13 col5\" >0.018352</td>\n    </tr>\n    <tr>\n      <th id=\"T_0c620_level0_row14\" class=\"row_heading level0 row14\" >SelectFromModel(estimator=LogisticRegression(), max_features=20)</th>\n      <td id=\"T_0c620_row14_col0\" class=\"data row14 col0\" >0.014691</td>\n      <td id=\"T_0c620_row14_col1\" class=\"data row14 col1\" >0.006242</td>\n      <td id=\"T_0c620_row14_col2\" class=\"data row14 col2\" >0.007088</td>\n      <td id=\"T_0c620_row14_col3\" class=\"data row14 col3\" >0.007003</td>\n      <td id=\"T_0c620_row14_col4\" class=\"data row14 col4\" >0.007499</td>\n      <td id=\"T_0c620_row14_col5\" class=\"data row14 col5\" >0.013014</td>\n    </tr>\n    <tr>\n      <th id=\"T_0c620_level0_row15\" class=\"row_heading level0 row15\" >SelectFromModel(estimator=LogisticRegression(), max_features=30)</th>\n      <td id=\"T_0c620_row15_col0\" class=\"data row15 col0\" >0.009069</td>\n      <td id=\"T_0c620_row15_col1\" class=\"data row15 col1\" >0.009621</td>\n      <td id=\"T_0c620_row15_col2\" class=\"data row15 col2\" >0.010863</td>\n      <td id=\"T_0c620_row15_col3\" class=\"data row15 col3\" >0.011349</td>\n      <td id=\"T_0c620_row15_col4\" class=\"data row15 col4\" >0.004336</td>\n      <td id=\"T_0c620_row15_col5\" class=\"data row15 col5\" >0.011603</td>\n    </tr>\n    <tr>\n      <th id=\"T_0c620_level0_row16\" class=\"row_heading level0 row16\" >SelectFromModel(estimator=RandomForestClassifier())</th>\n      <td id=\"T_0c620_row16_col0\" class=\"data row16 col0\" >0.011720</td>\n      <td id=\"T_0c620_row16_col1\" class=\"data row16 col1\" >0.013161</td>\n      <td id=\"T_0c620_row16_col2\" class=\"data row16 col2\" >0.005269</td>\n      <td id=\"T_0c620_row16_col3\" class=\"data row16 col3\" >0.019208</td>\n      <td id=\"T_0c620_row16_col4\" class=\"data row16 col4\" >0.015907</td>\n      <td id=\"T_0c620_row16_col5\" class=\"data row16 col5\" >0.014945</td>\n    </tr>\n    <tr>\n      <th id=\"T_0c620_level0_row17\" class=\"row_heading level0 row17\" >SelectFromModel(estimator=RandomForestClassifier(), max_features=3)</th>\n      <td id=\"T_0c620_row17_col0\" class=\"data row17 col0\" >0.011960</td>\n      <td id=\"T_0c620_row17_col1\" class=\"data row17 col1\" >0.016512</td>\n      <td id=\"T_0c620_row17_col2\" class=\"data row17 col2\" >0.005550</td>\n      <td id=\"T_0c620_row17_col3\" class=\"data row17 col3\" >0.012329</td>\n      <td id=\"T_0c620_row17_col4\" class=\"data row17 col4\" >0.009600</td>\n      <td id=\"T_0c620_row17_col5\" class=\"data row17 col5\" >0.012822</td>\n    </tr>\n    <tr>\n      <th id=\"T_0c620_level0_row18\" class=\"row_heading level0 row18\" >SelectFromModel(estimator=RandomForestClassifier(), max_features=5)</th>\n      <td id=\"T_0c620_row18_col0\" class=\"data row18 col0\" >0.010602</td>\n      <td id=\"T_0c620_row18_col1\" class=\"data row18 col1\" >0.020205</td>\n      <td id=\"T_0c620_row18_col2\" class=\"data row18 col2\" >0.010943</td>\n      <td id=\"T_0c620_row18_col3\" class=\"data row18 col3\" >0.017866</td>\n      <td id=\"T_0c620_row18_col4\" class=\"data row18 col4\" >0.008139</td>\n      <td id=\"T_0c620_row18_col5\" class=\"data row18 col5\" >0.008841</td>\n    </tr>\n    <tr>\n      <th id=\"T_0c620_level0_row19\" class=\"row_heading level0 row19\" >SelectFromModel(estimator=RandomForestClassifier(), max_features=10)</th>\n      <td id=\"T_0c620_row19_col0\" class=\"data row19 col0\" >0.012110</td>\n      <td id=\"T_0c620_row19_col1\" class=\"data row19 col1\" >0.012576</td>\n      <td id=\"T_0c620_row19_col2\" class=\"data row19 col2\" >0.014014</td>\n      <td id=\"T_0c620_row19_col3\" class=\"data row19 col3\" >0.013048</td>\n      <td id=\"T_0c620_row19_col4\" class=\"data row19 col4\" >0.014165</td>\n      <td id=\"T_0c620_row19_col5\" class=\"data row19 col5\" >0.004561</td>\n    </tr>\n    <tr>\n      <th id=\"T_0c620_level0_row20\" class=\"row_heading level0 row20\" >SelectFromModel(estimator=RandomForestClassifier(), max_features=20)</th>\n      <td id=\"T_0c620_row20_col0\" class=\"data row20 col0\" >0.016762</td>\n      <td id=\"T_0c620_row20_col1\" class=\"data row20 col1\" >0.011798</td>\n      <td id=\"T_0c620_row20_col2\" class=\"data row20 col2\" >0.003899</td>\n      <td id=\"T_0c620_row20_col3\" class=\"data row20 col3\" >0.021209</td>\n      <td id=\"T_0c620_row20_col4\" class=\"data row20 col4\" >0.014037</td>\n      <td id=\"T_0c620_row20_col5\" class=\"data row20 col5\" >0.041364</td>\n    </tr>\n    <tr>\n      <th id=\"T_0c620_level0_row21\" class=\"row_heading level0 row21\" >SelectFromModel(estimator=RandomForestClassifier(), max_features=30)</th>\n      <td id=\"T_0c620_row21_col0\" class=\"data row21 col0\" >0.016280</td>\n      <td id=\"T_0c620_row21_col1\" class=\"data row21 col1\" >0.005177</td>\n      <td id=\"T_0c620_row21_col2\" class=\"data row21 col2\" >0.008134</td>\n      <td id=\"T_0c620_row21_col3\" class=\"data row21 col3\" >0.011146</td>\n      <td id=\"T_0c620_row21_col4\" class=\"data row21 col4\" >0.016500</td>\n      <td id=\"T_0c620_row21_col5\" class=\"data row21 col5\" >0.048441</td>\n    </tr>\n  </tbody>\n</table>\n"
     },
     "execution_count": 71,
     "metadata": {},
     "output_type": "execute_result"
    }
   ],
   "source": [
    "std_results_dict = apply_transform_to_res(results_dict, np.std)\n",
    "std_df = pd.DataFrame(std_results_dict).T\n",
    "std_df.columns = [\"RF\", \"DT\", \"LogReg\", \"LDA\", \"QDA\", \"SVC-rbf\"]\n",
    "\n",
    "std_df.style.background_gradient(cmap=\"Reds\", axis=None)"
   ]
  },
  {
   "cell_type": "markdown",
   "metadata": {},
   "source": [
    "## Results Interpretation"
   ]
  },
  {
   "cell_type": "markdown",
   "metadata": {},
   "source": [
    "### Best models"
   ]
  },
  {
   "cell_type": "code",
   "execution_count": 72,
   "metadata": {
    "ExecuteTime": {
     "end_time": "2024-05-11T18:14:12.802690Z",
     "start_time": "2024-05-11T18:14:12.784576Z"
    }
   },
   "outputs": [
    {
     "data": {
      "text/plain": "RF         0.6884\nDT         0.5932\nLogReg     0.5196\nLDA        0.5186\nQDA        0.7404\nSVC-rbf    0.7170\ndtype: float64"
     },
     "execution_count": 72,
     "metadata": {},
     "output_type": "execute_result"
    }
   ],
   "source": [
    "avg_df.max()"
   ]
  },
  {
   "cell_type": "code",
   "execution_count": 73,
   "metadata": {
    "ExecuteTime": {
     "end_time": "2024-05-11T18:14:29.806663Z",
     "start_time": "2024-05-11T18:14:29.756316Z"
    }
   },
   "outputs": [
    {
     "data": {
      "text/plain": "                                                        RF      DT  LogReg  \\\nSelectFromModel(estimator=RandomForestClassifie...  0.6884  0.5932   0.508   \n\n                                                       LDA     QDA  SVC-rbf  \nSelectFromModel(estimator=RandomForestClassifie...  0.5054  0.7404    0.717  ",
      "text/html": "<div>\n<style scoped>\n    .dataframe tbody tr th:only-of-type {\n        vertical-align: middle;\n    }\n\n    .dataframe tbody tr th {\n        vertical-align: top;\n    }\n\n    .dataframe thead th {\n        text-align: right;\n    }\n</style>\n<table border=\"1\" class=\"dataframe\">\n  <thead>\n    <tr style=\"text-align: right;\">\n      <th></th>\n      <th>RF</th>\n      <th>DT</th>\n      <th>LogReg</th>\n      <th>LDA</th>\n      <th>QDA</th>\n      <th>SVC-rbf</th>\n    </tr>\n  </thead>\n  <tbody>\n    <tr>\n      <th>SelectFromModel(estimator=RandomForestClassifier(), max_features=10)</th>\n      <td>0.6884</td>\n      <td>0.5932</td>\n      <td>0.508</td>\n      <td>0.5054</td>\n      <td>0.7404</td>\n      <td>0.717</td>\n    </tr>\n  </tbody>\n</table>\n</div>"
     },
     "execution_count": 73,
     "metadata": {},
     "output_type": "execute_result"
    }
   ],
   "source": [
    "avg_df[avg_df[\"QDA\"] == avg_df.max()[\"QDA\"]]"
   ]
  },
  {
   "cell_type": "markdown",
   "metadata": {},
   "source": [
    "### Predictions generation"
   ]
  },
  {
   "cell_type": "code",
   "execution_count": 43,
   "metadata": {
    "ExecuteTime": {
     "end_time": "2024-05-11T17:26:17.468167Z",
     "start_time": "2024-05-11T17:26:17.413215Z"
    }
   },
   "outputs": [],
   "source": [
    "# todo: code that generates the predictions"
   ]
  }
 ],
 "metadata": {
  "kernelspec": {
   "display_name": "aml-feature-selection",
   "language": "python",
   "name": "aml-feature-selection"
  },
  "language_info": {
   "codemirror_mode": {
    "name": "ipython",
    "version": 3
   },
   "file_extension": ".py",
   "mimetype": "text/x-python",
   "name": "python",
   "nbconvert_exporter": "python",
   "pygments_lexer": "ipython3",
   "version": "3.9.16"
  }
 },
 "nbformat": 4,
 "nbformat_minor": 1
}
