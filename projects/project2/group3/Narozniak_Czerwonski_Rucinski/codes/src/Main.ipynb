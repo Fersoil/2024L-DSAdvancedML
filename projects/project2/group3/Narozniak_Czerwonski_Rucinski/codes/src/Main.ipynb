{
 "cells": [
  {
   "cell_type": "code",
   "execution_count": 1,
   "metadata": {
    "pycharm": {
     "is_executing": true
    },
    "ExecuteTime": {
     "end_time": "2024-05-26T13:24:44.994490Z",
     "start_time": "2024-05-26T13:24:44.976999Z"
    }
   },
   "outputs": [],
   "source": [
    "%load_ext autoreload\n",
    "%autoreload 2"
   ]
  },
  {
   "cell_type": "code",
   "execution_count": 42,
   "metadata": {
    "ExecuteTime": {
     "end_time": "2024-05-26T14:54:25.445188Z",
     "start_time": "2024-05-26T14:54:25.424509Z"
    }
   },
   "outputs": [],
   "source": [
    "import pandas as pd\n",
    "# import lightgbm as lgb\n",
    "# import xgboost as xgb\n",
    "# from catboost import CatBoostClassifier, Pool\n",
    "from metrics import  accuracy\n",
    "from experiments import profit_scoring\n",
    "import numpy as np\n",
    "\n",
    "from sklearn.pipeline import Pipeline\n",
    "from sklearn.metrics import balanced_accuracy_score\n",
    "from sklearn.feature_selection import SelectKBest, f_classif, mutual_info_classif, SelectFromModel, RFE, VarianceThreshold, chi2\n",
    "from sklearn.linear_model import LogisticRegression\n",
    "from sklearn.ensemble import RandomForestClassifier\n",
    "from sklearn.tree import DecisionTreeClassifier\n",
    "from sklearn.discriminant_analysis import LinearDiscriminantAnalysis, QuadraticDiscriminantAnalysis\n",
    "from sklearn.model_selection import GridSearchCV\n",
    "from sklearn.model_selection import StratifiedKFold\n",
    "from sklearn.svm import SVC\n",
    "from sklearn.dummy import DummyClassifier\n",
    "from sklearn.preprocessing import StandardScaler\n",
    "\n",
    "from sklearn.feature_extraction.text import CountVectorizer\n",
    "from experiments import run_grid_search_cv, apply_transform_to_res\n",
    "\n",
    "# from catboost import CatBoostClassifier, Pool\n",
    "import matplotlib.pyplot as plt\n",
    "\n",
    "from warnings import simplefilter\n",
    "from sklearn.exceptions import ConvergenceWarning\n",
    "\n",
    "simplefilter(\"ignore\", category=ConvergenceWarning)\n",
    "simplefilter(\"ignore\", category=RuntimeWarning) \n",
    "simplefilter(\"ignore\", category=UserWarning)"
   ]
  },
  {
   "cell_type": "markdown",
   "metadata": {},
   "source": [
    "# Custom Grid Search\n",
    "\n",
    "It is needed due to the custom scorer."
   ]
  },
  {
   "cell_type": "code",
   "execution_count": 28,
   "metadata": {
    "ExecuteTime": {
     "end_time": "2024-05-26T13:34:57.351249Z",
     "start_time": "2024-05-26T13:34:57.291773Z"
    }
   },
   "outputs": [],
   "source": [
    "cv = 5\n",
    "\n",
    "model_grid_params = [\n",
    "    {\"model\": RandomForestClassifier,\n",
    "     \"params\": [{}]},\n",
    "    {\"model\": DecisionTreeClassifier,\n",
    "    \"params\": [{}]},\n",
    "    {\"model\": LogisticRegression,\n",
    "    \"params\": [{}]},\n",
    "    {\"model\": LinearDiscriminantAnalysis,\n",
    "    \"params\": [{}]},\n",
    "    {\"model\": QuadraticDiscriminantAnalysis,\n",
    "    \"params\": [{}]},\n",
    "    {\"model\": SVC,\n",
    "    \"params\": [{\"kernel\": \"rbf\", \"probability\": True}]} #{\"kernel\": \"linear\", \"C\": 0.025}, \n",
    "    \n",
    "]\n",
    "feature_selector_grid_params = [\n",
    "    {\"selector\": SelectKBest,\n",
    "    \"params\": [{\"k\": i, \"score_func\": score_fnc} for i in [3, 5, 10, 20, 30] for score_fnc in [f_classif, mutual_info_classif]],\n",
    "    },\n",
    "    {\"selector\": SelectFromModel,\n",
    "    \"params\": [{\"estimator\": i, \"max_features\": max_features} for i in [LogisticRegression(), RandomForestClassifier()] for max_features in [None, 3, 5, 10, 20, 30]],#LogisticRegression(penalty=\"l1\", solver=\"saga\"),\n",
    "    },\n",
    "    \n",
    "\n",
    "# Ineffective methods \n",
    "#     {\"selector\": VarianceThreshold,\n",
    "#     \"params\": [{\"threshold\": th} for th in [0.0, 0.001, 0.003, 0.01, 0.03, 0.1, 0.3, 1]]}\n",
    "    \n",
    "# Too computationally complex\n",
    "#     {\"selector\": RFE,\n",
    "#     \"params\": [{\"estimator\": i, \"n_features_to_select\": max_features} for i in [LogisticRegression(), RandomForestClassifier()] for max_features in [None, 3, 5]],\n",
    "#     }\n",
    "\n",
    "]\n"
   ]
  },
  {
   "cell_type": "markdown",
   "metadata": {},
   "source": [
    "# Load Data"
   ]
  },
  {
   "cell_type": "code",
   "execution_count": 29,
   "metadata": {
    "ExecuteTime": {
     "end_time": "2024-05-26T13:34:58.401369Z",
     "start_time": "2024-05-26T13:34:57.693376Z"
    }
   },
   "outputs": [],
   "source": [
    "RANDOM_STATE = 42\n",
    "\n",
    "x_train_path = \"./../../data/x_train.txt\"\n",
    "y_train_path = \"./../../data/y_train.txt\"\n",
    "\n",
    "x_test_path = \"./../../data/x_test.txt\"\n",
    "\n",
    "\n",
    "X_train = pd.read_csv(x_train_path, delim_whitespace=True, header=None)\n",
    "y_train = pd.read_csv(y_train_path, delim_whitespace=True, header=None)\n",
    "X_test = pd.read_csv(x_test_path, delim_whitespace=True, header=None)"
   ]
  },
  {
   "cell_type": "code",
   "outputs": [
    {
     "data": {
      "text/plain": "        0         1         2         3         4         5         6    \\\n0 -2.619773 -2.619533 -1.199350 -1.083335 -1.000910 -0.366967 -2.164037   \n1 -1.415579 -1.782544 -2.880270 -1.958863  1.159968  0.273030 -1.628728   \n2 -2.745092 -1.382945 -1.626015 -1.282560 -0.663146  0.052349 -2.403322   \n3  0.618998  0.455364 -0.115081  0.649040 -0.862207  2.308504  0.526114   \n4 -0.070694 -0.550509 -0.565556 -0.693065 -0.573089 -0.395862  0.003170   \n\n        7         8         9    ...        490        491        492  \\\n0 -1.210001 -0.658311 -1.489539  ...  10.849925  10.343346  10.717519   \n1 -0.175813 -0.916857 -0.570166  ...  11.489417   5.195818   3.494627   \n2 -0.765073 -0.394354 -0.806624  ...  13.934934   9.267515   4.705604   \n3 -1.094852  1.088656 -0.481210  ...  12.021328   3.852231  11.059702   \n4 -0.981609 -0.505775 -0.758430  ...   7.537788  11.229665  11.318915   \n\n        493        494        495        496        497        498        499  \n0  7.709295   5.894554  12.416573   6.765269  16.243907   7.209524   8.082021  \n1  5.529154  10.517576  15.697333  11.324938  12.187670  12.283861   5.032285  \n2  6.642557  14.658934   8.130767   7.194487  11.939354  11.653620   5.942778  \n3  7.527268   7.253120   9.791136   6.089743  10.752796   5.778888  10.366363  \n4  6.622256  12.557882   5.520360   5.397359  13.152269  10.684779   9.816471  \n\n[5 rows x 500 columns]",
      "text/html": "<div>\n<style scoped>\n    .dataframe tbody tr th:only-of-type {\n        vertical-align: middle;\n    }\n\n    .dataframe tbody tr th {\n        vertical-align: top;\n    }\n\n    .dataframe thead th {\n        text-align: right;\n    }\n</style>\n<table border=\"1\" class=\"dataframe\">\n  <thead>\n    <tr style=\"text-align: right;\">\n      <th></th>\n      <th>0</th>\n      <th>1</th>\n      <th>2</th>\n      <th>3</th>\n      <th>4</th>\n      <th>5</th>\n      <th>6</th>\n      <th>7</th>\n      <th>8</th>\n      <th>9</th>\n      <th>...</th>\n      <th>490</th>\n      <th>491</th>\n      <th>492</th>\n      <th>493</th>\n      <th>494</th>\n      <th>495</th>\n      <th>496</th>\n      <th>497</th>\n      <th>498</th>\n      <th>499</th>\n    </tr>\n  </thead>\n  <tbody>\n    <tr>\n      <th>0</th>\n      <td>-2.619773</td>\n      <td>-2.619533</td>\n      <td>-1.199350</td>\n      <td>-1.083335</td>\n      <td>-1.000910</td>\n      <td>-0.366967</td>\n      <td>-2.164037</td>\n      <td>-1.210001</td>\n      <td>-0.658311</td>\n      <td>-1.489539</td>\n      <td>...</td>\n      <td>10.849925</td>\n      <td>10.343346</td>\n      <td>10.717519</td>\n      <td>7.709295</td>\n      <td>5.894554</td>\n      <td>12.416573</td>\n      <td>6.765269</td>\n      <td>16.243907</td>\n      <td>7.209524</td>\n      <td>8.082021</td>\n    </tr>\n    <tr>\n      <th>1</th>\n      <td>-1.415579</td>\n      <td>-1.782544</td>\n      <td>-2.880270</td>\n      <td>-1.958863</td>\n      <td>1.159968</td>\n      <td>0.273030</td>\n      <td>-1.628728</td>\n      <td>-0.175813</td>\n      <td>-0.916857</td>\n      <td>-0.570166</td>\n      <td>...</td>\n      <td>11.489417</td>\n      <td>5.195818</td>\n      <td>3.494627</td>\n      <td>5.529154</td>\n      <td>10.517576</td>\n      <td>15.697333</td>\n      <td>11.324938</td>\n      <td>12.187670</td>\n      <td>12.283861</td>\n      <td>5.032285</td>\n    </tr>\n    <tr>\n      <th>2</th>\n      <td>-2.745092</td>\n      <td>-1.382945</td>\n      <td>-1.626015</td>\n      <td>-1.282560</td>\n      <td>-0.663146</td>\n      <td>0.052349</td>\n      <td>-2.403322</td>\n      <td>-0.765073</td>\n      <td>-0.394354</td>\n      <td>-0.806624</td>\n      <td>...</td>\n      <td>13.934934</td>\n      <td>9.267515</td>\n      <td>4.705604</td>\n      <td>6.642557</td>\n      <td>14.658934</td>\n      <td>8.130767</td>\n      <td>7.194487</td>\n      <td>11.939354</td>\n      <td>11.653620</td>\n      <td>5.942778</td>\n    </tr>\n    <tr>\n      <th>3</th>\n      <td>0.618998</td>\n      <td>0.455364</td>\n      <td>-0.115081</td>\n      <td>0.649040</td>\n      <td>-0.862207</td>\n      <td>2.308504</td>\n      <td>0.526114</td>\n      <td>-1.094852</td>\n      <td>1.088656</td>\n      <td>-0.481210</td>\n      <td>...</td>\n      <td>12.021328</td>\n      <td>3.852231</td>\n      <td>11.059702</td>\n      <td>7.527268</td>\n      <td>7.253120</td>\n      <td>9.791136</td>\n      <td>6.089743</td>\n      <td>10.752796</td>\n      <td>5.778888</td>\n      <td>10.366363</td>\n    </tr>\n    <tr>\n      <th>4</th>\n      <td>-0.070694</td>\n      <td>-0.550509</td>\n      <td>-0.565556</td>\n      <td>-0.693065</td>\n      <td>-0.573089</td>\n      <td>-0.395862</td>\n      <td>0.003170</td>\n      <td>-0.981609</td>\n      <td>-0.505775</td>\n      <td>-0.758430</td>\n      <td>...</td>\n      <td>7.537788</td>\n      <td>11.229665</td>\n      <td>11.318915</td>\n      <td>6.622256</td>\n      <td>12.557882</td>\n      <td>5.520360</td>\n      <td>5.397359</td>\n      <td>13.152269</td>\n      <td>10.684779</td>\n      <td>9.816471</td>\n    </tr>\n  </tbody>\n</table>\n<p>5 rows × 500 columns</p>\n</div>"
     },
     "execution_count": 30,
     "metadata": {},
     "output_type": "execute_result"
    }
   ],
   "source": [
    "X_train.head()"
   ],
   "metadata": {
    "collapsed": false,
    "ExecuteTime": {
     "end_time": "2024-05-26T13:34:58.425188Z",
     "start_time": "2024-05-26T13:34:58.402357Z"
    }
   },
   "execution_count": 30
  },
  {
   "cell_type": "code",
   "outputs": [
    {
     "data": {
      "text/plain": "   0\n0  0\n1  0\n2  1\n3  1\n4  1",
      "text/html": "<div>\n<style scoped>\n    .dataframe tbody tr th:only-of-type {\n        vertical-align: middle;\n    }\n\n    .dataframe tbody tr th {\n        vertical-align: top;\n    }\n\n    .dataframe thead th {\n        text-align: right;\n    }\n</style>\n<table border=\"1\" class=\"dataframe\">\n  <thead>\n    <tr style=\"text-align: right;\">\n      <th></th>\n      <th>0</th>\n    </tr>\n  </thead>\n  <tbody>\n    <tr>\n      <th>0</th>\n      <td>0</td>\n    </tr>\n    <tr>\n      <th>1</th>\n      <td>0</td>\n    </tr>\n    <tr>\n      <th>2</th>\n      <td>1</td>\n    </tr>\n    <tr>\n      <th>3</th>\n      <td>1</td>\n    </tr>\n    <tr>\n      <th>4</th>\n      <td>1</td>\n    </tr>\n  </tbody>\n</table>\n</div>"
     },
     "execution_count": 31,
     "metadata": {},
     "output_type": "execute_result"
    }
   ],
   "source": [
    "y_train.head()"
   ],
   "metadata": {
    "collapsed": false,
    "ExecuteTime": {
     "end_time": "2024-05-26T13:34:58.443909Z",
     "start_time": "2024-05-26T13:34:58.425899Z"
    }
   },
   "execution_count": 31
  },
  {
   "cell_type": "code",
   "outputs": [
    {
     "data": {
      "text/plain": "(5000, 1)"
     },
     "execution_count": 32,
     "metadata": {},
     "output_type": "execute_result"
    }
   ],
   "source": [
    "y_train.shape"
   ],
   "metadata": {
    "collapsed": false,
    "ExecuteTime": {
     "end_time": "2024-05-26T13:34:58.462431Z",
     "start_time": "2024-05-26T13:34:58.445347Z"
    }
   },
   "execution_count": 32
  },
  {
   "cell_type": "code",
   "outputs": [
    {
     "data": {
      "text/plain": "0    2496\ndtype: int64"
     },
     "execution_count": 33,
     "metadata": {},
     "output_type": "execute_result"
    }
   ],
   "source": [
    "(y_train == 1).sum()"
   ],
   "metadata": {
    "collapsed": false,
    "ExecuteTime": {
     "end_time": "2024-05-26T13:34:58.480285Z",
     "start_time": "2024-05-26T13:34:58.463114Z"
    }
   },
   "execution_count": 33
  },
  {
   "cell_type": "code",
   "outputs": [
    {
     "data": {
      "text/plain": "(5000, 500)"
     },
     "execution_count": 34,
     "metadata": {},
     "output_type": "execute_result"
    }
   ],
   "source": [
    "X_test.shape"
   ],
   "metadata": {
    "collapsed": false,
    "ExecuteTime": {
     "end_time": "2024-05-26T13:34:58.704812Z",
     "start_time": "2024-05-26T13:34:58.687075Z"
    }
   },
   "execution_count": 34
  },
  {
   "cell_type": "code",
   "outputs": [],
   "source": [
    "X_train = X_train\n",
    "y_train = y_train\n",
    "X_test = X_test"
   ],
   "metadata": {
    "collapsed": false,
    "ExecuteTime": {
     "end_time": "2024-05-26T13:34:58.854786Z",
     "start_time": "2024-05-26T13:34:58.838496Z"
    }
   },
   "execution_count": 35
  },
  {
   "cell_type": "markdown",
   "metadata": {},
   "source": [
    "## Baseline"
   ]
  },
  {
   "cell_type": "code",
   "execution_count": null,
   "metadata": {},
   "outputs": [],
   "source": [
    "baseline_selector_grid_search = [\n",
    "    {\"selector\": SelectKBest,\n",
    "    \"params\": [{\"k\": \"all\"}, {\"k\": 10}],\n",
    "    },\n",
    "]\n",
    "baseline_models_grid_search = [\n",
    "     {\"model\": DummyClassifier,\n",
    "     \"params\": [{}]},\n",
    "     {\"model\": RandomForestClassifier,\n",
    "     \"params\": [{}]},\n",
    "]\n",
    "baseline_results_dict = run_grid_search_cv(\n",
    "    baseline_selector_grid_search, \n",
    "    baseline_models_grid_search, \n",
    "    X_train, \n",
    "    y_train, \n",
    "    profit_scoring\n",
    ")\n",
    "baseline_results = apply_transform_to_res(baseline_results_dict, np.mean)\n",
    "baseline_results_df = pd.DataFrame(baseline_results).T\n",
    "baseline_results_df.style.background_gradient(cmap=\"Greens\", low=0.0, high=1.0, axis=None)"
   ]
  },
  {
   "cell_type": "markdown",
   "metadata": {},
   "source": [
    "Baselines are critical part of every project. Due to the non-typical scoring metric a few baseline version got prepared that involve/or not feature selection part. \n",
    "\n",
    "We see that DummyClassifier does not perform well in case of keeping all the features nor reducing them to 10.\n",
    "\n",
    "On the other hand the RandomForest reach 60% acc when using all features and went down to ~51 % when using just 10.\n",
    "\n",
    "Scoring metric needs to be adjusted to incorporate monetary conterpart."
   ]
  },
  {
   "cell_type": "markdown",
   "metadata": {},
   "source": [
    "## Experiments (no feature scaling)"
   ]
  },
  {
   "cell_type": "code",
   "execution_count": 37,
   "metadata": {
    "scrolled": true,
    "ExecuteTime": {
     "end_time": "2024-05-26T14:16:04.545785Z",
     "start_time": "2024-05-26T13:35:31.277494Z"
    }
   },
   "outputs": [
    {
     "name": "stdout",
     "output_type": "stream",
     "text": [
      "Running on: RandomForestClassifier() and SelectKBest(k=3)\n",
      "Running on: DecisionTreeClassifier() and SelectKBest(k=3)\n",
      "Running on: LogisticRegression() and SelectKBest(k=3)\n",
      "Running on: LinearDiscriminantAnalysis() and SelectKBest(k=3)\n",
      "Running on: QuadraticDiscriminantAnalysis() and SelectKBest(k=3)\n",
      "Running on: SVC(probability=True) and SelectKBest(k=3)\n",
      "Running on: RandomForestClassifier() and SelectKBest(k=3, score_func=<function mutual_info_classif at 0x12f03c1f0>)\n",
      "Running on: DecisionTreeClassifier() and SelectKBest(k=3, score_func=<function mutual_info_classif at 0x12f03c1f0>)\n",
      "Running on: LogisticRegression() and SelectKBest(k=3, score_func=<function mutual_info_classif at 0x12f03c1f0>)\n",
      "Running on: LinearDiscriminantAnalysis() and SelectKBest(k=3, score_func=<function mutual_info_classif at 0x12f03c1f0>)\n",
      "Running on: QuadraticDiscriminantAnalysis() and SelectKBest(k=3, score_func=<function mutual_info_classif at 0x12f03c1f0>)\n",
      "Running on: SVC(probability=True) and SelectKBest(k=3, score_func=<function mutual_info_classif at 0x12f03c1f0>)\n",
      "Running on: RandomForestClassifier() and SelectKBest(k=5)\n",
      "Running on: DecisionTreeClassifier() and SelectKBest(k=5)\n",
      "Running on: LogisticRegression() and SelectKBest(k=5)\n",
      "Running on: LinearDiscriminantAnalysis() and SelectKBest(k=5)\n",
      "Running on: QuadraticDiscriminantAnalysis() and SelectKBest(k=5)\n",
      "Running on: SVC(probability=True) and SelectKBest(k=5)\n",
      "Running on: RandomForestClassifier() and SelectKBest(k=5, score_func=<function mutual_info_classif at 0x12f03c1f0>)\n",
      "Running on: DecisionTreeClassifier() and SelectKBest(k=5, score_func=<function mutual_info_classif at 0x12f03c1f0>)\n",
      "Running on: LogisticRegression() and SelectKBest(k=5, score_func=<function mutual_info_classif at 0x12f03c1f0>)\n",
      "Running on: LinearDiscriminantAnalysis() and SelectKBest(k=5, score_func=<function mutual_info_classif at 0x12f03c1f0>)\n",
      "Running on: QuadraticDiscriminantAnalysis() and SelectKBest(k=5, score_func=<function mutual_info_classif at 0x12f03c1f0>)\n",
      "Running on: SVC(probability=True) and SelectKBest(k=5, score_func=<function mutual_info_classif at 0x12f03c1f0>)\n",
      "Running on: RandomForestClassifier() and SelectKBest()\n",
      "Running on: DecisionTreeClassifier() and SelectKBest()\n",
      "Running on: LogisticRegression() and SelectKBest()\n",
      "Running on: LinearDiscriminantAnalysis() and SelectKBest()\n",
      "Running on: QuadraticDiscriminantAnalysis() and SelectKBest()\n",
      "Running on: SVC(probability=True) and SelectKBest()\n",
      "Running on: RandomForestClassifier() and SelectKBest(score_func=<function mutual_info_classif at 0x12f03c1f0>)\n",
      "Running on: DecisionTreeClassifier() and SelectKBest(score_func=<function mutual_info_classif at 0x12f03c1f0>)\n",
      "Running on: LogisticRegression() and SelectKBest(score_func=<function mutual_info_classif at 0x12f03c1f0>)\n",
      "Running on: LinearDiscriminantAnalysis() and SelectKBest(score_func=<function mutual_info_classif at 0x12f03c1f0>)\n",
      "Running on: QuadraticDiscriminantAnalysis() and SelectKBest(score_func=<function mutual_info_classif at 0x12f03c1f0>)\n",
      "Running on: SVC(probability=True) and SelectKBest(score_func=<function mutual_info_classif at 0x12f03c1f0>)\n",
      "Running on: RandomForestClassifier() and SelectKBest(k=20)\n",
      "Running on: DecisionTreeClassifier() and SelectKBest(k=20)\n",
      "Running on: LogisticRegression() and SelectKBest(k=20)\n",
      "Running on: LinearDiscriminantAnalysis() and SelectKBest(k=20)\n",
      "Running on: QuadraticDiscriminantAnalysis() and SelectKBest(k=20)\n",
      "Running on: SVC(probability=True) and SelectKBest(k=20)\n",
      "Running on: RandomForestClassifier() and SelectKBest(k=20, score_func=<function mutual_info_classif at 0x12f03c1f0>)\n",
      "Running on: DecisionTreeClassifier() and SelectKBest(k=20, score_func=<function mutual_info_classif at 0x12f03c1f0>)\n",
      "Running on: LogisticRegression() and SelectKBest(k=20, score_func=<function mutual_info_classif at 0x12f03c1f0>)\n",
      "Running on: LinearDiscriminantAnalysis() and SelectKBest(k=20, score_func=<function mutual_info_classif at 0x12f03c1f0>)\n",
      "Running on: QuadraticDiscriminantAnalysis() and SelectKBest(k=20, score_func=<function mutual_info_classif at 0x12f03c1f0>)\n",
      "Running on: SVC(probability=True) and SelectKBest(k=20, score_func=<function mutual_info_classif at 0x12f03c1f0>)\n",
      "Running on: RandomForestClassifier() and SelectKBest(k=30)\n",
      "Running on: DecisionTreeClassifier() and SelectKBest(k=30)\n",
      "Running on: LogisticRegression() and SelectKBest(k=30)\n",
      "Running on: LinearDiscriminantAnalysis() and SelectKBest(k=30)\n",
      "Running on: QuadraticDiscriminantAnalysis() and SelectKBest(k=30)\n",
      "Running on: SVC(probability=True) and SelectKBest(k=30)\n",
      "Running on: RandomForestClassifier() and SelectKBest(k=30, score_func=<function mutual_info_classif at 0x12f03c1f0>)\n",
      "Running on: DecisionTreeClassifier() and SelectKBest(k=30, score_func=<function mutual_info_classif at 0x12f03c1f0>)\n",
      "Running on: LogisticRegression() and SelectKBest(k=30, score_func=<function mutual_info_classif at 0x12f03c1f0>)\n",
      "Running on: LinearDiscriminantAnalysis() and SelectKBest(k=30, score_func=<function mutual_info_classif at 0x12f03c1f0>)\n",
      "Running on: QuadraticDiscriminantAnalysis() and SelectKBest(k=30, score_func=<function mutual_info_classif at 0x12f03c1f0>)\n",
      "Running on: SVC(probability=True) and SelectKBest(k=30, score_func=<function mutual_info_classif at 0x12f03c1f0>)\n",
      "Running on: RandomForestClassifier() and SelectFromModel(estimator=LogisticRegression())\n",
      "Running on: DecisionTreeClassifier() and SelectFromModel(estimator=LogisticRegression())\n",
      "Running on: LogisticRegression() and SelectFromModel(estimator=LogisticRegression())\n",
      "Running on: LinearDiscriminantAnalysis() and SelectFromModel(estimator=LogisticRegression())\n",
      "Running on: QuadraticDiscriminantAnalysis() and SelectFromModel(estimator=LogisticRegression())\n",
      "Running on: SVC(probability=True) and SelectFromModel(estimator=LogisticRegression())\n",
      "Running on: RandomForestClassifier() and SelectFromModel(estimator=LogisticRegression(), max_features=3)\n",
      "Running on: DecisionTreeClassifier() and SelectFromModel(estimator=LogisticRegression(), max_features=3)\n",
      "Running on: LogisticRegression() and SelectFromModel(estimator=LogisticRegression(), max_features=3)\n",
      "Running on: LinearDiscriminantAnalysis() and SelectFromModel(estimator=LogisticRegression(), max_features=3)\n",
      "Running on: QuadraticDiscriminantAnalysis() and SelectFromModel(estimator=LogisticRegression(), max_features=3)\n",
      "Running on: SVC(probability=True) and SelectFromModel(estimator=LogisticRegression(), max_features=3)\n",
      "Running on: RandomForestClassifier() and SelectFromModel(estimator=LogisticRegression(), max_features=5)\n",
      "Running on: DecisionTreeClassifier() and SelectFromModel(estimator=LogisticRegression(), max_features=5)\n",
      "Running on: LogisticRegression() and SelectFromModel(estimator=LogisticRegression(), max_features=5)\n",
      "Running on: LinearDiscriminantAnalysis() and SelectFromModel(estimator=LogisticRegression(), max_features=5)\n",
      "Running on: QuadraticDiscriminantAnalysis() and SelectFromModel(estimator=LogisticRegression(), max_features=5)\n",
      "Running on: SVC(probability=True) and SelectFromModel(estimator=LogisticRegression(), max_features=5)\n",
      "Running on: RandomForestClassifier() and SelectFromModel(estimator=LogisticRegression(), max_features=10)\n",
      "Running on: DecisionTreeClassifier() and SelectFromModel(estimator=LogisticRegression(), max_features=10)\n",
      "Running on: LogisticRegression() and SelectFromModel(estimator=LogisticRegression(), max_features=10)\n",
      "Running on: LinearDiscriminantAnalysis() and SelectFromModel(estimator=LogisticRegression(), max_features=10)\n",
      "Running on: QuadraticDiscriminantAnalysis() and SelectFromModel(estimator=LogisticRegression(), max_features=10)\n",
      "Running on: SVC(probability=True) and SelectFromModel(estimator=LogisticRegression(), max_features=10)\n",
      "Running on: RandomForestClassifier() and SelectFromModel(estimator=LogisticRegression(), max_features=20)\n",
      "Running on: DecisionTreeClassifier() and SelectFromModel(estimator=LogisticRegression(), max_features=20)\n",
      "Running on: LogisticRegression() and SelectFromModel(estimator=LogisticRegression(), max_features=20)\n",
      "Running on: LinearDiscriminantAnalysis() and SelectFromModel(estimator=LogisticRegression(), max_features=20)\n",
      "Running on: QuadraticDiscriminantAnalysis() and SelectFromModel(estimator=LogisticRegression(), max_features=20)\n",
      "Running on: SVC(probability=True) and SelectFromModel(estimator=LogisticRegression(), max_features=20)\n",
      "Running on: RandomForestClassifier() and SelectFromModel(estimator=LogisticRegression(), max_features=30)\n",
      "Running on: DecisionTreeClassifier() and SelectFromModel(estimator=LogisticRegression(), max_features=30)\n",
      "Running on: LogisticRegression() and SelectFromModel(estimator=LogisticRegression(), max_features=30)\n",
      "Running on: LinearDiscriminantAnalysis() and SelectFromModel(estimator=LogisticRegression(), max_features=30)\n",
      "Running on: QuadraticDiscriminantAnalysis() and SelectFromModel(estimator=LogisticRegression(), max_features=30)\n",
      "Running on: SVC(probability=True) and SelectFromModel(estimator=LogisticRegression(), max_features=30)\n",
      "Running on: RandomForestClassifier() and SelectFromModel(estimator=RandomForestClassifier())\n",
      "Running on: DecisionTreeClassifier() and SelectFromModel(estimator=RandomForestClassifier())\n",
      "Running on: LogisticRegression() and SelectFromModel(estimator=RandomForestClassifier())\n",
      "Running on: LinearDiscriminantAnalysis() and SelectFromModel(estimator=RandomForestClassifier())\n",
      "Running on: QuadraticDiscriminantAnalysis() and SelectFromModel(estimator=RandomForestClassifier())\n",
      "Running on: SVC(probability=True) and SelectFromModel(estimator=RandomForestClassifier())\n",
      "Running on: RandomForestClassifier() and SelectFromModel(estimator=RandomForestClassifier(), max_features=3)\n",
      "Running on: DecisionTreeClassifier() and SelectFromModel(estimator=RandomForestClassifier(), max_features=3)\n",
      "Running on: LogisticRegression() and SelectFromModel(estimator=RandomForestClassifier(), max_features=3)\n",
      "Running on: LinearDiscriminantAnalysis() and SelectFromModel(estimator=RandomForestClassifier(), max_features=3)\n",
      "Running on: QuadraticDiscriminantAnalysis() and SelectFromModel(estimator=RandomForestClassifier(), max_features=3)\n",
      "Running on: SVC(probability=True) and SelectFromModel(estimator=RandomForestClassifier(), max_features=3)\n",
      "Running on: RandomForestClassifier() and SelectFromModel(estimator=RandomForestClassifier(), max_features=5)\n",
      "Running on: DecisionTreeClassifier() and SelectFromModel(estimator=RandomForestClassifier(), max_features=5)\n",
      "Running on: LogisticRegression() and SelectFromModel(estimator=RandomForestClassifier(), max_features=5)\n",
      "Running on: LinearDiscriminantAnalysis() and SelectFromModel(estimator=RandomForestClassifier(), max_features=5)\n",
      "Running on: QuadraticDiscriminantAnalysis() and SelectFromModel(estimator=RandomForestClassifier(), max_features=5)\n",
      "Running on: SVC(probability=True) and SelectFromModel(estimator=RandomForestClassifier(), max_features=5)\n",
      "Running on: RandomForestClassifier() and SelectFromModel(estimator=RandomForestClassifier(), max_features=10)\n",
      "Running on: DecisionTreeClassifier() and SelectFromModel(estimator=RandomForestClassifier(), max_features=10)\n",
      "Running on: LogisticRegression() and SelectFromModel(estimator=RandomForestClassifier(), max_features=10)\n",
      "Running on: LinearDiscriminantAnalysis() and SelectFromModel(estimator=RandomForestClassifier(), max_features=10)\n",
      "Running on: QuadraticDiscriminantAnalysis() and SelectFromModel(estimator=RandomForestClassifier(), max_features=10)\n",
      "Running on: SVC(probability=True) and SelectFromModel(estimator=RandomForestClassifier(), max_features=10)\n",
      "Running on: RandomForestClassifier() and SelectFromModel(estimator=RandomForestClassifier(), max_features=20)\n",
      "Running on: DecisionTreeClassifier() and SelectFromModel(estimator=RandomForestClassifier(), max_features=20)\n",
      "Running on: LogisticRegression() and SelectFromModel(estimator=RandomForestClassifier(), max_features=20)\n",
      "Running on: LinearDiscriminantAnalysis() and SelectFromModel(estimator=RandomForestClassifier(), max_features=20)\n",
      "Running on: QuadraticDiscriminantAnalysis() and SelectFromModel(estimator=RandomForestClassifier(), max_features=20)\n",
      "Running on: SVC(probability=True) and SelectFromModel(estimator=RandomForestClassifier(), max_features=20)\n",
      "Running on: RandomForestClassifier() and SelectFromModel(estimator=RandomForestClassifier(), max_features=30)\n",
      "Running on: DecisionTreeClassifier() and SelectFromModel(estimator=RandomForestClassifier(), max_features=30)\n",
      "Running on: LogisticRegression() and SelectFromModel(estimator=RandomForestClassifier(), max_features=30)\n",
      "Running on: LinearDiscriminantAnalysis() and SelectFromModel(estimator=RandomForestClassifier(), max_features=30)\n",
      "Running on: QuadraticDiscriminantAnalysis() and SelectFromModel(estimator=RandomForestClassifier(), max_features=30)\n",
      "Running on: SVC(probability=True) and SelectFromModel(estimator=RandomForestClassifier(), max_features=30)\n"
     ]
    }
   ],
   "source": [
    "results_dict = run_grid_search_cv(feature_selector_grid_params, model_grid_params, X_train, y_train, profit_scoring)"
   ]
  },
  {
   "cell_type": "code",
   "execution_count": 38,
   "metadata": {
    "scrolled": false,
    "ExecuteTime": {
     "end_time": "2024-05-26T14:16:04.673948Z",
     "start_time": "2024-05-26T14:16:04.547253Z"
    }
   },
   "outputs": [
    {
     "data": {
      "text/plain": "<pandas.io.formats.style.Styler at 0x15f58a9d0>",
      "text/html": "<style type=\"text/css\">\n#T_8c0a2_row0_col0, #T_8c0a2_row0_col2, #T_8c0a2_row0_col3, #T_8c0a2_row0_col4, #T_8c0a2_row0_col5, #T_8c0a2_row1_col1, #T_8c0a2_row11_col1, #T_8c0a2_row11_col4 {\n  background-color: #80ca80;\n  color: #000000;\n}\n#T_8c0a2_row0_col1, #T_8c0a2_row1_col5, #T_8c0a2_row2_col2, #T_8c0a2_row2_col3, #T_8c0a2_row2_col4, #T_8c0a2_row2_col5, #T_8c0a2_row3_col2, #T_8c0a2_row3_col3, #T_8c0a2_row5_col0, #T_8c0a2_row5_col5, #T_8c0a2_row11_col0, #T_8c0a2_row11_col5, #T_8c0a2_row12_col2, #T_8c0a2_row12_col3, #T_8c0a2_row12_col4, #T_8c0a2_row12_col5, #T_8c0a2_row19_col1 {\n  background-color: #81ca81;\n  color: #000000;\n}\n#T_8c0a2_row1_col0, #T_8c0a2_row1_col2, #T_8c0a2_row1_col3, #T_8c0a2_row3_col0, #T_8c0a2_row11_col2, #T_8c0a2_row11_col3, #T_8c0a2_row17_col1, #T_8c0a2_row18_col1, #T_8c0a2_row18_col3 {\n  background-color: #7fc97f;\n  color: #000000;\n}\n#T_8c0a2_row1_col4, #T_8c0a2_row19_col5 {\n  background-color: #7ac77b;\n  color: #000000;\n}\n#T_8c0a2_row2_col0, #T_8c0a2_row2_col1, #T_8c0a2_row3_col1, #T_8c0a2_row3_col5, #T_8c0a2_row12_col0, #T_8c0a2_row12_col1 {\n  background-color: #83cb82;\n  color: #000000;\n}\n#T_8c0a2_row3_col4, #T_8c0a2_row17_col2, #T_8c0a2_row17_col3, #T_8c0a2_row19_col0 {\n  background-color: #7cc87c;\n  color: #000000;\n}\n#T_8c0a2_row4_col0, #T_8c0a2_row4_col4, #T_8c0a2_row4_col5, #T_8c0a2_row5_col2, #T_8c0a2_row5_col3, #T_8c0a2_row13_col0, #T_8c0a2_row13_col2, #T_8c0a2_row13_col3, #T_8c0a2_row19_col3, #T_8c0a2_row20_col0, #T_8c0a2_row20_col5 {\n  background-color: #86cc85;\n  color: #000000;\n}\n#T_8c0a2_row4_col1, #T_8c0a2_row7_col4, #T_8c0a2_row13_col1, #T_8c0a2_row20_col4 {\n  background-color: #88ce87;\n  color: #000000;\n}\n#T_8c0a2_row4_col2, #T_8c0a2_row4_col3, #T_8c0a2_row5_col1, #T_8c0a2_row13_col4, #T_8c0a2_row13_col5 {\n  background-color: #87cd86;\n  color: #000000;\n}\n#T_8c0a2_row5_col4, #T_8c0a2_row18_col2 {\n  background-color: #7dc87e;\n  color: #000000;\n}\n#T_8c0a2_row6_col0, #T_8c0a2_row6_col4, #T_8c0a2_row6_col5, #T_8c0a2_row7_col1, #T_8c0a2_row14_col0, #T_8c0a2_row14_col2, #T_8c0a2_row14_col3, #T_8c0a2_row14_col5, #T_8c0a2_row20_col2, #T_8c0a2_row20_col3 {\n  background-color: #91d28e;\n  color: #000000;\n}\n#T_8c0a2_row6_col1, #T_8c0a2_row6_col2, #T_8c0a2_row6_col3, #T_8c0a2_row14_col1, #T_8c0a2_row14_col4, #T_8c0a2_row21_col5 {\n  background-color: #92d28f;\n  color: #000000;\n}\n#T_8c0a2_row7_col0 {\n  background-color: #8ace88;\n  color: #000000;\n}\n#T_8c0a2_row7_col2, #T_8c0a2_row7_col3, #T_8c0a2_row21_col0 {\n  background-color: #90d18d;\n  color: #000000;\n}\n#T_8c0a2_row7_col5, #T_8c0a2_row20_col1 {\n  background-color: #8dd08a;\n  color: #000000;\n}\n#T_8c0a2_row8_col0, #T_8c0a2_row8_col2, #T_8c0a2_row8_col4, #T_8c0a2_row8_col5, #T_8c0a2_row9_col1, #T_8c0a2_row15_col2, #T_8c0a2_row15_col3, #T_8c0a2_row15_col4, #T_8c0a2_row21_col2 {\n  background-color: #9bd696;\n  color: #000000;\n}\n#T_8c0a2_row8_col1, #T_8c0a2_row8_col3, #T_8c0a2_row15_col5, #T_8c0a2_row21_col3 {\n  background-color: #9cd797;\n  color: #000000;\n}\n#T_8c0a2_row9_col0, #T_8c0a2_row9_col4 {\n  background-color: #94d390;\n  color: #000000;\n}\n#T_8c0a2_row9_col2, #T_8c0a2_row9_col3, #T_8c0a2_row9_col5 {\n  background-color: #99d595;\n  color: #000000;\n}\n#T_8c0a2_row10_col0, #T_8c0a2_row10_col1, #T_8c0a2_row10_col2, #T_8c0a2_row10_col3, #T_8c0a2_row10_col4, #T_8c0a2_row10_col5 {\n  background-color: #f6fcf4;\n  color: #000000;\n}\n#T_8c0a2_row15_col0, #T_8c0a2_row15_col1 {\n  background-color: #9ed798;\n  color: #000000;\n}\n#T_8c0a2_row16_col0 {\n  background-color: #f1faee;\n  color: #000000;\n}\n#T_8c0a2_row16_col1 {\n  background-color: #f5fbf2;\n  color: #000000;\n}\n#T_8c0a2_row16_col2 {\n  background-color: #f7fcf5;\n  color: #000000;\n}\n#T_8c0a2_row16_col3, #T_8c0a2_row16_col4 {\n  background-color: #f5fbf3;\n  color: #000000;\n}\n#T_8c0a2_row16_col5 {\n  background-color: #f4fbf2;\n  color: #000000;\n}\n#T_8c0a2_row17_col0, #T_8c0a2_row18_col0 {\n  background-color: #78c679;\n  color: #000000;\n}\n#T_8c0a2_row17_col4 {\n  background-color: #73c476;\n  color: #000000;\n}\n#T_8c0a2_row17_col5, #T_8c0a2_row18_col4, #T_8c0a2_row18_col5 {\n  background-color: #75c477;\n  color: #000000;\n}\n#T_8c0a2_row19_col2 {\n  background-color: #84cc83;\n  color: #000000;\n}\n#T_8c0a2_row19_col4 {\n  background-color: #79c67a;\n  color: #000000;\n}\n#T_8c0a2_row21_col1 {\n  background-color: #98d594;\n  color: #000000;\n}\n#T_8c0a2_row21_col4 {\n  background-color: #95d391;\n  color: #000000;\n}\n</style>\n<table id=\"T_8c0a2\">\n  <thead>\n    <tr>\n      <th class=\"blank level0\" >&nbsp;</th>\n      <th id=\"T_8c0a2_level0_col0\" class=\"col_heading level0 col0\" >RF</th>\n      <th id=\"T_8c0a2_level0_col1\" class=\"col_heading level0 col1\" >DT</th>\n      <th id=\"T_8c0a2_level0_col2\" class=\"col_heading level0 col2\" >LogReg</th>\n      <th id=\"T_8c0a2_level0_col3\" class=\"col_heading level0 col3\" >LDA</th>\n      <th id=\"T_8c0a2_level0_col4\" class=\"col_heading level0 col4\" >QDA</th>\n      <th id=\"T_8c0a2_level0_col5\" class=\"col_heading level0 col5\" >SVC-rbf</th>\n    </tr>\n  </thead>\n  <tbody>\n    <tr>\n      <th id=\"T_8c0a2_level0_row0\" class=\"row_heading level0 row0\" >SelectKBest(k=3)</th>\n      <td id=\"T_8c0a2_row0_col0\" class=\"data row0 col0\" >878.000000</td>\n      <td id=\"T_8c0a2_row0_col1\" class=\"data row0 col1\" >860.000000</td>\n      <td id=\"T_8c0a2_row0_col2\" class=\"data row0 col2\" >900.000000</td>\n      <td id=\"T_8c0a2_row0_col3\" class=\"data row0 col3\" >902.000000</td>\n      <td id=\"T_8c0a2_row0_col4\" class=\"data row0 col4\" >902.000000</td>\n      <td id=\"T_8c0a2_row0_col5\" class=\"data row0 col5\" >896.000000</td>\n    </tr>\n    <tr>\n      <th id=\"T_8c0a2_level0_row1\" class=\"row_heading level0 row1\" >SelectKBest(k=3, score_func=<function mutual_info_classif at 0x12f03c1f0>)</th>\n      <td id=\"T_8c0a2_row1_col0\" class=\"data row1 col0\" >948.000000</td>\n      <td id=\"T_8c0a2_row1_col1\" class=\"data row1 col1\" >880.000000</td>\n      <td id=\"T_8c0a2_row1_col2\" class=\"data row1 col2\" >928.000000</td>\n      <td id=\"T_8c0a2_row1_col3\" class=\"data row1 col3\" >928.000000</td>\n      <td id=\"T_8c0a2_row1_col4\" class=\"data row1 col4\" >1102.000000</td>\n      <td id=\"T_8c0a2_row1_col5\" class=\"data row1 col5\" >822.000000</td>\n    </tr>\n    <tr>\n      <th id=\"T_8c0a2_level0_row2\" class=\"row_heading level0 row2\" >SelectKBest(k=5)</th>\n      <td id=\"T_8c0a2_row2_col0\" class=\"data row2 col0\" >806.000000</td>\n      <td id=\"T_8c0a2_row2_col1\" class=\"data row2 col1\" >804.000000</td>\n      <td id=\"T_8c0a2_row2_col2\" class=\"data row2 col2\" >812.000000</td>\n      <td id=\"T_8c0a2_row2_col3\" class=\"data row2 col3\" >810.000000</td>\n      <td id=\"T_8c0a2_row2_col4\" class=\"data row2 col4\" >828.000000</td>\n      <td id=\"T_8c0a2_row2_col5\" class=\"data row2 col5\" >846.000000</td>\n    </tr>\n    <tr>\n      <th id=\"T_8c0a2_level0_row3\" class=\"row_heading level0 row3\" >SelectKBest(k=5, score_func=<function mutual_info_classif at 0x12f03c1f0>)</th>\n      <td id=\"T_8c0a2_row3_col0\" class=\"data row3 col0\" >950.000000</td>\n      <td id=\"T_8c0a2_row3_col1\" class=\"data row3 col1\" >786.000000</td>\n      <td id=\"T_8c0a2_row3_col2\" class=\"data row3 col2\" >828.000000</td>\n      <td id=\"T_8c0a2_row3_col3\" class=\"data row3 col3\" >824.000000</td>\n      <td id=\"T_8c0a2_row3_col4\" class=\"data row3 col4\" >1038.000000</td>\n      <td id=\"T_8c0a2_row3_col5\" class=\"data row3 col5\" >762.000000</td>\n    </tr>\n    <tr>\n      <th id=\"T_8c0a2_level0_row4\" class=\"row_heading level0 row4\" >SelectKBest()</th>\n      <td id=\"T_8c0a2_row4_col0\" class=\"data row4 col0\" >670.000000</td>\n      <td id=\"T_8c0a2_row4_col1\" class=\"data row4 col1\" >572.000000</td>\n      <td id=\"T_8c0a2_row4_col2\" class=\"data row4 col2\" >630.000000</td>\n      <td id=\"T_8c0a2_row4_col3\" class=\"data row4 col3\" >626.000000</td>\n      <td id=\"T_8c0a2_row4_col4\" class=\"data row4 col4\" >680.000000</td>\n      <td id=\"T_8c0a2_row4_col5\" class=\"data row4 col5\" >652.000000</td>\n    </tr>\n    <tr>\n      <th id=\"T_8c0a2_level0_row5\" class=\"row_heading level0 row5\" >SelectKBest(score_func=<function mutual_info_classif at 0x12f03c1f0>)</th>\n      <td id=\"T_8c0a2_row5_col0\" class=\"data row5 col0\" >856.000000</td>\n      <td id=\"T_8c0a2_row5_col1\" class=\"data row5 col1\" >610.000000</td>\n      <td id=\"T_8c0a2_row5_col2\" class=\"data row5 col2\" >650.000000</td>\n      <td id=\"T_8c0a2_row5_col3\" class=\"data row5 col3\" >650.000000</td>\n      <td id=\"T_8c0a2_row5_col4\" class=\"data row5 col4\" >978.000000</td>\n      <td id=\"T_8c0a2_row5_col5\" class=\"data row5 col5\" >808.000000</td>\n    </tr>\n    <tr>\n      <th id=\"T_8c0a2_level0_row6\" class=\"row_heading level0 row6\" >SelectKBest(k=20)</th>\n      <td id=\"T_8c0a2_row6_col0\" class=\"data row6 col0\" >242.000000</td>\n      <td id=\"T_8c0a2_row6_col1\" class=\"data row6 col1\" >198.000000</td>\n      <td id=\"T_8c0a2_row6_col2\" class=\"data row6 col2\" >202.000000</td>\n      <td id=\"T_8c0a2_row6_col3\" class=\"data row6 col3\" >200.000000</td>\n      <td id=\"T_8c0a2_row6_col4\" class=\"data row6 col4\" >258.000000</td>\n      <td id=\"T_8c0a2_row6_col5\" class=\"data row6 col5\" >250.000000</td>\n    </tr>\n    <tr>\n      <th id=\"T_8c0a2_level0_row7\" class=\"row_heading level0 row7\" >SelectKBest(k=20, score_func=<function mutual_info_classif at 0x12f03c1f0>)</th>\n      <td id=\"T_8c0a2_row7_col0\" class=\"data row7 col0\" >496.000000</td>\n      <td id=\"T_8c0a2_row7_col1\" class=\"data row7 col1\" >212.000000</td>\n      <td id=\"T_8c0a2_row7_col2\" class=\"data row7 col2\" >268.000000</td>\n      <td id=\"T_8c0a2_row7_col3\" class=\"data row7 col3\" >266.000000</td>\n      <td id=\"T_8c0a2_row7_col4\" class=\"data row7 col4\" >564.000000</td>\n      <td id=\"T_8c0a2_row7_col5\" class=\"data row7 col5\" >370.000000</td>\n    </tr>\n    <tr>\n      <th id=\"T_8c0a2_level0_row8\" class=\"row_heading level0 row8\" >SelectKBest(k=30)</th>\n      <td id=\"T_8c0a2_row8_col0\" class=\"data row8 col0\" >-168.000000</td>\n      <td id=\"T_8c0a2_row8_col1\" class=\"data row8 col1\" >-230.000000</td>\n      <td id=\"T_8c0a2_row8_col2\" class=\"data row8 col2\" >-178.000000</td>\n      <td id=\"T_8c0a2_row8_col3\" class=\"data row8 col3\" >-180.000000</td>\n      <td id=\"T_8c0a2_row8_col4\" class=\"data row8 col4\" >-162.000000</td>\n      <td id=\"T_8c0a2_row8_col5\" class=\"data row8 col5\" >-150.000000</td>\n    </tr>\n    <tr>\n      <th id=\"T_8c0a2_level0_row9\" class=\"row_heading level0 row9\" >SelectKBest(k=30, score_func=<function mutual_info_classif at 0x12f03c1f0>)</th>\n      <td id=\"T_8c0a2_row9_col0\" class=\"data row9 col0\" >102.000000</td>\n      <td id=\"T_8c0a2_row9_col1\" class=\"data row9 col1\" >-174.000000</td>\n      <td id=\"T_8c0a2_row9_col2\" class=\"data row9 col2\" >-116.000000</td>\n      <td id=\"T_8c0a2_row9_col3\" class=\"data row9 col3\" >-114.000000</td>\n      <td id=\"T_8c0a2_row9_col4\" class=\"data row9 col4\" >142.000000</td>\n      <td id=\"T_8c0a2_row9_col5\" class=\"data row9 col5\" >-90.000000</td>\n    </tr>\n    <tr>\n      <th id=\"T_8c0a2_level0_row10\" class=\"row_heading level0 row10\" >SelectFromModel(estimator=LogisticRegression())</th>\n      <td id=\"T_8c0a2_row10_col0\" class=\"data row10 col0\" >-5510.000000</td>\n      <td id=\"T_8c0a2_row10_col1\" class=\"data row10 col1\" >-5532.000000</td>\n      <td id=\"T_8c0a2_row10_col2\" class=\"data row10 col2\" >-5520.000000</td>\n      <td id=\"T_8c0a2_row10_col3\" class=\"data row10 col3\" >-5520.000000</td>\n      <td id=\"T_8c0a2_row10_col4\" class=\"data row10 col4\" >-5592.000000</td>\n      <td id=\"T_8c0a2_row10_col5\" class=\"data row10 col5\" >-5500.000000</td>\n    </tr>\n    <tr>\n      <th id=\"T_8c0a2_level0_row11\" class=\"row_heading level0 row11\" >SelectFromModel(estimator=LogisticRegression(), max_features=3)</th>\n      <td id=\"T_8c0a2_row11_col0\" class=\"data row11 col0\" >852.000000</td>\n      <td id=\"T_8c0a2_row11_col1\" class=\"data row11 col1\" >868.000000</td>\n      <td id=\"T_8c0a2_row11_col2\" class=\"data row11 col2\" >920.000000</td>\n      <td id=\"T_8c0a2_row11_col3\" class=\"data row11 col3\" >920.000000</td>\n      <td id=\"T_8c0a2_row11_col4\" class=\"data row11 col4\" >890.000000</td>\n      <td id=\"T_8c0a2_row11_col5\" class=\"data row11 col5\" >822.000000</td>\n    </tr>\n    <tr>\n      <th id=\"T_8c0a2_level0_row12\" class=\"row_heading level0 row12\" >SelectFromModel(estimator=LogisticRegression(), max_features=5)</th>\n      <td id=\"T_8c0a2_row12_col0\" class=\"data row12 col0\" >776.000000</td>\n      <td id=\"T_8c0a2_row12_col1\" class=\"data row12 col1\" >776.000000</td>\n      <td id=\"T_8c0a2_row12_col2\" class=\"data row12 col2\" >824.000000</td>\n      <td id=\"T_8c0a2_row12_col3\" class=\"data row12 col3\" >824.000000</td>\n      <td id=\"T_8c0a2_row12_col4\" class=\"data row12 col4\" >810.000000</td>\n      <td id=\"T_8c0a2_row12_col5\" class=\"data row12 col5\" >808.000000</td>\n    </tr>\n    <tr>\n      <th id=\"T_8c0a2_level0_row13\" class=\"row_heading level0 row13\" >SelectFromModel(estimator=LogisticRegression(), max_features=10)</th>\n      <td id=\"T_8c0a2_row13_col0\" class=\"data row13 col0\" >654.000000</td>\n      <td id=\"T_8c0a2_row13_col1\" class=\"data row13 col1\" >582.000000</td>\n      <td id=\"T_8c0a2_row13_col2\" class=\"data row13 col2\" >652.000000</td>\n      <td id=\"T_8c0a2_row13_col3\" class=\"data row13 col3\" >652.000000</td>\n      <td id=\"T_8c0a2_row13_col4\" class=\"data row13 col4\" >634.000000</td>\n      <td id=\"T_8c0a2_row13_col5\" class=\"data row13 col5\" >610.000000</td>\n    </tr>\n    <tr>\n      <th id=\"T_8c0a2_level0_row14\" class=\"row_heading level0 row14\" >SelectFromModel(estimator=LogisticRegression(), max_features=20)</th>\n      <td id=\"T_8c0a2_row14_col0\" class=\"data row14 col0\" >220.000000</td>\n      <td id=\"T_8c0a2_row14_col1\" class=\"data row14 col1\" >190.000000</td>\n      <td id=\"T_8c0a2_row14_col2\" class=\"data row14 col2\" >224.000000</td>\n      <td id=\"T_8c0a2_row14_col3\" class=\"data row14 col3\" >224.000000</td>\n      <td id=\"T_8c0a2_row14_col4\" class=\"data row14 col4\" >174.000000</td>\n      <td id=\"T_8c0a2_row14_col5\" class=\"data row14 col5\" >218.000000</td>\n    </tr>\n    <tr>\n      <th id=\"T_8c0a2_level0_row15\" class=\"row_heading level0 row15\" >SelectFromModel(estimator=LogisticRegression(), max_features=30)</th>\n      <td id=\"T_8c0a2_row15_col0\" class=\"data row15 col0\" >-250.000000</td>\n      <td id=\"T_8c0a2_row15_col1\" class=\"data row15 col1\" >-254.000000</td>\n      <td id=\"T_8c0a2_row15_col2\" class=\"data row15 col2\" >-154.000000</td>\n      <td id=\"T_8c0a2_row15_col3\" class=\"data row15 col3\" >-160.000000</td>\n      <td id=\"T_8c0a2_row15_col4\" class=\"data row15 col4\" >-178.000000</td>\n      <td id=\"T_8c0a2_row15_col5\" class=\"data row15 col5\" >-188.000000</td>\n    </tr>\n    <tr>\n      <th id=\"T_8c0a2_level0_row16\" class=\"row_heading level0 row16\" >SelectFromModel(estimator=RandomForestClassifier())</th>\n      <td id=\"T_8c0a2_row16_col0\" class=\"data row16 col0\" >-5012.000000</td>\n      <td id=\"T_8c0a2_row16_col1\" class=\"data row16 col1\" >-5424.000000</td>\n      <td id=\"T_8c0a2_row16_col2\" class=\"data row16 col2\" >-5654.000000</td>\n      <td id=\"T_8c0a2_row16_col3\" class=\"data row16 col3\" >-5442.000000</td>\n      <td id=\"T_8c0a2_row16_col4\" class=\"data row16 col4\" >-5468.000000</td>\n      <td id=\"T_8c0a2_row16_col5\" class=\"data row16 col5\" >-5356.000000</td>\n    </tr>\n    <tr>\n      <th id=\"T_8c0a2_level0_row17\" class=\"row_heading level0 row17\" >SelectFromModel(estimator=RandomForestClassifier(), max_features=3)</th>\n      <td id=\"T_8c0a2_row17_col0\" class=\"data row17 col0\" >1222.000000</td>\n      <td id=\"T_8c0a2_row17_col1\" class=\"data row17 col1\" >964.000000</td>\n      <td id=\"T_8c0a2_row17_col2\" class=\"data row17 col2\" >1032.000000</td>\n      <td id=\"T_8c0a2_row17_col3\" class=\"data row17 col3\" >1050.000000</td>\n      <td id=\"T_8c0a2_row17_col4\" class=\"data row17 col4\" >1354.000000</td>\n      <td id=\"T_8c0a2_row17_col5\" class=\"data row17 col5\" >1334.000000</td>\n    </tr>\n    <tr>\n      <th id=\"T_8c0a2_level0_row18\" class=\"row_heading level0 row18\" >SelectFromModel(estimator=RandomForestClassifier(), max_features=5)</th>\n      <td id=\"T_8c0a2_row18_col0\" class=\"data row18 col0\" >1200.000000</td>\n      <td id=\"T_8c0a2_row18_col1\" class=\"data row18 col1\" >920.000000</td>\n      <td id=\"T_8c0a2_row18_col2\" class=\"data row18 col2\" >974.000000</td>\n      <td id=\"T_8c0a2_row18_col3\" class=\"data row18 col3\" >964.000000</td>\n      <td id=\"T_8c0a2_row18_col4\" class=\"data row18 col4\" >1352.000000</td>\n      <td id=\"T_8c0a2_row18_col5\" class=\"data row18 col5\" >1324.000000</td>\n    </tr>\n    <tr>\n      <th id=\"T_8c0a2_level0_row19\" class=\"row_heading level0 row19\" >SelectFromModel(estimator=RandomForestClassifier(), max_features=10)</th>\n      <td id=\"T_8c0a2_row19_col0\" class=\"data row19 col0\" >1048.000000</td>\n      <td id=\"T_8c0a2_row19_col1\" class=\"data row19 col1\" >816.000000</td>\n      <td id=\"T_8c0a2_row19_col2\" class=\"data row19 col2\" >708.000000</td>\n      <td id=\"T_8c0a2_row19_col3\" class=\"data row19 col3\" >684.000000</td>\n      <td id=\"T_8c0a2_row19_col4\" class=\"data row19 col4\" >1166.000000</td>\n      <td id=\"T_8c0a2_row19_col5\" class=\"data row19 col5\" >1112.000000</td>\n    </tr>\n    <tr>\n      <th id=\"T_8c0a2_level0_row20\" class=\"row_heading level0 row20\" >SelectFromModel(estimator=RandomForestClassifier(), max_features=20)</th>\n      <td id=\"T_8c0a2_row20_col0\" class=\"data row20 col0\" >666.000000</td>\n      <td id=\"T_8c0a2_row20_col1\" class=\"data row20 col1\" >380.000000</td>\n      <td id=\"T_8c0a2_row20_col2\" class=\"data row20 col2\" >218.000000</td>\n      <td id=\"T_8c0a2_row20_col3\" class=\"data row20 col3\" >230.000000</td>\n      <td id=\"T_8c0a2_row20_col4\" class=\"data row20 col4\" >546.000000</td>\n      <td id=\"T_8c0a2_row20_col5\" class=\"data row20 col5\" >674.000000</td>\n    </tr>\n    <tr>\n      <th id=\"T_8c0a2_level0_row21\" class=\"row_heading level0 row21\" >SelectFromModel(estimator=RandomForestClassifier(), max_features=30)</th>\n      <td id=\"T_8c0a2_row21_col0\" class=\"data row21 col0\" >266.000000</td>\n      <td id=\"T_8c0a2_row21_col1\" class=\"data row21 col1\" >-36.000000</td>\n      <td id=\"T_8c0a2_row21_col2\" class=\"data row21 col2\" >-178.000000</td>\n      <td id=\"T_8c0a2_row21_col3\" class=\"data row21 col3\" >-206.000000</td>\n      <td id=\"T_8c0a2_row21_col4\" class=\"data row21 col4\" >88.000000</td>\n      <td id=\"T_8c0a2_row21_col5\" class=\"data row21 col5\" >182.000000</td>\n    </tr>\n  </tbody>\n</table>\n"
     },
     "execution_count": 38,
     "metadata": {},
     "output_type": "execute_result"
    }
   ],
   "source": [
    "avg_results_dict = apply_transform_to_res(results_dict, np.mean)\n",
    "avg_df = pd.DataFrame(avg_results_dict).T\n",
    "avg_df.columns = [\"RF\", \"DT\", \"LogReg\", \"LDA\", \"QDA\", \"SVC-rbf\"]\n",
    "avg_df.style.background_gradient(cmap=\"Greens\", low=0.0, high=1.0, axis=None)"
   ]
  },
  {
   "cell_type": "code",
   "execution_count": 39,
   "metadata": {
    "ExecuteTime": {
     "end_time": "2024-05-26T14:16:04.699751Z",
     "start_time": "2024-05-26T14:16:04.674634Z"
    }
   },
   "outputs": [
    {
     "data": {
      "text/plain": "<pandas.io.formats.style.Styler at 0x16c25a1c0>",
      "text/html": "<style type=\"text/css\">\n#T_0a4ef_row0_col0, #T_0a4ef_row21_col5 {\n  background-color: #fedfd0;\n  color: #000000;\n}\n#T_0a4ef_row0_col1, #T_0a4ef_row18_col5, #T_0a4ef_row20_col3 {\n  background-color: #fee9df;\n  color: #000000;\n}\n#T_0a4ef_row0_col2, #T_0a4ef_row4_col5, #T_0a4ef_row11_col1, #T_0a4ef_row15_col2, #T_0a4ef_row17_col0 {\n  background-color: #fee6da;\n  color: #000000;\n}\n#T_0a4ef_row0_col3 {\n  background-color: #fee8dd;\n  color: #000000;\n}\n#T_0a4ef_row0_col4, #T_0a4ef_row9_col0, #T_0a4ef_row12_col1, #T_0a4ef_row14_col0, #T_0a4ef_row17_col3, #T_0a4ef_row21_col1 {\n  background-color: #feeae1;\n  color: #000000;\n}\n#T_0a4ef_row0_col5, #T_0a4ef_row2_col4, #T_0a4ef_row8_col3 {\n  background-color: #ffeee7;\n  color: #000000;\n}\n#T_0a4ef_row1_col0, #T_0a4ef_row3_col3, #T_0a4ef_row6_col4, #T_0a4ef_row13_col1 {\n  background-color: #fedaca;\n  color: #000000;\n}\n#T_0a4ef_row1_col1, #T_0a4ef_row7_col3, #T_0a4ef_row9_col2 {\n  background-color: #ffefe8;\n  color: #000000;\n}\n#T_0a4ef_row1_col2, #T_0a4ef_row1_col3 {\n  background-color: #fdd2bf;\n  color: #000000;\n}\n#T_0a4ef_row1_col4 {\n  background-color: #fcc3ab;\n  color: #000000;\n}\n#T_0a4ef_row1_col5 {\n  background-color: #6d010e;\n  color: #f1f1f1;\n}\n#T_0a4ef_row2_col0, #T_0a4ef_row17_col4, #T_0a4ef_row19_col5, #T_0a4ef_row20_col2 {\n  background-color: #ffeee6;\n  color: #000000;\n}\n#T_0a4ef_row2_col1, #T_0a4ef_row14_col1 {\n  background-color: #fedecf;\n  color: #000000;\n}\n#T_0a4ef_row2_col2, #T_0a4ef_row19_col0, #T_0a4ef_row20_col5 {\n  background-color: #fff1ea;\n  color: #000000;\n}\n#T_0a4ef_row2_col3, #T_0a4ef_row8_col2, #T_0a4ef_row8_col5, #T_0a4ef_row17_col5 {\n  background-color: #fff0e9;\n  color: #000000;\n}\n#T_0a4ef_row2_col5, #T_0a4ef_row6_col5, #T_0a4ef_row7_col2, #T_0a4ef_row9_col3, #T_0a4ef_row11_col4 {\n  background-color: #fff0e8;\n  color: #000000;\n}\n#T_0a4ef_row3_col0, #T_0a4ef_row9_col1, #T_0a4ef_row15_col1, #T_0a4ef_row20_col1 {\n  background-color: #fee1d3;\n  color: #000000;\n}\n#T_0a4ef_row3_col1, #T_0a4ef_row12_col0, #T_0a4ef_row12_col2, #T_0a4ef_row12_col3, #T_0a4ef_row17_col2 {\n  background-color: #fee5d8;\n  color: #000000;\n}\n#T_0a4ef_row3_col2, #T_0a4ef_row15_col0, #T_0a4ef_row19_col1 {\n  background-color: #fedbcc;\n  color: #000000;\n}\n#T_0a4ef_row3_col4 {\n  background-color: #fcc1a8;\n  color: #000000;\n}\n#T_0a4ef_row3_col5 {\n  background-color: #67000d;\n  color: #f1f1f1;\n}\n#T_0a4ef_row4_col0, #T_0a4ef_row11_col2, #T_0a4ef_row11_col3, #T_0a4ef_row15_col3 {\n  background-color: #fee8de;\n  color: #000000;\n}\n#T_0a4ef_row4_col1 {\n  background-color: #ffede5;\n  color: #000000;\n}\n#T_0a4ef_row4_col2, #T_0a4ef_row4_col3, #T_0a4ef_row12_col5, #T_0a4ef_row14_col5, #T_0a4ef_row18_col1, #T_0a4ef_row18_col4 {\n  background-color: #fee7db;\n  color: #000000;\n}\n#T_0a4ef_row4_col4, #T_0a4ef_row5_col3, #T_0a4ef_row6_col1, #T_0a4ef_row6_col2, #T_0a4ef_row6_col3, #T_0a4ef_row14_col2, #T_0a4ef_row14_col3, #T_0a4ef_row14_col4, #T_0a4ef_row18_col3 {\n  background-color: #ffebe2;\n  color: #000000;\n}\n#T_0a4ef_row5_col0, #T_0a4ef_row8_col4 {\n  background-color: #fdd7c6;\n  color: #000000;\n}\n#T_0a4ef_row5_col1 {\n  background-color: #fedccd;\n  color: #000000;\n}\n#T_0a4ef_row5_col2, #T_0a4ef_row12_col4, #T_0a4ef_row20_col0, #T_0a4ef_row21_col0 {\n  background-color: #ffece3;\n  color: #000000;\n}\n#T_0a4ef_row5_col4, #T_0a4ef_row7_col4 {\n  background-color: #fdd1be;\n  color: #000000;\n}\n#T_0a4ef_row5_col5 {\n  background-color: #fcbfa7;\n  color: #000000;\n}\n#T_0a4ef_row6_col0, #T_0a4ef_row7_col5, #T_0a4ef_row17_col1 {\n  background-color: #fee2d5;\n  color: #000000;\n}\n#T_0a4ef_row7_col0, #T_0a4ef_row13_col5 {\n  background-color: #fee1d4;\n  color: #000000;\n}\n#T_0a4ef_row7_col1, #T_0a4ef_row13_col4 {\n  background-color: #fee5d9;\n  color: #000000;\n}\n#T_0a4ef_row8_col0 {\n  background-color: #fdc9b3;\n  color: #000000;\n}\n#T_0a4ef_row8_col1 {\n  background-color: #fee3d7;\n  color: #000000;\n}\n#T_0a4ef_row9_col4 {\n  background-color: #fee0d2;\n  color: #000000;\n}\n#T_0a4ef_row9_col5 {\n  background-color: #fdccb8;\n  color: #000000;\n}\n#T_0a4ef_row10_col0 {\n  background-color: #fcb79c;\n  color: #000000;\n}\n#T_0a4ef_row10_col1 {\n  background-color: #fc9576;\n  color: #000000;\n}\n#T_0a4ef_row10_col2 {\n  background-color: #fc9879;\n  color: #000000;\n}\n#T_0a4ef_row10_col3, #T_0a4ef_row16_col4 {\n  background-color: #fc9777;\n  color: #000000;\n}\n#T_0a4ef_row10_col4 {\n  background-color: #fca98c;\n  color: #000000;\n}\n#T_0a4ef_row10_col5 {\n  background-color: #fca486;\n  color: #000000;\n}\n#T_0a4ef_row11_col0, #T_0a4ef_row18_col0, #T_0a4ef_row21_col2, #T_0a4ef_row21_col4 {\n  background-color: #ffece4;\n  color: #000000;\n}\n#T_0a4ef_row11_col5 {\n  background-color: #fff4ef;\n  color: #000000;\n}\n#T_0a4ef_row13_col0 {\n  background-color: #fed9c9;\n  color: #000000;\n}\n#T_0a4ef_row13_col2, #T_0a4ef_row13_col3, #T_0a4ef_row19_col2 {\n  background-color: #fff4ee;\n  color: #000000;\n}\n#T_0a4ef_row15_col4 {\n  background-color: #fee7dc;\n  color: #000000;\n}\n#T_0a4ef_row15_col5, #T_0a4ef_row18_col2 {\n  background-color: #feeae0;\n  color: #000000;\n}\n#T_0a4ef_row16_col0 {\n  background-color: #fa6849;\n  color: #f1f1f1;\n}\n#T_0a4ef_row16_col1 {\n  background-color: #fb7c5c;\n  color: #f1f1f1;\n}\n#T_0a4ef_row16_col2 {\n  background-color: #f5533b;\n  color: #f1f1f1;\n}\n#T_0a4ef_row16_col3 {\n  background-color: #fc8666;\n  color: #f1f1f1;\n}\n#T_0a4ef_row16_col5 {\n  background-color: #f34a36;\n  color: #f1f1f1;\n}\n#T_0a4ef_row19_col3, #T_0a4ef_row19_col4 {\n  background-color: #fff5f0;\n  color: #000000;\n}\n#T_0a4ef_row20_col4 {\n  background-color: #fee4d8;\n  color: #000000;\n}\n#T_0a4ef_row21_col3 {\n  background-color: #fee3d6;\n  color: #000000;\n}\n</style>\n<table id=\"T_0a4ef\">\n  <thead>\n    <tr>\n      <th class=\"blank level0\" >&nbsp;</th>\n      <th id=\"T_0a4ef_level0_col0\" class=\"col_heading level0 col0\" >RF</th>\n      <th id=\"T_0a4ef_level0_col1\" class=\"col_heading level0 col1\" >DT</th>\n      <th id=\"T_0a4ef_level0_col2\" class=\"col_heading level0 col2\" >LogReg</th>\n      <th id=\"T_0a4ef_level0_col3\" class=\"col_heading level0 col3\" >LDA</th>\n      <th id=\"T_0a4ef_level0_col4\" class=\"col_heading level0 col4\" >QDA</th>\n      <th id=\"T_0a4ef_level0_col5\" class=\"col_heading level0 col5\" >SVC-rbf</th>\n    </tr>\n  </thead>\n  <tbody>\n    <tr>\n      <th id=\"T_0a4ef_level0_row0\" class=\"row_heading level0 row0\" >SelectKBest(k=3)</th>\n      <td id=\"T_0a4ef_row0_col0\" class=\"data row0 col0\" >76.524506</td>\n      <td id=\"T_0a4ef_row0_col1\" class=\"data row0 col1\" >48.989795</td>\n      <td id=\"T_0a4ef_row0_col2\" class=\"data row0 col2\" >58.651513</td>\n      <td id=\"T_0a4ef_row0_col3\" class=\"data row0 col3\" >53.065997</td>\n      <td id=\"T_0a4ef_row0_col4\" class=\"data row0 col4\" >45.343136</td>\n      <td id=\"T_0a4ef_row0_col5\" class=\"data row0 col5\" >34.985711</td>\n    </tr>\n    <tr>\n      <th id=\"T_0a4ef_level0_row1\" class=\"row_heading level0 row1\" >SelectKBest(k=3, score_func=<function mutual_info_classif at 0x12f03c1f0>)</th>\n      <td id=\"T_0a4ef_row1_col0\" class=\"data row1 col0\" >84.947042</td>\n      <td id=\"T_0a4ef_row1_col1\" class=\"data row1 col1\" >32.863353</td>\n      <td id=\"T_0a4ef_row1_col2\" class=\"data row1 col2\" >96.829747</td>\n      <td id=\"T_0a4ef_row1_col3\" class=\"data row1 col3\" >96.829747</td>\n      <td id=\"T_0a4ef_row1_col4\" class=\"data row1 col4\" >121.720992</td>\n      <td id=\"T_0a4ef_row1_col5\" class=\"data row1 col5\" >483.255626</td>\n    </tr>\n    <tr>\n      <th id=\"T_0a4ef_level0_row2\" class=\"row_heading level0 row2\" >SelectKBest(k=5)</th>\n      <td id=\"T_0a4ef_row2_col0\" class=\"data row2 col0\" >35.552778</td>\n      <td id=\"T_0a4ef_row2_col1\" class=\"data row2 col1\" >78.383672</td>\n      <td id=\"T_0a4ef_row2_col2\" class=\"data row2 col2\" >27.129320</td>\n      <td id=\"T_0a4ef_row2_col3\" class=\"data row2 col3\" >28.284271</td>\n      <td id=\"T_0a4ef_row2_col4\" class=\"data row2 col4\" >34.292856</td>\n      <td id=\"T_0a4ef_row2_col5\" class=\"data row2 col5\" >31.368774</td>\n    </tr>\n    <tr>\n      <th id=\"T_0a4ef_level0_row3\" class=\"row_heading level0 row3\" >SelectKBest(k=5, score_func=<function mutual_info_classif at 0x12f03c1f0>)</th>\n      <td id=\"T_0a4ef_row3_col0\" class=\"data row3 col0\" >73.212021</td>\n      <td id=\"T_0a4ef_row3_col1\" class=\"data row3 col1\" >62.801274</td>\n      <td id=\"T_0a4ef_row3_col2\" class=\"data row3 col2\" >82.316463</td>\n      <td id=\"T_0a4ef_row3_col3\" class=\"data row3 col3\" >84.047606</td>\n      <td id=\"T_0a4ef_row3_col4\" class=\"data row3 col4\" >124.963995</td>\n      <td id=\"T_0a4ef_row3_col5\" class=\"data row3 col5\" >490.322343</td>\n    </tr>\n    <tr>\n      <th id=\"T_0a4ef_level0_row4\" class=\"row_heading level0 row4\" >SelectKBest()</th>\n      <td id=\"T_0a4ef_row4_col0\" class=\"data row4 col0\" >50.990195</td>\n      <td id=\"T_0a4ef_row4_col1\" class=\"data row4 col1\" >38.678159</td>\n      <td id=\"T_0a4ef_row4_col2\" class=\"data row4 col2\" >56.568542</td>\n      <td id=\"T_0a4ef_row4_col3\" class=\"data row4 col3\" >56.780278</td>\n      <td id=\"T_0a4ef_row4_col4\" class=\"data row4 col4\" >44.271887</td>\n      <td id=\"T_0a4ef_row4_col5\" class=\"data row4 col5\" >58.103356</td>\n    </tr>\n    <tr>\n      <th id=\"T_0a4ef_level0_row5\" class=\"row_heading level0 row5\" >SelectKBest(score_func=<function mutual_info_classif at 0x12f03c1f0>)</th>\n      <td id=\"T_0a4ef_row5_col0\" class=\"data row5 col0\" >89.576783</td>\n      <td id=\"T_0a4ef_row5_col1\" class=\"data row5 col1\" >81.731267</td>\n      <td id=\"T_0a4ef_row5_col2\" class=\"data row5 col2\" >41.952354</td>\n      <td id=\"T_0a4ef_row5_col3\" class=\"data row5 col3\" >43.817805</td>\n      <td id=\"T_0a4ef_row5_col4\" class=\"data row5 col4\" >99.075729</td>\n      <td id=\"T_0a4ef_row5_col5\" class=\"data row5 col5\" >127.499020</td>\n    </tr>\n    <tr>\n      <th id=\"T_0a4ef_level0_row6\" class=\"row_heading level0 row6\" >SelectKBest(k=20)</th>\n      <td id=\"T_0a4ef_row6_col0\" class=\"data row6 col0\" >70.540768</td>\n      <td id=\"T_0a4ef_row6_col1\" class=\"data row6 col1\" >43.081318</td>\n      <td id=\"T_0a4ef_row6_col2\" class=\"data row6 col2\" >43.081318</td>\n      <td id=\"T_0a4ef_row6_col3\" class=\"data row6 col3\" >43.358967</td>\n      <td id=\"T_0a4ef_row6_col4\" class=\"data row6 col4\" >84.947042</td>\n      <td id=\"T_0a4ef_row6_col5\" class=\"data row6 col5\" >30.983867</td>\n    </tr>\n    <tr>\n      <th id=\"T_0a4ef_level0_row7\" class=\"row_heading level0 row7\" >SelectKBest(k=20, score_func=<function mutual_info_classif at 0x12f03c1f0>)</th>\n      <td id=\"T_0a4ef_row7_col0\" class=\"data row7 col0\" >71.721684</td>\n      <td id=\"T_0a4ef_row7_col1\" class=\"data row7 col1\" >60.464866</td>\n      <td id=\"T_0a4ef_row7_col2\" class=\"data row7 col2\" >30.594117</td>\n      <td id=\"T_0a4ef_row7_col3\" class=\"data row7 col3\" >32.000000</td>\n      <td id=\"T_0a4ef_row7_col4\" class=\"data row7 col4\" >99.719607</td>\n      <td id=\"T_0a4ef_row7_col5\" class=\"data row7 col5\" >70.142712</td>\n    </tr>\n    <tr>\n      <th id=\"T_0a4ef_level0_row8\" class=\"row_heading level0 row8\" >SelectKBest(k=30)</th>\n      <td id=\"T_0a4ef_row8_col0\" class=\"data row8 col0\" >111.964280</td>\n      <td id=\"T_0a4ef_row8_col1\" class=\"data row8 col1\" >66.932802</td>\n      <td id=\"T_0a4ef_row8_col2\" class=\"data row8 col2\" >29.257478</td>\n      <td id=\"T_0a4ef_row8_col3\" class=\"data row8 col3\" >35.213634</td>\n      <td id=\"T_0a4ef_row8_col4\" class=\"data row8 col4\" >91.082380</td>\n      <td id=\"T_0a4ef_row8_col5\" class=\"data row8 col5\" >28.284271</td>\n    </tr>\n    <tr>\n      <th id=\"T_0a4ef_level0_row9\" class=\"row_heading level0 row9\" >SelectKBest(k=30, score_func=<function mutual_info_classif at 0x12f03c1f0>)</th>\n      <td id=\"T_0a4ef_row9_col0\" class=\"data row9 col0\" >45.343136</td>\n      <td id=\"T_0a4ef_row9_col1\" class=\"data row9 col1\" >72.828566</td>\n      <td id=\"T_0a4ef_row9_col2\" class=\"data row9 col2\" >32.000000</td>\n      <td id=\"T_0a4ef_row9_col3\" class=\"data row9 col3\" >31.368774</td>\n      <td id=\"T_0a4ef_row9_col4\" class=\"data row9 col4\" >74.404301</td>\n      <td id=\"T_0a4ef_row9_col5\" class=\"data row9 col5\" >106.395489</td>\n    </tr>\n    <tr>\n      <th id=\"T_0a4ef_level0_row10\" class=\"row_heading level0 row10\" >SelectFromModel(estimator=LogisticRegression())</th>\n      <td id=\"T_0a4ef_row10_col0\" class=\"data row10 col0\" >139.427400</td>\n      <td id=\"T_0a4ef_row10_col1\" class=\"data row10 col1\" >188.403822</td>\n      <td id=\"T_0a4ef_row10_col2\" class=\"data row10 col2\" >184.715998</td>\n      <td id=\"T_0a4ef_row10_col3\" class=\"data row10 col3\" >186.333035</td>\n      <td id=\"T_0a4ef_row10_col4\" class=\"data row10 col4\" >160.174904</td>\n      <td id=\"T_0a4ef_row10_col5\" class=\"data row10 col5\" >167.928556</td>\n    </tr>\n    <tr>\n      <th id=\"T_0a4ef_level0_row11\" class=\"row_heading level0 row11\" >SelectFromModel(estimator=LogisticRegression(), max_features=3)</th>\n      <td id=\"T_0a4ef_row11_col0\" class=\"data row11 col0\" >39.698866</td>\n      <td id=\"T_0a4ef_row11_col1\" class=\"data row11 col1\" >58.446557</td>\n      <td id=\"T_0a4ef_row11_col2\" class=\"data row11 col2\" >50.990195</td>\n      <td id=\"T_0a4ef_row11_col3\" class=\"data row11 col3\" >50.990195</td>\n      <td id=\"T_0a4ef_row11_col4\" class=\"data row11 col4\" >31.622777</td>\n      <td id=\"T_0a4ef_row11_col5\" class=\"data row11 col5\" >17.204651</td>\n    </tr>\n    <tr>\n      <th id=\"T_0a4ef_level0_row12\" class=\"row_heading level0 row12\" >SelectFromModel(estimator=LogisticRegression(), max_features=5)</th>\n      <td id=\"T_0a4ef_row12_col0\" class=\"data row12 col0\" >62.801274</td>\n      <td id=\"T_0a4ef_row12_col1\" class=\"data row12 col1\" >46.303348</td>\n      <td id=\"T_0a4ef_row12_col2\" class=\"data row12 col2\" >61.514226</td>\n      <td id=\"T_0a4ef_row12_col3\" class=\"data row12 col3\" >61.514226</td>\n      <td id=\"T_0a4ef_row12_col4\" class=\"data row12 col4\" >41.472883</td>\n      <td id=\"T_0a4ef_row12_col5\" class=\"data row12 col5\" >56.356011</td>\n    </tr>\n    <tr>\n      <th id=\"T_0a4ef_level0_row13\" class=\"row_heading level0 row13\" >SelectFromModel(estimator=LogisticRegression(), max_features=10)</th>\n      <td id=\"T_0a4ef_row13_col0\" class=\"data row13 col0\" >86.625631</td>\n      <td id=\"T_0a4ef_row13_col1\" class=\"data row13 col1\" >85.416626</td>\n      <td id=\"T_0a4ef_row13_col2\" class=\"data row13 col2\" >19.390719</td>\n      <td id=\"T_0a4ef_row13_col3\" class=\"data row13 col3\" >19.390719</td>\n      <td id=\"T_0a4ef_row13_col4\" class=\"data row13 col4\" >61.188234</td>\n      <td id=\"T_0a4ef_row13_col5\" class=\"data row13 col5\" >71.274119</td>\n    </tr>\n    <tr>\n      <th id=\"T_0a4ef_level0_row14\" class=\"row_heading level0 row14\" >SelectFromModel(estimator=LogisticRegression(), max_features=20)</th>\n      <td id=\"T_0a4ef_row14_col0\" class=\"data row14 col0\" >45.607017</td>\n      <td id=\"T_0a4ef_row14_col1\" class=\"data row14 col1\" >78.740079</td>\n      <td id=\"T_0a4ef_row14_col2\" class=\"data row14 col2\" >43.174066</td>\n      <td id=\"T_0a4ef_row14_col3\" class=\"data row14 col3\" >43.174066</td>\n      <td id=\"T_0a4ef_row14_col4\" class=\"data row14 col4\" >44.542115</td>\n      <td id=\"T_0a4ef_row14_col5\" class=\"data row14 col5\" >56.000000</td>\n    </tr>\n    <tr>\n      <th id=\"T_0a4ef_level0_row15\" class=\"row_heading level0 row15\" >SelectFromModel(estimator=LogisticRegression(), max_features=30)</th>\n      <td id=\"T_0a4ef_row15_col0\" class=\"data row15 col0\" >83.186537</td>\n      <td id=\"T_0a4ef_row15_col1\" class=\"data row15 col1\" >73.102668</td>\n      <td id=\"T_0a4ef_row15_col2\" class=\"data row15 col2\" >57.827329</td>\n      <td id=\"T_0a4ef_row15_col3\" class=\"data row15 col3\" >50.596443</td>\n      <td id=\"T_0a4ef_row15_col4\" class=\"data row15 col4\" >55.641711</td>\n      <td id=\"T_0a4ef_row15_col5\" class=\"data row15 col5\" >47.916594</td>\n    </tr>\n    <tr>\n      <th id=\"T_0a4ef_level0_row16\" class=\"row_heading level0 row16\" >SelectFromModel(estimator=RandomForestClassifier())</th>\n      <td id=\"T_0a4ef_row16_col0\" class=\"data row16 col0\" >255.060777</td>\n      <td id=\"T_0a4ef_row16_col1\" class=\"data row16 col1\" >225.353056</td>\n      <td id=\"T_0a4ef_row16_col2\" class=\"data row16 col2\" >281.609659</td>\n      <td id=\"T_0a4ef_row16_col3\" class=\"data row16 col3\" >211.792351</td>\n      <td id=\"T_0a4ef_row16_col4\" class=\"data row16 col4\" >186.483243</td>\n      <td id=\"T_0a4ef_row16_col5\" class=\"data row16 col5\" >291.794448</td>\n    </tr>\n    <tr>\n      <th id=\"T_0a4ef_level0_row17\" class=\"row_heading level0 row17\" >SelectFromModel(estimator=RandomForestClassifier(), max_features=3)</th>\n      <td id=\"T_0a4ef_row17_col0\" class=\"data row17 col0\" >57.758116</td>\n      <td id=\"T_0a4ef_row17_col1\" class=\"data row17 col1\" >69.455021</td>\n      <td id=\"T_0a4ef_row17_col2\" class=\"data row17 col2\" >62.737549</td>\n      <td id=\"T_0a4ef_row17_col3\" class=\"data row17 col3\" >46.043458</td>\n      <td id=\"T_0a4ef_row17_col4\" class=\"data row17 col4\" >36.110940</td>\n      <td id=\"T_0a4ef_row17_col5\" class=\"data row17 col5\" >29.393877</td>\n    </tr>\n    <tr>\n      <th id=\"T_0a4ef_level0_row18\" class=\"row_heading level0 row18\" >SelectFromModel(estimator=RandomForestClassifier(), max_features=5)</th>\n      <td id=\"T_0a4ef_row18_col0\" class=\"data row18 col0\" >40.000000</td>\n      <td id=\"T_0a4ef_row18_col1\" class=\"data row18 col1\" >56.920998</td>\n      <td id=\"T_0a4ef_row18_col2\" class=\"data row18 col2\" >46.733286</td>\n      <td id=\"T_0a4ef_row18_col3\" class=\"data row18 col3\" >44.542115</td>\n      <td id=\"T_0a4ef_row18_col4\" class=\"data row18 col4\" >56.356011</td>\n      <td id=\"T_0a4ef_row18_col5\" class=\"data row18 col5\" >48.414874</td>\n    </tr>\n    <tr>\n      <th id=\"T_0a4ef_level0_row19\" class=\"row_heading level0 row19\" >SelectFromModel(estimator=RandomForestClassifier(), max_features=10)</th>\n      <td id=\"T_0a4ef_row19_col0\" class=\"data row19 col0\" >26.381812</td>\n      <td id=\"T_0a4ef_row19_col1\" class=\"data row19 col1\" >82.121861</td>\n      <td id=\"T_0a4ef_row19_col2\" class=\"data row19 col2\" >19.390719</td>\n      <td id=\"T_0a4ef_row19_col3\" class=\"data row19 col3\" >14.966630</td>\n      <td id=\"T_0a4ef_row19_col4\" class=\"data row19 col4\" >16.248077</td>\n      <td id=\"T_0a4ef_row19_col5\" class=\"data row19 col5\" >37.094474</td>\n    </tr>\n    <tr>\n      <th id=\"T_0a4ef_level0_row20\" class=\"row_heading level0 row20\" >SelectFromModel(estimator=RandomForestClassifier(), max_features=20)</th>\n      <td id=\"T_0a4ef_row20_col0\" class=\"data row20 col0\" >42.237424</td>\n      <td id=\"T_0a4ef_row20_col1\" class=\"data row20 col1\" >73.212021</td>\n      <td id=\"T_0a4ef_row20_col2\" class=\"data row20 col2\" >36.000000</td>\n      <td id=\"T_0a4ef_row20_col3\" class=\"data row20 col3\" >49.396356</td>\n      <td id=\"T_0a4ef_row20_col4\" class=\"data row20 col4\" >64.992307</td>\n      <td id=\"T_0a4ef_row20_col5\" class=\"data row20 col5\" >27.276363</td>\n    </tr>\n    <tr>\n      <th id=\"T_0a4ef_level0_row21\" class=\"row_heading level0 row21\" >SelectFromModel(estimator=RandomForestClassifier(), max_features=30)</th>\n      <td id=\"T_0a4ef_row21_col0\" class=\"data row21 col0\" >41.761226</td>\n      <td id=\"T_0a4ef_row21_col1\" class=\"data row21 col1\" >46.303348</td>\n      <td id=\"T_0a4ef_row21_col2\" class=\"data row21 col2\" >40.199502</td>\n      <td id=\"T_0a4ef_row21_col3\" class=\"data row21 col3\" >68.293484</td>\n      <td id=\"T_0a4ef_row21_col4\" class=\"data row21 col4\" >39.698866</td>\n      <td id=\"T_0a4ef_row21_col5\" class=\"data row21 col5\" >76.262704</td>\n    </tr>\n  </tbody>\n</table>\n"
     },
     "execution_count": 39,
     "metadata": {},
     "output_type": "execute_result"
    }
   ],
   "source": [
    "std_results_dict = apply_transform_to_res(results_dict, np.std)\n",
    "std_df = pd.DataFrame(std_results_dict).T\n",
    "std_df.columns = [\"RF\", \"DT\", \"LogReg\", \"LDA\", \"QDA\", \"SVC-rbf\"]\n",
    "\n",
    "std_df.style.background_gradient(cmap=\"Reds\", axis=None)"
   ]
  },
  {
   "cell_type": "markdown",
   "source": [
    "## Experiments (StandardScaling)"
   ],
   "metadata": {
    "collapsed": false
   }
  },
  {
   "cell_type": "code",
   "outputs": [
    {
     "name": "stdout",
     "output_type": "stream",
     "text": [
      "Running on: RandomForestClassifier() and SelectKBest(k=3)\n",
      "Running on: DecisionTreeClassifier() and SelectKBest(k=3)\n",
      "Running on: LogisticRegression() and SelectKBest(k=3)\n",
      "Running on: LinearDiscriminantAnalysis() and SelectKBest(k=3)\n",
      "Running on: QuadraticDiscriminantAnalysis() and SelectKBest(k=3)\n",
      "Running on: SVC(probability=True) and SelectKBest(k=3)\n",
      "Running on: RandomForestClassifier() and SelectKBest(k=3, score_func=<function mutual_info_classif at 0x12f03c1f0>)\n"
     ]
    }
   ],
   "source": [
    "results_with_scaling_dict = run_grid_search_cv(feature_selector_grid_params, model_grid_params, X_train, y_train, profit_scoring, scaler=StandardScaler())"
   ],
   "metadata": {
    "collapsed": false,
    "is_executing": true,
    "ExecuteTime": {
     "start_time": "2024-05-26T14:54:31.147257Z"
    }
   },
   "execution_count": null
  },
  {
   "cell_type": "code",
   "outputs": [],
   "source": [
    "avg_results_with_scaling_dict = apply_transform_to_res(results_with_scaling_dict, np.mean)\n",
    "avg_with_scaling_df = pd.DataFrame(avg_results_with_scaling_dict).T\n",
    "avg_with_scaling_df.columns = [\"RF\", \"DT\", \"LogReg\", \"LDA\", \"QDA\", \"SVC-rbf\"]\n",
    "avg_with_scaling_df.style.background_gradient(cmap=\"Greens\", low=0.0, high=1.0, axis=None)"
   ],
   "metadata": {
    "collapsed": false,
    "is_executing": true
   },
   "execution_count": null
  },
  {
   "cell_type": "markdown",
   "metadata": {},
   "source": [
    "## Results Interpretation"
   ]
  },
  {
   "cell_type": "markdown",
   "metadata": {},
   "source": [
    "### Best models"
   ]
  },
  {
   "cell_type": "code",
   "execution_count": 72,
   "metadata": {
    "ExecuteTime": {
     "end_time": "2024-05-11T18:14:12.802690Z",
     "start_time": "2024-05-11T18:14:12.784576Z"
    }
   },
   "outputs": [
    {
     "data": {
      "text/plain": "RF         0.6884\nDT         0.5932\nLogReg     0.5196\nLDA        0.5186\nQDA        0.7404\nSVC-rbf    0.7170\ndtype: float64"
     },
     "execution_count": 72,
     "metadata": {},
     "output_type": "execute_result"
    }
   ],
   "source": [
    "avg_df.max()"
   ]
  },
  {
   "cell_type": "code",
   "execution_count": 73,
   "metadata": {
    "ExecuteTime": {
     "end_time": "2024-05-11T18:14:29.806663Z",
     "start_time": "2024-05-11T18:14:29.756316Z"
    }
   },
   "outputs": [
    {
     "data": {
      "text/plain": "                                                        RF      DT  LogReg  \\\nSelectFromModel(estimator=RandomForestClassifie...  0.6884  0.5932   0.508   \n\n                                                       LDA     QDA  SVC-rbf  \nSelectFromModel(estimator=RandomForestClassifie...  0.5054  0.7404    0.717  ",
      "text/html": "<div>\n<style scoped>\n    .dataframe tbody tr th:only-of-type {\n        vertical-align: middle;\n    }\n\n    .dataframe tbody tr th {\n        vertical-align: top;\n    }\n\n    .dataframe thead th {\n        text-align: right;\n    }\n</style>\n<table border=\"1\" class=\"dataframe\">\n  <thead>\n    <tr style=\"text-align: right;\">\n      <th></th>\n      <th>RF</th>\n      <th>DT</th>\n      <th>LogReg</th>\n      <th>LDA</th>\n      <th>QDA</th>\n      <th>SVC-rbf</th>\n    </tr>\n  </thead>\n  <tbody>\n    <tr>\n      <th>SelectFromModel(estimator=RandomForestClassifier(), max_features=10)</th>\n      <td>0.6884</td>\n      <td>0.5932</td>\n      <td>0.508</td>\n      <td>0.5054</td>\n      <td>0.7404</td>\n      <td>0.717</td>\n    </tr>\n  </tbody>\n</table>\n</div>"
     },
     "execution_count": 73,
     "metadata": {},
     "output_type": "execute_result"
    }
   ],
   "source": [
    "avg_df[avg_df[\"QDA\"] == avg_df.max()[\"QDA\"]]"
   ]
  },
  {
   "cell_type": "markdown",
   "metadata": {},
   "source": [
    "### Predictions generation"
   ]
  },
  {
   "cell_type": "code",
   "execution_count": 43,
   "metadata": {
    "ExecuteTime": {
     "end_time": "2024-05-11T17:26:17.468167Z",
     "start_time": "2024-05-11T17:26:17.413215Z"
    }
   },
   "outputs": [],
   "source": [
    "# todo: code that generates the predictions"
   ]
  }
 ],
 "metadata": {
  "kernelspec": {
   "display_name": "aml-feature-selection",
   "language": "python",
   "name": "aml-feature-selection"
  },
  "language_info": {
   "codemirror_mode": {
    "name": "ipython",
    "version": 3
   },
   "file_extension": ".py",
   "mimetype": "text/x-python",
   "name": "python",
   "nbconvert_exporter": "python",
   "pygments_lexer": "ipython3",
   "version": "3.9.16"
  }
 },
 "nbformat": 4,
 "nbformat_minor": 1
}
