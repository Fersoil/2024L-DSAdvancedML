{
  "nbformat": 4,
  "nbformat_minor": 0,
  "metadata": {
    "colab": {
      "provenance": []
    },
    "kernelspec": {
      "name": "python3",
      "display_name": "Python 3"
    },
    "language_info": {
      "name": "python"
    }
  },
  "cells": [
    {
      "cell_type": "code",
      "source": [
        "!pip install Boruta"
      ],
      "metadata": {
        "colab": {
          "base_uri": "https://localhost:8080/"
        },
        "id": "N_5-sqovpqel",
        "outputId": "913e0a7e-faf9-4124-c285-89289fcc56e2"
      },
      "execution_count": 1,
      "outputs": [
        {
          "output_type": "stream",
          "name": "stdout",
          "text": [
            "Collecting Boruta\n",
            "  Downloading Boruta-0.3-py3-none-any.whl (56 kB)\n",
            "\u001b[?25l     \u001b[90m━━━━━━━━━━━━━━━━━━━━━━━━━━━━━━━━━━━━━━━━\u001b[0m \u001b[32m0.0/56.6 kB\u001b[0m \u001b[31m?\u001b[0m eta \u001b[36m-:--:--\u001b[0m\r\u001b[2K     \u001b[91m━━━━━━━━━━━━━━━━━━━━━━━━━━━━━━━━━━━━\u001b[0m\u001b[90m╺\u001b[0m\u001b[90m━━━\u001b[0m \u001b[32m51.2/56.6 kB\u001b[0m \u001b[31m1.3 MB/s\u001b[0m eta \u001b[36m0:00:01\u001b[0m\r\u001b[2K     \u001b[90m━━━━━━━━━━━━━━━━━━━━━━━━━━━━━━━━━━━━━━━━\u001b[0m \u001b[32m56.6/56.6 kB\u001b[0m \u001b[31m939.7 kB/s\u001b[0m eta \u001b[36m0:00:00\u001b[0m\n",
            "\u001b[?25hRequirement already satisfied: numpy>=1.10.4 in /usr/local/lib/python3.10/dist-packages (from Boruta) (1.25.2)\n",
            "Requirement already satisfied: scikit-learn>=0.17.1 in /usr/local/lib/python3.10/dist-packages (from Boruta) (1.2.2)\n",
            "Requirement already satisfied: scipy>=0.17.0 in /usr/local/lib/python3.10/dist-packages (from Boruta) (1.11.4)\n",
            "Requirement already satisfied: joblib>=1.1.1 in /usr/local/lib/python3.10/dist-packages (from scikit-learn>=0.17.1->Boruta) (1.4.2)\n",
            "Requirement already satisfied: threadpoolctl>=2.0.0 in /usr/local/lib/python3.10/dist-packages (from scikit-learn>=0.17.1->Boruta) (3.5.0)\n",
            "Installing collected packages: Boruta\n",
            "Successfully installed Boruta-0.3\n"
          ]
        }
      ]
    },
    {
      "cell_type": "markdown",
      "source": [
        "To make this package work I had to change all \"numpy\" data types to \"normal\" data types in the boruta_py.py file. For example, change \"np.int\" to \"int\"."
      ],
      "metadata": {
        "id": "dUfFUnWT0ivl"
      }
    },
    {
      "cell_type": "code",
      "execution_count": 14,
      "metadata": {
        "id": "Ix9uQpopjAot"
      },
      "outputs": [],
      "source": [
        "import numpy as np\n",
        "from google.colab import files, drive\n",
        "from sklearn.preprocessing import StandardScaler\n",
        "from sklearn.model_selection import train_test_split\n",
        "from sklearn.ensemble import RandomForestClassifier\n",
        "from sklearn.linear_model import LogisticRegression\n",
        "from sklearn.neighbors import KNeighborsClassifier\n",
        "from sklearn.naive_bayes import GaussianNB\n",
        "from boruta import BorutaPy\n",
        "from xgboost import XGBClassifier"
      ]
    },
    {
      "cell_type": "code",
      "source": [
        "drive.mount('/content/drive')"
      ],
      "metadata": {
        "colab": {
          "base_uri": "https://localhost:8080/"
        },
        "id": "vxU3LjCbnimM",
        "outputId": "d0ce724a-44b2-40bf-9cb1-22fbdf6b5ba7"
      },
      "execution_count": 20,
      "outputs": [
        {
          "output_type": "stream",
          "name": "stdout",
          "text": [
            "Mounted at /content/drive\n"
          ]
        }
      ]
    },
    {
      "cell_type": "code",
      "source": [
        "data_path = '/content/drive/MyDrive/Studia/DS/Sem2/AML/Project2/Data'"
      ],
      "metadata": {
        "id": "zCzimgGqnj2d"
      },
      "execution_count": 2,
      "outputs": []
    },
    {
      "cell_type": "code",
      "source": [
        "X = np.loadtxt(data_path+'/x_train.txt')\n",
        "y = np.loadtxt(data_path+'/y_train.txt')\n",
        "test = np.loadtxt(data_path+'/x_test.txt')"
      ],
      "metadata": {
        "id": "6kns24wNnlPU"
      },
      "execution_count": 3,
      "outputs": []
    },
    {
      "cell_type": "code",
      "source": [
        "Xtrain, Xtest, ytrain, ytest = train_test_split(X,y, test_size=0.3)"
      ],
      "metadata": {
        "id": "MSeJLnVYqQz3"
      },
      "execution_count": 4,
      "outputs": []
    },
    {
      "cell_type": "markdown",
      "source": [
        "# Boruta algorithm\n",
        "It is described in AML_Committees_II_English.pdf from prof. Mielniczuk on Teams. I'm following the example from the repository with python implementation (package installed at the begining of this notebook). Achived 68% accuracy.  "
      ],
      "metadata": {
        "id": "X4gfrMJU1Rtf"
      }
    },
    {
      "cell_type": "code",
      "source": [
        "rf = RandomForestClassifier(n_jobs=-1, class_weight=None, max_depth=7, random_state=0)\n",
        "# Define Boruta feature selection method\n",
        "feat_selector = BorutaPy(rf, n_estimators='auto', verbose=2, random_state=0)"
      ],
      "metadata": {
        "id": "LhlVd_J8qJ_m"
      },
      "execution_count": 5,
      "outputs": []
    },
    {
      "cell_type": "code",
      "source": [
        "feat_selector.fit(Xtrain, ytrain)"
      ],
      "metadata": {
        "colab": {
          "base_uri": "https://localhost:8080/",
          "height": 1000
        },
        "id": "d2BIeyYeqrUG",
        "outputId": "ee0eace1-bd2f-4b23-fa7a-cd584d0691aa"
      },
      "execution_count": 6,
      "outputs": [
        {
          "output_type": "stream",
          "name": "stdout",
          "text": [
            "Iteration: \t1 / 100\n",
            "Confirmed: \t0\n",
            "Tentative: \t500\n",
            "Rejected: \t0\n",
            "Iteration: \t2 / 100\n",
            "Confirmed: \t0\n",
            "Tentative: \t500\n",
            "Rejected: \t0\n",
            "Iteration: \t3 / 100\n",
            "Confirmed: \t0\n",
            "Tentative: \t500\n",
            "Rejected: \t0\n",
            "Iteration: \t4 / 100\n",
            "Confirmed: \t0\n",
            "Tentative: \t500\n",
            "Rejected: \t0\n",
            "Iteration: \t5 / 100\n",
            "Confirmed: \t0\n",
            "Tentative: \t500\n",
            "Rejected: \t0\n",
            "Iteration: \t6 / 100\n",
            "Confirmed: \t0\n",
            "Tentative: \t500\n",
            "Rejected: \t0\n",
            "Iteration: \t7 / 100\n",
            "Confirmed: \t0\n",
            "Tentative: \t500\n",
            "Rejected: \t0\n",
            "Iteration: \t8 / 100\n",
            "Confirmed: \t0\n",
            "Tentative: \t18\n",
            "Rejected: \t482\n",
            "Iteration: \t9 / 100\n",
            "Confirmed: \t13\n",
            "Tentative: \t5\n",
            "Rejected: \t482\n",
            "Iteration: \t10 / 100\n",
            "Confirmed: \t13\n",
            "Tentative: \t5\n",
            "Rejected: \t482\n",
            "Iteration: \t11 / 100\n",
            "Confirmed: \t13\n",
            "Tentative: \t5\n",
            "Rejected: \t482\n",
            "Iteration: \t12 / 100\n",
            "Confirmed: \t13\n",
            "Tentative: \t5\n",
            "Rejected: \t482\n",
            "Iteration: \t13 / 100\n",
            "Confirmed: \t13\n",
            "Tentative: \t5\n",
            "Rejected: \t482\n",
            "Iteration: \t14 / 100\n",
            "Confirmed: \t13\n",
            "Tentative: \t5\n",
            "Rejected: \t482\n",
            "Iteration: \t15 / 100\n",
            "Confirmed: \t13\n",
            "Tentative: \t5\n",
            "Rejected: \t482\n",
            "Iteration: \t16 / 100\n",
            "Confirmed: \t13\n",
            "Tentative: \t5\n",
            "Rejected: \t482\n",
            "Iteration: \t17 / 100\n",
            "Confirmed: \t13\n",
            "Tentative: \t5\n",
            "Rejected: \t482\n",
            "Iteration: \t18 / 100\n",
            "Confirmed: \t13\n",
            "Tentative: \t5\n",
            "Rejected: \t482\n",
            "Iteration: \t19 / 100\n",
            "Confirmed: \t13\n",
            "Tentative: \t4\n",
            "Rejected: \t483\n",
            "Iteration: \t20 / 100\n",
            "Confirmed: \t13\n",
            "Tentative: \t4\n",
            "Rejected: \t483\n",
            "Iteration: \t21 / 100\n",
            "Confirmed: \t13\n",
            "Tentative: \t4\n",
            "Rejected: \t483\n",
            "Iteration: \t22 / 100\n",
            "Confirmed: \t13\n",
            "Tentative: \t4\n",
            "Rejected: \t483\n",
            "Iteration: \t23 / 100\n",
            "Confirmed: \t13\n",
            "Tentative: \t4\n",
            "Rejected: \t483\n",
            "Iteration: \t24 / 100\n",
            "Confirmed: \t13\n",
            "Tentative: \t4\n",
            "Rejected: \t483\n",
            "Iteration: \t25 / 100\n",
            "Confirmed: \t13\n",
            "Tentative: \t4\n",
            "Rejected: \t483\n",
            "Iteration: \t26 / 100\n",
            "Confirmed: \t13\n",
            "Tentative: \t4\n",
            "Rejected: \t483\n",
            "Iteration: \t27 / 100\n",
            "Confirmed: \t13\n",
            "Tentative: \t4\n",
            "Rejected: \t483\n",
            "Iteration: \t28 / 100\n",
            "Confirmed: \t13\n",
            "Tentative: \t4\n",
            "Rejected: \t483\n",
            "Iteration: \t29 / 100\n",
            "Confirmed: \t13\n",
            "Tentative: \t4\n",
            "Rejected: \t483\n",
            "Iteration: \t30 / 100\n",
            "Confirmed: \t13\n",
            "Tentative: \t4\n",
            "Rejected: \t483\n",
            "Iteration: \t31 / 100\n",
            "Confirmed: \t13\n",
            "Tentative: \t4\n",
            "Rejected: \t483\n",
            "Iteration: \t32 / 100\n",
            "Confirmed: \t13\n",
            "Tentative: \t4\n",
            "Rejected: \t483\n",
            "Iteration: \t33 / 100\n",
            "Confirmed: \t13\n",
            "Tentative: \t4\n",
            "Rejected: \t483\n",
            "Iteration: \t34 / 100\n",
            "Confirmed: \t13\n",
            "Tentative: \t4\n",
            "Rejected: \t483\n",
            "Iteration: \t35 / 100\n",
            "Confirmed: \t13\n",
            "Tentative: \t4\n",
            "Rejected: \t483\n",
            "Iteration: \t36 / 100\n",
            "Confirmed: \t13\n",
            "Tentative: \t4\n",
            "Rejected: \t483\n",
            "Iteration: \t37 / 100\n",
            "Confirmed: \t13\n",
            "Tentative: \t4\n",
            "Rejected: \t483\n",
            "Iteration: \t38 / 100\n",
            "Confirmed: \t13\n",
            "Tentative: \t4\n",
            "Rejected: \t483\n",
            "Iteration: \t39 / 100\n",
            "Confirmed: \t13\n",
            "Tentative: \t4\n",
            "Rejected: \t483\n",
            "Iteration: \t40 / 100\n",
            "Confirmed: \t13\n",
            "Tentative: \t4\n",
            "Rejected: \t483\n",
            "Iteration: \t41 / 100\n",
            "Confirmed: \t13\n",
            "Tentative: \t4\n",
            "Rejected: \t483\n",
            "Iteration: \t42 / 100\n",
            "Confirmed: \t13\n",
            "Tentative: \t4\n",
            "Rejected: \t483\n",
            "Iteration: \t43 / 100\n",
            "Confirmed: \t13\n",
            "Tentative: \t4\n",
            "Rejected: \t483\n",
            "Iteration: \t44 / 100\n",
            "Confirmed: \t13\n",
            "Tentative: \t4\n",
            "Rejected: \t483\n",
            "Iteration: \t45 / 100\n",
            "Confirmed: \t13\n",
            "Tentative: \t4\n",
            "Rejected: \t483\n",
            "Iteration: \t46 / 100\n",
            "Confirmed: \t13\n",
            "Tentative: \t4\n",
            "Rejected: \t483\n",
            "Iteration: \t47 / 100\n",
            "Confirmed: \t13\n",
            "Tentative: \t4\n",
            "Rejected: \t483\n",
            "Iteration: \t48 / 100\n",
            "Confirmed: \t13\n",
            "Tentative: \t4\n",
            "Rejected: \t483\n",
            "Iteration: \t49 / 100\n",
            "Confirmed: \t13\n",
            "Tentative: \t4\n",
            "Rejected: \t483\n",
            "Iteration: \t50 / 100\n",
            "Confirmed: \t13\n",
            "Tentative: \t4\n",
            "Rejected: \t483\n",
            "Iteration: \t51 / 100\n",
            "Confirmed: \t13\n",
            "Tentative: \t4\n",
            "Rejected: \t483\n",
            "Iteration: \t52 / 100\n",
            "Confirmed: \t13\n",
            "Tentative: \t4\n",
            "Rejected: \t483\n",
            "Iteration: \t53 / 100\n",
            "Confirmed: \t13\n",
            "Tentative: \t4\n",
            "Rejected: \t483\n",
            "Iteration: \t54 / 100\n",
            "Confirmed: \t13\n",
            "Tentative: \t4\n",
            "Rejected: \t483\n",
            "Iteration: \t55 / 100\n",
            "Confirmed: \t13\n",
            "Tentative: \t4\n",
            "Rejected: \t483\n",
            "Iteration: \t56 / 100\n",
            "Confirmed: \t13\n",
            "Tentative: \t4\n",
            "Rejected: \t483\n",
            "Iteration: \t57 / 100\n",
            "Confirmed: \t13\n",
            "Tentative: \t3\n",
            "Rejected: \t484\n",
            "Iteration: \t58 / 100\n",
            "Confirmed: \t13\n",
            "Tentative: \t3\n",
            "Rejected: \t484\n",
            "Iteration: \t59 / 100\n",
            "Confirmed: \t14\n",
            "Tentative: \t2\n",
            "Rejected: \t484\n",
            "Iteration: \t60 / 100\n",
            "Confirmed: \t14\n",
            "Tentative: \t2\n",
            "Rejected: \t484\n",
            "Iteration: \t61 / 100\n",
            "Confirmed: \t14\n",
            "Tentative: \t2\n",
            "Rejected: \t484\n",
            "Iteration: \t62 / 100\n",
            "Confirmed: \t14\n",
            "Tentative: \t1\n",
            "Rejected: \t485\n",
            "Iteration: \t63 / 100\n",
            "Confirmed: \t14\n",
            "Tentative: \t1\n",
            "Rejected: \t485\n",
            "Iteration: \t64 / 100\n",
            "Confirmed: \t14\n",
            "Tentative: \t1\n",
            "Rejected: \t485\n",
            "Iteration: \t65 / 100\n",
            "Confirmed: \t14\n",
            "Tentative: \t1\n",
            "Rejected: \t485\n",
            "Iteration: \t66 / 100\n",
            "Confirmed: \t14\n",
            "Tentative: \t1\n",
            "Rejected: \t485\n",
            "Iteration: \t67 / 100\n",
            "Confirmed: \t14\n",
            "Tentative: \t1\n",
            "Rejected: \t485\n",
            "Iteration: \t68 / 100\n",
            "Confirmed: \t14\n",
            "Tentative: \t1\n",
            "Rejected: \t485\n",
            "Iteration: \t69 / 100\n",
            "Confirmed: \t14\n",
            "Tentative: \t1\n",
            "Rejected: \t485\n",
            "Iteration: \t70 / 100\n",
            "Confirmed: \t14\n",
            "Tentative: \t1\n",
            "Rejected: \t485\n",
            "Iteration: \t71 / 100\n",
            "Confirmed: \t14\n",
            "Tentative: \t1\n",
            "Rejected: \t485\n",
            "Iteration: \t72 / 100\n",
            "Confirmed: \t14\n",
            "Tentative: \t1\n",
            "Rejected: \t485\n",
            "Iteration: \t73 / 100\n",
            "Confirmed: \t14\n",
            "Tentative: \t1\n",
            "Rejected: \t485\n",
            "Iteration: \t74 / 100\n",
            "Confirmed: \t14\n",
            "Tentative: \t1\n",
            "Rejected: \t485\n",
            "Iteration: \t75 / 100\n",
            "Confirmed: \t14\n",
            "Tentative: \t1\n",
            "Rejected: \t485\n",
            "Iteration: \t76 / 100\n",
            "Confirmed: \t14\n",
            "Tentative: \t1\n",
            "Rejected: \t485\n",
            "Iteration: \t77 / 100\n",
            "Confirmed: \t14\n",
            "Tentative: \t1\n",
            "Rejected: \t485\n",
            "Iteration: \t78 / 100\n",
            "Confirmed: \t14\n",
            "Tentative: \t1\n",
            "Rejected: \t485\n",
            "Iteration: \t79 / 100\n",
            "Confirmed: \t14\n",
            "Tentative: \t1\n",
            "Rejected: \t485\n",
            "Iteration: \t80 / 100\n",
            "Confirmed: \t14\n",
            "Tentative: \t1\n",
            "Rejected: \t485\n",
            "Iteration: \t81 / 100\n",
            "Confirmed: \t14\n",
            "Tentative: \t1\n",
            "Rejected: \t485\n",
            "Iteration: \t82 / 100\n",
            "Confirmed: \t14\n",
            "Tentative: \t1\n",
            "Rejected: \t485\n",
            "Iteration: \t83 / 100\n",
            "Confirmed: \t14\n",
            "Tentative: \t1\n",
            "Rejected: \t485\n",
            "Iteration: \t84 / 100\n",
            "Confirmed: \t14\n",
            "Tentative: \t1\n",
            "Rejected: \t485\n",
            "Iteration: \t85 / 100\n",
            "Confirmed: \t14\n",
            "Tentative: \t1\n",
            "Rejected: \t485\n",
            "Iteration: \t86 / 100\n",
            "Confirmed: \t14\n",
            "Tentative: \t1\n",
            "Rejected: \t485\n",
            "Iteration: \t87 / 100\n",
            "Confirmed: \t14\n",
            "Tentative: \t1\n",
            "Rejected: \t485\n",
            "Iteration: \t88 / 100\n",
            "Confirmed: \t14\n",
            "Tentative: \t1\n",
            "Rejected: \t485\n",
            "Iteration: \t89 / 100\n",
            "Confirmed: \t14\n",
            "Tentative: \t1\n",
            "Rejected: \t485\n",
            "Iteration: \t90 / 100\n",
            "Confirmed: \t14\n",
            "Tentative: \t1\n",
            "Rejected: \t485\n",
            "Iteration: \t91 / 100\n",
            "Confirmed: \t14\n",
            "Tentative: \t1\n",
            "Rejected: \t485\n",
            "Iteration: \t92 / 100\n",
            "Confirmed: \t14\n",
            "Tentative: \t1\n",
            "Rejected: \t485\n",
            "Iteration: \t93 / 100\n",
            "Confirmed: \t14\n",
            "Tentative: \t1\n",
            "Rejected: \t485\n",
            "Iteration: \t94 / 100\n",
            "Confirmed: \t14\n",
            "Tentative: \t1\n",
            "Rejected: \t485\n",
            "Iteration: \t95 / 100\n",
            "Confirmed: \t14\n",
            "Tentative: \t1\n",
            "Rejected: \t485\n",
            "Iteration: \t96 / 100\n",
            "Confirmed: \t14\n",
            "Tentative: \t1\n",
            "Rejected: \t485\n",
            "Iteration: \t97 / 100\n",
            "Confirmed: \t14\n",
            "Tentative: \t1\n",
            "Rejected: \t485\n",
            "Iteration: \t98 / 100\n",
            "Confirmed: \t14\n",
            "Tentative: \t1\n",
            "Rejected: \t485\n",
            "Iteration: \t99 / 100\n",
            "Confirmed: \t14\n",
            "Tentative: \t1\n",
            "Rejected: \t485\n",
            "\n",
            "\n",
            "BorutaPy finished running.\n",
            "\n",
            "Iteration: \t100 / 100\n",
            "Confirmed: \t14\n",
            "Tentative: \t0\n",
            "Rejected: \t485\n"
          ]
        },
        {
          "output_type": "execute_result",
          "data": {
            "text/plain": [
              "BorutaPy(estimator=RandomForestClassifier(max_depth=7, n_estimators=78,\n",
              "                                          n_jobs=-1,\n",
              "                                          random_state=RandomState(MT19937) at 0x7B2188D46240),\n",
              "         n_estimators='auto',\n",
              "         random_state=RandomState(MT19937) at 0x7B2188D46240, verbose=2)"
            ],
            "text/html": [
              "<style>#sk-container-id-1 {color: black;background-color: white;}#sk-container-id-1 pre{padding: 0;}#sk-container-id-1 div.sk-toggleable {background-color: white;}#sk-container-id-1 label.sk-toggleable__label {cursor: pointer;display: block;width: 100%;margin-bottom: 0;padding: 0.3em;box-sizing: border-box;text-align: center;}#sk-container-id-1 label.sk-toggleable__label-arrow:before {content: \"▸\";float: left;margin-right: 0.25em;color: #696969;}#sk-container-id-1 label.sk-toggleable__label-arrow:hover:before {color: black;}#sk-container-id-1 div.sk-estimator:hover label.sk-toggleable__label-arrow:before {color: black;}#sk-container-id-1 div.sk-toggleable__content {max-height: 0;max-width: 0;overflow: hidden;text-align: left;background-color: #f0f8ff;}#sk-container-id-1 div.sk-toggleable__content pre {margin: 0.2em;color: black;border-radius: 0.25em;background-color: #f0f8ff;}#sk-container-id-1 input.sk-toggleable__control:checked~div.sk-toggleable__content {max-height: 200px;max-width: 100%;overflow: auto;}#sk-container-id-1 input.sk-toggleable__control:checked~label.sk-toggleable__label-arrow:before {content: \"▾\";}#sk-container-id-1 div.sk-estimator input.sk-toggleable__control:checked~label.sk-toggleable__label {background-color: #d4ebff;}#sk-container-id-1 div.sk-label input.sk-toggleable__control:checked~label.sk-toggleable__label {background-color: #d4ebff;}#sk-container-id-1 input.sk-hidden--visually {border: 0;clip: rect(1px 1px 1px 1px);clip: rect(1px, 1px, 1px, 1px);height: 1px;margin: -1px;overflow: hidden;padding: 0;position: absolute;width: 1px;}#sk-container-id-1 div.sk-estimator {font-family: monospace;background-color: #f0f8ff;border: 1px dotted black;border-radius: 0.25em;box-sizing: border-box;margin-bottom: 0.5em;}#sk-container-id-1 div.sk-estimator:hover {background-color: #d4ebff;}#sk-container-id-1 div.sk-parallel-item::after {content: \"\";width: 100%;border-bottom: 1px solid gray;flex-grow: 1;}#sk-container-id-1 div.sk-label:hover label.sk-toggleable__label {background-color: #d4ebff;}#sk-container-id-1 div.sk-serial::before {content: \"\";position: absolute;border-left: 1px solid gray;box-sizing: border-box;top: 0;bottom: 0;left: 50%;z-index: 0;}#sk-container-id-1 div.sk-serial {display: flex;flex-direction: column;align-items: center;background-color: white;padding-right: 0.2em;padding-left: 0.2em;position: relative;}#sk-container-id-1 div.sk-item {position: relative;z-index: 1;}#sk-container-id-1 div.sk-parallel {display: flex;align-items: stretch;justify-content: center;background-color: white;position: relative;}#sk-container-id-1 div.sk-item::before, #sk-container-id-1 div.sk-parallel-item::before {content: \"\";position: absolute;border-left: 1px solid gray;box-sizing: border-box;top: 0;bottom: 0;left: 50%;z-index: -1;}#sk-container-id-1 div.sk-parallel-item {display: flex;flex-direction: column;z-index: 1;position: relative;background-color: white;}#sk-container-id-1 div.sk-parallel-item:first-child::after {align-self: flex-end;width: 50%;}#sk-container-id-1 div.sk-parallel-item:last-child::after {align-self: flex-start;width: 50%;}#sk-container-id-1 div.sk-parallel-item:only-child::after {width: 0;}#sk-container-id-1 div.sk-dashed-wrapped {border: 1px dashed gray;margin: 0 0.4em 0.5em 0.4em;box-sizing: border-box;padding-bottom: 0.4em;background-color: white;}#sk-container-id-1 div.sk-label label {font-family: monospace;font-weight: bold;display: inline-block;line-height: 1.2em;}#sk-container-id-1 div.sk-label-container {text-align: center;}#sk-container-id-1 div.sk-container {/* jupyter's `normalize.less` sets `[hidden] { display: none; }` but bootstrap.min.css set `[hidden] { display: none !important; }` so we also need the `!important` here to be able to override the default hidden behavior on the sphinx rendered scikit-learn.org. See: https://github.com/scikit-learn/scikit-learn/issues/21755 */display: inline-block !important;position: relative;}#sk-container-id-1 div.sk-text-repr-fallback {display: none;}</style><div id=\"sk-container-id-1\" class=\"sk-top-container\"><div class=\"sk-text-repr-fallback\"><pre>BorutaPy(estimator=RandomForestClassifier(max_depth=7, n_estimators=78,\n",
              "                                          n_jobs=-1,\n",
              "                                          random_state=RandomState(MT19937) at 0x7B2188D46240),\n",
              "         n_estimators=&#x27;auto&#x27;,\n",
              "         random_state=RandomState(MT19937) at 0x7B2188D46240, verbose=2)</pre><b>In a Jupyter environment, please rerun this cell to show the HTML representation or trust the notebook. <br />On GitHub, the HTML representation is unable to render, please try loading this page with nbviewer.org.</b></div><div class=\"sk-container\" hidden><div class=\"sk-item sk-dashed-wrapped\"><div class=\"sk-label-container\"><div class=\"sk-label sk-toggleable\"><input class=\"sk-toggleable__control sk-hidden--visually\" id=\"sk-estimator-id-1\" type=\"checkbox\" ><label for=\"sk-estimator-id-1\" class=\"sk-toggleable__label sk-toggleable__label-arrow\">BorutaPy</label><div class=\"sk-toggleable__content\"><pre>BorutaPy(estimator=RandomForestClassifier(max_depth=7, n_estimators=78,\n",
              "                                          n_jobs=-1,\n",
              "                                          random_state=RandomState(MT19937) at 0x7B2188D46240),\n",
              "         n_estimators=&#x27;auto&#x27;,\n",
              "         random_state=RandomState(MT19937) at 0x7B2188D46240, verbose=2)</pre></div></div></div><div class=\"sk-parallel\"><div class=\"sk-parallel-item\"><div class=\"sk-item\"><div class=\"sk-label-container\"><div class=\"sk-label sk-toggleable\"><input class=\"sk-toggleable__control sk-hidden--visually\" id=\"sk-estimator-id-2\" type=\"checkbox\" ><label for=\"sk-estimator-id-2\" class=\"sk-toggleable__label sk-toggleable__label-arrow\">estimator: RandomForestClassifier</label><div class=\"sk-toggleable__content\"><pre>RandomForestClassifier(max_depth=7, n_estimators=78, n_jobs=-1,\n",
              "                       random_state=RandomState(MT19937) at 0x7B2188D46240)</pre></div></div></div><div class=\"sk-serial\"><div class=\"sk-item\"><div class=\"sk-estimator sk-toggleable\"><input class=\"sk-toggleable__control sk-hidden--visually\" id=\"sk-estimator-id-3\" type=\"checkbox\" ><label for=\"sk-estimator-id-3\" class=\"sk-toggleable__label sk-toggleable__label-arrow\">RandomForestClassifier</label><div class=\"sk-toggleable__content\"><pre>RandomForestClassifier(max_depth=7, n_estimators=78, n_jobs=-1,\n",
              "                       random_state=RandomState(MT19937) at 0x7B2188D46240)</pre></div></div></div></div></div></div></div></div></div></div>"
            ]
          },
          "metadata": {},
          "execution_count": 6
        }
      ]
    },
    {
      "cell_type": "code",
      "source": [
        "Xtrain_boruta = feat_selector.transform(Xtrain)\n",
        "Xtest_boruta = feat_selector.transform(Xtest)"
      ],
      "metadata": {
        "id": "JE0Ob4lgyPzR"
      },
      "execution_count": 7,
      "outputs": []
    },
    {
      "cell_type": "code",
      "source": [
        "rf = RandomForestClassifier(n_jobs=-1, class_weight=None, max_depth=7, random_state=0)\n",
        "rf.fit(Xtrain_boruta, ytrain)\n",
        "rf.score(Xtest_boruta, ytest)"
      ],
      "metadata": {
        "colab": {
          "base_uri": "https://localhost:8080/"
        },
        "id": "yXVNRR9Ryf--",
        "outputId": "650b7a47-b358-491e-e385-951a236f2c9c"
      },
      "execution_count": 11,
      "outputs": [
        {
          "output_type": "execute_result",
          "data": {
            "text/plain": [
              "0.6753333333333333"
            ]
          },
          "metadata": {},
          "execution_count": 11
        }
      ]
    },
    {
      "cell_type": "code",
      "source": [
        "knn = KNeighborsClassifier()\n",
        "logreg2 = LogisticRegression(max_iter=100000)\n",
        "logreg1 = LogisticRegression(penalty=\"l1\", max_iter=100000, solver=\"liblinear\")\n",
        "nb = GaussianNB()\n",
        "xgb = XGBClassifier()\n",
        "forest = RandomForestClassifier()\n",
        "classifiers = {\"knn\": knn, \"logreg1\": logreg1, \"logreg2\": logreg2, \"nb\": nb, \"forest\": forest, \"xgb\": xgb}"
      ],
      "metadata": {
        "id": "xwIEzwcFzhck"
      },
      "execution_count": 19,
      "outputs": []
    },
    {
      "cell_type": "code",
      "source": [
        "for key,value in classifiers.items():\n",
        "  value.fit(Xtrain_boruta, ytrain)\n",
        "  print(f\"{key} accuracy: {value.score(Xtest_boruta, ytest)}\")"
      ],
      "metadata": {
        "colab": {
          "base_uri": "https://localhost:8080/"
        },
        "id": "A_S70_eVz2Yn",
        "outputId": "846cc28e-2814-452e-de80-fd170df3b275"
      },
      "execution_count": 20,
      "outputs": [
        {
          "output_type": "stream",
          "name": "stdout",
          "text": [
            "knn accuracy: 0.6\n",
            "logreg1 accuracy: 0.49066666666666664\n",
            "logreg2 accuracy: 0.49133333333333334\n",
            "nb accuracy: 0.6386666666666667\n",
            "forest accuracy: 0.6853333333333333\n",
            "xgb accuracy: 0.6653333333333333\n"
          ]
        }
      ]
    }
  ]
}