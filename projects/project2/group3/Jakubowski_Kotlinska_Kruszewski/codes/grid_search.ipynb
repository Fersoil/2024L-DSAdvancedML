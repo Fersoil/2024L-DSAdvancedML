{
 "cells": [
  {
   "cell_type": "markdown",
   "metadata": {},
   "source": [
    "# Ploting grid search results"
   ]
  },
  {
   "cell_type": "code",
   "execution_count": 1,
   "metadata": {},
   "outputs": [],
   "source": [
    "import numpy as np\n",
    "import pandas as pd\n",
    "from evaluation import evaluate\n",
    "from sklearn.ensemble import RandomForestClassifier, ExtraTreesClassifier"
   ]
  },
  {
   "cell_type": "code",
   "execution_count": 2,
   "metadata": {},
   "outputs": [],
   "source": [
    "X_train = pd.read_csv('data/x_train.txt', header=None, delim_whitespace=True)\n",
    "y_train = pd.read_csv('data/y_train.txt', header=None, delim_whitespace=True)\n",
    "X_test = pd.read_csv('data/x_test.txt', header=None, delim_whitespace=True)\n",
    "y_train = np.array(y_train).ravel()"
   ]
  },
  {
   "cell_type": "code",
   "execution_count": 3,
   "metadata": {},
   "outputs": [],
   "source": [
    "X_train = X_train[[101, 102, 103, 105]]"
   ]
  },
  {
   "cell_type": "code",
   "execution_count": 4,
   "metadata": {},
   "outputs": [],
   "source": [
    "from sklearn.preprocessing import StandardScaler\n",
    "X_train_scaled = StandardScaler().fit_transform(X_train)"
   ]
  },
  {
   "cell_type": "markdown",
   "metadata": {},
   "source": [
    "## Models comparison"
   ]
  },
  {
   "cell_type": "code",
   "execution_count": 5,
   "metadata": {},
   "outputs": [
    {
     "name": "stdout",
     "output_type": "stream",
     "text": [
      "Number of customers who took the offer:  138\n",
      "Number of variables used:  4\n",
      "Number of customers who took the offer:  145\n",
      "Number of variables used:  4\n",
      "Number of customers who took the offer:  137\n",
      "Number of variables used:  4\n",
      "Number of customers who took the offer:  148\n",
      "Number of variables used:  4\n",
      "Number of customers who took the offer:  137\n",
      "Number of variables used:  4\n",
      "Number of customers who took the offer:  137\n",
      "Number of variables used:  4\n",
      "Number of customers who took the offer:  146\n",
      "Number of variables used:  4\n",
      "Number of customers who took the offer:  144\n",
      "Number of variables used:  4\n",
      "Number of customers who took the offer:  144\n",
      "Number of variables used:  4\n",
      "Number of customers who took the offer:  144\n",
      "Number of variables used:  4\n",
      "Number of customers who took the offer:  151\n",
      "Number of variables used:  4\n",
      "Number of customers who took the offer:  147\n",
      "Number of variables used:  4\n",
      "Number of customers who took the offer:  160\n",
      "Number of variables used:  4\n",
      "Number of customers who took the offer:  154\n",
      "Number of variables used:  4\n",
      "Number of customers who took the offer:  162\n",
      "Number of variables used:  4\n",
      "Number of customers who took the offer:  141\n",
      "Number of variables used:  4\n",
      "Number of customers who took the offer:  140\n",
      "Number of variables used:  4\n",
      "Number of customers who took the offer:  143\n",
      "Number of variables used:  4\n",
      "Number of customers who took the offer:  141\n",
      "Number of variables used:  4\n",
      "Number of customers who took the offer:  139\n",
      "Number of variables used:  4\n"
     ]
    },
    {
     "name": "stderr",
     "output_type": "stream",
     "text": [
      "c:\\Users\\Janek\\anaconda3\\envs\\test\\lib\\site-packages\\sklearn\\neural_network\\_multilayer_perceptron.py:691: ConvergenceWarning: Stochastic Optimizer: Maximum iterations (200) reached and the optimization hasn't converged yet.\n",
      "  warnings.warn(\n"
     ]
    },
    {
     "name": "stdout",
     "output_type": "stream",
     "text": [
      "Number of customers who took the offer:  147\n",
      "Number of variables used:  4\n",
      "Number of customers who took the offer:  150\n",
      "Number of variables used:  4\n",
      "Number of customers who took the offer:  152\n",
      "Number of variables used:  4\n",
      "Number of customers who took the offer:  159\n",
      "Number of variables used:  4\n"
     ]
    },
    {
     "name": "stderr",
     "output_type": "stream",
     "text": [
      "c:\\Users\\Janek\\anaconda3\\envs\\test\\lib\\site-packages\\sklearn\\neural_network\\_multilayer_perceptron.py:691: ConvergenceWarning: Stochastic Optimizer: Maximum iterations (200) reached and the optimization hasn't converged yet.\n",
      "  warnings.warn(\n"
     ]
    },
    {
     "name": "stdout",
     "output_type": "stream",
     "text": [
      "Number of customers who took the offer:  155\n",
      "Number of variables used:  4\n",
      "Number of customers who took the offer:  147\n",
      "Number of variables used:  4\n",
      "Number of customers who took the offer:  146\n",
      "Number of variables used:  4\n",
      "Number of customers who took the offer:  152\n",
      "Number of variables used:  4\n",
      "Number of customers who took the offer:  158\n",
      "Number of variables used:  4\n",
      "Number of customers who took the offer:  159\n",
      "Number of variables used:  4\n",
      "[LightGBM] [Info] Number of positive: 1997, number of negative: 2003\n",
      "[LightGBM] [Info] Auto-choosing col-wise multi-threading, the overhead of testing was 0.000113 seconds.\n",
      "You can set `force_col_wise=true` to remove the overhead.\n",
      "[LightGBM] [Info] Total Bins 1020\n",
      "[LightGBM] [Info] Number of data points in the train set: 4000, number of used features: 4\n",
      "[LightGBM] [Info] [binary:BoostFromScore]: pavg=0.499250 -> initscore=-0.003000\n",
      "[LightGBM] [Info] Start training from score -0.003000\n",
      "Number of customers who took the offer:  142\n",
      "Number of variables used:  4\n",
      "[LightGBM] [Info] Number of positive: 1997, number of negative: 2003\n",
      "[LightGBM] [Info] Auto-choosing col-wise multi-threading, the overhead of testing was 0.000086 seconds.\n",
      "You can set `force_col_wise=true` to remove the overhead.\n",
      "[LightGBM] [Info] Total Bins 1020\n",
      "[LightGBM] [Info] Number of data points in the train set: 4000, number of used features: 4\n",
      "[LightGBM] [Info] [binary:BoostFromScore]: pavg=0.499250 -> initscore=-0.003000\n",
      "[LightGBM] [Info] Start training from score -0.003000\n",
      "Number of customers who took the offer:  146\n",
      "Number of variables used:  4\n",
      "[LightGBM] [Info] Number of positive: 1997, number of negative: 2003\n",
      "[LightGBM] [Info] Auto-choosing col-wise multi-threading, the overhead of testing was 0.000096 seconds.\n",
      "You can set `force_col_wise=true` to remove the overhead.\n",
      "[LightGBM] [Info] Total Bins 1020\n",
      "[LightGBM] [Info] Number of data points in the train set: 4000, number of used features: 4\n",
      "[LightGBM] [Info] [binary:BoostFromScore]: pavg=0.499250 -> initscore=-0.003000\n",
      "[LightGBM] [Info] Start training from score -0.003000\n",
      "Number of customers who took the offer:  147\n",
      "Number of variables used:  4\n",
      "[LightGBM] [Info] Number of positive: 1997, number of negative: 2003\n",
      "[LightGBM] [Info] Auto-choosing col-wise multi-threading, the overhead of testing was 0.000091 seconds.\n",
      "You can set `force_col_wise=true` to remove the overhead.\n",
      "[LightGBM] [Info] Total Bins 1020\n",
      "[LightGBM] [Info] Number of data points in the train set: 4000, number of used features: 4\n",
      "[LightGBM] [Info] [binary:BoostFromScore]: pavg=0.499250 -> initscore=-0.003000\n",
      "[LightGBM] [Info] Start training from score -0.003000\n",
      "Number of customers who took the offer:  152\n",
      "Number of variables used:  4\n",
      "[LightGBM] [Info] Number of positive: 1996, number of negative: 2004\n",
      "[LightGBM] [Info] Auto-choosing col-wise multi-threading, the overhead of testing was 0.000096 seconds.\n",
      "You can set `force_col_wise=true` to remove the overhead.\n",
      "[LightGBM] [Info] Total Bins 1020\n",
      "[LightGBM] [Info] Number of data points in the train set: 4000, number of used features: 4\n",
      "[LightGBM] [Info] [binary:BoostFromScore]: pavg=0.499000 -> initscore=-0.004000\n",
      "[LightGBM] [Info] Start training from score -0.004000\n",
      "Number of customers who took the offer:  141\n",
      "Number of variables used:  4\n"
     ]
    }
   ],
   "source": [
    "from sklearn.model_selection import cross_val_score, KFold\n",
    "#RandomForest\n",
    "rf = RandomForestClassifier()\n",
    "rf_scores = cross_val_score(rf, X_train_scaled, y_train, cv=5, scoring=evaluate)\n",
    "\n",
    "#ExtraTrees\n",
    "et = ExtraTreesClassifier()\n",
    "et_scores = cross_val_score(et, X_train_scaled, y_train, cv=5, scoring=evaluate)\n",
    "\n",
    "#QDA\n",
    "from sklearn.discriminant_analysis import QuadraticDiscriminantAnalysis\n",
    "qda = QuadraticDiscriminantAnalysis()\n",
    "qda_scores = cross_val_score(qda, X_train_scaled, y_train, cv=5, scoring=evaluate)\n",
    "\n",
    "#XGBoost\n",
    "from xgboost import XGBClassifier\n",
    "xgb = XGBClassifier()\n",
    "xgb_scores = cross_val_score(xgb, X_train_scaled, y_train, cv=5, scoring=evaluate)\n",
    "\n",
    "#MLP\n",
    "from sklearn.neural_network import MLPClassifier\n",
    "mlp = MLPClassifier()\n",
    "mlp_scores = cross_val_score(mlp, X_train_scaled, y_train, cv=5, scoring=evaluate)\n",
    "\n",
    "#SVM\n",
    "from sklearn.svm import SVC\n",
    "svm = SVC(probability=True)\n",
    "svm_scores = cross_val_score(svm, X_train_scaled, y_train, cv=5, scoring=evaluate)\n",
    "\n",
    "#LGBM\n",
    "from lightgbm import LGBMClassifier\n",
    "lgbm = LGBMClassifier()\n",
    "lgbm_scores = cross_val_score(lgbm, X_train_scaled, y_train, cv=5, scoring=evaluate)\n",
    "\n",
    "df = pd.DataFrame({'RandomForest': rf_scores, 'ExtraTrees': et_scores, 'QDA': qda_scores, 'XGBoost': xgb_scores, 'MLP': mlp_scores, 'SVM': svm_scores, 'LGBM': lgbm_scores})"
   ]
  },
  {
   "cell_type": "code",
   "execution_count": 6,
   "metadata": {},
   "outputs": [
    {
     "data": {
      "text/html": [
       "<div>\n",
       "<style scoped>\n",
       "    .dataframe tbody tr th:only-of-type {\n",
       "        vertical-align: middle;\n",
       "    }\n",
       "\n",
       "    .dataframe tbody tr th {\n",
       "        vertical-align: top;\n",
       "    }\n",
       "\n",
       "    .dataframe thead th {\n",
       "        text-align: right;\n",
       "    }\n",
       "</style>\n",
       "<table border=\"1\" class=\"dataframe\">\n",
       "  <thead>\n",
       "    <tr style=\"text-align: right;\">\n",
       "      <th></th>\n",
       "      <th>RandomForest</th>\n",
       "      <th>ExtraTrees</th>\n",
       "      <th>QDA</th>\n",
       "      <th>XGBoost</th>\n",
       "      <th>MLP</th>\n",
       "      <th>SVM</th>\n",
       "      <th>LGBM</th>\n",
       "    </tr>\n",
       "  </thead>\n",
       "  <tbody>\n",
       "    <tr>\n",
       "      <th>0</th>\n",
       "      <td>6100.0</td>\n",
       "      <td>6050.0</td>\n",
       "      <td>6750.0</td>\n",
       "      <td>6250.0</td>\n",
       "      <td>6550.0</td>\n",
       "      <td>6550.0</td>\n",
       "      <td>6300.0</td>\n",
       "    </tr>\n",
       "    <tr>\n",
       "      <th>1</th>\n",
       "      <td>6450.0</td>\n",
       "      <td>6500.0</td>\n",
       "      <td>6550.0</td>\n",
       "      <td>6200.0</td>\n",
       "      <td>6700.0</td>\n",
       "      <td>6500.0</td>\n",
       "      <td>6500.0</td>\n",
       "    </tr>\n",
       "    <tr>\n",
       "      <th>2</th>\n",
       "      <td>6050.0</td>\n",
       "      <td>6400.0</td>\n",
       "      <td>7200.0</td>\n",
       "      <td>6350.0</td>\n",
       "      <td>6800.0</td>\n",
       "      <td>6800.0</td>\n",
       "      <td>6550.0</td>\n",
       "    </tr>\n",
       "    <tr>\n",
       "      <th>3</th>\n",
       "      <td>6600.0</td>\n",
       "      <td>6400.0</td>\n",
       "      <td>6900.0</td>\n",
       "      <td>6250.0</td>\n",
       "      <td>7150.0</td>\n",
       "      <td>7100.0</td>\n",
       "      <td>6800.0</td>\n",
       "    </tr>\n",
       "    <tr>\n",
       "      <th>4</th>\n",
       "      <td>6050.0</td>\n",
       "      <td>6400.0</td>\n",
       "      <td>7300.0</td>\n",
       "      <td>6150.0</td>\n",
       "      <td>6950.0</td>\n",
       "      <td>7150.0</td>\n",
       "      <td>6250.0</td>\n",
       "    </tr>\n",
       "  </tbody>\n",
       "</table>\n",
       "</div>"
      ],
      "text/plain": [
       "   RandomForest  ExtraTrees     QDA  XGBoost     MLP     SVM    LGBM\n",
       "0        6100.0      6050.0  6750.0   6250.0  6550.0  6550.0  6300.0\n",
       "1        6450.0      6500.0  6550.0   6200.0  6700.0  6500.0  6500.0\n",
       "2        6050.0      6400.0  7200.0   6350.0  6800.0  6800.0  6550.0\n",
       "3        6600.0      6400.0  6900.0   6250.0  7150.0  7100.0  6800.0\n",
       "4        6050.0      6400.0  7300.0   6150.0  6950.0  7150.0  6250.0"
      ]
     },
     "execution_count": 6,
     "metadata": {},
     "output_type": "execute_result"
    }
   ],
   "source": [
    "df"
   ]
  },
  {
   "cell_type": "code",
   "execution_count": 7,
   "metadata": {},
   "outputs": [
    {
     "data": {
      "image/png": "[encoded data removed]",
      "text/plain": [
       "<Figure size 1200x600 with 1 Axes>"
      ]
     },
     "metadata": {},
     "output_type": "display_data"
    }
   ],
   "source": [
    "import seaborn as sns\n",
    "import matplotlib.pyplot as plt\n",
    "plt.figure(figsize=(12, 6))\n",
    "sns.boxplot(data=df, color='#5975a4')\n",
    "\n",
    "sns.set(font_scale=1.2, style='darkgrid')\n",
    "\n",
    "plt.show()"
   ]
  },
  {
   "cell_type": "markdown",
   "metadata": {},
   "source": [
    "## SVM grid search results"
   ]
  },
  {
   "cell_type": "code",
   "execution_count": 8,
   "metadata": {},
   "outputs": [
    {
     "data": {
      "text/plain": [
       "(1568, 21)"
      ]
     },
     "execution_count": 8,
     "metadata": {},
     "output_type": "execute_result"
    }
   ],
   "source": [
    "df = pd.read_csv('data/svm_final_6.csv')\n",
    "df.sort_values('rank_test_score', inplace=True)\n",
    "df.shape"
   ]
  },
  {
   "cell_type": "code",
   "execution_count": 9,
   "metadata": {},
   "outputs": [],
   "source": [
    "best_svm = df[['params', 'split0_test_score', 'split1_test_score', 'split2_test_score', 'split3_test_score', 'split4_test_score', 'mean_test_score']].iloc[0]"
   ]
  },
  {
   "cell_type": "code",
   "execution_count": 10,
   "metadata": {},
   "outputs": [],
   "source": [
    "top_10 = df.iloc[:15][['params','split0_test_score', 'split1_test_score', 'split2_test_score', 'split3_test_score', 'split4_test_score']]\n",
    "elements = [0, 150, 1000, 1400, 1510, 1567]\n",
    "random_10 = df.iloc[elements]"
   ]
  },
  {
   "cell_type": "code",
   "execution_count": 11,
   "metadata": {},
   "outputs": [
    {
     "data": {
      "text/html": [
       "<div>\n",
       "<style scoped>\n",
       "    .dataframe tbody tr th:only-of-type {\n",
       "        vertical-align: middle;\n",
       "    }\n",
       "\n",
       "    .dataframe tbody tr th {\n",
       "        vertical-align: top;\n",
       "    }\n",
       "\n",
       "    .dataframe thead th {\n",
       "        text-align: right;\n",
       "    }\n",
       "</style>\n",
       "<table border=\"1\" class=\"dataframe\">\n",
       "  <thead>\n",
       "    <tr style=\"text-align: right;\">\n",
       "      <th></th>\n",
       "      <th>params</th>\n",
       "      <th>mean_test_score</th>\n",
       "    </tr>\n",
       "  </thead>\n",
       "  <tbody>\n",
       "    <tr>\n",
       "      <th>134</th>\n",
       "      <td>{'C': 5e-05, 'coef0': 2, 'degree': 2, 'gamma':...</td>\n",
       "      <td>7060.0</td>\n",
       "    </tr>\n",
       "    <tr>\n",
       "      <th>527</th>\n",
       "      <td>{'C': 0.0001, 'coef0': 1.5, 'degree': 2, 'gamm...</td>\n",
       "      <td>7010.0</td>\n",
       "    </tr>\n",
       "    <tr>\n",
       "      <th>758</th>\n",
       "      <td>{'C': 0.00015, 'coef0': 1.5, 'degree': 3, 'gam...</td>\n",
       "      <td>6950.0</td>\n",
       "    </tr>\n",
       "    <tr>\n",
       "      <th>21</th>\n",
       "      <td>{'C': 5e-05, 'coef0': 1, 'degree': 3, 'gamma':...</td>\n",
       "      <td>6900.0</td>\n",
       "    </tr>\n",
       "    <tr>\n",
       "      <th>1312</th>\n",
       "      <td>{'C': 0.0003, 'coef0': 2.5, 'degree': 2, 'gamm...</td>\n",
       "      <td>6640.0</td>\n",
       "    </tr>\n",
       "    <tr>\n",
       "      <th>0</th>\n",
       "      <td>{'C': 5e-05, 'coef0': 1, 'degree': 2, 'gamma':...</td>\n",
       "      <td>4390.0</td>\n",
       "    </tr>\n",
       "  </tbody>\n",
       "</table>\n",
       "</div>"
      ],
      "text/plain": [
       "                                                 params  mean_test_score\n",
       "134   {'C': 5e-05, 'coef0': 2, 'degree': 2, 'gamma':...           7060.0\n",
       "527   {'C': 0.0001, 'coef0': 1.5, 'degree': 2, 'gamm...           7010.0\n",
       "758   {'C': 0.00015, 'coef0': 1.5, 'degree': 3, 'gam...           6950.0\n",
       "21    {'C': 5e-05, 'coef0': 1, 'degree': 3, 'gamma':...           6900.0\n",
       "1312  {'C': 0.0003, 'coef0': 2.5, 'degree': 2, 'gamm...           6640.0\n",
       "0     {'C': 5e-05, 'coef0': 1, 'degree': 2, 'gamma':...           4390.0"
      ]
     },
     "execution_count": 11,
     "metadata": {},
     "output_type": "execute_result"
    }
   ],
   "source": [
    "random_10[['params', 'mean_test_score']]"
   ]
  },
  {
   "cell_type": "code",
   "execution_count": 12,
   "metadata": {},
   "outputs": [
    {
     "data": {
      "image/png": "[encoded data removed]",
      "text/plain": [
       "<Figure size 1000x600 with 1 Axes>"
      ]
     },
     "metadata": {},
     "output_type": "display_data"
    }
   ],
   "source": [
    "import seaborn as sns\n",
    "from matplotlib import pyplot as plt\n",
    "\n",
    "test_scores_melted = random_10.melt(id_vars=['params'], value_vars=[\n",
    "    'split0_test_score', 'split1_test_score', 'split2_test_score', 'split3_test_score', 'split4_test_score'],\n",
    "    var_name='Split', value_name='Test Score')\n",
    "\n",
    "test_scores_melted['Parameter Set Index'] = test_scores_melted.groupby('params').ngroup()\n",
    "\n",
    "\n",
    "\n",
    "plt.figure(figsize=(10, 6))\n",
    "sns.set(font_scale=1.2, style='darkgrid')\n",
    "sns.boxplot(x='Parameter Set Index', y='Test Score', data=test_scores_melted, showmeans=True, meanline=True, meanprops={'color': 'black'})\n",
    "plt.xlabel('Parameter Set Index')\n",
    "plt.ylabel('Test Scores')\n",
    "plt.show()"
   ]
  },
  {
   "cell_type": "markdown",
   "metadata": {},
   "source": [
    "## MLP grid search results"
   ]
  },
  {
   "cell_type": "code",
   "execution_count": 13,
   "metadata": {},
   "outputs": [],
   "source": [
    "df = pd.read_csv('data/mlp_final.csv')\n",
    "df.sort_values('rank_test_score', inplace=True)"
   ]
  },
  {
   "cell_type": "code",
   "execution_count": 14,
   "metadata": {},
   "outputs": [],
   "source": [
    "best_mlp = df[['params', 'split0_test_score', 'split1_test_score', 'split2_test_score', 'split3_test_score', 'split4_test_score', 'mean_test_score']].iloc[0]"
   ]
  },
  {
   "cell_type": "code",
   "execution_count": 15,
   "metadata": {},
   "outputs": [],
   "source": [
    "elements = [0, 30, 50, 70, 90, 119]\n",
    "random_10 = df.iloc[elements]"
   ]
  },
  {
   "cell_type": "code",
   "execution_count": 16,
   "metadata": {},
   "outputs": [
    {
     "data": {
      "text/html": [
       "<div>\n",
       "<style scoped>\n",
       "    .dataframe tbody tr th:only-of-type {\n",
       "        vertical-align: middle;\n",
       "    }\n",
       "\n",
       "    .dataframe tbody tr th {\n",
       "        vertical-align: top;\n",
       "    }\n",
       "\n",
       "    .dataframe thead th {\n",
       "        text-align: right;\n",
       "    }\n",
       "</style>\n",
       "<table border=\"1\" class=\"dataframe\">\n",
       "  <thead>\n",
       "    <tr style=\"text-align: right;\">\n",
       "      <th></th>\n",
       "      <th>params</th>\n",
       "      <th>mean_test_score</th>\n",
       "    </tr>\n",
       "  </thead>\n",
       "  <tbody>\n",
       "    <tr>\n",
       "      <th>36</th>\n",
       "      <td>{'activation': 'relu', 'alpha': 0.1, 'early_st...</td>\n",
       "      <td>6950.0</td>\n",
       "    </tr>\n",
       "    <tr>\n",
       "      <th>9</th>\n",
       "      <td>{'activation': 'relu', 'alpha': 0.0001, 'early...</td>\n",
       "      <td>6780.0</td>\n",
       "    </tr>\n",
       "    <tr>\n",
       "      <th>56</th>\n",
       "      <td>{'activation': 'tanh', 'alpha': 0.001, 'early_...</td>\n",
       "      <td>6730.0</td>\n",
       "    </tr>\n",
       "    <tr>\n",
       "      <th>51</th>\n",
       "      <td>{'activation': 'tanh', 'alpha': 0.001, 'early_...</td>\n",
       "      <td>6410.0</td>\n",
       "    </tr>\n",
       "    <tr>\n",
       "      <th>111</th>\n",
       "      <td>{'activation': 'logistic', 'alpha': 0.1, 'earl...</td>\n",
       "      <td>5030.0</td>\n",
       "    </tr>\n",
       "    <tr>\n",
       "      <th>97</th>\n",
       "      <td>{'activation': 'logistic', 'alpha': 0.001, 'ea...</td>\n",
       "      <td>4790.0</td>\n",
       "    </tr>\n",
       "  </tbody>\n",
       "</table>\n",
       "</div>"
      ],
      "text/plain": [
       "                                                params  mean_test_score\n",
       "36   {'activation': 'relu', 'alpha': 0.1, 'early_st...           6950.0\n",
       "9    {'activation': 'relu', 'alpha': 0.0001, 'early...           6780.0\n",
       "56   {'activation': 'tanh', 'alpha': 0.001, 'early_...           6730.0\n",
       "51   {'activation': 'tanh', 'alpha': 0.001, 'early_...           6410.0\n",
       "111  {'activation': 'logistic', 'alpha': 0.1, 'earl...           5030.0\n",
       "97   {'activation': 'logistic', 'alpha': 0.001, 'ea...           4790.0"
      ]
     },
     "execution_count": 16,
     "metadata": {},
     "output_type": "execute_result"
    }
   ],
   "source": [
    "random_10[['params', 'mean_test_score']]"
   ]
  },
  {
   "cell_type": "code",
   "execution_count": 17,
   "metadata": {},
   "outputs": [
    {
     "data": {
      "image/png": "[encoded data removed]",
      "text/plain": [
       "<Figure size 1000x600 with 1 Axes>"
      ]
     },
     "metadata": {},
     "output_type": "display_data"
    }
   ],
   "source": [
    "import seaborn as sns\n",
    "from matplotlib import pyplot as plt\n",
    "\n",
    "# Creating a new DataFrame suitable for seaborn's boxplot\n",
    "test_scores_melted = random_10.melt(id_vars=['params'], value_vars=[\n",
    "    'split0_test_score', 'split1_test_score', 'split2_test_score', 'split3_test_score', 'split4_test_score'],\n",
    "    var_name='Split', value_name='Test Score')\n",
    "\n",
    "# for each parameter set add column set same index\n",
    "test_scores_melted['Parameter Set Index'] = test_scores_melted.groupby('params').ngroup()\n",
    "\n",
    "\n",
    "\n",
    "# Plotting the boxplots using seaborn\n",
    "plt.figure(figsize=(10, 6))\n",
    "sns.set(font_scale=1.2, style='darkgrid')\n",
    "#show mean as grey line, dont show median\n",
    "sns.boxplot(x='Parameter Set Index', y='Test Score', data=test_scores_melted, showmeans=True, meanline=True, meanprops={'color': 'black'})\n",
    "plt.xlabel('Parameter Set Index')\n",
    "plt.ylabel('Test Scores')\n",
    "plt.show()"
   ]
  },
  {
   "cell_type": "markdown",
   "metadata": {},
   "source": [
    "## Best models comparison"
   ]
  },
  {
   "cell_type": "code",
   "execution_count": 18,
   "metadata": {},
   "outputs": [],
   "source": [
    "best_svm = best_svm[['split0_test_score', 'split1_test_score', 'split2_test_score', 'split3_test_score', 'split4_test_score']]\n",
    "best_svm['model']='SVM'\n",
    "best_svm_df = pd.DataFrame(best_svm).T"
   ]
  },
  {
   "cell_type": "code",
   "execution_count": 19,
   "metadata": {},
   "outputs": [],
   "source": [
    "best_mlp = best_mlp[['split0_test_score', 'split1_test_score', 'split2_test_score', 'split3_test_score', 'split4_test_score']]\n",
    "best_mlp['model']='MLP'\n",
    "best_mlp_df = pd.DataFrame(best_mlp).T"
   ]
  },
  {
   "cell_type": "code",
   "execution_count": 20,
   "metadata": {},
   "outputs": [
    {
     "name": "stdout",
     "output_type": "stream",
     "text": [
      "Number of customers who took the offer:  151\n",
      "Number of variables used:  4\n",
      "Number of customers who took the offer:  147\n",
      "Number of variables used:  4\n",
      "Number of customers who took the offer:  160\n",
      "Number of variables used:  4\n",
      "Number of customers who took the offer:  154\n",
      "Number of variables used:  4\n",
      "Number of customers who took the offer:  162\n",
      "Number of variables used:  4\n"
     ]
    }
   ],
   "source": [
    "from sklearn.discriminant_analysis import QuadraticDiscriminantAnalysis\n",
    "from sklearn.model_selection import cross_val_score\n",
    "\n",
    "qda = QuadraticDiscriminantAnalysis()\n",
    "qda_scores = cross_val_score(qda, X_train_scaled, y_train, cv=5, scoring=evaluate)"
   ]
  },
  {
   "cell_type": "code",
   "execution_count": 21,
   "metadata": {},
   "outputs": [],
   "source": [
    "qda_scores_df = pd.DataFrame([qda_scores], columns=['split0_test_score', 'split1_test_score', 'split2_test_score', 'split3_test_score', 'split4_test_score'])\n",
    "qda_scores_df['model'] = 'QDA'"
   ]
  },
  {
   "cell_type": "code",
   "execution_count": 22,
   "metadata": {},
   "outputs": [],
   "source": [
    "all_scores = pd.concat([best_svm_df, qda_scores_df, best_mlp_df], ignore_index=True)"
   ]
  },
  {
   "cell_type": "code",
   "execution_count": 23,
   "metadata": {},
   "outputs": [],
   "source": [
    "all_scores_melted = all_scores.melt(id_vars=['model'], value_vars=[\n",
    "    'split0_test_score', 'split1_test_score', 'split2_test_score', 'split3_test_score', 'split4_test_score'],\n",
    "    var_name='Split', value_name='Test Score')"
   ]
  },
  {
   "cell_type": "code",
   "execution_count": 24,
   "metadata": {},
   "outputs": [
    {
     "data": {
      "image/png": "[encoded data removed]",
      "text/plain": [
       "<Figure size 1000x600 with 1 Axes>"
      ]
     },
     "metadata": {},
     "output_type": "display_data"
    }
   ],
   "source": [
    "plt.figure(figsize=(10, 6))\n",
    "sns.set(font_scale=1.2, style='darkgrid')\n",
    "sns.boxplot(x='model', y='Test Score', data=all_scores_melted, showmeans=True, meanline=True, meanprops={'color': 'black'})\n",
    "plt.xlabel('Model')\n",
    "plt.ylabel('Test Scores')\n",
    "plt.show()"
   ]
  }
 ],
 "metadata": {
  "kernelspec": {
   "display_name": "test",
   "language": "python",
   "name": "python3"
  },
  "language_info": {
   "codemirror_mode": {
    "name": "ipython",
    "version": 3
   },
   "file_extension": ".py",
   "mimetype": "text/x-python",
   "name": "python",
   "nbconvert_exporter": "python",
   "pygments_lexer": "ipython3",
   "version": "3.9.16"
  }
 },
 "nbformat": 4,
 "nbformat_minor": 2
}
